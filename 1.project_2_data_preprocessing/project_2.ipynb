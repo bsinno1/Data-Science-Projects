{
 "cells": [
  {
   "cell_type": "markdown",
   "id": "4e88d82e",
   "metadata": {},
   "source": [
    "In this version of the project, I replace the NaNs first, then I drop the duplicates.  I ended with cleaning and hypothesis testing.  The results of the chi-square test in this notebook are very similar to those in notebook 1.  It does not seem to be the case that replacing NaN first and dropping duplicates before cleaning the variables affected the results of the hypotheses tests. \n",
    "\n",
    "Interestingly, the encoded dataframe in this notebook includes 17,748 observations whereas in the first notebook, I had 15,736.  This is due the the cleaning of days_employed before replacing missing values. When that was done, all the observations less than 23k were dropped in both notebooks.  However, in the current notebook, the replaced missing values remained.  I guess there is always a tradeoff.  In my opinion the flow of the method in notebook 1 is superior because the median in the pivot tables (had they existed) would have been based on realistic values.  Whereas in this notebook, although we gained observations, their meaning is questionable because they are based on medians that are unrealistic."
   ]
  },
  {
   "cell_type": "code",
   "execution_count": 1,
   "id": "fd100bc9",
   "metadata": {},
   "outputs": [
    {
     "data": {
      "text/html": [
       "<div>\n",
       "<style scoped>\n",
       "    .dataframe tbody tr th:only-of-type {\n",
       "        vertical-align: middle;\n",
       "    }\n",
       "\n",
       "    .dataframe tbody tr th {\n",
       "        vertical-align: top;\n",
       "    }\n",
       "\n",
       "    .dataframe thead th {\n",
       "        text-align: right;\n",
       "    }\n",
       "</style>\n",
       "<table border=\"1\" class=\"dataframe\">\n",
       "  <thead>\n",
       "    <tr style=\"text-align: right;\">\n",
       "      <th></th>\n",
       "      <th>children</th>\n",
       "      <th>days_employed</th>\n",
       "      <th>dob_years</th>\n",
       "      <th>education</th>\n",
       "      <th>education_id</th>\n",
       "      <th>family_status</th>\n",
       "      <th>family_status_id</th>\n",
       "      <th>gender</th>\n",
       "      <th>income_type</th>\n",
       "      <th>debt</th>\n",
       "      <th>total_income</th>\n",
       "      <th>purpose</th>\n",
       "    </tr>\n",
       "  </thead>\n",
       "  <tbody>\n",
       "    <tr>\n",
       "      <th>0</th>\n",
       "      <td>1</td>\n",
       "      <td>-8437.673028</td>\n",
       "      <td>42</td>\n",
       "      <td>bachelor's degree</td>\n",
       "      <td>0</td>\n",
       "      <td>married</td>\n",
       "      <td>0</td>\n",
       "      <td>F</td>\n",
       "      <td>employee</td>\n",
       "      <td>0</td>\n",
       "      <td>40620.102</td>\n",
       "      <td>purchase of the house</td>\n",
       "    </tr>\n",
       "    <tr>\n",
       "      <th>1</th>\n",
       "      <td>1</td>\n",
       "      <td>-4024.803754</td>\n",
       "      <td>36</td>\n",
       "      <td>secondary education</td>\n",
       "      <td>1</td>\n",
       "      <td>married</td>\n",
       "      <td>0</td>\n",
       "      <td>F</td>\n",
       "      <td>employee</td>\n",
       "      <td>0</td>\n",
       "      <td>17932.802</td>\n",
       "      <td>car purchase</td>\n",
       "    </tr>\n",
       "    <tr>\n",
       "      <th>2</th>\n",
       "      <td>0</td>\n",
       "      <td>-5623.422610</td>\n",
       "      <td>33</td>\n",
       "      <td>Secondary Education</td>\n",
       "      <td>1</td>\n",
       "      <td>married</td>\n",
       "      <td>0</td>\n",
       "      <td>M</td>\n",
       "      <td>employee</td>\n",
       "      <td>0</td>\n",
       "      <td>23341.752</td>\n",
       "      <td>purchase of the house</td>\n",
       "    </tr>\n",
       "    <tr>\n",
       "      <th>3</th>\n",
       "      <td>3</td>\n",
       "      <td>-4124.747207</td>\n",
       "      <td>32</td>\n",
       "      <td>secondary education</td>\n",
       "      <td>1</td>\n",
       "      <td>married</td>\n",
       "      <td>0</td>\n",
       "      <td>M</td>\n",
       "      <td>employee</td>\n",
       "      <td>0</td>\n",
       "      <td>42820.568</td>\n",
       "      <td>supplementary education</td>\n",
       "    </tr>\n",
       "    <tr>\n",
       "      <th>4</th>\n",
       "      <td>0</td>\n",
       "      <td>340266.072047</td>\n",
       "      <td>53</td>\n",
       "      <td>secondary education</td>\n",
       "      <td>1</td>\n",
       "      <td>civil partnership</td>\n",
       "      <td>1</td>\n",
       "      <td>F</td>\n",
       "      <td>retiree</td>\n",
       "      <td>0</td>\n",
       "      <td>25378.572</td>\n",
       "      <td>to have a wedding</td>\n",
       "    </tr>\n",
       "    <tr>\n",
       "      <th>5</th>\n",
       "      <td>0</td>\n",
       "      <td>-926.185831</td>\n",
       "      <td>27</td>\n",
       "      <td>bachelor's degree</td>\n",
       "      <td>0</td>\n",
       "      <td>civil partnership</td>\n",
       "      <td>1</td>\n",
       "      <td>M</td>\n",
       "      <td>business</td>\n",
       "      <td>0</td>\n",
       "      <td>40922.170</td>\n",
       "      <td>purchase of the house</td>\n",
       "    </tr>\n",
       "    <tr>\n",
       "      <th>6</th>\n",
       "      <td>0</td>\n",
       "      <td>-2879.202052</td>\n",
       "      <td>43</td>\n",
       "      <td>bachelor's degree</td>\n",
       "      <td>0</td>\n",
       "      <td>married</td>\n",
       "      <td>0</td>\n",
       "      <td>F</td>\n",
       "      <td>business</td>\n",
       "      <td>0</td>\n",
       "      <td>38484.156</td>\n",
       "      <td>housing transactions</td>\n",
       "    </tr>\n",
       "    <tr>\n",
       "      <th>7</th>\n",
       "      <td>0</td>\n",
       "      <td>-152.779569</td>\n",
       "      <td>50</td>\n",
       "      <td>SECONDARY EDUCATION</td>\n",
       "      <td>1</td>\n",
       "      <td>married</td>\n",
       "      <td>0</td>\n",
       "      <td>M</td>\n",
       "      <td>employee</td>\n",
       "      <td>0</td>\n",
       "      <td>21731.829</td>\n",
       "      <td>education</td>\n",
       "    </tr>\n",
       "    <tr>\n",
       "      <th>8</th>\n",
       "      <td>2</td>\n",
       "      <td>-6929.865299</td>\n",
       "      <td>35</td>\n",
       "      <td>BACHELOR'S DEGREE</td>\n",
       "      <td>0</td>\n",
       "      <td>civil partnership</td>\n",
       "      <td>1</td>\n",
       "      <td>F</td>\n",
       "      <td>employee</td>\n",
       "      <td>0</td>\n",
       "      <td>15337.093</td>\n",
       "      <td>having a wedding</td>\n",
       "    </tr>\n",
       "    <tr>\n",
       "      <th>9</th>\n",
       "      <td>0</td>\n",
       "      <td>-2188.756445</td>\n",
       "      <td>41</td>\n",
       "      <td>secondary education</td>\n",
       "      <td>1</td>\n",
       "      <td>married</td>\n",
       "      <td>0</td>\n",
       "      <td>M</td>\n",
       "      <td>employee</td>\n",
       "      <td>0</td>\n",
       "      <td>23108.150</td>\n",
       "      <td>purchase of the house for my family</td>\n",
       "    </tr>\n",
       "  </tbody>\n",
       "</table>\n",
       "</div>"
      ],
      "text/plain": [
       "   children  days_employed  dob_years            education  education_id  \\\n",
       "0         1   -8437.673028         42    bachelor's degree             0   \n",
       "1         1   -4024.803754         36  secondary education             1   \n",
       "2         0   -5623.422610         33  Secondary Education             1   \n",
       "3         3   -4124.747207         32  secondary education             1   \n",
       "4         0  340266.072047         53  secondary education             1   \n",
       "5         0    -926.185831         27    bachelor's degree             0   \n",
       "6         0   -2879.202052         43    bachelor's degree             0   \n",
       "7         0    -152.779569         50  SECONDARY EDUCATION             1   \n",
       "8         2   -6929.865299         35    BACHELOR'S DEGREE             0   \n",
       "9         0   -2188.756445         41  secondary education             1   \n",
       "\n",
       "       family_status  family_status_id gender income_type  debt  total_income  \\\n",
       "0            married                 0      F    employee     0     40620.102   \n",
       "1            married                 0      F    employee     0     17932.802   \n",
       "2            married                 0      M    employee     0     23341.752   \n",
       "3            married                 0      M    employee     0     42820.568   \n",
       "4  civil partnership                 1      F     retiree     0     25378.572   \n",
       "5  civil partnership                 1      M    business     0     40922.170   \n",
       "6            married                 0      F    business     0     38484.156   \n",
       "7            married                 0      M    employee     0     21731.829   \n",
       "8  civil partnership                 1      F    employee     0     15337.093   \n",
       "9            married                 0      M    employee     0     23108.150   \n",
       "\n",
       "                               purpose  \n",
       "0                purchase of the house  \n",
       "1                         car purchase  \n",
       "2                purchase of the house  \n",
       "3              supplementary education  \n",
       "4                    to have a wedding  \n",
       "5                purchase of the house  \n",
       "6                 housing transactions  \n",
       "7                            education  \n",
       "8                     having a wedding  \n",
       "9  purchase of the house for my family  "
      ]
     },
     "execution_count": 1,
     "metadata": {},
     "output_type": "execute_result"
    }
   ],
   "source": [
    "import pandas as pd\n",
    " \n",
    "try:\n",
    "    credit = pd.read_csv(\"credit_scoring_eng.csv\")\n",
    "except:\n",
    "    credit = pd.read_csv('/datasets/credit_scoring_eng.csv') \n",
    "credit.head(10)"
   ]
  },
  {
   "cell_type": "code",
   "execution_count": 2,
   "id": "8ea4edf2",
   "metadata": {},
   "outputs": [
    {
     "name": "stdout",
     "output_type": "stream",
     "text": [
      "<class 'pandas.core.frame.DataFrame'>\n",
      "RangeIndex: 21525 entries, 0 to 21524\n",
      "Data columns (total 12 columns):\n",
      " #   Column            Non-Null Count  Dtype  \n",
      "---  ------            --------------  -----  \n",
      " 0   children          21525 non-null  int64  \n",
      " 1   days_employed     19351 non-null  float64\n",
      " 2   dob_years         21525 non-null  int64  \n",
      " 3   education         21525 non-null  object \n",
      " 4   education_id      21525 non-null  int64  \n",
      " 5   family_status     21525 non-null  object \n",
      " 6   family_status_id  21525 non-null  int64  \n",
      " 7   gender            21525 non-null  object \n",
      " 8   income_type       21525 non-null  object \n",
      " 9   debt              21525 non-null  int64  \n",
      " 10  total_income      19351 non-null  float64\n",
      " 11  purpose           21525 non-null  object \n",
      "dtypes: float64(2), int64(5), object(5)\n",
      "memory usage: 2.0+ MB\n"
     ]
    }
   ],
   "source": [
    "credit.info()"
   ]
  },
  {
   "cell_type": "markdown",
   "id": "4b417d5f",
   "metadata": {},
   "source": [
    "Conclusion: There are 11 variables in total.  Some are integers, others are floats and the rest are objects.  Both total_income and days_employed have the same amount of missing values, though we cannot tell if the same rows have the same values.  If that is the case, these missing data are not random and could be problematic."
   ]
  },
  {
   "cell_type": "code",
   "execution_count": 3,
   "id": "3f7415fc",
   "metadata": {
    "scrolled": true
   },
   "outputs": [
    {
     "data": {
      "text/html": [
       "<div>\n",
       "<style scoped>\n",
       "    .dataframe tbody tr th:only-of-type {\n",
       "        vertical-align: middle;\n",
       "    }\n",
       "\n",
       "    .dataframe tbody tr th {\n",
       "        vertical-align: top;\n",
       "    }\n",
       "\n",
       "    .dataframe thead th {\n",
       "        text-align: right;\n",
       "    }\n",
       "</style>\n",
       "<table border=\"1\" class=\"dataframe\">\n",
       "  <thead>\n",
       "    <tr style=\"text-align: right;\">\n",
       "      <th></th>\n",
       "      <th>children</th>\n",
       "      <th>days_employed</th>\n",
       "      <th>dob_years</th>\n",
       "      <th>education_id</th>\n",
       "      <th>family_status_id</th>\n",
       "      <th>debt</th>\n",
       "      <th>total_income</th>\n",
       "    </tr>\n",
       "  </thead>\n",
       "  <tbody>\n",
       "    <tr>\n",
       "      <th>count</th>\n",
       "      <td>21525.000000</td>\n",
       "      <td>19351.000000</td>\n",
       "      <td>21525.000000</td>\n",
       "      <td>21525.000000</td>\n",
       "      <td>21525.000000</td>\n",
       "      <td>21525.000000</td>\n",
       "      <td>19351.000000</td>\n",
       "    </tr>\n",
       "    <tr>\n",
       "      <th>mean</th>\n",
       "      <td>0.538908</td>\n",
       "      <td>63046.497661</td>\n",
       "      <td>43.293380</td>\n",
       "      <td>0.817236</td>\n",
       "      <td>0.972544</td>\n",
       "      <td>0.080883</td>\n",
       "      <td>26787.568355</td>\n",
       "    </tr>\n",
       "    <tr>\n",
       "      <th>std</th>\n",
       "      <td>1.381587</td>\n",
       "      <td>140827.311974</td>\n",
       "      <td>12.574584</td>\n",
       "      <td>0.548138</td>\n",
       "      <td>1.420324</td>\n",
       "      <td>0.272661</td>\n",
       "      <td>16475.450632</td>\n",
       "    </tr>\n",
       "    <tr>\n",
       "      <th>min</th>\n",
       "      <td>-1.000000</td>\n",
       "      <td>-18388.949901</td>\n",
       "      <td>0.000000</td>\n",
       "      <td>0.000000</td>\n",
       "      <td>0.000000</td>\n",
       "      <td>0.000000</td>\n",
       "      <td>3306.762000</td>\n",
       "    </tr>\n",
       "    <tr>\n",
       "      <th>25%</th>\n",
       "      <td>0.000000</td>\n",
       "      <td>-2747.423625</td>\n",
       "      <td>33.000000</td>\n",
       "      <td>1.000000</td>\n",
       "      <td>0.000000</td>\n",
       "      <td>0.000000</td>\n",
       "      <td>16488.504500</td>\n",
       "    </tr>\n",
       "    <tr>\n",
       "      <th>50%</th>\n",
       "      <td>0.000000</td>\n",
       "      <td>-1203.369529</td>\n",
       "      <td>42.000000</td>\n",
       "      <td>1.000000</td>\n",
       "      <td>0.000000</td>\n",
       "      <td>0.000000</td>\n",
       "      <td>23202.870000</td>\n",
       "    </tr>\n",
       "    <tr>\n",
       "      <th>75%</th>\n",
       "      <td>1.000000</td>\n",
       "      <td>-291.095954</td>\n",
       "      <td>53.000000</td>\n",
       "      <td>1.000000</td>\n",
       "      <td>1.000000</td>\n",
       "      <td>0.000000</td>\n",
       "      <td>32549.611000</td>\n",
       "    </tr>\n",
       "    <tr>\n",
       "      <th>max</th>\n",
       "      <td>20.000000</td>\n",
       "      <td>401755.400475</td>\n",
       "      <td>75.000000</td>\n",
       "      <td>4.000000</td>\n",
       "      <td>4.000000</td>\n",
       "      <td>1.000000</td>\n",
       "      <td>362496.645000</td>\n",
       "    </tr>\n",
       "  </tbody>\n",
       "</table>\n",
       "</div>"
      ],
      "text/plain": [
       "           children  days_employed     dob_years  education_id  \\\n",
       "count  21525.000000   19351.000000  21525.000000  21525.000000   \n",
       "mean       0.538908   63046.497661     43.293380      0.817236   \n",
       "std        1.381587  140827.311974     12.574584      0.548138   \n",
       "min       -1.000000  -18388.949901      0.000000      0.000000   \n",
       "25%        0.000000   -2747.423625     33.000000      1.000000   \n",
       "50%        0.000000   -1203.369529     42.000000      1.000000   \n",
       "75%        1.000000    -291.095954     53.000000      1.000000   \n",
       "max       20.000000  401755.400475     75.000000      4.000000   \n",
       "\n",
       "       family_status_id          debt   total_income  \n",
       "count      21525.000000  21525.000000   19351.000000  \n",
       "mean           0.972544      0.080883   26787.568355  \n",
       "std            1.420324      0.272661   16475.450632  \n",
       "min            0.000000      0.000000    3306.762000  \n",
       "25%            0.000000      0.000000   16488.504500  \n",
       "50%            0.000000      0.000000   23202.870000  \n",
       "75%            1.000000      0.000000   32549.611000  \n",
       "max            4.000000      1.000000  362496.645000  "
      ]
     },
     "execution_count": 3,
     "metadata": {},
     "output_type": "execute_result"
    }
   ],
   "source": [
    "credit.describe() "
   ]
  },
  {
   "cell_type": "markdown",
   "id": "0558f1b3",
   "metadata": {},
   "source": [
    "Conclusion: Variable \"children\" is problematic because it has negative values and values above 20.  Though it is not impossible for a family to have 20 kids, more investigation should reveal if this is an error or just an outlier. Days employed is too problematic.  401755/365 is 1100 years; obviously there is a problem here.  No entry should be greater than say 60*365 or around 22000.  Also, negative days employed we are told do not refer to unemployment or retirement hence they should be fixed by taking their absolute value.  \"dob_years\" we are told refers to age in years, so any age below 18, the working age, is problematic.  We have age 0.  total_income refers to total individual income.  Its distribution is problematic.  The mean of 20000 observation is 26k when the max is 362k.  This data is skewed and one should look at its std to have an idea of the amount of skewness."
   ]
  },
  {
   "cell_type": "markdown",
   "id": "d22a6ebb",
   "metadata": {},
   "source": [
    "Following the project guidelines before curating the data:\n",
    "1- lower case\n",
    "2- take absolute value of income\n",
    "3- create pivot tables based on the median to replace NaNs in some variables\n",
    "4- create a function that extracts median values based on the conditions set in the pivot tables.\n",
    "5- categorize"
   ]
  },
  {
   "cell_type": "code",
   "execution_count": 4,
   "id": "3cd0a591",
   "metadata": {
    "scrolled": true
   },
   "outputs": [
    {
     "data": {
      "text/html": [
       "<div>\n",
       "<style scoped>\n",
       "    .dataframe tbody tr th:only-of-type {\n",
       "        vertical-align: middle;\n",
       "    }\n",
       "\n",
       "    .dataframe tbody tr th {\n",
       "        vertical-align: top;\n",
       "    }\n",
       "\n",
       "    .dataframe thead th {\n",
       "        text-align: right;\n",
       "    }\n",
       "</style>\n",
       "<table border=\"1\" class=\"dataframe\">\n",
       "  <thead>\n",
       "    <tr style=\"text-align: right;\">\n",
       "      <th></th>\n",
       "      <th>children</th>\n",
       "      <th>days_employed</th>\n",
       "      <th>dob_years</th>\n",
       "      <th>education</th>\n",
       "      <th>education_id</th>\n",
       "      <th>family_status</th>\n",
       "      <th>family_status_id</th>\n",
       "      <th>gender</th>\n",
       "      <th>income_type</th>\n",
       "      <th>debt</th>\n",
       "      <th>total_income</th>\n",
       "      <th>purpose</th>\n",
       "    </tr>\n",
       "  </thead>\n",
       "  <tbody>\n",
       "    <tr>\n",
       "      <th>0</th>\n",
       "      <td>1</td>\n",
       "      <td>-8437.673028</td>\n",
       "      <td>42</td>\n",
       "      <td>bachelor's degree</td>\n",
       "      <td>0</td>\n",
       "      <td>married</td>\n",
       "      <td>0</td>\n",
       "      <td>f</td>\n",
       "      <td>employee</td>\n",
       "      <td>0</td>\n",
       "      <td>40620.102</td>\n",
       "      <td>purchase of the house</td>\n",
       "    </tr>\n",
       "    <tr>\n",
       "      <th>1</th>\n",
       "      <td>1</td>\n",
       "      <td>-4024.803754</td>\n",
       "      <td>36</td>\n",
       "      <td>secondary education</td>\n",
       "      <td>1</td>\n",
       "      <td>married</td>\n",
       "      <td>0</td>\n",
       "      <td>f</td>\n",
       "      <td>employee</td>\n",
       "      <td>0</td>\n",
       "      <td>17932.802</td>\n",
       "      <td>car purchase</td>\n",
       "    </tr>\n",
       "    <tr>\n",
       "      <th>2</th>\n",
       "      <td>0</td>\n",
       "      <td>-5623.422610</td>\n",
       "      <td>33</td>\n",
       "      <td>secondary education</td>\n",
       "      <td>1</td>\n",
       "      <td>married</td>\n",
       "      <td>0</td>\n",
       "      <td>m</td>\n",
       "      <td>employee</td>\n",
       "      <td>0</td>\n",
       "      <td>23341.752</td>\n",
       "      <td>purchase of the house</td>\n",
       "    </tr>\n",
       "    <tr>\n",
       "      <th>3</th>\n",
       "      <td>3</td>\n",
       "      <td>-4124.747207</td>\n",
       "      <td>32</td>\n",
       "      <td>secondary education</td>\n",
       "      <td>1</td>\n",
       "      <td>married</td>\n",
       "      <td>0</td>\n",
       "      <td>m</td>\n",
       "      <td>employee</td>\n",
       "      <td>0</td>\n",
       "      <td>42820.568</td>\n",
       "      <td>supplementary education</td>\n",
       "    </tr>\n",
       "    <tr>\n",
       "      <th>4</th>\n",
       "      <td>0</td>\n",
       "      <td>340266.072047</td>\n",
       "      <td>53</td>\n",
       "      <td>secondary education</td>\n",
       "      <td>1</td>\n",
       "      <td>civil partnership</td>\n",
       "      <td>1</td>\n",
       "      <td>f</td>\n",
       "      <td>retiree</td>\n",
       "      <td>0</td>\n",
       "      <td>25378.572</td>\n",
       "      <td>to have a wedding</td>\n",
       "    </tr>\n",
       "  </tbody>\n",
       "</table>\n",
       "</div>"
      ],
      "text/plain": [
       "   children  days_employed  dob_years            education  education_id  \\\n",
       "0         1   -8437.673028         42    bachelor's degree             0   \n",
       "1         1   -4024.803754         36  secondary education             1   \n",
       "2         0   -5623.422610         33  secondary education             1   \n",
       "3         3   -4124.747207         32  secondary education             1   \n",
       "4         0  340266.072047         53  secondary education             1   \n",
       "\n",
       "       family_status  family_status_id gender income_type  debt  total_income  \\\n",
       "0            married                 0      f    employee     0     40620.102   \n",
       "1            married                 0      f    employee     0     17932.802   \n",
       "2            married                 0      m    employee     0     23341.752   \n",
       "3            married                 0      m    employee     0     42820.568   \n",
       "4  civil partnership                 1      f     retiree     0     25378.572   \n",
       "\n",
       "                   purpose  \n",
       "0    purchase of the house  \n",
       "1             car purchase  \n",
       "2    purchase of the house  \n",
       "3  supplementary education  \n",
       "4        to have a wedding  "
      ]
     },
     "execution_count": 4,
     "metadata": {},
     "output_type": "execute_result"
    }
   ],
   "source": [
    "list = [\"education\", \"family_status\", \"gender\", \"income_type\", \"purpose\"]\n",
    "\n",
    "for i in list:\n",
    "    credit[i] = credit[i].str.lower()\n",
    "credit.head()"
   ]
  },
  {
   "cell_type": "code",
   "execution_count": 5,
   "id": "c07c80f6",
   "metadata": {},
   "outputs": [],
   "source": [
    "credit['days_employed'] = abs(credit['days_employed'])"
   ]
  },
  {
   "cell_type": "markdown",
   "id": "694cb363",
   "metadata": {},
   "source": [
    "Steps for tackling the missing data:\n",
    "\n",
    "1- logic for income imputation: Political science theory posits that income is a function of education, gender, age, but also other variables not in our dataset like race.  Therefore, any imputation of income should account to these variables.\n",
    "\n",
    "2- logic for days_employment imputation: employees that miss work is due to low wages and children. These are often women.\n",
    "\n",
    "3- I create a pivot table based on the median.  This will allow me to impute values based on other variables.  \n",
    "\n",
    "4- I then create a function that loops over the dataframe and replaces NaN values with values from the pivot table."
   ]
  },
  {
   "cell_type": "code",
   "execution_count": 6,
   "id": "fca259b5",
   "metadata": {},
   "outputs": [
    {
     "data": {
      "text/plain": [
       "children               0\n",
       "days_employed       2174\n",
       "dob_years              0\n",
       "education              0\n",
       "education_id           0\n",
       "family_status          0\n",
       "family_status_id       0\n",
       "gender                 0\n",
       "income_type            0\n",
       "debt                   0\n",
       "total_income        2174\n",
       "purpose                0\n",
       "dtype: int64"
      ]
     },
     "execution_count": 6,
     "metadata": {},
     "output_type": "execute_result"
    }
   ],
   "source": [
    "credit.isnull().sum()"
   ]
  },
  {
   "cell_type": "markdown",
   "id": "b650c9d5",
   "metadata": {},
   "source": [
    "The 2 variables that have missing data are \"days-employed\" and \"total_income\"."
   ]
  },
  {
   "cell_type": "code",
   "execution_count": 7,
   "id": "4a4eb2e4",
   "metadata": {},
   "outputs": [
    {
     "data": {
      "text/html": [
       "<div>\n",
       "<style scoped>\n",
       "    .dataframe tbody tr th:only-of-type {\n",
       "        vertical-align: middle;\n",
       "    }\n",
       "\n",
       "    .dataframe tbody tr th {\n",
       "        vertical-align: top;\n",
       "    }\n",
       "\n",
       "    .dataframe thead th {\n",
       "        text-align: right;\n",
       "    }\n",
       "</style>\n",
       "<table border=\"1\" class=\"dataframe\">\n",
       "  <thead>\n",
       "    <tr style=\"text-align: right;\">\n",
       "      <th></th>\n",
       "      <th>children</th>\n",
       "      <th>days_employed</th>\n",
       "      <th>dob_years</th>\n",
       "      <th>education</th>\n",
       "      <th>education_id</th>\n",
       "      <th>family_status</th>\n",
       "      <th>family_status_id</th>\n",
       "      <th>gender</th>\n",
       "      <th>income_type</th>\n",
       "      <th>debt</th>\n",
       "      <th>total_income</th>\n",
       "      <th>purpose</th>\n",
       "    </tr>\n",
       "  </thead>\n",
       "  <tbody>\n",
       "    <tr>\n",
       "      <th>12</th>\n",
       "      <td>0</td>\n",
       "      <td>NaN</td>\n",
       "      <td>65</td>\n",
       "      <td>secondary education</td>\n",
       "      <td>1</td>\n",
       "      <td>civil partnership</td>\n",
       "      <td>1</td>\n",
       "      <td>m</td>\n",
       "      <td>retiree</td>\n",
       "      <td>0</td>\n",
       "      <td>NaN</td>\n",
       "      <td>to have a wedding</td>\n",
       "    </tr>\n",
       "    <tr>\n",
       "      <th>26</th>\n",
       "      <td>0</td>\n",
       "      <td>NaN</td>\n",
       "      <td>41</td>\n",
       "      <td>secondary education</td>\n",
       "      <td>1</td>\n",
       "      <td>married</td>\n",
       "      <td>0</td>\n",
       "      <td>m</td>\n",
       "      <td>civil servant</td>\n",
       "      <td>0</td>\n",
       "      <td>NaN</td>\n",
       "      <td>education</td>\n",
       "    </tr>\n",
       "    <tr>\n",
       "      <th>29</th>\n",
       "      <td>0</td>\n",
       "      <td>NaN</td>\n",
       "      <td>63</td>\n",
       "      <td>secondary education</td>\n",
       "      <td>1</td>\n",
       "      <td>unmarried</td>\n",
       "      <td>4</td>\n",
       "      <td>f</td>\n",
       "      <td>retiree</td>\n",
       "      <td>0</td>\n",
       "      <td>NaN</td>\n",
       "      <td>building a real estate</td>\n",
       "    </tr>\n",
       "    <tr>\n",
       "      <th>41</th>\n",
       "      <td>0</td>\n",
       "      <td>NaN</td>\n",
       "      <td>50</td>\n",
       "      <td>secondary education</td>\n",
       "      <td>1</td>\n",
       "      <td>married</td>\n",
       "      <td>0</td>\n",
       "      <td>f</td>\n",
       "      <td>civil servant</td>\n",
       "      <td>0</td>\n",
       "      <td>NaN</td>\n",
       "      <td>second-hand car purchase</td>\n",
       "    </tr>\n",
       "    <tr>\n",
       "      <th>55</th>\n",
       "      <td>0</td>\n",
       "      <td>NaN</td>\n",
       "      <td>54</td>\n",
       "      <td>secondary education</td>\n",
       "      <td>1</td>\n",
       "      <td>civil partnership</td>\n",
       "      <td>1</td>\n",
       "      <td>f</td>\n",
       "      <td>retiree</td>\n",
       "      <td>1</td>\n",
       "      <td>NaN</td>\n",
       "      <td>to have a wedding</td>\n",
       "    </tr>\n",
       "    <tr>\n",
       "      <th>...</th>\n",
       "      <td>...</td>\n",
       "      <td>...</td>\n",
       "      <td>...</td>\n",
       "      <td>...</td>\n",
       "      <td>...</td>\n",
       "      <td>...</td>\n",
       "      <td>...</td>\n",
       "      <td>...</td>\n",
       "      <td>...</td>\n",
       "      <td>...</td>\n",
       "      <td>...</td>\n",
       "      <td>...</td>\n",
       "    </tr>\n",
       "    <tr>\n",
       "      <th>21489</th>\n",
       "      <td>2</td>\n",
       "      <td>NaN</td>\n",
       "      <td>47</td>\n",
       "      <td>secondary education</td>\n",
       "      <td>1</td>\n",
       "      <td>married</td>\n",
       "      <td>0</td>\n",
       "      <td>m</td>\n",
       "      <td>business</td>\n",
       "      <td>0</td>\n",
       "      <td>NaN</td>\n",
       "      <td>purchase of a car</td>\n",
       "    </tr>\n",
       "    <tr>\n",
       "      <th>21495</th>\n",
       "      <td>1</td>\n",
       "      <td>NaN</td>\n",
       "      <td>50</td>\n",
       "      <td>secondary education</td>\n",
       "      <td>1</td>\n",
       "      <td>civil partnership</td>\n",
       "      <td>1</td>\n",
       "      <td>f</td>\n",
       "      <td>employee</td>\n",
       "      <td>0</td>\n",
       "      <td>NaN</td>\n",
       "      <td>wedding ceremony</td>\n",
       "    </tr>\n",
       "    <tr>\n",
       "      <th>21497</th>\n",
       "      <td>0</td>\n",
       "      <td>NaN</td>\n",
       "      <td>48</td>\n",
       "      <td>bachelor's degree</td>\n",
       "      <td>0</td>\n",
       "      <td>married</td>\n",
       "      <td>0</td>\n",
       "      <td>f</td>\n",
       "      <td>business</td>\n",
       "      <td>0</td>\n",
       "      <td>NaN</td>\n",
       "      <td>building a property</td>\n",
       "    </tr>\n",
       "    <tr>\n",
       "      <th>21502</th>\n",
       "      <td>1</td>\n",
       "      <td>NaN</td>\n",
       "      <td>42</td>\n",
       "      <td>secondary education</td>\n",
       "      <td>1</td>\n",
       "      <td>married</td>\n",
       "      <td>0</td>\n",
       "      <td>f</td>\n",
       "      <td>employee</td>\n",
       "      <td>0</td>\n",
       "      <td>NaN</td>\n",
       "      <td>building a real estate</td>\n",
       "    </tr>\n",
       "    <tr>\n",
       "      <th>21510</th>\n",
       "      <td>2</td>\n",
       "      <td>NaN</td>\n",
       "      <td>28</td>\n",
       "      <td>secondary education</td>\n",
       "      <td>1</td>\n",
       "      <td>married</td>\n",
       "      <td>0</td>\n",
       "      <td>f</td>\n",
       "      <td>employee</td>\n",
       "      <td>0</td>\n",
       "      <td>NaN</td>\n",
       "      <td>car purchase</td>\n",
       "    </tr>\n",
       "  </tbody>\n",
       "</table>\n",
       "<p>2174 rows × 12 columns</p>\n",
       "</div>"
      ],
      "text/plain": [
       "       children  days_employed  dob_years            education  education_id  \\\n",
       "12            0            NaN         65  secondary education             1   \n",
       "26            0            NaN         41  secondary education             1   \n",
       "29            0            NaN         63  secondary education             1   \n",
       "41            0            NaN         50  secondary education             1   \n",
       "55            0            NaN         54  secondary education             1   \n",
       "...         ...            ...        ...                  ...           ...   \n",
       "21489         2            NaN         47  secondary education             1   \n",
       "21495         1            NaN         50  secondary education             1   \n",
       "21497         0            NaN         48    bachelor's degree             0   \n",
       "21502         1            NaN         42  secondary education             1   \n",
       "21510         2            NaN         28  secondary education             1   \n",
       "\n",
       "           family_status  family_status_id gender    income_type  debt  \\\n",
       "12     civil partnership                 1      m        retiree     0   \n",
       "26               married                 0      m  civil servant     0   \n",
       "29             unmarried                 4      f        retiree     0   \n",
       "41               married                 0      f  civil servant     0   \n",
       "55     civil partnership                 1      f        retiree     1   \n",
       "...                  ...               ...    ...            ...   ...   \n",
       "21489            married                 0      m       business     0   \n",
       "21495  civil partnership                 1      f       employee     0   \n",
       "21497            married                 0      f       business     0   \n",
       "21502            married                 0      f       employee     0   \n",
       "21510            married                 0      f       employee     0   \n",
       "\n",
       "       total_income                   purpose  \n",
       "12              NaN         to have a wedding  \n",
       "26              NaN                 education  \n",
       "29              NaN    building a real estate  \n",
       "41              NaN  second-hand car purchase  \n",
       "55              NaN         to have a wedding  \n",
       "...             ...                       ...  \n",
       "21489           NaN         purchase of a car  \n",
       "21495           NaN          wedding ceremony  \n",
       "21497           NaN       building a property  \n",
       "21502           NaN    building a real estate  \n",
       "21510           NaN              car purchase  \n",
       "\n",
       "[2174 rows x 12 columns]"
      ]
     },
     "execution_count": 7,
     "metadata": {},
     "output_type": "execute_result"
    }
   ],
   "source": [
    "null_data = credit[credit.isnull().any(axis=1)]\n",
    "null_data"
   ]
  },
  {
   "cell_type": "code",
   "execution_count": 8,
   "id": "a10f2ee4",
   "metadata": {},
   "outputs": [
    {
     "data": {
      "text/plain": [
       "array([nan])"
      ]
     },
     "execution_count": 8,
     "metadata": {},
     "output_type": "execute_result"
    }
   ],
   "source": [
    "null_data['days_employed'].unique()"
   ]
  },
  {
   "cell_type": "code",
   "execution_count": 9,
   "id": "b0adc256",
   "metadata": {},
   "outputs": [
    {
     "data": {
      "text/plain": [
       "array([nan])"
      ]
     },
     "execution_count": 9,
     "metadata": {},
     "output_type": "execute_result"
    }
   ],
   "source": [
    "null_data['total_income'].unique()"
   ]
  },
  {
   "cell_type": "markdown",
   "id": "140b3395",
   "metadata": {},
   "source": [
    "Conclusion: Interestingly, the same observations have both variables missing.  This means the patterns of missing variables is not random and hence is problematic.  The contents of the cells with missing variables are all nans."
   ]
  },
  {
   "cell_type": "markdown",
   "id": "18c9fb57",
   "metadata": {},
   "source": [
    "Create pivot table to replace the NaNs.  I choose the median instead of the mean because the income data is very skewed.  "
   ]
  },
  {
   "cell_type": "code",
   "execution_count": 10,
   "id": "2f562006",
   "metadata": {},
   "outputs": [
    {
     "data": {
      "text/html": [
       "<div>\n",
       "<style scoped>\n",
       "    .dataframe tbody tr th:only-of-type {\n",
       "        vertical-align: middle;\n",
       "    }\n",
       "\n",
       "    .dataframe tbody tr th {\n",
       "        vertical-align: top;\n",
       "    }\n",
       "\n",
       "    .dataframe thead th {\n",
       "        text-align: right;\n",
       "    }\n",
       "</style>\n",
       "<table border=\"1\" class=\"dataframe\">\n",
       "  <thead>\n",
       "    <tr style=\"text-align: right;\">\n",
       "      <th></th>\n",
       "      <th>education</th>\n",
       "      <th>bachelor's degree</th>\n",
       "      <th>graduate degree</th>\n",
       "      <th>primary education</th>\n",
       "      <th>secondary education</th>\n",
       "      <th>some college</th>\n",
       "    </tr>\n",
       "    <tr>\n",
       "      <th>dob_years</th>\n",
       "      <th>gender</th>\n",
       "      <th></th>\n",
       "      <th></th>\n",
       "      <th></th>\n",
       "      <th></th>\n",
       "      <th></th>\n",
       "    </tr>\n",
       "  </thead>\n",
       "  <tbody>\n",
       "    <tr>\n",
       "      <th rowspan=\"2\" valign=\"top\">0</th>\n",
       "      <th>f</th>\n",
       "      <td>24867.3015</td>\n",
       "      <td>NaN</td>\n",
       "      <td>NaN</td>\n",
       "      <td>17587.7440</td>\n",
       "      <td>20519.463</td>\n",
       "    </tr>\n",
       "    <tr>\n",
       "      <th>m</th>\n",
       "      <td>33861.6755</td>\n",
       "      <td>NaN</td>\n",
       "      <td>NaN</td>\n",
       "      <td>26641.5805</td>\n",
       "      <td>40971.287</td>\n",
       "    </tr>\n",
       "    <tr>\n",
       "      <th rowspan=\"2\" valign=\"top\">19</th>\n",
       "      <th>f</th>\n",
       "      <td>NaN</td>\n",
       "      <td>NaN</td>\n",
       "      <td>NaN</td>\n",
       "      <td>17954.8410</td>\n",
       "      <td>19686.494</td>\n",
       "    </tr>\n",
       "    <tr>\n",
       "      <th>m</th>\n",
       "      <td>NaN</td>\n",
       "      <td>NaN</td>\n",
       "      <td>NaN</td>\n",
       "      <td>14817.5910</td>\n",
       "      <td>14575.717</td>\n",
       "    </tr>\n",
       "    <tr>\n",
       "      <th>20</th>\n",
       "      <th>f</th>\n",
       "      <td>14251.5510</td>\n",
       "      <td>NaN</td>\n",
       "      <td>NaN</td>\n",
       "      <td>16441.5260</td>\n",
       "      <td>13850.468</td>\n",
       "    </tr>\n",
       "    <tr>\n",
       "      <th>...</th>\n",
       "      <th>...</th>\n",
       "      <td>...</td>\n",
       "      <td>...</td>\n",
       "      <td>...</td>\n",
       "      <td>...</td>\n",
       "      <td>...</td>\n",
       "    </tr>\n",
       "    <tr>\n",
       "      <th>72</th>\n",
       "      <th>m</th>\n",
       "      <td>25497.3920</td>\n",
       "      <td>NaN</td>\n",
       "      <td>NaN</td>\n",
       "      <td>17362.0700</td>\n",
       "      <td>NaN</td>\n",
       "    </tr>\n",
       "    <tr>\n",
       "      <th>73</th>\n",
       "      <th>f</th>\n",
       "      <td>NaN</td>\n",
       "      <td>NaN</td>\n",
       "      <td>16026.66</td>\n",
       "      <td>19663.4950</td>\n",
       "      <td>NaN</td>\n",
       "    </tr>\n",
       "    <tr>\n",
       "      <th rowspan=\"2\" valign=\"top\">74</th>\n",
       "      <th>f</th>\n",
       "      <td>21589.6570</td>\n",
       "      <td>NaN</td>\n",
       "      <td>NaN</td>\n",
       "      <td>7214.3270</td>\n",
       "      <td>NaN</td>\n",
       "    </tr>\n",
       "    <tr>\n",
       "      <th>m</th>\n",
       "      <td>NaN</td>\n",
       "      <td>NaN</td>\n",
       "      <td>NaN</td>\n",
       "      <td>14366.7860</td>\n",
       "      <td>NaN</td>\n",
       "    </tr>\n",
       "    <tr>\n",
       "      <th>75</th>\n",
       "      <th>f</th>\n",
       "      <td>NaN</td>\n",
       "      <td>NaN</td>\n",
       "      <td>NaN</td>\n",
       "      <td>24525.2240</td>\n",
       "      <td>NaN</td>\n",
       "    </tr>\n",
       "  </tbody>\n",
       "</table>\n",
       "<p>115 rows × 5 columns</p>\n",
       "</div>"
      ],
      "text/plain": [
       "education         bachelor's degree  graduate degree  primary education  \\\n",
       "dob_years gender                                                          \n",
       "0         f              24867.3015              NaN                NaN   \n",
       "          m              33861.6755              NaN                NaN   \n",
       "19        f                     NaN              NaN                NaN   \n",
       "          m                     NaN              NaN                NaN   \n",
       "20        f              14251.5510              NaN                NaN   \n",
       "...                             ...              ...                ...   \n",
       "72        m              25497.3920              NaN                NaN   \n",
       "73        f                     NaN              NaN           16026.66   \n",
       "74        f              21589.6570              NaN                NaN   \n",
       "          m                     NaN              NaN                NaN   \n",
       "75        f                     NaN              NaN                NaN   \n",
       "\n",
       "education         secondary education  some college  \n",
       "dob_years gender                                     \n",
       "0         f                17587.7440     20519.463  \n",
       "          m                26641.5805     40971.287  \n",
       "19        f                17954.8410     19686.494  \n",
       "          m                14817.5910     14575.717  \n",
       "20        f                16441.5260     13850.468  \n",
       "...                               ...           ...  \n",
       "72        m                17362.0700           NaN  \n",
       "73        f                19663.4950           NaN  \n",
       "74        f                 7214.3270           NaN  \n",
       "          m                14366.7860           NaN  \n",
       "75        f                24525.2240           NaN  \n",
       "\n",
       "[115 rows x 5 columns]"
      ]
     },
     "execution_count": 10,
     "metadata": {},
     "output_type": "execute_result"
    }
   ],
   "source": [
    "pivot_median_income = credit.pivot_table(index = [ 'dob_years', 'gender'], \n",
    "                   columns = 'education', values = 'total_income', \n",
    "                   aggfunc = \"median\")\n",
    "pivot_median_income\n"
   ]
  },
  {
   "cell_type": "code",
   "execution_count": 11,
   "id": "42df73e9",
   "metadata": {},
   "outputs": [
    {
     "data": {
      "text/html": [
       "<div>\n",
       "<style scoped>\n",
       "    .dataframe tbody tr th:only-of-type {\n",
       "        vertical-align: middle;\n",
       "    }\n",
       "\n",
       "    .dataframe tbody tr th {\n",
       "        vertical-align: top;\n",
       "    }\n",
       "\n",
       "    .dataframe thead th {\n",
       "        text-align: right;\n",
       "    }\n",
       "</style>\n",
       "<table border=\"1\" class=\"dataframe\">\n",
       "  <thead>\n",
       "    <tr style=\"text-align: right;\">\n",
       "      <th></th>\n",
       "      <th>children</th>\n",
       "      <th>days_employed</th>\n",
       "      <th>dob_years</th>\n",
       "      <th>education</th>\n",
       "      <th>education_id</th>\n",
       "      <th>family_status</th>\n",
       "      <th>family_status_id</th>\n",
       "      <th>gender</th>\n",
       "      <th>income_type</th>\n",
       "      <th>debt</th>\n",
       "      <th>total_income</th>\n",
       "      <th>purpose</th>\n",
       "      <th>income</th>\n",
       "    </tr>\n",
       "  </thead>\n",
       "  <tbody>\n",
       "    <tr>\n",
       "      <th>0</th>\n",
       "      <td>1</td>\n",
       "      <td>8437.673028</td>\n",
       "      <td>42</td>\n",
       "      <td>bachelor's degree</td>\n",
       "      <td>0</td>\n",
       "      <td>married</td>\n",
       "      <td>0</td>\n",
       "      <td>f</td>\n",
       "      <td>employee</td>\n",
       "      <td>0</td>\n",
       "      <td>40620.102</td>\n",
       "      <td>purchase of the house</td>\n",
       "      <td>40620.102</td>\n",
       "    </tr>\n",
       "    <tr>\n",
       "      <th>1</th>\n",
       "      <td>1</td>\n",
       "      <td>4024.803754</td>\n",
       "      <td>36</td>\n",
       "      <td>secondary education</td>\n",
       "      <td>1</td>\n",
       "      <td>married</td>\n",
       "      <td>0</td>\n",
       "      <td>f</td>\n",
       "      <td>employee</td>\n",
       "      <td>0</td>\n",
       "      <td>17932.802</td>\n",
       "      <td>car purchase</td>\n",
       "      <td>17932.802</td>\n",
       "    </tr>\n",
       "    <tr>\n",
       "      <th>2</th>\n",
       "      <td>0</td>\n",
       "      <td>5623.422610</td>\n",
       "      <td>33</td>\n",
       "      <td>secondary education</td>\n",
       "      <td>1</td>\n",
       "      <td>married</td>\n",
       "      <td>0</td>\n",
       "      <td>m</td>\n",
       "      <td>employee</td>\n",
       "      <td>0</td>\n",
       "      <td>23341.752</td>\n",
       "      <td>purchase of the house</td>\n",
       "      <td>23341.752</td>\n",
       "    </tr>\n",
       "    <tr>\n",
       "      <th>3</th>\n",
       "      <td>3</td>\n",
       "      <td>4124.747207</td>\n",
       "      <td>32</td>\n",
       "      <td>secondary education</td>\n",
       "      <td>1</td>\n",
       "      <td>married</td>\n",
       "      <td>0</td>\n",
       "      <td>m</td>\n",
       "      <td>employee</td>\n",
       "      <td>0</td>\n",
       "      <td>42820.568</td>\n",
       "      <td>supplementary education</td>\n",
       "      <td>42820.568</td>\n",
       "    </tr>\n",
       "    <tr>\n",
       "      <th>4</th>\n",
       "      <td>0</td>\n",
       "      <td>340266.072047</td>\n",
       "      <td>53</td>\n",
       "      <td>secondary education</td>\n",
       "      <td>1</td>\n",
       "      <td>civil partnership</td>\n",
       "      <td>1</td>\n",
       "      <td>f</td>\n",
       "      <td>retiree</td>\n",
       "      <td>0</td>\n",
       "      <td>25378.572</td>\n",
       "      <td>to have a wedding</td>\n",
       "      <td>25378.572</td>\n",
       "    </tr>\n",
       "    <tr>\n",
       "      <th>...</th>\n",
       "      <td>...</td>\n",
       "      <td>...</td>\n",
       "      <td>...</td>\n",
       "      <td>...</td>\n",
       "      <td>...</td>\n",
       "      <td>...</td>\n",
       "      <td>...</td>\n",
       "      <td>...</td>\n",
       "      <td>...</td>\n",
       "      <td>...</td>\n",
       "      <td>...</td>\n",
       "      <td>...</td>\n",
       "      <td>...</td>\n",
       "    </tr>\n",
       "    <tr>\n",
       "      <th>21520</th>\n",
       "      <td>1</td>\n",
       "      <td>4529.316663</td>\n",
       "      <td>43</td>\n",
       "      <td>secondary education</td>\n",
       "      <td>1</td>\n",
       "      <td>civil partnership</td>\n",
       "      <td>1</td>\n",
       "      <td>f</td>\n",
       "      <td>business</td>\n",
       "      <td>0</td>\n",
       "      <td>35966.698</td>\n",
       "      <td>housing transactions</td>\n",
       "      <td>35966.698</td>\n",
       "    </tr>\n",
       "    <tr>\n",
       "      <th>21521</th>\n",
       "      <td>0</td>\n",
       "      <td>343937.404131</td>\n",
       "      <td>67</td>\n",
       "      <td>secondary education</td>\n",
       "      <td>1</td>\n",
       "      <td>married</td>\n",
       "      <td>0</td>\n",
       "      <td>f</td>\n",
       "      <td>retiree</td>\n",
       "      <td>0</td>\n",
       "      <td>24959.969</td>\n",
       "      <td>purchase of a car</td>\n",
       "      <td>24959.969</td>\n",
       "    </tr>\n",
       "    <tr>\n",
       "      <th>21522</th>\n",
       "      <td>1</td>\n",
       "      <td>2113.346888</td>\n",
       "      <td>38</td>\n",
       "      <td>secondary education</td>\n",
       "      <td>1</td>\n",
       "      <td>civil partnership</td>\n",
       "      <td>1</td>\n",
       "      <td>m</td>\n",
       "      <td>employee</td>\n",
       "      <td>1</td>\n",
       "      <td>14347.610</td>\n",
       "      <td>property</td>\n",
       "      <td>14347.610</td>\n",
       "    </tr>\n",
       "    <tr>\n",
       "      <th>21523</th>\n",
       "      <td>3</td>\n",
       "      <td>3112.481705</td>\n",
       "      <td>38</td>\n",
       "      <td>secondary education</td>\n",
       "      <td>1</td>\n",
       "      <td>married</td>\n",
       "      <td>0</td>\n",
       "      <td>m</td>\n",
       "      <td>employee</td>\n",
       "      <td>1</td>\n",
       "      <td>39054.888</td>\n",
       "      <td>buying my own car</td>\n",
       "      <td>39054.888</td>\n",
       "    </tr>\n",
       "    <tr>\n",
       "      <th>21524</th>\n",
       "      <td>2</td>\n",
       "      <td>1984.507589</td>\n",
       "      <td>40</td>\n",
       "      <td>secondary education</td>\n",
       "      <td>1</td>\n",
       "      <td>married</td>\n",
       "      <td>0</td>\n",
       "      <td>f</td>\n",
       "      <td>employee</td>\n",
       "      <td>0</td>\n",
       "      <td>13127.587</td>\n",
       "      <td>to buy a car</td>\n",
       "      <td>13127.587</td>\n",
       "    </tr>\n",
       "  </tbody>\n",
       "</table>\n",
       "<p>21525 rows × 13 columns</p>\n",
       "</div>"
      ],
      "text/plain": [
       "       children  days_employed  dob_years            education  education_id  \\\n",
       "0             1    8437.673028         42    bachelor's degree             0   \n",
       "1             1    4024.803754         36  secondary education             1   \n",
       "2             0    5623.422610         33  secondary education             1   \n",
       "3             3    4124.747207         32  secondary education             1   \n",
       "4             0  340266.072047         53  secondary education             1   \n",
       "...         ...            ...        ...                  ...           ...   \n",
       "21520         1    4529.316663         43  secondary education             1   \n",
       "21521         0  343937.404131         67  secondary education             1   \n",
       "21522         1    2113.346888         38  secondary education             1   \n",
       "21523         3    3112.481705         38  secondary education             1   \n",
       "21524         2    1984.507589         40  secondary education             1   \n",
       "\n",
       "           family_status  family_status_id gender income_type  debt  \\\n",
       "0                married                 0      f    employee     0   \n",
       "1                married                 0      f    employee     0   \n",
       "2                married                 0      m    employee     0   \n",
       "3                married                 0      m    employee     0   \n",
       "4      civil partnership                 1      f     retiree     0   \n",
       "...                  ...               ...    ...         ...   ...   \n",
       "21520  civil partnership                 1      f    business     0   \n",
       "21521            married                 0      f     retiree     0   \n",
       "21522  civil partnership                 1      m    employee     1   \n",
       "21523            married                 0      m    employee     1   \n",
       "21524            married                 0      f    employee     0   \n",
       "\n",
       "       total_income                  purpose     income  \n",
       "0         40620.102    purchase of the house  40620.102  \n",
       "1         17932.802             car purchase  17932.802  \n",
       "2         23341.752    purchase of the house  23341.752  \n",
       "3         42820.568  supplementary education  42820.568  \n",
       "4         25378.572        to have a wedding  25378.572  \n",
       "...             ...                      ...        ...  \n",
       "21520     35966.698     housing transactions  35966.698  \n",
       "21521     24959.969        purchase of a car  24959.969  \n",
       "21522     14347.610                 property  14347.610  \n",
       "21523     39054.888        buying my own car  39054.888  \n",
       "21524     13127.587             to buy a car  13127.587  \n",
       "\n",
       "[21525 rows x 13 columns]"
      ]
     },
     "execution_count": 11,
     "metadata": {},
     "output_type": "execute_result"
    }
   ],
   "source": [
    "# create a replace_na function to use the apply() function per row of dataframe\n",
    "def replace_na(row): \n",
    "    education = row[\"education\"] \n",
    "    #income_type = row[\"income_type\"] \n",
    "    gender = row[\"gender\"] \n",
    "    age = row['dob_years']\n",
    "    if pd.isnull(row['total_income']):\n",
    "        #print(education, age, gender)\n",
    "        return pivot_median_income[education][age][gender]\n",
    "    else: \n",
    "        return row['total_income']\n",
    "\n",
    "\n",
    "credit[\"income\"] = credit.apply(replace_na, axis=1)\n",
    "credit"
   ]
  },
  {
   "cell_type": "code",
   "execution_count": 12,
   "id": "ec2b1314",
   "metadata": {},
   "outputs": [
    {
     "data": {
      "text/html": [
       "<div>\n",
       "<style scoped>\n",
       "    .dataframe tbody tr th:only-of-type {\n",
       "        vertical-align: middle;\n",
       "    }\n",
       "\n",
       "    .dataframe tbody tr th {\n",
       "        vertical-align: top;\n",
       "    }\n",
       "\n",
       "    .dataframe thead th {\n",
       "        text-align: right;\n",
       "    }\n",
       "</style>\n",
       "<table border=\"1\" class=\"dataframe\">\n",
       "  <thead>\n",
       "    <tr style=\"text-align: right;\">\n",
       "      <th>children</th>\n",
       "      <th>-1</th>\n",
       "      <th>0</th>\n",
       "      <th>1</th>\n",
       "      <th>2</th>\n",
       "      <th>3</th>\n",
       "      <th>4</th>\n",
       "      <th>5</th>\n",
       "      <th>20</th>\n",
       "    </tr>\n",
       "    <tr>\n",
       "      <th>gender</th>\n",
       "      <th></th>\n",
       "      <th></th>\n",
       "      <th></th>\n",
       "      <th></th>\n",
       "      <th></th>\n",
       "      <th></th>\n",
       "      <th></th>\n",
       "      <th></th>\n",
       "    </tr>\n",
       "  </thead>\n",
       "  <tbody>\n",
       "    <tr>\n",
       "      <th>f</th>\n",
       "      <td>2674.727216</td>\n",
       "      <td>3298.254825</td>\n",
       "      <td>1800.377349</td>\n",
       "      <td>1665.814753</td>\n",
       "      <td>1871.817349</td>\n",
       "      <td>1793.417086</td>\n",
       "      <td>773.124856</td>\n",
       "      <td>2047.754733</td>\n",
       "    </tr>\n",
       "    <tr>\n",
       "      <th>m</th>\n",
       "      <td>2756.319014</td>\n",
       "      <td>1747.471555</td>\n",
       "      <td>1481.563083</td>\n",
       "      <td>1712.886722</td>\n",
       "      <td>1666.148894</td>\n",
       "      <td>2404.904890</td>\n",
       "      <td>1690.018117</td>\n",
       "      <td>1039.186009</td>\n",
       "    </tr>\n",
       "    <tr>\n",
       "      <th>xna</th>\n",
       "      <td>NaN</td>\n",
       "      <td>2358.600502</td>\n",
       "      <td>NaN</td>\n",
       "      <td>NaN</td>\n",
       "      <td>NaN</td>\n",
       "      <td>NaN</td>\n",
       "      <td>NaN</td>\n",
       "      <td>NaN</td>\n",
       "    </tr>\n",
       "  </tbody>\n",
       "</table>\n",
       "</div>"
      ],
      "text/plain": [
       "children          -1            0            1            2            3   \\\n",
       "gender                                                                      \n",
       "f         2674.727216  3298.254825  1800.377349  1665.814753  1871.817349   \n",
       "m         2756.319014  1747.471555  1481.563083  1712.886722  1666.148894   \n",
       "xna               NaN  2358.600502          NaN          NaN          NaN   \n",
       "\n",
       "children           4            5            20  \n",
       "gender                                           \n",
       "f         1793.417086   773.124856  2047.754733  \n",
       "m         2404.904890  1690.018117  1039.186009  \n",
       "xna               NaN          NaN          NaN  "
      ]
     },
     "execution_count": 12,
     "metadata": {},
     "output_type": "execute_result"
    }
   ],
   "source": [
    "pivot_median_days_employed = credit.pivot_table(index = [ 'gender'], \n",
    "                   columns = 'children', values = 'days_employed', \n",
    "                   aggfunc = \"median\")\n",
    "pivot_median_days_employed"
   ]
  },
  {
   "cell_type": "code",
   "execution_count": 13,
   "id": "41e4739c",
   "metadata": {},
   "outputs": [
    {
     "data": {
      "text/html": [
       "<div>\n",
       "<style scoped>\n",
       "    .dataframe tbody tr th:only-of-type {\n",
       "        vertical-align: middle;\n",
       "    }\n",
       "\n",
       "    .dataframe tbody tr th {\n",
       "        vertical-align: top;\n",
       "    }\n",
       "\n",
       "    .dataframe thead th {\n",
       "        text-align: right;\n",
       "    }\n",
       "</style>\n",
       "<table border=\"1\" class=\"dataframe\">\n",
       "  <thead>\n",
       "    <tr style=\"text-align: right;\">\n",
       "      <th></th>\n",
       "      <th>children</th>\n",
       "      <th>days_employed</th>\n",
       "      <th>dob_years</th>\n",
       "      <th>education</th>\n",
       "      <th>education_id</th>\n",
       "      <th>family_status</th>\n",
       "      <th>family_status_id</th>\n",
       "      <th>gender</th>\n",
       "      <th>income_type</th>\n",
       "      <th>debt</th>\n",
       "      <th>total_income</th>\n",
       "      <th>purpose</th>\n",
       "      <th>income</th>\n",
       "      <th>days_empl</th>\n",
       "    </tr>\n",
       "  </thead>\n",
       "  <tbody>\n",
       "    <tr>\n",
       "      <th>0</th>\n",
       "      <td>1</td>\n",
       "      <td>8437.673028</td>\n",
       "      <td>42</td>\n",
       "      <td>bachelor's degree</td>\n",
       "      <td>0</td>\n",
       "      <td>married</td>\n",
       "      <td>0</td>\n",
       "      <td>f</td>\n",
       "      <td>employee</td>\n",
       "      <td>0</td>\n",
       "      <td>40620.102</td>\n",
       "      <td>purchase of the house</td>\n",
       "      <td>40620.102</td>\n",
       "      <td>8437.673028</td>\n",
       "    </tr>\n",
       "    <tr>\n",
       "      <th>1</th>\n",
       "      <td>1</td>\n",
       "      <td>4024.803754</td>\n",
       "      <td>36</td>\n",
       "      <td>secondary education</td>\n",
       "      <td>1</td>\n",
       "      <td>married</td>\n",
       "      <td>0</td>\n",
       "      <td>f</td>\n",
       "      <td>employee</td>\n",
       "      <td>0</td>\n",
       "      <td>17932.802</td>\n",
       "      <td>car purchase</td>\n",
       "      <td>17932.802</td>\n",
       "      <td>4024.803754</td>\n",
       "    </tr>\n",
       "    <tr>\n",
       "      <th>2</th>\n",
       "      <td>0</td>\n",
       "      <td>5623.422610</td>\n",
       "      <td>33</td>\n",
       "      <td>secondary education</td>\n",
       "      <td>1</td>\n",
       "      <td>married</td>\n",
       "      <td>0</td>\n",
       "      <td>m</td>\n",
       "      <td>employee</td>\n",
       "      <td>0</td>\n",
       "      <td>23341.752</td>\n",
       "      <td>purchase of the house</td>\n",
       "      <td>23341.752</td>\n",
       "      <td>5623.422610</td>\n",
       "    </tr>\n",
       "    <tr>\n",
       "      <th>3</th>\n",
       "      <td>3</td>\n",
       "      <td>4124.747207</td>\n",
       "      <td>32</td>\n",
       "      <td>secondary education</td>\n",
       "      <td>1</td>\n",
       "      <td>married</td>\n",
       "      <td>0</td>\n",
       "      <td>m</td>\n",
       "      <td>employee</td>\n",
       "      <td>0</td>\n",
       "      <td>42820.568</td>\n",
       "      <td>supplementary education</td>\n",
       "      <td>42820.568</td>\n",
       "      <td>4124.747207</td>\n",
       "    </tr>\n",
       "    <tr>\n",
       "      <th>4</th>\n",
       "      <td>0</td>\n",
       "      <td>340266.072047</td>\n",
       "      <td>53</td>\n",
       "      <td>secondary education</td>\n",
       "      <td>1</td>\n",
       "      <td>civil partnership</td>\n",
       "      <td>1</td>\n",
       "      <td>f</td>\n",
       "      <td>retiree</td>\n",
       "      <td>0</td>\n",
       "      <td>25378.572</td>\n",
       "      <td>to have a wedding</td>\n",
       "      <td>25378.572</td>\n",
       "      <td>340266.072047</td>\n",
       "    </tr>\n",
       "    <tr>\n",
       "      <th>...</th>\n",
       "      <td>...</td>\n",
       "      <td>...</td>\n",
       "      <td>...</td>\n",
       "      <td>...</td>\n",
       "      <td>...</td>\n",
       "      <td>...</td>\n",
       "      <td>...</td>\n",
       "      <td>...</td>\n",
       "      <td>...</td>\n",
       "      <td>...</td>\n",
       "      <td>...</td>\n",
       "      <td>...</td>\n",
       "      <td>...</td>\n",
       "      <td>...</td>\n",
       "    </tr>\n",
       "    <tr>\n",
       "      <th>21520</th>\n",
       "      <td>1</td>\n",
       "      <td>4529.316663</td>\n",
       "      <td>43</td>\n",
       "      <td>secondary education</td>\n",
       "      <td>1</td>\n",
       "      <td>civil partnership</td>\n",
       "      <td>1</td>\n",
       "      <td>f</td>\n",
       "      <td>business</td>\n",
       "      <td>0</td>\n",
       "      <td>35966.698</td>\n",
       "      <td>housing transactions</td>\n",
       "      <td>35966.698</td>\n",
       "      <td>4529.316663</td>\n",
       "    </tr>\n",
       "    <tr>\n",
       "      <th>21521</th>\n",
       "      <td>0</td>\n",
       "      <td>343937.404131</td>\n",
       "      <td>67</td>\n",
       "      <td>secondary education</td>\n",
       "      <td>1</td>\n",
       "      <td>married</td>\n",
       "      <td>0</td>\n",
       "      <td>f</td>\n",
       "      <td>retiree</td>\n",
       "      <td>0</td>\n",
       "      <td>24959.969</td>\n",
       "      <td>purchase of a car</td>\n",
       "      <td>24959.969</td>\n",
       "      <td>343937.404131</td>\n",
       "    </tr>\n",
       "    <tr>\n",
       "      <th>21522</th>\n",
       "      <td>1</td>\n",
       "      <td>2113.346888</td>\n",
       "      <td>38</td>\n",
       "      <td>secondary education</td>\n",
       "      <td>1</td>\n",
       "      <td>civil partnership</td>\n",
       "      <td>1</td>\n",
       "      <td>m</td>\n",
       "      <td>employee</td>\n",
       "      <td>1</td>\n",
       "      <td>14347.610</td>\n",
       "      <td>property</td>\n",
       "      <td>14347.610</td>\n",
       "      <td>2113.346888</td>\n",
       "    </tr>\n",
       "    <tr>\n",
       "      <th>21523</th>\n",
       "      <td>3</td>\n",
       "      <td>3112.481705</td>\n",
       "      <td>38</td>\n",
       "      <td>secondary education</td>\n",
       "      <td>1</td>\n",
       "      <td>married</td>\n",
       "      <td>0</td>\n",
       "      <td>m</td>\n",
       "      <td>employee</td>\n",
       "      <td>1</td>\n",
       "      <td>39054.888</td>\n",
       "      <td>buying my own car</td>\n",
       "      <td>39054.888</td>\n",
       "      <td>3112.481705</td>\n",
       "    </tr>\n",
       "    <tr>\n",
       "      <th>21524</th>\n",
       "      <td>2</td>\n",
       "      <td>1984.507589</td>\n",
       "      <td>40</td>\n",
       "      <td>secondary education</td>\n",
       "      <td>1</td>\n",
       "      <td>married</td>\n",
       "      <td>0</td>\n",
       "      <td>f</td>\n",
       "      <td>employee</td>\n",
       "      <td>0</td>\n",
       "      <td>13127.587</td>\n",
       "      <td>to buy a car</td>\n",
       "      <td>13127.587</td>\n",
       "      <td>1984.507589</td>\n",
       "    </tr>\n",
       "  </tbody>\n",
       "</table>\n",
       "<p>21525 rows × 14 columns</p>\n",
       "</div>"
      ],
      "text/plain": [
       "       children  days_employed  dob_years            education  education_id  \\\n",
       "0             1    8437.673028         42    bachelor's degree             0   \n",
       "1             1    4024.803754         36  secondary education             1   \n",
       "2             0    5623.422610         33  secondary education             1   \n",
       "3             3    4124.747207         32  secondary education             1   \n",
       "4             0  340266.072047         53  secondary education             1   \n",
       "...         ...            ...        ...                  ...           ...   \n",
       "21520         1    4529.316663         43  secondary education             1   \n",
       "21521         0  343937.404131         67  secondary education             1   \n",
       "21522         1    2113.346888         38  secondary education             1   \n",
       "21523         3    3112.481705         38  secondary education             1   \n",
       "21524         2    1984.507589         40  secondary education             1   \n",
       "\n",
       "           family_status  family_status_id gender income_type  debt  \\\n",
       "0                married                 0      f    employee     0   \n",
       "1                married                 0      f    employee     0   \n",
       "2                married                 0      m    employee     0   \n",
       "3                married                 0      m    employee     0   \n",
       "4      civil partnership                 1      f     retiree     0   \n",
       "...                  ...               ...    ...         ...   ...   \n",
       "21520  civil partnership                 1      f    business     0   \n",
       "21521            married                 0      f     retiree     0   \n",
       "21522  civil partnership                 1      m    employee     1   \n",
       "21523            married                 0      m    employee     1   \n",
       "21524            married                 0      f    employee     0   \n",
       "\n",
       "       total_income                  purpose     income      days_empl  \n",
       "0         40620.102    purchase of the house  40620.102    8437.673028  \n",
       "1         17932.802             car purchase  17932.802    4024.803754  \n",
       "2         23341.752    purchase of the house  23341.752    5623.422610  \n",
       "3         42820.568  supplementary education  42820.568    4124.747207  \n",
       "4         25378.572        to have a wedding  25378.572  340266.072047  \n",
       "...             ...                      ...        ...            ...  \n",
       "21520     35966.698     housing transactions  35966.698    4529.316663  \n",
       "21521     24959.969        purchase of a car  24959.969  343937.404131  \n",
       "21522     14347.610                 property  14347.610    2113.346888  \n",
       "21523     39054.888        buying my own car  39054.888    3112.481705  \n",
       "21524     13127.587             to buy a car  13127.587    1984.507589  \n",
       "\n",
       "[21525 rows x 14 columns]"
      ]
     },
     "execution_count": 13,
     "metadata": {},
     "output_type": "execute_result"
    }
   ],
   "source": [
    "#create a replace_na function to use the apply() function per row of dataframe\n",
    "def replace_na(row): \n",
    "    #income = row[\"income\"] \n",
    "    gender = row[\"gender\"] \n",
    "    children = row['children']\n",
    "    if pd.isnull(row['days_employed']):\n",
    "        #print(children, gender, income)\n",
    "        return pivot_median_days_employed[children][gender]\n",
    "    else: \n",
    "        return row['days_employed']\n",
    "\n",
    "\n",
    "credit[\"days_empl\"] = credit.apply(replace_na, axis=1)\n",
    "credit"
   ]
  },
  {
   "cell_type": "code",
   "execution_count": 14,
   "id": "0ee415a1",
   "metadata": {},
   "outputs": [
    {
     "name": "stdout",
     "output_type": "stream",
     "text": [
      "<class 'pandas.core.frame.DataFrame'>\n",
      "RangeIndex: 21525 entries, 0 to 21524\n",
      "Data columns (total 14 columns):\n",
      " #   Column            Non-Null Count  Dtype  \n",
      "---  ------            --------------  -----  \n",
      " 0   children          21525 non-null  int64  \n",
      " 1   days_employed     19351 non-null  float64\n",
      " 2   dob_years         21525 non-null  int64  \n",
      " 3   education         21525 non-null  object \n",
      " 4   education_id      21525 non-null  int64  \n",
      " 5   family_status     21525 non-null  object \n",
      " 6   family_status_id  21525 non-null  int64  \n",
      " 7   gender            21525 non-null  object \n",
      " 8   income_type       21525 non-null  object \n",
      " 9   debt              21525 non-null  int64  \n",
      " 10  total_income      19351 non-null  float64\n",
      " 11  purpose           21525 non-null  object \n",
      " 12  income            21522 non-null  float64\n",
      " 13  days_empl         21525 non-null  float64\n",
      "dtypes: float64(4), int64(5), object(5)\n",
      "memory usage: 2.3+ MB\n"
     ]
    }
   ],
   "source": [
    "credit.info()"
   ]
  },
  {
   "cell_type": "code",
   "execution_count": 15,
   "id": "118c16ae",
   "metadata": {},
   "outputs": [
    {
     "data": {
      "text/plain": [
       "children               0\n",
       "days_employed       2174\n",
       "dob_years              0\n",
       "education              0\n",
       "education_id           0\n",
       "family_status          0\n",
       "family_status_id       0\n",
       "gender                 0\n",
       "income_type            0\n",
       "debt                   0\n",
       "total_income        2174\n",
       "purpose                0\n",
       "income                 3\n",
       "days_empl              0\n",
       "dtype: int64"
      ]
     },
     "execution_count": 15,
     "metadata": {},
     "output_type": "execute_result"
    }
   ],
   "source": [
    "credit.isnull().sum()"
   ]
  },
  {
   "cell_type": "markdown",
   "id": "221a54da",
   "metadata": {},
   "source": [
    "For some reason, there are still 3 missing values in income.  Can you please explain?"
   ]
  },
  {
   "cell_type": "code",
   "execution_count": 16,
   "id": "87b40f08",
   "metadata": {},
   "outputs": [
    {
     "data": {
      "text/html": [
       "<div>\n",
       "<style scoped>\n",
       "    .dataframe tbody tr th:only-of-type {\n",
       "        vertical-align: middle;\n",
       "    }\n",
       "\n",
       "    .dataframe tbody tr th {\n",
       "        vertical-align: top;\n",
       "    }\n",
       "\n",
       "    .dataframe thead th {\n",
       "        text-align: right;\n",
       "    }\n",
       "</style>\n",
       "<table border=\"1\" class=\"dataframe\">\n",
       "  <thead>\n",
       "    <tr style=\"text-align: right;\">\n",
       "      <th></th>\n",
       "      <th>children</th>\n",
       "      <th>days_employed</th>\n",
       "      <th>dob_years</th>\n",
       "      <th>education</th>\n",
       "      <th>education_id</th>\n",
       "      <th>family_status</th>\n",
       "      <th>family_status_id</th>\n",
       "      <th>gender</th>\n",
       "      <th>income_type</th>\n",
       "      <th>debt</th>\n",
       "      <th>total_income</th>\n",
       "      <th>purpose</th>\n",
       "      <th>income</th>\n",
       "      <th>days_empl</th>\n",
       "    </tr>\n",
       "  </thead>\n",
       "  <tbody>\n",
       "    <tr>\n",
       "      <th>11369</th>\n",
       "      <td>2</td>\n",
       "      <td>NaN</td>\n",
       "      <td>31</td>\n",
       "      <td>primary education</td>\n",
       "      <td>3</td>\n",
       "      <td>married</td>\n",
       "      <td>0</td>\n",
       "      <td>f</td>\n",
       "      <td>employee</td>\n",
       "      <td>1</td>\n",
       "      <td>NaN</td>\n",
       "      <td>transactions with my real estate</td>\n",
       "      <td>NaN</td>\n",
       "      <td>1665.814753</td>\n",
       "    </tr>\n",
       "    <tr>\n",
       "      <th>17696</th>\n",
       "      <td>1</td>\n",
       "      <td>NaN</td>\n",
       "      <td>45</td>\n",
       "      <td>primary education</td>\n",
       "      <td>3</td>\n",
       "      <td>married</td>\n",
       "      <td>0</td>\n",
       "      <td>f</td>\n",
       "      <td>retiree</td>\n",
       "      <td>0</td>\n",
       "      <td>NaN</td>\n",
       "      <td>real estate transactions</td>\n",
       "      <td>NaN</td>\n",
       "      <td>1800.377349</td>\n",
       "    </tr>\n",
       "    <tr>\n",
       "      <th>18739</th>\n",
       "      <td>0</td>\n",
       "      <td>NaN</td>\n",
       "      <td>62</td>\n",
       "      <td>some college</td>\n",
       "      <td>2</td>\n",
       "      <td>civil partnership</td>\n",
       "      <td>1</td>\n",
       "      <td>m</td>\n",
       "      <td>business</td>\n",
       "      <td>0</td>\n",
       "      <td>NaN</td>\n",
       "      <td>to have a wedding</td>\n",
       "      <td>NaN</td>\n",
       "      <td>1747.471555</td>\n",
       "    </tr>\n",
       "  </tbody>\n",
       "</table>\n",
       "</div>"
      ],
      "text/plain": [
       "       children  days_employed  dob_years          education  education_id  \\\n",
       "11369         2            NaN         31  primary education             3   \n",
       "17696         1            NaN         45  primary education             3   \n",
       "18739         0            NaN         62       some college             2   \n",
       "\n",
       "           family_status  family_status_id gender income_type  debt  \\\n",
       "11369            married                 0      f    employee     1   \n",
       "17696            married                 0      f     retiree     0   \n",
       "18739  civil partnership                 1      m    business     0   \n",
       "\n",
       "       total_income                           purpose  income    days_empl  \n",
       "11369           NaN  transactions with my real estate     NaN  1665.814753  \n",
       "17696           NaN          real estate transactions     NaN  1800.377349  \n",
       "18739           NaN                 to have a wedding     NaN  1747.471555  "
      ]
     },
     "execution_count": 16,
     "metadata": {},
     "output_type": "execute_result"
    }
   ],
   "source": [
    "credit[credit['income'].isna()]"
   ]
  },
  {
   "cell_type": "markdown",
   "id": "06d6f121",
   "metadata": {},
   "source": [
    "I will drop those rows."
   ]
  },
  {
   "cell_type": "code",
   "execution_count": 17,
   "id": "e944ebca",
   "metadata": {},
   "outputs": [],
   "source": [
    "credit = credit.drop(labels=[11369,17696,18739], axis=0)"
   ]
  },
  {
   "cell_type": "markdown",
   "id": "090f3dae",
   "metadata": {},
   "source": [
    "Now I drop the original columns that had the NaN values."
   ]
  },
  {
   "cell_type": "code",
   "execution_count": 18,
   "id": "31b5e4aa",
   "metadata": {},
   "outputs": [
    {
     "name": "stdout",
     "output_type": "stream",
     "text": [
      "<class 'pandas.core.frame.DataFrame'>\n",
      "Int64Index: 21522 entries, 0 to 21524\n",
      "Data columns (total 12 columns):\n",
      " #   Column            Non-Null Count  Dtype  \n",
      "---  ------            --------------  -----  \n",
      " 0   children          21522 non-null  int64  \n",
      " 1   dob_years         21522 non-null  int64  \n",
      " 2   education         21522 non-null  object \n",
      " 3   education_id      21522 non-null  int64  \n",
      " 4   family_status     21522 non-null  object \n",
      " 5   family_status_id  21522 non-null  int64  \n",
      " 6   gender            21522 non-null  object \n",
      " 7   income_type       21522 non-null  object \n",
      " 8   debt              21522 non-null  int64  \n",
      " 9   purpose           21522 non-null  object \n",
      " 10  income            21522 non-null  float64\n",
      " 11  days_empl         21522 non-null  float64\n",
      "dtypes: float64(2), int64(5), object(5)\n",
      "memory usage: 2.1+ MB\n"
     ]
    }
   ],
   "source": [
    "credit = credit.drop(['days_employed', \"total_income\"], axis = 1)\n",
    "credit.info()"
   ]
  },
  {
   "cell_type": "markdown",
   "id": "0195485f",
   "metadata": {},
   "source": [
    "Dropping the duplicates"
   ]
  },
  {
   "cell_type": "code",
   "execution_count": 19,
   "id": "c8b303ba",
   "metadata": {
    "scrolled": true
   },
   "outputs": [],
   "source": [
    "credit.drop_duplicates(keep=False, inplace=True)"
   ]
  },
  {
   "cell_type": "code",
   "execution_count": 20,
   "id": "9a45dfee",
   "metadata": {},
   "outputs": [
    {
     "name": "stdout",
     "output_type": "stream",
     "text": [
      "<class 'pandas.core.frame.DataFrame'>\n",
      "Int64Index: 21385 entries, 0 to 21524\n",
      "Data columns (total 12 columns):\n",
      " #   Column            Non-Null Count  Dtype  \n",
      "---  ------            --------------  -----  \n",
      " 0   children          21385 non-null  int64  \n",
      " 1   dob_years         21385 non-null  int64  \n",
      " 2   education         21385 non-null  object \n",
      " 3   education_id      21385 non-null  int64  \n",
      " 4   family_status     21385 non-null  object \n",
      " 5   family_status_id  21385 non-null  int64  \n",
      " 6   gender            21385 non-null  object \n",
      " 7   income_type       21385 non-null  object \n",
      " 8   debt              21385 non-null  int64  \n",
      " 9   purpose           21385 non-null  object \n",
      " 10  income            21385 non-null  float64\n",
      " 11  days_empl         21385 non-null  float64\n",
      "dtypes: float64(2), int64(5), object(5)\n",
      "memory usage: 2.1+ MB\n"
     ]
    }
   ],
   "source": [
    "credit.info()"
   ]
  },
  {
   "cell_type": "code",
   "execution_count": 21,
   "id": "2cd9c939",
   "metadata": {},
   "outputs": [
    {
     "data": {
      "text/plain": [
       "0"
      ]
     },
     "execution_count": 21,
     "metadata": {},
     "output_type": "execute_result"
    }
   ],
   "source": [
    "credit.duplicated().sum()"
   ]
  },
  {
   "cell_type": "markdown",
   "id": "3401da82",
   "metadata": {},
   "source": [
    "We lost 137 observation that were duplicated"
   ]
  },
  {
   "cell_type": "code",
   "execution_count": 22,
   "id": "fb6950a5",
   "metadata": {},
   "outputs": [
    {
     "name": "stdout",
     "output_type": "stream",
     "text": [
      "children [ 1  0  3  2 -1  4 20  5]\n",
      " 0     14037\n",
      " 1      4797\n",
      " 2      2048\n",
      " 3       330\n",
      " 20       76\n",
      "-1        47\n",
      " 4        41\n",
      " 5         9\n",
      "Name: children, dtype: int64\n"
     ]
    }
   ],
   "source": [
    "print('children', credit['children'].unique())\n",
    "print(credit['children'].value_counts())"
   ]
  },
  {
   "cell_type": "markdown",
   "id": "03d4c813",
   "metadata": {},
   "source": [
    "It does not make sense to have a negative child.\n",
    "It is not commonsensical for 76 families in our dataset to have 20 kids when 9 families only have 5 and there is nothing in between."
   ]
  },
  {
   "cell_type": "code",
   "execution_count": 23,
   "id": "6ee065cb",
   "metadata": {},
   "outputs": [
    {
     "name": "stdout",
     "output_type": "stream",
     "text": [
      "0    14037\n",
      "1     4797\n",
      "2     2048\n",
      "3      330\n",
      "4       41\n",
      "5        9\n",
      "Name: children, dtype: int64\n",
      "<class 'pandas.core.frame.DataFrame'>\n",
      "Int64Index: 21262 entries, 0 to 21524\n",
      "Data columns (total 12 columns):\n",
      " #   Column            Non-Null Count  Dtype  \n",
      "---  ------            --------------  -----  \n",
      " 0   children          21262 non-null  int64  \n",
      " 1   dob_years         21262 non-null  int64  \n",
      " 2   education         21262 non-null  object \n",
      " 3   education_id      21262 non-null  int64  \n",
      " 4   family_status     21262 non-null  object \n",
      " 5   family_status_id  21262 non-null  int64  \n",
      " 6   gender            21262 non-null  object \n",
      " 7   income_type       21262 non-null  object \n",
      " 8   debt              21262 non-null  int64  \n",
      " 9   purpose           21262 non-null  object \n",
      " 10  income            21262 non-null  float64\n",
      " 11  days_empl         21262 non-null  float64\n",
      "dtypes: float64(2), int64(5), object(5)\n",
      "memory usage: 2.1+ MB\n"
     ]
    }
   ],
   "source": [
    "credit = credit[(credit['children'] != -1) & (credit['children'] != 20)]\n",
    "print(credit['children'].value_counts())\n",
    "credit.info()"
   ]
  },
  {
   "cell_type": "markdown",
   "id": "39a4db3b",
   "metadata": {},
   "source": [
    "We lost another 123 observations"
   ]
  },
  {
   "cell_type": "code",
   "execution_count": 24,
   "id": "10a2ed17",
   "metadata": {},
   "outputs": [
    {
     "name": "stdout",
     "output_type": "stream",
     "text": [
      "gender: ['f' 'm' 'xna']\n"
     ]
    }
   ],
   "source": [
    "print(\"gender:\", credit['gender'].unique())"
   ]
  },
  {
   "cell_type": "markdown",
   "id": "8f264fec",
   "metadata": {},
   "source": [
    "I am assuming xna is binary in this case and keep the observation."
   ]
  },
  {
   "cell_type": "code",
   "execution_count": 25,
   "id": "053f13e0",
   "metadata": {},
   "outputs": [
    {
     "data": {
      "text/plain": [
       "wedding ceremony                            784\n",
       "having a wedding                            756\n",
       "to have a wedding                           751\n",
       "real estate transactions                    670\n",
       "buy commercial real estate                  655\n",
       "buying property for renting out             647\n",
       "housing transactions                        646\n",
       "transactions with commercial real estate    644\n",
       "housing                                     640\n",
       "purchase of the house                       639\n",
       "purchase of the house for my family         634\n",
       "property                                    630\n",
       "construction of own property                628\n",
       "purchase of my own house                    619\n",
       "transactions with my real estate            619\n",
       "building a real estate                      618\n",
       "building a property                         618\n",
       "buy real estate                             613\n",
       "housing renovation                          601\n",
       "buy residential real estate                 601\n",
       "buying my own car                           504\n",
       "going to university                         496\n",
       "car                                         490\n",
       "second-hand car purchase                    478\n",
       "cars                                        476\n",
       "to own a car                                471\n",
       "buying a second-hand car                    470\n",
       "to buy a car                                468\n",
       "car purchase                                458\n",
       "purchase of a car                           455\n",
       "supplementary education                     453\n",
       "university education                        445\n",
       "to get a supplementary education            443\n",
       "education                                   442\n",
       "getting an education                        439\n",
       "profile education                           432\n",
       "getting higher education                    425\n",
       "to become educated                          404\n",
       "Name: purpose, dtype: int64"
      ]
     },
     "execution_count": 25,
     "metadata": {},
     "output_type": "execute_result"
    }
   ],
   "source": [
    "credit['purpose'].value_counts().sort_values(ascending=False)"
   ]
  },
  {
   "cell_type": "code",
   "execution_count": 26,
   "id": "da66898b",
   "metadata": {},
   "outputs": [
    {
     "data": {
      "text/plain": [
       "for real estate transaction    10722\n",
       "to buy a car                    4270\n",
       "to get an education             3979\n",
       "to have a wedding               2291\n",
       "Name: purpose, dtype: int64"
      ]
     },
     "execution_count": 26,
     "metadata": {},
     "output_type": "execute_result"
    }
   ],
   "source": [
    "credit['purpose'] = credit['purpose'].replace(['wedding ceremony','having a wedding'], 'to have a wedding')\n",
    "credit['purpose'] = credit['purpose'].replace(['purchase of a car', 'cars', 'buying a second-hand car', 'second-hand car purchase', 'car', 'to own a car', 'buying my own car', \"car purchase\"], 'to buy a car')\n",
    "credit['purpose'] = credit['purpose'].replace(['real estate', 'buy real estate','housing renovation', 'construction of own property',  'buy residential real estate','housing transactions', 'transactions with my real estate', 'purchase of the house',  'real estate transactions', 'purchase of my own house', 'buy commercial real estate', 'buying property for renting out', 'transactions with commercial real estate', 'building a property', 'building a real estate', 'purchase of the house for my family', 'housing', 'property' ], 'for real estate transaction')\n",
    "credit['purpose'] = credit['purpose'].replace(['going to university', 'university education','education', 'supplementary education', 'getting higher education', 'getting an education', 'profile education', 'to get a supplementary education',  'to become educated'  ], 'to get an education')\n",
    "credit['purpose'].value_counts()"
   ]
  },
  {
   "cell_type": "code",
   "execution_count": 27,
   "id": "48155dfe",
   "metadata": {},
   "outputs": [
    {
     "name": "stdout",
     "output_type": "stream",
     "text": [
      "education: [\"bachelor's degree\" 'secondary education' 'some college'\n",
      " 'primary education' 'graduate degree']\n"
     ]
    }
   ],
   "source": [
    "print(\"education:\", credit['education'].unique())"
   ]
  },
  {
   "cell_type": "code",
   "execution_count": 28,
   "id": "07af6f2d",
   "metadata": {},
   "outputs": [
    {
     "name": "stdout",
     "output_type": "stream",
     "text": [
      "family_status ['married' 'civil partnership' 'widow / widower' 'divorced' 'unmarried']\n"
     ]
    }
   ],
   "source": [
    "print(\"family_status\", credit['family_status'].unique())"
   ]
  },
  {
   "cell_type": "code",
   "execution_count": 29,
   "id": "0ff52542",
   "metadata": {},
   "outputs": [
    {
     "name": "stdout",
     "output_type": "stream",
     "text": [
      "family_status_id [0 1 2 3 4]\n"
     ]
    }
   ],
   "source": [
    "print(\"family_status_id\", credit['family_status_id'].unique())"
   ]
  },
  {
   "cell_type": "markdown",
   "id": "97dc15b5",
   "metadata": {},
   "source": [
    "Family status is already encoded.  I will drop the \"family_status\" variable from the dataframe later.  "
   ]
  },
  {
   "cell_type": "code",
   "execution_count": 30,
   "id": "454a10d8",
   "metadata": {
    "scrolled": true
   },
   "outputs": [
    {
     "name": "stdout",
     "output_type": "stream",
     "text": [
      "days of employment [8437.67302776 4024.80375385 5623.42261023 ... 2113.3468877  3112.4817052\n",
      " 1984.50758853]\n"
     ]
    },
    {
     "data": {
      "text/plain": [
       "<AxesSubplot:>"
      ]
     },
     "execution_count": 30,
     "metadata": {},
     "output_type": "execute_result"
    },
    {
     "data": {
      "image/png": "[encoded data removed]",
      "text/plain": [
       "<Figure size 432x288 with 1 Axes>"
      ]
     },
     "metadata": {
      "needs_background": "light"
     },
     "output_type": "display_data"
    }
   ],
   "source": [
    "print('days of employment', credit['days_empl'].unique())\n",
    "credit['days_empl'].hist()"
   ]
  },
  {
   "cell_type": "code",
   "execution_count": 80,
   "id": "cb91663e",
   "metadata": {},
   "outputs": [
    {
     "data": {
      "image/png": "[encoded data removed]",
      "text/plain": [
       "<Figure size 432x288 with 1 Axes>"
      ]
     },
     "metadata": {
      "needs_background": "light"
     },
     "output_type": "display_data"
    }
   ],
   "source": [
    "credit['days_empl'].hist();"
   ]
  },
  {
   "cell_type": "markdown",
   "id": "0aa38bad",
   "metadata": {},
   "source": [
    "If we assume that the older person in the dataset who is 75 was 10 years old and worked in his/her parent business, then we can use 65 years as the maximum number of years of employment and multiply that by 365 - assuming of course that these days employed include weekends.  This step removes most of the NaNs."
   ]
  },
  {
   "cell_type": "code",
   "execution_count": 31,
   "id": "3f7df693",
   "metadata": {},
   "outputs": [
    {
     "name": "stdout",
     "output_type": "stream",
     "text": [
      "23725\n",
      "<class 'pandas.core.frame.DataFrame'>\n",
      "Int64Index: 17831 entries, 0 to 21524\n",
      "Data columns (total 12 columns):\n",
      " #   Column            Non-Null Count  Dtype  \n",
      "---  ------            --------------  -----  \n",
      " 0   children          17831 non-null  int64  \n",
      " 1   dob_years         17831 non-null  int64  \n",
      " 2   education         17831 non-null  object \n",
      " 3   education_id      17831 non-null  int64  \n",
      " 4   family_status     17831 non-null  object \n",
      " 5   family_status_id  17831 non-null  int64  \n",
      " 6   gender            17831 non-null  object \n",
      " 7   income_type       17831 non-null  object \n",
      " 8   debt              17831 non-null  int64  \n",
      " 9   purpose           17831 non-null  object \n",
      " 10  income            17831 non-null  float64\n",
      " 11  days_empl         17831 non-null  float64\n",
      "dtypes: float64(2), int64(5), object(5)\n",
      "memory usage: 1.8+ MB\n"
     ]
    },
    {
     "data": {
      "image/png": "[encoded data removed]",
      "text/plain": [
       "<Figure size 432x288 with 1 Axes>"
      ]
     },
     "metadata": {
      "needs_background": "light"
     },
     "output_type": "display_data"
    }
   ],
   "source": [
    "print(65*365)\n",
    "credit = credit[(credit['days_empl'] < 23725) ]\n",
    "type(credit)\n",
    "credit['days_empl'].hist(bins = 50)\n",
    "credit.info()"
   ]
  },
  {
   "cell_type": "markdown",
   "id": "2c4478a3",
   "metadata": {},
   "source": [
    "Here were lost 3431 observations compared to 5593 in notebook 1 which I am assuming dropped also all the NaN values."
   ]
  },
  {
   "cell_type": "markdown",
   "id": "2d4cc72a",
   "metadata": {},
   "source": [
    "Now I categorize days employed."
   ]
  },
  {
   "cell_type": "code",
   "execution_count": 32,
   "id": "f9960242",
   "metadata": {},
   "outputs": [
    {
     "name": "stdout",
     "output_type": "stream",
     "text": [
      "upto5000      3401\n",
      "upto2000      2673\n",
      "upto500       2599\n",
      "upto1000      2593\n",
      "upto3000      2446\n",
      "upto1500      2357\n",
      "above5000+    1762\n",
      "Name: empl_len, dtype: int64\n"
     ]
    }
   ],
   "source": [
    "def empl_len(employment):\n",
    "    \n",
    "    if employment <= 500:\n",
    "        return 'upto500'\n",
    "    if employment <= 1000:\n",
    "        return 'upto1000'\n",
    "    if employment <= 1500:\n",
    "        return 'upto1500'\n",
    "    if employment <= 2000:\n",
    "        return 'upto2000'\n",
    "    if employment <= 3000:\n",
    "        return 'upto3000'\n",
    "    if employment <= 5000:\n",
    "        return 'upto5000'\n",
    "    return 'above5000+'\n",
    "\n",
    "credit['empl_len'] = credit['days_empl'].apply(empl_len)\n",
    "print(credit['empl_len'].value_counts())"
   ]
  },
  {
   "cell_type": "code",
   "execution_count": 33,
   "id": "7fd46ec7",
   "metadata": {},
   "outputs": [
    {
     "data": {
      "text/plain": [
       "0.15     513.782385\n",
       "0.30    1027.220678\n",
       "0.45    1624.196920\n",
       "0.60    2182.448451\n",
       "0.75    3298.254825\n",
       "0.90    4973.693154\n",
       "Name: days_empl, dtype: float64"
      ]
     },
     "execution_count": 33,
     "metadata": {},
     "output_type": "execute_result"
    }
   ],
   "source": [
    "#credit['days_employed'].quantile([.1, .2, .3, .4, .5, .6, .7, .8, .9])\n",
    "#credit['days_employed'].quantile([.2,  .4,  .6,  .8])\n",
    "credit['days_empl'].quantile([.15, .3, .45, .6, .75, .9])"
   ]
  },
  {
   "cell_type": "markdown",
   "id": "179c676d",
   "metadata": {},
   "source": [
    "Here too I am happy with my choice."
   ]
  },
  {
   "cell_type": "code",
   "execution_count": 34,
   "id": "e1bb4bb3",
   "metadata": {},
   "outputs": [
    {
     "data": {
      "text/plain": [
       "<AxesSubplot:>"
      ]
     },
     "execution_count": 34,
     "metadata": {},
     "output_type": "execute_result"
    },
    {
     "data": {
      "image/png": "[encoded data removed]",
      "text/plain": [
       "<Figure size 432x288 with 1 Axes>"
      ]
     },
     "metadata": {
      "needs_background": "light"
     },
     "output_type": "display_data"
    }
   ],
   "source": [
    "credit.boxplot(column =['dob_years'], grid = False)"
   ]
  },
  {
   "cell_type": "code",
   "execution_count": 35,
   "id": "87c92a17",
   "metadata": {},
   "outputs": [
    {
     "data": {
      "text/plain": [
       "<AxesSubplot:>"
      ]
     },
     "execution_count": 35,
     "metadata": {},
     "output_type": "execute_result"
    },
    {
     "data": {
      "image/png": "[encoded data removed]",
      "text/plain": [
       "<Figure size 432x288 with 1 Axes>"
      ]
     },
     "metadata": {
      "needs_background": "light"
     },
     "output_type": "display_data"
    }
   ],
   "source": [
    "credit['dob_years'].hist()"
   ]
  },
  {
   "cell_type": "markdown",
   "id": "b20e0ea1",
   "metadata": {},
   "source": [
    "An observation with age == 0 is nonsensical.  Obvisouly it is a mistake. "
   ]
  },
  {
   "cell_type": "code",
   "execution_count": 36,
   "id": "8c64b14e",
   "metadata": {},
   "outputs": [],
   "source": [
    "credit = credit[(credit['dob_years'] >= 18) ]"
   ]
  },
  {
   "cell_type": "code",
   "execution_count": 37,
   "id": "9a380a24",
   "metadata": {},
   "outputs": [
    {
     "name": "stdout",
     "output_type": "stream",
     "text": [
      "<class 'pandas.core.frame.DataFrame'>\n",
      "Int64Index: 17748 entries, 0 to 21524\n",
      "Data columns (total 13 columns):\n",
      " #   Column            Non-Null Count  Dtype  \n",
      "---  ------            --------------  -----  \n",
      " 0   children          17748 non-null  int64  \n",
      " 1   dob_years         17748 non-null  int64  \n",
      " 2   education         17748 non-null  object \n",
      " 3   education_id      17748 non-null  int64  \n",
      " 4   family_status     17748 non-null  object \n",
      " 5   family_status_id  17748 non-null  int64  \n",
      " 6   gender            17748 non-null  object \n",
      " 7   income_type       17748 non-null  object \n",
      " 8   debt              17748 non-null  int64  \n",
      " 9   purpose           17748 non-null  object \n",
      " 10  income            17748 non-null  float64\n",
      " 11  days_empl         17748 non-null  float64\n",
      " 12  empl_len          17748 non-null  object \n",
      "dtypes: float64(2), int64(5), object(6)\n",
      "memory usage: 1.9+ MB\n"
     ]
    },
    {
     "data": {
      "image/png": "[encoded data removed]",
      "text/plain": [
       "<Figure size 432x288 with 1 Axes>"
      ]
     },
     "metadata": {
      "needs_background": "light"
     },
     "output_type": "display_data"
    }
   ],
   "source": [
    "credit['dob_years'].hist()\n",
    "credit.info()"
   ]
  },
  {
   "cell_type": "markdown",
   "id": "7db1a7e8",
   "metadata": {},
   "source": [
    "This time we lost 83 observations."
   ]
  },
  {
   "cell_type": "markdown",
   "id": "0fb5d1e4",
   "metadata": {},
   "source": [
    "Now, I will categorize age.  There is no right and wrong way to do this. The more categories, the more texture in the data and the better hypothesis testing is.  But we are restricted to our data and its bulk is between 22 and 60.  So I choose the following."
   ]
  },
  {
   "cell_type": "code",
   "execution_count": 38,
   "id": "1192400d",
   "metadata": {},
   "outputs": [
    {
     "name": "stdout",
     "output_type": "stream",
     "text": [
      "upto35    2829\n",
      "upto40    2815\n",
      "upto45    2682\n",
      "upto30    2463\n",
      "upto50    2348\n",
      "upto55    1715\n",
      "55+       1672\n",
      "upto25    1224\n",
      "Name: age_group, dtype: int64\n"
     ]
    }
   ],
   "source": [
    "def age_group(age):\n",
    "    \n",
    "   \n",
    "    if age <= 25:\n",
    "        return 'upto25'\n",
    "    if age <= 30:\n",
    "        return 'upto30'\n",
    "    if age <= 35:\n",
    "        return 'upto35'\n",
    "    if age <= 40:\n",
    "        return 'upto40'\n",
    "    if age <= 45:\n",
    "        return 'upto45'\n",
    "    if age <= 50:\n",
    "        return 'upto50'\n",
    "    if age <= 55:\n",
    "        return 'upto55'\n",
    "    return '55+'\n",
    "\n",
    "credit['age_group'] = credit['dob_years'].apply(age_group)\n",
    "print(credit['age_group'].value_counts())"
   ]
  },
  {
   "cell_type": "markdown",
   "id": "dbf30e81",
   "metadata": {},
   "source": [
    "To check my intuition, I view the distribution of this variable's quantiles."
   ]
  },
  {
   "cell_type": "code",
   "execution_count": 39,
   "id": "06915160",
   "metadata": {},
   "outputs": [
    {
     "data": {
      "text/plain": [
       "0.15    29.0\n",
       "0.30    34.0\n",
       "0.45    38.0\n",
       "0.60    43.0\n",
       "0.75    48.0\n",
       "0.90    55.0\n",
       "Name: dob_years, dtype: float64"
      ]
     },
     "execution_count": 39,
     "metadata": {},
     "output_type": "execute_result"
    }
   ],
   "source": [
    "#credit['dob_years'].quantile([.1, .2, .3, .4, .5, .6, .7, .8, .9])\n",
    "#credit['dob_years'].quantile([.2,  .4,  .6,  .8])\n",
    "credit['dob_years'].quantile([.15, .3, .45, .6, .75, .9])"
   ]
  },
  {
   "cell_type": "markdown",
   "id": "d2fa241d",
   "metadata": {},
   "source": [
    "I am happy with my decision.  Even the 10% quantile starts at 27."
   ]
  },
  {
   "cell_type": "code",
   "execution_count": 40,
   "id": "aa189577",
   "metadata": {},
   "outputs": [
    {
     "name": "stdout",
     "output_type": "stream",
     "text": [
      "education_id [0 1 2 3 4]\n"
     ]
    }
   ],
   "source": [
    "print('education_id', credit['education_id'].unique())"
   ]
  },
  {
   "cell_type": "markdown",
   "id": "7efcb7e3",
   "metadata": {},
   "source": [
    "Here too, \"education\" is already encoded."
   ]
  },
  {
   "cell_type": "code",
   "execution_count": 41,
   "id": "0c60c66c",
   "metadata": {},
   "outputs": [
    {
     "name": "stdout",
     "output_type": "stream",
     "text": [
      "income_type ['employee' 'business' 'retiree' 'civil servant' 'entrepreneur' 'student'\n",
      " 'paternity / maternity leave']\n"
     ]
    }
   ],
   "source": [
    "print('income_type', credit['income_type'].unique())"
   ]
  },
  {
   "cell_type": "code",
   "execution_count": 42,
   "id": "fd7071eb",
   "metadata": {},
   "outputs": [
    {
     "name": "stdout",
     "output_type": "stream",
     "text": [
      "debt [0 1]\n"
     ]
    }
   ],
   "source": [
    "print('debt', credit['debt'].unique())"
   ]
  },
  {
   "cell_type": "markdown",
   "id": "2e85ff61",
   "metadata": {},
   "source": [
    "This is our dependent variable of interest and it is dichotomous.  So our explanatory variables need not be continuous and categorizing is the right thing to do."
   ]
  },
  {
   "cell_type": "code",
   "execution_count": 43,
   "id": "a4af1d9a",
   "metadata": {},
   "outputs": [
    {
     "data": {
      "text/plain": [
       "<AxesSubplot:>"
      ]
     },
     "execution_count": 43,
     "metadata": {},
     "output_type": "execute_result"
    },
    {
     "data": {
      "image/png": "[encoded data removed]",
      "text/plain": [
       "<Figure size 432x288 with 1 Axes>"
      ]
     },
     "metadata": {
      "needs_background": "light"
     },
     "output_type": "display_data"
    }
   ],
   "source": [
    "credit['income'].hist(bins=100)"
   ]
  },
  {
   "cell_type": "code",
   "execution_count": 44,
   "id": "9b6b2671",
   "metadata": {},
   "outputs": [
    {
     "data": {
      "text/plain": [
       "<AxesSubplot:>"
      ]
     },
     "execution_count": 44,
     "metadata": {},
     "output_type": "execute_result"
    },
    {
     "data": {
      "image/png": "[encoded data removed]",
      "text/plain": [
       "<Figure size 432x288 with 1 Axes>"
      ]
     },
     "metadata": {
      "needs_background": "light"
     },
     "output_type": "display_data"
    }
   ],
   "source": [
    "credit.boxplot(column =['income'], grid = False)"
   ]
  },
  {
   "cell_type": "markdown",
   "id": "4a9d423f",
   "metadata": {},
   "source": [
    "This data is very skewed and the categorization should capture these nuances in the data."
   ]
  },
  {
   "cell_type": "code",
   "execution_count": 45,
   "id": "4aff991b",
   "metadata": {},
   "outputs": [
    {
     "name": "stdout",
     "output_type": "stream",
     "text": [
      "bracket35     4573\n",
      "bracket25     3582\n",
      "bracket20     3325\n",
      "bracket15     2600\n",
      "bracket45     1996\n",
      "bracket45+    1672\n",
      "Name: income_group, dtype: int64\n"
     ]
    }
   ],
   "source": [
    "def income_group(income):\n",
    "    \n",
    "    if income <= 15000:\n",
    "        return 'bracket15'\n",
    "    if income <= 20000:\n",
    "        return 'bracket20'\n",
    "    if income <= 25000:\n",
    "        return 'bracket25'\n",
    "    if income <= 35000:\n",
    "        return 'bracket35'\n",
    "    if income <= 45000:\n",
    "        return 'bracket45'\n",
    "    return 'bracket45+'\n",
    "\n",
    "credit['income_group'] = credit['income'].apply(income_group)\n",
    "print(credit['income_group'].value_counts())"
   ]
  },
  {
   "cell_type": "code",
   "execution_count": 46,
   "id": "5be18182",
   "metadata": {},
   "outputs": [
    {
     "data": {
      "text/plain": [
       "0.15    15124.2779\n",
       "0.30    19267.9553\n",
       "0.45    22521.6597\n",
       "0.60    26584.9732\n",
       "0.75    32416.9890\n",
       "0.90    44284.1439\n",
       "Name: income, dtype: float64"
      ]
     },
     "execution_count": 46,
     "metadata": {},
     "output_type": "execute_result"
    }
   ],
   "source": [
    "#credit['total_income'].quantile([.1, .2, .3, .4, .5, .6, .7, .8, .9])\n",
    "#credit['total_income'].quantile([.2,  .4,  .6,  .8])\n",
    "credit['income'].quantile([.15, .3, .45, .6, .75, .9])"
   ]
  },
  {
   "cell_type": "markdown",
   "id": "006fc2a2",
   "metadata": {},
   "source": [
    "Here again our data is skewed and I am happy with my choice."
   ]
  },
  {
   "cell_type": "markdown",
   "id": "37ec471a",
   "metadata": {},
   "source": [
    "Now I create a duplicate from my dataframe in order to replace some columns with their encoded equivalent and drop the variables that are already encoded."
   ]
  },
  {
   "cell_type": "code",
   "execution_count": 47,
   "id": "789889b5",
   "metadata": {},
   "outputs": [],
   "source": [
    "credit_encode = credit.copy()"
   ]
  },
  {
   "cell_type": "code",
   "execution_count": 48,
   "id": "74da15a4",
   "metadata": {},
   "outputs": [
    {
     "name": "stdout",
     "output_type": "stream",
     "text": [
      "{'gender': {'f': 0, 'm': 1, 'xna': 2}}\n"
     ]
    }
   ],
   "source": [
    "# encoding gender and placing it in credit_encode\n",
    "gender_encode = {'gender':{'f': 0, \"m\": 1, 'xna': 2}}\n",
    "print(gender_encode)\n",
    "credit_encode.replace(gender_encode, inplace =True)"
   ]
  },
  {
   "cell_type": "code",
   "execution_count": 49,
   "id": "c9a8937f",
   "metadata": {},
   "outputs": [
    {
     "name": "stdout",
     "output_type": "stream",
     "text": [
      "{'purpose': {'for real estate transaction': 0, 'to buy a car': 1, 'to get an education': 2, 'to have a wedding': 3}}\n"
     ]
    }
   ],
   "source": [
    "# encoding 'purpose' and placing it in credit_encode\n",
    "purpose_encode = {'purpose':{'for real estate transaction': 0, \"to buy a car\": 1, 'to get an education': 2, 'to have a wedding':3}}\n",
    "print(purpose_encode)\n",
    "credit_encode.replace(purpose_encode, inplace =True)"
   ]
  },
  {
   "cell_type": "code",
   "execution_count": 50,
   "id": "7786c25a",
   "metadata": {},
   "outputs": [
    {
     "name": "stdout",
     "output_type": "stream",
     "text": [
      "{'age_group': {'upto25': 0, 'upto30': 1, 'upto35': 2, 'upto40': 3, 'upto45': 4, 'upto50': 5, 'upto55': 6, '55+': 7}}\n"
     ]
    }
   ],
   "source": [
    "# encoding 'age_group' and placing it in credit_encode\n",
    "age_group_encode = {'age_group':{'upto25': 0,'upto30': 1, \"upto35\": 2, 'upto40': 3, 'upto45':4, 'upto50':5, 'upto55':6, '55+':7}}\n",
    "print(age_group_encode)\n",
    "credit_encode.replace(age_group_encode, inplace =True)"
   ]
  },
  {
   "cell_type": "code",
   "execution_count": 51,
   "id": "98c6ffae",
   "metadata": {},
   "outputs": [
    {
     "name": "stdout",
     "output_type": "stream",
     "text": [
      "{'income_type': {'employee': 0, 'business': 1, 'civil servant': 2, 'student': 3, 'entrepreneur': 4, 'paternity / maternity leave': 5, 'retiree': 6}}\n"
     ]
    }
   ],
   "source": [
    "# encoding 'income_type' and placing it in credit_encode\n",
    "income_type_encode = {'income_type':{'employee':0, 'business':1, 'civil servant':2, 'student':3, 'entrepreneur':4,\n",
    " 'paternity / maternity leave':5, 'retiree':6}}\n",
    "print(income_type_encode)\n",
    "credit_encode.replace(income_type_encode, inplace =True)"
   ]
  },
  {
   "cell_type": "code",
   "execution_count": 52,
   "id": "3e59d36b",
   "metadata": {
    "scrolled": true
   },
   "outputs": [
    {
     "name": "stdout",
     "output_type": "stream",
     "text": [
      "{'income_group': {'bracket15': 0, 'bracket20': 1, 'bracket25': 2, 'bracket35': 3, 'bracket45': 4, 'bracket45+': 5}}\n"
     ]
    }
   ],
   "source": [
    "# encoding 'total_income' and placing it in credit_encode\n",
    "total_income_encode = {'income_group':{'bracket15':0, 'bracket20':1, 'bracket25':2, 'bracket35':3,'bracket45':4, 'bracket45+':5}}\n",
    "print(total_income_encode)\n",
    "credit_encode.replace(total_income_encode, inplace =True)"
   ]
  },
  {
   "cell_type": "code",
   "execution_count": 53,
   "id": "845a43ed",
   "metadata": {},
   "outputs": [
    {
     "name": "stdout",
     "output_type": "stream",
     "text": [
      "{'empl_len': {'upto500': 0, 'upto1000': 1, 'upto1500': 2, 'upto2000': 3, 'upto3000': 4, 'upto5000': 5, 'above5000+': 6}}\n"
     ]
    }
   ],
   "source": [
    "# encoding 'days_employed' and placing it in credit_encode\n",
    "days_employed_encode = {'empl_len':{'upto500':0, 'upto1000':1, 'upto1500':2, 'upto2000':3, 'upto3000':4, 'upto5000':5, 'above5000+':6}}\n",
    "print(days_employed_encode)\n",
    "credit_encode.replace(days_employed_encode, inplace =True)"
   ]
  },
  {
   "cell_type": "markdown",
   "id": "3bd264a1",
   "metadata": {},
   "source": [
    "Here I drop those columns that have been replaced with their encoded equivalent."
   ]
  },
  {
   "cell_type": "code",
   "execution_count": 54,
   "id": "de96eb23",
   "metadata": {
    "scrolled": true
   },
   "outputs": [
    {
     "data": {
      "text/html": [
       "<div>\n",
       "<style scoped>\n",
       "    .dataframe tbody tr th:only-of-type {\n",
       "        vertical-align: middle;\n",
       "    }\n",
       "\n",
       "    .dataframe tbody tr th {\n",
       "        vertical-align: top;\n",
       "    }\n",
       "\n",
       "    .dataframe thead th {\n",
       "        text-align: right;\n",
       "    }\n",
       "</style>\n",
       "<table border=\"1\" class=\"dataframe\">\n",
       "  <thead>\n",
       "    <tr style=\"text-align: right;\">\n",
       "      <th></th>\n",
       "      <th>children</th>\n",
       "      <th>education_id</th>\n",
       "      <th>family_status_id</th>\n",
       "      <th>gender</th>\n",
       "      <th>income_type</th>\n",
       "      <th>debt</th>\n",
       "      <th>purpose</th>\n",
       "      <th>empl_len</th>\n",
       "      <th>age_group</th>\n",
       "      <th>income_group</th>\n",
       "    </tr>\n",
       "  </thead>\n",
       "  <tbody>\n",
       "    <tr>\n",
       "      <th>0</th>\n",
       "      <td>1</td>\n",
       "      <td>0</td>\n",
       "      <td>0</td>\n",
       "      <td>0</td>\n",
       "      <td>0</td>\n",
       "      <td>0</td>\n",
       "      <td>0</td>\n",
       "      <td>6</td>\n",
       "      <td>4</td>\n",
       "      <td>4</td>\n",
       "    </tr>\n",
       "    <tr>\n",
       "      <th>1</th>\n",
       "      <td>1</td>\n",
       "      <td>1</td>\n",
       "      <td>0</td>\n",
       "      <td>0</td>\n",
       "      <td>0</td>\n",
       "      <td>0</td>\n",
       "      <td>1</td>\n",
       "      <td>5</td>\n",
       "      <td>3</td>\n",
       "      <td>1</td>\n",
       "    </tr>\n",
       "    <tr>\n",
       "      <th>2</th>\n",
       "      <td>0</td>\n",
       "      <td>1</td>\n",
       "      <td>0</td>\n",
       "      <td>1</td>\n",
       "      <td>0</td>\n",
       "      <td>0</td>\n",
       "      <td>0</td>\n",
       "      <td>6</td>\n",
       "      <td>2</td>\n",
       "      <td>2</td>\n",
       "    </tr>\n",
       "    <tr>\n",
       "      <th>3</th>\n",
       "      <td>3</td>\n",
       "      <td>1</td>\n",
       "      <td>0</td>\n",
       "      <td>1</td>\n",
       "      <td>0</td>\n",
       "      <td>0</td>\n",
       "      <td>2</td>\n",
       "      <td>5</td>\n",
       "      <td>2</td>\n",
       "      <td>4</td>\n",
       "    </tr>\n",
       "    <tr>\n",
       "      <th>5</th>\n",
       "      <td>0</td>\n",
       "      <td>0</td>\n",
       "      <td>1</td>\n",
       "      <td>1</td>\n",
       "      <td>1</td>\n",
       "      <td>0</td>\n",
       "      <td>0</td>\n",
       "      <td>1</td>\n",
       "      <td>1</td>\n",
       "      <td>4</td>\n",
       "    </tr>\n",
       "    <tr>\n",
       "      <th>...</th>\n",
       "      <td>...</td>\n",
       "      <td>...</td>\n",
       "      <td>...</td>\n",
       "      <td>...</td>\n",
       "      <td>...</td>\n",
       "      <td>...</td>\n",
       "      <td>...</td>\n",
       "      <td>...</td>\n",
       "      <td>...</td>\n",
       "      <td>...</td>\n",
       "    </tr>\n",
       "    <tr>\n",
       "      <th>21519</th>\n",
       "      <td>1</td>\n",
       "      <td>4</td>\n",
       "      <td>3</td>\n",
       "      <td>1</td>\n",
       "      <td>0</td>\n",
       "      <td>0</td>\n",
       "      <td>0</td>\n",
       "      <td>4</td>\n",
       "      <td>3</td>\n",
       "      <td>1</td>\n",
       "    </tr>\n",
       "    <tr>\n",
       "      <th>21520</th>\n",
       "      <td>1</td>\n",
       "      <td>1</td>\n",
       "      <td>1</td>\n",
       "      <td>0</td>\n",
       "      <td>1</td>\n",
       "      <td>0</td>\n",
       "      <td>0</td>\n",
       "      <td>5</td>\n",
       "      <td>4</td>\n",
       "      <td>4</td>\n",
       "    </tr>\n",
       "    <tr>\n",
       "      <th>21522</th>\n",
       "      <td>1</td>\n",
       "      <td>1</td>\n",
       "      <td>1</td>\n",
       "      <td>1</td>\n",
       "      <td>0</td>\n",
       "      <td>1</td>\n",
       "      <td>0</td>\n",
       "      <td>4</td>\n",
       "      <td>3</td>\n",
       "      <td>0</td>\n",
       "    </tr>\n",
       "    <tr>\n",
       "      <th>21523</th>\n",
       "      <td>3</td>\n",
       "      <td>1</td>\n",
       "      <td>0</td>\n",
       "      <td>1</td>\n",
       "      <td>0</td>\n",
       "      <td>1</td>\n",
       "      <td>1</td>\n",
       "      <td>5</td>\n",
       "      <td>3</td>\n",
       "      <td>4</td>\n",
       "    </tr>\n",
       "    <tr>\n",
       "      <th>21524</th>\n",
       "      <td>2</td>\n",
       "      <td>1</td>\n",
       "      <td>0</td>\n",
       "      <td>0</td>\n",
       "      <td>0</td>\n",
       "      <td>0</td>\n",
       "      <td>1</td>\n",
       "      <td>3</td>\n",
       "      <td>3</td>\n",
       "      <td>0</td>\n",
       "    </tr>\n",
       "  </tbody>\n",
       "</table>\n",
       "<p>17748 rows × 10 columns</p>\n",
       "</div>"
      ],
      "text/plain": [
       "       children  education_id  family_status_id  gender  income_type  debt  \\\n",
       "0             1             0                 0       0            0     0   \n",
       "1             1             1                 0       0            0     0   \n",
       "2             0             1                 0       1            0     0   \n",
       "3             3             1                 0       1            0     0   \n",
       "5             0             0                 1       1            1     0   \n",
       "...         ...           ...               ...     ...          ...   ...   \n",
       "21519         1             4                 3       1            0     0   \n",
       "21520         1             1                 1       0            1     0   \n",
       "21522         1             1                 1       1            0     1   \n",
       "21523         3             1                 0       1            0     1   \n",
       "21524         2             1                 0       0            0     0   \n",
       "\n",
       "       purpose  empl_len  age_group  income_group  \n",
       "0            0         6          4             4  \n",
       "1            1         5          3             1  \n",
       "2            0         6          2             2  \n",
       "3            2         5          2             4  \n",
       "5            0         1          1             4  \n",
       "...        ...       ...        ...           ...  \n",
       "21519        0         4          3             1  \n",
       "21520        0         5          4             4  \n",
       "21522        0         4          3             0  \n",
       "21523        1         5          3             4  \n",
       "21524        1         3          3             0  \n",
       "\n",
       "[17748 rows x 10 columns]"
      ]
     },
     "execution_count": 54,
     "metadata": {},
     "output_type": "execute_result"
    }
   ],
   "source": [
    "credit_encode.drop([ \"dob_years\", \"education\", \"family_status\",  \"income\", \"days_empl\"], axis = 1, inplace = True) \n",
    "credit_encode"
   ]
  },
  {
   "cell_type": "markdown",
   "id": "32364205",
   "metadata": {},
   "source": [
    "Check the encoding for errors."
   ]
  },
  {
   "cell_type": "code",
   "execution_count": 55,
   "id": "d26e45c7",
   "metadata": {},
   "outputs": [
    {
     "name": "stdout",
     "output_type": "stream",
     "text": [
      "[1 0 3 2 4 5]\n",
      "[0 1 2 3 4]\n",
      "[0 1 3 4 2]\n",
      "[0 1 2]\n",
      "[0 1 6 2 4 3 5]\n",
      "[0 1]\n",
      "[0 1 2 3]\n",
      "[6 5 1 4 0 3 2]\n",
      "[4 3 2 1 5 7 6 0]\n",
      "[4 1 2 0 3 5]\n"
     ]
    }
   ],
   "source": [
    "for col in credit_encode:\n",
    "    print(credit_encode[col].unique())"
   ]
  },
  {
   "cell_type": "markdown",
   "id": "aa1b88f1",
   "metadata": {},
   "source": [
    "Check for null."
   ]
  },
  {
   "cell_type": "code",
   "execution_count": 56,
   "id": "6f561042",
   "metadata": {},
   "outputs": [
    {
     "data": {
      "text/plain": [
       "children            0\n",
       "education_id        0\n",
       "family_status_id    0\n",
       "gender              0\n",
       "income_type         0\n",
       "debt                0\n",
       "purpose             0\n",
       "empl_len            0\n",
       "age_group           0\n",
       "income_group        0\n",
       "dtype: int64"
      ]
     },
     "execution_count": 56,
     "metadata": {},
     "output_type": "execute_result"
    }
   ],
   "source": [
    "credit_encode.isnull().sum()"
   ]
  },
  {
   "cell_type": "markdown",
   "id": "8c3e302b",
   "metadata": {},
   "source": [
    "Integerize the dataframe in preparation for testing hypotheses."
   ]
  },
  {
   "cell_type": "code",
   "execution_count": 57,
   "id": "5ab4b345",
   "metadata": {},
   "outputs": [
    {
     "data": {
      "text/html": [
       "<div>\n",
       "<style scoped>\n",
       "    .dataframe tbody tr th:only-of-type {\n",
       "        vertical-align: middle;\n",
       "    }\n",
       "\n",
       "    .dataframe tbody tr th {\n",
       "        vertical-align: top;\n",
       "    }\n",
       "\n",
       "    .dataframe thead th {\n",
       "        text-align: right;\n",
       "    }\n",
       "</style>\n",
       "<table border=\"1\" class=\"dataframe\">\n",
       "  <thead>\n",
       "    <tr style=\"text-align: right;\">\n",
       "      <th></th>\n",
       "      <th>children</th>\n",
       "      <th>education_id</th>\n",
       "      <th>family_status_id</th>\n",
       "      <th>gender</th>\n",
       "      <th>income_type</th>\n",
       "      <th>debt</th>\n",
       "      <th>purpose</th>\n",
       "      <th>empl_len</th>\n",
       "      <th>age_group</th>\n",
       "      <th>income_group</th>\n",
       "    </tr>\n",
       "  </thead>\n",
       "  <tbody>\n",
       "    <tr>\n",
       "      <th>0</th>\n",
       "      <td>1</td>\n",
       "      <td>0</td>\n",
       "      <td>0</td>\n",
       "      <td>0</td>\n",
       "      <td>0</td>\n",
       "      <td>0</td>\n",
       "      <td>0</td>\n",
       "      <td>6</td>\n",
       "      <td>4</td>\n",
       "      <td>4</td>\n",
       "    </tr>\n",
       "    <tr>\n",
       "      <th>1</th>\n",
       "      <td>1</td>\n",
       "      <td>1</td>\n",
       "      <td>0</td>\n",
       "      <td>0</td>\n",
       "      <td>0</td>\n",
       "      <td>0</td>\n",
       "      <td>1</td>\n",
       "      <td>5</td>\n",
       "      <td>3</td>\n",
       "      <td>1</td>\n",
       "    </tr>\n",
       "    <tr>\n",
       "      <th>2</th>\n",
       "      <td>0</td>\n",
       "      <td>1</td>\n",
       "      <td>0</td>\n",
       "      <td>1</td>\n",
       "      <td>0</td>\n",
       "      <td>0</td>\n",
       "      <td>0</td>\n",
       "      <td>6</td>\n",
       "      <td>2</td>\n",
       "      <td>2</td>\n",
       "    </tr>\n",
       "    <tr>\n",
       "      <th>3</th>\n",
       "      <td>3</td>\n",
       "      <td>1</td>\n",
       "      <td>0</td>\n",
       "      <td>1</td>\n",
       "      <td>0</td>\n",
       "      <td>0</td>\n",
       "      <td>2</td>\n",
       "      <td>5</td>\n",
       "      <td>2</td>\n",
       "      <td>4</td>\n",
       "    </tr>\n",
       "    <tr>\n",
       "      <th>5</th>\n",
       "      <td>0</td>\n",
       "      <td>0</td>\n",
       "      <td>1</td>\n",
       "      <td>1</td>\n",
       "      <td>1</td>\n",
       "      <td>0</td>\n",
       "      <td>0</td>\n",
       "      <td>1</td>\n",
       "      <td>1</td>\n",
       "      <td>4</td>\n",
       "    </tr>\n",
       "    <tr>\n",
       "      <th>...</th>\n",
       "      <td>...</td>\n",
       "      <td>...</td>\n",
       "      <td>...</td>\n",
       "      <td>...</td>\n",
       "      <td>...</td>\n",
       "      <td>...</td>\n",
       "      <td>...</td>\n",
       "      <td>...</td>\n",
       "      <td>...</td>\n",
       "      <td>...</td>\n",
       "    </tr>\n",
       "    <tr>\n",
       "      <th>21519</th>\n",
       "      <td>1</td>\n",
       "      <td>4</td>\n",
       "      <td>3</td>\n",
       "      <td>1</td>\n",
       "      <td>0</td>\n",
       "      <td>0</td>\n",
       "      <td>0</td>\n",
       "      <td>4</td>\n",
       "      <td>3</td>\n",
       "      <td>1</td>\n",
       "    </tr>\n",
       "    <tr>\n",
       "      <th>21520</th>\n",
       "      <td>1</td>\n",
       "      <td>1</td>\n",
       "      <td>1</td>\n",
       "      <td>0</td>\n",
       "      <td>1</td>\n",
       "      <td>0</td>\n",
       "      <td>0</td>\n",
       "      <td>5</td>\n",
       "      <td>4</td>\n",
       "      <td>4</td>\n",
       "    </tr>\n",
       "    <tr>\n",
       "      <th>21522</th>\n",
       "      <td>1</td>\n",
       "      <td>1</td>\n",
       "      <td>1</td>\n",
       "      <td>1</td>\n",
       "      <td>0</td>\n",
       "      <td>1</td>\n",
       "      <td>0</td>\n",
       "      <td>4</td>\n",
       "      <td>3</td>\n",
       "      <td>0</td>\n",
       "    </tr>\n",
       "    <tr>\n",
       "      <th>21523</th>\n",
       "      <td>3</td>\n",
       "      <td>1</td>\n",
       "      <td>0</td>\n",
       "      <td>1</td>\n",
       "      <td>0</td>\n",
       "      <td>1</td>\n",
       "      <td>1</td>\n",
       "      <td>5</td>\n",
       "      <td>3</td>\n",
       "      <td>4</td>\n",
       "    </tr>\n",
       "    <tr>\n",
       "      <th>21524</th>\n",
       "      <td>2</td>\n",
       "      <td>1</td>\n",
       "      <td>0</td>\n",
       "      <td>0</td>\n",
       "      <td>0</td>\n",
       "      <td>0</td>\n",
       "      <td>1</td>\n",
       "      <td>3</td>\n",
       "      <td>3</td>\n",
       "      <td>0</td>\n",
       "    </tr>\n",
       "  </tbody>\n",
       "</table>\n",
       "<p>17748 rows × 10 columns</p>\n",
       "</div>"
      ],
      "text/plain": [
       "       children  education_id  family_status_id  gender  income_type  debt  \\\n",
       "0             1             0                 0       0            0     0   \n",
       "1             1             1                 0       0            0     0   \n",
       "2             0             1                 0       1            0     0   \n",
       "3             3             1                 0       1            0     0   \n",
       "5             0             0                 1       1            1     0   \n",
       "...         ...           ...               ...     ...          ...   ...   \n",
       "21519         1             4                 3       1            0     0   \n",
       "21520         1             1                 1       0            1     0   \n",
       "21522         1             1                 1       1            0     1   \n",
       "21523         3             1                 0       1            0     1   \n",
       "21524         2             1                 0       0            0     0   \n",
       "\n",
       "       purpose  empl_len  age_group  income_group  \n",
       "0            0         6          4             4  \n",
       "1            1         5          3             1  \n",
       "2            0         6          2             2  \n",
       "3            2         5          2             4  \n",
       "5            0         1          1             4  \n",
       "...        ...       ...        ...           ...  \n",
       "21519        0         4          3             1  \n",
       "21520        0         5          4             4  \n",
       "21522        0         4          3             0  \n",
       "21523        1         5          3             4  \n",
       "21524        1         3          3             0  \n",
       "\n",
       "[17748 rows x 10 columns]"
      ]
     },
     "execution_count": 57,
     "metadata": {},
     "output_type": "execute_result"
    }
   ],
   "source": [
    "credit_encode.apply(pd.to_numeric)"
   ]
  },
  {
   "cell_type": "code",
   "execution_count": 58,
   "id": "1419fc0d",
   "metadata": {},
   "outputs": [
    {
     "name": "stdout",
     "output_type": "stream",
     "text": [
      "<class 'pandas.core.frame.DataFrame'>\n",
      "Int64Index: 17748 entries, 0 to 21524\n",
      "Data columns (total 10 columns):\n",
      " #   Column            Non-Null Count  Dtype\n",
      "---  ------            --------------  -----\n",
      " 0   children          17748 non-null  int64\n",
      " 1   education_id      17748 non-null  int64\n",
      " 2   family_status_id  17748 non-null  int64\n",
      " 3   gender            17748 non-null  int64\n",
      " 4   income_type       17748 non-null  int64\n",
      " 5   debt              17748 non-null  int64\n",
      " 6   purpose           17748 non-null  int64\n",
      " 7   empl_len          17748 non-null  int64\n",
      " 8   age_group         17748 non-null  int64\n",
      " 9   income_group      17748 non-null  int64\n",
      "dtypes: int64(10)\n",
      "memory usage: 1.5 MB\n"
     ]
    }
   ],
   "source": [
    "credit_encode.info()"
   ]
  },
  {
   "cell_type": "markdown",
   "id": "738ecf6e",
   "metadata": {},
   "source": [
    "Now that our data has become categorical and is integerized, we can use the chi square test of independence which tests whether two distributions of categorical variables are related and thus pointing to a possible relationship between variables.  It is incorrect to use correlations because our variables are not continuous.  \n",
    "\n",
    "Testing a hypothesis goes like this.\n",
    "1- We start with a null that hypothesizes the independence of the observed frequencies of our variables of interest, i.e. no relationship\n",
    "2- We run the test and check mainly the p-value which basically tells us, out of 100 times this test is conducted, what is the probability than any relationship is spurious.  In social science, we aim for a hypothesis test of 0.05 or better.  That is if the p-value is at 0.0500 and below, we can establish with a confidence level of 95% that our variables are related. The smaller the p-value, the strong the evidence against the null hypothesis."
   ]
  },
  {
   "cell_type": "markdown",
   "id": "8b1d84d1",
   "metadata": {},
   "source": [
    "Hypothesis 1: Is there a connection between having kids and repaying a loan on time?"
   ]
  },
  {
   "cell_type": "code",
   "execution_count": 59,
   "id": "6191c92d",
   "metadata": {},
   "outputs": [
    {
     "data": {
      "text/html": [
       "<div>\n",
       "<style scoped>\n",
       "    .dataframe tbody tr th:only-of-type {\n",
       "        vertical-align: middle;\n",
       "    }\n",
       "\n",
       "    .dataframe tbody tr th {\n",
       "        vertical-align: top;\n",
       "    }\n",
       "\n",
       "    .dataframe thead th {\n",
       "        text-align: right;\n",
       "    }\n",
       "</style>\n",
       "<table border=\"1\" class=\"dataframe\">\n",
       "  <thead>\n",
       "    <tr style=\"text-align: right;\">\n",
       "      <th>children</th>\n",
       "      <th>0</th>\n",
       "      <th>1</th>\n",
       "      <th>2</th>\n",
       "      <th>3</th>\n",
       "      <th>4</th>\n",
       "      <th>5</th>\n",
       "      <th>All</th>\n",
       "    </tr>\n",
       "    <tr>\n",
       "      <th>debt</th>\n",
       "      <th></th>\n",
       "      <th></th>\n",
       "      <th></th>\n",
       "      <th></th>\n",
       "      <th></th>\n",
       "      <th></th>\n",
       "      <th></th>\n",
       "    </tr>\n",
       "  </thead>\n",
       "  <tbody>\n",
       "    <tr>\n",
       "      <th>0</th>\n",
       "      <td>9939</td>\n",
       "      <td>4099</td>\n",
       "      <td>1827</td>\n",
       "      <td>296</td>\n",
       "      <td>36</td>\n",
       "      <td>9</td>\n",
       "      <td>16206</td>\n",
       "    </tr>\n",
       "    <tr>\n",
       "      <th>1</th>\n",
       "      <td>892</td>\n",
       "      <td>429</td>\n",
       "      <td>191</td>\n",
       "      <td>26</td>\n",
       "      <td>4</td>\n",
       "      <td>0</td>\n",
       "      <td>1542</td>\n",
       "    </tr>\n",
       "    <tr>\n",
       "      <th>All</th>\n",
       "      <td>10831</td>\n",
       "      <td>4528</td>\n",
       "      <td>2018</td>\n",
       "      <td>322</td>\n",
       "      <td>40</td>\n",
       "      <td>9</td>\n",
       "      <td>17748</td>\n",
       "    </tr>\n",
       "  </tbody>\n",
       "</table>\n",
       "</div>"
      ],
      "text/plain": [
       "children      0     1     2    3   4  5    All\n",
       "debt                                          \n",
       "0          9939  4099  1827  296  36  9  16206\n",
       "1           892   429   191   26   4  0   1542\n",
       "All       10831  4528  2018  322  40  9  17748"
      ]
     },
     "execution_count": 59,
     "metadata": {},
     "output_type": "execute_result"
    }
   ],
   "source": [
    "from scipy.stats import chi2_contingency\n",
    "crosstab1 = pd.crosstab(credit_encode['debt'],\n",
    "                        credit_encode['children'], \n",
    "                               margins = True)\n",
    "crosstab1"
   ]
  },
  {
   "cell_type": "code",
   "execution_count": 60,
   "id": "781b6246",
   "metadata": {
    "scrolled": true
   },
   "outputs": [
    {
     "data": {
      "text/plain": [
       "(8.954192981166749,\n",
       " 0.11090525399868491,\n",
       " 5,\n",
       " array([[9.88996991e+03, 9.41030088e+02],\n",
       "        [4.13459364e+03, 3.93406356e+02],\n",
       "        [1.84267005e+03, 1.75329953e+02],\n",
       "        [2.94023665e+02, 2.79763354e+01],\n",
       "        [3.65246788e+01, 3.47532116e+00],\n",
       "        [8.21805274e+00, 7.81947262e-01]]))"
      ]
     },
     "execution_count": 60,
     "metadata": {},
     "output_type": "execute_result"
    }
   ],
   "source": [
    "chi2_contingency(pd.crosstab(credit_encode.children, credit_encode.debt))"
   ]
  },
  {
   "cell_type": "markdown",
   "id": "51c2727b",
   "metadata": {},
   "source": [
    "The test statistic = 9.12 as opposed to 10.75 in the first notebook\n",
    "The p-value of the test = 0.1 as opposed to 0.056 in the first notebook\n",
    "Degrees of freedom = 5\n",
    "We can ignore the expected values in the array.\n",
    "Conclusion:  The existing results do not show a pattern of association.  There is no clear relationship between number of kids and payment of loan as we are unable to reject the null of no association. "
   ]
  },
  {
   "cell_type": "markdown",
   "id": "1f1e9ac7",
   "metadata": {},
   "source": [
    "<div class=\"alert alert-info\"> <b>Student comments:</b> What is another way of solving this problem if one does not use chi-square?"
   ]
  },
  {
   "cell_type": "markdown",
   "id": "59100d0c",
   "metadata": {},
   "source": [
    "Hypothesis 2: Is there a connection between marital status and repaying a loan on time?"
   ]
  },
  {
   "cell_type": "code",
   "execution_count": 61,
   "id": "66c3ec4e",
   "metadata": {},
   "outputs": [
    {
     "data": {
      "text/html": [
       "<div>\n",
       "<style scoped>\n",
       "    .dataframe tbody tr th:only-of-type {\n",
       "        vertical-align: middle;\n",
       "    }\n",
       "\n",
       "    .dataframe tbody tr th {\n",
       "        vertical-align: top;\n",
       "    }\n",
       "\n",
       "    .dataframe thead th {\n",
       "        text-align: right;\n",
       "    }\n",
       "</style>\n",
       "<table border=\"1\" class=\"dataframe\">\n",
       "  <thead>\n",
       "    <tr style=\"text-align: right;\">\n",
       "      <th>family_status_id</th>\n",
       "      <th>0</th>\n",
       "      <th>1</th>\n",
       "      <th>2</th>\n",
       "      <th>3</th>\n",
       "      <th>4</th>\n",
       "      <th>All</th>\n",
       "    </tr>\n",
       "    <tr>\n",
       "      <th>debt</th>\n",
       "      <th></th>\n",
       "      <th></th>\n",
       "      <th></th>\n",
       "      <th></th>\n",
       "      <th></th>\n",
       "      <th></th>\n",
       "    </tr>\n",
       "  </thead>\n",
       "  <tbody>\n",
       "    <tr>\n",
       "      <th>0</th>\n",
       "      <td>9489</td>\n",
       "      <td>3159</td>\n",
       "      <td>438</td>\n",
       "      <td>910</td>\n",
       "      <td>2210</td>\n",
       "      <td>16206</td>\n",
       "    </tr>\n",
       "    <tr>\n",
       "      <th>1</th>\n",
       "      <td>824</td>\n",
       "      <td>354</td>\n",
       "      <td>31</td>\n",
       "      <td>73</td>\n",
       "      <td>260</td>\n",
       "      <td>1542</td>\n",
       "    </tr>\n",
       "    <tr>\n",
       "      <th>All</th>\n",
       "      <td>10313</td>\n",
       "      <td>3513</td>\n",
       "      <td>469</td>\n",
       "      <td>983</td>\n",
       "      <td>2470</td>\n",
       "      <td>17748</td>\n",
       "    </tr>\n",
       "  </tbody>\n",
       "</table>\n",
       "</div>"
      ],
      "text/plain": [
       "family_status_id      0     1    2    3     4    All\n",
       "debt                                                \n",
       "0                  9489  3159  438  910  2210  16206\n",
       "1                   824   354   31   73   260   1542\n",
       "All               10313  3513  469  983  2470  17748"
      ]
     },
     "execution_count": 61,
     "metadata": {},
     "output_type": "execute_result"
    }
   ],
   "source": [
    "crosstab2 = pd.crosstab(credit_encode['debt'],\n",
    "                        credit_encode['family_status_id'], \n",
    "                               margins = True)\n",
    "crosstab2"
   ]
  },
  {
   "cell_type": "code",
   "execution_count": 62,
   "id": "01b45ff8",
   "metadata": {},
   "outputs": [
    {
     "data": {
      "text/plain": [
       "(29.923607190046937,\n",
       " 5.072864031218123e-06,\n",
       " 4,\n",
       " array([[9416.97532116,  896.02467884],\n",
       "        [3207.77991886,  305.22008114],\n",
       "        [ 428.25185936,   40.74814064],\n",
       "        [ 897.59398242,   85.40601758],\n",
       "        [2255.39891819,  214.60108181]]))"
      ]
     },
     "execution_count": 62,
     "metadata": {},
     "output_type": "execute_result"
    }
   ],
   "source": [
    "chi2_contingency(pd.crosstab(credit_encode.family_status_id, credit_encode.debt))"
   ]
  },
  {
   "cell_type": "markdown",
   "id": "2b8cfc7f",
   "metadata": {},
   "source": [
    "The test statistic = 29.35 as opposed to 21.47 in the first notebook\n",
    "The p-value of the test = too small as opposed as in the first notebook\n",
    "Degrees of freedom = 4\n",
    "Conclusion: In this case, we reject the null that both variables are unrelated.  There is a relationship between marital status and debt payment.  "
   ]
  },
  {
   "cell_type": "markdown",
   "id": "bc11cff0",
   "metadata": {},
   "source": [
    "Hypothesis 3: Is there a connection between income level and repaying a loan on time?"
   ]
  },
  {
   "cell_type": "code",
   "execution_count": 63,
   "id": "3e22c801",
   "metadata": {},
   "outputs": [
    {
     "data": {
      "text/html": [
       "<div>\n",
       "<style scoped>\n",
       "    .dataframe tbody tr th:only-of-type {\n",
       "        vertical-align: middle;\n",
       "    }\n",
       "\n",
       "    .dataframe tbody tr th {\n",
       "        vertical-align: top;\n",
       "    }\n",
       "\n",
       "    .dataframe thead th {\n",
       "        text-align: right;\n",
       "    }\n",
       "</style>\n",
       "<table border=\"1\" class=\"dataframe\">\n",
       "  <thead>\n",
       "    <tr style=\"text-align: right;\">\n",
       "      <th>income_group</th>\n",
       "      <th>0</th>\n",
       "      <th>1</th>\n",
       "      <th>2</th>\n",
       "      <th>3</th>\n",
       "      <th>4</th>\n",
       "      <th>5</th>\n",
       "      <th>All</th>\n",
       "    </tr>\n",
       "    <tr>\n",
       "      <th>debt</th>\n",
       "      <th></th>\n",
       "      <th></th>\n",
       "      <th></th>\n",
       "      <th></th>\n",
       "      <th></th>\n",
       "      <th></th>\n",
       "      <th></th>\n",
       "    </tr>\n",
       "  </thead>\n",
       "  <tbody>\n",
       "    <tr>\n",
       "      <th>0</th>\n",
       "      <td>2357</td>\n",
       "      <td>3022</td>\n",
       "      <td>3264</td>\n",
       "      <td>4160</td>\n",
       "      <td>1856</td>\n",
       "      <td>1547</td>\n",
       "      <td>16206</td>\n",
       "    </tr>\n",
       "    <tr>\n",
       "      <th>1</th>\n",
       "      <td>243</td>\n",
       "      <td>303</td>\n",
       "      <td>318</td>\n",
       "      <td>413</td>\n",
       "      <td>140</td>\n",
       "      <td>125</td>\n",
       "      <td>1542</td>\n",
       "    </tr>\n",
       "    <tr>\n",
       "      <th>All</th>\n",
       "      <td>2600</td>\n",
       "      <td>3325</td>\n",
       "      <td>3582</td>\n",
       "      <td>4573</td>\n",
       "      <td>1996</td>\n",
       "      <td>1672</td>\n",
       "      <td>17748</td>\n",
       "    </tr>\n",
       "  </tbody>\n",
       "</table>\n",
       "</div>"
      ],
      "text/plain": [
       "income_group     0     1     2     3     4     5    All\n",
       "debt                                                   \n",
       "0             2357  3022  3264  4160  1856  1547  16206\n",
       "1              243   303   318   413   140   125   1542\n",
       "All           2600  3325  3582  4573  1996  1672  17748"
      ]
     },
     "execution_count": 63,
     "metadata": {},
     "output_type": "execute_result"
    }
   ],
   "source": [
    "crosstab3 = pd.crosstab(credit_encode['debt'],\n",
    "                        credit_encode['income_group'], \n",
    "                               margins = True)\n",
    "crosstab3"
   ]
  },
  {
   "cell_type": "code",
   "execution_count": 64,
   "id": "70b37e3c",
   "metadata": {},
   "outputs": [
    {
     "data": {
      "text/plain": [
       "(13.163150840660487,\n",
       " 0.021896907042695986,\n",
       " 5,\n",
       " array([[2374.10412441,  225.89587559],\n",
       "        [3036.11392833,  288.88607167],\n",
       "        [3270.78498986,  311.21501014],\n",
       "        [4175.68390805,  397.31609195],\n",
       "        [1822.58147397,  173.41852603],\n",
       "        [1526.73157539,  145.26842461]]))"
      ]
     },
     "execution_count": 64,
     "metadata": {},
     "output_type": "execute_result"
    }
   ],
   "source": [
    "chi2_contingency(pd.crosstab(credit_encode.income_group, credit_encode.debt))"
   ]
  },
  {
   "cell_type": "markdown",
   "id": "5c2a8029",
   "metadata": {},
   "source": [
    "The test statistic = 12.9 as opposed to 14.02 in the first notebook\n",
    "The p-value of the test = 0.02 as opposed to 0.015 in the first notebook\n",
    "Degrees of freedom = 5\n",
    "Conclusion: We can reject the null with confidence.  There is a relationship between income and repaying a loan.  "
   ]
  },
  {
   "cell_type": "markdown",
   "id": "d4a58666",
   "metadata": {},
   "source": [
    "Hypothesis 4: How do different loan purposes affect on-time loan repayment?"
   ]
  },
  {
   "cell_type": "code",
   "execution_count": 65,
   "id": "7f5a250f",
   "metadata": {},
   "outputs": [
    {
     "data": {
      "text/html": [
       "<div>\n",
       "<style scoped>\n",
       "    .dataframe tbody tr th:only-of-type {\n",
       "        vertical-align: middle;\n",
       "    }\n",
       "\n",
       "    .dataframe tbody tr th {\n",
       "        vertical-align: top;\n",
       "    }\n",
       "\n",
       "    .dataframe thead th {\n",
       "        text-align: right;\n",
       "    }\n",
       "</style>\n",
       "<table border=\"1\" class=\"dataframe\">\n",
       "  <thead>\n",
       "    <tr style=\"text-align: right;\">\n",
       "      <th>purpose</th>\n",
       "      <th>0</th>\n",
       "      <th>1</th>\n",
       "      <th>2</th>\n",
       "      <th>3</th>\n",
       "      <th>All</th>\n",
       "    </tr>\n",
       "    <tr>\n",
       "      <th>debt</th>\n",
       "      <th></th>\n",
       "      <th></th>\n",
       "      <th></th>\n",
       "      <th></th>\n",
       "      <th></th>\n",
       "    </tr>\n",
       "  </thead>\n",
       "  <tbody>\n",
       "    <tr>\n",
       "      <th>0</th>\n",
       "      <td>8292</td>\n",
       "      <td>3185</td>\n",
       "      <td>2988</td>\n",
       "      <td>1741</td>\n",
       "      <td>16206</td>\n",
       "    </tr>\n",
       "    <tr>\n",
       "      <th>1</th>\n",
       "      <td>698</td>\n",
       "      <td>355</td>\n",
       "      <td>327</td>\n",
       "      <td>162</td>\n",
       "      <td>1542</td>\n",
       "    </tr>\n",
       "    <tr>\n",
       "      <th>All</th>\n",
       "      <td>8990</td>\n",
       "      <td>3540</td>\n",
       "      <td>3315</td>\n",
       "      <td>1903</td>\n",
       "      <td>17748</td>\n",
       "    </tr>\n",
       "  </tbody>\n",
       "</table>\n",
       "</div>"
      ],
      "text/plain": [
       "purpose     0     1     2     3    All\n",
       "debt                                  \n",
       "0        8292  3185  2988  1741  16206\n",
       "1         698   355   327   162   1542\n",
       "All      8990  3540  3315  1903  17748"
      ]
     },
     "execution_count": 65,
     "metadata": {},
     "output_type": "execute_result"
    }
   ],
   "source": [
    "crosstab4 = pd.crosstab(credit_encode['debt'],\n",
    "                        credit_encode['purpose'], \n",
    "                               margins = True)\n",
    "crosstab4"
   ]
  },
  {
   "cell_type": "code",
   "execution_count": 66,
   "id": "ea68244c",
   "metadata": {},
   "outputs": [
    {
     "data": {
      "text/plain": [
       "(23.540996909504997,\n",
       " 3.1144757096933166e-05,\n",
       " 3,\n",
       " array([[8208.92156863,  781.07843137],\n",
       "        [3232.43407708,  307.56592292],\n",
       "        [3026.98275862,  288.01724138],\n",
       "        [1737.66159567,  165.33840433]]))"
      ]
     },
     "execution_count": 66,
     "metadata": {},
     "output_type": "execute_result"
    }
   ],
   "source": [
    "chi2_contingency(pd.crosstab(credit_encode.purpose, credit_encode.debt))"
   ]
  },
  {
   "cell_type": "markdown",
   "id": "29226070",
   "metadata": {},
   "source": [
    "The test statistic = 23.34 as opposed to 21.9 in the first notebook\n",
    "The p-value of the test = 2.83x10^-5 as opposed to 0.0001 in the first notebook\n",
    "Degrees of freedom = 3\n",
    "Conclusion:  The null here is about purposes in general and loan payment and the chi-square tells us that we can reject the null of no effect with confidence.  Therefore, there is a relationship between the purpose of a loan and its payment.  \n",
    "\n",
    "To answer the question more directly though, we have to conduct a binomial logistic regression.   I do not know how to do that in python. Instead I will dichotomize \"purpose\" and run 4 different chi-square tests."
   ]
  },
  {
   "cell_type": "code",
   "execution_count": 67,
   "id": "1ed94833",
   "metadata": {},
   "outputs": [
    {
     "data": {
      "text/plain": [
       "0    8990\n",
       "1    3540\n",
       "2    3315\n",
       "3    1903\n",
       "Name: purpose, dtype: int64"
      ]
     },
     "execution_count": 67,
     "metadata": {},
     "output_type": "execute_result"
    }
   ],
   "source": [
    "credit_encode['purpose'].value_counts()"
   ]
  },
  {
   "cell_type": "code",
   "execution_count": 68,
   "id": "26034b75",
   "metadata": {
    "scrolled": true
   },
   "outputs": [
    {
     "data": {
      "text/plain": [
       "<AxesSubplot:>"
      ]
     },
     "execution_count": 68,
     "metadata": {},
     "output_type": "execute_result"
    },
    {
     "data": {
      "image/png": "[encoded data removed]",
      "text/plain": [
       "<Figure size 432x288 with 1 Axes>"
      ]
     },
     "metadata": {
      "needs_background": "light"
     },
     "output_type": "display_data"
    }
   ],
   "source": [
    "credit_encode['purpose'].hist()"
   ]
  },
  {
   "cell_type": "code",
   "execution_count": 69,
   "id": "4f71e48e",
   "metadata": {},
   "outputs": [
    {
     "data": {
      "text/plain": [
       "0    16206\n",
       "1     1542\n",
       "Name: debt, dtype: int64"
      ]
     },
     "execution_count": 69,
     "metadata": {},
     "output_type": "execute_result"
    }
   ],
   "source": [
    "credit_encode['debt'].value_counts()"
   ]
  },
  {
   "cell_type": "code",
   "execution_count": 70,
   "id": "2288fa52",
   "metadata": {},
   "outputs": [
    {
     "data": {
      "text/plain": [
       "<AxesSubplot:>"
      ]
     },
     "execution_count": 70,
     "metadata": {},
     "output_type": "execute_result"
    },
    {
     "data": {
      "image/png": "[encoded data removed]",
      "text/plain": [
       "<Figure size 432x288 with 1 Axes>"
      ]
     },
     "metadata": {
      "needs_background": "light"
     },
     "output_type": "display_data"
    }
   ],
   "source": [
    "credit_encode['debt'].hist()"
   ]
  },
  {
   "cell_type": "markdown",
   "id": "123fc840",
   "metadata": {},
   "source": [
    "Dichotomize the categorical variable \"purpose\" and run a chi square test on each of the new dichotomous variables.  I will answer the question after running all four tests."
   ]
  },
  {
   "cell_type": "code",
   "execution_count": 71,
   "id": "2720758d",
   "metadata": {},
   "outputs": [],
   "source": [
    "credit_encode['purpose0'] = credit_encode['purpose'] == 0\n",
    "credit_encode['purpose1'] = credit_encode['purpose'] == 1\n",
    "credit_encode['purpose2'] = credit_encode['purpose'] == 2\n",
    "credit_encode['purpose3'] = credit_encode['purpose'] == 3"
   ]
  },
  {
   "cell_type": "code",
   "execution_count": 72,
   "id": "94dd4042",
   "metadata": {},
   "outputs": [
    {
     "data": {
      "text/html": [
       "<div>\n",
       "<style scoped>\n",
       "    .dataframe tbody tr th:only-of-type {\n",
       "        vertical-align: middle;\n",
       "    }\n",
       "\n",
       "    .dataframe tbody tr th {\n",
       "        vertical-align: top;\n",
       "    }\n",
       "\n",
       "    .dataframe thead th {\n",
       "        text-align: right;\n",
       "    }\n",
       "</style>\n",
       "<table border=\"1\" class=\"dataframe\">\n",
       "  <thead>\n",
       "    <tr style=\"text-align: right;\">\n",
       "      <th>purpose0</th>\n",
       "      <th>False</th>\n",
       "      <th>True</th>\n",
       "      <th>All</th>\n",
       "    </tr>\n",
       "    <tr>\n",
       "      <th>debt</th>\n",
       "      <th></th>\n",
       "      <th></th>\n",
       "      <th></th>\n",
       "    </tr>\n",
       "  </thead>\n",
       "  <tbody>\n",
       "    <tr>\n",
       "      <th>0</th>\n",
       "      <td>7914</td>\n",
       "      <td>8292</td>\n",
       "      <td>16206</td>\n",
       "    </tr>\n",
       "    <tr>\n",
       "      <th>1</th>\n",
       "      <td>844</td>\n",
       "      <td>698</td>\n",
       "      <td>1542</td>\n",
       "    </tr>\n",
       "    <tr>\n",
       "      <th>All</th>\n",
       "      <td>8758</td>\n",
       "      <td>8990</td>\n",
       "      <td>17748</td>\n",
       "    </tr>\n",
       "  </tbody>\n",
       "</table>\n",
       "</div>"
      ],
      "text/plain": [
       "purpose0  False  True    All\n",
       "debt                        \n",
       "0          7914  8292  16206\n",
       "1           844   698   1542\n",
       "All        8758  8990  17748"
      ]
     },
     "execution_count": 72,
     "metadata": {},
     "output_type": "execute_result"
    }
   ],
   "source": [
    "crosstab5 = pd.crosstab(credit_encode['debt'],\n",
    "                        credit_encode['purpose0'], \n",
    "                               margins = True)\n",
    "crosstab5"
   ]
  },
  {
   "cell_type": "code",
   "execution_count": 73,
   "id": "69e32c5d",
   "metadata": {},
   "outputs": [
    {
     "data": {
      "text/plain": [
       "(19.375667680750965,\n",
       " 1.0736636599655694e-05,\n",
       " 1,\n",
       " array([[7997.07843137,  760.92156863],\n",
       "        [8208.92156863,  781.07843137]]))"
      ]
     },
     "execution_count": 73,
     "metadata": {},
     "output_type": "execute_result"
    }
   ],
   "source": [
    "chi2_contingency(pd.crosstab(credit_encode.purpose0, credit_encode.debt))"
   ]
  },
  {
   "cell_type": "code",
   "execution_count": 74,
   "id": "9d1bac2f",
   "metadata": {},
   "outputs": [
    {
     "data": {
      "text/html": [
       "<div>\n",
       "<style scoped>\n",
       "    .dataframe tbody tr th:only-of-type {\n",
       "        vertical-align: middle;\n",
       "    }\n",
       "\n",
       "    .dataframe tbody tr th {\n",
       "        vertical-align: top;\n",
       "    }\n",
       "\n",
       "    .dataframe thead th {\n",
       "        text-align: right;\n",
       "    }\n",
       "</style>\n",
       "<table border=\"1\" class=\"dataframe\">\n",
       "  <thead>\n",
       "    <tr style=\"text-align: right;\">\n",
       "      <th>purpose1</th>\n",
       "      <th>False</th>\n",
       "      <th>True</th>\n",
       "      <th>All</th>\n",
       "    </tr>\n",
       "    <tr>\n",
       "      <th>debt</th>\n",
       "      <th></th>\n",
       "      <th></th>\n",
       "      <th></th>\n",
       "    </tr>\n",
       "  </thead>\n",
       "  <tbody>\n",
       "    <tr>\n",
       "      <th>0</th>\n",
       "      <td>13021</td>\n",
       "      <td>3185</td>\n",
       "      <td>16206</td>\n",
       "    </tr>\n",
       "    <tr>\n",
       "      <th>1</th>\n",
       "      <td>1187</td>\n",
       "      <td>355</td>\n",
       "      <td>1542</td>\n",
       "    </tr>\n",
       "    <tr>\n",
       "      <th>All</th>\n",
       "      <td>14208</td>\n",
       "      <td>3540</td>\n",
       "      <td>17748</td>\n",
       "    </tr>\n",
       "  </tbody>\n",
       "</table>\n",
       "</div>"
      ],
      "text/plain": [
       "purpose1  False  True    All\n",
       "debt                        \n",
       "0         13021  3185  16206\n",
       "1          1187   355   1542\n",
       "All       14208  3540  17748"
      ]
     },
     "execution_count": 74,
     "metadata": {},
     "output_type": "execute_result"
    }
   ],
   "source": [
    "crosstab6 = pd.crosstab(credit_encode['debt'],\n",
    "                        credit_encode['purpose1'], \n",
    "                               margins = True)\n",
    "crosstab6"
   ]
  },
  {
   "cell_type": "code",
   "execution_count": 75,
   "id": "850b4e21",
   "metadata": {},
   "outputs": [
    {
     "data": {
      "text/plain": [
       "(9.797796295317246,\n",
       " 0.0017472112270018525,\n",
       " 1,\n",
       " array([[12973.56592292,  1234.43407708],\n",
       "        [ 3232.43407708,   307.56592292]]))"
      ]
     },
     "execution_count": 75,
     "metadata": {},
     "output_type": "execute_result"
    }
   ],
   "source": [
    "chi2_contingency(pd.crosstab(credit_encode.purpose1, credit_encode.debt))"
   ]
  },
  {
   "cell_type": "code",
   "execution_count": 76,
   "id": "b343945d",
   "metadata": {},
   "outputs": [
    {
     "data": {
      "text/html": [
       "<div>\n",
       "<style scoped>\n",
       "    .dataframe tbody tr th:only-of-type {\n",
       "        vertical-align: middle;\n",
       "    }\n",
       "\n",
       "    .dataframe tbody tr th {\n",
       "        vertical-align: top;\n",
       "    }\n",
       "\n",
       "    .dataframe thead th {\n",
       "        text-align: right;\n",
       "    }\n",
       "</style>\n",
       "<table border=\"1\" class=\"dataframe\">\n",
       "  <thead>\n",
       "    <tr style=\"text-align: right;\">\n",
       "      <th>purpose2</th>\n",
       "      <th>False</th>\n",
       "      <th>True</th>\n",
       "      <th>All</th>\n",
       "    </tr>\n",
       "    <tr>\n",
       "      <th>debt</th>\n",
       "      <th></th>\n",
       "      <th></th>\n",
       "      <th></th>\n",
       "    </tr>\n",
       "  </thead>\n",
       "  <tbody>\n",
       "    <tr>\n",
       "      <th>0</th>\n",
       "      <td>13218</td>\n",
       "      <td>2988</td>\n",
       "      <td>16206</td>\n",
       "    </tr>\n",
       "    <tr>\n",
       "      <th>1</th>\n",
       "      <td>1215</td>\n",
       "      <td>327</td>\n",
       "      <td>1542</td>\n",
       "    </tr>\n",
       "    <tr>\n",
       "      <th>All</th>\n",
       "      <td>14433</td>\n",
       "      <td>3315</td>\n",
       "      <td>17748</td>\n",
       "    </tr>\n",
       "  </tbody>\n",
       "</table>\n",
       "</div>"
      ],
      "text/plain": [
       "purpose2  False  True    All\n",
       "debt                        \n",
       "0         13218  2988  16206\n",
       "1          1215   327   1542\n",
       "All       14433  3315  17748"
      ]
     },
     "execution_count": 76,
     "metadata": {},
     "output_type": "execute_result"
    }
   ],
   "source": [
    "crosstab7 = pd.crosstab(credit_encode['debt'],\n",
    "                        credit_encode['purpose2'], \n",
    "                               margins = True)\n",
    "crosstab7"
   ]
  },
  {
   "cell_type": "code",
   "execution_count": 77,
   "id": "7837e77b",
   "metadata": {},
   "outputs": [
    {
     "data": {
      "text/plain": [
       "(6.9243705544259235,\n",
       " 0.008502891456999203,\n",
       " 1,\n",
       " array([[13179.01724138,  1253.98275862],\n",
       "        [ 3026.98275862,   288.01724138]]))"
      ]
     },
     "execution_count": 77,
     "metadata": {},
     "output_type": "execute_result"
    }
   ],
   "source": [
    "chi2_contingency(pd.crosstab(credit_encode.purpose2, credit_encode.debt))"
   ]
  },
  {
   "cell_type": "code",
   "execution_count": 78,
   "id": "b9082a86",
   "metadata": {},
   "outputs": [
    {
     "data": {
      "text/html": [
       "<div>\n",
       "<style scoped>\n",
       "    .dataframe tbody tr th:only-of-type {\n",
       "        vertical-align: middle;\n",
       "    }\n",
       "\n",
       "    .dataframe tbody tr th {\n",
       "        vertical-align: top;\n",
       "    }\n",
       "\n",
       "    .dataframe thead th {\n",
       "        text-align: right;\n",
       "    }\n",
       "</style>\n",
       "<table border=\"1\" class=\"dataframe\">\n",
       "  <thead>\n",
       "    <tr style=\"text-align: right;\">\n",
       "      <th>purpose3</th>\n",
       "      <th>False</th>\n",
       "      <th>True</th>\n",
       "      <th>All</th>\n",
       "    </tr>\n",
       "    <tr>\n",
       "      <th>debt</th>\n",
       "      <th></th>\n",
       "      <th></th>\n",
       "      <th></th>\n",
       "    </tr>\n",
       "  </thead>\n",
       "  <tbody>\n",
       "    <tr>\n",
       "      <th>0</th>\n",
       "      <td>14465</td>\n",
       "      <td>1741</td>\n",
       "      <td>16206</td>\n",
       "    </tr>\n",
       "    <tr>\n",
       "      <th>1</th>\n",
       "      <td>1380</td>\n",
       "      <td>162</td>\n",
       "      <td>1542</td>\n",
       "    </tr>\n",
       "    <tr>\n",
       "      <th>All</th>\n",
       "      <td>15845</td>\n",
       "      <td>1903</td>\n",
       "      <td>17748</td>\n",
       "    </tr>\n",
       "  </tbody>\n",
       "</table>\n",
       "</div>"
      ],
      "text/plain": [
       "purpose3  False  True    All\n",
       "debt                        \n",
       "0         14465  1741  16206\n",
       "1          1380   162   1542\n",
       "All       15845  1903  17748"
      ]
     },
     "execution_count": 78,
     "metadata": {},
     "output_type": "execute_result"
    }
   ],
   "source": [
    "crosstab8 = pd.crosstab(credit_encode['debt'],\n",
    "                        credit_encode['purpose3'], \n",
    "                               margins = True)\n",
    "crosstab8"
   ]
  },
  {
   "cell_type": "code",
   "execution_count": 79,
   "id": "361e4cd1",
   "metadata": {},
   "outputs": [
    {
     "data": {
      "text/plain": [
       "(0.05977306702184015,\n",
       " 0.8068549774179851,\n",
       " 1,\n",
       " array([[14468.33840433,  1376.66159567],\n",
       "        [ 1737.66159567,   165.33840433]]))"
      ]
     },
     "execution_count": 79,
     "metadata": {},
     "output_type": "execute_result"
    }
   ],
   "source": [
    "chi2_contingency(pd.crosstab(credit_encode.purpose3, credit_encode.debt))"
   ]
  },
  {
   "cell_type": "markdown",
   "id": "c8429d31",
   "metadata": {},
   "source": [
    "Recall the encoding as: 'for real estate transaction': 0, 'to buy a car': 1, 'to get an education': 2, 'to have a wedding': 3}\n",
    "Based on the p-values of the 4 types of purposes above, only borrowing money to have a wedding does not seem to explain whether the borrower pays its debt on time or not.  These are the same results as in the first notebook."
   ]
  },
  {
   "cell_type": "markdown",
   "id": "1cf0656a",
   "metadata": {},
   "source": [
    "General conclusion: Data is messy and missing values as well as duplicates need to be treated with care.  The tradeoff of dealing with them first, skews your data.  It would be interesting to see how starting with missing values changes the results of our hypothesis tests.  Categorizing data is art not science. Categorization affects the result.  The rule of thumb is to have as many categories as possible to maintain meaning in the data.  Substantively, some variables are associated with the dependent variable, payment of time, and others are not.  But we cannot say anything about the direction of this association.  It could be that people that pay on time are the ones who take loans in the first place.  Also, it would be interesting to look at the interaction effect of some of the independent variables.  It could be that some variables, when used in a univariate model do affect the dependent variable but that this effect is dampened if another variable is also in the model.  "
   ]
  },
  {
   "cell_type": "markdown",
   "id": "076c25f8",
   "metadata": {},
   "source": [
    "Plan: to understand the missing data, we should look at it closely:\n",
    "1- add up the msising data by variable\n",
    "2- create a dataframe with these rows with missing variables\n",
    "3- unique them to check if all the missing values are nans"
   ]
  },
  {
   "cell_type": "markdown",
   "id": "133e1ae1",
   "metadata": {},
   "source": [
    "Conclusion: Interestingly, the same observations have both variables missing.  This means the patterns of missing variables is not random and hence is problematic.  The contents of the cells with missing variables are all nans."
   ]
  }
 ],
 "metadata": {
  "ExecuteTimeLog": [
   {
    "duration": 1187,
    "start_time": "2022-01-30T17:54:35.867Z"
   },
   {
    "duration": 16,
    "start_time": "2022-01-30T17:54:37.057Z"
   },
   {
    "duration": 45,
    "start_time": "2022-01-30T17:54:37.076Z"
   },
   {
    "duration": 72,
    "start_time": "2022-01-30T17:54:37.148Z"
   },
   {
    "duration": 25,
    "start_time": "2022-01-30T17:54:37.223Z"
   },
   {
    "duration": 14,
    "start_time": "2022-01-30T17:54:37.251Z"
   },
   {
    "duration": 43,
    "start_time": "2022-01-30T17:54:37.268Z"
   },
   {
    "duration": 6,
    "start_time": "2022-01-30T17:54:37.313Z"
   },
   {
    "duration": 32,
    "start_time": "2022-01-30T17:54:37.323Z"
   },
   {
    "duration": 47,
    "start_time": "2022-01-30T17:54:37.358Z"
   },
   {
    "duration": 2256,
    "start_time": "2022-01-30T17:54:37.407Z"
   },
   {
    "duration": 38,
    "start_time": "2022-01-30T17:54:39.666Z"
   },
   {
    "duration": 1079,
    "start_time": "2022-01-30T17:54:39.706Z"
   },
   {
    "duration": 15,
    "start_time": "2022-01-30T17:54:40.787Z"
   },
   {
    "duration": 13,
    "start_time": "2022-01-30T17:54:40.804Z"
   },
   {
    "duration": 47,
    "start_time": "2022-01-30T17:54:40.819Z"
   },
   {
    "duration": 10,
    "start_time": "2022-01-30T17:54:40.869Z"
   },
   {
    "duration": 25,
    "start_time": "2022-01-30T17:54:40.881Z"
   },
   {
    "duration": 51,
    "start_time": "2022-01-30T17:54:40.909Z"
   },
   {
    "duration": 14,
    "start_time": "2022-01-30T17:54:40.962Z"
   },
   {
    "duration": 7,
    "start_time": "2022-01-30T17:54:40.978Z"
   },
   {
    "duration": 23,
    "start_time": "2022-01-30T17:54:40.988Z"
   },
   {
    "duration": 37,
    "start_time": "2022-01-30T17:54:41.013Z"
   },
   {
    "duration": 12,
    "start_time": "2022-01-30T17:54:41.053Z"
   },
   {
    "duration": 34,
    "start_time": "2022-01-30T17:54:41.068Z"
   },
   {
    "duration": 8,
    "start_time": "2022-01-30T17:54:41.105Z"
   },
   {
    "duration": 5,
    "start_time": "2022-01-30T17:54:41.153Z"
   },
   {
    "duration": 6,
    "start_time": "2022-01-30T17:54:41.161Z"
   },
   {
    "duration": 457,
    "start_time": "2022-01-30T17:54:41.169Z"
   },
   {
    "duration": 444,
    "start_time": "2022-01-30T17:54:41.628Z"
   },
   {
    "duration": 20,
    "start_time": "2022-01-30T17:54:42.074Z"
   },
   {
    "duration": 16,
    "start_time": "2022-01-30T17:54:42.097Z"
   },
   {
    "duration": 293,
    "start_time": "2022-01-30T17:54:42.115Z"
   },
   {
    "duration": 363,
    "start_time": "2022-01-30T17:54:42.411Z"
   },
   {
    "duration": 10,
    "start_time": "2022-01-30T17:54:42.777Z"
   },
   {
    "duration": 329,
    "start_time": "2022-01-30T17:54:42.789Z"
   },
   {
    "duration": 37,
    "start_time": "2022-01-30T17:54:43.120Z"
   },
   {
    "duration": 15,
    "start_time": "2022-01-30T17:54:43.160Z"
   },
   {
    "duration": 5,
    "start_time": "2022-01-30T17:54:43.178Z"
   },
   {
    "duration": 8,
    "start_time": "2022-01-30T17:54:43.185Z"
   },
   {
    "duration": 8,
    "start_time": "2022-01-30T17:54:43.195Z"
   },
   {
    "duration": 607,
    "start_time": "2022-01-30T17:54:43.205Z"
   },
   {
    "duration": 238,
    "start_time": "2022-01-30T17:54:43.814Z"
   },
   {
    "duration": 22,
    "start_time": "2022-01-30T17:54:44.054Z"
   },
   {
    "duration": 11,
    "start_time": "2022-01-30T17:54:44.078Z"
   },
   {
    "duration": 12,
    "start_time": "2022-01-30T17:54:44.091Z"
   },
   {
    "duration": 54,
    "start_time": "2022-01-30T17:54:44.105Z"
   },
   {
    "duration": 21,
    "start_time": "2022-01-30T17:54:44.162Z"
   },
   {
    "duration": 21,
    "start_time": "2022-01-30T17:54:44.185Z"
   },
   {
    "duration": 53,
    "start_time": "2022-01-30T17:54:44.209Z"
   },
   {
    "duration": 20,
    "start_time": "2022-01-30T17:54:44.265Z"
   },
   {
    "duration": 19,
    "start_time": "2022-01-30T17:54:44.287Z"
   },
   {
    "duration": 49,
    "start_time": "2022-01-30T17:54:44.308Z"
   },
   {
    "duration": 16,
    "start_time": "2022-01-30T17:54:44.360Z"
   },
   {
    "duration": 12,
    "start_time": "2022-01-30T17:54:44.379Z"
   },
   {
    "duration": 60,
    "start_time": "2022-01-30T17:54:44.393Z"
   },
   {
    "duration": 14,
    "start_time": "2022-01-30T17:54:44.456Z"
   },
   {
    "duration": 504,
    "start_time": "2022-01-30T17:54:44.474Z"
   },
   {
    "duration": 26,
    "start_time": "2022-01-30T17:54:44.980Z"
   },
   {
    "duration": 51,
    "start_time": "2022-01-30T17:54:45.009Z"
   },
   {
    "duration": 28,
    "start_time": "2022-01-30T17:54:45.063Z"
   },
   {
    "duration": 8,
    "start_time": "2022-01-30T17:54:45.093Z"
   },
   {
    "duration": 417,
    "start_time": "2022-01-30T17:54:45.103Z"
   },
   {
    "duration": 8,
    "start_time": "2022-01-30T17:54:45.522Z"
   },
   {
    "duration": 332,
    "start_time": "2022-01-30T17:54:45.532Z"
   },
   {
    "duration": 10,
    "start_time": "2022-01-30T17:54:45.866Z"
   },
   {
    "duration": 29,
    "start_time": "2022-01-30T17:54:45.879Z"
   },
   {
    "duration": 58,
    "start_time": "2022-01-30T17:54:45.911Z"
   },
   {
    "duration": 29,
    "start_time": "2022-01-30T17:54:45.972Z"
   },
   {
    "duration": 54,
    "start_time": "2022-01-30T17:54:46.004Z"
   },
   {
    "duration": 20,
    "start_time": "2022-01-30T18:51:05.420Z"
   },
   {
    "duration": 28,
    "start_time": "2022-01-30T18:52:58.960Z"
   },
   {
    "duration": 317,
    "start_time": "2022-01-31T01:46:43.799Z"
   },
   {
    "duration": 999,
    "start_time": "2022-01-31T01:46:55.129Z"
   },
   {
    "duration": 14,
    "start_time": "2022-01-31T01:46:56.131Z"
   },
   {
    "duration": 46,
    "start_time": "2022-01-31T01:46:56.148Z"
   },
   {
    "duration": 87,
    "start_time": "2022-01-31T01:46:56.196Z"
   },
   {
    "duration": 4,
    "start_time": "2022-01-31T01:46:56.286Z"
   },
   {
    "duration": 21,
    "start_time": "2022-01-31T01:46:56.292Z"
   },
   {
    "duration": 58,
    "start_time": "2022-01-31T01:46:56.315Z"
   },
   {
    "duration": 6,
    "start_time": "2022-01-31T01:46:56.375Z"
   },
   {
    "duration": 11,
    "start_time": "2022-01-31T01:46:56.384Z"
   },
   {
    "duration": 70,
    "start_time": "2022-01-31T01:46:56.398Z"
   },
   {
    "duration": 2168,
    "start_time": "2022-01-31T01:46:56.471Z"
   },
   {
    "duration": 33,
    "start_time": "2022-01-31T01:46:58.642Z"
   },
   {
    "duration": 1065,
    "start_time": "2022-01-31T01:46:58.677Z"
   },
   {
    "duration": 15,
    "start_time": "2022-01-31T01:46:59.745Z"
   },
   {
    "duration": 13,
    "start_time": "2022-01-31T01:46:59.763Z"
   },
   {
    "duration": 20,
    "start_time": "2022-01-31T01:46:59.778Z"
   },
   {
    "duration": 9,
    "start_time": "2022-01-31T01:46:59.833Z"
   },
   {
    "duration": 23,
    "start_time": "2022-01-31T01:46:59.845Z"
   },
   {
    "duration": 23,
    "start_time": "2022-01-31T01:46:59.871Z"
   },
   {
    "duration": 61,
    "start_time": "2022-01-31T01:46:59.896Z"
   },
   {
    "duration": 8,
    "start_time": "2022-01-31T01:46:59.960Z"
   },
   {
    "duration": 23,
    "start_time": "2022-01-31T01:46:59.970Z"
   },
   {
    "duration": 39,
    "start_time": "2022-01-31T01:46:59.996Z"
   },
   {
    "duration": 21,
    "start_time": "2022-01-31T01:47:00.038Z"
   },
   {
    "duration": 43,
    "start_time": "2022-01-31T01:47:00.061Z"
   },
   {
    "duration": 27,
    "start_time": "2022-01-31T01:47:00.107Z"
   },
   {
    "duration": 6,
    "start_time": "2022-01-31T01:47:00.141Z"
   },
   {
    "duration": 13,
    "start_time": "2022-01-31T01:47:00.150Z"
   },
   {
    "duration": 452,
    "start_time": "2022-01-31T01:47:00.165Z"
   },
   {
    "duration": 416,
    "start_time": "2022-01-31T01:47:00.619Z"
   },
   {
    "duration": 20,
    "start_time": "2022-01-31T01:47:01.038Z"
   },
   {
    "duration": 18,
    "start_time": "2022-01-31T01:47:01.061Z"
   },
   {
    "duration": 244,
    "start_time": "2022-01-31T01:47:01.081Z"
   },
   {
    "duration": 336,
    "start_time": "2022-01-31T01:47:01.327Z"
   },
   {
    "duration": 8,
    "start_time": "2022-01-31T01:47:01.666Z"
   },
   {
    "duration": 298,
    "start_time": "2022-01-31T01:47:01.677Z"
   },
   {
    "duration": 17,
    "start_time": "2022-01-31T01:47:01.978Z"
   },
   {
    "duration": 35,
    "start_time": "2022-01-31T01:47:01.998Z"
   },
   {
    "duration": 4,
    "start_time": "2022-01-31T01:47:02.036Z"
   },
   {
    "duration": 12,
    "start_time": "2022-01-31T01:47:02.043Z"
   },
   {
    "duration": 6,
    "start_time": "2022-01-31T01:47:02.057Z"
   },
   {
    "duration": 544,
    "start_time": "2022-01-31T01:47:02.065Z"
   },
   {
    "duration": 235,
    "start_time": "2022-01-31T01:47:02.612Z"
   },
   {
    "duration": 21,
    "start_time": "2022-01-31T01:47:02.850Z"
   },
   {
    "duration": 14,
    "start_time": "2022-01-31T01:47:02.873Z"
   },
   {
    "duration": 12,
    "start_time": "2022-01-31T01:47:02.889Z"
   },
   {
    "duration": 16,
    "start_time": "2022-01-31T01:47:02.932Z"
   },
   {
    "duration": 17,
    "start_time": "2022-01-31T01:47:02.950Z"
   },
   {
    "duration": 20,
    "start_time": "2022-01-31T01:47:02.970Z"
   },
   {
    "duration": 57,
    "start_time": "2022-01-31T01:47:02.992Z"
   },
   {
    "duration": 18,
    "start_time": "2022-01-31T01:47:03.052Z"
   },
   {
    "duration": 19,
    "start_time": "2022-01-31T01:47:03.072Z"
   },
   {
    "duration": 51,
    "start_time": "2022-01-31T01:47:03.093Z"
   },
   {
    "duration": 10,
    "start_time": "2022-01-31T01:47:03.146Z"
   },
   {
    "duration": 6,
    "start_time": "2022-01-31T01:47:03.158Z"
   },
   {
    "duration": 19,
    "start_time": "2022-01-31T01:47:03.167Z"
   },
   {
    "duration": 43,
    "start_time": "2022-01-31T01:47:03.189Z"
   },
   {
    "duration": 424,
    "start_time": "2022-01-31T01:47:03.234Z"
   },
   {
    "duration": 25,
    "start_time": "2022-01-31T01:47:03.661Z"
   },
   {
    "duration": 46,
    "start_time": "2022-01-31T01:47:03.688Z"
   },
   {
    "duration": 24,
    "start_time": "2022-01-31T01:47:03.736Z"
   },
   {
    "duration": 7,
    "start_time": "2022-01-31T01:47:03.762Z"
   },
   {
    "duration": 356,
    "start_time": "2022-01-31T01:47:03.772Z"
   },
   {
    "duration": 7,
    "start_time": "2022-01-31T01:47:04.132Z"
   },
   {
    "duration": 299,
    "start_time": "2022-01-31T01:47:04.141Z"
   },
   {
    "duration": 9,
    "start_time": "2022-01-31T01:47:04.442Z"
   },
   {
    "duration": 29,
    "start_time": "2022-01-31T01:47:04.453Z"
   },
   {
    "duration": 53,
    "start_time": "2022-01-31T01:47:04.484Z"
   },
   {
    "duration": 25,
    "start_time": "2022-01-31T01:47:04.539Z"
   },
   {
    "duration": 25,
    "start_time": "2022-01-31T01:47:04.567Z"
   },
   {
    "duration": 18,
    "start_time": "2022-01-31T01:48:01.566Z"
   },
   {
    "duration": 24,
    "start_time": "2022-01-31T01:48:04.295Z"
   },
   {
    "duration": 29,
    "start_time": "2022-01-31T02:01:49.578Z"
   },
   {
    "duration": 32,
    "start_time": "2022-01-31T02:02:00.272Z"
   },
   {
    "duration": 35,
    "start_time": "2022-01-31T02:02:46.640Z"
   },
   {
    "duration": 71,
    "start_time": "2022-01-31T02:03:11.011Z"
   },
   {
    "duration": 66,
    "start_time": "2022-01-31T02:04:55.970Z"
   },
   {
    "duration": 70,
    "start_time": "2022-01-31T02:05:30.575Z"
   },
   {
    "duration": 69,
    "start_time": "2022-01-31T02:06:19.551Z"
   },
   {
    "duration": 63,
    "start_time": "2022-01-31T02:06:57.853Z"
   },
   {
    "duration": 66,
    "start_time": "2022-01-31T02:07:25.108Z"
   },
   {
    "duration": 65,
    "start_time": "2022-01-31T02:07:48.296Z"
   },
   {
    "duration": 65,
    "start_time": "2022-01-31T02:08:08.768Z"
   },
   {
    "duration": 98,
    "start_time": "2022-01-31T02:17:04.644Z"
   },
   {
    "duration": 821,
    "start_time": "2022-01-31T18:07:30.770Z"
   },
   {
    "duration": 40,
    "start_time": "2022-01-31T18:07:31.595Z"
   },
   {
    "duration": 105,
    "start_time": "2022-01-31T18:07:32.025Z"
   },
   {
    "duration": 22,
    "start_time": "2022-01-31T18:08:00.317Z"
   },
   {
    "duration": 175,
    "start_time": "2022-01-31T18:08:10.055Z"
   },
   {
    "duration": 19,
    "start_time": "2022-01-31T18:08:12.566Z"
   },
   {
    "duration": 23,
    "start_time": "2022-01-31T18:08:15.415Z"
   },
   {
    "duration": 8,
    "start_time": "2022-01-31T18:08:25.690Z"
   },
   {
    "duration": 237,
    "start_time": "2022-01-31T18:08:49.444Z"
   },
   {
    "duration": 26,
    "start_time": "2022-01-31T18:08:49.684Z"
   },
   {
    "duration": 29,
    "start_time": "2022-01-31T18:08:49.945Z"
   },
   {
    "duration": 25,
    "start_time": "2022-01-31T18:12:33.042Z"
   },
   {
    "duration": 527,
    "start_time": "2022-01-31T18:13:33.785Z"
   },
   {
    "duration": 59,
    "start_time": "2022-01-31T18:13:44.341Z"
   },
   {
    "duration": 66,
    "start_time": "2022-01-31T18:14:30.620Z"
   },
   {
    "duration": 26,
    "start_time": "2022-01-31T18:14:38.682Z"
   },
   {
    "duration": 49,
    "start_time": "2022-01-31T18:14:43.355Z"
   },
   {
    "duration": 913,
    "start_time": "2022-01-31T18:16:27.192Z"
   },
   {
    "duration": 31,
    "start_time": "2022-01-31T18:16:28.108Z"
   },
   {
    "duration": 42,
    "start_time": "2022-01-31T18:16:28.142Z"
   },
   {
    "duration": 83,
    "start_time": "2022-01-31T18:16:28.187Z"
   },
   {
    "duration": 5,
    "start_time": "2022-01-31T18:16:28.272Z"
   },
   {
    "duration": 16,
    "start_time": "2022-01-31T18:16:28.279Z"
   },
   {
    "duration": 59,
    "start_time": "2022-01-31T18:16:28.298Z"
   },
   {
    "duration": 6,
    "start_time": "2022-01-31T18:16:28.361Z"
   },
   {
    "duration": 10,
    "start_time": "2022-01-31T18:16:28.370Z"
   },
   {
    "duration": 73,
    "start_time": "2022-01-31T18:16:28.383Z"
   },
   {
    "duration": 1470,
    "start_time": "2022-01-31T18:16:28.458Z"
   },
   {
    "duration": 32,
    "start_time": "2022-01-31T18:16:29.933Z"
   },
   {
    "duration": 723,
    "start_time": "2022-01-31T18:16:29.967Z"
   },
   {
    "duration": 20,
    "start_time": "2022-01-31T18:16:30.693Z"
   },
   {
    "duration": 16,
    "start_time": "2022-01-31T18:16:30.733Z"
   },
   {
    "duration": 23,
    "start_time": "2022-01-31T18:16:30.751Z"
   },
   {
    "duration": 9,
    "start_time": "2022-01-31T18:16:30.776Z"
   },
   {
    "duration": 62,
    "start_time": "2022-01-31T18:16:30.787Z"
   },
   {
    "duration": 26,
    "start_time": "2022-01-31T18:16:30.852Z"
   },
   {
    "duration": 19,
    "start_time": "2022-01-31T18:16:30.881Z"
   },
   {
    "duration": 50,
    "start_time": "2022-01-31T18:16:30.903Z"
   },
   {
    "duration": 7,
    "start_time": "2022-01-31T18:16:30.956Z"
   },
   {
    "duration": 32,
    "start_time": "2022-01-31T18:16:30.969Z"
   },
   {
    "duration": 31,
    "start_time": "2022-01-31T18:16:31.005Z"
   },
   {
    "duration": 26,
    "start_time": "2022-01-31T18:16:31.038Z"
   },
   {
    "duration": 69,
    "start_time": "2022-01-31T18:16:31.067Z"
   },
   {
    "duration": 7,
    "start_time": "2022-01-31T18:16:31.139Z"
   },
   {
    "duration": 10,
    "start_time": "2022-01-31T18:16:31.148Z"
   },
   {
    "duration": 7,
    "start_time": "2022-01-31T18:16:31.160Z"
   },
   {
    "duration": 2480,
    "start_time": "2022-01-31T18:16:31.169Z"
   },
   {
    "duration": 483,
    "start_time": "2022-01-31T18:16:33.652Z"
   },
   {
    "duration": 18,
    "start_time": "2022-01-31T18:16:34.138Z"
   },
   {
    "duration": 17,
    "start_time": "2022-01-31T18:16:34.158Z"
   },
   {
    "duration": 364,
    "start_time": "2022-01-31T18:16:34.177Z"
   },
   {
    "duration": 312,
    "start_time": "2022-01-31T18:16:34.544Z"
   },
   {
    "duration": 11,
    "start_time": "2022-01-31T18:16:34.858Z"
   },
   {
    "duration": 365,
    "start_time": "2022-01-31T18:16:34.872Z"
   },
   {
    "duration": 18,
    "start_time": "2022-01-31T18:16:35.239Z"
   },
   {
    "duration": 9,
    "start_time": "2022-01-31T18:16:35.259Z"
   },
   {
    "duration": 8,
    "start_time": "2022-01-31T18:16:35.270Z"
   },
   {
    "duration": 8,
    "start_time": "2022-01-31T18:16:35.280Z"
   },
   {
    "duration": 45,
    "start_time": "2022-01-31T18:16:35.291Z"
   },
   {
    "duration": 562,
    "start_time": "2022-01-31T18:16:35.339Z"
   },
   {
    "duration": 334,
    "start_time": "2022-01-31T18:16:35.904Z"
   },
   {
    "duration": 17,
    "start_time": "2022-01-31T18:16:36.240Z"
   },
   {
    "duration": 15,
    "start_time": "2022-01-31T18:16:36.260Z"
   },
   {
    "duration": 12,
    "start_time": "2022-01-31T18:16:36.277Z"
   },
   {
    "duration": 54,
    "start_time": "2022-01-31T18:16:36.292Z"
   },
   {
    "duration": 31,
    "start_time": "2022-01-31T18:16:36.348Z"
   },
   {
    "duration": 22,
    "start_time": "2022-01-31T18:16:36.381Z"
   },
   {
    "duration": 21,
    "start_time": "2022-01-31T18:16:36.432Z"
   },
   {
    "duration": 19,
    "start_time": "2022-01-31T18:16:36.456Z"
   },
   {
    "duration": 61,
    "start_time": "2022-01-31T18:16:36.477Z"
   },
   {
    "duration": 19,
    "start_time": "2022-01-31T18:16:36.540Z"
   },
   {
    "duration": 11,
    "start_time": "2022-01-31T18:16:36.561Z"
   },
   {
    "duration": 8,
    "start_time": "2022-01-31T18:16:36.574Z"
   },
   {
    "duration": 66,
    "start_time": "2022-01-31T18:16:36.584Z"
   },
   {
    "duration": 12,
    "start_time": "2022-01-31T18:16:36.653Z"
   },
   {
    "duration": 604,
    "start_time": "2022-01-31T18:16:36.668Z"
   },
   {
    "duration": 22,
    "start_time": "2022-01-31T18:16:37.275Z"
   },
   {
    "duration": 79,
    "start_time": "2022-01-31T18:16:37.299Z"
   },
   {
    "duration": 20,
    "start_time": "2022-01-31T18:16:37.381Z"
   },
   {
    "duration": 80,
    "start_time": "2022-01-31T18:16:37.403Z"
   },
   {
    "duration": 21,
    "start_time": "2022-01-31T18:16:37.485Z"
   },
   {
    "duration": 74,
    "start_time": "2022-01-31T18:16:37.509Z"
   },
   {
    "duration": 19,
    "start_time": "2022-01-31T18:16:37.586Z"
   },
   {
    "duration": 7,
    "start_time": "2022-01-31T18:16:37.634Z"
   },
   {
    "duration": 308,
    "start_time": "2022-01-31T18:16:37.648Z"
   },
   {
    "duration": 8,
    "start_time": "2022-01-31T18:16:37.959Z"
   },
   {
    "duration": 391,
    "start_time": "2022-01-31T18:16:37.969Z"
   },
   {
    "duration": 8,
    "start_time": "2022-01-31T18:16:38.362Z"
   },
   {
    "duration": 71,
    "start_time": "2022-01-31T18:16:38.373Z"
   },
   {
    "duration": 21,
    "start_time": "2022-01-31T18:16:38.447Z"
   },
   {
    "duration": 70,
    "start_time": "2022-01-31T18:16:38.471Z"
   },
   {
    "duration": 26,
    "start_time": "2022-01-31T18:16:38.543Z"
   },
   {
    "duration": 75,
    "start_time": "2022-01-31T18:16:38.572Z"
   },
   {
    "duration": 22,
    "start_time": "2022-01-31T18:16:38.650Z"
   },
   {
    "duration": 74,
    "start_time": "2022-01-31T18:16:38.674Z"
   },
   {
    "duration": 21,
    "start_time": "2022-01-31T18:16:38.750Z"
   },
   {
    "duration": 28,
    "start_time": "2022-01-31T18:27:34.497Z"
   },
   {
    "duration": 963,
    "start_time": "2022-01-31T18:28:02.896Z"
   },
   {
    "duration": 24,
    "start_time": "2022-01-31T18:28:03.862Z"
   },
   {
    "duration": 69,
    "start_time": "2022-01-31T18:28:03.889Z"
   },
   {
    "duration": 82,
    "start_time": "2022-01-31T18:28:03.961Z"
   },
   {
    "duration": 5,
    "start_time": "2022-01-31T18:28:04.045Z"
   },
   {
    "duration": 18,
    "start_time": "2022-01-31T18:28:04.053Z"
   },
   {
    "duration": 71,
    "start_time": "2022-01-31T18:28:04.074Z"
   },
   {
    "duration": 7,
    "start_time": "2022-01-31T18:28:04.150Z"
   },
   {
    "duration": 15,
    "start_time": "2022-01-31T18:28:04.161Z"
   },
   {
    "duration": 68,
    "start_time": "2022-01-31T18:28:04.179Z"
   },
   {
    "duration": 1648,
    "start_time": "2022-01-31T18:28:04.250Z"
   },
   {
    "duration": 47,
    "start_time": "2022-01-31T18:28:05.900Z"
   },
   {
    "duration": 878,
    "start_time": "2022-01-31T18:28:05.949Z"
   },
   {
    "duration": 27,
    "start_time": "2022-01-31T18:28:06.832Z"
   },
   {
    "duration": 13,
    "start_time": "2022-01-31T18:28:06.862Z"
   },
   {
    "duration": 54,
    "start_time": "2022-01-31T18:28:06.878Z"
   },
   {
    "duration": 8,
    "start_time": "2022-01-31T18:28:06.934Z"
   },
   {
    "duration": 26,
    "start_time": "2022-01-31T18:28:06.945Z"
   },
   {
    "duration": 72,
    "start_time": "2022-01-31T18:28:06.974Z"
   },
   {
    "duration": 25,
    "start_time": "2022-01-31T18:28:07.050Z"
   },
   {
    "duration": 25,
    "start_time": "2022-01-31T18:28:07.078Z"
   },
   {
    "duration": 31,
    "start_time": "2022-01-31T18:28:07.107Z"
   },
   {
    "duration": 29,
    "start_time": "2022-01-31T18:28:07.148Z"
   },
   {
    "duration": 6,
    "start_time": "2022-01-31T18:28:07.181Z"
   },
   {
    "duration": 57,
    "start_time": "2022-01-31T18:28:07.190Z"
   },
   {
    "duration": 61,
    "start_time": "2022-01-31T18:28:07.250Z"
   },
   {
    "duration": 20,
    "start_time": "2022-01-31T18:28:07.314Z"
   },
   {
    "duration": 23,
    "start_time": "2022-01-31T18:28:07.338Z"
   },
   {
    "duration": 11,
    "start_time": "2022-01-31T18:28:07.364Z"
   },
   {
    "duration": 2821,
    "start_time": "2022-01-31T18:28:07.378Z"
   },
   {
    "duration": 435,
    "start_time": "2022-01-31T18:28:10.201Z"
   },
   {
    "duration": 21,
    "start_time": "2022-01-31T18:28:10.638Z"
   },
   {
    "duration": 20,
    "start_time": "2022-01-31T18:28:10.662Z"
   },
   {
    "duration": 318,
    "start_time": "2022-01-31T18:28:10.684Z"
   },
   {
    "duration": 332,
    "start_time": "2022-01-31T18:28:11.006Z"
   },
   {
    "duration": 14,
    "start_time": "2022-01-31T18:28:11.341Z"
   },
   {
    "duration": 379,
    "start_time": "2022-01-31T18:28:11.358Z"
   },
   {
    "duration": 18,
    "start_time": "2022-01-31T18:28:11.742Z"
   },
   {
    "duration": 13,
    "start_time": "2022-01-31T18:28:11.762Z"
   },
   {
    "duration": 5,
    "start_time": "2022-01-31T18:28:11.777Z"
   },
   {
    "duration": 10,
    "start_time": "2022-01-31T18:28:11.784Z"
   },
   {
    "duration": 44,
    "start_time": "2022-01-31T18:28:11.796Z"
   },
   {
    "duration": 547,
    "start_time": "2022-01-31T18:28:11.843Z"
   },
   {
    "duration": 294,
    "start_time": "2022-01-31T18:28:12.392Z"
   },
   {
    "duration": 17,
    "start_time": "2022-01-31T18:28:12.689Z"
   },
   {
    "duration": 30,
    "start_time": "2022-01-31T18:28:12.709Z"
   },
   {
    "duration": 14,
    "start_time": "2022-01-31T18:28:12.742Z"
   },
   {
    "duration": 19,
    "start_time": "2022-01-31T18:28:12.759Z"
   },
   {
    "duration": 63,
    "start_time": "2022-01-31T18:28:12.781Z"
   },
   {
    "duration": 22,
    "start_time": "2022-01-31T18:28:12.847Z"
   },
   {
    "duration": 20,
    "start_time": "2022-01-31T18:28:12.871Z"
   },
   {
    "duration": 52,
    "start_time": "2022-01-31T18:28:12.893Z"
   },
   {
    "duration": 21,
    "start_time": "2022-01-31T18:28:12.948Z"
   },
   {
    "duration": 22,
    "start_time": "2022-01-31T18:28:12.972Z"
   },
   {
    "duration": 11,
    "start_time": "2022-01-31T18:28:13.045Z"
   },
   {
    "duration": 7,
    "start_time": "2022-01-31T18:28:13.059Z"
   },
   {
    "duration": 19,
    "start_time": "2022-01-31T18:28:13.069Z"
   },
   {
    "duration": 47,
    "start_time": "2022-01-31T18:28:13.090Z"
   },
   {
    "duration": 589,
    "start_time": "2022-01-31T18:28:13.140Z"
   },
   {
    "duration": 24,
    "start_time": "2022-01-31T18:28:13.732Z"
   },
   {
    "duration": 79,
    "start_time": "2022-01-31T18:28:13.759Z"
   },
   {
    "duration": 30,
    "start_time": "2022-01-31T18:28:13.841Z"
   },
   {
    "duration": 85,
    "start_time": "2022-01-31T18:28:13.874Z"
   },
   {
    "duration": 19,
    "start_time": "2022-01-31T18:28:13.961Z"
   },
   {
    "duration": 81,
    "start_time": "2022-01-31T18:28:13.982Z"
   },
   {
    "duration": 20,
    "start_time": "2022-01-31T18:28:14.066Z"
   },
   {
    "duration": 7,
    "start_time": "2022-01-31T18:28:14.089Z"
   },
   {
    "duration": 340,
    "start_time": "2022-01-31T18:28:14.103Z"
   },
   {
    "duration": 8,
    "start_time": "2022-01-31T18:28:14.447Z"
   },
   {
    "duration": 329,
    "start_time": "2022-01-31T18:28:14.457Z"
   },
   {
    "duration": 9,
    "start_time": "2022-01-31T18:28:14.788Z"
   },
   {
    "duration": 81,
    "start_time": "2022-01-31T18:28:14.799Z"
   },
   {
    "duration": 21,
    "start_time": "2022-01-31T18:28:14.882Z"
   },
   {
    "duration": 74,
    "start_time": "2022-01-31T18:28:14.906Z"
   },
   {
    "duration": 20,
    "start_time": "2022-01-31T18:28:14.982Z"
   },
   {
    "duration": 76,
    "start_time": "2022-01-31T18:28:15.005Z"
   },
   {
    "duration": 20,
    "start_time": "2022-01-31T18:28:15.083Z"
   },
   {
    "duration": 83,
    "start_time": "2022-01-31T18:28:15.105Z"
   },
   {
    "duration": 20,
    "start_time": "2022-01-31T18:28:15.191Z"
   },
   {
    "duration": 348,
    "start_time": "2022-01-31T18:28:27.734Z"
   }
  ],
  "kernelspec": {
   "display_name": "Python 3 (ipykernel)",
   "language": "python",
   "name": "python3"
  },
  "language_info": {
   "codemirror_mode": {
    "name": "ipython",
    "version": 3
   },
   "file_extension": ".py",
   "mimetype": "text/x-python",
   "name": "python",
   "nbconvert_exporter": "python",
   "pygments_lexer": "ipython3",
   "version": "3.9.7"
  },
  "toc": {
   "base_numbering": 1,
   "nav_menu": {},
   "number_sections": true,
   "sideBar": true,
   "skip_h1_title": true,
   "title_cell": "Table of Contents",
   "title_sidebar": "Contents",
   "toc_cell": false,
   "toc_position": {},
   "toc_section_display": true,
   "toc_window_display": false
  }
 },
 "nbformat": 4,
 "nbformat_minor": 5
}
