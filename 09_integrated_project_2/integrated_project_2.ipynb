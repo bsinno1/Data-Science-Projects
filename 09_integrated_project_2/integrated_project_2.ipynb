{
 "cells": [
  {
   "cell_type": "markdown",
   "id": "dba76c8d",
   "metadata": {},
   "source": [
    "# Goal"
   ]
  },
  {
   "cell_type": "markdown",
   "id": "f769f315",
   "metadata": {},
   "source": [
    "Develop a machine learning model for Zyfra, an efficiency solutions for heavy industry company. The model analyzes data on extraction and purification of gold from an ore and predicts the final amount of recovered gold. The goven data has problems.  Some features are present in the training, but not in the test set. Most importantly, test data does not include the two target variables. The final model is expected to optimize the production process."
   ]
  },
  {
   "cell_type": "markdown",
   "id": "07c8b075",
   "metadata": {},
   "source": [
    "# Data description"
   ]
  },
  {
   "cell_type": "markdown",
   "id": "f8841463",
   "metadata": {},
   "source": [
    "**Technological process**\n",
    "\n",
    "- *Rougher feed* — raw material\n",
    "- *Rougher additions* (or *reagent additions*) — flotation reagents: *Xanthate, Sulphate, Depressant*\n",
    "    - *Xanthate* — promoter or flotation activator;\n",
    "    - *Sulphate* — sodium sulphide for this particular process;\n",
    "    - *Depressant* — sodium silicate.\n",
    "- *Rougher process* — flotation\n",
    "- *Rougher tails* — product residues\n",
    "- *Float banks* — flotation unit\n",
    "- *Cleaner process* — purification\n",
    "- *Rougher Au* — rougher gold concentrate\n",
    "- *Final Au* — final gold concentrate\n",
    "\n",
    "**Parameters of stages**\n",
    "\n",
    "- *air amount — volume of air*\n",
    "- *fluid levels*\n",
    "- *feed size* — feed particle size\n",
    "- *feed rate*"
   ]
  },
  {
   "cell_type": "markdown",
   "id": "03d58e57",
   "metadata": {},
   "source": [
    "# Feature names"
   ]
  },
  {
   "cell_type": "markdown",
   "id": "0b0dbc21",
   "metadata": {},
   "source": [
    "Here's how we name the features:\n",
    "\n",
    "`[stage].[parameter_type].[parameter_name]`\n",
    "\n",
    "Example: `rougher.input.feed_ag`\n",
    "\n",
    "Possible values for `[stage]`:\n",
    "\n",
    "- *rougher —* flotation\n",
    "- *primary_cleaner* — primary purification\n",
    "- *secondary_cleaner* — secondary purification\n",
    "- *final* — final characteristics\n",
    "\n",
    "Possible values for `[parameter_type]`:\n",
    "\n",
    "- *input* — raw material parameters\n",
    "- *output* — product parameters\n",
    "- *state* — parameters characterizing the current state of the stage\n",
    "- *calculation —* calculation characteristics"
   ]
  },
  {
   "cell_type": "markdown",
   "id": "40e01130",
   "metadata": {},
   "source": [
    "# Package imports "
   ]
  },
  {
   "cell_type": "code",
   "execution_count": 1,
   "id": "056d4809",
   "metadata": {},
   "outputs": [
    {
     "name": "stderr",
     "output_type": "stream",
     "text": [
      "/Users/Rhea/opt/anaconda3/lib/python3.9/site-packages/statsmodels/tsa/base/tsa_model.py:7: FutureWarning: pandas.Int64Index is deprecated and will be removed from pandas in a future version. Use pandas.Index with the appropriate dtype instead.\n",
      "  from pandas import (to_datetime, Int64Index, DatetimeIndex, Period,\n",
      "/Users/Rhea/opt/anaconda3/lib/python3.9/site-packages/statsmodels/tsa/base/tsa_model.py:7: FutureWarning: pandas.Float64Index is deprecated and will be removed from pandas in a future version. Use pandas.Index with the appropriate dtype instead.\n",
      "  from pandas import (to_datetime, Int64Index, DatetimeIndex, Period,\n"
     ]
    }
   ],
   "source": [
    "import pandas as pd \n",
    "import numpy as np\n",
    "import matplotlib.pyplot as plt\n",
    "from scipy import stats as st\n",
    "import seaborn as sns\n",
    "import statsmodels.api as sm\n",
    "import sklearn\n",
    "from sklearn import linear_model\n",
    "from sklearn.preprocessing import StandardScaler as ss\n",
    "from sklearn.pipeline import Pipeline\n",
    "\n",
    "\n",
    "from sklearn.preprocessing import *\n",
    "from sklearn.model_selection import *\n",
    "from sklearn.ensemble import *\n",
    "from sklearn.tree import *\n",
    "from sklearn.linear_model import *\n",
    "from sklearn.metrics import *\n",
    "from sklearn.utils import *\n",
    "from sklearn.dummy import *"
   ]
  },
  {
   "cell_type": "markdown",
   "id": "4abe5495",
   "metadata": {},
   "source": [
    "# Data imports"
   ]
  },
  {
   "cell_type": "code",
   "execution_count": 2,
   "id": "4d73531c",
   "metadata": {},
   "outputs": [],
   "source": [
    "train = pd.read_csv('gold_recovery_train.csv', index_col='date')\n",
    "test  = pd.read_csv('gold_recovery_test.csv', index_col='date')\n",
    "full  = pd.read_csv('gold_recovery_full.csv', index_col='date')"
   ]
  },
  {
   "cell_type": "markdown",
   "id": "bbd3495a",
   "metadata": {},
   "source": [
    "Indexing date"
   ]
  },
  {
   "cell_type": "markdown",
   "id": "5307a4db",
   "metadata": {},
   "source": [
    "# Understanding the data"
   ]
  },
  {
   "cell_type": "code",
   "execution_count": 3,
   "id": "ad13ce69",
   "metadata": {},
   "outputs": [],
   "source": [
    "def understand_df(df):\n",
    "    rows_count, columns_count = df.shape\n",
    "    print('Number of columns:', columns_count)\n",
    "    print('Number of rows:', rows_count)\n",
    "    print(df.isnull().mean().round(4).mul(100).sort_values(ascending=False).nlargest(15))\n",
    "    display(df.head(1))\n",
    "    print(df.dtypes.value_counts())"
   ]
  },
  {
   "cell_type": "markdown",
   "id": "ff4e9308",
   "metadata": {},
   "source": [
    "## Train dataframe"
   ]
  },
  {
   "cell_type": "code",
   "execution_count": 4,
   "id": "599a6853",
   "metadata": {
    "scrolled": true
   },
   "outputs": [
    {
     "name": "stdout",
     "output_type": "stream",
     "text": [
      "Number of columns: 86\n",
      "Number of rows: 16860\n",
      "rougher.output.recovery                   15.26\n",
      "rougher.output.tail_ag                    13.35\n",
      "rougher.output.tail_sol                   13.34\n",
      "rougher.output.tail_au                    13.34\n",
      "secondary_cleaner.output.tail_sol         11.78\n",
      "rougher.input.floatbank11_xanthate        11.29\n",
      "final.output.recovery                      9.02\n",
      "primary_cleaner.input.sulfate              7.75\n",
      "primary_cleaner.input.depressant           7.49\n",
      "rougher.calculation.au_pb_ratio            7.37\n",
      "rougher.input.floatbank10_sulfate          6.19\n",
      "primary_cleaner.input.xanthate             5.84\n",
      "primary_cleaner.output.concentrate_sol     3.77\n",
      "rougher.input.floatbank11_sulfate          3.70\n",
      "rougher.state.floatbank10_e_air            3.58\n",
      "dtype: float64\n"
     ]
    },
    {
     "data": {
      "text/html": [
       "<div>\n",
       "<style scoped>\n",
       "    .dataframe tbody tr th:only-of-type {\n",
       "        vertical-align: middle;\n",
       "    }\n",
       "\n",
       "    .dataframe tbody tr th {\n",
       "        vertical-align: top;\n",
       "    }\n",
       "\n",
       "    .dataframe thead th {\n",
       "        text-align: right;\n",
       "    }\n",
       "</style>\n",
       "<table border=\"1\" class=\"dataframe\">\n",
       "  <thead>\n",
       "    <tr style=\"text-align: right;\">\n",
       "      <th></th>\n",
       "      <th>final.output.concentrate_ag</th>\n",
       "      <th>final.output.concentrate_pb</th>\n",
       "      <th>final.output.concentrate_sol</th>\n",
       "      <th>final.output.concentrate_au</th>\n",
       "      <th>final.output.recovery</th>\n",
       "      <th>final.output.tail_ag</th>\n",
       "      <th>final.output.tail_pb</th>\n",
       "      <th>final.output.tail_sol</th>\n",
       "      <th>final.output.tail_au</th>\n",
       "      <th>primary_cleaner.input.sulfate</th>\n",
       "      <th>...</th>\n",
       "      <th>secondary_cleaner.state.floatbank4_a_air</th>\n",
       "      <th>secondary_cleaner.state.floatbank4_a_level</th>\n",
       "      <th>secondary_cleaner.state.floatbank4_b_air</th>\n",
       "      <th>secondary_cleaner.state.floatbank4_b_level</th>\n",
       "      <th>secondary_cleaner.state.floatbank5_a_air</th>\n",
       "      <th>secondary_cleaner.state.floatbank5_a_level</th>\n",
       "      <th>secondary_cleaner.state.floatbank5_b_air</th>\n",
       "      <th>secondary_cleaner.state.floatbank5_b_level</th>\n",
       "      <th>secondary_cleaner.state.floatbank6_a_air</th>\n",
       "      <th>secondary_cleaner.state.floatbank6_a_level</th>\n",
       "    </tr>\n",
       "    <tr>\n",
       "      <th>date</th>\n",
       "      <th></th>\n",
       "      <th></th>\n",
       "      <th></th>\n",
       "      <th></th>\n",
       "      <th></th>\n",
       "      <th></th>\n",
       "      <th></th>\n",
       "      <th></th>\n",
       "      <th></th>\n",
       "      <th></th>\n",
       "      <th></th>\n",
       "      <th></th>\n",
       "      <th></th>\n",
       "      <th></th>\n",
       "      <th></th>\n",
       "      <th></th>\n",
       "      <th></th>\n",
       "      <th></th>\n",
       "      <th></th>\n",
       "      <th></th>\n",
       "      <th></th>\n",
       "    </tr>\n",
       "  </thead>\n",
       "  <tbody>\n",
       "    <tr>\n",
       "      <th>2016-01-15 00:00:00</th>\n",
       "      <td>6.055403</td>\n",
       "      <td>9.889648</td>\n",
       "      <td>5.507324</td>\n",
       "      <td>42.19202</td>\n",
       "      <td>70.541216</td>\n",
       "      <td>10.411962</td>\n",
       "      <td>0.895447</td>\n",
       "      <td>16.904297</td>\n",
       "      <td>2.143149</td>\n",
       "      <td>127.092003</td>\n",
       "      <td>...</td>\n",
       "      <td>14.016835</td>\n",
       "      <td>-502.488007</td>\n",
       "      <td>12.099931</td>\n",
       "      <td>-504.715942</td>\n",
       "      <td>9.925633</td>\n",
       "      <td>-498.310211</td>\n",
       "      <td>8.079666</td>\n",
       "      <td>-500.470978</td>\n",
       "      <td>14.151341</td>\n",
       "      <td>-605.84198</td>\n",
       "    </tr>\n",
       "  </tbody>\n",
       "</table>\n",
       "<p>1 rows × 86 columns</p>\n",
       "</div>"
      ],
      "text/plain": [
       "                     final.output.concentrate_ag  final.output.concentrate_pb  \\\n",
       "date                                                                            \n",
       "2016-01-15 00:00:00                     6.055403                     9.889648   \n",
       "\n",
       "                     final.output.concentrate_sol  \\\n",
       "date                                                \n",
       "2016-01-15 00:00:00                      5.507324   \n",
       "\n",
       "                     final.output.concentrate_au  final.output.recovery  \\\n",
       "date                                                                      \n",
       "2016-01-15 00:00:00                     42.19202              70.541216   \n",
       "\n",
       "                     final.output.tail_ag  final.output.tail_pb  \\\n",
       "date                                                              \n",
       "2016-01-15 00:00:00             10.411962              0.895447   \n",
       "\n",
       "                     final.output.tail_sol  final.output.tail_au  \\\n",
       "date                                                               \n",
       "2016-01-15 00:00:00              16.904297              2.143149   \n",
       "\n",
       "                     primary_cleaner.input.sulfate  ...  \\\n",
       "date                                                ...   \n",
       "2016-01-15 00:00:00                     127.092003  ...   \n",
       "\n",
       "                     secondary_cleaner.state.floatbank4_a_air  \\\n",
       "date                                                            \n",
       "2016-01-15 00:00:00                                 14.016835   \n",
       "\n",
       "                     secondary_cleaner.state.floatbank4_a_level  \\\n",
       "date                                                              \n",
       "2016-01-15 00:00:00                                 -502.488007   \n",
       "\n",
       "                     secondary_cleaner.state.floatbank4_b_air  \\\n",
       "date                                                            \n",
       "2016-01-15 00:00:00                                 12.099931   \n",
       "\n",
       "                     secondary_cleaner.state.floatbank4_b_level  \\\n",
       "date                                                              \n",
       "2016-01-15 00:00:00                                 -504.715942   \n",
       "\n",
       "                     secondary_cleaner.state.floatbank5_a_air  \\\n",
       "date                                                            \n",
       "2016-01-15 00:00:00                                  9.925633   \n",
       "\n",
       "                     secondary_cleaner.state.floatbank5_a_level  \\\n",
       "date                                                              \n",
       "2016-01-15 00:00:00                                 -498.310211   \n",
       "\n",
       "                     secondary_cleaner.state.floatbank5_b_air  \\\n",
       "date                                                            \n",
       "2016-01-15 00:00:00                                  8.079666   \n",
       "\n",
       "                     secondary_cleaner.state.floatbank5_b_level  \\\n",
       "date                                                              \n",
       "2016-01-15 00:00:00                                 -500.470978   \n",
       "\n",
       "                     secondary_cleaner.state.floatbank6_a_air  \\\n",
       "date                                                            \n",
       "2016-01-15 00:00:00                                 14.151341   \n",
       "\n",
       "                     secondary_cleaner.state.floatbank6_a_level  \n",
       "date                                                             \n",
       "2016-01-15 00:00:00                                  -605.84198  \n",
       "\n",
       "[1 rows x 86 columns]"
      ]
     },
     "metadata": {},
     "output_type": "display_data"
    },
    {
     "name": "stdout",
     "output_type": "stream",
     "text": [
      "float64    86\n",
      "dtype: int64\n"
     ]
    }
   ],
   "source": [
    "understand_df(train)"
   ]
  },
  {
   "cell_type": "markdown",
   "id": "de58f4ba",
   "metadata": {},
   "source": [
    "### Conclusion: \n",
    "All 86 features are float; the number of observations is 16860; 10 out of the 86 features have missing values above 7%. "
   ]
  },
  {
   "cell_type": "markdown",
   "id": "4dcb47d2",
   "metadata": {},
   "source": [
    "## Test Dataframe"
   ]
  },
  {
   "cell_type": "code",
   "execution_count": 5,
   "id": "ebb432f3",
   "metadata": {},
   "outputs": [
    {
     "name": "stdout",
     "output_type": "stream",
     "text": [
      "Number of columns: 52\n",
      "Number of rows: 5856\n",
      "rougher.input.floatbank11_xanthate          6.03\n",
      "primary_cleaner.input.sulfate               5.16\n",
      "primary_cleaner.input.depressant            4.85\n",
      "rougher.input.floatbank10_sulfate           4.39\n",
      "primary_cleaner.input.xanthate              2.83\n",
      "rougher.input.floatbank10_xanthate          2.10\n",
      "rougher.input.feed_sol                      1.14\n",
      "rougher.input.floatbank11_sulfate           0.94\n",
      "rougher.input.feed_rate                     0.68\n",
      "secondary_cleaner.state.floatbank3_a_air    0.58\n",
      "secondary_cleaner.state.floatbank2_b_air    0.39\n",
      "rougher.input.feed_size                     0.38\n",
      "secondary_cleaner.state.floatbank2_a_air    0.34\n",
      "rougher.state.floatbank10_f_air             0.29\n",
      "rougher.state.floatbank10_e_air             0.29\n",
      "dtype: float64\n"
     ]
    },
    {
     "data": {
      "text/html": [
       "<div>\n",
       "<style scoped>\n",
       "    .dataframe tbody tr th:only-of-type {\n",
       "        vertical-align: middle;\n",
       "    }\n",
       "\n",
       "    .dataframe tbody tr th {\n",
       "        vertical-align: top;\n",
       "    }\n",
       "\n",
       "    .dataframe thead th {\n",
       "        text-align: right;\n",
       "    }\n",
       "</style>\n",
       "<table border=\"1\" class=\"dataframe\">\n",
       "  <thead>\n",
       "    <tr style=\"text-align: right;\">\n",
       "      <th></th>\n",
       "      <th>primary_cleaner.input.sulfate</th>\n",
       "      <th>primary_cleaner.input.depressant</th>\n",
       "      <th>primary_cleaner.input.feed_size</th>\n",
       "      <th>primary_cleaner.input.xanthate</th>\n",
       "      <th>primary_cleaner.state.floatbank8_a_air</th>\n",
       "      <th>primary_cleaner.state.floatbank8_a_level</th>\n",
       "      <th>primary_cleaner.state.floatbank8_b_air</th>\n",
       "      <th>primary_cleaner.state.floatbank8_b_level</th>\n",
       "      <th>primary_cleaner.state.floatbank8_c_air</th>\n",
       "      <th>primary_cleaner.state.floatbank8_c_level</th>\n",
       "      <th>...</th>\n",
       "      <th>secondary_cleaner.state.floatbank4_a_air</th>\n",
       "      <th>secondary_cleaner.state.floatbank4_a_level</th>\n",
       "      <th>secondary_cleaner.state.floatbank4_b_air</th>\n",
       "      <th>secondary_cleaner.state.floatbank4_b_level</th>\n",
       "      <th>secondary_cleaner.state.floatbank5_a_air</th>\n",
       "      <th>secondary_cleaner.state.floatbank5_a_level</th>\n",
       "      <th>secondary_cleaner.state.floatbank5_b_air</th>\n",
       "      <th>secondary_cleaner.state.floatbank5_b_level</th>\n",
       "      <th>secondary_cleaner.state.floatbank6_a_air</th>\n",
       "      <th>secondary_cleaner.state.floatbank6_a_level</th>\n",
       "    </tr>\n",
       "    <tr>\n",
       "      <th>date</th>\n",
       "      <th></th>\n",
       "      <th></th>\n",
       "      <th></th>\n",
       "      <th></th>\n",
       "      <th></th>\n",
       "      <th></th>\n",
       "      <th></th>\n",
       "      <th></th>\n",
       "      <th></th>\n",
       "      <th></th>\n",
       "      <th></th>\n",
       "      <th></th>\n",
       "      <th></th>\n",
       "      <th></th>\n",
       "      <th></th>\n",
       "      <th></th>\n",
       "      <th></th>\n",
       "      <th></th>\n",
       "      <th></th>\n",
       "      <th></th>\n",
       "      <th></th>\n",
       "    </tr>\n",
       "  </thead>\n",
       "  <tbody>\n",
       "    <tr>\n",
       "      <th>2016-09-01 00:59:59</th>\n",
       "      <td>210.800909</td>\n",
       "      <td>14.993118</td>\n",
       "      <td>8.08</td>\n",
       "      <td>1.005021</td>\n",
       "      <td>1398.981301</td>\n",
       "      <td>-500.225577</td>\n",
       "      <td>1399.144926</td>\n",
       "      <td>-499.919735</td>\n",
       "      <td>1400.102998</td>\n",
       "      <td>-500.704369</td>\n",
       "      <td>...</td>\n",
       "      <td>12.023554</td>\n",
       "      <td>-497.795834</td>\n",
       "      <td>8.016656</td>\n",
       "      <td>-501.289139</td>\n",
       "      <td>7.946562</td>\n",
       "      <td>-432.31785</td>\n",
       "      <td>4.872511</td>\n",
       "      <td>-500.037437</td>\n",
       "      <td>26.705889</td>\n",
       "      <td>-499.709414</td>\n",
       "    </tr>\n",
       "  </tbody>\n",
       "</table>\n",
       "<p>1 rows × 52 columns</p>\n",
       "</div>"
      ],
      "text/plain": [
       "                     primary_cleaner.input.sulfate  \\\n",
       "date                                                 \n",
       "2016-09-01 00:59:59                     210.800909   \n",
       "\n",
       "                     primary_cleaner.input.depressant  \\\n",
       "date                                                    \n",
       "2016-09-01 00:59:59                         14.993118   \n",
       "\n",
       "                     primary_cleaner.input.feed_size  \\\n",
       "date                                                   \n",
       "2016-09-01 00:59:59                             8.08   \n",
       "\n",
       "                     primary_cleaner.input.xanthate  \\\n",
       "date                                                  \n",
       "2016-09-01 00:59:59                        1.005021   \n",
       "\n",
       "                     primary_cleaner.state.floatbank8_a_air  \\\n",
       "date                                                          \n",
       "2016-09-01 00:59:59                             1398.981301   \n",
       "\n",
       "                     primary_cleaner.state.floatbank8_a_level  \\\n",
       "date                                                            \n",
       "2016-09-01 00:59:59                               -500.225577   \n",
       "\n",
       "                     primary_cleaner.state.floatbank8_b_air  \\\n",
       "date                                                          \n",
       "2016-09-01 00:59:59                             1399.144926   \n",
       "\n",
       "                     primary_cleaner.state.floatbank8_b_level  \\\n",
       "date                                                            \n",
       "2016-09-01 00:59:59                               -499.919735   \n",
       "\n",
       "                     primary_cleaner.state.floatbank8_c_air  \\\n",
       "date                                                          \n",
       "2016-09-01 00:59:59                             1400.102998   \n",
       "\n",
       "                     primary_cleaner.state.floatbank8_c_level  ...  \\\n",
       "date                                                           ...   \n",
       "2016-09-01 00:59:59                               -500.704369  ...   \n",
       "\n",
       "                     secondary_cleaner.state.floatbank4_a_air  \\\n",
       "date                                                            \n",
       "2016-09-01 00:59:59                                 12.023554   \n",
       "\n",
       "                     secondary_cleaner.state.floatbank4_a_level  \\\n",
       "date                                                              \n",
       "2016-09-01 00:59:59                                 -497.795834   \n",
       "\n",
       "                     secondary_cleaner.state.floatbank4_b_air  \\\n",
       "date                                                            \n",
       "2016-09-01 00:59:59                                  8.016656   \n",
       "\n",
       "                     secondary_cleaner.state.floatbank4_b_level  \\\n",
       "date                                                              \n",
       "2016-09-01 00:59:59                                 -501.289139   \n",
       "\n",
       "                     secondary_cleaner.state.floatbank5_a_air  \\\n",
       "date                                                            \n",
       "2016-09-01 00:59:59                                  7.946562   \n",
       "\n",
       "                     secondary_cleaner.state.floatbank5_a_level  \\\n",
       "date                                                              \n",
       "2016-09-01 00:59:59                                  -432.31785   \n",
       "\n",
       "                     secondary_cleaner.state.floatbank5_b_air  \\\n",
       "date                                                            \n",
       "2016-09-01 00:59:59                                  4.872511   \n",
       "\n",
       "                     secondary_cleaner.state.floatbank5_b_level  \\\n",
       "date                                                              \n",
       "2016-09-01 00:59:59                                 -500.037437   \n",
       "\n",
       "                     secondary_cleaner.state.floatbank6_a_air  \\\n",
       "date                                                            \n",
       "2016-09-01 00:59:59                                 26.705889   \n",
       "\n",
       "                     secondary_cleaner.state.floatbank6_a_level  \n",
       "date                                                             \n",
       "2016-09-01 00:59:59                                 -499.709414  \n",
       "\n",
       "[1 rows x 52 columns]"
      ]
     },
     "metadata": {},
     "output_type": "display_data"
    },
    {
     "name": "stdout",
     "output_type": "stream",
     "text": [
      "float64    52\n",
      "dtype: int64\n"
     ]
    }
   ],
   "source": [
    "understand_df(test)"
   ]
  },
  {
   "cell_type": "markdown",
   "id": "054404c5",
   "metadata": {},
   "source": [
    "### Conclusion: \n",
    "All 52 features are float; the number of observations is 5856; no features have missing values above 7%. "
   ]
  },
  {
   "cell_type": "markdown",
   "id": "d4fedd75",
   "metadata": {},
   "source": [
    "## Full Dataframe"
   ]
  },
  {
   "cell_type": "code",
   "execution_count": 6,
   "id": "a3c4c7c4",
   "metadata": {},
   "outputs": [
    {
     "name": "stdout",
     "output_type": "stream",
     "text": [
      "Number of columns: 86\n",
      "Number of rows: 22716\n",
      "rougher.output.recovery                   13.73\n",
      "rougher.output.tail_ag                    12.05\n",
      "rougher.output.tail_sol                   12.04\n",
      "rougher.output.tail_au                    12.04\n",
      "rougher.input.floatbank11_xanthate         9.94\n",
      "secondary_cleaner.output.tail_sol          9.75\n",
      "final.output.recovery                      8.64\n",
      "rougher.calculation.au_pb_ratio            7.16\n",
      "primary_cleaner.input.sulfate              7.08\n",
      "primary_cleaner.input.depressant           6.81\n",
      "rougher.input.floatbank10_sulfate          5.73\n",
      "primary_cleaner.input.xanthate             5.07\n",
      "primary_cleaner.output.concentrate_sol     3.51\n",
      "rougher.input.floatbank11_sulfate          2.98\n",
      "rougher.state.floatbank10_e_air            2.73\n",
      "dtype: float64\n"
     ]
    },
    {
     "data": {
      "text/html": [
       "<div>\n",
       "<style scoped>\n",
       "    .dataframe tbody tr th:only-of-type {\n",
       "        vertical-align: middle;\n",
       "    }\n",
       "\n",
       "    .dataframe tbody tr th {\n",
       "        vertical-align: top;\n",
       "    }\n",
       "\n",
       "    .dataframe thead th {\n",
       "        text-align: right;\n",
       "    }\n",
       "</style>\n",
       "<table border=\"1\" class=\"dataframe\">\n",
       "  <thead>\n",
       "    <tr style=\"text-align: right;\">\n",
       "      <th></th>\n",
       "      <th>final.output.concentrate_ag</th>\n",
       "      <th>final.output.concentrate_pb</th>\n",
       "      <th>final.output.concentrate_sol</th>\n",
       "      <th>final.output.concentrate_au</th>\n",
       "      <th>final.output.recovery</th>\n",
       "      <th>final.output.tail_ag</th>\n",
       "      <th>final.output.tail_pb</th>\n",
       "      <th>final.output.tail_sol</th>\n",
       "      <th>final.output.tail_au</th>\n",
       "      <th>primary_cleaner.input.sulfate</th>\n",
       "      <th>...</th>\n",
       "      <th>secondary_cleaner.state.floatbank4_a_air</th>\n",
       "      <th>secondary_cleaner.state.floatbank4_a_level</th>\n",
       "      <th>secondary_cleaner.state.floatbank4_b_air</th>\n",
       "      <th>secondary_cleaner.state.floatbank4_b_level</th>\n",
       "      <th>secondary_cleaner.state.floatbank5_a_air</th>\n",
       "      <th>secondary_cleaner.state.floatbank5_a_level</th>\n",
       "      <th>secondary_cleaner.state.floatbank5_b_air</th>\n",
       "      <th>secondary_cleaner.state.floatbank5_b_level</th>\n",
       "      <th>secondary_cleaner.state.floatbank6_a_air</th>\n",
       "      <th>secondary_cleaner.state.floatbank6_a_level</th>\n",
       "    </tr>\n",
       "    <tr>\n",
       "      <th>date</th>\n",
       "      <th></th>\n",
       "      <th></th>\n",
       "      <th></th>\n",
       "      <th></th>\n",
       "      <th></th>\n",
       "      <th></th>\n",
       "      <th></th>\n",
       "      <th></th>\n",
       "      <th></th>\n",
       "      <th></th>\n",
       "      <th></th>\n",
       "      <th></th>\n",
       "      <th></th>\n",
       "      <th></th>\n",
       "      <th></th>\n",
       "      <th></th>\n",
       "      <th></th>\n",
       "      <th></th>\n",
       "      <th></th>\n",
       "      <th></th>\n",
       "      <th></th>\n",
       "    </tr>\n",
       "  </thead>\n",
       "  <tbody>\n",
       "    <tr>\n",
       "      <th>2016-01-15 00:00:00</th>\n",
       "      <td>6.055403</td>\n",
       "      <td>9.889648</td>\n",
       "      <td>5.507324</td>\n",
       "      <td>42.19202</td>\n",
       "      <td>70.541216</td>\n",
       "      <td>10.411962</td>\n",
       "      <td>0.895447</td>\n",
       "      <td>16.904297</td>\n",
       "      <td>2.143149</td>\n",
       "      <td>127.092003</td>\n",
       "      <td>...</td>\n",
       "      <td>14.016835</td>\n",
       "      <td>-502.488007</td>\n",
       "      <td>12.099931</td>\n",
       "      <td>-504.715942</td>\n",
       "      <td>9.925633</td>\n",
       "      <td>-498.310211</td>\n",
       "      <td>8.079666</td>\n",
       "      <td>-500.470978</td>\n",
       "      <td>14.151341</td>\n",
       "      <td>-605.84198</td>\n",
       "    </tr>\n",
       "  </tbody>\n",
       "</table>\n",
       "<p>1 rows × 86 columns</p>\n",
       "</div>"
      ],
      "text/plain": [
       "                     final.output.concentrate_ag  final.output.concentrate_pb  \\\n",
       "date                                                                            \n",
       "2016-01-15 00:00:00                     6.055403                     9.889648   \n",
       "\n",
       "                     final.output.concentrate_sol  \\\n",
       "date                                                \n",
       "2016-01-15 00:00:00                      5.507324   \n",
       "\n",
       "                     final.output.concentrate_au  final.output.recovery  \\\n",
       "date                                                                      \n",
       "2016-01-15 00:00:00                     42.19202              70.541216   \n",
       "\n",
       "                     final.output.tail_ag  final.output.tail_pb  \\\n",
       "date                                                              \n",
       "2016-01-15 00:00:00             10.411962              0.895447   \n",
       "\n",
       "                     final.output.tail_sol  final.output.tail_au  \\\n",
       "date                                                               \n",
       "2016-01-15 00:00:00              16.904297              2.143149   \n",
       "\n",
       "                     primary_cleaner.input.sulfate  ...  \\\n",
       "date                                                ...   \n",
       "2016-01-15 00:00:00                     127.092003  ...   \n",
       "\n",
       "                     secondary_cleaner.state.floatbank4_a_air  \\\n",
       "date                                                            \n",
       "2016-01-15 00:00:00                                 14.016835   \n",
       "\n",
       "                     secondary_cleaner.state.floatbank4_a_level  \\\n",
       "date                                                              \n",
       "2016-01-15 00:00:00                                 -502.488007   \n",
       "\n",
       "                     secondary_cleaner.state.floatbank4_b_air  \\\n",
       "date                                                            \n",
       "2016-01-15 00:00:00                                 12.099931   \n",
       "\n",
       "                     secondary_cleaner.state.floatbank4_b_level  \\\n",
       "date                                                              \n",
       "2016-01-15 00:00:00                                 -504.715942   \n",
       "\n",
       "                     secondary_cleaner.state.floatbank5_a_air  \\\n",
       "date                                                            \n",
       "2016-01-15 00:00:00                                  9.925633   \n",
       "\n",
       "                     secondary_cleaner.state.floatbank5_a_level  \\\n",
       "date                                                              \n",
       "2016-01-15 00:00:00                                 -498.310211   \n",
       "\n",
       "                     secondary_cleaner.state.floatbank5_b_air  \\\n",
       "date                                                            \n",
       "2016-01-15 00:00:00                                  8.079666   \n",
       "\n",
       "                     secondary_cleaner.state.floatbank5_b_level  \\\n",
       "date                                                              \n",
       "2016-01-15 00:00:00                                 -500.470978   \n",
       "\n",
       "                     secondary_cleaner.state.floatbank6_a_air  \\\n",
       "date                                                            \n",
       "2016-01-15 00:00:00                                 14.151341   \n",
       "\n",
       "                     secondary_cleaner.state.floatbank6_a_level  \n",
       "date                                                             \n",
       "2016-01-15 00:00:00                                  -605.84198  \n",
       "\n",
       "[1 rows x 86 columns]"
      ]
     },
     "metadata": {},
     "output_type": "display_data"
    },
    {
     "name": "stdout",
     "output_type": "stream",
     "text": [
      "float64    86\n",
      "dtype: int64\n"
     ]
    }
   ],
   "source": [
    "understand_df(full)"
   ]
  },
  {
   "cell_type": "markdown",
   "id": "de3ae950",
   "metadata": {},
   "source": [
    "### Conclusion: \n",
    "All 86 features are float; the number of observations is 22716; 9 features have missing values above 7%. "
   ]
  },
  {
   "cell_type": "markdown",
   "id": "196248e3",
   "metadata": {},
   "source": [
    "# Recovery calculation check"
   ]
  },
  {
   "cell_type": "markdown",
   "id": "267de632",
   "metadata": {},
   "source": [
    "The MAE measures the average magnitude of the errors in a set of forecasts, without considering their direction. It measures accuracy for continuous variables."
   ]
  },
  {
   "cell_type": "code",
   "execution_count": 7,
   "id": "d6c6fa0d",
   "metadata": {},
   "outputs": [],
   "source": [
    "C = train[\"rougher.output.concentrate_au\"]\n",
    "F = train[\"rougher.input.feed_au\"]\n",
    "T = train[\"rougher.output.tail_au\"]"
   ]
  },
  {
   "cell_type": "code",
   "execution_count": 8,
   "id": "20854892",
   "metadata": {},
   "outputs": [],
   "source": [
    "train[\"rougher.output.recovery.calculated\"] = (C * (F - T)) / (F * (C - T)) * 100"
   ]
  },
  {
   "cell_type": "code",
   "execution_count": 9,
   "id": "8f4f8508",
   "metadata": {},
   "outputs": [
    {
     "name": "stdout",
     "output_type": "stream",
     "text": [
      "MAE : 7.883623897364653e-15\n"
     ]
    }
   ],
   "source": [
    "mae = (train[\"rougher.output.recovery.calculated\"] - train[\"rougher.output.recovery\"]).abs().sum() / len(train)\n",
    "print(\"MAE\", \":\", mae)"
   ]
  },
  {
   "cell_type": "markdown",
   "id": "ecff162c",
   "metadata": {},
   "source": [
    "## Conclusion: \n",
    "The MAE is almost 0.  This means that the recovery was calculated properly when preparing the data."
   ]
  },
  {
   "cell_type": "markdown",
   "id": "cc7fbf3f",
   "metadata": {},
   "source": [
    "# Missing features Analysis"
   ]
  },
  {
   "cell_type": "markdown",
   "id": "bfe32cce",
   "metadata": {},
   "source": [
    "Features available in the full dataset, but not in the test set."
   ]
  },
  {
   "cell_type": "code",
   "execution_count": 10,
   "id": "a99f8a0a",
   "metadata": {},
   "outputs": [],
   "source": [
    "diff = full.columns.difference(test.columns)"
   ]
  },
  {
   "cell_type": "code",
   "execution_count": 11,
   "id": "81094fa4",
   "metadata": {},
   "outputs": [
    {
     "name": "stdout",
     "output_type": "stream",
     "text": [
      "<class 'pandas.core.frame.DataFrame'>\n",
      "Index: 22716 entries, 2016-01-15 00:00:00 to 2018-08-18 10:59:59\n",
      "Data columns (total 34 columns):\n",
      " #   Column                                              Non-Null Count  Dtype  \n",
      "---  ------                                              --------------  -----  \n",
      " 0   final.output.concentrate_ag                         22627 non-null  float64\n",
      " 1   final.output.concentrate_au                         22630 non-null  float64\n",
      " 2   final.output.concentrate_pb                         22629 non-null  float64\n",
      " 3   final.output.concentrate_sol                        22331 non-null  float64\n",
      " 4   final.output.recovery                               20753 non-null  float64\n",
      " 5   final.output.tail_ag                                22633 non-null  float64\n",
      " 6   final.output.tail_au                                22635 non-null  float64\n",
      " 7   final.output.tail_pb                                22516 non-null  float64\n",
      " 8   final.output.tail_sol                               22445 non-null  float64\n",
      " 9   primary_cleaner.output.concentrate_ag               22618 non-null  float64\n",
      " 10  primary_cleaner.output.concentrate_au               22618 non-null  float64\n",
      " 11  primary_cleaner.output.concentrate_pb               22268 non-null  float64\n",
      " 12  primary_cleaner.output.concentrate_sol              21918 non-null  float64\n",
      " 13  primary_cleaner.output.tail_ag                      22614 non-null  float64\n",
      " 14  primary_cleaner.output.tail_au                      22617 non-null  float64\n",
      " 15  primary_cleaner.output.tail_pb                      22594 non-null  float64\n",
      " 16  primary_cleaner.output.tail_sol                     22365 non-null  float64\n",
      " 17  rougher.calculation.au_pb_ratio                     21089 non-null  float64\n",
      " 18  rougher.calculation.floatbank10_sulfate_to_au_feed  22672 non-null  float64\n",
      " 19  rougher.calculation.floatbank11_sulfate_to_au_feed  22672 non-null  float64\n",
      " 20  rougher.calculation.sulfate_to_au_concentrate       22672 non-null  float64\n",
      " 21  rougher.output.concentrate_ag                       22618 non-null  float64\n",
      " 22  rougher.output.concentrate_au                       22618 non-null  float64\n",
      " 23  rougher.output.concentrate_pb                       22618 non-null  float64\n",
      " 24  rougher.output.concentrate_sol                      22526 non-null  float64\n",
      " 25  rougher.output.recovery                             19597 non-null  float64\n",
      " 26  rougher.output.tail_ag                              19979 non-null  float64\n",
      " 27  rougher.output.tail_au                              19980 non-null  float64\n",
      " 28  rougher.output.tail_pb                              22618 non-null  float64\n",
      " 29  rougher.output.tail_sol                             19980 non-null  float64\n",
      " 30  secondary_cleaner.output.tail_ag                    22616 non-null  float64\n",
      " 31  secondary_cleaner.output.tail_au                    22618 non-null  float64\n",
      " 32  secondary_cleaner.output.tail_pb                    22600 non-null  float64\n",
      " 33  secondary_cleaner.output.tail_sol                   20501 non-null  float64\n",
      "dtypes: float64(34)\n",
      "memory usage: 6.1+ MB\n"
     ]
    }
   ],
   "source": [
    "full[diff].info()"
   ]
  },
  {
   "cell_type": "markdown",
   "id": "1cd11201",
   "metadata": {},
   "source": [
    "## Conclusion: \n",
    "There are 34 features missing from the test set.  The number of entries is 22716 which corresponds to the full dataset.  It is important to note that all these features are either outputs of the process or calculations based on those outputs, thus we can't use them in our models.  As a result, the full dataset is in some way redundant."
   ]
  },
  {
   "cell_type": "markdown",
   "id": "99429916",
   "metadata": {},
   "source": [
    "# Data Preprocessing"
   ]
  },
  {
   "cell_type": "markdown",
   "id": "f464133f",
   "metadata": {},
   "source": [
    "Our target is ['final.output.recovery', 'rougher.output.recovery']"
   ]
  },
  {
   "cell_type": "markdown",
   "id": "b60b3579",
   "metadata": {},
   "source": [
    "## Recover targets"
   ]
  },
  {
   "cell_type": "markdown",
   "id": "edb65696",
   "metadata": {},
   "source": [
    "Let's use the full dataset to extract test targets and include them in the test set to be able to compare our predictions to the actual values."
   ]
  },
  {
   "cell_type": "code",
   "execution_count": 12,
   "id": "0978b638",
   "metadata": {},
   "outputs": [],
   "source": [
    "test_merged = test.merge(full[['final.output.recovery', 'rougher.output.recovery']], how='left', left_index=True, right_index=True)"
   ]
  },
  {
   "cell_type": "code",
   "execution_count": 13,
   "id": "ac0482b7",
   "metadata": {},
   "outputs": [
    {
     "name": "stdout",
     "output_type": "stream",
     "text": [
      "Number of columns: 54\n",
      "Number of rows: 5856\n",
      "rougher.output.recovery                     9.32\n",
      "final.output.recovery                       7.55\n",
      "rougher.input.floatbank11_xanthate          6.03\n",
      "primary_cleaner.input.sulfate               5.16\n",
      "primary_cleaner.input.depressant            4.85\n",
      "rougher.input.floatbank10_sulfate           4.39\n",
      "primary_cleaner.input.xanthate              2.83\n",
      "rougher.input.floatbank10_xanthate          2.10\n",
      "rougher.input.feed_sol                      1.14\n",
      "rougher.input.floatbank11_sulfate           0.94\n",
      "rougher.input.feed_rate                     0.68\n",
      "secondary_cleaner.state.floatbank3_a_air    0.58\n",
      "secondary_cleaner.state.floatbank2_b_air    0.39\n",
      "rougher.input.feed_size                     0.38\n",
      "secondary_cleaner.state.floatbank2_a_air    0.34\n",
      "dtype: float64\n"
     ]
    },
    {
     "data": {
      "text/html": [
       "<div>\n",
       "<style scoped>\n",
       "    .dataframe tbody tr th:only-of-type {\n",
       "        vertical-align: middle;\n",
       "    }\n",
       "\n",
       "    .dataframe tbody tr th {\n",
       "        vertical-align: top;\n",
       "    }\n",
       "\n",
       "    .dataframe thead th {\n",
       "        text-align: right;\n",
       "    }\n",
       "</style>\n",
       "<table border=\"1\" class=\"dataframe\">\n",
       "  <thead>\n",
       "    <tr style=\"text-align: right;\">\n",
       "      <th></th>\n",
       "      <th>primary_cleaner.input.sulfate</th>\n",
       "      <th>primary_cleaner.input.depressant</th>\n",
       "      <th>primary_cleaner.input.feed_size</th>\n",
       "      <th>primary_cleaner.input.xanthate</th>\n",
       "      <th>primary_cleaner.state.floatbank8_a_air</th>\n",
       "      <th>primary_cleaner.state.floatbank8_a_level</th>\n",
       "      <th>primary_cleaner.state.floatbank8_b_air</th>\n",
       "      <th>primary_cleaner.state.floatbank8_b_level</th>\n",
       "      <th>primary_cleaner.state.floatbank8_c_air</th>\n",
       "      <th>primary_cleaner.state.floatbank8_c_level</th>\n",
       "      <th>...</th>\n",
       "      <th>secondary_cleaner.state.floatbank4_b_air</th>\n",
       "      <th>secondary_cleaner.state.floatbank4_b_level</th>\n",
       "      <th>secondary_cleaner.state.floatbank5_a_air</th>\n",
       "      <th>secondary_cleaner.state.floatbank5_a_level</th>\n",
       "      <th>secondary_cleaner.state.floatbank5_b_air</th>\n",
       "      <th>secondary_cleaner.state.floatbank5_b_level</th>\n",
       "      <th>secondary_cleaner.state.floatbank6_a_air</th>\n",
       "      <th>secondary_cleaner.state.floatbank6_a_level</th>\n",
       "      <th>final.output.recovery</th>\n",
       "      <th>rougher.output.recovery</th>\n",
       "    </tr>\n",
       "    <tr>\n",
       "      <th>date</th>\n",
       "      <th></th>\n",
       "      <th></th>\n",
       "      <th></th>\n",
       "      <th></th>\n",
       "      <th></th>\n",
       "      <th></th>\n",
       "      <th></th>\n",
       "      <th></th>\n",
       "      <th></th>\n",
       "      <th></th>\n",
       "      <th></th>\n",
       "      <th></th>\n",
       "      <th></th>\n",
       "      <th></th>\n",
       "      <th></th>\n",
       "      <th></th>\n",
       "      <th></th>\n",
       "      <th></th>\n",
       "      <th></th>\n",
       "      <th></th>\n",
       "      <th></th>\n",
       "    </tr>\n",
       "  </thead>\n",
       "  <tbody>\n",
       "    <tr>\n",
       "      <th>2016-09-01 00:59:59</th>\n",
       "      <td>210.800909</td>\n",
       "      <td>14.993118</td>\n",
       "      <td>8.08</td>\n",
       "      <td>1.005021</td>\n",
       "      <td>1398.981301</td>\n",
       "      <td>-500.225577</td>\n",
       "      <td>1399.144926</td>\n",
       "      <td>-499.919735</td>\n",
       "      <td>1400.102998</td>\n",
       "      <td>-500.704369</td>\n",
       "      <td>...</td>\n",
       "      <td>8.016656</td>\n",
       "      <td>-501.289139</td>\n",
       "      <td>7.946562</td>\n",
       "      <td>-432.31785</td>\n",
       "      <td>4.872511</td>\n",
       "      <td>-500.037437</td>\n",
       "      <td>26.705889</td>\n",
       "      <td>-499.709414</td>\n",
       "      <td>70.273583</td>\n",
       "      <td>89.993421</td>\n",
       "    </tr>\n",
       "  </tbody>\n",
       "</table>\n",
       "<p>1 rows × 54 columns</p>\n",
       "</div>"
      ],
      "text/plain": [
       "                     primary_cleaner.input.sulfate  \\\n",
       "date                                                 \n",
       "2016-09-01 00:59:59                     210.800909   \n",
       "\n",
       "                     primary_cleaner.input.depressant  \\\n",
       "date                                                    \n",
       "2016-09-01 00:59:59                         14.993118   \n",
       "\n",
       "                     primary_cleaner.input.feed_size  \\\n",
       "date                                                   \n",
       "2016-09-01 00:59:59                             8.08   \n",
       "\n",
       "                     primary_cleaner.input.xanthate  \\\n",
       "date                                                  \n",
       "2016-09-01 00:59:59                        1.005021   \n",
       "\n",
       "                     primary_cleaner.state.floatbank8_a_air  \\\n",
       "date                                                          \n",
       "2016-09-01 00:59:59                             1398.981301   \n",
       "\n",
       "                     primary_cleaner.state.floatbank8_a_level  \\\n",
       "date                                                            \n",
       "2016-09-01 00:59:59                               -500.225577   \n",
       "\n",
       "                     primary_cleaner.state.floatbank8_b_air  \\\n",
       "date                                                          \n",
       "2016-09-01 00:59:59                             1399.144926   \n",
       "\n",
       "                     primary_cleaner.state.floatbank8_b_level  \\\n",
       "date                                                            \n",
       "2016-09-01 00:59:59                               -499.919735   \n",
       "\n",
       "                     primary_cleaner.state.floatbank8_c_air  \\\n",
       "date                                                          \n",
       "2016-09-01 00:59:59                             1400.102998   \n",
       "\n",
       "                     primary_cleaner.state.floatbank8_c_level  ...  \\\n",
       "date                                                           ...   \n",
       "2016-09-01 00:59:59                               -500.704369  ...   \n",
       "\n",
       "                     secondary_cleaner.state.floatbank4_b_air  \\\n",
       "date                                                            \n",
       "2016-09-01 00:59:59                                  8.016656   \n",
       "\n",
       "                     secondary_cleaner.state.floatbank4_b_level  \\\n",
       "date                                                              \n",
       "2016-09-01 00:59:59                                 -501.289139   \n",
       "\n",
       "                     secondary_cleaner.state.floatbank5_a_air  \\\n",
       "date                                                            \n",
       "2016-09-01 00:59:59                                  7.946562   \n",
       "\n",
       "                     secondary_cleaner.state.floatbank5_a_level  \\\n",
       "date                                                              \n",
       "2016-09-01 00:59:59                                  -432.31785   \n",
       "\n",
       "                     secondary_cleaner.state.floatbank5_b_air  \\\n",
       "date                                                            \n",
       "2016-09-01 00:59:59                                  4.872511   \n",
       "\n",
       "                     secondary_cleaner.state.floatbank5_b_level  \\\n",
       "date                                                              \n",
       "2016-09-01 00:59:59                                 -500.037437   \n",
       "\n",
       "                     secondary_cleaner.state.floatbank6_a_air  \\\n",
       "date                                                            \n",
       "2016-09-01 00:59:59                                 26.705889   \n",
       "\n",
       "                     secondary_cleaner.state.floatbank6_a_level  \\\n",
       "date                                                              \n",
       "2016-09-01 00:59:59                                 -499.709414   \n",
       "\n",
       "                     final.output.recovery  rougher.output.recovery  \n",
       "date                                                                 \n",
       "2016-09-01 00:59:59              70.273583                89.993421  \n",
       "\n",
       "[1 rows x 54 columns]"
      ]
     },
     "metadata": {},
     "output_type": "display_data"
    },
    {
     "name": "stdout",
     "output_type": "stream",
     "text": [
      "float64    54\n",
      "dtype: int64\n"
     ]
    }
   ],
   "source": [
    "understand_df(test_merged)"
   ]
  },
  {
   "cell_type": "markdown",
   "id": "6d1c2141",
   "metadata": {},
   "source": [
    "### The test_merged set still has 5856 rows, but now has 54 features.  But our target features have more missing variables than the rest of the features."
   ]
  },
  {
   "cell_type": "markdown",
   "id": "c03210e7",
   "metadata": {},
   "source": [
    "## Duplicates"
   ]
  },
  {
   "cell_type": "markdown",
   "id": "1c8480a2",
   "metadata": {},
   "source": [
    "Let's check if any rows are duplicated."
   ]
  },
  {
   "cell_type": "code",
   "execution_count": 14,
   "id": "e592f704",
   "metadata": {},
   "outputs": [
    {
     "data": {
      "text/plain": [
       "6"
      ]
     },
     "execution_count": 14,
     "metadata": {},
     "output_type": "execute_result"
    }
   ],
   "source": [
    "test_merged.duplicated().sum()"
   ]
  },
  {
   "cell_type": "code",
   "execution_count": 15,
   "id": "b3e6584b",
   "metadata": {},
   "outputs": [],
   "source": [
    "test_merged = test_merged.drop_duplicates()"
   ]
  },
  {
   "cell_type": "markdown",
   "id": "8e615c27",
   "metadata": {},
   "source": [
    "# EDA"
   ]
  },
  {
   "cell_type": "markdown",
   "id": "e9e097b9",
   "metadata": {},
   "source": [
    "## Concentrations of metals"
   ]
  },
  {
   "cell_type": "markdown",
   "id": "cefcdd42",
   "metadata": {},
   "source": [
    "Using the full dataset"
   ]
  },
  {
   "cell_type": "code",
   "execution_count": 16,
   "id": "55fa8898",
   "metadata": {},
   "outputs": [],
   "source": [
    "# This function takes two arguments: a dataframe and a string.  It extracts columns from the dataframe that indlucde the  \n",
    "# specific string passed as argument. It returns a dataframe these columns.\n",
    "\n",
    "def metal_specific(df, string):\n",
    "    cols = [col for col in df.columns if string in col]\n",
    "    return df[cols]"
   ]
  },
  {
   "cell_type": "code",
   "execution_count": 17,
   "id": "b8af5a2e",
   "metadata": {},
   "outputs": [],
   "source": [
    "# This function takes four arguments: the dataframe, the type of metal, its raw feed, rougher concentrate, and final \n",
    "# concentrate. It then extracts a specific metal and takes its mean at a specificc stage of processing\n",
    "\n",
    "def various_stages(df, metal, raw, rougher, final):\n",
    "    \n",
    "    stages = metal_specific(train,metal)\n",
    "    stages = metal_specific(stages,raw)\n",
    "    stages = metal_specific(stages,rougher)\n",
    "    stages = metal_specific(stages,final)\n",
    "    mean = stages.mean()\n",
    "    return mean[0]"
   ]
  },
  {
   "cell_type": "code",
   "execution_count": 18,
   "id": "1cb070fe",
   "metadata": {},
   "outputs": [],
   "source": [
    "#vectors of elements\n",
    "au_rougher_feed_input = various_stages(full,'au','rougher','feed', 'input')\n",
    "ag_rougher_feed_input = various_stages(full,'ag','rougher','feed', 'input')\n",
    "pb_rougher_feed_input = various_stages(full,'pb','rougher','feed', 'input')\n",
    "au_final_output_tail = various_stages(full,'au','final','output', 'tail')\n",
    "ag_final_output_tail = various_stages(full,'ag','final','output', 'tail')\n",
    "pb_final_output_tail = various_stages(full,'pb','final','output', 'tail')\n",
    "au_rougher_output_tail = various_stages(full,'au','rougher','output', 'tail')\n",
    "ag_rougher_output_tail = various_stages(full,'ag','rougher','output', 'tail')\n",
    "pb_rougher_output_tail = various_stages(full,'pb','rougher','output', 'tail')\n",
    "au_primary_output_concentrate = various_stages(full,'au','primary','output','concentrate')\n",
    "ag_primary_output_concentrate = various_stages(full,'ag','primary','output','concentrate')\n",
    "pb_primary_output_concentrate = various_stages(full,'pb','final','output','concentrate')\n",
    "au_final_output_concentrate = various_stages(full,'au','final','output','concentrate')\n",
    "ag_final_output_concentrate = various_stages(full,'ag','final','output','concentrate')\n",
    "pb_final_output_concentrate = various_stages(full,'pb','final','output','concentrate')"
   ]
  },
  {
   "cell_type": "code",
   "execution_count": 19,
   "id": "e654df3b",
   "metadata": {},
   "outputs": [
    {
     "data": {
      "image/png": "[encoded data removed]",
      "text/plain": [
       "<Figure size 1300x500 with 1 Axes>"
      ]
     },
     "metadata": {},
     "output_type": "display_data"
    }
   ],
   "source": [
    "plt.figure(figsize = (13,5), dpi = 100, facecolor = 'w', edgecolor = 'k')\n",
    "\n",
    "labels = ['Au', 'Ag', 'Pb']\n",
    "\n",
    "bars1 = [au_rougher_feed_input, \n",
    "         au_final_output_tail,\n",
    "         au_rougher_output_tail, \n",
    "         au_primary_output_concentrate, \n",
    "         au_final_output_concentrate]\n",
    "\n",
    "bars2 = [ag_rougher_feed_input, \n",
    "         ag_final_output_tail,\n",
    "         ag_rougher_output_tail, \n",
    "         ag_primary_output_concentrate, \n",
    "         ag_final_output_concentrate]\n",
    "\n",
    "bars3 = [pb_rougher_feed_input, \n",
    "         pb_final_output_tail,\n",
    "         pb_rougher_output_tail, \n",
    "         pb_primary_output_concentrate, \n",
    "         pb_final_output_concentrate]\n",
    "\n",
    "barWidth = 0.25\n",
    "\n",
    "r1 = np.arange(len(bars1))\n",
    "r2 = [x + barWidth for x in r1]\n",
    "r3 = [x + barWidth for x in r2]\n",
    " \n",
    "# Make the plot\n",
    "plt.bar(r1, bars1, color='#FFD700', width=barWidth, edgecolor='white', label='Au')\n",
    "plt.bar(r2, bars2, color='#C0C0C0', width=barWidth, edgecolor='white', label='Ag')\n",
    "plt.bar(r3, bars3, color='#212121', width=barWidth, edgecolor='white', label='Pb')\n",
    " \n",
    "# Add xticks on the middle of the group bars\n",
    "plt.xlabel('Stage', fontweight='bold')\n",
    "plt.xticks([r + barWidth for r in range(len(bars1))], \n",
    "           ['Raw I feed (1)', \n",
    "            'Final O tail (4)', \n",
    "            'Rougher O tail (2)',\n",
    "            'Primary O Concentrate (3)', \n",
    "            'Final O Concentrate (5)'])\n",
    " \n",
    "# Create legend & Show graphic\n",
    "plt.legend()\n",
    "plt.show()"
   ]
  },
  {
   "cell_type": "markdown",
   "id": "749b56d2",
   "metadata": {},
   "source": [
    "### Conclusion:  \n",
    "The process seems efficient as it starts with little raw and looses just a little more in the process while the output concentrates are high, most specifically for gold."
   ]
  },
  {
   "cell_type": "markdown",
   "id": "735b2e9a",
   "metadata": {},
   "source": [
    "## Feed particle size distributions "
   ]
  },
  {
   "cell_type": "code",
   "execution_count": 20,
   "id": "149da256",
   "metadata": {
    "scrolled": false
   },
   "outputs": [
    {
     "data": {
      "image/png": "[encoded data removed]",
      "text/plain": [
       "<Figure size 432x288 with 1 Axes>"
      ]
     },
     "metadata": {
      "needs_background": "light"
     },
     "output_type": "display_data"
    },
    {
     "data": {
      "image/png": "[encoded data removed]",
      "text/plain": [
       "<Figure size 432x288 with 1 Axes>"
      ]
     },
     "metadata": {
      "needs_background": "light"
     },
     "output_type": "display_data"
    }
   ],
   "source": [
    "for i in ('rougher.input.feed_size', 'primary_cleaner.input.feed_size'):\n",
    "    for j, df in (('train', train), ('test', test)): \n",
    "        df[i].plot(\n",
    "                title = 'Compare train/test distributions of {}'.format(i),\n",
    "                kind='hist', \n",
    "                grid=True, \n",
    "                bins = 50,\n",
    "                density=True,\n",
    "                legend=True,\n",
    "                alpha=0.5,\n",
    "                label=j\n",
    "            ).set(xlabel='concentrate')\n",
    "    plt.show()"
   ]
  },
  {
   "cell_type": "markdown",
   "id": "9ce411c8",
   "metadata": {},
   "source": [
    "### Conclusion:\n",
    "These distributions for the training and testing sets are kind of similar.  We have few outliers."
   ]
  },
  {
   "cell_type": "markdown",
   "id": "9484f406",
   "metadata": {},
   "source": [
    "\n",
    "The symmetric mean absolute percentage error (sMAPE) is an accuracy measure based on percentage (or relative) errors. Relative error is the absolute error divided by the magnitude of the exact value. In contrast to the mean absolute percentage error, sMAPE has both a lower bound and an upper bound"
   ]
  },
  {
   "cell_type": "markdown",
   "id": "d8a01b34",
   "metadata": {},
   "source": [
    "## Total concentrations at different stages"
   ]
  },
  {
   "cell_type": "markdown",
   "id": "f5e4174e",
   "metadata": {},
   "source": [
    "Using the full dataset, we analyze total concentrations of metals at three different states.  For that, I create a new df called total"
   ]
  },
  {
   "cell_type": "code",
   "execution_count": 21,
   "id": "6740c30e",
   "metadata": {},
   "outputs": [],
   "source": [
    "def raw_feed(df):\n",
    "    return df[\"rougher.input.feed_au\"] + df[\"rougher.input.feed_ag\"] + df[\"rougher.input.feed_pb\"] + df[\"rougher.input.feed_sol\"]"
   ]
  },
  {
   "cell_type": "code",
   "execution_count": 22,
   "id": "18fc690d",
   "metadata": {},
   "outputs": [],
   "source": [
    "def rougher_concentrate(df):\n",
    "    return df[\"rougher.output.concentrate_au\"] + df[\"rougher.output.concentrate_ag\"] + df[\"rougher.output.concentrate_pb\"] + df[\"rougher.output.concentrate_sol\"]"
   ]
  },
  {
   "cell_type": "code",
   "execution_count": 23,
   "id": "70cb4434",
   "metadata": {},
   "outputs": [],
   "source": [
    "def final_concentrate(df):\n",
    "    return df[\"final.output.concentrate_au\"] + df[\"final.output.concentrate_ag\"] + df[\"final.output.concentrate_pb\"] + df[\"final.output.concentrate_sol\"]"
   ]
  },
  {
   "cell_type": "code",
   "execution_count": 24,
   "id": "7425f0a8",
   "metadata": {},
   "outputs": [],
   "source": [
    "full[\"raw.feed\"] = raw_feed(full)\n",
    "full[\"rougher.concentrate\"] = rougher_concentrate(full)\n",
    "full[\"final.concentrate\"] = final_concentrate(full)\n",
    "total = full[[\"raw.feed\", \"rougher.concentrate\", \"final.concentrate\"]]"
   ]
  },
  {
   "cell_type": "code",
   "execution_count": 25,
   "id": "8418dc2e",
   "metadata": {},
   "outputs": [
    {
     "data": {
      "text/html": [
       "<div>\n",
       "<style scoped>\n",
       "    .dataframe tbody tr th:only-of-type {\n",
       "        vertical-align: middle;\n",
       "    }\n",
       "\n",
       "    .dataframe tbody tr th {\n",
       "        vertical-align: top;\n",
       "    }\n",
       "\n",
       "    .dataframe thead th {\n",
       "        text-align: right;\n",
       "    }\n",
       "</style>\n",
       "<table border=\"1\" class=\"dataframe\">\n",
       "  <thead>\n",
       "    <tr style=\"text-align: right;\">\n",
       "      <th></th>\n",
       "      <th>raw.feed</th>\n",
       "      <th>rougher.concentrate</th>\n",
       "      <th>final.concentrate</th>\n",
       "    </tr>\n",
       "    <tr>\n",
       "      <th>date</th>\n",
       "      <th></th>\n",
       "      <th></th>\n",
       "      <th></th>\n",
       "    </tr>\n",
       "  </thead>\n",
       "  <tbody>\n",
       "    <tr>\n",
       "      <th>2016-01-15 00:00:00</th>\n",
       "      <td>51.680034</td>\n",
       "      <td>66.424950</td>\n",
       "      <td>63.644396</td>\n",
       "    </tr>\n",
       "    <tr>\n",
       "      <th>2016-01-15 01:00:00</th>\n",
       "      <td>50.659114</td>\n",
       "      <td>67.012710</td>\n",
       "      <td>63.957723</td>\n",
       "    </tr>\n",
       "    <tr>\n",
       "      <th>2016-01-15 02:00:00</th>\n",
       "      <td>50.609929</td>\n",
       "      <td>66.103793</td>\n",
       "      <td>64.311180</td>\n",
       "    </tr>\n",
       "    <tr>\n",
       "      <th>2016-01-15 03:00:00</th>\n",
       "      <td>51.061546</td>\n",
       "      <td>65.752751</td>\n",
       "      <td>63.573449</td>\n",
       "    </tr>\n",
       "    <tr>\n",
       "      <th>2016-01-15 04:00:00</th>\n",
       "      <td>47.859163</td>\n",
       "      <td>65.908382</td>\n",
       "      <td>64.004667</td>\n",
       "    </tr>\n",
       "  </tbody>\n",
       "</table>\n",
       "</div>"
      ],
      "text/plain": [
       "                      raw.feed  rougher.concentrate  final.concentrate\n",
       "date                                                                  \n",
       "2016-01-15 00:00:00  51.680034            66.424950          63.644396\n",
       "2016-01-15 01:00:00  50.659114            67.012710          63.957723\n",
       "2016-01-15 02:00:00  50.609929            66.103793          64.311180\n",
       "2016-01-15 03:00:00  51.061546            65.752751          63.573449\n",
       "2016-01-15 04:00:00  47.859163            65.908382          64.004667"
      ]
     },
     "execution_count": 25,
     "metadata": {},
     "output_type": "execute_result"
    }
   ],
   "source": [
    "total.head()"
   ]
  },
  {
   "cell_type": "markdown",
   "id": "d8186523",
   "metadata": {},
   "source": [
    "### Visualize"
   ]
  },
  {
   "cell_type": "code",
   "execution_count": 26,
   "id": "311929b7",
   "metadata": {
    "scrolled": true
   },
   "outputs": [
    {
     "name": "stderr",
     "output_type": "stream",
     "text": [
      "/Users/Rhea/opt/anaconda3/lib/python3.9/site-packages/seaborn/distributions.py:2619: FutureWarning: `distplot` is a deprecated function and will be removed in a future version. Please adapt your code to use either `displot` (a figure-level function with similar flexibility) or `histplot` (an axes-level function for histograms).\n",
      "  warnings.warn(msg, FutureWarning)\n",
      "/Users/Rhea/opt/anaconda3/lib/python3.9/site-packages/seaborn/distributions.py:2619: FutureWarning: `distplot` is a deprecated function and will be removed in a future version. Please adapt your code to use either `displot` (a figure-level function with similar flexibility) or `histplot` (an axes-level function for histograms).\n",
      "  warnings.warn(msg, FutureWarning)\n",
      "/Users/Rhea/opt/anaconda3/lib/python3.9/site-packages/seaborn/distributions.py:2619: FutureWarning: `distplot` is a deprecated function and will be removed in a future version. Please adapt your code to use either `displot` (a figure-level function with similar flexibility) or `histplot` (an axes-level function for histograms).\n",
      "  warnings.warn(msg, FutureWarning)\n",
      "/var/folders/gk/hvqbhchj1fqfp9s9tq_k1rfr0000gp/T/ipykernel_10708/615166935.py:8: UserWarning: Matplotlib is currently using module://matplotlib_inline.backend_inline, which is a non-GUI backend, so cannot show the figure.\n",
      "  fig.show();\n"
     ]
    },
    {
     "data": {
      "image/png": "[encoded data removed]",
      "text/plain": [
       "<Figure size 936x360 with 1 Axes>"
      ]
     },
     "metadata": {
      "needs_background": "light"
     },
     "output_type": "display_data"
    }
   ],
   "source": [
    "fig = plt.figure(figsize=(13, 5))\n",
    "for column in list(total):\n",
    "    sns.distplot(total[column])\n",
    "plt.legend(list(total))\n",
    "plt.title(\"Total Concentration at Stages\")\n",
    "plt.xlabel(\"Concentration %\")\n",
    "plt.ylabel(\"Amount\")\n",
    "fig.show();"
   ]
  },
  {
   "cell_type": "markdown",
   "id": "33bd3407",
   "metadata": {},
   "source": [
    "Lets have a closer look at these outliers"
   ]
  },
  {
   "cell_type": "code",
   "execution_count": 27,
   "id": "42fba044",
   "metadata": {},
   "outputs": [
    {
     "data": {
      "image/png": "[encoded data removed]",
      "text/plain": [
       "<Figure size 936x432 with 3 Axes>"
      ]
     },
     "metadata": {
      "needs_background": "light"
     },
     "output_type": "display_data"
    }
   ],
   "source": [
    "columns = [\"raw.feed\", \"rougher.concentrate\", \"final.concentrate\"]\n",
    "\n",
    "_, axs = plt.subplots(1,3, figsize=(13, 6))\n",
    "\n",
    "\n",
    "for column, ax in zip(columns, axs):\n",
    "    sns.boxplot(x = column, data = total, ax = ax)"
   ]
  },
  {
   "cell_type": "markdown",
   "id": "71cc39a2",
   "metadata": {},
   "source": [
    "### Conclusion: \n",
    "These concentrations have outliers."
   ]
  },
  {
   "cell_type": "markdown",
   "id": "b6930416",
   "metadata": {},
   "source": [
    "### Missing values"
   ]
  },
  {
   "cell_type": "markdown",
   "id": "1aa47099",
   "metadata": {},
   "source": [
    "#### Removing outliers from the train df"
   ]
  },
  {
   "cell_type": "code",
   "execution_count": 28,
   "id": "437cd94a",
   "metadata": {},
   "outputs": [],
   "source": [
    "train[\"raw.feed\"] = raw_feed(train)\n",
    "train[\"rougher.concentrate\"] = rougher_concentrate(train)\n",
    "train[\"final.concentrate\"] = final_concentrate(train)"
   ]
  },
  {
   "cell_type": "code",
   "execution_count": 29,
   "id": "72c3121c",
   "metadata": {},
   "outputs": [],
   "source": [
    "Q1 = train[columns].quantile(0.25)\n",
    "Q3 = train[columns].quantile(0.75)\n",
    "IQR = Q3 - Q1\n",
    "\n",
    "train_final = train[~((train[columns] < (Q1 - 1.5 * IQR)) |(train[columns] > (Q3 + 1.5 * IQR))).any(axis=1)]"
   ]
  },
  {
   "cell_type": "code",
   "execution_count": 30,
   "id": "13737762",
   "metadata": {},
   "outputs": [
    {
     "data": {
      "image/png": "[encoded data removed]",
      "text/plain": [
       "<Figure size 936x432 with 3 Axes>"
      ]
     },
     "metadata": {
      "needs_background": "light"
     },
     "output_type": "display_data"
    }
   ],
   "source": [
    "_, axs = plt.subplots(1,3, figsize=(13, 6))\n",
    "\n",
    "\n",
    "for column, ax in zip(columns, axs):\n",
    "    sns.boxplot(x = column, data = train_final, ax = ax)"
   ]
  },
  {
   "cell_type": "markdown",
   "id": "786f3105",
   "metadata": {},
   "source": [
    "## Target data"
   ]
  },
  {
   "cell_type": "markdown",
   "id": "c913825f",
   "metadata": {},
   "source": [
    "### In Training"
   ]
  },
  {
   "cell_type": "code",
   "execution_count": 31,
   "id": "c0d44206",
   "metadata": {
    "scrolled": true
   },
   "outputs": [
    {
     "name": "stdout",
     "output_type": "stream",
     "text": [
      "Number of columns: 90\n",
      "Number of rows: 13598\n",
      "secondary_cleaner.output.tail_sol           12.19\n",
      "rougher.output.recovery                      4.21\n",
      "rougher.output.tail_ag                       4.06\n",
      "rougher.output.tail_au                       4.05\n",
      "rougher.output.tail_sol                      4.05\n",
      "rougher.output.recovery.calculated           4.05\n",
      "rougher.input.floatbank11_xanthate           3.10\n",
      "rougher.state.floatbank10_e_air              2.90\n",
      "primary_cleaner.output.concentrate_sol       2.27\n",
      "final.concentrate                            2.22\n",
      "final.output.concentrate_sol                 2.21\n",
      "raw.feed                                     1.92\n",
      "secondary_cleaner.state.floatbank2_a_air     1.88\n",
      "rougher.input.feed_pb                        1.40\n",
      "rougher.input.feed_size                      1.35\n",
      "dtype: float64\n"
     ]
    },
    {
     "data": {
      "text/html": [
       "<div>\n",
       "<style scoped>\n",
       "    .dataframe tbody tr th:only-of-type {\n",
       "        vertical-align: middle;\n",
       "    }\n",
       "\n",
       "    .dataframe tbody tr th {\n",
       "        vertical-align: top;\n",
       "    }\n",
       "\n",
       "    .dataframe thead th {\n",
       "        text-align: right;\n",
       "    }\n",
       "</style>\n",
       "<table border=\"1\" class=\"dataframe\">\n",
       "  <thead>\n",
       "    <tr style=\"text-align: right;\">\n",
       "      <th></th>\n",
       "      <th>final.output.concentrate_ag</th>\n",
       "      <th>final.output.concentrate_pb</th>\n",
       "      <th>final.output.concentrate_sol</th>\n",
       "      <th>final.output.concentrate_au</th>\n",
       "      <th>final.output.recovery</th>\n",
       "      <th>final.output.tail_ag</th>\n",
       "      <th>final.output.tail_pb</th>\n",
       "      <th>final.output.tail_sol</th>\n",
       "      <th>final.output.tail_au</th>\n",
       "      <th>primary_cleaner.input.sulfate</th>\n",
       "      <th>...</th>\n",
       "      <th>secondary_cleaner.state.floatbank5_a_air</th>\n",
       "      <th>secondary_cleaner.state.floatbank5_a_level</th>\n",
       "      <th>secondary_cleaner.state.floatbank5_b_air</th>\n",
       "      <th>secondary_cleaner.state.floatbank5_b_level</th>\n",
       "      <th>secondary_cleaner.state.floatbank6_a_air</th>\n",
       "      <th>secondary_cleaner.state.floatbank6_a_level</th>\n",
       "      <th>rougher.output.recovery.calculated</th>\n",
       "      <th>raw.feed</th>\n",
       "      <th>rougher.concentrate</th>\n",
       "      <th>final.concentrate</th>\n",
       "    </tr>\n",
       "    <tr>\n",
       "      <th>date</th>\n",
       "      <th></th>\n",
       "      <th></th>\n",
       "      <th></th>\n",
       "      <th></th>\n",
       "      <th></th>\n",
       "      <th></th>\n",
       "      <th></th>\n",
       "      <th></th>\n",
       "      <th></th>\n",
       "      <th></th>\n",
       "      <th></th>\n",
       "      <th></th>\n",
       "      <th></th>\n",
       "      <th></th>\n",
       "      <th></th>\n",
       "      <th></th>\n",
       "      <th></th>\n",
       "      <th></th>\n",
       "      <th></th>\n",
       "      <th></th>\n",
       "      <th></th>\n",
       "    </tr>\n",
       "  </thead>\n",
       "  <tbody>\n",
       "    <tr>\n",
       "      <th>2016-01-15 00:00:00</th>\n",
       "      <td>6.055403</td>\n",
       "      <td>9.889648</td>\n",
       "      <td>5.507324</td>\n",
       "      <td>42.19202</td>\n",
       "      <td>70.541216</td>\n",
       "      <td>10.411962</td>\n",
       "      <td>0.895447</td>\n",
       "      <td>16.904297</td>\n",
       "      <td>2.143149</td>\n",
       "      <td>127.092003</td>\n",
       "      <td>...</td>\n",
       "      <td>9.925633</td>\n",
       "      <td>-498.310211</td>\n",
       "      <td>8.079666</td>\n",
       "      <td>-500.470978</td>\n",
       "      <td>14.151341</td>\n",
       "      <td>-605.84198</td>\n",
       "      <td>87.107763</td>\n",
       "      <td>51.680034</td>\n",
       "      <td>66.42495</td>\n",
       "      <td>63.644396</td>\n",
       "    </tr>\n",
       "  </tbody>\n",
       "</table>\n",
       "<p>1 rows × 90 columns</p>\n",
       "</div>"
      ],
      "text/plain": [
       "                     final.output.concentrate_ag  final.output.concentrate_pb  \\\n",
       "date                                                                            \n",
       "2016-01-15 00:00:00                     6.055403                     9.889648   \n",
       "\n",
       "                     final.output.concentrate_sol  \\\n",
       "date                                                \n",
       "2016-01-15 00:00:00                      5.507324   \n",
       "\n",
       "                     final.output.concentrate_au  final.output.recovery  \\\n",
       "date                                                                      \n",
       "2016-01-15 00:00:00                     42.19202              70.541216   \n",
       "\n",
       "                     final.output.tail_ag  final.output.tail_pb  \\\n",
       "date                                                              \n",
       "2016-01-15 00:00:00             10.411962              0.895447   \n",
       "\n",
       "                     final.output.tail_sol  final.output.tail_au  \\\n",
       "date                                                               \n",
       "2016-01-15 00:00:00              16.904297              2.143149   \n",
       "\n",
       "                     primary_cleaner.input.sulfate  ...  \\\n",
       "date                                                ...   \n",
       "2016-01-15 00:00:00                     127.092003  ...   \n",
       "\n",
       "                     secondary_cleaner.state.floatbank5_a_air  \\\n",
       "date                                                            \n",
       "2016-01-15 00:00:00                                  9.925633   \n",
       "\n",
       "                     secondary_cleaner.state.floatbank5_a_level  \\\n",
       "date                                                              \n",
       "2016-01-15 00:00:00                                 -498.310211   \n",
       "\n",
       "                     secondary_cleaner.state.floatbank5_b_air  \\\n",
       "date                                                            \n",
       "2016-01-15 00:00:00                                  8.079666   \n",
       "\n",
       "                     secondary_cleaner.state.floatbank5_b_level  \\\n",
       "date                                                              \n",
       "2016-01-15 00:00:00                                 -500.470978   \n",
       "\n",
       "                     secondary_cleaner.state.floatbank6_a_air  \\\n",
       "date                                                            \n",
       "2016-01-15 00:00:00                                 14.151341   \n",
       "\n",
       "                     secondary_cleaner.state.floatbank6_a_level  \\\n",
       "date                                                              \n",
       "2016-01-15 00:00:00                                  -605.84198   \n",
       "\n",
       "                     rougher.output.recovery.calculated   raw.feed  \\\n",
       "date                                                                 \n",
       "2016-01-15 00:00:00                           87.107763  51.680034   \n",
       "\n",
       "                     rougher.concentrate  final.concentrate  \n",
       "date                                                         \n",
       "2016-01-15 00:00:00             66.42495          63.644396  \n",
       "\n",
       "[1 rows x 90 columns]"
      ]
     },
     "metadata": {},
     "output_type": "display_data"
    },
    {
     "name": "stdout",
     "output_type": "stream",
     "text": [
      "float64    90\n",
      "dtype: int64\n"
     ]
    }
   ],
   "source": [
    "understand_df(train_final)"
   ]
  },
  {
   "cell_type": "markdown",
   "id": "68c4626b",
   "metadata": {},
   "source": [
    "#### Conclusion: \n",
    "The rougher.output.recovery has 4.21\\% missing values and the final.output.recovery  0.79\\%"
   ]
  },
  {
   "cell_type": "markdown",
   "id": "ab3345c3",
   "metadata": {},
   "source": [
    "### In Testing"
   ]
  },
  {
   "cell_type": "code",
   "execution_count": 32,
   "id": "07f36353",
   "metadata": {
    "scrolled": true
   },
   "outputs": [
    {
     "name": "stdout",
     "output_type": "stream",
     "text": [
      "Number of columns: 54\n",
      "Number of rows: 5850\n",
      "rougher.output.recovery                     9.23\n",
      "final.output.recovery                       7.45\n",
      "rougher.input.floatbank11_xanthate          5.93\n",
      "primary_cleaner.input.sulfate               5.06\n",
      "primary_cleaner.input.depressant            4.75\n",
      "rougher.input.floatbank10_sulfate           4.29\n",
      "primary_cleaner.input.xanthate              2.74\n",
      "rougher.input.floatbank10_xanthate          2.00\n",
      "rougher.input.feed_sol                      1.04\n",
      "rougher.input.floatbank11_sulfate           0.84\n",
      "rougher.input.feed_rate                     0.58\n",
      "secondary_cleaner.state.floatbank3_a_air    0.48\n",
      "secondary_cleaner.state.floatbank2_b_air    0.29\n",
      "rougher.input.feed_size                     0.27\n",
      "secondary_cleaner.state.floatbank2_a_air    0.24\n",
      "dtype: float64\n"
     ]
    },
    {
     "data": {
      "text/html": [
       "<div>\n",
       "<style scoped>\n",
       "    .dataframe tbody tr th:only-of-type {\n",
       "        vertical-align: middle;\n",
       "    }\n",
       "\n",
       "    .dataframe tbody tr th {\n",
       "        vertical-align: top;\n",
       "    }\n",
       "\n",
       "    .dataframe thead th {\n",
       "        text-align: right;\n",
       "    }\n",
       "</style>\n",
       "<table border=\"1\" class=\"dataframe\">\n",
       "  <thead>\n",
       "    <tr style=\"text-align: right;\">\n",
       "      <th></th>\n",
       "      <th>primary_cleaner.input.sulfate</th>\n",
       "      <th>primary_cleaner.input.depressant</th>\n",
       "      <th>primary_cleaner.input.feed_size</th>\n",
       "      <th>primary_cleaner.input.xanthate</th>\n",
       "      <th>primary_cleaner.state.floatbank8_a_air</th>\n",
       "      <th>primary_cleaner.state.floatbank8_a_level</th>\n",
       "      <th>primary_cleaner.state.floatbank8_b_air</th>\n",
       "      <th>primary_cleaner.state.floatbank8_b_level</th>\n",
       "      <th>primary_cleaner.state.floatbank8_c_air</th>\n",
       "      <th>primary_cleaner.state.floatbank8_c_level</th>\n",
       "      <th>...</th>\n",
       "      <th>secondary_cleaner.state.floatbank4_b_air</th>\n",
       "      <th>secondary_cleaner.state.floatbank4_b_level</th>\n",
       "      <th>secondary_cleaner.state.floatbank5_a_air</th>\n",
       "      <th>secondary_cleaner.state.floatbank5_a_level</th>\n",
       "      <th>secondary_cleaner.state.floatbank5_b_air</th>\n",
       "      <th>secondary_cleaner.state.floatbank5_b_level</th>\n",
       "      <th>secondary_cleaner.state.floatbank6_a_air</th>\n",
       "      <th>secondary_cleaner.state.floatbank6_a_level</th>\n",
       "      <th>final.output.recovery</th>\n",
       "      <th>rougher.output.recovery</th>\n",
       "    </tr>\n",
       "    <tr>\n",
       "      <th>date</th>\n",
       "      <th></th>\n",
       "      <th></th>\n",
       "      <th></th>\n",
       "      <th></th>\n",
       "      <th></th>\n",
       "      <th></th>\n",
       "      <th></th>\n",
       "      <th></th>\n",
       "      <th></th>\n",
       "      <th></th>\n",
       "      <th></th>\n",
       "      <th></th>\n",
       "      <th></th>\n",
       "      <th></th>\n",
       "      <th></th>\n",
       "      <th></th>\n",
       "      <th></th>\n",
       "      <th></th>\n",
       "      <th></th>\n",
       "      <th></th>\n",
       "      <th></th>\n",
       "    </tr>\n",
       "  </thead>\n",
       "  <tbody>\n",
       "    <tr>\n",
       "      <th>2016-09-01 00:59:59</th>\n",
       "      <td>210.800909</td>\n",
       "      <td>14.993118</td>\n",
       "      <td>8.08</td>\n",
       "      <td>1.005021</td>\n",
       "      <td>1398.981301</td>\n",
       "      <td>-500.225577</td>\n",
       "      <td>1399.144926</td>\n",
       "      <td>-499.919735</td>\n",
       "      <td>1400.102998</td>\n",
       "      <td>-500.704369</td>\n",
       "      <td>...</td>\n",
       "      <td>8.016656</td>\n",
       "      <td>-501.289139</td>\n",
       "      <td>7.946562</td>\n",
       "      <td>-432.31785</td>\n",
       "      <td>4.872511</td>\n",
       "      <td>-500.037437</td>\n",
       "      <td>26.705889</td>\n",
       "      <td>-499.709414</td>\n",
       "      <td>70.273583</td>\n",
       "      <td>89.993421</td>\n",
       "    </tr>\n",
       "  </tbody>\n",
       "</table>\n",
       "<p>1 rows × 54 columns</p>\n",
       "</div>"
      ],
      "text/plain": [
       "                     primary_cleaner.input.sulfate  \\\n",
       "date                                                 \n",
       "2016-09-01 00:59:59                     210.800909   \n",
       "\n",
       "                     primary_cleaner.input.depressant  \\\n",
       "date                                                    \n",
       "2016-09-01 00:59:59                         14.993118   \n",
       "\n",
       "                     primary_cleaner.input.feed_size  \\\n",
       "date                                                   \n",
       "2016-09-01 00:59:59                             8.08   \n",
       "\n",
       "                     primary_cleaner.input.xanthate  \\\n",
       "date                                                  \n",
       "2016-09-01 00:59:59                        1.005021   \n",
       "\n",
       "                     primary_cleaner.state.floatbank8_a_air  \\\n",
       "date                                                          \n",
       "2016-09-01 00:59:59                             1398.981301   \n",
       "\n",
       "                     primary_cleaner.state.floatbank8_a_level  \\\n",
       "date                                                            \n",
       "2016-09-01 00:59:59                               -500.225577   \n",
       "\n",
       "                     primary_cleaner.state.floatbank8_b_air  \\\n",
       "date                                                          \n",
       "2016-09-01 00:59:59                             1399.144926   \n",
       "\n",
       "                     primary_cleaner.state.floatbank8_b_level  \\\n",
       "date                                                            \n",
       "2016-09-01 00:59:59                               -499.919735   \n",
       "\n",
       "                     primary_cleaner.state.floatbank8_c_air  \\\n",
       "date                                                          \n",
       "2016-09-01 00:59:59                             1400.102998   \n",
       "\n",
       "                     primary_cleaner.state.floatbank8_c_level  ...  \\\n",
       "date                                                           ...   \n",
       "2016-09-01 00:59:59                               -500.704369  ...   \n",
       "\n",
       "                     secondary_cleaner.state.floatbank4_b_air  \\\n",
       "date                                                            \n",
       "2016-09-01 00:59:59                                  8.016656   \n",
       "\n",
       "                     secondary_cleaner.state.floatbank4_b_level  \\\n",
       "date                                                              \n",
       "2016-09-01 00:59:59                                 -501.289139   \n",
       "\n",
       "                     secondary_cleaner.state.floatbank5_a_air  \\\n",
       "date                                                            \n",
       "2016-09-01 00:59:59                                  7.946562   \n",
       "\n",
       "                     secondary_cleaner.state.floatbank5_a_level  \\\n",
       "date                                                              \n",
       "2016-09-01 00:59:59                                  -432.31785   \n",
       "\n",
       "                     secondary_cleaner.state.floatbank5_b_air  \\\n",
       "date                                                            \n",
       "2016-09-01 00:59:59                                  4.872511   \n",
       "\n",
       "                     secondary_cleaner.state.floatbank5_b_level  \\\n",
       "date                                                              \n",
       "2016-09-01 00:59:59                                 -500.037437   \n",
       "\n",
       "                     secondary_cleaner.state.floatbank6_a_air  \\\n",
       "date                                                            \n",
       "2016-09-01 00:59:59                                 26.705889   \n",
       "\n",
       "                     secondary_cleaner.state.floatbank6_a_level  \\\n",
       "date                                                              \n",
       "2016-09-01 00:59:59                                 -499.709414   \n",
       "\n",
       "                     final.output.recovery  rougher.output.recovery  \n",
       "date                                                                 \n",
       "2016-09-01 00:59:59              70.273583                89.993421  \n",
       "\n",
       "[1 rows x 54 columns]"
      ]
     },
     "metadata": {},
     "output_type": "display_data"
    },
    {
     "name": "stdout",
     "output_type": "stream",
     "text": [
      "float64    54\n",
      "dtype: int64\n"
     ]
    }
   ],
   "source": [
    "understand_df(test_merged)"
   ]
  },
  {
   "cell_type": "markdown",
   "id": "3fc38203",
   "metadata": {},
   "source": [
    "#### Conclusion: \n",
    "The rougher.output.recovery 9.23\\% while the final.output.recovery 7.45\\%"
   ]
  },
  {
   "cell_type": "markdown",
   "id": "c80ebca2",
   "metadata": {},
   "source": [
    "### Fill missing value"
   ]
  },
  {
   "cell_type": "markdown",
   "id": "82107a58",
   "metadata": {},
   "source": [
    "Let's fill missing data using nearest values strategy - ffill, because our gathering of our data relates to datetime "
   ]
  },
  {
   "cell_type": "code",
   "execution_count": 33,
   "id": "a7c43006",
   "metadata": {},
   "outputs": [],
   "source": [
    "train_final = train_final[~train_final['final.output.recovery'].isna()]\n",
    "train_final = train_final[~train_final['rougher.output.recovery'].isna()]\n",
    "train_final = train_final.fillna(method='ffill')"
   ]
  },
  {
   "cell_type": "code",
   "execution_count": 34,
   "id": "8fc5a358",
   "metadata": {},
   "outputs": [],
   "source": [
    "test_merged = test_merged[~test_merged['final.output.recovery'].isna()]\n",
    "test_merged = test_merged[~test_merged['rougher.output.recovery'].isna()]\n",
    "test_merged = test_merged.fillna(method='ffill')"
   ]
  },
  {
   "cell_type": "markdown",
   "id": "58089af7",
   "metadata": {},
   "source": [
    "#### Conclusion: \n",
    "The number of features is different."
   ]
  },
  {
   "cell_type": "markdown",
   "id": "dfa286f7",
   "metadata": {},
   "source": [
    "### Visualize"
   ]
  },
  {
   "cell_type": "code",
   "execution_count": 35,
   "id": "19f24bcd",
   "metadata": {},
   "outputs": [
    {
     "data": {
      "image/png": "[encoded data removed]",
      "text/plain": [
       "<Figure size 1152x864 with 4 Axes>"
      ]
     },
     "metadata": {
      "needs_background": "light"
     },
     "output_type": "display_data"
    }
   ],
   "source": [
    "targets = ['rougher.output.recovery', 'final.output.recovery']\n",
    "dfs = [train_final, test_merged]\n",
    "train_final.name = 'train_final'\n",
    "test_merged.name = 'test_merged'\n",
    "\n",
    "plt.figure(figsize=(16,12))\n",
    "c=1\n",
    "for i, df in enumerate(dfs):\n",
    "    for target in targets:\n",
    "        plt.subplot(4,2,c)\n",
    "        plt.hist(df[target], alpha=.5)\n",
    "        plt.title(df.name)\n",
    "        plt.xlabel(target)\n",
    "        c = c + 1\n",
    "plt.tight_layout()"
   ]
  },
  {
   "cell_type": "code",
   "execution_count": 36,
   "id": "3ba1e9be",
   "metadata": {},
   "outputs": [
    {
     "data": {
      "image/png": "[encoded data removed]",
      "text/plain": [
       "<Figure size 936x432 with 2 Axes>"
      ]
     },
     "metadata": {
      "needs_background": "light"
     },
     "output_type": "display_data"
    }
   ],
   "source": [
    "_, axs = plt.subplots(1,2, figsize=(13, 6))\n",
    "\n",
    "\n",
    "for column, ax in zip(targets, axs):\n",
    "    sns.boxplot(x = column, data = test_merged, ax = ax)"
   ]
  },
  {
   "cell_type": "markdown",
   "id": "dae73218",
   "metadata": {},
   "source": [
    "#### Remove outliers"
   ]
  },
  {
   "cell_type": "markdown",
   "id": "9032e5ff",
   "metadata": {},
   "source": [
    "##### from testing data"
   ]
  },
  {
   "cell_type": "code",
   "execution_count": 37,
   "id": "58cf3fe8",
   "metadata": {},
   "outputs": [],
   "source": [
    "Q1 = test_merged[targets].quantile(0.25)\n",
    "Q3 = test_merged[targets].quantile(0.75)\n",
    "IQR = Q3 - Q1\n",
    "\n",
    "test_merged = test_merged[~((test_merged[targets] < (Q1 - 1.5 * IQR)) |(test_merged[targets] > (Q3 + 1.5 * IQR))).any(axis=1)]"
   ]
  },
  {
   "cell_type": "code",
   "execution_count": 38,
   "id": "135ba817",
   "metadata": {},
   "outputs": [
    {
     "data": {
      "image/png": "[encoded data removed]",
      "text/plain": [
       "<Figure size 936x432 with 2 Axes>"
      ]
     },
     "metadata": {
      "needs_background": "light"
     },
     "output_type": "display_data"
    }
   ],
   "source": [
    "_, axs = plt.subplots(1,2, figsize=(13, 6))\n",
    "\n",
    "\n",
    "for column, ax in zip(targets, axs):\n",
    "    sns.boxplot(x = column, data = test_merged, ax = ax)"
   ]
  },
  {
   "cell_type": "code",
   "execution_count": 39,
   "id": "fed026ad",
   "metadata": {},
   "outputs": [
    {
     "data": {
      "image/png": "[encoded data removed]",
      "text/plain": [
       "<Figure size 936x432 with 2 Axes>"
      ]
     },
     "metadata": {
      "needs_background": "light"
     },
     "output_type": "display_data"
    }
   ],
   "source": [
    "_, axs = plt.subplots(1,2, figsize=(13, 6))\n",
    "\n",
    "\n",
    "for column, ax in zip(targets, axs):\n",
    "    sns.boxplot(x = column, data = train_final, ax = ax)"
   ]
  },
  {
   "cell_type": "markdown",
   "id": "55c1f2e4",
   "metadata": {},
   "source": [
    "##### from Training data"
   ]
  },
  {
   "cell_type": "code",
   "execution_count": 40,
   "id": "2e6ddf3d",
   "metadata": {},
   "outputs": [],
   "source": [
    "Q1 = train_final[targets].quantile(0.25)\n",
    "Q3 = train_final[targets].quantile(0.75)\n",
    "IQR = Q3 - Q1\n",
    "\n",
    "train_final = train_final[~((train_final[targets] < (Q1 - 1.5 * IQR)) |(train_final[targets] > (Q3 + 1.5 * IQR))).any(axis=1)]"
   ]
  },
  {
   "cell_type": "code",
   "execution_count": 41,
   "id": "0adb4c3b",
   "metadata": {},
   "outputs": [
    {
     "data": {
      "image/png": "[encoded data removed]",
      "text/plain": [
       "<Figure size 936x432 with 2 Axes>"
      ]
     },
     "metadata": {
      "needs_background": "light"
     },
     "output_type": "display_data"
    }
   ],
   "source": [
    "_, axs = plt.subplots(1,2, figsize=(13, 6))\n",
    "\n",
    "\n",
    "for column, ax in zip(targets, axs):\n",
    "    sns.boxplot(x = column, data = train_final, ax = ax)"
   ]
  },
  {
   "cell_type": "markdown",
   "id": "5bfec594",
   "metadata": {},
   "source": [
    "Our final sets are train_final and test_merged"
   ]
  },
  {
   "cell_type": "markdown",
   "id": "1a3ce36f",
   "metadata": {},
   "source": [
    "# Scorers: sMAPE and Final sMAPE"
   ]
  },
  {
   "cell_type": "code",
   "execution_count": 42,
   "id": "d6b16ba6",
   "metadata": {},
   "outputs": [],
   "source": [
    "def smape(y_test, y_pred):\n",
    "     return (np.abs(y_test-y_pred)/((np.abs(y_test) + np.abs(y_pred))/2)).mean()"
   ]
  },
  {
   "cell_type": "code",
   "execution_count": 43,
   "id": "95f867d8",
   "metadata": {
    "scrolled": true
   },
   "outputs": [],
   "source": [
    "def smape_final(y_test,y_pred):\n",
    "    smape_rougher = smape(y_test[:,0], y_pred[:,0])\n",
    "    smape_final = smape(y_test[:,1], y_pred[:,1])\n",
    "    return 0.25*smape_rougher + 0.75*smape_final"
   ]
  },
  {
   "cell_type": "markdown",
   "id": "72a12c94",
   "metadata": {},
   "source": [
    "# Prepare the data"
   ]
  },
  {
   "cell_type": "markdown",
   "id": "106ef055",
   "metadata": {},
   "source": [
    "## Features and target"
   ]
  },
  {
   "cell_type": "code",
   "execution_count": 44,
   "id": "a90c080e",
   "metadata": {},
   "outputs": [],
   "source": [
    "target = ['rougher.output.recovery', 'final.output.recovery']\n",
    "features = list(set(train_final.columns).intersection(set(test_merged.columns)).difference(set(target)))"
   ]
  },
  {
   "cell_type": "markdown",
   "id": "b4259d53",
   "metadata": {},
   "source": [
    "## Split the data"
   ]
  },
  {
   "cell_type": "code",
   "execution_count": 45,
   "id": "9c863454",
   "metadata": {},
   "outputs": [],
   "source": [
    "X_train, X_test = train_final[features].values, test_merged[features].values\n",
    "y_train, y_test = train_final[target].values, test_merged[target].values"
   ]
  },
  {
   "cell_type": "markdown",
   "id": "d5da68e1",
   "metadata": {},
   "source": [
    "## Scorer"
   ]
  },
  {
   "cell_type": "code",
   "execution_count": 46,
   "id": "f7b325b8",
   "metadata": {},
   "outputs": [],
   "source": [
    "smape_scorer = make_scorer(smape_final, greater_is_better=False)"
   ]
  },
  {
   "cell_type": "markdown",
   "id": "6894915a",
   "metadata": {},
   "source": [
    "# Models"
   ]
  },
  {
   "cell_type": "markdown",
   "id": "dbcb4bc8",
   "metadata": {},
   "source": [
    "## Dummy"
   ]
  },
  {
   "cell_type": "code",
   "execution_count": 47,
   "id": "f0655633",
   "metadata": {},
   "outputs": [
    {
     "name": "stdout",
     "output_type": "stream",
     "text": [
      "smape: 0.05941562183025197\n"
     ]
    }
   ],
   "source": [
    "dm_mean = DummyRegressor(strategy='mean').fit(X_train, y_train)\n",
    "y_pred_mean = dm_mean.predict(X_test)\n",
    "print('smape:', smape_final(y_test, y_pred_mean))"
   ]
  },
  {
   "cell_type": "code",
   "execution_count": 48,
   "id": "171406bd",
   "metadata": {},
   "outputs": [
    {
     "name": "stdout",
     "output_type": "stream",
     "text": [
      "smape: 0.05855362372942582\n"
     ]
    }
   ],
   "source": [
    "dm_median = DummyRegressor(strategy='median').fit(X_train, y_train)\n",
    "y_pred_median = dm_median.predict(X_test)\n",
    "print('smape:', smape_final(y_test, y_pred_median))"
   ]
  },
  {
   "cell_type": "markdown",
   "id": "1521577b",
   "metadata": {},
   "source": [
    "## Linear Regression"
   ]
  },
  {
   "cell_type": "code",
   "execution_count": 49,
   "id": "454c86ff",
   "metadata": {},
   "outputs": [
    {
     "name": "stdout",
     "output_type": "stream",
     "text": [
      "mean smape: 0.0743916340137412\n"
     ]
    }
   ],
   "source": [
    "lr = LinearRegression().fit(X_train, y_train)\n",
    "scores_lr = cross_val_score(lr, X_train, y_train, cv=5, scoring=smape_scorer)\n",
    "scores_lr\n",
    "print(\"mean smape:\", np.abs(scores_lr.mean()))"
   ]
  },
  {
   "cell_type": "markdown",
   "id": "475b3c90",
   "metadata": {},
   "source": [
    "## Decision Tree"
   ]
  },
  {
   "cell_type": "code",
   "execution_count": 50,
   "id": "c474eb56",
   "metadata": {},
   "outputs": [
    {
     "name": "stdout",
     "output_type": "stream",
     "text": [
      "mean smape: 0.0747827462179225\n"
     ]
    }
   ],
   "source": [
    "params = {'min_samples_split': range(2, 10, 2), 'max_depth': range(4,8,2)}\n",
    "g_cv = GridSearchCV(DecisionTreeRegressor(random_state=12345),param_grid=params,scoring=smape_scorer, cv=5, refit=True)\n",
    "g_cv.fit(X_train, y_train)\n",
    "best_params = g_cv.best_params_\n",
    "dtr = DecisionTreeRegressor(**best_params).fit(X_train, y_train)\n",
    "scores_dtr = cross_val_score(dtr, X_train, y_train, cv=5, scoring=smape_scorer)\n",
    "scores_dtr\n",
    "print(\"mean smape:\", np.abs(scores_dtr.mean()))"
   ]
  },
  {
   "cell_type": "markdown",
   "id": "8a821ed3",
   "metadata": {},
   "source": [
    "## Lasso"
   ]
  },
  {
   "cell_type": "code",
   "execution_count": 51,
   "id": "ea3647df",
   "metadata": {},
   "outputs": [
    {
     "name": "stderr",
     "output_type": "stream",
     "text": [
      "/Users/Rhea/opt/anaconda3/lib/python3.9/site-packages/sklearn/model_selection/_validation.py:686: UserWarning: With alpha=0, this algorithm does not converge well. You are advised to use the LinearRegression estimator\n",
      "  estimator.fit(X_train, y_train, **fit_params)\n",
      "/Users/Rhea/opt/anaconda3/lib/python3.9/site-packages/sklearn/linear_model/_coordinate_descent.py:648: UserWarning: Coordinate descent with no regularization may lead to unexpected results and is discouraged.\n",
      "  model = cd_fast.enet_coordinate_descent(\n",
      "/Users/Rhea/opt/anaconda3/lib/python3.9/site-packages/sklearn/linear_model/_coordinate_descent.py:648: ConvergenceWarning: Objective did not converge. You might want to increase the number of iterations, check the scale of the features or consider increasing regularisation. Duality gap: 7.472e+04, tolerance: 0.000e+00 Linear regression models with null weight for the l1 regularization term are more efficiently fitted using one of the solvers implemented in sklearn.linear_model.Ridge/RidgeCV instead.\n",
      "  model = cd_fast.enet_coordinate_descent(\n",
      "/Users/Rhea/opt/anaconda3/lib/python3.9/site-packages/sklearn/linear_model/_coordinate_descent.py:648: ConvergenceWarning: Objective did not converge. You might want to increase the number of iterations, check the scale of the features or consider increasing regularisation. Duality gap: 1.296e+05, tolerance: 0.000e+00 Linear regression models with null weight for the l1 regularization term are more efficiently fitted using one of the solvers implemented in sklearn.linear_model.Ridge/RidgeCV instead.\n",
      "  model = cd_fast.enet_coordinate_descent(\n",
      "/Users/Rhea/opt/anaconda3/lib/python3.9/site-packages/sklearn/model_selection/_validation.py:686: UserWarning: With alpha=0, this algorithm does not converge well. You are advised to use the LinearRegression estimator\n",
      "  estimator.fit(X_train, y_train, **fit_params)\n",
      "/Users/Rhea/opt/anaconda3/lib/python3.9/site-packages/sklearn/linear_model/_coordinate_descent.py:648: UserWarning: Coordinate descent with no regularization may lead to unexpected results and is discouraged.\n",
      "  model = cd_fast.enet_coordinate_descent(\n",
      "/Users/Rhea/opt/anaconda3/lib/python3.9/site-packages/sklearn/linear_model/_coordinate_descent.py:648: ConvergenceWarning: Objective did not converge. You might want to increase the number of iterations, check the scale of the features or consider increasing regularisation. Duality gap: 8.568e+04, tolerance: 0.000e+00 Linear regression models with null weight for the l1 regularization term are more efficiently fitted using one of the solvers implemented in sklearn.linear_model.Ridge/RidgeCV instead.\n",
      "  model = cd_fast.enet_coordinate_descent(\n",
      "/Users/Rhea/opt/anaconda3/lib/python3.9/site-packages/sklearn/linear_model/_coordinate_descent.py:648: ConvergenceWarning: Objective did not converge. You might want to increase the number of iterations, check the scale of the features or consider increasing regularisation. Duality gap: 1.351e+05, tolerance: 0.000e+00 Linear regression models with null weight for the l1 regularization term are more efficiently fitted using one of the solvers implemented in sklearn.linear_model.Ridge/RidgeCV instead.\n",
      "  model = cd_fast.enet_coordinate_descent(\n",
      "/Users/Rhea/opt/anaconda3/lib/python3.9/site-packages/sklearn/model_selection/_validation.py:686: UserWarning: With alpha=0, this algorithm does not converge well. You are advised to use the LinearRegression estimator\n",
      "  estimator.fit(X_train, y_train, **fit_params)\n",
      "/Users/Rhea/opt/anaconda3/lib/python3.9/site-packages/sklearn/linear_model/_coordinate_descent.py:648: UserWarning: Coordinate descent with no regularization may lead to unexpected results and is discouraged.\n",
      "  model = cd_fast.enet_coordinate_descent(\n",
      "/Users/Rhea/opt/anaconda3/lib/python3.9/site-packages/sklearn/linear_model/_coordinate_descent.py:648: ConvergenceWarning: Objective did not converge. You might want to increase the number of iterations, check the scale of the features or consider increasing regularisation. Duality gap: 9.117e+04, tolerance: 0.000e+00 Linear regression models with null weight for the l1 regularization term are more efficiently fitted using one of the solvers implemented in sklearn.linear_model.Ridge/RidgeCV instead.\n",
      "  model = cd_fast.enet_coordinate_descent(\n",
      "/Users/Rhea/opt/anaconda3/lib/python3.9/site-packages/sklearn/linear_model/_coordinate_descent.py:648: ConvergenceWarning: Objective did not converge. You might want to increase the number of iterations, check the scale of the features or consider increasing regularisation. Duality gap: 1.346e+05, tolerance: 0.000e+00 Linear regression models with null weight for the l1 regularization term are more efficiently fitted using one of the solvers implemented in sklearn.linear_model.Ridge/RidgeCV instead.\n",
      "  model = cd_fast.enet_coordinate_descent(\n",
      "/Users/Rhea/opt/anaconda3/lib/python3.9/site-packages/sklearn/model_selection/_validation.py:686: UserWarning: With alpha=0, this algorithm does not converge well. You are advised to use the LinearRegression estimator\n",
      "  estimator.fit(X_train, y_train, **fit_params)\n",
      "/Users/Rhea/opt/anaconda3/lib/python3.9/site-packages/sklearn/linear_model/_coordinate_descent.py:648: UserWarning: Coordinate descent with no regularization may lead to unexpected results and is discouraged.\n",
      "  model = cd_fast.enet_coordinate_descent(\n",
      "/Users/Rhea/opt/anaconda3/lib/python3.9/site-packages/sklearn/linear_model/_coordinate_descent.py:648: ConvergenceWarning: Objective did not converge. You might want to increase the number of iterations, check the scale of the features or consider increasing regularisation. Duality gap: 8.944e+04, tolerance: 0.000e+00 Linear regression models with null weight for the l1 regularization term are more efficiently fitted using one of the solvers implemented in sklearn.linear_model.Ridge/RidgeCV instead.\n",
      "  model = cd_fast.enet_coordinate_descent(\n",
      "/Users/Rhea/opt/anaconda3/lib/python3.9/site-packages/sklearn/linear_model/_coordinate_descent.py:648: ConvergenceWarning: Objective did not converge. You might want to increase the number of iterations, check the scale of the features or consider increasing regularisation. Duality gap: 1.269e+05, tolerance: 0.000e+00 Linear regression models with null weight for the l1 regularization term are more efficiently fitted using one of the solvers implemented in sklearn.linear_model.Ridge/RidgeCV instead.\n",
      "  model = cd_fast.enet_coordinate_descent(\n",
      "/Users/Rhea/opt/anaconda3/lib/python3.9/site-packages/sklearn/model_selection/_validation.py:686: UserWarning: With alpha=0, this algorithm does not converge well. You are advised to use the LinearRegression estimator\n",
      "  estimator.fit(X_train, y_train, **fit_params)\n",
      "/Users/Rhea/opt/anaconda3/lib/python3.9/site-packages/sklearn/linear_model/_coordinate_descent.py:648: UserWarning: Coordinate descent with no regularization may lead to unexpected results and is discouraged.\n",
      "  model = cd_fast.enet_coordinate_descent(\n",
      "/Users/Rhea/opt/anaconda3/lib/python3.9/site-packages/sklearn/linear_model/_coordinate_descent.py:648: ConvergenceWarning: Objective did not converge. You might want to increase the number of iterations, check the scale of the features or consider increasing regularisation. Duality gap: 7.546e+04, tolerance: 0.000e+00 Linear regression models with null weight for the l1 regularization term are more efficiently fitted using one of the solvers implemented in sklearn.linear_model.Ridge/RidgeCV instead.\n",
      "  model = cd_fast.enet_coordinate_descent(\n",
      "/Users/Rhea/opt/anaconda3/lib/python3.9/site-packages/sklearn/linear_model/_coordinate_descent.py:648: ConvergenceWarning: Objective did not converge. You might want to increase the number of iterations, check the scale of the features or consider increasing regularisation. Duality gap: 1.149e+05, tolerance: 0.000e+00 Linear regression models with null weight for the l1 regularization term are more efficiently fitted using one of the solvers implemented in sklearn.linear_model.Ridge/RidgeCV instead.\n",
      "  model = cd_fast.enet_coordinate_descent(\n",
      "/Users/Rhea/opt/anaconda3/lib/python3.9/site-packages/sklearn/model_selection/_search.py:910: UserWarning: With alpha=0, this algorithm does not converge well. You are advised to use the LinearRegression estimator\n",
      "  self.best_estimator_.fit(X, y, **fit_params)\n",
      "/Users/Rhea/opt/anaconda3/lib/python3.9/site-packages/sklearn/linear_model/_coordinate_descent.py:648: UserWarning: Coordinate descent with no regularization may lead to unexpected results and is discouraged.\n",
      "  model = cd_fast.enet_coordinate_descent(\n",
      "/Users/Rhea/opt/anaconda3/lib/python3.9/site-packages/sklearn/linear_model/_coordinate_descent.py:648: ConvergenceWarning: Objective did not converge. You might want to increase the number of iterations, check the scale of the features or consider increasing regularisation. Duality gap: 1.097e+05, tolerance: 0.000e+00 Linear regression models with null weight for the l1 regularization term are more efficiently fitted using one of the solvers implemented in sklearn.linear_model.Ridge/RidgeCV instead.\n",
      "  model = cd_fast.enet_coordinate_descent(\n",
      "/Users/Rhea/opt/anaconda3/lib/python3.9/site-packages/sklearn/linear_model/_coordinate_descent.py:648: ConvergenceWarning: Objective did not converge. You might want to increase the number of iterations, check the scale of the features or consider increasing regularisation. Duality gap: 1.653e+05, tolerance: 0.000e+00 Linear regression models with null weight for the l1 regularization term are more efficiently fitted using one of the solvers implemented in sklearn.linear_model.Ridge/RidgeCV instead.\n",
      "  model = cd_fast.enet_coordinate_descent(\n",
      "/var/folders/gk/hvqbhchj1fqfp9s9tq_k1rfr0000gp/T/ipykernel_10708/389761914.py:5: UserWarning: With alpha=0, this algorithm does not converge well. You are advised to use the LinearRegression estimator\n",
      "  lasso = linear_model.Lasso(**best_params).fit(X_train, y_train)\n",
      "/Users/Rhea/opt/anaconda3/lib/python3.9/site-packages/sklearn/linear_model/_coordinate_descent.py:648: UserWarning: Coordinate descent with no regularization may lead to unexpected results and is discouraged.\n",
      "  model = cd_fast.enet_coordinate_descent(\n",
      "/Users/Rhea/opt/anaconda3/lib/python3.9/site-packages/sklearn/linear_model/_coordinate_descent.py:648: ConvergenceWarning: Objective did not converge. You might want to increase the number of iterations, check the scale of the features or consider increasing regularisation. Duality gap: 1.097e+05, tolerance: 0.000e+00 Linear regression models with null weight for the l1 regularization term are more efficiently fitted using one of the solvers implemented in sklearn.linear_model.Ridge/RidgeCV instead.\n",
      "  model = cd_fast.enet_coordinate_descent(\n",
      "/Users/Rhea/opt/anaconda3/lib/python3.9/site-packages/sklearn/linear_model/_coordinate_descent.py:648: ConvergenceWarning: Objective did not converge. You might want to increase the number of iterations, check the scale of the features or consider increasing regularisation. Duality gap: 1.653e+05, tolerance: 0.000e+00 Linear regression models with null weight for the l1 regularization term are more efficiently fitted using one of the solvers implemented in sklearn.linear_model.Ridge/RidgeCV instead.\n",
      "  model = cd_fast.enet_coordinate_descent(\n",
      "/Users/Rhea/opt/anaconda3/lib/python3.9/site-packages/sklearn/model_selection/_validation.py:686: UserWarning: With alpha=0, this algorithm does not converge well. You are advised to use the LinearRegression estimator\n",
      "  estimator.fit(X_train, y_train, **fit_params)\n",
      "/Users/Rhea/opt/anaconda3/lib/python3.9/site-packages/sklearn/linear_model/_coordinate_descent.py:648: UserWarning: Coordinate descent with no regularization may lead to unexpected results and is discouraged.\n",
      "  model = cd_fast.enet_coordinate_descent(\n",
      "/Users/Rhea/opt/anaconda3/lib/python3.9/site-packages/sklearn/linear_model/_coordinate_descent.py:648: ConvergenceWarning: Objective did not converge. You might want to increase the number of iterations, check the scale of the features or consider increasing regularisation. Duality gap: 7.472e+04, tolerance: 0.000e+00 Linear regression models with null weight for the l1 regularization term are more efficiently fitted using one of the solvers implemented in sklearn.linear_model.Ridge/RidgeCV instead.\n",
      "  model = cd_fast.enet_coordinate_descent(\n",
      "/Users/Rhea/opt/anaconda3/lib/python3.9/site-packages/sklearn/linear_model/_coordinate_descent.py:648: ConvergenceWarning: Objective did not converge. You might want to increase the number of iterations, check the scale of the features or consider increasing regularisation. Duality gap: 1.296e+05, tolerance: 0.000e+00 Linear regression models with null weight for the l1 regularization term are more efficiently fitted using one of the solvers implemented in sklearn.linear_model.Ridge/RidgeCV instead.\n",
      "  model = cd_fast.enet_coordinate_descent(\n",
      "/Users/Rhea/opt/anaconda3/lib/python3.9/site-packages/sklearn/model_selection/_validation.py:686: UserWarning: With alpha=0, this algorithm does not converge well. You are advised to use the LinearRegression estimator\n",
      "  estimator.fit(X_train, y_train, **fit_params)\n",
      "/Users/Rhea/opt/anaconda3/lib/python3.9/site-packages/sklearn/linear_model/_coordinate_descent.py:648: UserWarning: Coordinate descent with no regularization may lead to unexpected results and is discouraged.\n",
      "  model = cd_fast.enet_coordinate_descent(\n",
      "/Users/Rhea/opt/anaconda3/lib/python3.9/site-packages/sklearn/linear_model/_coordinate_descent.py:648: ConvergenceWarning: Objective did not converge. You might want to increase the number of iterations, check the scale of the features or consider increasing regularisation. Duality gap: 8.568e+04, tolerance: 0.000e+00 Linear regression models with null weight for the l1 regularization term are more efficiently fitted using one of the solvers implemented in sklearn.linear_model.Ridge/RidgeCV instead.\n",
      "  model = cd_fast.enet_coordinate_descent(\n",
      "/Users/Rhea/opt/anaconda3/lib/python3.9/site-packages/sklearn/linear_model/_coordinate_descent.py:648: ConvergenceWarning: Objective did not converge. You might want to increase the number of iterations, check the scale of the features or consider increasing regularisation. Duality gap: 1.351e+05, tolerance: 0.000e+00 Linear regression models with null weight for the l1 regularization term are more efficiently fitted using one of the solvers implemented in sklearn.linear_model.Ridge/RidgeCV instead.\n",
      "  model = cd_fast.enet_coordinate_descent(\n",
      "/Users/Rhea/opt/anaconda3/lib/python3.9/site-packages/sklearn/model_selection/_validation.py:686: UserWarning: With alpha=0, this algorithm does not converge well. You are advised to use the LinearRegression estimator\n",
      "  estimator.fit(X_train, y_train, **fit_params)\n",
      "/Users/Rhea/opt/anaconda3/lib/python3.9/site-packages/sklearn/linear_model/_coordinate_descent.py:648: UserWarning: Coordinate descent with no regularization may lead to unexpected results and is discouraged.\n",
      "  model = cd_fast.enet_coordinate_descent(\n",
      "/Users/Rhea/opt/anaconda3/lib/python3.9/site-packages/sklearn/linear_model/_coordinate_descent.py:648: ConvergenceWarning: Objective did not converge. You might want to increase the number of iterations, check the scale of the features or consider increasing regularisation. Duality gap: 9.117e+04, tolerance: 0.000e+00 Linear regression models with null weight for the l1 regularization term are more efficiently fitted using one of the solvers implemented in sklearn.linear_model.Ridge/RidgeCV instead.\n",
      "  model = cd_fast.enet_coordinate_descent(\n",
      "/Users/Rhea/opt/anaconda3/lib/python3.9/site-packages/sklearn/linear_model/_coordinate_descent.py:648: ConvergenceWarning: Objective did not converge. You might want to increase the number of iterations, check the scale of the features or consider increasing regularisation. Duality gap: 1.346e+05, tolerance: 0.000e+00 Linear regression models with null weight for the l1 regularization term are more efficiently fitted using one of the solvers implemented in sklearn.linear_model.Ridge/RidgeCV instead.\n",
      "  model = cd_fast.enet_coordinate_descent(\n"
     ]
    },
    {
     "name": "stdout",
     "output_type": "stream",
     "text": [
      "mean smape: 0.07213996288295794\n"
     ]
    },
    {
     "name": "stderr",
     "output_type": "stream",
     "text": [
      "/Users/Rhea/opt/anaconda3/lib/python3.9/site-packages/sklearn/model_selection/_validation.py:686: UserWarning: With alpha=0, this algorithm does not converge well. You are advised to use the LinearRegression estimator\n",
      "  estimator.fit(X_train, y_train, **fit_params)\n",
      "/Users/Rhea/opt/anaconda3/lib/python3.9/site-packages/sklearn/linear_model/_coordinate_descent.py:648: UserWarning: Coordinate descent with no regularization may lead to unexpected results and is discouraged.\n",
      "  model = cd_fast.enet_coordinate_descent(\n",
      "/Users/Rhea/opt/anaconda3/lib/python3.9/site-packages/sklearn/linear_model/_coordinate_descent.py:648: ConvergenceWarning: Objective did not converge. You might want to increase the number of iterations, check the scale of the features or consider increasing regularisation. Duality gap: 8.944e+04, tolerance: 0.000e+00 Linear regression models with null weight for the l1 regularization term are more efficiently fitted using one of the solvers implemented in sklearn.linear_model.Ridge/RidgeCV instead.\n",
      "  model = cd_fast.enet_coordinate_descent(\n",
      "/Users/Rhea/opt/anaconda3/lib/python3.9/site-packages/sklearn/linear_model/_coordinate_descent.py:648: ConvergenceWarning: Objective did not converge. You might want to increase the number of iterations, check the scale of the features or consider increasing regularisation. Duality gap: 1.269e+05, tolerance: 0.000e+00 Linear regression models with null weight for the l1 regularization term are more efficiently fitted using one of the solvers implemented in sklearn.linear_model.Ridge/RidgeCV instead.\n",
      "  model = cd_fast.enet_coordinate_descent(\n",
      "/Users/Rhea/opt/anaconda3/lib/python3.9/site-packages/sklearn/model_selection/_validation.py:686: UserWarning: With alpha=0, this algorithm does not converge well. You are advised to use the LinearRegression estimator\n",
      "  estimator.fit(X_train, y_train, **fit_params)\n",
      "/Users/Rhea/opt/anaconda3/lib/python3.9/site-packages/sklearn/linear_model/_coordinate_descent.py:648: UserWarning: Coordinate descent with no regularization may lead to unexpected results and is discouraged.\n",
      "  model = cd_fast.enet_coordinate_descent(\n",
      "/Users/Rhea/opt/anaconda3/lib/python3.9/site-packages/sklearn/linear_model/_coordinate_descent.py:648: ConvergenceWarning: Objective did not converge. You might want to increase the number of iterations, check the scale of the features or consider increasing regularisation. Duality gap: 7.546e+04, tolerance: 0.000e+00 Linear regression models with null weight for the l1 regularization term are more efficiently fitted using one of the solvers implemented in sklearn.linear_model.Ridge/RidgeCV instead.\n",
      "  model = cd_fast.enet_coordinate_descent(\n",
      "/Users/Rhea/opt/anaconda3/lib/python3.9/site-packages/sklearn/linear_model/_coordinate_descent.py:648: ConvergenceWarning: Objective did not converge. You might want to increase the number of iterations, check the scale of the features or consider increasing regularisation. Duality gap: 1.149e+05, tolerance: 0.000e+00 Linear regression models with null weight for the l1 regularization term are more efficiently fitted using one of the solvers implemented in sklearn.linear_model.Ridge/RidgeCV instead.\n",
      "  model = cd_fast.enet_coordinate_descent(\n"
     ]
    }
   ],
   "source": [
    "params = {'alpha': range(0,1), 'tol':  range(0, 1), 'max_iter': range (10, 20, 30)}\n",
    "lasso_cv = GridSearchCV(linear_model.Lasso(random_state=12345),param_grid=params,scoring=smape_scorer, cv=5, refit=True)\n",
    "lasso_cv.fit(X_train, y_train)\n",
    "best_params = lasso_cv.best_params_\n",
    "lasso = linear_model.Lasso(**best_params).fit(X_train, y_train)\n",
    "scores_lasso = cross_val_score(lasso, X_train, y_train, cv=5, scoring=smape_scorer)\n",
    "scores_lasso\n",
    "print(\"mean smape:\", np.abs(scores_lasso.mean()))"
   ]
  },
  {
   "cell_type": "markdown",
   "id": "e62131a3",
   "metadata": {},
   "source": [
    "## Random Forest"
   ]
  },
  {
   "cell_type": "code",
   "execution_count": 52,
   "id": "ee234e73",
   "metadata": {},
   "outputs": [
    {
     "name": "stdout",
     "output_type": "stream",
     "text": [
      "mean smape: 0.0689076903952549\n"
     ]
    }
   ],
   "source": [
    "params = {'min_samples_split': range(2, 6, 2)}\n",
    "rf_cv = GridSearchCV(RandomForestRegressor(random_state=12345),param_grid=params,scoring=smape_scorer, cv=5, refit=True)\n",
    "rf_cv.fit(X_train, y_train)\n",
    "best_params = rf_cv.best_params_\n",
    "rfr = RandomForestRegressor(**best_params).fit(X_train, y_train)\n",
    "scores_rfr = cross_val_score(rfr, X_train, y_train, cv=5, scoring=smape_scorer)\n",
    "scores_rfr\n",
    "print(\"mean smape:\", np.abs(scores_rfr.mean()))"
   ]
  },
  {
   "cell_type": "markdown",
   "id": "53776a05",
   "metadata": {},
   "source": [
    "### Conclusion: \n",
    "\n",
    "We developed, tuned and tested models. The dummy models have the best sMAPE.  If I were to chose from the other model after cross-validation I would reluctantly choose the random forest.  Below is the performance of the random forest on the test set.  This performance is still outperformed by the dummy models"
   ]
  },
  {
   "cell_type": "code",
   "execution_count": 53,
   "id": "996a4aee",
   "metadata": {},
   "outputs": [
    {
     "data": {
      "text/plain": [
       "0.06043298006460345"
      ]
     },
     "execution_count": 53,
     "metadata": {},
     "output_type": "execute_result"
    }
   ],
   "source": [
    "y_pred_rfr = rfr.predict(X_test)\n",
    "smape_final(y_test, y_pred_rfr)"
   ]
  },
  {
   "cell_type": "markdown",
   "id": "ca31809e",
   "metadata": {},
   "source": [
    "#### The sMAPE on the test set confirms my doubt that there is not a good model for this dataset that outperforms the dummies."
   ]
  },
  {
   "cell_type": "markdown",
   "id": "a5ebae81",
   "metadata": {},
   "source": [
    "# Project Conclusion:\n",
    "- I conducted an MAE check from the recovery calculation and found that my results and those in the dataset coincided.\n",
    "- I conducted a missing feature analysis and\n",
    "- In preprocessing data, I recovered the target into the test data from the full dataset and checked for duplicates\n",
    "- I then conducted an EDA on:\n",
    "    - the concentration of metal and found that the process is efficient because the rougher tails are small at each stage and the concentrates increase as the ore reaches the final stages.\n",
    "    - feed particle size normal-ish and the same for both the train and test sets\n",
    "    - total concentrations at different stages had much outliers.  Those were removed using the 3 standard deviation rule\n",
    "    - The two target variables: I filled the missing values and removed the outliers in both the test and train sets\n",
    "- Finally, I developed the sMAPE scorer and split the data into features and target.  I ran various ML models and found that the dummy outperformed each one of them"
   ]
  }
 ],
 "metadata": {
  "ExecuteTimeLog": [
   {
    "duration": 255,
    "start_time": "2022-08-09T19:42:44.090Z"
   },
   {
    "duration": 4,
    "start_time": "2022-08-09T19:42:46.186Z"
   },
   {
    "duration": 4,
    "start_time": "2022-08-09T19:42:51.533Z"
   },
   {
    "duration": 4,
    "start_time": "2022-08-09T19:42:53.074Z"
   },
   {
    "duration": 4,
    "start_time": "2022-08-09T19:43:10.760Z"
   },
   {
    "duration": 4,
    "start_time": "2022-08-09T19:43:12.766Z"
   },
   {
    "duration": 5,
    "start_time": "2022-08-09T19:43:14.448Z"
   }
  ],
  "kernelspec": {
   "display_name": "Python 3 (ipykernel)",
   "language": "python",
   "name": "python3"
  },
  "language_info": {
   "codemirror_mode": {
    "name": "ipython",
    "version": 3
   },
   "file_extension": ".py",
   "mimetype": "text/x-python",
   "name": "python",
   "nbconvert_exporter": "python",
   "pygments_lexer": "ipython3",
   "version": "3.9.7"
  },
  "toc": {
   "base_numbering": 1,
   "nav_menu": {},
   "number_sections": true,
   "sideBar": true,
   "skip_h1_title": false,
   "title_cell": "Table of Contents",
   "title_sidebar": "Contents",
   "toc_cell": false,
   "toc_position": {
    "height": "calc(100% - 180px)",
    "left": "10px",
    "top": "150px",
    "width": "360.64337158203125px"
   },
   "toc_section_display": true,
   "toc_window_display": true
  }
 },
 "nbformat": 4,
 "nbformat_minor": 5
}
