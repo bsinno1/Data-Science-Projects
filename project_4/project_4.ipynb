{
 "cells": [
  {
   "cell_type": "markdown",
   "id": "fc78424d",
   "metadata": {
    "toc": true
   },
   "source": [
    "<h1>Table of Contents<span class=\"tocSkip\"></span></h1>\n",
    "<div class=\"toc\"><ul class=\"toc-item\"><li><span><a href=\"#Reviewer's-comment-v1\" data-toc-modified-id=\"Reviewer's-comment-v1-1\"><span class=\"toc-item-num\">1&nbsp;&nbsp;</span>Reviewer's comment v1</a></span></li><li><span><a href=\"#Project-description\" data-toc-modified-id=\"Project-description-2\"><span class=\"toc-item-num\">2&nbsp;&nbsp;</span>Project description</a></span></li><li><span><a href=\"#Packages-and-Loading-the-Data\" data-toc-modified-id=\"Packages-and-Loading-the-Data-3\"><span class=\"toc-item-num\">3&nbsp;&nbsp;</span>Packages and Loading the Data</a></span></li><li><span><a href=\"#Understanding-and-preprocessing-the-data\" data-toc-modified-id=\"Understanding-and-preprocessing-the-data-4\"><span class=\"toc-item-num\">4&nbsp;&nbsp;</span>Understanding and preprocessing the data</a></span><ul class=\"toc-item\"><li><span><a href=\"#Users\" data-toc-modified-id=\"Users-4.1\"><span class=\"toc-item-num\">4.1&nbsp;&nbsp;</span>Users</a></span><ul class=\"toc-item\"><li><span><a href=\"#Conclusion:\" data-toc-modified-id=\"Conclusion:-4.1.1\"><span class=\"toc-item-num\">4.1.1&nbsp;&nbsp;</span>Conclusion:</a></span></li><li><span><a href=\"#Change-data-type\" data-toc-modified-id=\"Change-data-type-4.1.2\"><span class=\"toc-item-num\">4.1.2&nbsp;&nbsp;</span>Change data type</a></span></li><li><span><a href=\"#Checking-for-duplicate-data\" data-toc-modified-id=\"Checking-for-duplicate-data-4.1.3\"><span class=\"toc-item-num\">4.1.3&nbsp;&nbsp;</span>Checking for duplicate data</a></span></li></ul></li><li><span><a href=\"#Plan\" data-toc-modified-id=\"Plan-4.2\"><span class=\"toc-item-num\">4.2&nbsp;&nbsp;</span>Plan</a></span><ul class=\"toc-item\"><li><span><a href=\"#Understand-the-cost-structure\" data-toc-modified-id=\"Understand-the-cost-structure-4.2.1\"><span class=\"toc-item-num\">4.2.1&nbsp;&nbsp;</span>Understand the cost structure</a></span><ul class=\"toc-item\"><li><span><a href=\"#Conclusion:\" data-toc-modified-id=\"Conclusion:-4.2.1.1\"><span class=\"toc-item-num\">4.2.1.1&nbsp;&nbsp;</span>Conclusion:</a></span></li></ul></li><li><span><a href=\"#Change-gb-into-mb\" data-toc-modified-id=\"Change-gb-into-mb-4.2.2\"><span class=\"toc-item-num\">4.2.2&nbsp;&nbsp;</span>Change gb into mb</a></span><ul class=\"toc-item\"><li><span><a href=\"#Conclusion:\" data-toc-modified-id=\"Conclusion:-4.2.2.1\"><span class=\"toc-item-num\">4.2.2.1&nbsp;&nbsp;</span>Conclusion:</a></span></li></ul></li><li><span><a href=\"#Check-for-duplicates\" data-toc-modified-id=\"Check-for-duplicates-4.2.3\"><span class=\"toc-item-num\">4.2.3&nbsp;&nbsp;</span>Check for duplicates</a></span></li></ul></li><li><span><a href=\"#Call\" data-toc-modified-id=\"Call-4.3\"><span class=\"toc-item-num\">4.3&nbsp;&nbsp;</span>Call</a></span><ul class=\"toc-item\"><li><span><a href=\"#Conclusion:\" data-toc-modified-id=\"Conclusion:-4.3.1\"><span class=\"toc-item-num\">4.3.1&nbsp;&nbsp;</span>Conclusion:</a></span></li><li><span><a href=\"#Change-data-type\" data-toc-modified-id=\"Change-data-type-4.3.2\"><span class=\"toc-item-num\">4.3.2&nbsp;&nbsp;</span>Change data type</a></span></li><li><span><a href=\"#Rename-id-to-call_id\" data-toc-modified-id=\"Rename-id-to-call_id-4.3.3\"><span class=\"toc-item-num\">4.3.3&nbsp;&nbsp;</span>Rename id to call_id</a></span></li><li><span><a href=\"#Check-for-duplicates\" data-toc-modified-id=\"Check-for-duplicates-4.3.4\"><span class=\"toc-item-num\">4.3.4&nbsp;&nbsp;</span>Check for duplicates</a></span></li><li><span><a href=\"#Create-new-column-with-month\" data-toc-modified-id=\"Create-new-column-with-month-4.3.5\"><span class=\"toc-item-num\">4.3.5&nbsp;&nbsp;</span>Create new column with month</a></span></li></ul></li><li><span><a href=\"#Message\" data-toc-modified-id=\"Message-4.4\"><span class=\"toc-item-num\">4.4&nbsp;&nbsp;</span>Message</a></span><ul class=\"toc-item\"><li><span><a href=\"#Conclusion:\" data-toc-modified-id=\"Conclusion:-4.4.1\"><span class=\"toc-item-num\">4.4.1&nbsp;&nbsp;</span>Conclusion:</a></span></li><li><span><a href=\"#Change-data-type\" data-toc-modified-id=\"Change-data-type-4.4.2\"><span class=\"toc-item-num\">4.4.2&nbsp;&nbsp;</span>Change data type</a></span></li><li><span><a href=\"#Check-for-duplicates\" data-toc-modified-id=\"Check-for-duplicates-4.4.3\"><span class=\"toc-item-num\">4.4.3&nbsp;&nbsp;</span>Check for duplicates</a></span></li><li><span><a href=\"#Create-new-column-with-month\" data-toc-modified-id=\"Create-new-column-with-month-4.4.4\"><span class=\"toc-item-num\">4.4.4&nbsp;&nbsp;</span>Create new column with month</a></span></li></ul></li><li><span><a href=\"#Internet\" data-toc-modified-id=\"Internet-4.5\"><span class=\"toc-item-num\">4.5&nbsp;&nbsp;</span>Internet</a></span><ul class=\"toc-item\"><li><span><a href=\"#Conclusion\" data-toc-modified-id=\"Conclusion-4.5.1\"><span class=\"toc-item-num\">4.5.1&nbsp;&nbsp;</span>Conclusion</a></span></li><li><span><a href=\"#Change-data-type\" data-toc-modified-id=\"Change-data-type-4.5.2\"><span class=\"toc-item-num\">4.5.2&nbsp;&nbsp;</span>Change data type</a></span></li><li><span><a href=\"#Check-for-duplicates\" data-toc-modified-id=\"Check-for-duplicates-4.5.3\"><span class=\"toc-item-num\">4.5.3&nbsp;&nbsp;</span>Check for duplicates</a></span></li><li><span><a href=\"#Create-new-column-with-month\" data-toc-modified-id=\"Create-new-column-with-month-4.5.4\"><span class=\"toc-item-num\">4.5.4&nbsp;&nbsp;</span>Create new column with month</a></span></li></ul></li></ul></li><li><span><a href=\"#Merge-the-dataframes\" data-toc-modified-id=\"Merge-the-dataframes-5\"><span class=\"toc-item-num\">5&nbsp;&nbsp;</span>Merge the dataframes</a></span><ul class=\"toc-item\"><li><span><a href=\"#user_plus_plan\" data-toc-modified-id=\"user_plus_plan-5.1\"><span class=\"toc-item-num\">5.1&nbsp;&nbsp;</span>user_plus_plan</a></span></li><li><span><a href=\"#user_plus_plan_call\" data-toc-modified-id=\"user_plus_plan_call-5.2\"><span class=\"toc-item-num\">5.2&nbsp;&nbsp;</span>user_plus_plan_call</a></span></li><li><span><a href=\"#user_plus_plan_message\" data-toc-modified-id=\"user_plus_plan_message-5.3\"><span class=\"toc-item-num\">5.3&nbsp;&nbsp;</span>user_plus_plan_message</a></span></li><li><span><a href=\"#user_plus_plan_internet\" data-toc-modified-id=\"user_plus_plan_internet-5.4\"><span class=\"toc-item-num\">5.4&nbsp;&nbsp;</span>user_plus_plan_internet</a></span></li></ul></li><li><span><a href=\"#For-each-monthly-user,-find:\" data-toc-modified-id=\"For-each-monthly-user,-find:-6\"><span class=\"toc-item-num\">6&nbsp;&nbsp;</span>For each monthly user, find:</a></span><ul class=\"toc-item\"><li><span><a href=\"#The-number-of-calls-made-and-minutes-used-per-month\" data-toc-modified-id=\"The-number-of-calls-made-and-minutes-used-per-month-6.1\"><span class=\"toc-item-num\">6.1&nbsp;&nbsp;</span>The number of calls made and minutes used per month</a></span><ul class=\"toc-item\"><li><span><a href=\"#Understand-the-distribution-of-monthly_calls_user\" data-toc-modified-id=\"Understand-the-distribution-of-monthly_calls_user-6.1.1\"><span class=\"toc-item-num\">6.1.1&nbsp;&nbsp;</span>Understand the distribution of monthly_calls_user</a></span></li><li><span><a href=\"#Conclusion:\" data-toc-modified-id=\"Conclusion:-6.1.2\"><span class=\"toc-item-num\">6.1.2&nbsp;&nbsp;</span>Conclusion:</a></span></li></ul></li><li><span><a href=\"#Call-duration\" data-toc-modified-id=\"Call-duration-6.2\"><span class=\"toc-item-num\">6.2&nbsp;&nbsp;</span>Call duration</a></span><ul class=\"toc-item\"><li><span><a href=\"#Duration-without-rounding\" data-toc-modified-id=\"Duration-without-rounding-6.2.1\"><span class=\"toc-item-num\">6.2.1&nbsp;&nbsp;</span>Duration without rounding</a></span></li><li><span><a href=\"#Round-up-each-call\" data-toc-modified-id=\"Round-up-each-call-6.2.2\"><span class=\"toc-item-num\">6.2.2&nbsp;&nbsp;</span>Round up each call</a></span><ul class=\"toc-item\"><li><span><a href=\"#Conclusion:\" data-toc-modified-id=\"Conclusion:-6.2.2.1\"><span class=\"toc-item-num\">6.2.2.1&nbsp;&nbsp;</span>Conclusion:</a></span></li></ul></li><li><span><a href=\"#Understand-the-distribution-of-monthly_duration_user\" data-toc-modified-id=\"Understand-the-distribution-of-monthly_duration_user-6.2.3\"><span class=\"toc-item-num\">6.2.3&nbsp;&nbsp;</span>Understand the distribution of monthly_duration_user</a></span></li><li><span><a href=\"#Conclusion:\" data-toc-modified-id=\"Conclusion:-6.2.4\"><span class=\"toc-item-num\">6.2.4&nbsp;&nbsp;</span>Conclusion:</a></span></li></ul></li><li><span><a href=\"#The-number-of-messages-sent-per-month\" data-toc-modified-id=\"The-number-of-messages-sent-per-month-6.3\"><span class=\"toc-item-num\">6.3&nbsp;&nbsp;</span>The number of messages sent per month</a></span><ul class=\"toc-item\"><li><span><a href=\"#Understand-the-distribution-of-monthly_message_user\" data-toc-modified-id=\"Understand-the-distribution-of-monthly_message_user-6.3.1\"><span class=\"toc-item-num\">6.3.1&nbsp;&nbsp;</span>Understand the distribution of monthly_message_user</a></span></li><li><span><a href=\"#Conclusion:\" data-toc-modified-id=\"Conclusion:-6.3.2\"><span class=\"toc-item-num\">6.3.2&nbsp;&nbsp;</span>Conclusion:</a></span></li></ul></li><li><span><a href=\"#The-volume-of-data-per-month\" data-toc-modified-id=\"The-volume-of-data-per-month-6.4\"><span class=\"toc-item-num\">6.4&nbsp;&nbsp;</span>The volume of data per month</a></span><ul class=\"toc-item\"><li><span><a href=\"#Understand-the-distribution-of-monthly_mb_user\" data-toc-modified-id=\"Understand-the-distribution-of-monthly_mb_user-6.4.1\"><span class=\"toc-item-num\">6.4.1&nbsp;&nbsp;</span>Understand the distribution of monthly_mb_user</a></span></li><li><span><a href=\"#Rounding-up-usage-per-month\" data-toc-modified-id=\"Rounding-up-usage-per-month-6.4.2\"><span class=\"toc-item-num\">6.4.2&nbsp;&nbsp;</span>Rounding up usage per month</a></span></li><li><span><a href=\"#Conclusion:\" data-toc-modified-id=\"Conclusion:-6.4.3\"><span class=\"toc-item-num\">6.4.3&nbsp;&nbsp;</span>Conclusion:</a></span></li></ul></li><li><span><a href=\"#Monthly-revenue-from-each-user\" data-toc-modified-id=\"Monthly-revenue-from-each-user-6.5\"><span class=\"toc-item-num\">6.5&nbsp;&nbsp;</span>Monthly revenue from each user</a></span><ul class=\"toc-item\"><li><span><a href=\"#Subtract-the-free-package-limit-from-the-total-number-for-the-call-dataframe.-If-the-overage-column-is-positive,-then-this-means-that-the-user-used-more-than-what-is-included-in-their-plan.--If-negative,-then-the-user-is-within-the-plan-limits-and-no-overage-is-due.\" data-toc-modified-id=\"Subtract-the-free-package-limit-from-the-total-number-for-the-call-dataframe.-If-the-overage-column-is-positive,-then-this-means-that-the-user-used-more-than-what-is-included-in-their-plan.--If-negative,-then-the-user-is-within-the-plan-limits-and-no-overage-is-due.-6.5.1\"><span class=\"toc-item-num\">6.5.1&nbsp;&nbsp;</span>Subtract the free package limit from the total number for the call dataframe. If the overage column is positive, then this means that the user used more than what is included in their plan.  If negative, then the user is within the plan limits and no overage is due.</a></span><ul class=\"toc-item\"><li><span><a href=\"#Call-service\" data-toc-modified-id=\"Call-service-6.5.1.1\"><span class=\"toc-item-num\">6.5.1.1&nbsp;&nbsp;</span>Call service</a></span></li><li><span><a href=\"#Message-service\" data-toc-modified-id=\"Message-service-6.5.1.2\"><span class=\"toc-item-num\">6.5.1.2&nbsp;&nbsp;</span>Message service</a></span></li><li><span><a href=\"#Internet-service\" data-toc-modified-id=\"Internet-service-6.5.1.3\"><span class=\"toc-item-num\">6.5.1.3&nbsp;&nbsp;</span>Internet service</a></span></li><li><span><a href=\"#Conclusion:\" data-toc-modified-id=\"Conclusion:-6.5.1.4\"><span class=\"toc-item-num\">6.5.1.4&nbsp;&nbsp;</span>Conclusion:</a></span></li></ul></li><li><span><a href=\"#Calculate-each-user's-monthly-payment\" data-toc-modified-id=\"Calculate-each-user's-monthly-payment-6.5.2\"><span class=\"toc-item-num\">6.5.2&nbsp;&nbsp;</span>Calculate each user's monthly payment</a></span><ul class=\"toc-item\"><li><span><a href=\"#Call-service\" data-toc-modified-id=\"Call-service-6.5.2.1\"><span class=\"toc-item-num\">6.5.2.1&nbsp;&nbsp;</span>Call service</a></span></li><li><span><a href=\"#Message-service\" data-toc-modified-id=\"Message-service-6.5.2.2\"><span class=\"toc-item-num\">6.5.2.2&nbsp;&nbsp;</span>Message service</a></span></li><li><span><a href=\"#Internet-service\" data-toc-modified-id=\"Internet-service-6.5.2.3\"><span class=\"toc-item-num\">6.5.2.3&nbsp;&nbsp;</span>Internet service</a></span></li></ul></li><li><span><a href=\"#Calculate-each-user's-total-overage-of-all-service-combined.\" data-toc-modified-id=\"Calculate-each-user's-total-overage-of-all-service-combined.-6.5.3\"><span class=\"toc-item-num\">6.5.3&nbsp;&nbsp;</span>Calculate each user's total overage of all service combined.</a></span><ul class=\"toc-item\"><li><span><a href=\"#Concatinate-all-three-service-dataframes-into-df.\" data-toc-modified-id=\"Concatinate-all-three-service-dataframes-into-df.-6.5.3.1\"><span class=\"toc-item-num\">6.5.3.1&nbsp;&nbsp;</span>Concatinate all three service dataframes into df.</a></span></li><li><span><a href=\"#Now-sum-the-monthly-plan-cost-with-the-monthly-overage-per-user.\" data-toc-modified-id=\"Now-sum-the-monthly-plan-cost-with-the-monthly-overage-per-user.-6.5.3.2\"><span class=\"toc-item-num\">6.5.3.2&nbsp;&nbsp;</span>Now sum the monthly plan cost with the monthly overage per user.</a></span></li></ul></li></ul></li></ul></li><li><span><a href=\"#For-each-plan,-describe-monthly-customers'-behavior\" data-toc-modified-id=\"For-each-plan,-describe-monthly-customers'-behavior-7\"><span class=\"toc-item-num\">7&nbsp;&nbsp;</span>For each plan, describe monthly customers' behavior</a></span><ul class=\"toc-item\"><li><span><a href=\"#Surf-call-dataframe\" data-toc-modified-id=\"Surf-call-dataframe-7.1\"><span class=\"toc-item-num\">7.1&nbsp;&nbsp;</span>Surf call dataframe</a></span><ul class=\"toc-item\"><li><span><a href=\"#Conclusion:\" data-toc-modified-id=\"Conclusion:-7.1.1\"><span class=\"toc-item-num\">7.1.1&nbsp;&nbsp;</span>Conclusion:</a></span></li></ul></li><li><span><a href=\"#Surf-message-dataframe\" data-toc-modified-id=\"Surf-message-dataframe-7.2\"><span class=\"toc-item-num\">7.2&nbsp;&nbsp;</span>Surf message dataframe</a></span><ul class=\"toc-item\"><li><span><a href=\"#Conclusion:\" data-toc-modified-id=\"Conclusion:-7.2.1\"><span class=\"toc-item-num\">7.2.1&nbsp;&nbsp;</span>Conclusion:</a></span></li></ul></li><li><span><a href=\"#Surf-internet-dataframe\" data-toc-modified-id=\"Surf-internet-dataframe-7.3\"><span class=\"toc-item-num\">7.3&nbsp;&nbsp;</span>Surf internet dataframe</a></span><ul class=\"toc-item\"><li><span><a href=\"#Conclusion:\" data-toc-modified-id=\"Conclusion:-7.3.1\"><span class=\"toc-item-num\">7.3.1&nbsp;&nbsp;</span>Conclusion:</a></span></li></ul></li><li><span><a href=\"#Ultimate-call-dataframe\" data-toc-modified-id=\"Ultimate-call-dataframe-7.4\"><span class=\"toc-item-num\">7.4&nbsp;&nbsp;</span>Ultimate call dataframe</a></span><ul class=\"toc-item\"><li><span><a href=\"#Conclusion:\" data-toc-modified-id=\"Conclusion:-7.4.1\"><span class=\"toc-item-num\">7.4.1&nbsp;&nbsp;</span>Conclusion:</a></span></li></ul></li><li><span><a href=\"#Ultimate-message-dataframe\" data-toc-modified-id=\"Ultimate-message-dataframe-7.5\"><span class=\"toc-item-num\">7.5&nbsp;&nbsp;</span>Ultimate message dataframe</a></span><ul class=\"toc-item\"><li><span><a href=\"#Conclusion:\" data-toc-modified-id=\"Conclusion:-7.5.1\"><span class=\"toc-item-num\">7.5.1&nbsp;&nbsp;</span>Conclusion:</a></span></li></ul></li><li><span><a href=\"#Ultimate-internet-dataframe\" data-toc-modified-id=\"Ultimate-internet-dataframe-7.6\"><span class=\"toc-item-num\">7.6&nbsp;&nbsp;</span>Ultimate internet dataframe</a></span><ul class=\"toc-item\"><li><span><a href=\"#Conclusion:\" data-toc-modified-id=\"Conclusion:-7.6.1\"><span class=\"toc-item-num\">7.6.1&nbsp;&nbsp;</span>Conclusion:</a></span></li></ul></li><li><span><a href=\"#Calculate-the-mean,-variance,-and-standard-deviation.-Plot-histograms.-Describe-the-distributions.\" data-toc-modified-id=\"Calculate-the-mean,-variance,-and-standard-deviation.-Plot-histograms.-Describe-the-distributions.-7.7\"><span class=\"toc-item-num\">7.7&nbsp;&nbsp;</span>Calculate the mean, variance, and standard deviation. Plot histograms. Describe the distributions.</a></span><ul class=\"toc-item\"><li><span><a href=\"#Aggregate-call-data\" data-toc-modified-id=\"Aggregate-call-data-7.7.1\"><span class=\"toc-item-num\">7.7.1&nbsp;&nbsp;</span>Aggregate call data</a></span><ul class=\"toc-item\"><li><span><a href=\"#Conclusion:\" data-toc-modified-id=\"Conclusion:-7.7.1.1\"><span class=\"toc-item-num\">7.7.1.1&nbsp;&nbsp;</span>Conclusion:</a></span></li></ul></li><li><span><a href=\"#Aggregate-duration-by-monthly-user\" data-toc-modified-id=\"Aggregate-duration-by-monthly-user-7.7.2\"><span class=\"toc-item-num\">7.7.2&nbsp;&nbsp;</span>Aggregate duration by monthly user</a></span><ul class=\"toc-item\"><li><span><a href=\"#Conclusion\" data-toc-modified-id=\"Conclusion-7.7.2.1\"><span class=\"toc-item-num\">7.7.2.1&nbsp;&nbsp;</span>Conclusion</a></span></li></ul></li><li><span><a href=\"#Aggregate-text-monthly-data-per-customer\" data-toc-modified-id=\"Aggregate-text-monthly-data-per-customer-7.7.3\"><span class=\"toc-item-num\">7.7.3&nbsp;&nbsp;</span>Aggregate text monthly data per customer</a></span><ul class=\"toc-item\"><li><span><a href=\"#Conclusion:\" data-toc-modified-id=\"Conclusion:-7.7.3.1\"><span class=\"toc-item-num\">7.7.3.1&nbsp;&nbsp;</span>Conclusion:</a></span></li></ul></li><li><span><a href=\"#Aggregate-Internet-monthly-data-per-customer\" data-toc-modified-id=\"Aggregate-Internet-monthly-data-per-customer-7.7.4\"><span class=\"toc-item-num\">7.7.4&nbsp;&nbsp;</span>Aggregate Internet monthly data per customer</a></span><ul class=\"toc-item\"><li><span><a href=\"#Conclusion:\" data-toc-modified-id=\"Conclusion:-7.7.4.1\"><span class=\"toc-item-num\">7.7.4.1&nbsp;&nbsp;</span>Conclusion:</a></span></li></ul></li><li><span><a href=\"#Aggregate-internet-data\" data-toc-modified-id=\"Aggregate-internet-data-7.7.5\"><span class=\"toc-item-num\">7.7.5&nbsp;&nbsp;</span>Aggregate internet data</a></span><ul class=\"toc-item\"><li><span><a href=\"#Conclusion:\" data-toc-modified-id=\"Conclusion:-7.7.5.1\"><span class=\"toc-item-num\">7.7.5.1&nbsp;&nbsp;</span>Conclusion:</a></span></li></ul></li><li><span><a href=\"#For-the-sake-of-comparison,-I-also-reproduce-the-graph-above-using-monthly_mb_user.\" data-toc-modified-id=\"For-the-sake-of-comparison,-I-also-reproduce-the-graph-above-using-monthly_mb_user.-7.7.6\"><span class=\"toc-item-num\">7.7.6&nbsp;&nbsp;</span>For the sake of comparison, I also reproduce the graph above using monthly_mb_user.</a></span><ul class=\"toc-item\"><li><span><a href=\"#Conclusion:\" data-toc-modified-id=\"Conclusion:-7.7.6.1\"><span class=\"toc-item-num\">7.7.6.1&nbsp;&nbsp;</span>Conclusion:</a></span></li></ul></li><li><span><a href=\"#Section-conclusion:\" data-toc-modified-id=\"Section-conclusion:-7.7.7\"><span class=\"toc-item-num\">7.7.7&nbsp;&nbsp;</span>Section conclusion:</a></span></li></ul></li></ul></li><li><span><a href=\"#Hypothesis-test\" data-toc-modified-id=\"Hypothesis-test-8\"><span class=\"toc-item-num\">8&nbsp;&nbsp;</span>Hypothesis test</a></span><ul class=\"toc-item\"><li><span><a href=\"#The-average-revenue-from-users-of-Ultimate-and-Surf-calling-plans-differs.\" data-toc-modified-id=\"The-average-revenue-from-users-of-Ultimate-and-Surf-calling-plans-differs.-8.1\"><span class=\"toc-item-num\">8.1&nbsp;&nbsp;</span>The average revenue from users of Ultimate and Surf calling plans differs.</a></span><ul class=\"toc-item\"><li><span><a href=\"#Choosing-a-test:\" data-toc-modified-id=\"Choosing-a-test:-8.1.1\"><span class=\"toc-item-num\">8.1.1&nbsp;&nbsp;</span>Choosing a test:</a></span></li><li><span><a href=\"#Conclusion:\" data-toc-modified-id=\"Conclusion:-8.1.2\"><span class=\"toc-item-num\">8.1.2&nbsp;&nbsp;</span>Conclusion:</a></span></li></ul></li><li><span><a href=\"#The-average-revenue-from-users-in-NY-NJ-area-is-different-from-that-of-the-users-from-other-regions.\" data-toc-modified-id=\"The-average-revenue-from-users-in-NY-NJ-area-is-different-from-that-of-the-users-from-other-regions.-8.2\"><span class=\"toc-item-num\">8.2&nbsp;&nbsp;</span>The average revenue from users in NY-NJ area is different from that of the users from other regions.</a></span><ul class=\"toc-item\"><li><span><a href=\"#Conclusion:\" data-toc-modified-id=\"Conclusion:-8.2.1\"><span class=\"toc-item-num\">8.2.1&nbsp;&nbsp;</span>Conclusion:</a></span></li></ul></li><li><span><a href=\"#General-conclusion:\" data-toc-modified-id=\"General-conclusion:-8.3\"><span class=\"toc-item-num\">8.3&nbsp;&nbsp;</span>General conclusion:</a></span></li></ul></li></ul></div>"
   ]
  },
  {
   "cell_type": "markdown",
   "id": "e0474749",
   "metadata": {},
   "source": [
    "# Project description"
   ]
  },
  {
   "cell_type": "markdown",
   "id": "10fe54ee",
   "metadata": {},
   "source": [
    "1- In this cellular phone provider company, the sample given to us consists of 500 users on two different phone plans.  The data is generated from a single year, 2018.  The data is in 5 different dataframes.  These frames need to be joined in ways that are efficient/manageabble and allow us to answer questions about customer monthly usages and bills as well as aggregate usages.\n",
    "\n",
    "2- I start by viewing the frames to understand their contents and devise ways to join them.\n",
    "\n",
    "3- I check for duplicates and preprocess the date variables. Then, I convert the units of some variables like usd_gb into usd_mg to facilitate calculations and rename the id variable based on the service it represents.  Finally, I create a month variable."
   ]
  },
  {
   "cell_type": "markdown",
   "id": "6e44baa5",
   "metadata": {},
   "source": [
    "# Packages and Loading the Data"
   ]
  },
  {
   "cell_type": "code",
   "execution_count": 1,
   "id": "168ba6f2",
   "metadata": {},
   "outputs": [],
   "source": [
    "import pandas as pd\n",
    "import numpy as np\n",
    "import datetime\n",
    "from matplotlib import pyplot as plt\n",
    "from scipy import stats as st\n",
    "from scipy.stats import ttest_1samp\n",
    "from scipy.stats import ttest_ind\n",
    "import seaborn as sns\n",
    "#import pingouin as pg\n",
    "\n",
    "try:\n",
    "    plan = pd.read_csv('megaline_plans.csv')\n",
    "    message = pd.read_csv('megaline_messages.csv')\n",
    "    internet = pd.read_csv('megaline_internet.csv')\n",
    "    users = pd.read_csv('megaline_users.csv')\n",
    "    call = pd.read_csv('megaline_calls.csv')\n",
    "except:\n",
    "    plan = pd.read_csv('/datasets/megaline_plans.csv')\n",
    "    message = pd.read_csv('/datasets/megaline_messages.csv')\n",
    "    internet = pd.read_csv('/datasets/megaline_internet.csv')\n",
    "    users = pd.read_csv('/datasets/megaline_users.csv')\n",
    "    call = pd.read_csv('/datasets/megaline_calls.csv')"
   ]
  },
  {
   "cell_type": "markdown",
   "id": "2b748463",
   "metadata": {},
   "source": [
    "# Understanding and preprocessing the data"
   ]
  },
  {
   "cell_type": "markdown",
   "id": "c83eb2ce",
   "metadata": {},
   "source": [
    "Let's explore each dataframe separately."
   ]
  },
  {
   "cell_type": "markdown",
   "id": "cbb20e50",
   "metadata": {},
   "source": [
    "## Users"
   ]
  },
  {
   "cell_type": "code",
   "execution_count": 2,
   "id": "45b31845",
   "metadata": {
    "scrolled": true
   },
   "outputs": [
    {
     "name": "stdout",
     "output_type": "stream",
     "text": [
      "<class 'pandas.core.frame.DataFrame'>\n",
      "RangeIndex: 500 entries, 0 to 499\n",
      "Data columns (total 8 columns):\n",
      " #   Column      Non-Null Count  Dtype \n",
      "---  ------      --------------  ----- \n",
      " 0   user_id     500 non-null    int64 \n",
      " 1   first_name  500 non-null    object\n",
      " 2   last_name   500 non-null    object\n",
      " 3   age         500 non-null    int64 \n",
      " 4   city        500 non-null    object\n",
      " 5   reg_date    500 non-null    object\n",
      " 6   plan        500 non-null    object\n",
      " 7   churn_date  34 non-null     object\n",
      "dtypes: int64(2), object(6)\n",
      "memory usage: 31.4+ KB\n"
     ]
    }
   ],
   "source": [
    "users.info()"
   ]
  },
  {
   "cell_type": "code",
   "execution_count": 3,
   "id": "561a78fe",
   "metadata": {},
   "outputs": [
    {
     "data": {
      "text/plain": [
       "500"
      ]
     },
     "execution_count": 3,
     "metadata": {},
     "output_type": "execute_result"
    }
   ],
   "source": [
    "users.user_id.nunique()"
   ]
  },
  {
   "cell_type": "code",
   "execution_count": 4,
   "id": "082ac21e",
   "metadata": {},
   "outputs": [
    {
     "data": {
      "text/plain": [
       "surf        0.678\n",
       "ultimate    0.322\n",
       "Name: plan, dtype: float64"
      ]
     },
     "execution_count": 4,
     "metadata": {},
     "output_type": "execute_result"
    }
   ],
   "source": [
    "users[\"plan\"].value_counts()/len(users)"
   ]
  },
  {
   "cell_type": "markdown",
   "id": "8cd16cb4",
   "metadata": {},
   "source": [
    "### Conclusion:\n",
    "This dataframe gives us information about users.There are 500 unique users in the dataset. There are twice as much surf users than ultimate users."
   ]
  },
  {
   "cell_type": "markdown",
   "id": "6e1c3ee4",
   "metadata": {},
   "source": [
    "### Change data type"
   ]
  },
  {
   "cell_type": "code",
   "execution_count": 5,
   "id": "ff7a9d70",
   "metadata": {},
   "outputs": [],
   "source": [
    "users.reg_date = pd.to_datetime(users.reg_date)"
   ]
  },
  {
   "cell_type": "code",
   "execution_count": 6,
   "id": "579fb23c",
   "metadata": {},
   "outputs": [],
   "source": [
    "users.churn_date = pd.to_datetime(users.churn_date)"
   ]
  },
  {
   "cell_type": "markdown",
   "id": "0246d722",
   "metadata": {},
   "source": [
    "### Checking for duplicate data"
   ]
  },
  {
   "cell_type": "code",
   "execution_count": 7,
   "id": "97a3c333",
   "metadata": {},
   "outputs": [
    {
     "data": {
      "text/plain": [
       "0"
      ]
     },
     "execution_count": 7,
     "metadata": {},
     "output_type": "execute_result"
    }
   ],
   "source": [
    "users.duplicated().sum()"
   ]
  },
  {
   "cell_type": "markdown",
   "id": "bd385b56",
   "metadata": {},
   "source": [
    "## Plan"
   ]
  },
  {
   "cell_type": "code",
   "execution_count": 8,
   "id": "ba161b9f",
   "metadata": {},
   "outputs": [
    {
     "name": "stdout",
     "output_type": "stream",
     "text": [
      "<class 'pandas.core.frame.DataFrame'>\n",
      "RangeIndex: 2 entries, 0 to 1\n",
      "Data columns (total 8 columns):\n",
      " #   Column                 Non-Null Count  Dtype  \n",
      "---  ------                 --------------  -----  \n",
      " 0   messages_included      2 non-null      int64  \n",
      " 1   mb_per_month_included  2 non-null      int64  \n",
      " 2   minutes_included       2 non-null      int64  \n",
      " 3   usd_monthly_pay        2 non-null      int64  \n",
      " 4   usd_per_gb             2 non-null      int64  \n",
      " 5   usd_per_message        2 non-null      float64\n",
      " 6   usd_per_minute         2 non-null      float64\n",
      " 7   plan_name              2 non-null      object \n",
      "dtypes: float64(2), int64(5), object(1)\n",
      "memory usage: 256.0+ bytes\n"
     ]
    }
   ],
   "source": [
    "plan.info()"
   ]
  },
  {
   "cell_type": "markdown",
   "id": "7bc26292",
   "metadata": {},
   "source": [
    "This dataframe gives us information about the cost of each plan, the services included at this cost.  It also gives us information about additional costs when users have overages in any of the services."
   ]
  },
  {
   "cell_type": "code",
   "execution_count": 9,
   "id": "9e00f0f2",
   "metadata": {},
   "outputs": [
    {
     "data": {
      "text/plain": [
       "(2, 8)"
      ]
     },
     "execution_count": 9,
     "metadata": {},
     "output_type": "execute_result"
    }
   ],
   "source": [
    "plan.shape"
   ]
  },
  {
   "cell_type": "markdown",
   "id": "b506dc7b",
   "metadata": {},
   "source": [
    "### Understand the cost structure"
   ]
  },
  {
   "cell_type": "code",
   "execution_count": 10,
   "id": "4f20a889",
   "metadata": {},
   "outputs": [
    {
     "data": {
      "text/plain": [
       "0    0.03\n",
       "1    0.01\n",
       "Name: usd_per_message, dtype: float64"
      ]
     },
     "execution_count": 10,
     "metadata": {},
     "output_type": "execute_result"
    }
   ],
   "source": [
    "plan['usd_per_message']"
   ]
  },
  {
   "cell_type": "code",
   "execution_count": 11,
   "id": "0fcf453d",
   "metadata": {},
   "outputs": [
    {
     "data": {
      "text/plain": [
       "0    0.03\n",
       "1    0.01\n",
       "Name: usd_per_minute, dtype: float64"
      ]
     },
     "execution_count": 11,
     "metadata": {},
     "output_type": "execute_result"
    }
   ],
   "source": [
    "plan['usd_per_minute']"
   ]
  },
  {
   "cell_type": "markdown",
   "id": "1d58762f",
   "metadata": {},
   "source": [
    "#### Conclusion:\n",
    "The overages of the surf plan for both the message and call services are 30\\% more expensive than the ultimate plan.  This is important information because as we will see the ultimate plan does not have overages in either service.  "
   ]
  },
  {
   "cell_type": "markdown",
   "id": "565774fb",
   "metadata": {},
   "source": [
    "### Change gb into mb"
   ]
  },
  {
   "cell_type": "markdown",
   "id": "a3ea817b",
   "metadata": {},
   "source": [
    "The overage cost is in gb whereas the usage is in mb.  So, I create a new column usd_per_mb in this dataframe which is equal to usd_per_gb * (1/1024) "
   ]
  },
  {
   "cell_type": "code",
   "execution_count": 12,
   "id": "1afea1d7",
   "metadata": {},
   "outputs": [
    {
     "data": {
      "text/plain": [
       "0    15.0\n",
       "1    30.0\n",
       "Name: gb_per_month_included, dtype: float64"
      ]
     },
     "execution_count": 12,
     "metadata": {},
     "output_type": "execute_result"
    }
   ],
   "source": [
    "plan['gb_per_month_included'] =  plan['mb_per_month_included'] * (1/1024)\n",
    "plan['gb_per_month_included']"
   ]
  },
  {
   "cell_type": "markdown",
   "id": "61c0741e",
   "metadata": {},
   "source": [
    "#### Conclusion: \n",
    "The internet service overage of surf plan is 70\\% more expensive than the ultimate plan.  This information is valuable because it will explain the exorbitant amount the company makes from overages of the internet service of the surf plan."
   ]
  },
  {
   "cell_type": "markdown",
   "id": "e6989047",
   "metadata": {},
   "source": [
    "### Check for duplicates"
   ]
  },
  {
   "cell_type": "code",
   "execution_count": 13,
   "id": "b1e69bcd",
   "metadata": {},
   "outputs": [
    {
     "data": {
      "text/plain": [
       "0"
      ]
     },
     "execution_count": 13,
     "metadata": {},
     "output_type": "execute_result"
    }
   ],
   "source": [
    "plan.duplicated().sum()"
   ]
  },
  {
   "cell_type": "markdown",
   "id": "e2480692",
   "metadata": {},
   "source": [
    "## Call"
   ]
  },
  {
   "cell_type": "code",
   "execution_count": 14,
   "id": "b03a3fce",
   "metadata": {},
   "outputs": [
    {
     "name": "stdout",
     "output_type": "stream",
     "text": [
      "<class 'pandas.core.frame.DataFrame'>\n",
      "RangeIndex: 137735 entries, 0 to 137734\n",
      "Data columns (total 4 columns):\n",
      " #   Column     Non-Null Count   Dtype  \n",
      "---  ------     --------------   -----  \n",
      " 0   id         137735 non-null  object \n",
      " 1   user_id    137735 non-null  int64  \n",
      " 2   call_date  137735 non-null  object \n",
      " 3   duration   137735 non-null  float64\n",
      "dtypes: float64(1), int64(1), object(2)\n",
      "memory usage: 4.2+ MB\n"
     ]
    }
   ],
   "source": [
    "call.info()"
   ]
  },
  {
   "cell_type": "code",
   "execution_count": 15,
   "id": "440b9090",
   "metadata": {},
   "outputs": [
    {
     "data": {
      "text/plain": [
       "481"
      ]
     },
     "execution_count": 15,
     "metadata": {},
     "output_type": "execute_result"
    }
   ],
   "source": [
    "call.user_id.nunique()"
   ]
  },
  {
   "cell_type": "markdown",
   "id": "864a6d53",
   "metadata": {},
   "source": [
    "### Conclusion:\n",
    "This dataframe gives us information about call made by users. Most, not all user_id have a calling service."
   ]
  },
  {
   "cell_type": "code",
   "execution_count": 16,
   "id": "6ab73573",
   "metadata": {},
   "outputs": [
    {
     "data": {
      "text/plain": [
       "(137735, 4)"
      ]
     },
     "execution_count": 16,
     "metadata": {},
     "output_type": "execute_result"
    }
   ],
   "source": [
    "call.shape"
   ]
  },
  {
   "cell_type": "markdown",
   "id": "b682ffaf",
   "metadata": {},
   "source": [
    "### Change data type"
   ]
  },
  {
   "cell_type": "code",
   "execution_count": 17,
   "id": "fe9da5e9",
   "metadata": {},
   "outputs": [],
   "source": [
    "call.call_date = pd.to_datetime(call.call_date)"
   ]
  },
  {
   "cell_type": "markdown",
   "id": "1c859ecd",
   "metadata": {},
   "source": [
    "### Rename id to call_id"
   ]
  },
  {
   "cell_type": "code",
   "execution_count": 18,
   "id": "55fc33f8",
   "metadata": {},
   "outputs": [],
   "source": [
    "call['call_id'] =  call['id']"
   ]
  },
  {
   "cell_type": "markdown",
   "id": "05e5faf8",
   "metadata": {},
   "source": [
    "### Check for duplicates"
   ]
  },
  {
   "cell_type": "code",
   "execution_count": 19,
   "id": "118d0f34",
   "metadata": {},
   "outputs": [
    {
     "data": {
      "text/plain": [
       "0"
      ]
     },
     "execution_count": 19,
     "metadata": {},
     "output_type": "execute_result"
    }
   ],
   "source": [
    "call.duplicated().sum()"
   ]
  },
  {
   "cell_type": "markdown",
   "id": "e97bf6d4",
   "metadata": {},
   "source": [
    "### Create new column with month"
   ]
  },
  {
   "cell_type": "code",
   "execution_count": 20,
   "id": "3eeac9bf",
   "metadata": {},
   "outputs": [],
   "source": [
    "call['month'] = pd.to_datetime(call[\"call_date\"]).dt.month\n",
    "call['month'] = pd.to_datetime(call['month'], format='%m').dt.month_name().str.slice(stop=3)"
   ]
  },
  {
   "cell_type": "markdown",
   "id": "d6b81735",
   "metadata": {},
   "source": [
    "## Message"
   ]
  },
  {
   "cell_type": "code",
   "execution_count": 21,
   "id": "6bc474c9",
   "metadata": {},
   "outputs": [
    {
     "name": "stdout",
     "output_type": "stream",
     "text": [
      "<class 'pandas.core.frame.DataFrame'>\n",
      "RangeIndex: 76051 entries, 0 to 76050\n",
      "Data columns (total 3 columns):\n",
      " #   Column        Non-Null Count  Dtype \n",
      "---  ------        --------------  ----- \n",
      " 0   id            76051 non-null  object\n",
      " 1   user_id       76051 non-null  int64 \n",
      " 2   message_date  76051 non-null  object\n",
      "dtypes: int64(1), object(2)\n",
      "memory usage: 1.7+ MB\n"
     ]
    }
   ],
   "source": [
    "message.info()"
   ]
  },
  {
   "cell_type": "markdown",
   "id": "60382b34",
   "metadata": {},
   "source": [
    "This dataframe gives us information about text sent by users."
   ]
  },
  {
   "cell_type": "code",
   "execution_count": 22,
   "id": "618b2ef4",
   "metadata": {},
   "outputs": [
    {
     "data": {
      "text/plain": [
       "402"
      ]
     },
     "execution_count": 22,
     "metadata": {},
     "output_type": "execute_result"
    }
   ],
   "source": [
    "message.user_id.nunique()"
   ]
  },
  {
   "cell_type": "markdown",
   "id": "6ee92464",
   "metadata": {},
   "source": [
    "### Conclusion:\n",
    "20\\% of users do not have a messaging service."
   ]
  },
  {
   "cell_type": "code",
   "execution_count": 23,
   "id": "fbf123bc",
   "metadata": {},
   "outputs": [
    {
     "data": {
      "text/html": [
       "<div>\n",
       "<style scoped>\n",
       "    .dataframe tbody tr th:only-of-type {\n",
       "        vertical-align: middle;\n",
       "    }\n",
       "\n",
       "    .dataframe tbody tr th {\n",
       "        vertical-align: top;\n",
       "    }\n",
       "\n",
       "    .dataframe thead th {\n",
       "        text-align: right;\n",
       "    }\n",
       "</style>\n",
       "<table border=\"1\" class=\"dataframe\">\n",
       "  <thead>\n",
       "    <tr style=\"text-align: right;\">\n",
       "      <th></th>\n",
       "      <th>id</th>\n",
       "      <th>user_id</th>\n",
       "      <th>message_date</th>\n",
       "    </tr>\n",
       "  </thead>\n",
       "  <tbody>\n",
       "    <tr>\n",
       "      <th>0</th>\n",
       "      <td>1000_125</td>\n",
       "      <td>1000</td>\n",
       "      <td>2018-12-27</td>\n",
       "    </tr>\n",
       "    <tr>\n",
       "      <th>1</th>\n",
       "      <td>1000_160</td>\n",
       "      <td>1000</td>\n",
       "      <td>2018-12-31</td>\n",
       "    </tr>\n",
       "    <tr>\n",
       "      <th>2</th>\n",
       "      <td>1000_223</td>\n",
       "      <td>1000</td>\n",
       "      <td>2018-12-31</td>\n",
       "    </tr>\n",
       "    <tr>\n",
       "      <th>3</th>\n",
       "      <td>1000_251</td>\n",
       "      <td>1000</td>\n",
       "      <td>2018-12-27</td>\n",
       "    </tr>\n",
       "    <tr>\n",
       "      <th>4</th>\n",
       "      <td>1000_255</td>\n",
       "      <td>1000</td>\n",
       "      <td>2018-12-26</td>\n",
       "    </tr>\n",
       "  </tbody>\n",
       "</table>\n",
       "</div>"
      ],
      "text/plain": [
       "         id  user_id message_date\n",
       "0  1000_125     1000   2018-12-27\n",
       "1  1000_160     1000   2018-12-31\n",
       "2  1000_223     1000   2018-12-31\n",
       "3  1000_251     1000   2018-12-27\n",
       "4  1000_255     1000   2018-12-26"
      ]
     },
     "execution_count": 23,
     "metadata": {},
     "output_type": "execute_result"
    }
   ],
   "source": [
    "message.head()"
   ]
  },
  {
   "cell_type": "code",
   "execution_count": 24,
   "id": "1835c1a4",
   "metadata": {},
   "outputs": [
    {
     "data": {
      "text/plain": [
       "(76051, 3)"
      ]
     },
     "execution_count": 24,
     "metadata": {},
     "output_type": "execute_result"
    }
   ],
   "source": [
    "message.shape"
   ]
  },
  {
   "cell_type": "markdown",
   "id": "23605663",
   "metadata": {},
   "source": [
    "### Change data type"
   ]
  },
  {
   "cell_type": "code",
   "execution_count": 25,
   "id": "5c3775b6",
   "metadata": {},
   "outputs": [],
   "source": [
    "message.message_date = pd.to_datetime(message.message_date)"
   ]
  },
  {
   "cell_type": "markdown",
   "id": "f97e842c",
   "metadata": {},
   "source": [
    "Rename id to message_id"
   ]
  },
  {
   "cell_type": "code",
   "execution_count": 26,
   "id": "7fe75dbb",
   "metadata": {},
   "outputs": [],
   "source": [
    "message['message_id'] =  message['id']"
   ]
  },
  {
   "cell_type": "markdown",
   "id": "fc03f58b",
   "metadata": {},
   "source": [
    "### Check for duplicates"
   ]
  },
  {
   "cell_type": "code",
   "execution_count": 27,
   "id": "2f18a8df",
   "metadata": {},
   "outputs": [
    {
     "data": {
      "text/plain": [
       "0"
      ]
     },
     "execution_count": 27,
     "metadata": {},
     "output_type": "execute_result"
    }
   ],
   "source": [
    "message.duplicated().sum()"
   ]
  },
  {
   "cell_type": "markdown",
   "id": "46827a4f",
   "metadata": {},
   "source": [
    "### Create new column with month"
   ]
  },
  {
   "cell_type": "code",
   "execution_count": 28,
   "id": "19a725f8",
   "metadata": {},
   "outputs": [],
   "source": [
    "message['month'] = pd.to_datetime(message[\"message_date\"]).dt.month\n",
    "message['month'] = pd.to_datetime(message['month'], format='%m').dt.month_name().str.slice(stop=3)"
   ]
  },
  {
   "cell_type": "markdown",
   "id": "e8b9d58b",
   "metadata": {},
   "source": [
    "## Internet"
   ]
  },
  {
   "cell_type": "code",
   "execution_count": 29,
   "id": "c8938eb5",
   "metadata": {},
   "outputs": [
    {
     "name": "stdout",
     "output_type": "stream",
     "text": [
      "<class 'pandas.core.frame.DataFrame'>\n",
      "RangeIndex: 104825 entries, 0 to 104824\n",
      "Data columns (total 4 columns):\n",
      " #   Column        Non-Null Count   Dtype  \n",
      "---  ------        --------------   -----  \n",
      " 0   id            104825 non-null  object \n",
      " 1   user_id       104825 non-null  int64  \n",
      " 2   session_date  104825 non-null  object \n",
      " 3   mb_used       104825 non-null  float64\n",
      "dtypes: float64(1), int64(1), object(2)\n",
      "memory usage: 3.2+ MB\n"
     ]
    }
   ],
   "source": [
    "internet.info()"
   ]
  },
  {
   "cell_type": "markdown",
   "id": "fe492ebf",
   "metadata": {},
   "source": [
    "This dataframe gives use information about data usage of users."
   ]
  },
  {
   "cell_type": "code",
   "execution_count": 30,
   "id": "23b9008b",
   "metadata": {},
   "outputs": [
    {
     "data": {
      "text/plain": [
       "(104825, 4)"
      ]
     },
     "execution_count": 30,
     "metadata": {},
     "output_type": "execute_result"
    }
   ],
   "source": [
    "internet.shape"
   ]
  },
  {
   "cell_type": "code",
   "execution_count": 31,
   "id": "ad7d88db",
   "metadata": {},
   "outputs": [
    {
     "data": {
      "text/plain": [
       "489"
      ]
     },
     "execution_count": 31,
     "metadata": {},
     "output_type": "execute_result"
    }
   ],
   "source": [
    "internet.user_id.nunique()"
   ]
  },
  {
   "cell_type": "markdown",
   "id": "14d80542",
   "metadata": {},
   "source": [
    "### Conclusion\n",
    "A handful of users do not have internet service. "
   ]
  },
  {
   "cell_type": "markdown",
   "id": "edf9f031",
   "metadata": {},
   "source": [
    "### Change data type"
   ]
  },
  {
   "cell_type": "code",
   "execution_count": 32,
   "id": "4637e2c5",
   "metadata": {},
   "outputs": [],
   "source": [
    "internet.session_date = pd.to_datetime(internet.session_date)"
   ]
  },
  {
   "cell_type": "markdown",
   "id": "18518797",
   "metadata": {},
   "source": [
    "Rename id internet_id"
   ]
  },
  {
   "cell_type": "code",
   "execution_count": 33,
   "id": "50503da8",
   "metadata": {},
   "outputs": [],
   "source": [
    "internet['internet_id'] =  internet['id']"
   ]
  },
  {
   "cell_type": "markdown",
   "id": "10dbf0fd",
   "metadata": {},
   "source": [
    "### Check for duplicates"
   ]
  },
  {
   "cell_type": "code",
   "execution_count": 34,
   "id": "dd503292",
   "metadata": {},
   "outputs": [
    {
     "data": {
      "text/plain": [
       "0"
      ]
     },
     "execution_count": 34,
     "metadata": {},
     "output_type": "execute_result"
    }
   ],
   "source": [
    "internet.duplicated().sum()"
   ]
  },
  {
   "cell_type": "markdown",
   "id": "5bada79b",
   "metadata": {},
   "source": [
    "### Create new column with month"
   ]
  },
  {
   "cell_type": "code",
   "execution_count": 35,
   "id": "6b75b569",
   "metadata": {},
   "outputs": [],
   "source": [
    "internet['month'] = pd.to_datetime(internet[\"session_date\"]).dt.month\n",
    "internet['month'] = pd.to_datetime(internet['month'], format='%m').dt.month_name().str.slice(stop=3)"
   ]
  },
  {
   "cell_type": "markdown",
   "id": "7d0778e1",
   "metadata": {},
   "source": [
    "# Merge the dataframes\n",
    "Strategy: We have 5 different dataframes, 3 for each type of data, i.e., one for message, one for call, and one for internet.  The next two are user and plan information.  As such, these last two will be merged as one.  The shape of this merged dataframe should be equal to 500.  Then, the resulting dataframe will be merged with message, call, and internet to form 3 different dataframes with different frames."
   ]
  },
  {
   "cell_type": "markdown",
   "id": "b831f2e0",
   "metadata": {},
   "source": [
    "## user_plus_plan\n",
    "\n",
    "Join user table with plan table, inner joining user.plan and plan.plan_name.  I have used a left_on/right_on merge to join the dataframes on the plan_name. The final general information dataframe still consists of 500 observations.  I will then connect it to the other service dataframes and have 3 final dataframes, one for each service."
   ]
  },
  {
   "cell_type": "code",
   "execution_count": 36,
   "id": "165e4150",
   "metadata": {},
   "outputs": [
    {
     "data": {
      "text/html": [
       "<div>\n",
       "<style scoped>\n",
       "    .dataframe tbody tr th:only-of-type {\n",
       "        vertical-align: middle;\n",
       "    }\n",
       "\n",
       "    .dataframe tbody tr th {\n",
       "        vertical-align: top;\n",
       "    }\n",
       "\n",
       "    .dataframe thead th {\n",
       "        text-align: right;\n",
       "    }\n",
       "</style>\n",
       "<table border=\"1\" class=\"dataframe\">\n",
       "  <thead>\n",
       "    <tr style=\"text-align: right;\">\n",
       "      <th></th>\n",
       "      <th>messages_included</th>\n",
       "      <th>mb_per_month_included</th>\n",
       "      <th>minutes_included</th>\n",
       "      <th>usd_monthly_pay</th>\n",
       "      <th>usd_per_gb</th>\n",
       "      <th>usd_per_message</th>\n",
       "      <th>usd_per_minute</th>\n",
       "      <th>plan_name</th>\n",
       "      <th>gb_per_month_included</th>\n",
       "    </tr>\n",
       "  </thead>\n",
       "  <tbody>\n",
       "    <tr>\n",
       "      <th>0</th>\n",
       "      <td>50</td>\n",
       "      <td>15360</td>\n",
       "      <td>500</td>\n",
       "      <td>20</td>\n",
       "      <td>10</td>\n",
       "      <td>0.03</td>\n",
       "      <td>0.03</td>\n",
       "      <td>surf</td>\n",
       "      <td>15.0</td>\n",
       "    </tr>\n",
       "    <tr>\n",
       "      <th>1</th>\n",
       "      <td>1000</td>\n",
       "      <td>30720</td>\n",
       "      <td>3000</td>\n",
       "      <td>70</td>\n",
       "      <td>7</td>\n",
       "      <td>0.01</td>\n",
       "      <td>0.01</td>\n",
       "      <td>ultimate</td>\n",
       "      <td>30.0</td>\n",
       "    </tr>\n",
       "  </tbody>\n",
       "</table>\n",
       "</div>"
      ],
      "text/plain": [
       "   messages_included  mb_per_month_included  minutes_included  \\\n",
       "0                 50                  15360               500   \n",
       "1               1000                  30720              3000   \n",
       "\n",
       "   usd_monthly_pay  usd_per_gb  usd_per_message  usd_per_minute plan_name  \\\n",
       "0               20          10             0.03            0.03      surf   \n",
       "1               70           7             0.01            0.01  ultimate   \n",
       "\n",
       "   gb_per_month_included  \n",
       "0                   15.0  \n",
       "1                   30.0  "
      ]
     },
     "execution_count": 36,
     "metadata": {},
     "output_type": "execute_result"
    }
   ],
   "source": [
    "plan.head(2)"
   ]
  },
  {
   "cell_type": "code",
   "execution_count": 37,
   "id": "846ca5e1",
   "metadata": {},
   "outputs": [
    {
     "data": {
      "text/html": [
       "<div>\n",
       "<style scoped>\n",
       "    .dataframe tbody tr th:only-of-type {\n",
       "        vertical-align: middle;\n",
       "    }\n",
       "\n",
       "    .dataframe tbody tr th {\n",
       "        vertical-align: top;\n",
       "    }\n",
       "\n",
       "    .dataframe thead th {\n",
       "        text-align: right;\n",
       "    }\n",
       "</style>\n",
       "<table border=\"1\" class=\"dataframe\">\n",
       "  <thead>\n",
       "    <tr style=\"text-align: right;\">\n",
       "      <th></th>\n",
       "      <th>user_id</th>\n",
       "      <th>first_name</th>\n",
       "      <th>last_name</th>\n",
       "      <th>age</th>\n",
       "      <th>city</th>\n",
       "      <th>reg_date</th>\n",
       "      <th>plan</th>\n",
       "      <th>churn_date</th>\n",
       "    </tr>\n",
       "  </thead>\n",
       "  <tbody>\n",
       "    <tr>\n",
       "      <th>0</th>\n",
       "      <td>1000</td>\n",
       "      <td>Anamaria</td>\n",
       "      <td>Bauer</td>\n",
       "      <td>45</td>\n",
       "      <td>Atlanta-Sandy Springs-Roswell, GA MSA</td>\n",
       "      <td>2018-12-24</td>\n",
       "      <td>ultimate</td>\n",
       "      <td>NaT</td>\n",
       "    </tr>\n",
       "  </tbody>\n",
       "</table>\n",
       "</div>"
      ],
      "text/plain": [
       "   user_id first_name last_name  age                                   city  \\\n",
       "0     1000   Anamaria     Bauer   45  Atlanta-Sandy Springs-Roswell, GA MSA   \n",
       "\n",
       "    reg_date      plan churn_date  \n",
       "0 2018-12-24  ultimate        NaT  "
      ]
     },
     "execution_count": 37,
     "metadata": {},
     "output_type": "execute_result"
    }
   ],
   "source": [
    "users.head(1)"
   ]
  },
  {
   "cell_type": "code",
   "execution_count": 38,
   "id": "39d9fe50",
   "metadata": {},
   "outputs": [],
   "source": [
    "user_plus_plan = pd.merge(users, plan, left_on=\"plan\", right_on=\"plan_name\")"
   ]
  },
  {
   "cell_type": "code",
   "execution_count": 39,
   "id": "ddb0715b",
   "metadata": {},
   "outputs": [
    {
     "data": {
      "text/plain": [
       "(500, 17)"
      ]
     },
     "execution_count": 39,
     "metadata": {},
     "output_type": "execute_result"
    }
   ],
   "source": [
    "user_plus_plan.shape"
   ]
  },
  {
   "cell_type": "markdown",
   "id": "98aac7dc",
   "metadata": {},
   "source": [
    "## user_plus_plan_call\n",
    "user_plus_plan_call: join user_plus_plan dataframe with call dataframe, left join with user_plus_plan.id and call.user_id.  The resulting dataframe should take the size of size of rows in call, i.e. 13,7735."
   ]
  },
  {
   "cell_type": "code",
   "execution_count": 40,
   "id": "b3d8a5c0",
   "metadata": {},
   "outputs": [
    {
     "data": {
      "text/plain": [
       "(137735, 6)"
      ]
     },
     "execution_count": 40,
     "metadata": {},
     "output_type": "execute_result"
    }
   ],
   "source": [
    "call.shape"
   ]
  },
  {
   "cell_type": "code",
   "execution_count": 41,
   "id": "46b48eb2",
   "metadata": {},
   "outputs": [
    {
     "data": {
      "text/html": [
       "<div>\n",
       "<style scoped>\n",
       "    .dataframe tbody tr th:only-of-type {\n",
       "        vertical-align: middle;\n",
       "    }\n",
       "\n",
       "    .dataframe tbody tr th {\n",
       "        vertical-align: top;\n",
       "    }\n",
       "\n",
       "    .dataframe thead th {\n",
       "        text-align: right;\n",
       "    }\n",
       "</style>\n",
       "<table border=\"1\" class=\"dataframe\">\n",
       "  <thead>\n",
       "    <tr style=\"text-align: right;\">\n",
       "      <th></th>\n",
       "      <th>user_id</th>\n",
       "      <th>first_name</th>\n",
       "      <th>last_name</th>\n",
       "      <th>age</th>\n",
       "      <th>city</th>\n",
       "      <th>reg_date</th>\n",
       "      <th>plan</th>\n",
       "      <th>churn_date</th>\n",
       "      <th>messages_included</th>\n",
       "      <th>mb_per_month_included</th>\n",
       "      <th>minutes_included</th>\n",
       "      <th>usd_monthly_pay</th>\n",
       "      <th>usd_per_gb</th>\n",
       "      <th>usd_per_message</th>\n",
       "      <th>usd_per_minute</th>\n",
       "      <th>plan_name</th>\n",
       "      <th>gb_per_month_included</th>\n",
       "    </tr>\n",
       "  </thead>\n",
       "  <tbody>\n",
       "    <tr>\n",
       "      <th>0</th>\n",
       "      <td>1000</td>\n",
       "      <td>Anamaria</td>\n",
       "      <td>Bauer</td>\n",
       "      <td>45</td>\n",
       "      <td>Atlanta-Sandy Springs-Roswell, GA MSA</td>\n",
       "      <td>2018-12-24</td>\n",
       "      <td>ultimate</td>\n",
       "      <td>NaT</td>\n",
       "      <td>1000</td>\n",
       "      <td>30720</td>\n",
       "      <td>3000</td>\n",
       "      <td>70</td>\n",
       "      <td>7</td>\n",
       "      <td>0.01</td>\n",
       "      <td>0.01</td>\n",
       "      <td>ultimate</td>\n",
       "      <td>30.0</td>\n",
       "    </tr>\n",
       "  </tbody>\n",
       "</table>\n",
       "</div>"
      ],
      "text/plain": [
       "   user_id first_name last_name  age                                   city  \\\n",
       "0     1000   Anamaria     Bauer   45  Atlanta-Sandy Springs-Roswell, GA MSA   \n",
       "\n",
       "    reg_date      plan churn_date  messages_included  mb_per_month_included  \\\n",
       "0 2018-12-24  ultimate        NaT               1000                  30720   \n",
       "\n",
       "   minutes_included  usd_monthly_pay  usd_per_gb  usd_per_message  \\\n",
       "0              3000               70           7             0.01   \n",
       "\n",
       "   usd_per_minute plan_name  gb_per_month_included  \n",
       "0            0.01  ultimate                   30.0  "
      ]
     },
     "execution_count": 41,
     "metadata": {},
     "output_type": "execute_result"
    }
   ],
   "source": [
    "user_plus_plan.head(1)"
   ]
  },
  {
   "cell_type": "code",
   "execution_count": 42,
   "id": "2c8136a5",
   "metadata": {},
   "outputs": [],
   "source": [
    "user_plus_plan_call = pd.merge(user_plus_plan, call, how=\"left\", on=\"user_id\")"
   ]
  },
  {
   "cell_type": "code",
   "execution_count": 43,
   "id": "bb3d64a3",
   "metadata": {},
   "outputs": [
    {
     "data": {
      "text/plain": [
       "(137754, 22)"
      ]
     },
     "execution_count": 43,
     "metadata": {},
     "output_type": "execute_result"
    }
   ],
   "source": [
    "user_plus_plan_call.shape"
   ]
  },
  {
   "cell_type": "code",
   "execution_count": 44,
   "id": "d0b6528a",
   "metadata": {},
   "outputs": [
    {
     "data": {
      "text/html": [
       "<div>\n",
       "<style scoped>\n",
       "    .dataframe tbody tr th:only-of-type {\n",
       "        vertical-align: middle;\n",
       "    }\n",
       "\n",
       "    .dataframe tbody tr th {\n",
       "        vertical-align: top;\n",
       "    }\n",
       "\n",
       "    .dataframe thead th {\n",
       "        text-align: right;\n",
       "    }\n",
       "</style>\n",
       "<table border=\"1\" class=\"dataframe\">\n",
       "  <thead>\n",
       "    <tr style=\"text-align: right;\">\n",
       "      <th></th>\n",
       "      <th>user_id</th>\n",
       "      <th>first_name</th>\n",
       "      <th>last_name</th>\n",
       "      <th>age</th>\n",
       "      <th>city</th>\n",
       "      <th>reg_date</th>\n",
       "      <th>plan</th>\n",
       "      <th>churn_date</th>\n",
       "      <th>messages_included</th>\n",
       "      <th>mb_per_month_included</th>\n",
       "      <th>...</th>\n",
       "      <th>usd_per_gb</th>\n",
       "      <th>usd_per_message</th>\n",
       "      <th>usd_per_minute</th>\n",
       "      <th>plan_name</th>\n",
       "      <th>gb_per_month_included</th>\n",
       "      <th>id</th>\n",
       "      <th>call_date</th>\n",
       "      <th>duration</th>\n",
       "      <th>call_id</th>\n",
       "      <th>month</th>\n",
       "    </tr>\n",
       "  </thead>\n",
       "  <tbody>\n",
       "    <tr>\n",
       "      <th>0</th>\n",
       "      <td>1000</td>\n",
       "      <td>Anamaria</td>\n",
       "      <td>Bauer</td>\n",
       "      <td>45</td>\n",
       "      <td>Atlanta-Sandy Springs-Roswell, GA MSA</td>\n",
       "      <td>2018-12-24</td>\n",
       "      <td>ultimate</td>\n",
       "      <td>NaT</td>\n",
       "      <td>1000</td>\n",
       "      <td>30720</td>\n",
       "      <td>...</td>\n",
       "      <td>7</td>\n",
       "      <td>0.01</td>\n",
       "      <td>0.01</td>\n",
       "      <td>ultimate</td>\n",
       "      <td>30.0</td>\n",
       "      <td>1000_93</td>\n",
       "      <td>2018-12-27</td>\n",
       "      <td>8.52</td>\n",
       "      <td>1000_93</td>\n",
       "      <td>Dec</td>\n",
       "    </tr>\n",
       "  </tbody>\n",
       "</table>\n",
       "<p>1 rows × 22 columns</p>\n",
       "</div>"
      ],
      "text/plain": [
       "   user_id first_name last_name  age                                   city  \\\n",
       "0     1000   Anamaria     Bauer   45  Atlanta-Sandy Springs-Roswell, GA MSA   \n",
       "\n",
       "    reg_date      plan churn_date  messages_included  mb_per_month_included  \\\n",
       "0 2018-12-24  ultimate        NaT               1000                  30720   \n",
       "\n",
       "   ...  usd_per_gb  usd_per_message  usd_per_minute  plan_name  \\\n",
       "0  ...           7             0.01            0.01   ultimate   \n",
       "\n",
       "   gb_per_month_included       id  call_date duration  call_id  month  \n",
       "0                   30.0  1000_93 2018-12-27     8.52  1000_93    Dec  \n",
       "\n",
       "[1 rows x 22 columns]"
      ]
     },
     "execution_count": 44,
     "metadata": {},
     "output_type": "execute_result"
    }
   ],
   "source": [
    "user_plus_plan_call.head(1)"
   ]
  },
  {
   "cell_type": "markdown",
   "id": "d7e5703f",
   "metadata": {},
   "source": [
    "## user_plus_plan_message\n",
    "User_plus_plan dataframe with message table, left join with user_plus_plan.id and message.user_id.  The resulting dataframe should have the number of rows in message."
   ]
  },
  {
   "cell_type": "code",
   "execution_count": 45,
   "id": "b123bc7d",
   "metadata": {},
   "outputs": [
    {
     "data": {
      "text/plain": [
       "(76051, 5)"
      ]
     },
     "execution_count": 45,
     "metadata": {},
     "output_type": "execute_result"
    }
   ],
   "source": [
    "message.shape"
   ]
  },
  {
   "cell_type": "code",
   "execution_count": 46,
   "id": "add9142f",
   "metadata": {},
   "outputs": [
    {
     "data": {
      "text/html": [
       "<div>\n",
       "<style scoped>\n",
       "    .dataframe tbody tr th:only-of-type {\n",
       "        vertical-align: middle;\n",
       "    }\n",
       "\n",
       "    .dataframe tbody tr th {\n",
       "        vertical-align: top;\n",
       "    }\n",
       "\n",
       "    .dataframe thead th {\n",
       "        text-align: right;\n",
       "    }\n",
       "</style>\n",
       "<table border=\"1\" class=\"dataframe\">\n",
       "  <thead>\n",
       "    <tr style=\"text-align: right;\">\n",
       "      <th></th>\n",
       "      <th>id</th>\n",
       "      <th>user_id</th>\n",
       "      <th>message_date</th>\n",
       "      <th>message_id</th>\n",
       "      <th>month</th>\n",
       "    </tr>\n",
       "  </thead>\n",
       "  <tbody>\n",
       "    <tr>\n",
       "      <th>0</th>\n",
       "      <td>1000_125</td>\n",
       "      <td>1000</td>\n",
       "      <td>2018-12-27</td>\n",
       "      <td>1000_125</td>\n",
       "      <td>Dec</td>\n",
       "    </tr>\n",
       "  </tbody>\n",
       "</table>\n",
       "</div>"
      ],
      "text/plain": [
       "         id  user_id message_date message_id month\n",
       "0  1000_125     1000   2018-12-27   1000_125   Dec"
      ]
     },
     "execution_count": 46,
     "metadata": {},
     "output_type": "execute_result"
    }
   ],
   "source": [
    "message.head(1)"
   ]
  },
  {
   "cell_type": "code",
   "execution_count": 47,
   "id": "744ac05d",
   "metadata": {},
   "outputs": [
    {
     "data": {
      "text/html": [
       "<div>\n",
       "<style scoped>\n",
       "    .dataframe tbody tr th:only-of-type {\n",
       "        vertical-align: middle;\n",
       "    }\n",
       "\n",
       "    .dataframe tbody tr th {\n",
       "        vertical-align: top;\n",
       "    }\n",
       "\n",
       "    .dataframe thead th {\n",
       "        text-align: right;\n",
       "    }\n",
       "</style>\n",
       "<table border=\"1\" class=\"dataframe\">\n",
       "  <thead>\n",
       "    <tr style=\"text-align: right;\">\n",
       "      <th></th>\n",
       "      <th>user_id</th>\n",
       "      <th>first_name</th>\n",
       "      <th>last_name</th>\n",
       "      <th>age</th>\n",
       "      <th>city</th>\n",
       "      <th>reg_date</th>\n",
       "      <th>plan</th>\n",
       "      <th>churn_date</th>\n",
       "      <th>messages_included</th>\n",
       "      <th>mb_per_month_included</th>\n",
       "      <th>minutes_included</th>\n",
       "      <th>usd_monthly_pay</th>\n",
       "      <th>usd_per_gb</th>\n",
       "      <th>usd_per_message</th>\n",
       "      <th>usd_per_minute</th>\n",
       "      <th>plan_name</th>\n",
       "      <th>gb_per_month_included</th>\n",
       "    </tr>\n",
       "  </thead>\n",
       "  <tbody>\n",
       "    <tr>\n",
       "      <th>0</th>\n",
       "      <td>1000</td>\n",
       "      <td>Anamaria</td>\n",
       "      <td>Bauer</td>\n",
       "      <td>45</td>\n",
       "      <td>Atlanta-Sandy Springs-Roswell, GA MSA</td>\n",
       "      <td>2018-12-24</td>\n",
       "      <td>ultimate</td>\n",
       "      <td>NaT</td>\n",
       "      <td>1000</td>\n",
       "      <td>30720</td>\n",
       "      <td>3000</td>\n",
       "      <td>70</td>\n",
       "      <td>7</td>\n",
       "      <td>0.01</td>\n",
       "      <td>0.01</td>\n",
       "      <td>ultimate</td>\n",
       "      <td>30.0</td>\n",
       "    </tr>\n",
       "  </tbody>\n",
       "</table>\n",
       "</div>"
      ],
      "text/plain": [
       "   user_id first_name last_name  age                                   city  \\\n",
       "0     1000   Anamaria     Bauer   45  Atlanta-Sandy Springs-Roswell, GA MSA   \n",
       "\n",
       "    reg_date      plan churn_date  messages_included  mb_per_month_included  \\\n",
       "0 2018-12-24  ultimate        NaT               1000                  30720   \n",
       "\n",
       "   minutes_included  usd_monthly_pay  usd_per_gb  usd_per_message  \\\n",
       "0              3000               70           7             0.01   \n",
       "\n",
       "   usd_per_minute plan_name  gb_per_month_included  \n",
       "0            0.01  ultimate                   30.0  "
      ]
     },
     "execution_count": 47,
     "metadata": {},
     "output_type": "execute_result"
    }
   ],
   "source": [
    "user_plus_plan.head(1)"
   ]
  },
  {
   "cell_type": "code",
   "execution_count": 48,
   "id": "08cba0e8",
   "metadata": {},
   "outputs": [],
   "source": [
    "user_plus_plan_message = pd.merge(user_plus_plan, message, how=\"left\", on=\"user_id\")"
   ]
  },
  {
   "cell_type": "code",
   "execution_count": 49,
   "id": "2e49062c",
   "metadata": {},
   "outputs": [
    {
     "data": {
      "text/plain": [
       "(76149, 21)"
      ]
     },
     "execution_count": 49,
     "metadata": {},
     "output_type": "execute_result"
    }
   ],
   "source": [
    "user_plus_plan_message.shape"
   ]
  },
  {
   "cell_type": "markdown",
   "id": "f92353e3",
   "metadata": {},
   "source": [
    "## user_plus_plan_internet\n",
    "User_plus_plan table with internet table, left join with user_plus_plan.id and message.user_id.  The resulting dataframe should have the number of rows in internet, i.e. 104,825.????"
   ]
  },
  {
   "cell_type": "code",
   "execution_count": 50,
   "id": "1671eb8a",
   "metadata": {},
   "outputs": [
    {
     "data": {
      "text/plain": [
       "(104825, 6)"
      ]
     },
     "execution_count": 50,
     "metadata": {},
     "output_type": "execute_result"
    }
   ],
   "source": [
    "internet.shape"
   ]
  },
  {
   "cell_type": "code",
   "execution_count": 51,
   "id": "baae17aa",
   "metadata": {},
   "outputs": [
    {
     "data": {
      "text/html": [
       "<div>\n",
       "<style scoped>\n",
       "    .dataframe tbody tr th:only-of-type {\n",
       "        vertical-align: middle;\n",
       "    }\n",
       "\n",
       "    .dataframe tbody tr th {\n",
       "        vertical-align: top;\n",
       "    }\n",
       "\n",
       "    .dataframe thead th {\n",
       "        text-align: right;\n",
       "    }\n",
       "</style>\n",
       "<table border=\"1\" class=\"dataframe\">\n",
       "  <thead>\n",
       "    <tr style=\"text-align: right;\">\n",
       "      <th></th>\n",
       "      <th>id</th>\n",
       "      <th>user_id</th>\n",
       "      <th>session_date</th>\n",
       "      <th>mb_used</th>\n",
       "      <th>internet_id</th>\n",
       "      <th>month</th>\n",
       "    </tr>\n",
       "  </thead>\n",
       "  <tbody>\n",
       "    <tr>\n",
       "      <th>0</th>\n",
       "      <td>1000_13</td>\n",
       "      <td>1000</td>\n",
       "      <td>2018-12-29</td>\n",
       "      <td>89.86</td>\n",
       "      <td>1000_13</td>\n",
       "      <td>Dec</td>\n",
       "    </tr>\n",
       "  </tbody>\n",
       "</table>\n",
       "</div>"
      ],
      "text/plain": [
       "        id  user_id session_date  mb_used internet_id month\n",
       "0  1000_13     1000   2018-12-29    89.86     1000_13   Dec"
      ]
     },
     "execution_count": 51,
     "metadata": {},
     "output_type": "execute_result"
    }
   ],
   "source": [
    "internet.head(1)"
   ]
  },
  {
   "cell_type": "code",
   "execution_count": 52,
   "id": "27c588c8",
   "metadata": {},
   "outputs": [
    {
     "data": {
      "text/html": [
       "<div>\n",
       "<style scoped>\n",
       "    .dataframe tbody tr th:only-of-type {\n",
       "        vertical-align: middle;\n",
       "    }\n",
       "\n",
       "    .dataframe tbody tr th {\n",
       "        vertical-align: top;\n",
       "    }\n",
       "\n",
       "    .dataframe thead th {\n",
       "        text-align: right;\n",
       "    }\n",
       "</style>\n",
       "<table border=\"1\" class=\"dataframe\">\n",
       "  <thead>\n",
       "    <tr style=\"text-align: right;\">\n",
       "      <th></th>\n",
       "      <th>user_id</th>\n",
       "      <th>first_name</th>\n",
       "      <th>last_name</th>\n",
       "      <th>age</th>\n",
       "      <th>city</th>\n",
       "      <th>reg_date</th>\n",
       "      <th>plan</th>\n",
       "      <th>churn_date</th>\n",
       "      <th>messages_included</th>\n",
       "      <th>mb_per_month_included</th>\n",
       "      <th>minutes_included</th>\n",
       "      <th>usd_monthly_pay</th>\n",
       "      <th>usd_per_gb</th>\n",
       "      <th>usd_per_message</th>\n",
       "      <th>usd_per_minute</th>\n",
       "      <th>plan_name</th>\n",
       "      <th>gb_per_month_included</th>\n",
       "    </tr>\n",
       "  </thead>\n",
       "  <tbody>\n",
       "    <tr>\n",
       "      <th>0</th>\n",
       "      <td>1000</td>\n",
       "      <td>Anamaria</td>\n",
       "      <td>Bauer</td>\n",
       "      <td>45</td>\n",
       "      <td>Atlanta-Sandy Springs-Roswell, GA MSA</td>\n",
       "      <td>2018-12-24</td>\n",
       "      <td>ultimate</td>\n",
       "      <td>NaT</td>\n",
       "      <td>1000</td>\n",
       "      <td>30720</td>\n",
       "      <td>3000</td>\n",
       "      <td>70</td>\n",
       "      <td>7</td>\n",
       "      <td>0.01</td>\n",
       "      <td>0.01</td>\n",
       "      <td>ultimate</td>\n",
       "      <td>30.0</td>\n",
       "    </tr>\n",
       "  </tbody>\n",
       "</table>\n",
       "</div>"
      ],
      "text/plain": [
       "   user_id first_name last_name  age                                   city  \\\n",
       "0     1000   Anamaria     Bauer   45  Atlanta-Sandy Springs-Roswell, GA MSA   \n",
       "\n",
       "    reg_date      plan churn_date  messages_included  mb_per_month_included  \\\n",
       "0 2018-12-24  ultimate        NaT               1000                  30720   \n",
       "\n",
       "   minutes_included  usd_monthly_pay  usd_per_gb  usd_per_message  \\\n",
       "0              3000               70           7             0.01   \n",
       "\n",
       "   usd_per_minute plan_name  gb_per_month_included  \n",
       "0            0.01  ultimate                   30.0  "
      ]
     },
     "execution_count": 52,
     "metadata": {},
     "output_type": "execute_result"
    }
   ],
   "source": [
    "user_plus_plan.head(1)"
   ]
  },
  {
   "cell_type": "code",
   "execution_count": 53,
   "id": "bf67f612",
   "metadata": {},
   "outputs": [],
   "source": [
    "user_plus_plan_internet = pd.merge(user_plus_plan, internet, how=\"left\", on=\"user_id\")"
   ]
  },
  {
   "cell_type": "code",
   "execution_count": 54,
   "id": "8ab029b1",
   "metadata": {},
   "outputs": [
    {
     "data": {
      "text/plain": [
       "(104836, 22)"
      ]
     },
     "execution_count": 54,
     "metadata": {},
     "output_type": "execute_result"
    }
   ],
   "source": [
    "user_plus_plan_internet.shape"
   ]
  },
  {
   "cell_type": "markdown",
   "id": "08b0faf5",
   "metadata": {},
   "source": [
    "# For each monthly user, find:"
   ]
  },
  {
   "cell_type": "markdown",
   "id": "2f064df7",
   "metadata": {},
   "source": [
    "## The number of calls made and minutes used per month"
   ]
  },
  {
   "cell_type": "markdown",
   "id": "3a5ac037",
   "metadata": {},
   "source": [
    "I use count here not sum because we are interested in the number of calls"
   ]
  },
  {
   "cell_type": "code",
   "execution_count": 55,
   "id": "8f05e7b0",
   "metadata": {},
   "outputs": [],
   "source": [
    "user_plus_plan_call['monthly_calls_user'] = user_plus_plan_call.groupby(\n",
    "    [\"user_id\", \"month\"])[\"id\"].transform(\"count\")"
   ]
  },
  {
   "cell_type": "markdown",
   "id": "7003cc9e",
   "metadata": {},
   "source": [
    "### Understand the distribution of monthly_calls_user"
   ]
  },
  {
   "cell_type": "code",
   "execution_count": 56,
   "id": "26d99d8a",
   "metadata": {},
   "outputs": [
    {
     "data": {
      "image/png": "[encoded data removed]",
      "text/plain": [
       "<Figure size 432x288 with 1 Axes>"
      ]
     },
     "metadata": {
      "needs_background": "light"
     },
     "output_type": "display_data"
    }
   ],
   "source": [
    "user_plus_plan_call['monthly_calls_user'].hist(bins = 50);"
   ]
  },
  {
   "cell_type": "markdown",
   "id": "fafb18f9",
   "metadata": {},
   "source": [
    "The distribution is normalish, but lets use a normality test."
   ]
  },
  {
   "cell_type": "code",
   "execution_count": 57,
   "id": "87527bd8",
   "metadata": {},
   "outputs": [
    {
     "name": "stdout",
     "output_type": "stream",
     "text": [
      "Defaulting to user installation because normal site-packages is not writeable\n",
      "Requirement already satisfied: pingouin in /home/jovyan/.local/lib/python3.7/site-packages (0.5.1)\n",
      "Requirement already satisfied: seaborn>=0.11 in /home/jovyan/.local/lib/python3.7/site-packages (from pingouin) (0.11.2)\n",
      "Requirement already satisfied: tabulate in /home/jovyan/.local/lib/python3.7/site-packages (from pingouin) (0.8.9)\n",
      "Requirement already satisfied: pandas-flavor>=0.2.0 in /home/jovyan/.local/lib/python3.7/site-packages (from pingouin) (0.2.0)\n",
      "Requirement already satisfied: numpy>=1.19 in /opt/conda/lib/python3.7/site-packages (from pingouin) (1.19.5)\n",
      "Requirement already satisfied: matplotlib>=3.0.2 in /opt/conda/lib/python3.7/site-packages (from pingouin) (3.1.0)\n",
      "Requirement already satisfied: pandas>=1.0 in /home/jovyan/.local/lib/python3.7/site-packages (from pingouin) (1.3.5)\n",
      "Requirement already satisfied: outdated in /home/jovyan/.local/lib/python3.7/site-packages (from pingouin) (0.2.1)\n",
      "Requirement already satisfied: scipy>=1.7 in /home/jovyan/.local/lib/python3.7/site-packages (from pingouin) (1.7.3)\n",
      "Requirement already satisfied: statsmodels>=0.13 in /home/jovyan/.local/lib/python3.7/site-packages (from pingouin) (0.13.2)\n",
      "Requirement already satisfied: scikit-learn in /opt/conda/lib/python3.7/site-packages (from pingouin) (0.21.2)\n",
      "Requirement already satisfied: xarray in /home/jovyan/.local/lib/python3.7/site-packages (from pandas-flavor>=0.2.0->pingouin) (0.20.2)\n",
      "Requirement already satisfied: kiwisolver>=1.0.1 in /opt/conda/lib/python3.7/site-packages (from matplotlib>=3.0.2->pingouin) (1.3.1)\n",
      "Requirement already satisfied: python-dateutil>=2.1 in /opt/conda/lib/python3.7/site-packages (from matplotlib>=3.0.2->pingouin) (2.8.1)\n",
      "Requirement already satisfied: cycler>=0.10 in /opt/conda/lib/python3.7/site-packages (from matplotlib>=3.0.2->pingouin) (0.10.0)\n",
      "Requirement already satisfied: pyparsing!=2.0.4,!=2.1.2,!=2.1.6,>=2.0.1 in /opt/conda/lib/python3.7/site-packages (from matplotlib>=3.0.2->pingouin) (2.4.7)\n",
      "Requirement already satisfied: pytz>=2017.3 in /opt/conda/lib/python3.7/site-packages (from pandas>=1.0->pingouin) (2021.1)\n",
      "Requirement already satisfied: requests in /opt/conda/lib/python3.7/site-packages (from outdated->pingouin) (2.22.0)\n",
      "Requirement already satisfied: littleutils in /home/jovyan/.local/lib/python3.7/site-packages (from outdated->pingouin) (0.2.2)\n",
      "Requirement already satisfied: packaging>=21.3 in /home/jovyan/.local/lib/python3.7/site-packages (from statsmodels>=0.13->pingouin) (21.3)\n",
      "Requirement already satisfied: patsy>=0.5.2 in /home/jovyan/.local/lib/python3.7/site-packages (from statsmodels>=0.13->pingouin) (0.5.2)\n",
      "Requirement already satisfied: joblib>=0.11 in /opt/conda/lib/python3.7/site-packages (from scikit-learn->pingouin) (1.0.1)\n",
      "Requirement already satisfied: typing-extensions>=3.7; python_version < \"3.8\" in /home/jovyan/.local/lib/python3.7/site-packages (from xarray->pandas-flavor>=0.2.0->pingouin) (4.1.1)\n",
      "Requirement already satisfied: importlib-metadata; python_version < \"3.8\" in /opt/conda/lib/python3.7/site-packages (from xarray->pandas-flavor>=0.2.0->pingouin) (2.0.0)\n",
      "Requirement already satisfied: six>=1.5 in /opt/conda/lib/python3.7/site-packages (from python-dateutil>=2.1->matplotlib>=3.0.2->pingouin) (1.15.0)\n",
      "Requirement already satisfied: certifi>=2017.4.17 in /opt/conda/lib/python3.7/site-packages (from requests->outdated->pingouin) (2021.5.30)\n",
      "Requirement already satisfied: chardet<3.1.0,>=3.0.2 in /opt/conda/lib/python3.7/site-packages (from requests->outdated->pingouin) (3.0.4)\n",
      "Requirement already satisfied: idna<2.9,>=2.5 in /opt/conda/lib/python3.7/site-packages (from requests->outdated->pingouin) (2.8)\n",
      "Requirement already satisfied: urllib3!=1.25.0,!=1.25.1,<1.26,>=1.21.1 in /opt/conda/lib/python3.7/site-packages (from requests->outdated->pingouin) (1.25.11)\n",
      "Requirement already satisfied: zipp>=0.5 in /opt/conda/lib/python3.7/site-packages (from importlib-metadata; python_version < \"3.8\"->xarray->pandas-flavor>=0.2.0->pingouin) (3.4.0)\n",
      "Note: you may need to restart the kernel to use updated packages.\n"
     ]
    }
   ],
   "source": [
    "try:\n",
    "    pg.normality(user_plus_plan_call['monthly_calls_user'], method='normaltest')\n",
    "except:\n",
    "    %pip install pingouin\n",
    "    import pingouin as pg\n",
    "    pg.normality(user_plus_plan_call['monthly_calls_user'], method='normaltest')"
   ]
  },
  {
   "cell_type": "code",
   "execution_count": 58,
   "id": "9fe95063",
   "metadata": {},
   "outputs": [
    {
     "data": {
      "text/html": [
       "<div>\n",
       "<style scoped>\n",
       "    .dataframe tbody tr th:only-of-type {\n",
       "        vertical-align: middle;\n",
       "    }\n",
       "\n",
       "    .dataframe tbody tr th {\n",
       "        vertical-align: top;\n",
       "    }\n",
       "\n",
       "    .dataframe thead th {\n",
       "        text-align: right;\n",
       "    }\n",
       "</style>\n",
       "<table border=\"1\" class=\"dataframe\">\n",
       "  <thead>\n",
       "    <tr style=\"text-align: right;\">\n",
       "      <th></th>\n",
       "      <th>W</th>\n",
       "      <th>pval</th>\n",
       "      <th>normal</th>\n",
       "    </tr>\n",
       "  </thead>\n",
       "  <tbody>\n",
       "    <tr>\n",
       "      <th>monthly_calls_user</th>\n",
       "      <td>13405.520881</td>\n",
       "      <td>0.0</td>\n",
       "      <td>False</td>\n",
       "    </tr>\n",
       "  </tbody>\n",
       "</table>\n",
       "</div>"
      ],
      "text/plain": [
       "                               W  pval  normal\n",
       "monthly_calls_user  13405.520881   0.0   False"
      ]
     },
     "execution_count": 58,
     "metadata": {},
     "output_type": "execute_result"
    }
   ],
   "source": [
    "pg.normality(user_plus_plan_call['monthly_calls_user'], method='normaltest')"
   ]
  },
  {
   "cell_type": "markdown",
   "id": "a1b7dc43",
   "metadata": {},
   "source": [
    "Actually, the distribution is not normal."
   ]
  },
  {
   "cell_type": "code",
   "execution_count": 59,
   "id": "025aabb5",
   "metadata": {},
   "outputs": [
    {
     "data": {
      "text/plain": [
       "77.5390496242785"
      ]
     },
     "execution_count": 59,
     "metadata": {},
     "output_type": "execute_result"
    }
   ],
   "source": [
    "user_plus_plan_call['monthly_calls_user'].mean()"
   ]
  },
  {
   "cell_type": "code",
   "execution_count": 60,
   "id": "b701fb15",
   "metadata": {},
   "outputs": [
    {
     "data": {
      "text/plain": [
       "74.0"
      ]
     },
     "execution_count": 60,
     "metadata": {},
     "output_type": "execute_result"
    }
   ],
   "source": [
    "user_plus_plan_call['monthly_calls_user'].median()"
   ]
  },
  {
   "cell_type": "markdown",
   "id": "17bd70a2",
   "metadata": {},
   "source": [
    "### Conclusion:\n",
    "The number of calls performed by users on a monthly does not pass the normality test. It has a mean around 77.5 calls per month, a median of 74, a min of 1 and a max of around 205."
   ]
  },
  {
   "cell_type": "markdown",
   "id": "ca9de06f",
   "metadata": {},
   "source": [
    "## Call duration"
   ]
  },
  {
   "cell_type": "markdown",
   "id": "49b069d4",
   "metadata": {},
   "source": [
    "### Duration without rounding"
   ]
  },
  {
   "cell_type": "code",
   "execution_count": 61,
   "id": "1b69b761",
   "metadata": {},
   "outputs": [],
   "source": [
    "user_plus_plan_call['duration1'] = user_plus_plan_call['duration']"
   ]
  },
  {
   "cell_type": "code",
   "execution_count": 62,
   "id": "443c9166",
   "metadata": {},
   "outputs": [],
   "source": [
    "user_plus_plan_call['monthly_duration_user1'] = user_plus_plan_call.groupby(\n",
    "    [\"user_id\", \"month\"])[\"duration1\"].transform(\"sum\")"
   ]
  },
  {
   "cell_type": "markdown",
   "id": "09f46884",
   "metadata": {},
   "source": [
    "### Round up each call"
   ]
  },
  {
   "cell_type": "code",
   "execution_count": 63,
   "id": "3febe3c2",
   "metadata": {},
   "outputs": [],
   "source": [
    "user_plus_plan_call['duration'] = user_plus_plan_call['duration'].apply(np.ceil)"
   ]
  },
  {
   "cell_type": "markdown",
   "id": "577c9d0a",
   "metadata": {},
   "source": [
    "Here instead of count, I sum the duration for calls"
   ]
  },
  {
   "cell_type": "code",
   "execution_count": 64,
   "id": "f1774937",
   "metadata": {},
   "outputs": [],
   "source": [
    "user_plus_plan_call['monthly_duration_user'] = user_plus_plan_call.groupby(\n",
    "    [\"user_id\", \"month\"])[\"duration\"].transform(\"sum\")"
   ]
  },
  {
   "cell_type": "markdown",
   "id": "7b0b3959",
   "metadata": {},
   "source": [
    "#### Conclusion:\n",
    "Using this rounding strategy for each call increases the monthly number of minutes per customer by 5.6\\% ."
   ]
  },
  {
   "cell_type": "markdown",
   "id": "bf792966",
   "metadata": {},
   "source": [
    "### Understand the distribution of monthly_duration_user"
   ]
  },
  {
   "cell_type": "code",
   "execution_count": 65,
   "id": "cffb52b2",
   "metadata": {},
   "outputs": [
    {
     "data": {
      "image/png": "[encoded data removed]",
      "text/plain": [
       "<Figure size 432x288 with 1 Axes>"
      ]
     },
     "metadata": {
      "needs_background": "light"
     },
     "output_type": "display_data"
    }
   ],
   "source": [
    "user_plus_plan_call['monthly_duration_user'].hist(bins = 50);"
   ]
  },
  {
   "cell_type": "code",
   "execution_count": 66,
   "id": "a634d504",
   "metadata": {},
   "outputs": [
    {
     "data": {
      "text/html": [
       "<div>\n",
       "<style scoped>\n",
       "    .dataframe tbody tr th:only-of-type {\n",
       "        vertical-align: middle;\n",
       "    }\n",
       "\n",
       "    .dataframe tbody tr th {\n",
       "        vertical-align: top;\n",
       "    }\n",
       "\n",
       "    .dataframe thead th {\n",
       "        text-align: right;\n",
       "    }\n",
       "</style>\n",
       "<table border=\"1\" class=\"dataframe\">\n",
       "  <thead>\n",
       "    <tr style=\"text-align: right;\">\n",
       "      <th></th>\n",
       "      <th>W</th>\n",
       "      <th>pval</th>\n",
       "      <th>normal</th>\n",
       "    </tr>\n",
       "  </thead>\n",
       "  <tbody>\n",
       "    <tr>\n",
       "      <th>monthly_duration_user</th>\n",
       "      <td>13179.633646</td>\n",
       "      <td>0.0</td>\n",
       "      <td>False</td>\n",
       "    </tr>\n",
       "  </tbody>\n",
       "</table>\n",
       "</div>"
      ],
      "text/plain": [
       "                                  W  pval  normal\n",
       "monthly_duration_user  13179.633646   0.0   False"
      ]
     },
     "execution_count": 66,
     "metadata": {},
     "output_type": "execute_result"
    }
   ],
   "source": [
    "pg.normality(user_plus_plan_call['monthly_duration_user'], method='normaltest')"
   ]
  },
  {
   "cell_type": "code",
   "execution_count": 67,
   "id": "c370dbcf",
   "metadata": {},
   "outputs": [
    {
     "data": {
      "text/plain": [
       "554.3572512433295"
      ]
     },
     "execution_count": 67,
     "metadata": {},
     "output_type": "execute_result"
    }
   ],
   "source": [
    "user_plus_plan_call['monthly_duration_user'].mean()"
   ]
  },
  {
   "cell_type": "code",
   "execution_count": 68,
   "id": "d3888d92",
   "metadata": {},
   "outputs": [
    {
     "data": {
      "text/plain": [
       "525.0"
      ]
     },
     "execution_count": 68,
     "metadata": {},
     "output_type": "execute_result"
    }
   ],
   "source": [
    "user_plus_plan_call['monthly_duration_user'].median()"
   ]
  },
  {
   "cell_type": "markdown",
   "id": "8830c123",
   "metadata": {},
   "source": [
    "### Conclusion:\n",
    "Aggregate call duration per user per month does not pass the normality test.  It has a mean of 523 min per month, a median of 494, a min of 0 and a max of  1431."
   ]
  },
  {
   "cell_type": "markdown",
   "id": "bfde0a74",
   "metadata": {},
   "source": [
    "## The number of messages sent per month"
   ]
  },
  {
   "cell_type": "code",
   "execution_count": 69,
   "id": "44b91bdd",
   "metadata": {},
   "outputs": [],
   "source": [
    "user_plus_plan_message['monthly_message_user']  = user_plus_plan_message.groupby(\n",
    "     [\"user_id\", \"month\"])[\"id\"].transform('count')"
   ]
  },
  {
   "cell_type": "markdown",
   "id": "01debae5",
   "metadata": {},
   "source": [
    "### Understand the distribution of monthly_message_user"
   ]
  },
  {
   "cell_type": "code",
   "execution_count": 70,
   "id": "ba0c3d90",
   "metadata": {},
   "outputs": [
    {
     "data": {
      "text/plain": [
       "<matplotlib.axes._subplots.AxesSubplot at 0x7f94b88c2b90>"
      ]
     },
     "execution_count": 70,
     "metadata": {},
     "output_type": "execute_result"
    },
    {
     "data": {
      "image/png": "[encoded data removed]",
      "text/plain": [
       "<Figure size 432x288 with 1 Axes>"
      ]
     },
     "metadata": {
      "needs_background": "light"
     },
     "output_type": "display_data"
    }
   ],
   "source": [
    "user_plus_plan_message['monthly_message_user'].hist(bins = 50)"
   ]
  },
  {
   "cell_type": "code",
   "execution_count": 71,
   "id": "4e3538a4",
   "metadata": {},
   "outputs": [
    {
     "data": {
      "text/html": [
       "<div>\n",
       "<style scoped>\n",
       "    .dataframe tbody tr th:only-of-type {\n",
       "        vertical-align: middle;\n",
       "    }\n",
       "\n",
       "    .dataframe tbody tr th {\n",
       "        vertical-align: top;\n",
       "    }\n",
       "\n",
       "    .dataframe thead th {\n",
       "        text-align: right;\n",
       "    }\n",
       "</style>\n",
       "<table border=\"1\" class=\"dataframe\">\n",
       "  <thead>\n",
       "    <tr style=\"text-align: right;\">\n",
       "      <th></th>\n",
       "      <th>W</th>\n",
       "      <th>pval</th>\n",
       "      <th>normal</th>\n",
       "    </tr>\n",
       "  </thead>\n",
       "  <tbody>\n",
       "    <tr>\n",
       "      <th>monthly_message_user</th>\n",
       "      <td>13678.536167</td>\n",
       "      <td>0.0</td>\n",
       "      <td>False</td>\n",
       "    </tr>\n",
       "  </tbody>\n",
       "</table>\n",
       "</div>"
      ],
      "text/plain": [
       "                                 W  pval  normal\n",
       "monthly_message_user  13678.536167   0.0   False"
      ]
     },
     "execution_count": 71,
     "metadata": {},
     "output_type": "execute_result"
    }
   ],
   "source": [
    "pg.normality(user_plus_plan_message['monthly_message_user'], method='normaltest')"
   ]
  },
  {
   "cell_type": "code",
   "execution_count": 72,
   "id": "45674456",
   "metadata": {},
   "outputs": [
    {
     "data": {
      "text/plain": [
       "68.14951808654719"
      ]
     },
     "execution_count": 72,
     "metadata": {},
     "output_type": "execute_result"
    }
   ],
   "source": [
    "user_plus_plan_message['monthly_message_user'].mean()"
   ]
  },
  {
   "cell_type": "code",
   "execution_count": 73,
   "id": "0aeaa527",
   "metadata": {},
   "outputs": [
    {
     "data": {
      "text/plain": [
       "61.0"
      ]
     },
     "execution_count": 73,
     "metadata": {},
     "output_type": "execute_result"
    }
   ],
   "source": [
    "user_plus_plan_message['monthly_message_user'].median()"
   ]
  },
  {
   "cell_type": "markdown",
   "id": "6e02bf15",
   "metadata": {},
   "source": [
    "### Conclusion:\n",
    "The number of messages sent by users on a monthly does not pass the normality test.  It has a mean around 68 calls per month, a median of 61, a min of 1 and a max of around 266."
   ]
  },
  {
   "cell_type": "markdown",
   "id": "c9d06767",
   "metadata": {},
   "source": [
    "## The volume of data per month"
   ]
  },
  {
   "cell_type": "code",
   "execution_count": 74,
   "id": "14123f7a",
   "metadata": {},
   "outputs": [],
   "source": [
    "user_plus_plan_internet['monthly_mb_user'] =  user_plus_plan_internet.groupby(\n",
    "    [\"user_id\", \"month\"])[\"mb_used\"].transform('sum')"
   ]
  },
  {
   "cell_type": "markdown",
   "id": "65173a11",
   "metadata": {},
   "source": [
    "### Understand the distribution of monthly_mb_user"
   ]
  },
  {
   "cell_type": "code",
   "execution_count": 75,
   "id": "99196e12",
   "metadata": {},
   "outputs": [
    {
     "data": {
      "image/png": "[encoded data removed]",
      "text/plain": [
       "<Figure size 432x288 with 1 Axes>"
      ]
     },
     "metadata": {
      "needs_background": "light"
     },
     "output_type": "display_data"
    }
   ],
   "source": [
    "user_plus_plan_internet['monthly_mb_user'].hist(bins=50);"
   ]
  },
  {
   "cell_type": "markdown",
   "id": "8a9e2560",
   "metadata": {},
   "source": [
    "### Rounding up usage per month"
   ]
  },
  {
   "cell_type": "code",
   "execution_count": 76,
   "id": "b501b72c",
   "metadata": {},
   "outputs": [],
   "source": [
    "user_plus_plan_internet['monthly_gb_user1'] = user_plus_plan_internet['monthly_mb_user']/1024"
   ]
  },
  {
   "cell_type": "code",
   "execution_count": 77,
   "id": "843df4e6",
   "metadata": {},
   "outputs": [],
   "source": [
    "user_plus_plan_internet['monthly_gb_user'] = user_plus_plan_internet['monthly_gb_user1'].apply(np.ceil)"
   ]
  },
  {
   "cell_type": "code",
   "execution_count": 78,
   "id": "db7c3418",
   "metadata": {},
   "outputs": [
    {
     "data": {
      "text/plain": [
       "plan\n",
       "surf        1407768.0\n",
       "ultimate     659108.0\n",
       "Name: monthly_gb_user, dtype: float64"
      ]
     },
     "execution_count": 78,
     "metadata": {},
     "output_type": "execute_result"
    }
   ],
   "source": [
    "user_plus_plan_internet.groupby('plan')['monthly_gb_user'].sum()"
   ]
  },
  {
   "cell_type": "code",
   "execution_count": 79,
   "id": "de9fcb81",
   "metadata": {},
   "outputs": [
    {
     "data": {
      "text/plain": [
       "plan\n",
       "surf        1.371417e+06\n",
       "ultimate    6.426023e+05\n",
       "Name: monthly_gb_user1, dtype: float64"
      ]
     },
     "execution_count": 79,
     "metadata": {},
     "output_type": "execute_result"
    }
   ],
   "source": [
    "user_plus_plan_internet.groupby('plan')['monthly_gb_user1'].sum()"
   ]
  },
  {
   "cell_type": "markdown",
   "id": "f59ad5c8",
   "metadata": {},
   "source": [
    "##### Conclusion:\n",
    "Rounding the monthly usage up increases billed usage by over 52856 gb year on year.    This rise was \\\\$36,351 vs absorbed by surf users and \\\\$16,500 for by ultimate.  This means that the surf users absorbed 45\\% of the blow cost by this strategy. In terms of return for the cell company, this translates to \\\\$363,510 year on year from Surf and \\\\$115,535 from Ultimate.  This means that the Surf plan is 32\\% more profitable for the cell company."
   ]
  },
  {
   "cell_type": "code",
   "execution_count": 80,
   "id": "d72ebd7f",
   "metadata": {},
   "outputs": [
    {
     "data": {
      "text/html": [
       "<div>\n",
       "<style scoped>\n",
       "    .dataframe tbody tr th:only-of-type {\n",
       "        vertical-align: middle;\n",
       "    }\n",
       "\n",
       "    .dataframe tbody tr th {\n",
       "        vertical-align: top;\n",
       "    }\n",
       "\n",
       "    .dataframe thead th {\n",
       "        text-align: right;\n",
       "    }\n",
       "</style>\n",
       "<table border=\"1\" class=\"dataframe\">\n",
       "  <thead>\n",
       "    <tr style=\"text-align: right;\">\n",
       "      <th></th>\n",
       "      <th>W</th>\n",
       "      <th>pval</th>\n",
       "      <th>normal</th>\n",
       "    </tr>\n",
       "  </thead>\n",
       "  <tbody>\n",
       "    <tr>\n",
       "      <th>monthly_gb_user</th>\n",
       "      <td>32075.961331</td>\n",
       "      <td>0.0</td>\n",
       "      <td>False</td>\n",
       "    </tr>\n",
       "  </tbody>\n",
       "</table>\n",
       "</div>"
      ],
      "text/plain": [
       "                            W  pval  normal\n",
       "monthly_gb_user  32075.961331   0.0   False"
      ]
     },
     "execution_count": 80,
     "metadata": {},
     "output_type": "execute_result"
    }
   ],
   "source": [
    "pg.normality(user_plus_plan_internet['monthly_gb_user'], method='normaltest')"
   ]
  },
  {
   "cell_type": "code",
   "execution_count": 81,
   "id": "14563785",
   "metadata": {},
   "outputs": [
    {
     "data": {
      "text/plain": [
       "19.717395659432388"
      ]
     },
     "execution_count": 81,
     "metadata": {},
     "output_type": "execute_result"
    }
   ],
   "source": [
    "user_plus_plan_internet['monthly_gb_user'].mean()"
   ]
  },
  {
   "cell_type": "code",
   "execution_count": 82,
   "id": "08ddf132",
   "metadata": {},
   "outputs": [
    {
     "data": {
      "text/plain": [
       "19.0"
      ]
     },
     "execution_count": 82,
     "metadata": {},
     "output_type": "execute_result"
    }
   ],
   "source": [
    "user_plus_plan_internet['monthly_gb_user'].median()"
   ]
  },
  {
   "cell_type": "markdown",
   "id": "5b084f3f",
   "metadata": {},
   "source": [
    "### Conclusion:\n",
    "Aggregate data used per user per month does not pass the normality test.  It has  a mean of 19674 mb per month, a median of 18578, a min of 92 and a max of 70931."
   ]
  },
  {
   "cell_type": "markdown",
   "id": "558f413b",
   "metadata": {},
   "source": [
    "## Monthly revenue from each user"
   ]
  },
  {
   "cell_type": "markdown",
   "id": "0834e960",
   "metadata": {},
   "source": [
    "### Subtract the free package limit from the total number for the call dataframe. If the overage column is positive, then this means that the user used more than what is included in their plan.  If negative, then the user is within the plan limits and no overage is due."
   ]
  },
  {
   "cell_type": "markdown",
   "id": "183ae2ae",
   "metadata": {},
   "source": [
    "#### Call service"
   ]
  },
  {
   "cell_type": "markdown",
   "id": "74b503ee",
   "metadata": {},
   "source": [
    "##### Using the rounding of each call"
   ]
  },
  {
   "cell_type": "code",
   "execution_count": 83,
   "id": "df965723",
   "metadata": {},
   "outputs": [],
   "source": [
    "user_plus_plan_call['duration_overage'] = user_plus_plan_call.apply(\n",
    "    lambda x: x['monthly_duration_user'] - x['minutes_included'], axis=1)"
   ]
  },
  {
   "cell_type": "markdown",
   "id": "24cebdd3",
   "metadata": {},
   "source": [
    "##### Visulalise overage of call"
   ]
  },
  {
   "cell_type": "code",
   "execution_count": 84,
   "id": "ec160ee5",
   "metadata": {},
   "outputs": [
    {
     "data": {
      "image/png": "[encoded data removed]",
      "text/plain": [
       "<Figure size 936x576 with 1 Axes>"
      ]
     },
     "metadata": {
      "needs_background": "light"
     },
     "output_type": "display_data"
    }
   ],
   "source": [
    "user_plus_plan_call['duration_overage1'] = user_plus_plan_call['duration_overage'] > 0\n",
    "user_plus_plan_call.groupby(['plan',\"month\"], sort = False).agg({'duration_overage1': 'sum'}).plot(\n",
    "    kind='bar', figsize=(13, 8)\n",
    ");"
   ]
  },
  {
   "cell_type": "markdown",
   "id": "a6bd48f8",
   "metadata": {},
   "source": [
    "##### Conclusion:\n",
    "The negative numbers from overage refer to users that have used less than their alloted call duration per month according to their respective plan.  As the plot shows, it looks like most the call overages come from the surf plan."
   ]
  },
  {
   "cell_type": "markdown",
   "id": "0c675a41",
   "metadata": {},
   "source": [
    "##### Without the rounding of each call"
   ]
  },
  {
   "cell_type": "markdown",
   "id": "ab9b3542",
   "metadata": {},
   "source": [
    "#### Message service "
   ]
  },
  {
   "cell_type": "code",
   "execution_count": 85,
   "id": "ce4654b9",
   "metadata": {},
   "outputs": [],
   "source": [
    "user_plus_plan_call['duration_overage_no_round'] = user_plus_plan_call.apply(\n",
    "    lambda x: x['monthly_duration_user1'] - x['minutes_included'], axis=1)"
   ]
  },
  {
   "cell_type": "code",
   "execution_count": 86,
   "id": "ccd2912e",
   "metadata": {},
   "outputs": [],
   "source": [
    "user_plus_plan_message['message_overage'] = user_plus_plan_message.apply(\n",
    "    lambda x: x['monthly_message_user'] - x['messages_included'], axis=1)"
   ]
  },
  {
   "cell_type": "markdown",
   "id": "d30e30a0",
   "metadata": {},
   "source": [
    "##### Visualize overages from message"
   ]
  },
  {
   "cell_type": "code",
   "execution_count": 87,
   "id": "deea1c06",
   "metadata": {},
   "outputs": [
    {
     "data": {
      "image/png": "[encoded data removed]",
      "text/plain": [
       "<Figure size 936x576 with 1 Axes>"
      ]
     },
     "metadata": {
      "needs_background": "light"
     },
     "output_type": "display_data"
    }
   ],
   "source": [
    "user_plus_plan_message['message_overage1'] = user_plus_plan_message['message_overage'] > 0\n",
    "user_plus_plan_message.groupby(['plan','month'], sort = False).agg({'message_overage1': 'sum'}).plot(\n",
    "    kind='bar', figsize=(13, 8)\n",
    ");"
   ]
  },
  {
   "cell_type": "markdown",
   "id": "9b7267c3",
   "metadata": {},
   "source": [
    "##### Conclusion:\n",
    "It looks like most of the text overages come from the surf plan. It is very likely that the surf plan is most profitable."
   ]
  },
  {
   "cell_type": "markdown",
   "id": "353fa1d2",
   "metadata": {},
   "source": [
    "#### Internet service"
   ]
  },
  {
   "cell_type": "markdown",
   "id": "b29a573d",
   "metadata": {},
   "source": [
    "##### Internet overage with rounding"
   ]
  },
  {
   "cell_type": "code",
   "execution_count": 88,
   "id": "4caa3842",
   "metadata": {},
   "outputs": [],
   "source": [
    "user_plus_plan_internet['data_overage'] = user_plus_plan_internet.apply(\n",
    "    lambda x: x['monthly_gb_user'] - x['gb_per_month_included'], axis=1)"
   ]
  },
  {
   "cell_type": "markdown",
   "id": "d0393f1f",
   "metadata": {},
   "source": [
    "##### Internet overage without rounding"
   ]
  },
  {
   "cell_type": "code",
   "execution_count": 89,
   "id": "75ca3018",
   "metadata": {},
   "outputs": [],
   "source": [
    "user_plus_plan_internet['data_overage_no_round'] = user_plus_plan_internet.apply(\n",
    "    lambda x: x['monthly_gb_user1'] - x['gb_per_month_included'], axis=1)"
   ]
  },
  {
   "cell_type": "markdown",
   "id": "3980fc1d",
   "metadata": {},
   "source": [
    "#### Conclusion:\n",
    "Although the negative numbers will be rounded up with this formula, it is not important as these negative overages will be dropped later."
   ]
  },
  {
   "cell_type": "markdown",
   "id": "b751c960",
   "metadata": {},
   "source": [
    "##### Internet overage with rounding"
   ]
  },
  {
   "cell_type": "markdown",
   "id": "5e60ecaf",
   "metadata": {},
   "source": [
    "##### Visualize overages from the internet service"
   ]
  },
  {
   "cell_type": "code",
   "execution_count": 90,
   "id": "fb939e8b",
   "metadata": {},
   "outputs": [
    {
     "data": {
      "image/png": "[encoded data removed]",
      "text/plain": [
       "<Figure size 936x576 with 1 Axes>"
      ]
     },
     "metadata": {
      "needs_background": "light"
     },
     "output_type": "display_data"
    }
   ],
   "source": [
    "user_plus_plan_internet['data_overage1'] = user_plus_plan_internet['data_overage'] > 0\n",
    "user_plus_plan_internet.groupby(['plan', \"month\"], sort = False).agg({'data_overage1': 'sum'}).plot(\n",
    "    kind='bar', figsize=(13, 8)\n",
    ");"
   ]
  },
  {
   "cell_type": "markdown",
   "id": "3714d25f",
   "metadata": {},
   "source": [
    "##### Conclusion:\n",
    "Most data overages in data come from surf."
   ]
  },
  {
   "cell_type": "markdown",
   "id": "3b75e2a8",
   "metadata": {},
   "source": [
    "### Calculate each user's monthly payment"
   ]
  },
  {
   "cell_type": "markdown",
   "id": "3966ed5d",
   "metadata": {},
   "source": [
    "#### Call service"
   ]
  },
  {
   "cell_type": "markdown",
   "id": "1bad38e7",
   "metadata": {},
   "source": [
    "If there is no overage, then the function returns 0, otherwise, it multiplies the overage by usd_per_minute."
   ]
  },
  {
   "cell_type": "code",
   "execution_count": 91,
   "id": "7f327b08",
   "metadata": {},
   "outputs": [],
   "source": [
    "def overage_call(row):\n",
    "    \n",
    "    usd_per_minute = row['usd_per_minute']\n",
    "    duration_overage = row['duration_overage']\n",
    "    \n",
    "    if duration_overage <= 0:\n",
    "        return 0\n",
    "    else:\n",
    "        return usd_per_minute * duration_overage\n",
    "    return \"other\"\n",
    "   \n",
    "user_plus_plan_call['monthly_overage_charge_user'] = user_plus_plan_call.apply(overage_call, axis=1)"
   ]
  },
  {
   "cell_type": "code",
   "execution_count": 92,
   "id": "8ced7428",
   "metadata": {},
   "outputs": [
    {
     "data": {
      "text/plain": [
       "plan\n",
       "surf        323265.51\n",
       "ultimate         0.00\n",
       "Name: monthly_overage_charge_user, dtype: float64"
      ]
     },
     "execution_count": 92,
     "metadata": {},
     "output_type": "execute_result"
    }
   ],
   "source": [
    "user_plus_plan_call.groupby('plan')['monthly_overage_charge_user'].sum()"
   ]
  },
  {
   "cell_type": "markdown",
   "id": "8193578e",
   "metadata": {},
   "source": [
    "##### Conclusion:\n",
    "The overages of the call service all stem from the surf package.  The rounding did not affect the ultimate users."
   ]
  },
  {
   "cell_type": "markdown",
   "id": "530f1384",
   "metadata": {},
   "source": [
    "#### Message service"
   ]
  },
  {
   "cell_type": "code",
   "execution_count": 93,
   "id": "d9ef3d77",
   "metadata": {},
   "outputs": [],
   "source": [
    "def overage_message(row):\n",
    "    \n",
    "    usd_per_message = row['usd_per_message']\n",
    "    message_overage = row['message_overage']\n",
    "    \n",
    "    if message_overage <= 0:\n",
    "        return 0\n",
    "    else:\n",
    "        return usd_per_message * message_overage\n",
    "    return \"other\"\n",
    "   \n",
    "user_plus_plan_message['monthly_overage_charge_user'] = user_plus_plan_message.apply(overage_message, axis=1)"
   ]
  },
  {
   "cell_type": "code",
   "execution_count": 94,
   "id": "7a7d7066",
   "metadata": {},
   "outputs": [
    {
     "data": {
      "text/plain": [
       "plan\n",
       "surf        36746.31\n",
       "ultimate        0.00\n",
       "Name: monthly_overage_charge_user, dtype: float64"
      ]
     },
     "execution_count": 94,
     "metadata": {},
     "output_type": "execute_result"
    }
   ],
   "source": [
    "user_plus_plan_message.groupby('plan')['monthly_overage_charge_user'].sum()"
   ]
  },
  {
   "cell_type": "markdown",
   "id": "0dfb3aa3",
   "metadata": {},
   "source": [
    "##### Conclusion:\n",
    "All overages in the message service emanate from the surf plan."
   ]
  },
  {
   "cell_type": "markdown",
   "id": "0755915a",
   "metadata": {},
   "source": [
    "#### Internet service"
   ]
  },
  {
   "cell_type": "markdown",
   "id": "2f763a37",
   "metadata": {},
   "source": [
    "##### Overage due to rounding into the nearest gb"
   ]
  },
  {
   "cell_type": "code",
   "execution_count": 95,
   "id": "7f4a2aa6",
   "metadata": {},
   "outputs": [],
   "source": [
    "def overage_internet(row):\n",
    "    \n",
    "    usd_per_gb = row['usd_per_gb']\n",
    "    data_overage = row['data_overage']\n",
    "    \n",
    "    if data_overage <= 0:\n",
    "        return 0\n",
    "    else:\n",
    "        return usd_per_gb * data_overage\n",
    "    return \"other\"\n",
    "   \n",
    "user_plus_plan_internet['monthly_overage_charge_user'] = user_plus_plan_internet.apply(overage_internet, axis=1)"
   ]
  },
  {
   "cell_type": "code",
   "execution_count": 96,
   "id": "a326510a",
   "metadata": {},
   "outputs": [
    {
     "data": {
      "text/plain": [
       "plan\n",
       "surf        3915160.0\n",
       "ultimate     127477.0\n",
       "Name: monthly_overage_charge_user, dtype: float64"
      ]
     },
     "execution_count": 96,
     "metadata": {},
     "output_type": "execute_result"
    }
   ],
   "source": [
    "user_plus_plan_internet_final =  user_plus_plan_internet[\n",
    "    ['user_id','plan', 'month', 'monthly_overage_charge_user']].copy()\n",
    "user_plus_plan_internet_final.groupby('plan')['monthly_overage_charge_user'].sum()"
   ]
  },
  {
   "cell_type": "markdown",
   "id": "68e2840a",
   "metadata": {},
   "source": [
    "##### Overage without rounding"
   ]
  },
  {
   "cell_type": "code",
   "execution_count": 97,
   "id": "4645aff4",
   "metadata": {},
   "outputs": [],
   "source": [
    "def overage_internet(row):\n",
    "    \n",
    "    usd_per_gb = row['usd_per_gb']\n",
    "    data_overage_no_round = row['data_overage_no_round']\n",
    "    \n",
    "    if data_overage_no_round <= 0:\n",
    "        return 0\n",
    "    else:\n",
    "        return usd_per_gb * data_overage_no_round\n",
    "    return \"other\"\n",
    "   \n",
    "user_plus_plan_internet['monthly_overage_charge_user_no_round'] = user_plus_plan_internet.apply(overage_internet, axis=1)"
   ]
  },
  {
   "cell_type": "code",
   "execution_count": 98,
   "id": "dc0f50a2",
   "metadata": {},
   "outputs": [
    {
     "data": {
      "text/plain": [
       "plan\n",
       "surf        3.640150e+06\n",
       "ultimate    1.169946e+05\n",
       "Name: monthly_overage_charge_user_no_round, dtype: float64"
      ]
     },
     "execution_count": 98,
     "metadata": {},
     "output_type": "execute_result"
    }
   ],
   "source": [
    "user_plus_plan_internet_final =  user_plus_plan_internet[\n",
    "    ['user_id','plan', 'month', 'monthly_overage_charge_user_no_round']].copy()\n",
    "user_plus_plan_internet_final.groupby('plan')['monthly_overage_charge_user_no_round'].sum()"
   ]
  },
  {
   "cell_type": "markdown",
   "id": "27cfdeb0",
   "metadata": {},
   "source": [
    "##### Conclusion: \n",
    "In 2018, plan surf monthly call overages totaled \\\\$264,500.  Plan surf monthly text overages totaled \\\\$36,750. Internet is the most profitable service in 2018 for both plans.  Plan surf monthly data overages totaled \\\\$3.6 million while ultimate accounted for around $117 thousand.  In other words, the ultimate plan accounts for a mere 3.2\\% of the overall revenues from overages in data.  Furthermore, the surf plan users paid over 275,000 due to rounding the data plan compared to 10,500 only for the ultimate users."
   ]
  },
  {
   "cell_type": "markdown",
   "id": "1ca7388d",
   "metadata": {},
   "source": [
    "### Calculate each user's total overage of all service combined."
   ]
  },
  {
   "cell_type": "markdown",
   "id": "ac922f58",
   "metadata": {},
   "source": [
    "#### Concatinate all three service dataframes into df."
   ]
  },
  {
   "cell_type": "code",
   "execution_count": 99,
   "id": "623e5719",
   "metadata": {},
   "outputs": [],
   "source": [
    "df = pd.concat([user_plus_plan_call, user_plus_plan_message, user_plus_plan_internet])"
   ]
  },
  {
   "cell_type": "markdown",
   "id": "9ddadc56",
   "metadata": {},
   "source": [
    "Group the concatinated df by user_id and use count to get a list of values for IDs that exist in all three dataframes since there is only one in each dataframe.  "
   ]
  },
  {
   "cell_type": "code",
   "execution_count": 100,
   "id": "abec6aca",
   "metadata": {},
   "outputs": [],
   "source": [
    "criteria = df.user_id.isin((df.groupby('user_id').count() == 3).index)"
   ]
  },
  {
   "cell_type": "markdown",
   "id": "d741591d",
   "metadata": {},
   "source": [
    "Filter the grouped concatenated dataframe to sum by monthly_overage_charge columns, since this column exists in all dataframes.  Save everything as column x, as the sum of all service overages combined per user per month."
   ]
  },
  {
   "cell_type": "code",
   "execution_count": 101,
   "id": "937f7a62",
   "metadata": {},
   "outputs": [
    {
     "data": {
      "text/plain": [
       "count    318739.000000\n",
       "mean       2519.915592\n",
       "std        5191.349425\n",
       "min           0.000000\n",
       "25%           0.000000\n",
       "50%         530.000000\n",
       "75%        3376.880000\n",
       "max       75492.240000\n",
       "Name: x, dtype: float64"
      ]
     },
     "execution_count": 101,
     "metadata": {},
     "output_type": "execute_result"
    }
   ],
   "source": [
    "df['x'] = df[criteria].groupby([\"user_id\", \"month\"])[['monthly_overage_charge_user']].transform('sum')\n",
    "df['x'].describe()\n",
    "#df['x'].value_counts()"
   ]
  },
  {
   "cell_type": "code",
   "execution_count": 102,
   "id": "e5b194e8",
   "metadata": {},
   "outputs": [
    {
     "data": {
      "image/png": "[encoded data removed]",
      "text/plain": [
       "<Figure size 432x288 with 1 Axes>"
      ]
     },
     "metadata": {
      "needs_background": "light"
     },
     "output_type": "display_data"
    }
   ],
   "source": [
    "df['x'].hist(bins=50);"
   ]
  },
  {
   "cell_type": "markdown",
   "id": "a3081671",
   "metadata": {},
   "source": [
    "Expectedly, most customers, most months do not pay overages.  Also, this means that this distribution cannot be normal."
   ]
  },
  {
   "cell_type": "markdown",
   "id": "111fdf6a",
   "metadata": {},
   "source": [
    "#### Now sum the monthly plan cost with the monthly overage per user."
   ]
  },
  {
   "cell_type": "code",
   "execution_count": 103,
   "id": "a4661797",
   "metadata": {},
   "outputs": [],
   "source": [
    "df['monthly_payment_per_user'] = df[[\"usd_monthly_pay\",'x']].sum(axis = 1)"
   ]
  },
  {
   "cell_type": "code",
   "execution_count": 104,
   "id": "c18a72e7",
   "metadata": {},
   "outputs": [
    {
     "data": {
      "text/plain": [
       "count    318739.000000\n",
       "mean       2556.224547\n",
       "std        5184.229642\n",
       "min          20.000000\n",
       "25%          70.000000\n",
       "50%         550.000000\n",
       "75%        3424.380000\n",
       "max       75512.240000\n",
       "Name: monthly_payment_per_user, dtype: float64"
      ]
     },
     "execution_count": 104,
     "metadata": {},
     "output_type": "execute_result"
    }
   ],
   "source": [
    "df['monthly_payment_per_user'].describe()"
   ]
  },
  {
   "cell_type": "markdown",
   "id": "da5b1808",
   "metadata": {},
   "source": [
    "# For each plan, describe monthly customers' behavior"
   ]
  },
  {
   "cell_type": "markdown",
   "id": "204aac04",
   "metadata": {},
   "source": [
    "First, I will create three separate dataframes, one for each plan."
   ]
  },
  {
   "cell_type": "markdown",
   "id": "614c3617",
   "metadata": {},
   "source": [
    "## Surf call dataframe"
   ]
  },
  {
   "cell_type": "code",
   "execution_count": 105,
   "id": "bbb071a4",
   "metadata": {},
   "outputs": [],
   "source": [
    "surf_call = user_plus_plan_call.loc[(user_plus_plan_call['plan'] == \"surf\")]"
   ]
  },
  {
   "cell_type": "code",
   "execution_count": 106,
   "id": "297b39b0",
   "metadata": {},
   "outputs": [
    {
     "data": {
      "text/plain": [
       "0"
      ]
     },
     "execution_count": 106,
     "metadata": {},
     "output_type": "execute_result"
    }
   ],
   "source": [
    "surf_call.duplicated().sum()"
   ]
  },
  {
   "cell_type": "code",
   "execution_count": 107,
   "id": "52eac775",
   "metadata": {},
   "outputs": [
    {
     "data": {
      "text/plain": [
       "month\n",
       "Apr     17577.0\n",
       "Aug     66438.0\n",
       "Dec    150680.0\n",
       "Feb      2673.0\n",
       "Jan       406.0\n",
       "Jul     54448.0\n",
       "Jun     41836.0\n",
       "Mar      7590.0\n",
       "May     30768.0\n",
       "Nov    119801.0\n",
       "Oct    101846.0\n",
       "Sep     80360.0\n",
       "Name: duration, dtype: float64"
      ]
     },
     "execution_count": 107,
     "metadata": {},
     "output_type": "execute_result"
    }
   ],
   "source": [
    "surf_call.groupby([\"month\"])[\"duration\"].sum()"
   ]
  },
  {
   "cell_type": "code",
   "execution_count": 152,
   "id": "454ac236",
   "metadata": {},
   "outputs": [
    {
     "data": {
      "text/html": [
       "<div>\n",
       "<style scoped>\n",
       "    .dataframe tbody tr th:only-of-type {\n",
       "        vertical-align: middle;\n",
       "    }\n",
       "\n",
       "    .dataframe tbody tr th {\n",
       "        vertical-align: top;\n",
       "    }\n",
       "\n",
       "    .dataframe thead th {\n",
       "        text-align: right;\n",
       "    }\n",
       "</style>\n",
       "<table border=\"1\" class=\"dataframe\">\n",
       "  <thead>\n",
       "    <tr style=\"text-align: right;\">\n",
       "      <th></th>\n",
       "      <th>duration</th>\n",
       "    </tr>\n",
       "    <tr>\n",
       "      <th>month</th>\n",
       "      <th></th>\n",
       "    </tr>\n",
       "  </thead>\n",
       "  <tbody>\n",
       "    <tr>\n",
       "      <th>Apr</th>\n",
       "      <td>17577.0</td>\n",
       "    </tr>\n",
       "    <tr>\n",
       "      <th>Aug</th>\n",
       "      <td>66438.0</td>\n",
       "    </tr>\n",
       "    <tr>\n",
       "      <th>Dec</th>\n",
       "      <td>150680.0</td>\n",
       "    </tr>\n",
       "    <tr>\n",
       "      <th>Feb</th>\n",
       "      <td>2673.0</td>\n",
       "    </tr>\n",
       "    <tr>\n",
       "      <th>Jan</th>\n",
       "      <td>406.0</td>\n",
       "    </tr>\n",
       "    <tr>\n",
       "      <th>Jul</th>\n",
       "      <td>54448.0</td>\n",
       "    </tr>\n",
       "    <tr>\n",
       "      <th>Jun</th>\n",
       "      <td>41836.0</td>\n",
       "    </tr>\n",
       "    <tr>\n",
       "      <th>Mar</th>\n",
       "      <td>7590.0</td>\n",
       "    </tr>\n",
       "    <tr>\n",
       "      <th>May</th>\n",
       "      <td>30768.0</td>\n",
       "    </tr>\n",
       "    <tr>\n",
       "      <th>Nov</th>\n",
       "      <td>119801.0</td>\n",
       "    </tr>\n",
       "    <tr>\n",
       "      <th>Oct</th>\n",
       "      <td>101846.0</td>\n",
       "    </tr>\n",
       "    <tr>\n",
       "      <th>Sep</th>\n",
       "      <td>80360.0</td>\n",
       "    </tr>\n",
       "  </tbody>\n",
       "</table>\n",
       "</div>"
      ],
      "text/plain": [
       "       duration\n",
       "month          \n",
       "Apr     17577.0\n",
       "Aug     66438.0\n",
       "Dec    150680.0\n",
       "Feb      2673.0\n",
       "Jan       406.0\n",
       "Jul     54448.0\n",
       "Jun     41836.0\n",
       "Mar      7590.0\n",
       "May     30768.0\n",
       "Nov    119801.0\n",
       "Oct    101846.0\n",
       "Sep     80360.0"
      ]
     },
     "execution_count": 152,
     "metadata": {},
     "output_type": "execute_result"
    }
   ],
   "source": [
    "surf_call.groupby(['month']).agg({'duration': 'sum'})"
   ]
  },
  {
   "cell_type": "code",
   "execution_count": 155,
   "id": "05058838",
   "metadata": {},
   "outputs": [
    {
     "data": {
      "image/png": "[encoded data removed]",
      "text/plain": [
       "<Figure size 936x576 with 1 Axes>"
      ]
     },
     "metadata": {
      "needs_background": "light"
     },
     "output_type": "display_data"
    }
   ],
   "source": [
    "surf_call.groupby(['month']).agg({'duration': 'sum'}).plot(\n",
    "    kind='bar', color = \"red\", alpha = 0.2, figsize=(13, 8)\n",
    ")\n",
    "plt.ylabel('Aggregate number of minutes');"
   ]
  },
  {
   "cell_type": "markdown",
   "id": "2df746be",
   "metadata": {},
   "source": [
    "### Conclusion:\n",
    "Usage of the call service of the surf plan are in line with the trend in overages.  In 2018, it starts in April and peaks in december."
   ]
  },
  {
   "cell_type": "markdown",
   "id": "a306926c",
   "metadata": {},
   "source": [
    "## Surf message dataframe"
   ]
  },
  {
   "cell_type": "code",
   "execution_count": 109,
   "id": "91511bee",
   "metadata": {},
   "outputs": [],
   "source": [
    "surf_message = user_plus_plan_message.loc[(user_plus_plan_message['plan'] == \"surf\")]"
   ]
  },
  {
   "cell_type": "code",
   "execution_count": 110,
   "id": "1cba420a",
   "metadata": {},
   "outputs": [
    {
     "data": {
      "text/plain": [
       "month\n",
       "Apr      870\n",
       "Aug     4662\n",
       "Dec    12275\n",
       "Feb      108\n",
       "Jan       21\n",
       "Jul     3271\n",
       "Jun     2454\n",
       "Mar      351\n",
       "May     1849\n",
       "Nov     9165\n",
       "Oct     8020\n",
       "Sep     5968\n",
       "Name: message_id, dtype: int64"
      ]
     },
     "execution_count": 110,
     "metadata": {},
     "output_type": "execute_result"
    }
   ],
   "source": [
    "surf_message.groupby(\n",
    "    \"month\")[\"message_id\"].count()"
   ]
  },
  {
   "cell_type": "code",
   "execution_count": 111,
   "id": "5e263dc2",
   "metadata": {},
   "outputs": [
    {
     "data": {
      "image/png": "[encoded data removed]",
      "text/plain": [
       "<Figure size 936x576 with 1 Axes>"
      ]
     },
     "metadata": {
      "needs_background": "light"
     },
     "output_type": "display_data"
    }
   ],
   "source": [
    "surf_message.groupby(['month']).agg({'message_id': 'count'}).plot(\n",
    "    kind='bar',  alpha = 0.2, figsize=(13, 8)\n",
    ")\n",
    "plt.ylabel('Aggregate number of messages');"
   ]
  },
  {
   "cell_type": "markdown",
   "id": "3ea655f0",
   "metadata": {},
   "source": [
    "### Conclusion:\n",
    "Usage of the message service of the surf plan are in line with the trend in overages.  In 2018, it starts in April and peaks in december."
   ]
  },
  {
   "cell_type": "markdown",
   "id": "4a93a4f1",
   "metadata": {},
   "source": [
    "## Surf internet dataframe"
   ]
  },
  {
   "cell_type": "code",
   "execution_count": 112,
   "id": "68569a09",
   "metadata": {},
   "outputs": [],
   "source": [
    "surf_internet = user_plus_plan_internet.loc[(user_plus_plan_internet['plan'] == \"surf\")]"
   ]
  },
  {
   "cell_type": "code",
   "execution_count": 113,
   "id": "5d7f4b6a",
   "metadata": {
    "scrolled": true
   },
   "outputs": [
    {
     "data": {
      "image/png": "[encoded data removed]",
      "text/plain": [
       "<Figure size 936x576 with 1 Axes>"
      ]
     },
     "metadata": {
      "needs_background": "light"
     },
     "output_type": "display_data"
    }
   ],
   "source": [
    "surf_internet.groupby(['month']).agg({'mb_used': 'sum'}).plot(\n",
    "    kind='bar', color = \"green\", alpha = 0.4, figsize=(13, 8)\n",
    ")\n",
    "plt.ylabel('Aggregate number of mb used');"
   ]
  },
  {
   "cell_type": "markdown",
   "id": "58e721ef",
   "metadata": {},
   "source": [
    "### Conclusion:\n",
    "Usage of the internet service of the surf plan are in line with the trend in overages.  In 2018, it starts in April and peaks in december. The second half of 2018 witnesses the most usages in any service of the surf plan."
   ]
  },
  {
   "cell_type": "markdown",
   "id": "e8514e87",
   "metadata": {},
   "source": [
    "## Ultimate call dataframe"
   ]
  },
  {
   "cell_type": "code",
   "execution_count": 114,
   "id": "277f63be",
   "metadata": {},
   "outputs": [],
   "source": [
    "ultimate_call = user_plus_plan_call.loc[(user_plus_plan_call['plan'] == \"ultimate\")]"
   ]
  },
  {
   "cell_type": "code",
   "execution_count": 115,
   "id": "f13c6528",
   "metadata": {},
   "outputs": [
    {
     "data": {
      "text/plain": [
       "month\n",
       "Apr     7074.0\n",
       "Aug    29922.0\n",
       "Dec    69324.0\n",
       "Feb     2822.0\n",
       "Jan      774.0\n",
       "Jul    25197.0\n",
       "Jun    17435.0\n",
       "Mar     3651.0\n",
       "May    11781.0\n",
       "Nov    56540.0\n",
       "Oct    47778.0\n",
       "Sep    37626.0\n",
       "Name: duration, dtype: float64"
      ]
     },
     "execution_count": 115,
     "metadata": {},
     "output_type": "execute_result"
    }
   ],
   "source": [
    " ultimate_call.groupby(\n",
    "    \"month\")[\"duration\"].sum()"
   ]
  },
  {
   "cell_type": "code",
   "execution_count": 116,
   "id": "601cbcae",
   "metadata": {},
   "outputs": [
    {
     "data": {
      "image/png": "[encoded data removed]",
      "text/plain": [
       "<Figure size 936x576 with 1 Axes>"
      ]
     },
     "metadata": {
      "needs_background": "light"
     },
     "output_type": "display_data"
    }
   ],
   "source": [
    "ultimate_call.groupby(['month']).agg({'duration': 'sum'}).plot(\n",
    "    kind='bar', color = \"red\", alpha = 0.2, figsize=(13, 8)\n",
    ")\n",
    "plt.ylabel('Aggregate number of minutes');"
   ]
  },
  {
   "cell_type": "markdown",
   "id": "ffbe3a8f",
   "metadata": {},
   "source": [
    "### Conclusion:\n",
    "Usage of the call service of the ultimate plan are in line with the trend in overages.  In 2018, it starts in April and peaks in december."
   ]
  },
  {
   "cell_type": "markdown",
   "id": "287c429e",
   "metadata": {},
   "source": [
    "## Ultimate message dataframe"
   ]
  },
  {
   "cell_type": "code",
   "execution_count": 117,
   "id": "01647739",
   "metadata": {},
   "outputs": [],
   "source": [
    "ultimate_message = user_plus_plan_message.loc[(user_plus_plan_message['plan'] == \"ultimate\")]"
   ]
  },
  {
   "cell_type": "code",
   "execution_count": 118,
   "id": "12f2c2bd",
   "metadata": {},
   "outputs": [
    {
     "data": {
      "text/plain": [
       "month\n",
       "Apr     463\n",
       "Aug    2732\n",
       "Dec    6796\n",
       "Feb     151\n",
       "Jan      62\n",
       "Jul    1937\n",
       "Jun    1379\n",
       "Mar     243\n",
       "May     931\n",
       "Nov    4903\n",
       "Oct    4181\n",
       "Sep    3259\n",
       "Name: message_id, dtype: int64"
      ]
     },
     "execution_count": 118,
     "metadata": {},
     "output_type": "execute_result"
    }
   ],
   "source": [
    "ultimate_message.groupby(\n",
    "    \"month\")[\"message_id\"].count()"
   ]
  },
  {
   "cell_type": "code",
   "execution_count": 119,
   "id": "d2af2b2a",
   "metadata": {},
   "outputs": [
    {
     "data": {
      "image/png": "[encoded data removed]",
      "text/plain": [
       "<Figure size 936x576 with 1 Axes>"
      ]
     },
     "metadata": {
      "needs_background": "light"
     },
     "output_type": "display_data"
    }
   ],
   "source": [
    "surf_message.groupby(['month']).agg({'message_id': 'count'}).plot(\n",
    "    kind='bar',  alpha = 0.2, figsize=(13, 8)\n",
    ")\n",
    "plt.ylabel('Aggregate number of messages');"
   ]
  },
  {
   "cell_type": "markdown",
   "id": "1a8ac998",
   "metadata": {},
   "source": [
    "### Conclusion:\n",
    "Usage of the message service of the ultimate plan are in line with the trend in overages.  In 2018, it starts in April and peaks in december."
   ]
  },
  {
   "cell_type": "markdown",
   "id": "617286f9",
   "metadata": {},
   "source": [
    "## Ultimate internet dataframe"
   ]
  },
  {
   "cell_type": "code",
   "execution_count": 120,
   "id": "5f10874c",
   "metadata": {},
   "outputs": [],
   "source": [
    "ultimate_internet = user_plus_plan_internet.loc[(user_plus_plan_internet['plan'] == \"ultimate\")]"
   ]
  },
  {
   "cell_type": "code",
   "execution_count": 121,
   "id": "52e04aa7",
   "metadata": {},
   "outputs": [
    {
     "data": {
      "text/plain": [
       "month\n",
       "Apr     338554.75\n",
       "Aug    1264845.13\n",
       "Dec    2766801.97\n",
       "Feb     119901.66\n",
       "Jan      27672.37\n",
       "Jul     964339.92\n",
       "Jun     720882.29\n",
       "Mar     219858.22\n",
       "May     482109.99\n",
       "Nov    2163278.04\n",
       "Oct    1866930.66\n",
       "Sep    1459408.78\n",
       "Name: mb_used, dtype: float64"
      ]
     },
     "execution_count": 121,
     "metadata": {},
     "output_type": "execute_result"
    }
   ],
   "source": [
    "ultimate_internet.groupby(\n",
    "    \"month\")[\"mb_used\"].sum()"
   ]
  },
  {
   "cell_type": "code",
   "execution_count": 122,
   "id": "b0b64ea6",
   "metadata": {},
   "outputs": [
    {
     "data": {
      "image/png": "[encoded data removed]",
      "text/plain": [
       "<Figure size 936x576 with 1 Axes>"
      ]
     },
     "metadata": {
      "needs_background": "light"
     },
     "output_type": "display_data"
    }
   ],
   "source": [
    "ultimate_internet.groupby(['month']).agg({'mb_used': 'sum'}).plot(\n",
    "    kind='bar', color = \"green\", alpha = 0.4, figsize=(13, 8)\n",
    ")\n",
    "plt.ylabel('Aggregate number of mb used');"
   ]
  },
  {
   "cell_type": "markdown",
   "id": "2a24dce0",
   "metadata": {},
   "source": [
    "### Conclusion:\n",
    "The second half of 2018 witnesses the most usages in any service of the ultimate plan."
   ]
  },
  {
   "cell_type": "markdown",
   "id": "a866a600",
   "metadata": {},
   "source": [
    "## Calculate the mean, variance, and standard deviation. Plot histograms. Describe the distributions."
   ]
  },
  {
   "cell_type": "markdown",
   "id": "1719b063",
   "metadata": {},
   "source": [
    "### Aggregate call data"
   ]
  },
  {
   "cell_type": "code",
   "execution_count": 123,
   "id": "1f505b4b",
   "metadata": {},
   "outputs": [
    {
     "data": {
      "image/png": "[encoded data removed]",
      "text/plain": [
       "<Figure size 432x288 with 1 Axes>"
      ]
     },
     "metadata": {
      "needs_background": "light"
     },
     "output_type": "display_data"
    }
   ],
   "source": [
    "user_plus_plan_call[\"duration\"].hist(bins=50);"
   ]
  },
  {
   "cell_type": "code",
   "execution_count": 124,
   "id": "e1874f32",
   "metadata": {},
   "outputs": [
    {
     "data": {
      "text/html": [
       "<div>\n",
       "<style scoped>\n",
       "    .dataframe tbody tr th:only-of-type {\n",
       "        vertical-align: middle;\n",
       "    }\n",
       "\n",
       "    .dataframe tbody tr th {\n",
       "        vertical-align: top;\n",
       "    }\n",
       "\n",
       "    .dataframe thead th {\n",
       "        text-align: right;\n",
       "    }\n",
       "</style>\n",
       "<table border=\"1\" class=\"dataframe\">\n",
       "  <thead>\n",
       "    <tr style=\"text-align: right;\">\n",
       "      <th></th>\n",
       "      <th>W</th>\n",
       "      <th>pval</th>\n",
       "      <th>normal</th>\n",
       "    </tr>\n",
       "  </thead>\n",
       "  <tbody>\n",
       "    <tr>\n",
       "      <th>duration</th>\n",
       "      <td>8079.588704</td>\n",
       "      <td>0.0</td>\n",
       "      <td>False</td>\n",
       "    </tr>\n",
       "  </tbody>\n",
       "</table>\n",
       "</div>"
      ],
      "text/plain": [
       "                    W  pval  normal\n",
       "duration  8079.588704   0.0   False"
      ]
     },
     "execution_count": 124,
     "metadata": {},
     "output_type": "execute_result"
    }
   ],
   "source": [
    "pg.normality(user_plus_plan_call['duration'], method='normaltest')"
   ]
  },
  {
   "cell_type": "code",
   "execution_count": 160,
   "id": "7b296810",
   "metadata": {},
   "outputs": [
    {
     "data": {
      "text/html": [
       "<div>\n",
       "<style scoped>\n",
       "    .dataframe tbody tr th:only-of-type {\n",
       "        vertical-align: middle;\n",
       "    }\n",
       "\n",
       "    .dataframe tbody tr th {\n",
       "        vertical-align: top;\n",
       "    }\n",
       "\n",
       "    .dataframe thead th {\n",
       "        text-align: right;\n",
       "    }\n",
       "</style>\n",
       "<table border=\"1\" class=\"dataframe\">\n",
       "  <thead>\n",
       "    <tr style=\"text-align: right;\">\n",
       "      <th></th>\n",
       "      <th>user_id</th>\n",
       "      <th>first_name</th>\n",
       "      <th>last_name</th>\n",
       "      <th>age</th>\n",
       "      <th>city</th>\n",
       "      <th>reg_date</th>\n",
       "      <th>plan</th>\n",
       "      <th>churn_date</th>\n",
       "      <th>messages_included</th>\n",
       "      <th>mb_per_month_included</th>\n",
       "      <th>...</th>\n",
       "      <th>call_id</th>\n",
       "      <th>month</th>\n",
       "      <th>monthly_calls_user</th>\n",
       "      <th>duration1</th>\n",
       "      <th>monthly_duration_user1</th>\n",
       "      <th>monthly_duration_user</th>\n",
       "      <th>duration_overage</th>\n",
       "      <th>duration_overage1</th>\n",
       "      <th>duration_overage_no_round</th>\n",
       "      <th>monthly_overage_charge_user</th>\n",
       "    </tr>\n",
       "  </thead>\n",
       "  <tbody>\n",
       "    <tr>\n",
       "      <th>0</th>\n",
       "      <td>1000</td>\n",
       "      <td>Anamaria</td>\n",
       "      <td>Bauer</td>\n",
       "      <td>45</td>\n",
       "      <td>Atlanta-Sandy Springs-Roswell, GA MSA</td>\n",
       "      <td>2018-12-24</td>\n",
       "      <td>ultimate</td>\n",
       "      <td>NaT</td>\n",
       "      <td>1000</td>\n",
       "      <td>30720</td>\n",
       "      <td>...</td>\n",
       "      <td>1000_93</td>\n",
       "      <td>Dec</td>\n",
       "      <td>16.0</td>\n",
       "      <td>8.52</td>\n",
       "      <td>116.83</td>\n",
       "      <td>124.0</td>\n",
       "      <td>-2876.0</td>\n",
       "      <td>False</td>\n",
       "      <td>-2883.17</td>\n",
       "      <td>0.0</td>\n",
       "    </tr>\n",
       "    <tr>\n",
       "      <th>1</th>\n",
       "      <td>1000</td>\n",
       "      <td>Anamaria</td>\n",
       "      <td>Bauer</td>\n",
       "      <td>45</td>\n",
       "      <td>Atlanta-Sandy Springs-Roswell, GA MSA</td>\n",
       "      <td>2018-12-24</td>\n",
       "      <td>ultimate</td>\n",
       "      <td>NaT</td>\n",
       "      <td>1000</td>\n",
       "      <td>30720</td>\n",
       "      <td>...</td>\n",
       "      <td>1000_145</td>\n",
       "      <td>Dec</td>\n",
       "      <td>16.0</td>\n",
       "      <td>13.66</td>\n",
       "      <td>116.83</td>\n",
       "      <td>124.0</td>\n",
       "      <td>-2876.0</td>\n",
       "      <td>False</td>\n",
       "      <td>-2883.17</td>\n",
       "      <td>0.0</td>\n",
       "    </tr>\n",
       "    <tr>\n",
       "      <th>2</th>\n",
       "      <td>1000</td>\n",
       "      <td>Anamaria</td>\n",
       "      <td>Bauer</td>\n",
       "      <td>45</td>\n",
       "      <td>Atlanta-Sandy Springs-Roswell, GA MSA</td>\n",
       "      <td>2018-12-24</td>\n",
       "      <td>ultimate</td>\n",
       "      <td>NaT</td>\n",
       "      <td>1000</td>\n",
       "      <td>30720</td>\n",
       "      <td>...</td>\n",
       "      <td>1000_247</td>\n",
       "      <td>Dec</td>\n",
       "      <td>16.0</td>\n",
       "      <td>14.48</td>\n",
       "      <td>116.83</td>\n",
       "      <td>124.0</td>\n",
       "      <td>-2876.0</td>\n",
       "      <td>False</td>\n",
       "      <td>-2883.17</td>\n",
       "      <td>0.0</td>\n",
       "    </tr>\n",
       "    <tr>\n",
       "      <th>3</th>\n",
       "      <td>1000</td>\n",
       "      <td>Anamaria</td>\n",
       "      <td>Bauer</td>\n",
       "      <td>45</td>\n",
       "      <td>Atlanta-Sandy Springs-Roswell, GA MSA</td>\n",
       "      <td>2018-12-24</td>\n",
       "      <td>ultimate</td>\n",
       "      <td>NaT</td>\n",
       "      <td>1000</td>\n",
       "      <td>30720</td>\n",
       "      <td>...</td>\n",
       "      <td>1000_309</td>\n",
       "      <td>Dec</td>\n",
       "      <td>16.0</td>\n",
       "      <td>5.76</td>\n",
       "      <td>116.83</td>\n",
       "      <td>124.0</td>\n",
       "      <td>-2876.0</td>\n",
       "      <td>False</td>\n",
       "      <td>-2883.17</td>\n",
       "      <td>0.0</td>\n",
       "    </tr>\n",
       "    <tr>\n",
       "      <th>4</th>\n",
       "      <td>1000</td>\n",
       "      <td>Anamaria</td>\n",
       "      <td>Bauer</td>\n",
       "      <td>45</td>\n",
       "      <td>Atlanta-Sandy Springs-Roswell, GA MSA</td>\n",
       "      <td>2018-12-24</td>\n",
       "      <td>ultimate</td>\n",
       "      <td>NaT</td>\n",
       "      <td>1000</td>\n",
       "      <td>30720</td>\n",
       "      <td>...</td>\n",
       "      <td>1000_380</td>\n",
       "      <td>Dec</td>\n",
       "      <td>16.0</td>\n",
       "      <td>4.22</td>\n",
       "      <td>116.83</td>\n",
       "      <td>124.0</td>\n",
       "      <td>-2876.0</td>\n",
       "      <td>False</td>\n",
       "      <td>-2883.17</td>\n",
       "      <td>0.0</td>\n",
       "    </tr>\n",
       "    <tr>\n",
       "      <th>...</th>\n",
       "      <td>...</td>\n",
       "      <td>...</td>\n",
       "      <td>...</td>\n",
       "      <td>...</td>\n",
       "      <td>...</td>\n",
       "      <td>...</td>\n",
       "      <td>...</td>\n",
       "      <td>...</td>\n",
       "      <td>...</td>\n",
       "      <td>...</td>\n",
       "      <td>...</td>\n",
       "      <td>...</td>\n",
       "      <td>...</td>\n",
       "      <td>...</td>\n",
       "      <td>...</td>\n",
       "      <td>...</td>\n",
       "      <td>...</td>\n",
       "      <td>...</td>\n",
       "      <td>...</td>\n",
       "      <td>...</td>\n",
       "      <td>...</td>\n",
       "    </tr>\n",
       "    <tr>\n",
       "      <th>137749</th>\n",
       "      <td>1499</td>\n",
       "      <td>Shena</td>\n",
       "      <td>Dickson</td>\n",
       "      <td>37</td>\n",
       "      <td>Orlando-Kissimmee-Sanford, FL MSA</td>\n",
       "      <td>2018-05-06</td>\n",
       "      <td>surf</td>\n",
       "      <td>NaT</td>\n",
       "      <td>50</td>\n",
       "      <td>15360</td>\n",
       "      <td>...</td>\n",
       "      <td>1499_199</td>\n",
       "      <td>Nov</td>\n",
       "      <td>45.0</td>\n",
       "      <td>8.72</td>\n",
       "      <td>288.56</td>\n",
       "      <td>308.0</td>\n",
       "      <td>-192.0</td>\n",
       "      <td>False</td>\n",
       "      <td>-211.44</td>\n",
       "      <td>0.0</td>\n",
       "    </tr>\n",
       "    <tr>\n",
       "      <th>137750</th>\n",
       "      <td>1499</td>\n",
       "      <td>Shena</td>\n",
       "      <td>Dickson</td>\n",
       "      <td>37</td>\n",
       "      <td>Orlando-Kissimmee-Sanford, FL MSA</td>\n",
       "      <td>2018-05-06</td>\n",
       "      <td>surf</td>\n",
       "      <td>NaT</td>\n",
       "      <td>50</td>\n",
       "      <td>15360</td>\n",
       "      <td>...</td>\n",
       "      <td>1499_200</td>\n",
       "      <td>Oct</td>\n",
       "      <td>53.0</td>\n",
       "      <td>10.89</td>\n",
       "      <td>363.28</td>\n",
       "      <td>385.0</td>\n",
       "      <td>-115.0</td>\n",
       "      <td>False</td>\n",
       "      <td>-136.72</td>\n",
       "      <td>0.0</td>\n",
       "    </tr>\n",
       "    <tr>\n",
       "      <th>137751</th>\n",
       "      <td>1499</td>\n",
       "      <td>Shena</td>\n",
       "      <td>Dickson</td>\n",
       "      <td>37</td>\n",
       "      <td>Orlando-Kissimmee-Sanford, FL MSA</td>\n",
       "      <td>2018-05-06</td>\n",
       "      <td>surf</td>\n",
       "      <td>NaT</td>\n",
       "      <td>50</td>\n",
       "      <td>15360</td>\n",
       "      <td>...</td>\n",
       "      <td>1499_201</td>\n",
       "      <td>Sep</td>\n",
       "      <td>41.0</td>\n",
       "      <td>8.12</td>\n",
       "      <td>330.37</td>\n",
       "      <td>346.0</td>\n",
       "      <td>-154.0</td>\n",
       "      <td>False</td>\n",
       "      <td>-169.63</td>\n",
       "      <td>0.0</td>\n",
       "    </tr>\n",
       "    <tr>\n",
       "      <th>137752</th>\n",
       "      <td>1499</td>\n",
       "      <td>Shena</td>\n",
       "      <td>Dickson</td>\n",
       "      <td>37</td>\n",
       "      <td>Orlando-Kissimmee-Sanford, FL MSA</td>\n",
       "      <td>2018-05-06</td>\n",
       "      <td>surf</td>\n",
       "      <td>NaT</td>\n",
       "      <td>50</td>\n",
       "      <td>15360</td>\n",
       "      <td>...</td>\n",
       "      <td>1499_202</td>\n",
       "      <td>Oct</td>\n",
       "      <td>53.0</td>\n",
       "      <td>0.37</td>\n",
       "      <td>363.28</td>\n",
       "      <td>385.0</td>\n",
       "      <td>-115.0</td>\n",
       "      <td>False</td>\n",
       "      <td>-136.72</td>\n",
       "      <td>0.0</td>\n",
       "    </tr>\n",
       "    <tr>\n",
       "      <th>137753</th>\n",
       "      <td>1499</td>\n",
       "      <td>Shena</td>\n",
       "      <td>Dickson</td>\n",
       "      <td>37</td>\n",
       "      <td>Orlando-Kissimmee-Sanford, FL MSA</td>\n",
       "      <td>2018-05-06</td>\n",
       "      <td>surf</td>\n",
       "      <td>NaT</td>\n",
       "      <td>50</td>\n",
       "      <td>15360</td>\n",
       "      <td>...</td>\n",
       "      <td>1499_203</td>\n",
       "      <td>Dec</td>\n",
       "      <td>65.0</td>\n",
       "      <td>13.86</td>\n",
       "      <td>468.10</td>\n",
       "      <td>496.0</td>\n",
       "      <td>-4.0</td>\n",
       "      <td>False</td>\n",
       "      <td>-31.90</td>\n",
       "      <td>0.0</td>\n",
       "    </tr>\n",
       "  </tbody>\n",
       "</table>\n",
       "<p>137754 rows × 30 columns</p>\n",
       "</div>"
      ],
      "text/plain": [
       "        user_id first_name last_name  age  \\\n",
       "0          1000   Anamaria     Bauer   45   \n",
       "1          1000   Anamaria     Bauer   45   \n",
       "2          1000   Anamaria     Bauer   45   \n",
       "3          1000   Anamaria     Bauer   45   \n",
       "4          1000   Anamaria     Bauer   45   \n",
       "...         ...        ...       ...  ...   \n",
       "137749     1499      Shena   Dickson   37   \n",
       "137750     1499      Shena   Dickson   37   \n",
       "137751     1499      Shena   Dickson   37   \n",
       "137752     1499      Shena   Dickson   37   \n",
       "137753     1499      Shena   Dickson   37   \n",
       "\n",
       "                                         city   reg_date      plan churn_date  \\\n",
       "0       Atlanta-Sandy Springs-Roswell, GA MSA 2018-12-24  ultimate        NaT   \n",
       "1       Atlanta-Sandy Springs-Roswell, GA MSA 2018-12-24  ultimate        NaT   \n",
       "2       Atlanta-Sandy Springs-Roswell, GA MSA 2018-12-24  ultimate        NaT   \n",
       "3       Atlanta-Sandy Springs-Roswell, GA MSA 2018-12-24  ultimate        NaT   \n",
       "4       Atlanta-Sandy Springs-Roswell, GA MSA 2018-12-24  ultimate        NaT   \n",
       "...                                       ...        ...       ...        ...   \n",
       "137749      Orlando-Kissimmee-Sanford, FL MSA 2018-05-06      surf        NaT   \n",
       "137750      Orlando-Kissimmee-Sanford, FL MSA 2018-05-06      surf        NaT   \n",
       "137751      Orlando-Kissimmee-Sanford, FL MSA 2018-05-06      surf        NaT   \n",
       "137752      Orlando-Kissimmee-Sanford, FL MSA 2018-05-06      surf        NaT   \n",
       "137753      Orlando-Kissimmee-Sanford, FL MSA 2018-05-06      surf        NaT   \n",
       "\n",
       "        messages_included  mb_per_month_included  ...   call_id  month  \\\n",
       "0                    1000                  30720  ...   1000_93    Dec   \n",
       "1                    1000                  30720  ...  1000_145    Dec   \n",
       "2                    1000                  30720  ...  1000_247    Dec   \n",
       "3                    1000                  30720  ...  1000_309    Dec   \n",
       "4                    1000                  30720  ...  1000_380    Dec   \n",
       "...                   ...                    ...  ...       ...    ...   \n",
       "137749                 50                  15360  ...  1499_199    Nov   \n",
       "137750                 50                  15360  ...  1499_200    Oct   \n",
       "137751                 50                  15360  ...  1499_201    Sep   \n",
       "137752                 50                  15360  ...  1499_202    Oct   \n",
       "137753                 50                  15360  ...  1499_203    Dec   \n",
       "\n",
       "        monthly_calls_user  duration1  monthly_duration_user1  \\\n",
       "0                     16.0       8.52                  116.83   \n",
       "1                     16.0      13.66                  116.83   \n",
       "2                     16.0      14.48                  116.83   \n",
       "3                     16.0       5.76                  116.83   \n",
       "4                     16.0       4.22                  116.83   \n",
       "...                    ...        ...                     ...   \n",
       "137749                45.0       8.72                  288.56   \n",
       "137750                53.0      10.89                  363.28   \n",
       "137751                41.0       8.12                  330.37   \n",
       "137752                53.0       0.37                  363.28   \n",
       "137753                65.0      13.86                  468.10   \n",
       "\n",
       "       monthly_duration_user  duration_overage duration_overage1  \\\n",
       "0                      124.0           -2876.0             False   \n",
       "1                      124.0           -2876.0             False   \n",
       "2                      124.0           -2876.0             False   \n",
       "3                      124.0           -2876.0             False   \n",
       "4                      124.0           -2876.0             False   \n",
       "...                      ...               ...               ...   \n",
       "137749                 308.0            -192.0             False   \n",
       "137750                 385.0            -115.0             False   \n",
       "137751                 346.0            -154.0             False   \n",
       "137752                 385.0            -115.0             False   \n",
       "137753                 496.0              -4.0             False   \n",
       "\n",
       "       duration_overage_no_round  monthly_overage_charge_user  \n",
       "0                       -2883.17                          0.0  \n",
       "1                       -2883.17                          0.0  \n",
       "2                       -2883.17                          0.0  \n",
       "3                       -2883.17                          0.0  \n",
       "4                       -2883.17                          0.0  \n",
       "...                          ...                          ...  \n",
       "137749                   -211.44                          0.0  \n",
       "137750                   -136.72                          0.0  \n",
       "137751                   -169.63                          0.0  \n",
       "137752                   -136.72                          0.0  \n",
       "137753                    -31.90                          0.0  \n",
       "\n",
       "[137754 rows x 30 columns]"
      ]
     },
     "execution_count": 160,
     "metadata": {},
     "output_type": "execute_result"
    }
   ],
   "source": [
    "user_plus_plan_call"
   ]
  },
  {
   "cell_type": "code",
   "execution_count": 170,
   "id": "f2560277",
   "metadata": {},
   "outputs": [
    {
     "data": {
      "image/png": "[encoded data removed]",
      "text/plain": [
       "<Figure size 1080x360 with 1 Axes>"
      ]
     },
     "metadata": {
      "needs_background": "light"
     },
     "output_type": "display_data"
    },
    {
     "name": "stdout",
     "output_type": "stream",
     "text": [
      "The average call duration for both plans is: 7\n",
      "The variance of a call duration is: 35\n",
      "The standard deviation of a call duration is: 6\n",
      "The  averages per plan are:\n",
      "plan\n",
      "surf        7.168307\n",
      "ultimate    7.100044\n",
      "Name: duration, dtype: float64\n",
      "Values are centered around average\n"
     ]
    }
   ],
   "source": [
    "fig, ax = plt.subplots(figsize=(15,5))\n",
    "\n",
    "ax = sns.histplot(user_plus_plan_call, x = \"month\", hue = \"plan\") \n",
    "\n",
    "\n",
    "plt.show()\n",
    "    \n",
    "mean=round(user_plus_plan_call[\"duration\"].mean())\n",
    "std=round(user_plus_plan_call[\"duration\"].std())\n",
    "var=round(user_plus_plan_call[\"duration\"].var())\n",
    "cv=std/mean # Coefficient of variation\n",
    "    \n",
    "print(\"The average call duration for both plans is:\", mean)\n",
    "print(\"The variance of a call duration is:\", var)\n",
    "print(\"The standard deviation of a call duration is:\", std)\n",
    "print(\"The  averages per plan are:\")\n",
    "print(user_plus_plan_call.groupby(['plan'])[\"duration\"].mean())\n",
    "    \n",
    "if cv>1: # The higher the coefficient of variation, the greater the level of dispersion around the mean\n",
    "    print(\"Values vary a lot\")\n",
    "else:\n",
    "    print('Values are centered around average')"
   ]
  },
  {
   "cell_type": "code",
   "execution_count": 163,
   "id": "99bd6e3a",
   "metadata": {},
   "outputs": [
    {
     "data": {
      "text/plain": [
       "['',\n",
       " 'January',\n",
       " 'February',\n",
       " 'March',\n",
       " 'April',\n",
       " 'May',\n",
       " 'June',\n",
       " 'July',\n",
       " 'August',\n",
       " 'September',\n",
       " 'October',\n",
       " 'November',\n",
       " 'December']"
      ]
     },
     "execution_count": 163,
     "metadata": {},
     "output_type": "execute_result"
    }
   ],
   "source": [
    "month_lookup"
   ]
  },
  {
   "cell_type": "code",
   "execution_count": 162,
   "id": "df3ccfc4",
   "metadata": {},
   "outputs": [
    {
     "data": {
      "text/plain": [
       "['January', 'August', 'September', 'October', 'November', 'December']"
      ]
     },
     "execution_count": 162,
     "metadata": {},
     "output_type": "execute_result"
    }
   ],
   "source": [
    "from calendar import month_name\n",
    "month_lookup = list(month_name)\n",
    "months = ['August', 'September', 'October', 'November', 'December', 'January']\n",
    "sorted(months, key=month_lookup.index)\n",
    "['January', 'August', 'September', 'October', 'November', 'December']"
   ]
  },
  {
   "cell_type": "markdown",
   "id": "ec9190a9",
   "metadata": {},
   "source": [
    "#### Conclusion:\n",
    "We already know that there are twice as much surf users than ultimate users.  So it is not surprising that the aggregate count is more than that of ultimate.  But the average duration per call is similar at 6.7 mins.  The behavior of these monthly aggregate call is similar for both plans.  In other words, the duration count in second part of the year 2018 gradually increases until it reaches its peak in December.  Finally, though the variance is high, it is still centered around the mean."
   ]
  },
  {
   "cell_type": "markdown",
   "id": "a9c9e3bf",
   "metadata": {},
   "source": [
    "### Aggregate duration by monthly user\n",
    "For the sake of comparison, I reproduce the same graph using monthly_duration_user"
   ]
  },
  {
   "cell_type": "code",
   "execution_count": 126,
   "id": "073ba75c",
   "metadata": {},
   "outputs": [
    {
     "data": {
      "image/png": "[encoded data removed]",
      "text/plain": [
       "<Figure size 936x360 with 1 Axes>"
      ]
     },
     "metadata": {
      "needs_background": "light"
     },
     "output_type": "display_data"
    },
    {
     "name": "stdout",
     "output_type": "stream",
     "text": [
      "The average monthly duration per user for both plans is: 554\n",
      "The variance of monthly duration per user is: 55755\n",
      "The standard deviation of monthly duration per user is: 236\n",
      "The  averages per plan are:\n",
      "plan\n",
      "surf        551.807651\n",
      "ultimate    559.852581\n",
      "Name: monthly_duration_user, dtype: float64\n",
      "Values are centered around average\n"
     ]
    }
   ],
   "source": [
    "fig, ax = plt.subplots(figsize=(13,5))\n",
    "\n",
    "ax = sns.histplot(user_plus_plan_call, x = \"month\", hue = \"plan\") \n",
    "\n",
    "\n",
    "plt.show()\n",
    "    \n",
    "mean=round(user_plus_plan_call[\"monthly_duration_user\"].mean())\n",
    "std=round(user_plus_plan_call[\"monthly_duration_user\"].std())\n",
    "var=round(user_plus_plan_call[\"monthly_duration_user\"].var())\n",
    "cv=std/mean # Coefficient of variation\n",
    "    \n",
    "print(\"The average monthly duration per user for both plans is:\", mean)\n",
    "print(\"The variance of monthly duration per user is:\", var)\n",
    "print(\"The standard deviation of monthly duration per user is:\", std)\n",
    "print(\"The  averages per plan are:\")\n",
    "print(user_plus_plan_call.groupby(['plan'])[\"monthly_duration_user\"].mean())\n",
    "    \n",
    "if cv>1: # The higher the coefficient of variation, the greater the level of dispersion around the mean\n",
    "    print(\"Values vary a lot\")\n",
    "else:\n",
    "    print('Values are centered around average')"
   ]
  },
  {
   "cell_type": "markdown",
   "id": "3f579464",
   "metadata": {},
   "source": [
    "#### Conclusion\n",
    "Expectedly, both plans portray the same behavior and count.  The monthly count per user is 8 higher for the ultimate plan.  Though the variance is high at around 50k, it is still centered around the average.  Here too, the behavior of these monthly aggregate call is similar for both plans.  In other words, the duration count in second part of the year 2018 gradually increases until it reaches its peak in December. "
   ]
  },
  {
   "cell_type": "markdown",
   "id": "7184a694",
   "metadata": {},
   "source": [
    "### Aggregate text monthly data per customer"
   ]
  },
  {
   "cell_type": "code",
   "execution_count": 127,
   "id": "c8da6d24",
   "metadata": {},
   "outputs": [
    {
     "data": {
      "image/png": "[encoded data removed]",
      "text/plain": [
       "<Figure size 936x360 with 1 Axes>"
      ]
     },
     "metadata": {
      "needs_background": "light"
     },
     "output_type": "display_data"
    },
    {
     "name": "stdout",
     "output_type": "stream",
     "text": [
      "The average number messages for both plans is: 68\n",
      "The variance of number messages is: 1604\n",
      "The standard deviation of number messagesis: 40\n",
      "The  averages per plan are:\n",
      "plan\n",
      "surf        67.296405\n",
      "ultimate    69.696083\n",
      "Name: monthly_message_user, dtype: float64\n",
      "Values are centered around average\n"
     ]
    }
   ],
   "source": [
    "fig, ax = plt.subplots(figsize=(13,5))\n",
    "\n",
    "ax = sns.histplot(user_plus_plan_message, x = \"month\", hue = \"plan\") \n",
    "\n",
    "\n",
    "plt.show()\n",
    "    \n",
    "mean=round(user_plus_plan_message[\"monthly_message_user\"].mean())\n",
    "std=round(user_plus_plan_message[\"monthly_message_user\"].std())\n",
    "var=round(user_plus_plan_message[\"monthly_message_user\"].var())\n",
    "cv=std/mean # Coefficient of variation\n",
    "    \n",
    "print(\"The average number messages for both plans is:\", mean)\n",
    "print(\"The variance of number messages is:\", var)\n",
    "print(\"The standard deviation of number messagesis:\", std)\n",
    "print(\"The  averages per plan are:\")\n",
    "print(user_plus_plan_message.groupby(['plan'])[\"monthly_message_user\"].mean())\n",
    "    \n",
    "if cv>1: # The higher the coefficient of variation, the greater the level of dispersion around the mean\n",
    "    print(\"Values vary a lot\")\n",
    "else:\n",
    "    print('Values are centered around average')"
   ]
  },
  {
   "cell_type": "markdown",
   "id": "faa37b19",
   "metadata": {},
   "source": [
    "#### Conclusion:\n",
    "Although we know that surf users are twice as much as those of ultimate, we notice that on average, they send more than 1/2 of total messages of the company. In fact, on average, each customer ultimate sends approximately 2 messages per month more that the surf plan. This makes sense since they allocation of message is much higher.   "
   ]
  },
  {
   "cell_type": "markdown",
   "id": "0c54e493",
   "metadata": {},
   "source": [
    "### Aggregate Internet monthly data per customer"
   ]
  },
  {
   "cell_type": "code",
   "execution_count": 128,
   "id": "6fac1b42",
   "metadata": {},
   "outputs": [
    {
     "data": {
      "text/plain": [
       "<matplotlib.axes._subplots.AxesSubplot at 0x7f94baa2b1d0>"
      ]
     },
     "execution_count": 128,
     "metadata": {},
     "output_type": "execute_result"
    },
    {
     "data": {
      "image/png": "[encoded data removed]",
      "text/plain": [
       "<Figure size 432x288 with 1 Axes>"
      ]
     },
     "metadata": {
      "needs_background": "light"
     },
     "output_type": "display_data"
    }
   ],
   "source": [
    "user_plus_plan_internet[\"mb_used\"].hist(bins=50)"
   ]
  },
  {
   "cell_type": "code",
   "execution_count": 129,
   "id": "6f2d1bbb",
   "metadata": {},
   "outputs": [
    {
     "data": {
      "text/html": [
       "<div>\n",
       "<style scoped>\n",
       "    .dataframe tbody tr th:only-of-type {\n",
       "        vertical-align: middle;\n",
       "    }\n",
       "\n",
       "    .dataframe tbody tr th {\n",
       "        vertical-align: top;\n",
       "    }\n",
       "\n",
       "    .dataframe thead th {\n",
       "        text-align: right;\n",
       "    }\n",
       "</style>\n",
       "<table border=\"1\" class=\"dataframe\">\n",
       "  <thead>\n",
       "    <tr style=\"text-align: right;\">\n",
       "      <th></th>\n",
       "      <th>W</th>\n",
       "      <th>pval</th>\n",
       "      <th>normal</th>\n",
       "    </tr>\n",
       "  </thead>\n",
       "  <tbody>\n",
       "    <tr>\n",
       "      <th>mb_used</th>\n",
       "      <td>4700.958257</td>\n",
       "      <td>0.0</td>\n",
       "      <td>False</td>\n",
       "    </tr>\n",
       "  </tbody>\n",
       "</table>\n",
       "</div>"
      ],
      "text/plain": [
       "                   W  pval  normal\n",
       "mb_used  4700.958257   0.0   False"
      ]
     },
     "execution_count": 129,
     "metadata": {},
     "output_type": "execute_result"
    }
   ],
   "source": [
    "pg.normality(user_plus_plan_internet['mb_used'], method='normaltest')"
   ]
  },
  {
   "cell_type": "markdown",
   "id": "4d38c1df",
   "metadata": {},
   "source": [
    "#### Conclusion:\n"
   ]
  },
  {
   "cell_type": "markdown",
   "id": "d92f816c",
   "metadata": {},
   "source": [
    "### Aggregate internet data"
   ]
  },
  {
   "cell_type": "code",
   "execution_count": 130,
   "id": "79f3f104",
   "metadata": {},
   "outputs": [
    {
     "data": {
      "text/plain": [
       "<matplotlib.axes._subplots.AxesSubplot at 0x7f94ba93f290>"
      ]
     },
     "execution_count": 130,
     "metadata": {},
     "output_type": "execute_result"
    },
    {
     "data": {
      "image/png": "[encoded data removed]",
      "text/plain": [
       "<Figure size 432x288 with 1 Axes>"
      ]
     },
     "metadata": {
      "needs_background": "light"
     },
     "output_type": "display_data"
    }
   ],
   "source": [
    "user_plus_plan_internet[\"mb_used\"].hist(bins=50)"
   ]
  },
  {
   "cell_type": "code",
   "execution_count": 131,
   "id": "0ad515d1",
   "metadata": {},
   "outputs": [
    {
     "data": {
      "text/html": [
       "<div>\n",
       "<style scoped>\n",
       "    .dataframe tbody tr th:only-of-type {\n",
       "        vertical-align: middle;\n",
       "    }\n",
       "\n",
       "    .dataframe tbody tr th {\n",
       "        vertical-align: top;\n",
       "    }\n",
       "\n",
       "    .dataframe thead th {\n",
       "        text-align: right;\n",
       "    }\n",
       "</style>\n",
       "<table border=\"1\" class=\"dataframe\">\n",
       "  <thead>\n",
       "    <tr style=\"text-align: right;\">\n",
       "      <th></th>\n",
       "      <th>W</th>\n",
       "      <th>pval</th>\n",
       "      <th>normal</th>\n",
       "    </tr>\n",
       "  </thead>\n",
       "  <tbody>\n",
       "    <tr>\n",
       "      <th>mb_used</th>\n",
       "      <td>4700.958257</td>\n",
       "      <td>0.0</td>\n",
       "      <td>False</td>\n",
       "    </tr>\n",
       "  </tbody>\n",
       "</table>\n",
       "</div>"
      ],
      "text/plain": [
       "                   W  pval  normal\n",
       "mb_used  4700.958257   0.0   False"
      ]
     },
     "execution_count": 131,
     "metadata": {},
     "output_type": "execute_result"
    }
   ],
   "source": [
    "pg.normality(user_plus_plan_internet['mb_used'], method='normaltest')"
   ]
  },
  {
   "cell_type": "code",
   "execution_count": 132,
   "id": "5c6bef99",
   "metadata": {},
   "outputs": [
    {
     "data": {
      "image/png": "[encoded data removed]",
      "text/plain": [
       "<Figure size 1080x360 with 1 Axes>"
      ]
     },
     "metadata": {
      "needs_background": "light"
     },
     "output_type": "display_data"
    },
    {
     "name": "stdout",
     "output_type": "stream",
     "text": [
      "The average data usage for both plans is: 367\n",
      "The variance in data usage is: 76824\n",
      "The standard deviation of data usage is: 277\n",
      "The  averages per plan are:\n",
      "plan\n",
      "surf        363.844606\n",
      "ultimate    372.892800\n",
      "Name: mb_used, dtype: float64\n",
      "Values are centered around average\n"
     ]
    }
   ],
   "source": [
    "fig, ax = plt.subplots(figsize=(15,5))\n",
    "\n",
    "ax = sns.histplot(user_plus_plan_internet, x = \"month\", hue = \"plan\") \n",
    "\n",
    "\n",
    "plt.show()\n",
    "    \n",
    "mean=round(user_plus_plan_internet[\"mb_used\"].mean())\n",
    "std=round(user_plus_plan_internet[\"mb_used\"].std())\n",
    "var=round(user_plus_plan_internet[\"mb_used\"].var())\n",
    "cv=std/mean # Coefficient of variation\n",
    "    \n",
    "print(\"The average data usage for both plans is:\", mean)\n",
    "print(\"The variance in data usage is:\", var)\n",
    "print(\"The standard deviation of data usage is:\", std)\n",
    "print(\"The  averages per plan are:\")\n",
    "print(user_plus_plan_internet.groupby(['plan'])[\"mb_used\"].mean())\n",
    "    \n",
    "if cv>1: # The higher the coefficient of variation, the greater the level of dispersion around the mean\n",
    "    print(\"Values vary a lot\")\n",
    "else:\n",
    "    print('Values are centered around average')"
   ]
  },
  {
   "cell_type": "markdown",
   "id": "b6697e5d",
   "metadata": {},
   "source": [
    "#### Conclusion: \n",
    "Expectedly, both plans portray the same behavior.  The data usage is 10 minutes higher for the ultimate plan.  Though the variance is high at around 77k, it is still centered around the average.  Here too, the behavior of these aggregate call is similar for both plans.  In other words, the duration count in second part of the year 2018 gradually increases until it reaches its peak in December. "
   ]
  },
  {
   "cell_type": "markdown",
   "id": "d71ac075",
   "metadata": {},
   "source": [
    "### For the sake of comparison, I also reproduce the graph above using monthly_mb_user."
   ]
  },
  {
   "cell_type": "code",
   "execution_count": 133,
   "id": "86258ab1",
   "metadata": {},
   "outputs": [
    {
     "data": {
      "image/png": "[encoded data removed]",
      "text/plain": [
       "<Figure size 1080x360 with 1 Axes>"
      ]
     },
     "metadata": {
      "needs_background": "light"
     },
     "output_type": "display_data"
    },
    {
     "name": "stdout",
     "output_type": "stream",
     "text": [
      "The average monthly data usage per customer for both plans is: 19674\n",
      "The variance in monthly data usage per customer is: 57399638\n",
      "The standard deviation monthly data usage per customer is: 7576\n",
      "The  averages per plan are:\n",
      "plan\n",
      "surf        19617.401092\n",
      "ultimate    19796.768864\n",
      "Name: monthly_mb_user, dtype: float64\n",
      "Values are centered around average\n"
     ]
    }
   ],
   "source": [
    "fig, ax = plt.subplots(figsize=(15,5))\n",
    "\n",
    "ax = sns.histplot(user_plus_plan_internet, x = \"month\", hue = \"plan\") \n",
    "\n",
    "\n",
    "plt.show()\n",
    "    \n",
    "mean=round(user_plus_plan_internet[\"monthly_mb_user\"].mean())\n",
    "std=round(user_plus_plan_internet[\"monthly_mb_user\"].std())\n",
    "var=round(user_plus_plan_internet[\"monthly_mb_user\"].var())\n",
    "cv=std/mean # Coefficient of variation\n",
    "    \n",
    "print(\"The average monthly data usage per customer for both plans is:\", mean)\n",
    "print(\"The variance in monthly data usage per customer is:\", var)\n",
    "print(\"The standard deviation monthly data usage per customer is:\", std)\n",
    "print(\"The  averages per plan are:\")\n",
    "print(user_plus_plan_internet.groupby(['plan'])[\"monthly_mb_user\"].mean())\n",
    "    \n",
    "if cv>1: # The higher the coefficient of variation, the greater the level of dispersion around the mean\n",
    "    print(\"Values vary a lot\")\n",
    "else:\n",
    "    print('Values are centered around average')"
   ]
  },
  {
   "cell_type": "code",
   "execution_count": 134,
   "id": "d505fea6",
   "metadata": {},
   "outputs": [
    {
     "data": {
      "image/png": "[encoded data removed]",
      "text/plain": [
       "<Figure size 1080x360 with 1 Axes>"
      ]
     },
     "metadata": {
      "needs_background": "light"
     },
     "output_type": "display_data"
    },
    {
     "name": "stdout",
     "output_type": "stream",
     "text": [
      "The average monthly data usage per customer for both plans is: 20\n",
      "The variance in monthly data usage per customer is: 55\n",
      "The standard deviation monthly data usage per customer is: 7\n",
      "The  averages per plan are:\n",
      "plan\n",
      "surf        19.665409\n",
      "ultimate    19.829357\n",
      "Name: monthly_gb_user, dtype: float64\n",
      "Values are centered around average\n"
     ]
    }
   ],
   "source": [
    "fig, ax = plt.subplots(figsize=(15,5))\n",
    "\n",
    "ax = sns.histplot(user_plus_plan_internet, x = \"month\", hue = \"plan\") \n",
    "\n",
    "\n",
    "plt.show()\n",
    "    \n",
    "mean=round(user_plus_plan_internet[\"monthly_gb_user\"].mean())\n",
    "std=round(user_plus_plan_internet[\"monthly_gb_user\"].std())\n",
    "var=round(user_plus_plan_internet[\"monthly_gb_user\"].var())\n",
    "cv=std/mean # Coefficient of variation\n",
    "    \n",
    "print(\"The average monthly data usage per customer for both plans is:\", mean)\n",
    "print(\"The variance in monthly data usage per customer is:\", var)\n",
    "print(\"The standard deviation monthly data usage per customer is:\", std)\n",
    "print(\"The  averages per plan are:\")\n",
    "print(user_plus_plan_internet.groupby(['plan'])[\"monthly_gb_user\"].mean())\n",
    "    \n",
    "if cv>1: # The higher the coefficient of variation, the greater the level of dispersion around the mean\n",
    "    print(\"Values vary a lot\")\n",
    "else:\n",
    "    print('Values are centered around average')"
   ]
  },
  {
   "cell_type": "markdown",
   "id": "3a1e6add",
   "metadata": {},
   "source": [
    "#### Conclusion: \n",
    "Expectedly, both plans portray the same behavior.  The monthly data usage per user is 180 minutes higher for the ultimate plan.  Though the variance is high at around 57399638, it is still centered around the average.  Here too, the behavior of these monthly aggregate call is similar for both plans.  In other words, the duration count in second part of the year 2018 gradually increases until it reaches its peak in December. "
   ]
  },
  {
   "cell_type": "markdown",
   "id": "b4431898",
   "metadata": {},
   "source": [
    "### Section conclusion:\n",
    "We know that the surf customers are twice as many as the ultimate customers.  We also know that these customers account for most overages in all three services: text, data and calls.  The fact that their share of usage is, on average, half of that of ultimate in each service is xx"
   ]
  },
  {
   "cell_type": "markdown",
   "id": "b26e0a2f",
   "metadata": {},
   "source": [
    "# Hypothesis test "
   ]
  },
  {
   "cell_type": "markdown",
   "id": "13adca48",
   "metadata": {},
   "source": [
    "## The average revenue from users of Ultimate and Surf calling plans differs."
   ]
  },
  {
   "cell_type": "markdown",
   "id": "95a3b104",
   "metadata": {},
   "source": [
    "Using the dataframe that allowed us to compute monthly revenues from each customer, I create two new columns, surf and ultimate that represent the mean income from each plan."
   ]
  },
  {
   "cell_type": "code",
   "execution_count": 135,
   "id": "e845d28a",
   "metadata": {},
   "outputs": [
    {
     "data": {
      "text/plain": [
       "plan\n",
       "surf        3644.379777\n",
       "ultimate     308.313083\n",
       "Name: monthly_payment_per_user, dtype: float64"
      ]
     },
     "execution_count": 135,
     "metadata": {},
     "output_type": "execute_result"
    }
   ],
   "source": [
    "df.groupby('plan')['monthly_payment_per_user'].mean()"
   ]
  },
  {
   "cell_type": "code",
   "execution_count": 136,
   "id": "6bd9b074",
   "metadata": {},
   "outputs": [
    {
     "data": {
      "text/plain": [
       "plan\n",
       "surf        5977.123285\n",
       "ultimate    1046.566171\n",
       "Name: monthly_payment_per_user, dtype: float64"
      ]
     },
     "execution_count": 136,
     "metadata": {},
     "output_type": "execute_result"
    }
   ],
   "source": [
    "df.groupby('plan')['monthly_payment_per_user'].std()"
   ]
  },
  {
   "cell_type": "markdown",
   "id": "791f5fe0",
   "metadata": {},
   "source": [
    "From the two results above, we know that the groups are different.  But we will still continue to answer the question."
   ]
  },
  {
   "cell_type": "code",
   "execution_count": 137,
   "id": "4354b253",
   "metadata": {},
   "outputs": [],
   "source": [
    "surf = df.loc[(df['plan'] == \"surf\")]\n",
    "ultimate = df.loc[(df['plan'] == \"ultimate\")]"
   ]
  },
  {
   "cell_type": "markdown",
   "id": "674063b4",
   "metadata": {},
   "source": [
    "### Choosing a test:\n",
    "We have two samples and we want to know if they originate from the same distribution.  We perform a two sample t-test.   I test difference between two means for two different groups. Our null hypothesis is always that the groups are similar.  Our alternative hypothesis is that they are different.  We already know the answer to this question from all the analysis we did above.  The behavior of the users of the surf plan is different from those of the ultimate plan."
   ]
  },
  {
   "cell_type": "code",
   "execution_count": 138,
   "id": "845f40d1",
   "metadata": {},
   "outputs": [
    {
     "name": "stdout",
     "output_type": "stream",
     "text": [
      "p-values0.0\n",
      "We are rejecting the null hypothesis\n"
     ]
    }
   ],
   "source": [
    "t, pval = ttest_ind(surf.monthly_payment_per_user, ultimate.monthly_payment_per_user)\n",
    "\n",
    "print(\"p-values\" + str(pval))\n",
    "if pval < 0.05:    # alpha value is 0.05 or 5%\n",
    "    print(\"We are rejecting the null hypothesis\")\n",
    "else:\n",
    "    print(\"We are not rejecting the null hypothesis\")"
   ]
  },
  {
   "cell_type": "markdown",
   "id": "764ba7db",
   "metadata": {},
   "source": [
    "### Conclusion:\n",
    "Unsurprisingly, these two means are different and as a result, the two groups come from different distributions."
   ]
  },
  {
   "cell_type": "markdown",
   "id": "4a80c6b3",
   "metadata": {},
   "source": [
    "## The average revenue from users in NY-NJ area is different from that of the users from other regions."
   ]
  },
  {
   "cell_type": "markdown",
   "id": "dd62db66",
   "metadata": {},
   "source": [
    "Like above, using the dataframe that allowed us to compute monthly revenues from each customer, I create two new columns, NY_NJ and other_cities that represent the mean income from  each group."
   ]
  },
  {
   "cell_type": "code",
   "execution_count": 139,
   "id": "a0094672",
   "metadata": {},
   "outputs": [],
   "source": [
    "#df[['NY_NJ','other_cities']] = df.groupby('NY_NJ')['monthly_payment_per_user']\n",
    "NY     = df.loc[(df['city'] == \"New York-Newark-Jersey City, NY-NJ-PA MSA\")]\n",
    "non_NY = df.loc[(df['city'] != \"New York-Newark-Jersey City, NY-NJ-PA MSA\")]"
   ]
  },
  {
   "cell_type": "code",
   "execution_count": 140,
   "id": "3fb1d832",
   "metadata": {},
   "outputs": [
    {
     "data": {
      "text/plain": [
       "2463.5590564116897"
      ]
     },
     "execution_count": 140,
     "metadata": {},
     "output_type": "execute_result"
    }
   ],
   "source": [
    "NY.monthly_payment_per_user.mean()"
   ]
  },
  {
   "cell_type": "code",
   "execution_count": 141,
   "id": "a4d81ae4",
   "metadata": {},
   "outputs": [
    {
     "data": {
      "text/plain": [
       "2573.504619364733"
      ]
     },
     "execution_count": 141,
     "metadata": {},
     "output_type": "execute_result"
    }
   ],
   "source": [
    "non_NY.monthly_payment_per_user.mean()"
   ]
  },
  {
   "cell_type": "code",
   "execution_count": 142,
   "id": "311fa115",
   "metadata": {},
   "outputs": [
    {
     "name": "stdout",
     "output_type": "stream",
     "text": [
      "p-values1.3135638869932397e-05\n",
      "We are rejecting the null hypothesis\n"
     ]
    }
   ],
   "source": [
    "t, pval = ttest_ind(NY.monthly_payment_per_user, non_NY.monthly_payment_per_user)\n",
    "\n",
    "print(\"p-values\" + str(pval))\n",
    "if pval < 0.05:    # alpha value is 0.05 or 5%\n",
    "    print(\"We are rejecting the null hypothesis\")\n",
    "else:\n",
    "    print(\"We are not rejecting the null hypothesis\")"
   ]
  },
  {
   "cell_type": "markdown",
   "id": "7748b3ea",
   "metadata": {},
   "source": [
    "### Conclusion:\n",
    "We have two samples and we want to know if they originate from the same distribution.  We perform a t-test.  Our null hypothesis is always that the groups are similar.  Our alternative hypothesis is that they are different. However, we have no idea about the behavior of these two group with regards to their usage.  We find that the groups are indeed different.  NY-NJ users of this phone service company differ from users in other cities."
   ]
  },
  {
   "cell_type": "markdown",
   "id": "1021813b",
   "metadata": {},
   "source": [
    "## General conclusion:\n",
    "Looking closer at the data from Megaline, I found that: \n",
    "- Surf monthly duration overages totaled \\\\$323,265; Ultimate did not pay text overages. \n",
    "- Surf monthly text overages totaled \\\\$36,750; Ultimate did not pay text overages.\n",
    "- Internet is the most profitable service in 2018 from both plans. Plan surf monthly data overages totaled \\\\$3.6 million while ultimate accounted for around \\\\$117,000. In other words, the Ultimate plan accounts for a mere 3.2\\% of the overall revenues from overages in data. Noteworthy that the overage from data from the Ultimate plan is less than the overages from call duration from call duration.\n",
    "\n",
    "- I conclude that Megaline uses a profitable marketing strategy that on the outside seems as if it offers budget options for low income individuals.  In fact, the cheaper plan is deceptive and the most profitable for the company.  I say deceptive for two reasons: \n",
    "    1- The company knows the monthly usage per plan of its users, all services combined, is similar. In fact, the average monthly duration for the Surf plan is around 552 min compared to 560 min for the Ultimate plan.  The average number of message is 67 for Surf and 70 for Ultimate. While the average data usage is around 20 gb per month for both plans.\n",
    "    2- Its profitable rounding strategy comes at the expense of Surf users:\n",
    "        a- On average rounding increased the number of minutes per user by 5.6\\% which translates into a faster way for Surf users to meet their monthly alloted limit per plan.\n",
    "        b- Surf plan users paid over \\\\$275,000 in data plan compared to \\\\$10,500 only for the ultimate users.\n",
    "        \n",
    "- Interestingly, the NY users pay less monthly fees that their counterparts around the US. There is not anything in the data that explains this behavior."
   ]
  }
 ],
 "metadata": {
  "ExecuteTimeLog": [
   {
    "duration": 1616,
    "start_time": "2022-03-14T18:38:49.365Z"
   },
   {
    "duration": -39,
    "start_time": "2022-03-14T18:38:51.028Z"
   },
   {
    "duration": -50,
    "start_time": "2022-03-14T18:38:51.040Z"
   },
   {
    "duration": -64,
    "start_time": "2022-03-14T18:38:51.055Z"
   },
   {
    "duration": -76,
    "start_time": "2022-03-14T18:38:51.067Z"
   },
   {
    "duration": -95,
    "start_time": "2022-03-14T18:38:51.087Z"
   },
   {
    "duration": -106,
    "start_time": "2022-03-14T18:38:51.099Z"
   },
   {
    "duration": -119,
    "start_time": "2022-03-14T18:38:51.113Z"
   },
   {
    "duration": -129,
    "start_time": "2022-03-14T18:38:51.124Z"
   },
   {
    "duration": -140,
    "start_time": "2022-03-14T18:38:51.136Z"
   },
   {
    "duration": -151,
    "start_time": "2022-03-14T18:38:51.148Z"
   },
   {
    "duration": -159,
    "start_time": "2022-03-14T18:38:51.156Z"
   },
   {
    "duration": -168,
    "start_time": "2022-03-14T18:38:51.166Z"
   },
   {
    "duration": -174,
    "start_time": "2022-03-14T18:38:51.174Z"
   },
   {
    "duration": -182,
    "start_time": "2022-03-14T18:38:51.183Z"
   },
   {
    "duration": -190,
    "start_time": "2022-03-14T18:38:51.191Z"
   },
   {
    "duration": -197,
    "start_time": "2022-03-14T18:38:51.199Z"
   },
   {
    "duration": -204,
    "start_time": "2022-03-14T18:38:51.207Z"
   },
   {
    "duration": -210,
    "start_time": "2022-03-14T18:38:51.214Z"
   },
   {
    "duration": -216,
    "start_time": "2022-03-14T18:38:51.221Z"
   },
   {
    "duration": -223,
    "start_time": "2022-03-14T18:38:51.229Z"
   },
   {
    "duration": -228,
    "start_time": "2022-03-14T18:38:51.235Z"
   },
   {
    "duration": -234,
    "start_time": "2022-03-14T18:38:51.242Z"
   },
   {
    "duration": -241,
    "start_time": "2022-03-14T18:38:51.250Z"
   },
   {
    "duration": -245,
    "start_time": "2022-03-14T18:38:51.256Z"
   },
   {
    "duration": -252,
    "start_time": "2022-03-14T18:38:51.264Z"
   },
   {
    "duration": -257,
    "start_time": "2022-03-14T18:38:51.270Z"
   },
   {
    "duration": -264,
    "start_time": "2022-03-14T18:38:51.278Z"
   },
   {
    "duration": -272,
    "start_time": "2022-03-14T18:38:51.287Z"
   },
   {
    "duration": -286,
    "start_time": "2022-03-14T18:38:51.301Z"
   },
   {
    "duration": -293,
    "start_time": "2022-03-14T18:38:51.309Z"
   },
   {
    "duration": -302,
    "start_time": "2022-03-14T18:38:51.319Z"
   },
   {
    "duration": -311,
    "start_time": "2022-03-14T18:38:51.329Z"
   },
   {
    "duration": -321,
    "start_time": "2022-03-14T18:38:51.340Z"
   },
   {
    "duration": -329,
    "start_time": "2022-03-14T18:38:51.349Z"
   },
   {
    "duration": -336,
    "start_time": "2022-03-14T18:38:51.357Z"
   },
   {
    "duration": -344,
    "start_time": "2022-03-14T18:38:51.365Z"
   },
   {
    "duration": -351,
    "start_time": "2022-03-14T18:38:51.373Z"
   },
   {
    "duration": -358,
    "start_time": "2022-03-14T18:38:51.381Z"
   },
   {
    "duration": -366,
    "start_time": "2022-03-14T18:38:51.390Z"
   },
   {
    "duration": -373,
    "start_time": "2022-03-14T18:38:51.397Z"
   },
   {
    "duration": -379,
    "start_time": "2022-03-14T18:38:51.404Z"
   },
   {
    "duration": -350,
    "start_time": "2022-03-14T18:38:51.412Z"
   },
   {
    "duration": -355,
    "start_time": "2022-03-14T18:38:51.420Z"
   },
   {
    "duration": -361,
    "start_time": "2022-03-14T18:38:51.427Z"
   },
   {
    "duration": -368,
    "start_time": "2022-03-14T18:38:51.435Z"
   },
   {
    "duration": -376,
    "start_time": "2022-03-14T18:38:51.445Z"
   },
   {
    "duration": -384,
    "start_time": "2022-03-14T18:38:51.454Z"
   },
   {
    "duration": -392,
    "start_time": "2022-03-14T18:38:51.463Z"
   },
   {
    "duration": -399,
    "start_time": "2022-03-14T18:38:51.471Z"
   },
   {
    "duration": -406,
    "start_time": "2022-03-14T18:38:51.479Z"
   },
   {
    "duration": -413,
    "start_time": "2022-03-14T18:38:51.488Z"
   },
   {
    "duration": -420,
    "start_time": "2022-03-14T18:38:51.496Z"
   },
   {
    "duration": -428,
    "start_time": "2022-03-14T18:38:51.505Z"
   },
   {
    "duration": -435,
    "start_time": "2022-03-14T18:38:51.513Z"
   },
   {
    "duration": -442,
    "start_time": "2022-03-14T18:38:51.521Z"
   },
   {
    "duration": -449,
    "start_time": "2022-03-14T18:38:51.530Z"
   },
   {
    "duration": -457,
    "start_time": "2022-03-14T18:38:51.539Z"
   },
   {
    "duration": -464,
    "start_time": "2022-03-14T18:38:51.547Z"
   },
   {
    "duration": -472,
    "start_time": "2022-03-14T18:38:51.556Z"
   },
   {
    "duration": -479,
    "start_time": "2022-03-14T18:38:51.564Z"
   },
   {
    "duration": -484,
    "start_time": "2022-03-14T18:38:51.571Z"
   },
   {
    "duration": -492,
    "start_time": "2022-03-14T18:38:51.580Z"
   },
   {
    "duration": -498,
    "start_time": "2022-03-14T18:38:51.587Z"
   },
   {
    "duration": -503,
    "start_time": "2022-03-14T18:38:51.593Z"
   },
   {
    "duration": -511,
    "start_time": "2022-03-14T18:38:51.602Z"
   },
   {
    "duration": -516,
    "start_time": "2022-03-14T18:38:51.608Z"
   },
   {
    "duration": -525,
    "start_time": "2022-03-14T18:38:51.617Z"
   },
   {
    "duration": -530,
    "start_time": "2022-03-14T18:38:51.623Z"
   },
   {
    "duration": -537,
    "start_time": "2022-03-14T18:38:51.631Z"
   },
   {
    "duration": -543,
    "start_time": "2022-03-14T18:38:51.638Z"
   },
   {
    "duration": -549,
    "start_time": "2022-03-14T18:38:51.645Z"
   },
   {
    "duration": -556,
    "start_time": "2022-03-14T18:38:51.652Z"
   },
   {
    "duration": -561,
    "start_time": "2022-03-14T18:38:51.658Z"
   },
   {
    "duration": -567,
    "start_time": "2022-03-14T18:38:51.665Z"
   },
   {
    "duration": -574,
    "start_time": "2022-03-14T18:38:51.673Z"
   },
   {
    "duration": -581,
    "start_time": "2022-03-14T18:38:51.680Z"
   },
   {
    "duration": -591,
    "start_time": "2022-03-14T18:38:51.691Z"
   },
   {
    "duration": -597,
    "start_time": "2022-03-14T18:38:51.698Z"
   },
   {
    "duration": -539,
    "start_time": "2022-03-14T18:38:51.706Z"
   },
   {
    "duration": -544,
    "start_time": "2022-03-14T18:38:51.714Z"
   },
   {
    "duration": -552,
    "start_time": "2022-03-14T18:38:51.723Z"
   },
   {
    "duration": -558,
    "start_time": "2022-03-14T18:38:51.730Z"
   },
   {
    "duration": -562,
    "start_time": "2022-03-14T18:38:51.736Z"
   },
   {
    "duration": -561,
    "start_time": "2022-03-14T18:38:51.742Z"
   },
   {
    "duration": -569,
    "start_time": "2022-03-14T18:38:51.751Z"
   },
   {
    "duration": -574,
    "start_time": "2022-03-14T18:38:51.757Z"
   },
   {
    "duration": -579,
    "start_time": "2022-03-14T18:38:51.764Z"
   },
   {
    "duration": -584,
    "start_time": "2022-03-14T18:38:51.770Z"
   },
   {
    "duration": -590,
    "start_time": "2022-03-14T18:38:51.777Z"
   },
   {
    "duration": -595,
    "start_time": "2022-03-14T18:38:51.783Z"
   },
   {
    "duration": -601,
    "start_time": "2022-03-14T18:38:51.790Z"
   },
   {
    "duration": -607,
    "start_time": "2022-03-14T18:38:51.797Z"
   },
   {
    "duration": -613,
    "start_time": "2022-03-14T18:38:51.804Z"
   },
   {
    "duration": -618,
    "start_time": "2022-03-14T18:38:51.810Z"
   },
   {
    "duration": -626,
    "start_time": "2022-03-14T18:38:51.818Z"
   },
   {
    "duration": -631,
    "start_time": "2022-03-14T18:38:51.824Z"
   },
   {
    "duration": -637,
    "start_time": "2022-03-14T18:38:51.831Z"
   },
   {
    "duration": -642,
    "start_time": "2022-03-14T18:38:51.837Z"
   },
   {
    "duration": -648,
    "start_time": "2022-03-14T18:38:51.844Z"
   },
   {
    "duration": -655,
    "start_time": "2022-03-14T18:38:51.851Z"
   },
   {
    "duration": -663,
    "start_time": "2022-03-14T18:38:51.860Z"
   },
   {
    "duration": -669,
    "start_time": "2022-03-14T18:38:51.867Z"
   },
   {
    "duration": -675,
    "start_time": "2022-03-14T18:38:51.874Z"
   },
   {
    "duration": -681,
    "start_time": "2022-03-14T18:38:51.881Z"
   },
   {
    "duration": -687,
    "start_time": "2022-03-14T18:38:51.888Z"
   },
   {
    "duration": -692,
    "start_time": "2022-03-14T18:38:51.894Z"
   },
   {
    "duration": -699,
    "start_time": "2022-03-14T18:38:51.902Z"
   },
   {
    "duration": -705,
    "start_time": "2022-03-14T18:38:51.908Z"
   },
   {
    "duration": -754,
    "start_time": "2022-03-14T18:38:51.958Z"
   },
   {
    "duration": -761,
    "start_time": "2022-03-14T18:38:51.966Z"
   },
   {
    "duration": -767,
    "start_time": "2022-03-14T18:38:51.972Z"
   },
   {
    "duration": -773,
    "start_time": "2022-03-14T18:38:51.979Z"
   },
   {
    "duration": -721,
    "start_time": "2022-03-14T18:38:51.985Z"
   },
   {
    "duration": -725,
    "start_time": "2022-03-14T18:38:51.991Z"
   },
   {
    "duration": -732,
    "start_time": "2022-03-14T18:38:51.999Z"
   },
   {
    "duration": -737,
    "start_time": "2022-03-14T18:38:52.005Z"
   },
   {
    "duration": -742,
    "start_time": "2022-03-14T18:38:52.012Z"
   },
   {
    "duration": -747,
    "start_time": "2022-03-14T18:38:52.018Z"
   },
   {
    "duration": -753,
    "start_time": "2022-03-14T18:38:52.025Z"
   },
   {
    "duration": -759,
    "start_time": "2022-03-14T18:38:52.032Z"
   },
   {
    "duration": -764,
    "start_time": "2022-03-14T18:38:52.038Z"
   },
   {
    "duration": -769,
    "start_time": "2022-03-14T18:38:52.044Z"
   },
   {
    "duration": -774,
    "start_time": "2022-03-14T18:38:52.051Z"
   },
   {
    "duration": -792,
    "start_time": "2022-03-14T18:38:52.070Z"
   },
   {
    "duration": -796,
    "start_time": "2022-03-14T18:38:52.076Z"
   },
   {
    "duration": -803,
    "start_time": "2022-03-14T18:38:52.084Z"
   },
   {
    "duration": -808,
    "start_time": "2022-03-14T18:38:52.090Z"
   },
   {
    "duration": 1897,
    "start_time": "2022-03-14T18:41:02.655Z"
   },
   {
    "duration": 8,
    "start_time": "2022-03-14T18:41:04.554Z"
   },
   {
    "duration": 9,
    "start_time": "2022-03-14T18:41:04.564Z"
   },
   {
    "duration": 10,
    "start_time": "2022-03-14T18:41:04.575Z"
   },
   {
    "duration": 7,
    "start_time": "2022-03-14T18:41:04.586Z"
   },
   {
    "duration": 6,
    "start_time": "2022-03-14T18:41:04.595Z"
   },
   {
    "duration": 10,
    "start_time": "2022-03-14T18:41:04.603Z"
   },
   {
    "duration": 8,
    "start_time": "2022-03-14T18:41:04.615Z"
   },
   {
    "duration": 12,
    "start_time": "2022-03-14T18:41:04.625Z"
   },
   {
    "duration": 10,
    "start_time": "2022-03-14T18:41:04.639Z"
   },
   {
    "duration": 16,
    "start_time": "2022-03-14T18:41:04.650Z"
   },
   {
    "duration": 11,
    "start_time": "2022-03-14T18:41:04.667Z"
   },
   {
    "duration": 12,
    "start_time": "2022-03-14T18:41:04.680Z"
   },
   {
    "duration": 303,
    "start_time": "2022-03-14T18:41:04.693Z"
   },
   {
    "duration": -2660,
    "start_time": "2022-03-14T18:41:07.661Z"
   },
   {
    "duration": -2666,
    "start_time": "2022-03-14T18:41:07.668Z"
   },
   {
    "duration": -2675,
    "start_time": "2022-03-14T18:41:07.678Z"
   },
   {
    "duration": -2681,
    "start_time": "2022-03-14T18:41:07.685Z"
   },
   {
    "duration": -2687,
    "start_time": "2022-03-14T18:41:07.692Z"
   },
   {
    "duration": -2693,
    "start_time": "2022-03-14T18:41:07.699Z"
   },
   {
    "duration": -2700,
    "start_time": "2022-03-14T18:41:07.707Z"
   },
   {
    "duration": -2705,
    "start_time": "2022-03-14T18:41:07.713Z"
   },
   {
    "duration": -2712,
    "start_time": "2022-03-14T18:41:07.721Z"
   },
   {
    "duration": -2718,
    "start_time": "2022-03-14T18:41:07.728Z"
   },
   {
    "duration": -2726,
    "start_time": "2022-03-14T18:41:07.737Z"
   },
   {
    "duration": -2734,
    "start_time": "2022-03-14T18:41:07.746Z"
   },
   {
    "duration": -2752,
    "start_time": "2022-03-14T18:41:07.765Z"
   },
   {
    "duration": -2761,
    "start_time": "2022-03-14T18:41:07.775Z"
   },
   {
    "duration": -2770,
    "start_time": "2022-03-14T18:41:07.785Z"
   },
   {
    "duration": -2777,
    "start_time": "2022-03-14T18:41:07.794Z"
   },
   {
    "duration": -2786,
    "start_time": "2022-03-14T18:41:07.804Z"
   },
   {
    "duration": -2795,
    "start_time": "2022-03-14T18:41:07.814Z"
   },
   {
    "duration": -2804,
    "start_time": "2022-03-14T18:41:07.824Z"
   },
   {
    "duration": -2815,
    "start_time": "2022-03-14T18:41:07.836Z"
   },
   {
    "duration": -2826,
    "start_time": "2022-03-14T18:41:07.848Z"
   },
   {
    "duration": -2836,
    "start_time": "2022-03-14T18:41:07.859Z"
   },
   {
    "duration": -2857,
    "start_time": "2022-03-14T18:41:07.881Z"
   },
   {
    "duration": -2864,
    "start_time": "2022-03-14T18:41:07.889Z"
   },
   {
    "duration": -2872,
    "start_time": "2022-03-14T18:41:07.898Z"
   },
   {
    "duration": -2882,
    "start_time": "2022-03-14T18:41:07.909Z"
   },
   {
    "duration": -2893,
    "start_time": "2022-03-14T18:41:07.921Z"
   },
   {
    "duration": -2899,
    "start_time": "2022-03-14T18:41:07.928Z"
   },
   {
    "duration": -2905,
    "start_time": "2022-03-14T18:41:07.935Z"
   },
   {
    "duration": -2910,
    "start_time": "2022-03-14T18:41:07.941Z"
   },
   {
    "duration": -2917,
    "start_time": "2022-03-14T18:41:07.949Z"
   },
   {
    "duration": -2923,
    "start_time": "2022-03-14T18:41:07.956Z"
   },
   {
    "duration": -2929,
    "start_time": "2022-03-14T18:41:07.963Z"
   },
   {
    "duration": -2936,
    "start_time": "2022-03-14T18:41:07.970Z"
   },
   {
    "duration": -2943,
    "start_time": "2022-03-14T18:41:07.978Z"
   },
   {
    "duration": -2957,
    "start_time": "2022-03-14T18:41:07.993Z"
   },
   {
    "duration": -2963,
    "start_time": "2022-03-14T18:41:08.000Z"
   },
   {
    "duration": -2944,
    "start_time": "2022-03-14T18:41:08.007Z"
   },
   {
    "duration": -2951,
    "start_time": "2022-03-14T18:41:08.015Z"
   },
   {
    "duration": -2956,
    "start_time": "2022-03-14T18:41:08.021Z"
   },
   {
    "duration": -2963,
    "start_time": "2022-03-14T18:41:08.029Z"
   },
   {
    "duration": -2969,
    "start_time": "2022-03-14T18:41:08.036Z"
   },
   {
    "duration": -2976,
    "start_time": "2022-03-14T18:41:08.044Z"
   },
   {
    "duration": -2983,
    "start_time": "2022-03-14T18:41:08.052Z"
   },
   {
    "duration": -2994,
    "start_time": "2022-03-14T18:41:08.064Z"
   },
   {
    "duration": -3006,
    "start_time": "2022-03-14T18:41:08.077Z"
   },
   {
    "duration": -3015,
    "start_time": "2022-03-14T18:41:08.087Z"
   },
   {
    "duration": -3038,
    "start_time": "2022-03-14T18:41:08.111Z"
   },
   {
    "duration": -3065,
    "start_time": "2022-03-14T18:41:08.139Z"
   },
   {
    "duration": -3081,
    "start_time": "2022-03-14T18:41:08.155Z"
   },
   {
    "duration": -3098,
    "start_time": "2022-03-14T18:41:08.173Z"
   },
   {
    "duration": -3108,
    "start_time": "2022-03-14T18:41:08.184Z"
   },
   {
    "duration": -3119,
    "start_time": "2022-03-14T18:41:08.196Z"
   },
   {
    "duration": -3129,
    "start_time": "2022-03-14T18:41:08.207Z"
   },
   {
    "duration": -3153,
    "start_time": "2022-03-14T18:41:08.232Z"
   },
   {
    "duration": -3162,
    "start_time": "2022-03-14T18:41:08.241Z"
   },
   {
    "duration": -3169,
    "start_time": "2022-03-14T18:41:08.249Z"
   },
   {
    "duration": -3175,
    "start_time": "2022-03-14T18:41:08.256Z"
   },
   {
    "duration": -3181,
    "start_time": "2022-03-14T18:41:08.263Z"
   },
   {
    "duration": -3188,
    "start_time": "2022-03-14T18:41:08.270Z"
   },
   {
    "duration": -3195,
    "start_time": "2022-03-14T18:41:08.278Z"
   },
   {
    "duration": -3199,
    "start_time": "2022-03-14T18:41:08.284Z"
   },
   {
    "duration": -3207,
    "start_time": "2022-03-14T18:41:08.292Z"
   },
   {
    "duration": -3212,
    "start_time": "2022-03-14T18:41:08.298Z"
   },
   {
    "duration": -3218,
    "start_time": "2022-03-14T18:41:08.305Z"
   },
   {
    "duration": -3225,
    "start_time": "2022-03-14T18:41:08.313Z"
   },
   {
    "duration": -3231,
    "start_time": "2022-03-14T18:41:08.322Z"
   },
   {
    "duration": -3238,
    "start_time": "2022-03-14T18:41:08.330Z"
   },
   {
    "duration": -3257,
    "start_time": "2022-03-14T18:41:08.350Z"
   },
   {
    "duration": -3266,
    "start_time": "2022-03-14T18:41:08.360Z"
   },
   {
    "duration": -3307,
    "start_time": "2022-03-14T18:41:08.402Z"
   },
   {
    "duration": -3314,
    "start_time": "2022-03-14T18:41:08.410Z"
   },
   {
    "duration": -3322,
    "start_time": "2022-03-14T18:41:08.419Z"
   },
   {
    "duration": -3331,
    "start_time": "2022-03-14T18:41:08.429Z"
   },
   {
    "duration": -3344,
    "start_time": "2022-03-14T18:41:08.443Z"
   },
   {
    "duration": -3385,
    "start_time": "2022-03-14T18:41:08.486Z"
   },
   {
    "duration": -3413,
    "start_time": "2022-03-14T18:41:08.515Z"
   },
   {
    "duration": -3360,
    "start_time": "2022-03-14T18:41:08.523Z"
   },
   {
    "duration": -3367,
    "start_time": "2022-03-14T18:41:08.531Z"
   },
   {
    "duration": -3372,
    "start_time": "2022-03-14T18:41:08.537Z"
   },
   {
    "duration": -3378,
    "start_time": "2022-03-14T18:41:08.544Z"
   },
   {
    "duration": -3384,
    "start_time": "2022-03-14T18:41:08.551Z"
   },
   {
    "duration": -3422,
    "start_time": "2022-03-14T18:41:08.590Z"
   },
   {
    "duration": -3429,
    "start_time": "2022-03-14T18:41:08.598Z"
   },
   {
    "duration": -3436,
    "start_time": "2022-03-14T18:41:08.606Z"
   },
   {
    "duration": -3443,
    "start_time": "2022-03-14T18:41:08.614Z"
   },
   {
    "duration": -3450,
    "start_time": "2022-03-14T18:41:08.622Z"
   },
   {
    "duration": -3456,
    "start_time": "2022-03-14T18:41:08.629Z"
   },
   {
    "duration": -3465,
    "start_time": "2022-03-14T18:41:08.639Z"
   },
   {
    "duration": -3471,
    "start_time": "2022-03-14T18:41:08.646Z"
   },
   {
    "duration": -3478,
    "start_time": "2022-03-14T18:41:08.654Z"
   },
   {
    "duration": -3486,
    "start_time": "2022-03-14T18:41:08.663Z"
   },
   {
    "duration": -3498,
    "start_time": "2022-03-14T18:41:08.676Z"
   },
   {
    "duration": -3506,
    "start_time": "2022-03-14T18:41:08.685Z"
   },
   {
    "duration": -3531,
    "start_time": "2022-03-14T18:41:08.711Z"
   },
   {
    "duration": -3539,
    "start_time": "2022-03-14T18:41:08.720Z"
   },
   {
    "duration": -3550,
    "start_time": "2022-03-14T18:41:08.732Z"
   },
   {
    "duration": -3560,
    "start_time": "2022-03-14T18:41:08.743Z"
   },
   {
    "duration": -3578,
    "start_time": "2022-03-14T18:41:08.762Z"
   },
   {
    "duration": -3590,
    "start_time": "2022-03-14T18:41:08.775Z"
   },
   {
    "duration": -3607,
    "start_time": "2022-03-14T18:41:08.793Z"
   },
   {
    "duration": -3645,
    "start_time": "2022-03-14T18:41:08.832Z"
   },
   {
    "duration": -3670,
    "start_time": "2022-03-14T18:41:08.858Z"
   },
   {
    "duration": -3677,
    "start_time": "2022-03-14T18:41:08.866Z"
   },
   {
    "duration": -3686,
    "start_time": "2022-03-14T18:41:08.876Z"
   },
   {
    "duration": -3692,
    "start_time": "2022-03-14T18:41:08.884Z"
   },
   {
    "duration": -3699,
    "start_time": "2022-03-14T18:41:08.892Z"
   },
   {
    "duration": -3706,
    "start_time": "2022-03-14T18:41:08.900Z"
   },
   {
    "duration": -3716,
    "start_time": "2022-03-14T18:41:08.911Z"
   },
   {
    "duration": -3725,
    "start_time": "2022-03-14T18:41:08.921Z"
   },
   {
    "duration": -3748,
    "start_time": "2022-03-14T18:41:08.945Z"
   },
   {
    "duration": -3756,
    "start_time": "2022-03-14T18:41:08.954Z"
   },
   {
    "duration": -3767,
    "start_time": "2022-03-14T18:41:08.966Z"
   },
   {
    "duration": -3776,
    "start_time": "2022-03-14T18:41:08.976Z"
   },
   {
    "duration": 1628,
    "start_time": "2022-03-14T18:41:48.726Z"
   },
   {
    "duration": 9,
    "start_time": "2022-03-14T18:41:50.356Z"
   },
   {
    "duration": 11,
    "start_time": "2022-03-14T18:41:50.368Z"
   },
   {
    "duration": 14,
    "start_time": "2022-03-14T18:41:50.381Z"
   },
   {
    "duration": 7,
    "start_time": "2022-03-14T18:41:50.397Z"
   },
   {
    "duration": 11,
    "start_time": "2022-03-14T18:41:50.406Z"
   },
   {
    "duration": 13,
    "start_time": "2022-03-14T18:41:50.419Z"
   },
   {
    "duration": 29,
    "start_time": "2022-03-14T18:41:50.436Z"
   },
   {
    "duration": 6,
    "start_time": "2022-03-14T18:41:50.467Z"
   },
   {
    "duration": 8,
    "start_time": "2022-03-14T18:41:50.474Z"
   },
   {
    "duration": 8,
    "start_time": "2022-03-14T18:41:50.484Z"
   },
   {
    "duration": 14,
    "start_time": "2022-03-14T18:41:50.494Z"
   },
   {
    "duration": 10,
    "start_time": "2022-03-14T18:41:50.510Z"
   },
   {
    "duration": 321,
    "start_time": "2022-03-14T18:41:50.522Z"
   },
   {
    "duration": -1927,
    "start_time": "2022-03-14T18:41:52.776Z"
   },
   {
    "duration": -1943,
    "start_time": "2022-03-14T18:41:52.793Z"
   },
   {
    "duration": -1960,
    "start_time": "2022-03-14T18:41:52.811Z"
   },
   {
    "duration": -1965,
    "start_time": "2022-03-14T18:41:52.817Z"
   },
   {
    "duration": -1971,
    "start_time": "2022-03-14T18:41:52.824Z"
   },
   {
    "duration": -1977,
    "start_time": "2022-03-14T18:41:52.832Z"
   },
   {
    "duration": -1983,
    "start_time": "2022-03-14T18:41:52.839Z"
   },
   {
    "duration": -1989,
    "start_time": "2022-03-14T18:41:52.846Z"
   },
   {
    "duration": -1994,
    "start_time": "2022-03-14T18:41:52.852Z"
   },
   {
    "duration": -2001,
    "start_time": "2022-03-14T18:41:52.860Z"
   },
   {
    "duration": -2006,
    "start_time": "2022-03-14T18:41:52.866Z"
   },
   {
    "duration": -2011,
    "start_time": "2022-03-14T18:41:52.873Z"
   },
   {
    "duration": -2016,
    "start_time": "2022-03-14T18:41:52.879Z"
   },
   {
    "duration": -2022,
    "start_time": "2022-03-14T18:41:52.886Z"
   },
   {
    "duration": -2027,
    "start_time": "2022-03-14T18:41:52.893Z"
   },
   {
    "duration": -2031,
    "start_time": "2022-03-14T18:41:52.899Z"
   },
   {
    "duration": -2036,
    "start_time": "2022-03-14T18:41:52.905Z"
   },
   {
    "duration": -2053,
    "start_time": "2022-03-14T18:41:52.923Z"
   },
   {
    "duration": -2058,
    "start_time": "2022-03-14T18:41:52.930Z"
   },
   {
    "duration": -2064,
    "start_time": "2022-03-14T18:41:52.937Z"
   },
   {
    "duration": -2068,
    "start_time": "2022-03-14T18:41:52.943Z"
   },
   {
    "duration": -2074,
    "start_time": "2022-03-14T18:41:52.950Z"
   },
   {
    "duration": -2080,
    "start_time": "2022-03-14T18:41:52.958Z"
   },
   {
    "duration": -2085,
    "start_time": "2022-03-14T18:41:52.964Z"
   },
   {
    "duration": -2089,
    "start_time": "2022-03-14T18:41:52.970Z"
   },
   {
    "duration": -2095,
    "start_time": "2022-03-14T18:41:52.977Z"
   },
   {
    "duration": -2098,
    "start_time": "2022-03-14T18:41:52.982Z"
   },
   {
    "duration": -2103,
    "start_time": "2022-03-14T18:41:52.988Z"
   },
   {
    "duration": -2109,
    "start_time": "2022-03-14T18:41:52.995Z"
   },
   {
    "duration": -2113,
    "start_time": "2022-03-14T18:41:53.001Z"
   },
   {
    "duration": -2116,
    "start_time": "2022-03-14T18:41:53.005Z"
   },
   {
    "duration": -2121,
    "start_time": "2022-03-14T18:41:53.012Z"
   },
   {
    "duration": -2124,
    "start_time": "2022-03-14T18:41:53.017Z"
   },
   {
    "duration": -2138,
    "start_time": "2022-03-14T18:41:53.032Z"
   },
   {
    "duration": -2141,
    "start_time": "2022-03-14T18:41:53.037Z"
   },
   {
    "duration": -2146,
    "start_time": "2022-03-14T18:41:53.043Z"
   },
   {
    "duration": -2150,
    "start_time": "2022-03-14T18:41:53.048Z"
   },
   {
    "duration": -2156,
    "start_time": "2022-03-14T18:41:53.055Z"
   },
   {
    "duration": -2161,
    "start_time": "2022-03-14T18:41:53.061Z"
   },
   {
    "duration": -2167,
    "start_time": "2022-03-14T18:41:53.068Z"
   },
   {
    "duration": -2172,
    "start_time": "2022-03-14T18:41:53.074Z"
   },
   {
    "duration": -2178,
    "start_time": "2022-03-14T18:41:53.081Z"
   },
   {
    "duration": -2184,
    "start_time": "2022-03-14T18:41:53.088Z"
   },
   {
    "duration": -2191,
    "start_time": "2022-03-14T18:41:53.096Z"
   },
   {
    "duration": -2196,
    "start_time": "2022-03-14T18:41:53.102Z"
   },
   {
    "duration": -2202,
    "start_time": "2022-03-14T18:41:53.109Z"
   },
   {
    "duration": -2152,
    "start_time": "2022-03-14T18:41:53.115Z"
   },
   {
    "duration": -2159,
    "start_time": "2022-03-14T18:41:53.124Z"
   },
   {
    "duration": -2166,
    "start_time": "2022-03-14T18:41:53.131Z"
   },
   {
    "duration": -2183,
    "start_time": "2022-03-14T18:41:53.149Z"
   },
   {
    "duration": -2189,
    "start_time": "2022-03-14T18:41:53.156Z"
   },
   {
    "duration": -2196,
    "start_time": "2022-03-14T18:41:53.164Z"
   },
   {
    "duration": -2201,
    "start_time": "2022-03-14T18:41:53.170Z"
   },
   {
    "duration": -2208,
    "start_time": "2022-03-14T18:41:53.178Z"
   },
   {
    "duration": -2213,
    "start_time": "2022-03-14T18:41:53.184Z"
   },
   {
    "duration": -2219,
    "start_time": "2022-03-14T18:41:53.191Z"
   },
   {
    "duration": -2224,
    "start_time": "2022-03-14T18:41:53.197Z"
   },
   {
    "duration": -2228,
    "start_time": "2022-03-14T18:41:53.202Z"
   },
   {
    "duration": -2232,
    "start_time": "2022-03-14T18:41:53.207Z"
   },
   {
    "duration": -2238,
    "start_time": "2022-03-14T18:41:53.213Z"
   },
   {
    "duration": -2241,
    "start_time": "2022-03-14T18:41:53.217Z"
   },
   {
    "duration": -2247,
    "start_time": "2022-03-14T18:41:53.224Z"
   },
   {
    "duration": -2252,
    "start_time": "2022-03-14T18:41:53.229Z"
   },
   {
    "duration": -2257,
    "start_time": "2022-03-14T18:41:53.235Z"
   },
   {
    "duration": -2261,
    "start_time": "2022-03-14T18:41:53.240Z"
   },
   {
    "duration": -2266,
    "start_time": "2022-03-14T18:41:53.246Z"
   },
   {
    "duration": -2280,
    "start_time": "2022-03-14T18:41:53.261Z"
   },
   {
    "duration": -2286,
    "start_time": "2022-03-14T18:41:53.268Z"
   },
   {
    "duration": -2291,
    "start_time": "2022-03-14T18:41:53.273Z"
   },
   {
    "duration": -2296,
    "start_time": "2022-03-14T18:41:53.279Z"
   },
   {
    "duration": -2300,
    "start_time": "2022-03-14T18:41:53.284Z"
   },
   {
    "duration": -2306,
    "start_time": "2022-03-14T18:41:53.291Z"
   },
   {
    "duration": -2311,
    "start_time": "2022-03-14T18:41:53.297Z"
   },
   {
    "duration": -2318,
    "start_time": "2022-03-14T18:41:53.304Z"
   },
   {
    "duration": -2323,
    "start_time": "2022-03-14T18:41:53.310Z"
   },
   {
    "duration": -2328,
    "start_time": "2022-03-14T18:41:53.316Z"
   },
   {
    "duration": -2334,
    "start_time": "2022-03-14T18:41:53.323Z"
   },
   {
    "duration": -2341,
    "start_time": "2022-03-14T18:41:53.331Z"
   },
   {
    "duration": -2346,
    "start_time": "2022-03-14T18:41:53.337Z"
   },
   {
    "duration": -2352,
    "start_time": "2022-03-14T18:41:53.344Z"
   },
   {
    "duration": -2357,
    "start_time": "2022-03-14T18:41:53.350Z"
   },
   {
    "duration": -2363,
    "start_time": "2022-03-14T18:41:53.357Z"
   },
   {
    "duration": -2378,
    "start_time": "2022-03-14T18:41:53.373Z"
   },
   {
    "duration": -2384,
    "start_time": "2022-03-14T18:41:53.380Z"
   },
   {
    "duration": -2390,
    "start_time": "2022-03-14T18:41:53.386Z"
   },
   {
    "duration": -2397,
    "start_time": "2022-03-14T18:41:53.394Z"
   },
   {
    "duration": -2403,
    "start_time": "2022-03-14T18:41:53.401Z"
   },
   {
    "duration": -2345,
    "start_time": "2022-03-14T18:41:53.408Z"
   },
   {
    "duration": -2350,
    "start_time": "2022-03-14T18:41:53.414Z"
   },
   {
    "duration": -2355,
    "start_time": "2022-03-14T18:41:53.421Z"
   },
   {
    "duration": -2361,
    "start_time": "2022-03-14T18:41:53.428Z"
   },
   {
    "duration": -2366,
    "start_time": "2022-03-14T18:41:53.434Z"
   },
   {
    "duration": -2372,
    "start_time": "2022-03-14T18:41:53.441Z"
   },
   {
    "duration": -2376,
    "start_time": "2022-03-14T18:41:53.447Z"
   },
   {
    "duration": -2381,
    "start_time": "2022-03-14T18:41:53.453Z"
   },
   {
    "duration": -2388,
    "start_time": "2022-03-14T18:41:53.461Z"
   },
   {
    "duration": -2394,
    "start_time": "2022-03-14T18:41:53.468Z"
   },
   {
    "duration": -2412,
    "start_time": "2022-03-14T18:41:53.487Z"
   },
   {
    "duration": -2417,
    "start_time": "2022-03-14T18:41:53.493Z"
   },
   {
    "duration": -2423,
    "start_time": "2022-03-14T18:41:53.500Z"
   },
   {
    "duration": -2428,
    "start_time": "2022-03-14T18:41:53.506Z"
   },
   {
    "duration": -2433,
    "start_time": "2022-03-14T18:41:53.513Z"
   },
   {
    "duration": -2438,
    "start_time": "2022-03-14T18:41:53.519Z"
   },
   {
    "duration": -2444,
    "start_time": "2022-03-14T18:41:53.526Z"
   },
   {
    "duration": -2449,
    "start_time": "2022-03-14T18:41:53.532Z"
   },
   {
    "duration": -2455,
    "start_time": "2022-03-14T18:41:53.539Z"
   },
   {
    "duration": -2461,
    "start_time": "2022-03-14T18:41:53.545Z"
   },
   {
    "duration": -2467,
    "start_time": "2022-03-14T18:41:53.552Z"
   },
   {
    "duration": -2472,
    "start_time": "2022-03-14T18:41:53.558Z"
   },
   {
    "duration": -2478,
    "start_time": "2022-03-14T18:41:53.565Z"
   },
   {
    "duration": -2482,
    "start_time": "2022-03-14T18:41:53.570Z"
   },
   {
    "duration": -2488,
    "start_time": "2022-03-14T18:41:53.577Z"
   },
   {
    "duration": -2492,
    "start_time": "2022-03-14T18:41:53.582Z"
   },
   {
    "duration": -2513,
    "start_time": "2022-03-14T18:41:53.603Z"
   },
   {
    "duration": 1669,
    "start_time": "2022-03-14T18:42:19.745Z"
   },
   {
    "duration": 7,
    "start_time": "2022-03-14T18:42:21.416Z"
   },
   {
    "duration": 16,
    "start_time": "2022-03-14T18:42:21.425Z"
   },
   {
    "duration": 13,
    "start_time": "2022-03-14T18:42:21.443Z"
   },
   {
    "duration": 6,
    "start_time": "2022-03-14T18:42:21.457Z"
   },
   {
    "duration": 6,
    "start_time": "2022-03-14T18:42:21.465Z"
   },
   {
    "duration": 9,
    "start_time": "2022-03-14T18:42:21.473Z"
   },
   {
    "duration": 6,
    "start_time": "2022-03-14T18:42:21.484Z"
   },
   {
    "duration": 5,
    "start_time": "2022-03-14T18:42:21.492Z"
   },
   {
    "duration": 6,
    "start_time": "2022-03-14T18:42:21.499Z"
   },
   {
    "duration": 7,
    "start_time": "2022-03-14T18:42:21.507Z"
   },
   {
    "duration": 11,
    "start_time": "2022-03-14T18:42:21.516Z"
   },
   {
    "duration": 38,
    "start_time": "2022-03-14T18:42:21.528Z"
   },
   {
    "duration": 16,
    "start_time": "2022-03-14T18:42:21.567Z"
   },
   {
    "duration": 4,
    "start_time": "2022-03-14T18:42:21.585Z"
   },
   {
    "duration": 5,
    "start_time": "2022-03-14T18:42:21.591Z"
   },
   {
    "duration": 21,
    "start_time": "2022-03-14T18:42:21.598Z"
   },
   {
    "duration": 5,
    "start_time": "2022-03-14T18:42:21.621Z"
   },
   {
    "duration": 86,
    "start_time": "2022-03-14T18:42:21.627Z"
   },
   {
    "duration": 115,
    "start_time": "2022-03-14T18:42:21.714Z"
   },
   {
    "duration": 11,
    "start_time": "2022-03-14T18:42:21.831Z"
   },
   {
    "duration": 8,
    "start_time": "2022-03-14T18:42:21.844Z"
   },
   {
    "duration": 10,
    "start_time": "2022-03-14T18:42:21.864Z"
   },
   {
    "duration": 4,
    "start_time": "2022-03-14T18:42:21.877Z"
   },
   {
    "duration": 20,
    "start_time": "2022-03-14T18:42:21.882Z"
   },
   {
    "duration": 4,
    "start_time": "2022-03-14T18:42:21.904Z"
   },
   {
    "duration": 33,
    "start_time": "2022-03-14T18:42:21.909Z"
   },
   {
    "duration": 69,
    "start_time": "2022-03-14T18:42:21.944Z"
   },
   {
    "duration": 13,
    "start_time": "2022-03-14T18:42:22.015Z"
   },
   {
    "duration": 6,
    "start_time": "2022-03-14T18:42:22.030Z"
   },
   {
    "duration": 27,
    "start_time": "2022-03-14T18:42:22.037Z"
   },
   {
    "duration": 18,
    "start_time": "2022-03-14T18:42:22.066Z"
   },
   {
    "duration": 6,
    "start_time": "2022-03-14T18:42:22.086Z"
   },
   {
    "duration": 105,
    "start_time": "2022-03-14T18:42:22.094Z"
   },
   {
    "duration": 79,
    "start_time": "2022-03-14T18:42:22.203Z"
   },
   {
    "duration": 10,
    "start_time": "2022-03-14T18:42:22.284Z"
   },
   {
    "duration": 17,
    "start_time": "2022-03-14T18:42:22.295Z"
   },
   {
    "duration": 15,
    "start_time": "2022-03-14T18:42:22.315Z"
   },
   {
    "duration": 6,
    "start_time": "2022-03-14T18:42:22.331Z"
   },
   {
    "duration": 6,
    "start_time": "2022-03-14T18:42:22.339Z"
   },
   {
    "duration": 27,
    "start_time": "2022-03-14T18:42:22.347Z"
   },
   {
    "duration": 104,
    "start_time": "2022-03-14T18:42:22.376Z"
   },
   {
    "duration": 4,
    "start_time": "2022-03-14T18:42:22.483Z"
   },
   {
    "duration": 22,
    "start_time": "2022-03-14T18:42:22.489Z"
   },
   {
    "duration": 4,
    "start_time": "2022-03-14T18:42:22.513Z"
   },
   {
    "duration": 11,
    "start_time": "2022-03-14T18:42:22.519Z"
   },
   {
    "duration": 41,
    "start_time": "2022-03-14T18:42:22.531Z"
   },
   {
    "duration": 43,
    "start_time": "2022-03-14T18:42:22.574Z"
   },
   {
    "duration": 3,
    "start_time": "2022-03-14T18:42:22.619Z"
   },
   {
    "duration": 13,
    "start_time": "2022-03-14T18:42:22.624Z"
   },
   {
    "duration": 30,
    "start_time": "2022-03-14T18:42:22.639Z"
   },
   {
    "duration": 19,
    "start_time": "2022-03-14T18:42:22.671Z"
   },
   {
    "duration": 79,
    "start_time": "2022-03-14T18:42:22.692Z"
   },
   {
    "duration": 3,
    "start_time": "2022-03-14T18:42:22.773Z"
   },
   {
    "duration": 92,
    "start_time": "2022-03-14T18:42:22.778Z"
   },
   {
    "duration": 244,
    "start_time": "2022-03-14T18:42:22.871Z"
   },
   {
    "duration": 27580,
    "start_time": "2022-03-14T18:42:23.116Z"
   },
   {
    "duration": -122,
    "start_time": "2022-03-14T18:42:50.822Z"
   },
   {
    "duration": -130,
    "start_time": "2022-03-14T18:42:50.831Z"
   },
   {
    "duration": -138,
    "start_time": "2022-03-14T18:42:50.841Z"
   },
   {
    "duration": -145,
    "start_time": "2022-03-14T18:42:50.849Z"
   },
   {
    "duration": -151,
    "start_time": "2022-03-14T18:42:50.857Z"
   },
   {
    "duration": -157,
    "start_time": "2022-03-14T18:42:50.864Z"
   },
   {
    "duration": -173,
    "start_time": "2022-03-14T18:42:50.881Z"
   },
   {
    "duration": -182,
    "start_time": "2022-03-14T18:42:50.891Z"
   },
   {
    "duration": -189,
    "start_time": "2022-03-14T18:42:50.900Z"
   },
   {
    "duration": -201,
    "start_time": "2022-03-14T18:42:50.913Z"
   },
   {
    "duration": -221,
    "start_time": "2022-03-14T18:42:50.935Z"
   },
   {
    "duration": -229,
    "start_time": "2022-03-14T18:42:50.944Z"
   },
   {
    "duration": -239,
    "start_time": "2022-03-14T18:42:50.955Z"
   },
   {
    "duration": -247,
    "start_time": "2022-03-14T18:42:50.965Z"
   },
   {
    "duration": -259,
    "start_time": "2022-03-14T18:42:50.978Z"
   },
   {
    "duration": -267,
    "start_time": "2022-03-14T18:42:50.987Z"
   },
   {
    "duration": -274,
    "start_time": "2022-03-14T18:42:50.997Z"
   },
   {
    "duration": -283,
    "start_time": "2022-03-14T18:42:51.007Z"
   },
   {
    "duration": -291,
    "start_time": "2022-03-14T18:42:51.016Z"
   },
   {
    "duration": -299,
    "start_time": "2022-03-14T18:42:51.026Z"
   },
   {
    "duration": -318,
    "start_time": "2022-03-14T18:42:51.046Z"
   },
   {
    "duration": -328,
    "start_time": "2022-03-14T18:42:51.057Z"
   },
   {
    "duration": -337,
    "start_time": "2022-03-14T18:42:51.067Z"
   },
   {
    "duration": -347,
    "start_time": "2022-03-14T18:42:51.078Z"
   },
   {
    "duration": -356,
    "start_time": "2022-03-14T18:42:51.089Z"
   },
   {
    "duration": -370,
    "start_time": "2022-03-14T18:42:51.104Z"
   },
   {
    "duration": -378,
    "start_time": "2022-03-14T18:42:51.113Z"
   },
   {
    "duration": -388,
    "start_time": "2022-03-14T18:42:51.124Z"
   },
   {
    "duration": -371,
    "start_time": "2022-03-14T18:42:51.133Z"
   },
   {
    "duration": -379,
    "start_time": "2022-03-14T18:42:51.143Z"
   },
   {
    "duration": -398,
    "start_time": "2022-03-14T18:42:51.163Z"
   },
   {
    "duration": -404,
    "start_time": "2022-03-14T18:42:51.171Z"
   },
   {
    "duration": -411,
    "start_time": "2022-03-14T18:42:51.179Z"
   },
   {
    "duration": -417,
    "start_time": "2022-03-14T18:42:51.186Z"
   },
   {
    "duration": -423,
    "start_time": "2022-03-14T18:42:51.194Z"
   },
   {
    "duration": -429,
    "start_time": "2022-03-14T18:42:51.201Z"
   },
   {
    "duration": -436,
    "start_time": "2022-03-14T18:42:51.209Z"
   },
   {
    "duration": -442,
    "start_time": "2022-03-14T18:42:51.216Z"
   },
   {
    "duration": -449,
    "start_time": "2022-03-14T18:42:51.224Z"
   },
   {
    "duration": -456,
    "start_time": "2022-03-14T18:42:51.232Z"
   },
   {
    "duration": -464,
    "start_time": "2022-03-14T18:42:51.241Z"
   },
   {
    "duration": -470,
    "start_time": "2022-03-14T18:42:51.248Z"
   },
   {
    "duration": -478,
    "start_time": "2022-03-14T18:42:51.257Z"
   },
   {
    "duration": -494,
    "start_time": "2022-03-14T18:42:51.273Z"
   },
   {
    "duration": -502,
    "start_time": "2022-03-14T18:42:51.282Z"
   },
   {
    "duration": -509,
    "start_time": "2022-03-14T18:42:51.290Z"
   },
   {
    "duration": -517,
    "start_time": "2022-03-14T18:42:51.299Z"
   },
   {
    "duration": -523,
    "start_time": "2022-03-14T18:42:51.306Z"
   },
   {
    "duration": -530,
    "start_time": "2022-03-14T18:42:51.314Z"
   },
   {
    "duration": -536,
    "start_time": "2022-03-14T18:42:51.321Z"
   },
   {
    "duration": -543,
    "start_time": "2022-03-14T18:42:51.329Z"
   },
   {
    "duration": -549,
    "start_time": "2022-03-14T18:42:51.336Z"
   },
   {
    "duration": -556,
    "start_time": "2022-03-14T18:42:51.344Z"
   },
   {
    "duration": -562,
    "start_time": "2022-03-14T18:42:51.351Z"
   },
   {
    "duration": -575,
    "start_time": "2022-03-14T18:42:51.365Z"
   },
   {
    "duration": -592,
    "start_time": "2022-03-14T18:42:51.383Z"
   },
   {
    "duration": -601,
    "start_time": "2022-03-14T18:42:51.393Z"
   },
   {
    "duration": -608,
    "start_time": "2022-03-14T18:42:51.401Z"
   },
   {
    "duration": -618,
    "start_time": "2022-03-14T18:42:51.412Z"
   },
   {
    "duration": -627,
    "start_time": "2022-03-14T18:42:51.422Z"
   },
   {
    "duration": -635,
    "start_time": "2022-03-14T18:42:51.431Z"
   },
   {
    "duration": -645,
    "start_time": "2022-03-14T18:42:51.442Z"
   },
   {
    "duration": -652,
    "start_time": "2022-03-14T18:42:51.450Z"
   },
   {
    "duration": -660,
    "start_time": "2022-03-14T18:42:51.459Z"
   },
   {
    "duration": -667,
    "start_time": "2022-03-14T18:42:51.467Z"
   },
   {
    "duration": -673,
    "start_time": "2022-03-14T18:42:51.475Z"
   },
   {
    "duration": -645,
    "start_time": "2022-03-14T18:42:51.509Z"
   },
   {
    "duration": -651,
    "start_time": "2022-03-14T18:42:51.516Z"
   },
   {
    "duration": -658,
    "start_time": "2022-03-14T18:42:51.525Z"
   },
   {
    "duration": -665,
    "start_time": "2022-03-14T18:42:51.533Z"
   },
   {
    "duration": -669,
    "start_time": "2022-03-14T18:42:51.541Z"
   },
   {
    "duration": 143,
    "start_time": "2022-03-14T18:48:11.770Z"
   },
   {
    "duration": 6,
    "start_time": "2022-03-14T18:48:42.750Z"
   },
   {
    "duration": 8,
    "start_time": "2022-03-14T18:48:43.343Z"
   },
   {
    "duration": 237,
    "start_time": "2022-03-14T18:48:44.973Z"
   },
   {
    "duration": 26,
    "start_time": "2022-03-14T18:48:47.785Z"
   },
   {
    "duration": 39,
    "start_time": "2022-03-14T18:48:57.529Z"
   },
   {
    "duration": 246,
    "start_time": "2022-03-14T18:48:57.854Z"
   },
   {
    "duration": 244,
    "start_time": "2022-03-14T18:48:58.102Z"
   },
   {
    "duration": 5,
    "start_time": "2022-03-14T18:48:58.493Z"
   },
   {
    "duration": 7,
    "start_time": "2022-03-14T18:48:58.741Z"
   },
   {
    "duration": 42,
    "start_time": "2022-03-14T18:48:59.361Z"
   },
   {
    "duration": 322,
    "start_time": "2022-03-14T18:48:59.743Z"
   },
   {
    "duration": 231,
    "start_time": "2022-03-14T18:49:00.339Z"
   },
   {
    "duration": -77,
    "start_time": "2022-03-14T18:49:00.650Z"
   },
   {
    "duration": 6,
    "start_time": "2022-03-14T18:49:00.715Z"
   },
   {
    "duration": 56,
    "start_time": "2022-03-14T18:49:01.296Z"
   },
   {
    "duration": 252,
    "start_time": "2022-03-14T18:49:01.703Z"
   },
   {
    "duration": 214,
    "start_time": "2022-03-14T18:49:01.957Z"
   },
   {
    "duration": -133,
    "start_time": "2022-03-14T18:49:02.306Z"
   },
   {
    "duration": 7,
    "start_time": "2022-03-14T18:49:02.289Z"
   },
   {
    "duration": 3542,
    "start_time": "2022-03-14T18:49:03.445Z"
   },
   {
    "duration": 393,
    "start_time": "2022-03-14T18:49:06.989Z"
   },
   {
    "duration": 1878,
    "start_time": "2022-03-14T18:49:07.385Z"
   },
   {
    "duration": 388,
    "start_time": "2022-03-14T18:49:09.265Z"
   },
   {
    "duration": 2761,
    "start_time": "2022-03-14T18:49:09.655Z"
   },
   {
    "duration": 386,
    "start_time": "2022-03-14T18:49:12.418Z"
   },
   {
    "duration": 3581,
    "start_time": "2022-03-14T18:49:12.806Z"
   },
   {
    "duration": 17,
    "start_time": "2022-03-14T18:49:16.390Z"
   },
   {
    "duration": 2361,
    "start_time": "2022-03-14T18:49:16.409Z"
   },
   {
    "duration": 12,
    "start_time": "2022-03-14T18:49:18.772Z"
   },
   {
    "duration": 2784,
    "start_time": "2022-03-14T18:49:18.786Z"
   },
   {
    "duration": 37,
    "start_time": "2022-03-14T18:49:21.572Z"
   },
   {
    "duration": 157,
    "start_time": "2022-03-14T18:49:21.612Z"
   },
   {
    "duration": 403,
    "start_time": "2022-03-14T18:49:21.772Z"
   },
   {
    "duration": 131,
    "start_time": "2022-03-14T18:49:22.176Z"
   },
   {
    "duration": 255,
    "start_time": "2022-03-14T18:49:22.308Z"
   },
   {
    "duration": 37,
    "start_time": "2022-03-14T18:49:22.564Z"
   },
   {
    "duration": 18,
    "start_time": "2022-03-14T18:49:22.603Z"
   },
   {
    "duration": 21,
    "start_time": "2022-03-14T18:49:22.622Z"
   },
   {
    "duration": 119,
    "start_time": "2022-03-14T18:49:22.645Z"
   },
   {
    "duration": 13,
    "start_time": "2022-03-14T18:49:22.765Z"
   },
   {
    "duration": 286,
    "start_time": "2022-03-14T18:49:22.780Z"
   },
   {
    "duration": 14,
    "start_time": "2022-03-14T18:49:23.069Z"
   },
   {
    "duration": 24,
    "start_time": "2022-03-14T18:49:23.085Z"
   },
   {
    "duration": 276,
    "start_time": "2022-03-14T18:49:23.111Z"
   },
   {
    "duration": 17,
    "start_time": "2022-03-14T18:49:23.389Z"
   },
   {
    "duration": 281,
    "start_time": "2022-03-14T18:49:23.408Z"
   },
   {
    "duration": 15,
    "start_time": "2022-03-14T18:49:23.691Z"
   },
   {
    "duration": 9,
    "start_time": "2022-03-14T18:49:23.708Z"
   },
   {
    "duration": 287,
    "start_time": "2022-03-14T18:49:23.719Z"
   },
   {
    "duration": 11,
    "start_time": "2022-03-14T18:49:24.008Z"
   },
   {
    "duration": 10,
    "start_time": "2022-03-14T18:49:24.020Z"
   },
   {
    "duration": 300,
    "start_time": "2022-03-14T18:49:24.031Z"
   },
   {
    "duration": 13,
    "start_time": "2022-03-14T18:49:24.332Z"
   },
   {
    "duration": 20,
    "start_time": "2022-03-14T18:49:24.347Z"
   },
   {
    "duration": 295,
    "start_time": "2022-03-14T18:49:24.368Z"
   },
   {
    "duration": 247,
    "start_time": "2022-03-14T18:49:24.666Z"
   },
   {
    "duration": 245,
    "start_time": "2022-03-14T18:49:24.915Z"
   },
   {
    "duration": -62,
    "start_time": "2022-03-14T18:49:25.224Z"
   },
   {
    "duration": -154,
    "start_time": "2022-03-14T18:49:25.318Z"
   },
   {
    "duration": -163,
    "start_time": "2022-03-14T18:49:25.328Z"
   },
   {
    "duration": -169,
    "start_time": "2022-03-14T18:49:25.336Z"
   },
   {
    "duration": -188,
    "start_time": "2022-03-14T18:49:25.356Z"
   },
   {
    "duration": -203,
    "start_time": "2022-03-14T18:49:25.373Z"
   },
   {
    "duration": -219,
    "start_time": "2022-03-14T18:49:25.390Z"
   },
   {
    "duration": -234,
    "start_time": "2022-03-14T18:49:25.407Z"
   },
   {
    "duration": -249,
    "start_time": "2022-03-14T18:49:25.423Z"
   },
   {
    "duration": -321,
    "start_time": "2022-03-14T18:49:25.496Z"
   },
   {
    "duration": -326,
    "start_time": "2022-03-14T18:49:25.503Z"
   },
   {
    "duration": -333,
    "start_time": "2022-03-14T18:49:25.511Z"
   },
   {
    "duration": 253,
    "start_time": "2022-03-14T18:49:25.482Z"
   },
   {
    "duration": 161,
    "start_time": "2022-03-14T18:49:26.243Z"
   },
   {
    "duration": 7,
    "start_time": "2022-03-14T18:49:26.436Z"
   },
   {
    "duration": 514,
    "start_time": "2022-03-14T18:49:33.668Z"
   },
   {
    "duration": 453,
    "start_time": "2022-03-14T18:49:35.657Z"
   },
   {
    "duration": 437,
    "start_time": "2022-03-14T18:49:37.781Z"
   },
   {
    "duration": 271,
    "start_time": "2022-03-14T18:49:39.550Z"
   },
   {
    "duration": 240,
    "start_time": "2022-03-14T18:49:39.823Z"
   },
   {
    "duration": 281,
    "start_time": "2022-03-14T18:49:41.269Z"
   },
   {
    "duration": 236,
    "start_time": "2022-03-14T18:49:41.552Z"
   },
   {
    "duration": 419,
    "start_time": "2022-03-14T18:49:41.796Z"
   },
   {
    "duration": 395,
    "start_time": "2022-03-14T18:49:43.308Z"
   },
   {
    "duration": 18,
    "start_time": "2022-03-14T18:49:45.397Z"
   },
   {
    "duration": 19,
    "start_time": "2022-03-14T18:49:45.644Z"
   },
   {
    "duration": 107,
    "start_time": "2022-03-14T18:49:46.498Z"
   },
   {
    "duration": 8,
    "start_time": "2022-03-14T18:49:46.996Z"
   },
   {
    "duration": 165,
    "start_time": "2022-03-14T18:49:48.568Z"
   },
   {
    "duration": 8,
    "start_time": "2022-03-14T18:49:48.973Z"
   },
   {
    "duration": 5,
    "start_time": "2022-03-14T18:50:12.502Z"
   },
   {
    "duration": 6381,
    "start_time": "2022-03-14T18:51:27.599Z"
   },
   {
    "duration": 1564,
    "start_time": "2022-03-14T18:51:51.100Z"
   },
   {
    "duration": 11,
    "start_time": "2022-03-14T18:51:52.666Z"
   },
   {
    "duration": 11,
    "start_time": "2022-03-14T18:51:52.680Z"
   },
   {
    "duration": 8,
    "start_time": "2022-03-14T18:51:52.693Z"
   },
   {
    "duration": 13,
    "start_time": "2022-03-14T18:51:52.703Z"
   },
   {
    "duration": 14,
    "start_time": "2022-03-14T18:51:52.717Z"
   },
   {
    "duration": 14,
    "start_time": "2022-03-14T18:51:52.733Z"
   },
   {
    "duration": 20,
    "start_time": "2022-03-14T18:51:52.749Z"
   },
   {
    "duration": 3,
    "start_time": "2022-03-14T18:51:52.771Z"
   },
   {
    "duration": 7,
    "start_time": "2022-03-14T18:51:52.776Z"
   },
   {
    "duration": 7,
    "start_time": "2022-03-14T18:51:52.784Z"
   },
   {
    "duration": 8,
    "start_time": "2022-03-14T18:51:52.792Z"
   },
   {
    "duration": 9,
    "start_time": "2022-03-14T18:51:52.801Z"
   },
   {
    "duration": 56,
    "start_time": "2022-03-14T18:51:52.811Z"
   },
   {
    "duration": 4,
    "start_time": "2022-03-14T18:51:52.868Z"
   },
   {
    "duration": 4,
    "start_time": "2022-03-14T18:51:52.874Z"
   },
   {
    "duration": 20,
    "start_time": "2022-03-14T18:51:52.880Z"
   },
   {
    "duration": 4,
    "start_time": "2022-03-14T18:51:52.902Z"
   },
   {
    "duration": 93,
    "start_time": "2022-03-14T18:51:52.908Z"
   },
   {
    "duration": 110,
    "start_time": "2022-03-14T18:51:53.003Z"
   },
   {
    "duration": 15,
    "start_time": "2022-03-14T18:51:53.115Z"
   },
   {
    "duration": 4,
    "start_time": "2022-03-14T18:51:53.132Z"
   },
   {
    "duration": 27,
    "start_time": "2022-03-14T18:51:53.141Z"
   },
   {
    "duration": 4,
    "start_time": "2022-03-14T18:51:53.171Z"
   },
   {
    "duration": 23,
    "start_time": "2022-03-14T18:51:53.176Z"
   },
   {
    "duration": 4,
    "start_time": "2022-03-14T18:51:53.201Z"
   },
   {
    "duration": 64,
    "start_time": "2022-03-14T18:51:53.207Z"
   },
   {
    "duration": 107,
    "start_time": "2022-03-14T18:51:53.273Z"
   },
   {
    "duration": 26,
    "start_time": "2022-03-14T18:51:53.382Z"
   },
   {
    "duration": 4,
    "start_time": "2022-03-14T18:51:53.411Z"
   },
   {
    "duration": 7,
    "start_time": "2022-03-14T18:51:53.416Z"
   },
   {
    "duration": 40,
    "start_time": "2022-03-14T18:51:53.424Z"
   },
   {
    "duration": 4,
    "start_time": "2022-03-14T18:51:53.466Z"
   },
   {
    "duration": 52,
    "start_time": "2022-03-14T18:51:53.472Z"
   },
   {
    "duration": 97,
    "start_time": "2022-03-14T18:51:53.526Z"
   },
   {
    "duration": 10,
    "start_time": "2022-03-14T18:51:53.625Z"
   },
   {
    "duration": 14,
    "start_time": "2022-03-14T18:51:53.636Z"
   },
   {
    "duration": 7,
    "start_time": "2022-03-14T18:51:53.663Z"
   },
   {
    "duration": 6,
    "start_time": "2022-03-14T18:51:53.671Z"
   },
   {
    "duration": 5,
    "start_time": "2022-03-14T18:51:53.679Z"
   },
   {
    "duration": 20,
    "start_time": "2022-03-14T18:51:53.686Z"
   },
   {
    "duration": 114,
    "start_time": "2022-03-14T18:51:53.707Z"
   },
   {
    "duration": 4,
    "start_time": "2022-03-14T18:51:53.823Z"
   },
   {
    "duration": 23,
    "start_time": "2022-03-14T18:51:53.828Z"
   },
   {
    "duration": 4,
    "start_time": "2022-03-14T18:51:53.863Z"
   },
   {
    "duration": 11,
    "start_time": "2022-03-14T18:51:53.868Z"
   },
   {
    "duration": 17,
    "start_time": "2022-03-14T18:51:53.881Z"
   },
   {
    "duration": 42,
    "start_time": "2022-03-14T18:51:53.899Z"
   },
   {
    "duration": 3,
    "start_time": "2022-03-14T18:51:53.943Z"
   },
   {
    "duration": 4,
    "start_time": "2022-03-14T18:51:53.963Z"
   },
   {
    "duration": 10,
    "start_time": "2022-03-14T18:51:53.968Z"
   },
   {
    "duration": 13,
    "start_time": "2022-03-14T18:51:53.980Z"
   },
   {
    "duration": 113,
    "start_time": "2022-03-14T18:51:53.995Z"
   },
   {
    "duration": 5,
    "start_time": "2022-03-14T18:51:54.110Z"
   },
   {
    "duration": 62,
    "start_time": "2022-03-14T18:51:54.117Z"
   },
   {
    "duration": 1313,
    "start_time": "2022-03-14T18:51:54.181Z"
   },
   {
    "duration": 2918,
    "start_time": "2022-03-14T18:51:55.496Z"
   },
   {
    "duration": 14,
    "start_time": "2022-03-14T18:51:58.416Z"
   },
   {
    "duration": 5,
    "start_time": "2022-03-14T18:51:58.432Z"
   },
   {
    "duration": 30,
    "start_time": "2022-03-14T18:51:58.439Z"
   },
   {
    "duration": 42,
    "start_time": "2022-03-14T18:51:58.471Z"
   },
   {
    "duration": 483,
    "start_time": "2022-03-14T18:51:58.515Z"
   },
   {
    "duration": 16,
    "start_time": "2022-03-14T18:51:58.999Z"
   },
   {
    "duration": 6,
    "start_time": "2022-03-14T18:51:59.016Z"
   },
   {
    "duration": 9,
    "start_time": "2022-03-14T18:51:59.024Z"
   },
   {
    "duration": 49,
    "start_time": "2022-03-14T18:51:59.035Z"
   },
   {
    "duration": 243,
    "start_time": "2022-03-14T18:51:59.086Z"
   },
   {
    "duration": 14,
    "start_time": "2022-03-14T18:51:59.336Z"
   },
   {
    "duration": 7,
    "start_time": "2022-03-14T18:51:59.364Z"
   },
   {
    "duration": 11,
    "start_time": "2022-03-14T18:51:59.372Z"
   },
   {
    "duration": 29,
    "start_time": "2022-03-14T18:51:59.385Z"
   },
   {
    "duration": 261,
    "start_time": "2022-03-14T18:51:59.416Z"
   },
   {
    "duration": 16,
    "start_time": "2022-03-14T18:51:59.678Z"
   },
   {
    "duration": 5,
    "start_time": "2022-03-14T18:51:59.696Z"
   },
   {
    "duration": 6,
    "start_time": "2022-03-14T18:51:59.702Z"
   },
   {
    "duration": 2995,
    "start_time": "2022-03-14T18:51:59.709Z"
   },
   {
    "duration": 380,
    "start_time": "2022-03-14T18:52:02.706Z"
   },
   {
    "duration": 1507,
    "start_time": "2022-03-14T18:52:03.088Z"
   },
   {
    "duration": 376,
    "start_time": "2022-03-14T18:52:04.597Z"
   },
   {
    "duration": 2145,
    "start_time": "2022-03-14T18:52:04.975Z"
   },
   {
    "duration": 476,
    "start_time": "2022-03-14T18:52:07.122Z"
   },
   {
    "duration": 2934,
    "start_time": "2022-03-14T18:52:07.600Z"
   },
   {
    "duration": 15,
    "start_time": "2022-03-14T18:52:10.536Z"
   },
   {
    "duration": 1527,
    "start_time": "2022-03-14T18:52:10.553Z"
   },
   {
    "duration": 11,
    "start_time": "2022-03-14T18:52:12.081Z"
   },
   {
    "duration": 2040,
    "start_time": "2022-03-14T18:52:12.095Z"
   },
   {
    "duration": 49,
    "start_time": "2022-03-14T18:52:14.137Z"
   },
   {
    "duration": 140,
    "start_time": "2022-03-14T18:52:14.188Z"
   },
   {
    "duration": 425,
    "start_time": "2022-03-14T18:52:14.330Z"
   },
   {
    "duration": 179,
    "start_time": "2022-03-14T18:52:14.757Z"
   },
   {
    "duration": 406,
    "start_time": "2022-03-14T18:52:14.938Z"
   },
   {
    "duration": 37,
    "start_time": "2022-03-14T18:52:15.346Z"
   },
   {
    "duration": 20,
    "start_time": "2022-03-14T18:52:15.385Z"
   },
   {
    "duration": 36,
    "start_time": "2022-03-14T18:52:15.407Z"
   },
   {
    "duration": 189,
    "start_time": "2022-03-14T18:52:15.445Z"
   },
   {
    "duration": 134,
    "start_time": "2022-03-14T18:52:15.636Z"
   },
   {
    "duration": 430,
    "start_time": "2022-03-14T18:52:15.772Z"
   },
   {
    "duration": 22,
    "start_time": "2022-03-14T18:52:16.204Z"
   },
   {
    "duration": 18,
    "start_time": "2022-03-14T18:52:16.228Z"
   },
   {
    "duration": 400,
    "start_time": "2022-03-14T18:52:16.263Z"
   },
   {
    "duration": 26,
    "start_time": "2022-03-14T18:52:16.665Z"
   },
   {
    "duration": 418,
    "start_time": "2022-03-14T18:52:16.693Z"
   },
   {
    "duration": 26,
    "start_time": "2022-03-14T18:52:17.113Z"
   },
   {
    "duration": 32,
    "start_time": "2022-03-14T18:52:17.141Z"
   },
   {
    "duration": 408,
    "start_time": "2022-03-14T18:52:17.175Z"
   },
   {
    "duration": 16,
    "start_time": "2022-03-14T18:52:17.585Z"
   },
   {
    "duration": 10,
    "start_time": "2022-03-14T18:52:17.603Z"
   },
   {
    "duration": 281,
    "start_time": "2022-03-14T18:52:17.614Z"
   },
   {
    "duration": 13,
    "start_time": "2022-03-14T18:52:17.897Z"
   },
   {
    "duration": 8,
    "start_time": "2022-03-14T18:52:17.912Z"
   },
   {
    "duration": 282,
    "start_time": "2022-03-14T18:52:17.922Z"
   },
   {
    "duration": 250,
    "start_time": "2022-03-14T18:52:18.206Z"
   },
   {
    "duration": 15,
    "start_time": "2022-03-14T18:52:18.462Z"
   },
   {
    "duration": 510,
    "start_time": "2022-03-14T18:52:18.478Z"
   },
   {
    "duration": 798,
    "start_time": "2022-03-14T18:52:18.991Z"
   },
   {
    "duration": 634,
    "start_time": "2022-03-14T18:52:19.791Z"
   },
   {
    "duration": 402,
    "start_time": "2022-03-14T18:52:20.427Z"
   },
   {
    "duration": 13,
    "start_time": "2022-03-14T18:52:20.831Z"
   },
   {
    "duration": 402,
    "start_time": "2022-03-14T18:52:20.846Z"
   },
   {
    "duration": 22,
    "start_time": "2022-03-14T18:52:21.249Z"
   },
   {
    "duration": 457,
    "start_time": "2022-03-14T18:52:21.273Z"
   },
   {
    "duration": 477,
    "start_time": "2022-03-14T18:52:21.732Z"
   },
   {
    "duration": 24,
    "start_time": "2022-03-14T18:52:22.210Z"
   },
   {
    "duration": 41,
    "start_time": "2022-03-14T18:52:22.236Z"
   },
   {
    "duration": 129,
    "start_time": "2022-03-14T18:52:22.279Z"
   },
   {
    "duration": 6,
    "start_time": "2022-03-14T18:52:22.410Z"
   },
   {
    "duration": 126,
    "start_time": "2022-03-14T18:52:22.417Z"
   },
   {
    "duration": 6,
    "start_time": "2022-03-14T18:52:22.545Z"
   },
   {
    "duration": 108,
    "start_time": "2022-03-14T18:54:17.515Z"
   },
   {
    "duration": 222,
    "start_time": "2022-03-14T18:57:40.997Z"
   },
   {
    "duration": 33,
    "start_time": "2022-03-14T18:57:50.475Z"
   },
   {
    "duration": 231,
    "start_time": "2022-03-14T18:58:38.126Z"
   },
   {
    "duration": 3,
    "start_time": "2022-03-14T18:58:58.891Z"
   },
   {
    "duration": 45,
    "start_time": "2022-03-14T18:59:02.950Z"
   },
   {
    "duration": 45,
    "start_time": "2022-03-14T18:59:11.830Z"
   },
   {
    "duration": 38,
    "start_time": "2022-03-14T19:01:55.248Z"
   },
   {
    "duration": 1390,
    "start_time": "2022-03-16T10:22:43.452Z"
   },
   {
    "duration": -64,
    "start_time": "2022-03-16T10:22:44.911Z"
   },
   {
    "duration": -70,
    "start_time": "2022-03-16T10:22:44.919Z"
   },
   {
    "duration": -85,
    "start_time": "2022-03-16T10:22:44.935Z"
   },
   {
    "duration": -102,
    "start_time": "2022-03-16T10:22:44.953Z"
   },
   {
    "duration": -109,
    "start_time": "2022-03-16T10:22:44.961Z"
   },
   {
    "duration": -116,
    "start_time": "2022-03-16T10:22:44.969Z"
   },
   {
    "duration": -123,
    "start_time": "2022-03-16T10:22:44.976Z"
   },
   {
    "duration": -129,
    "start_time": "2022-03-16T10:22:44.983Z"
   },
   {
    "duration": -135,
    "start_time": "2022-03-16T10:22:44.990Z"
   },
   {
    "duration": -145,
    "start_time": "2022-03-16T10:22:45.001Z"
   },
   {
    "duration": -152,
    "start_time": "2022-03-16T10:22:45.009Z"
   },
   {
    "duration": -162,
    "start_time": "2022-03-16T10:22:45.020Z"
   },
   {
    "duration": -169,
    "start_time": "2022-03-16T10:22:45.028Z"
   },
   {
    "duration": -178,
    "start_time": "2022-03-16T10:22:45.038Z"
   },
   {
    "duration": -185,
    "start_time": "2022-03-16T10:22:45.046Z"
   },
   {
    "duration": -205,
    "start_time": "2022-03-16T10:22:45.067Z"
   },
   {
    "duration": -212,
    "start_time": "2022-03-16T10:22:45.075Z"
   },
   {
    "duration": -221,
    "start_time": "2022-03-16T10:22:45.085Z"
   },
   {
    "duration": -228,
    "start_time": "2022-03-16T10:22:45.093Z"
   },
   {
    "duration": -236,
    "start_time": "2022-03-16T10:22:45.102Z"
   },
   {
    "duration": -244,
    "start_time": "2022-03-16T10:22:45.111Z"
   },
   {
    "duration": -252,
    "start_time": "2022-03-16T10:22:45.120Z"
   },
   {
    "duration": -259,
    "start_time": "2022-03-16T10:22:45.128Z"
   },
   {
    "duration": -459,
    "start_time": "2022-03-16T10:22:45.329Z"
   },
   {
    "duration": -467,
    "start_time": "2022-03-16T10:22:45.338Z"
   },
   {
    "duration": -475,
    "start_time": "2022-03-16T10:22:45.347Z"
   },
   {
    "duration": -482,
    "start_time": "2022-03-16T10:22:45.355Z"
   },
   {
    "duration": -491,
    "start_time": "2022-03-16T10:22:45.364Z"
   },
   {
    "duration": -499,
    "start_time": "2022-03-16T10:22:45.373Z"
   },
   {
    "duration": -508,
    "start_time": "2022-03-16T10:22:45.383Z"
   },
   {
    "duration": -515,
    "start_time": "2022-03-16T10:22:45.391Z"
   },
   {
    "duration": -523,
    "start_time": "2022-03-16T10:22:45.400Z"
   },
   {
    "duration": -530,
    "start_time": "2022-03-16T10:22:45.408Z"
   },
   {
    "duration": -537,
    "start_time": "2022-03-16T10:22:45.416Z"
   },
   {
    "duration": -546,
    "start_time": "2022-03-16T10:22:45.425Z"
   },
   {
    "duration": -564,
    "start_time": "2022-03-16T10:22:45.444Z"
   },
   {
    "duration": -572,
    "start_time": "2022-03-16T10:22:45.453Z"
   },
   {
    "duration": -580,
    "start_time": "2022-03-16T10:22:45.462Z"
   },
   {
    "duration": -587,
    "start_time": "2022-03-16T10:22:45.470Z"
   },
   {
    "duration": -595,
    "start_time": "2022-03-16T10:22:45.479Z"
   },
   {
    "duration": -555,
    "start_time": "2022-03-16T10:22:45.487Z"
   },
   {
    "duration": -563,
    "start_time": "2022-03-16T10:22:45.496Z"
   },
   {
    "duration": -570,
    "start_time": "2022-03-16T10:22:45.504Z"
   },
   {
    "duration": -577,
    "start_time": "2022-03-16T10:22:45.512Z"
   },
   {
    "duration": -584,
    "start_time": "2022-03-16T10:22:45.520Z"
   },
   {
    "duration": -592,
    "start_time": "2022-03-16T10:22:45.529Z"
   },
   {
    "duration": -599,
    "start_time": "2022-03-16T10:22:45.537Z"
   },
   {
    "duration": -616,
    "start_time": "2022-03-16T10:22:45.555Z"
   },
   {
    "duration": -623,
    "start_time": "2022-03-16T10:22:45.563Z"
   },
   {
    "duration": -631,
    "start_time": "2022-03-16T10:22:45.572Z"
   },
   {
    "duration": -639,
    "start_time": "2022-03-16T10:22:45.581Z"
   },
   {
    "duration": -647,
    "start_time": "2022-03-16T10:22:45.590Z"
   },
   {
    "duration": -654,
    "start_time": "2022-03-16T10:22:45.598Z"
   },
   {
    "duration": -662,
    "start_time": "2022-03-16T10:22:45.607Z"
   },
   {
    "duration": -669,
    "start_time": "2022-03-16T10:22:45.615Z"
   },
   {
    "duration": -677,
    "start_time": "2022-03-16T10:22:45.624Z"
   },
   {
    "duration": -683,
    "start_time": "2022-03-16T10:22:45.631Z"
   },
   {
    "duration": -691,
    "start_time": "2022-03-16T10:22:45.640Z"
   },
   {
    "duration": -698,
    "start_time": "2022-03-16T10:22:45.648Z"
   },
   {
    "duration": -716,
    "start_time": "2022-03-16T10:22:45.666Z"
   },
   {
    "duration": -723,
    "start_time": "2022-03-16T10:22:45.674Z"
   },
   {
    "duration": -1385,
    "start_time": "2022-03-16T10:22:46.337Z"
   },
   {
    "duration": -1408,
    "start_time": "2022-03-16T10:22:46.361Z"
   },
   {
    "duration": -1444,
    "start_time": "2022-03-16T10:22:46.398Z"
   },
   {
    "duration": -1454,
    "start_time": "2022-03-16T10:22:46.409Z"
   },
   {
    "duration": -1464,
    "start_time": "2022-03-16T10:22:46.420Z"
   },
   {
    "duration": -1484,
    "start_time": "2022-03-16T10:22:46.441Z"
   },
   {
    "duration": -1496,
    "start_time": "2022-03-16T10:22:46.454Z"
   },
   {
    "duration": -1506,
    "start_time": "2022-03-16T10:22:46.465Z"
   },
   {
    "duration": -1517,
    "start_time": "2022-03-16T10:22:46.477Z"
   },
   {
    "duration": -1527,
    "start_time": "2022-03-16T10:22:46.488Z"
   },
   {
    "duration": -1537,
    "start_time": "2022-03-16T10:22:46.499Z"
   },
   {
    "duration": -1548,
    "start_time": "2022-03-16T10:22:46.511Z"
   },
   {
    "duration": -1559,
    "start_time": "2022-03-16T10:22:46.523Z"
   },
   {
    "duration": -1568,
    "start_time": "2022-03-16T10:22:46.533Z"
   },
   {
    "duration": -1588,
    "start_time": "2022-03-16T10:22:46.554Z"
   },
   {
    "duration": -1598,
    "start_time": "2022-03-16T10:22:46.565Z"
   },
   {
    "duration": -1609,
    "start_time": "2022-03-16T10:22:46.577Z"
   },
   {
    "duration": -1620,
    "start_time": "2022-03-16T10:22:46.589Z"
   },
   {
    "duration": -1630,
    "start_time": "2022-03-16T10:22:46.600Z"
   },
   {
    "duration": -1639,
    "start_time": "2022-03-16T10:22:46.610Z"
   },
   {
    "duration": -1589,
    "start_time": "2022-03-16T10:22:46.621Z"
   },
   {
    "duration": -1598,
    "start_time": "2022-03-16T10:22:46.631Z"
   },
   {
    "duration": -1607,
    "start_time": "2022-03-16T10:22:46.642Z"
   },
   {
    "duration": -1628,
    "start_time": "2022-03-16T10:22:46.664Z"
   },
   {
    "duration": -1639,
    "start_time": "2022-03-16T10:22:46.676Z"
   },
   {
    "duration": -1649,
    "start_time": "2022-03-16T10:22:46.687Z"
   },
   {
    "duration": -1660,
    "start_time": "2022-03-16T10:22:46.699Z"
   },
   {
    "duration": -1672,
    "start_time": "2022-03-16T10:22:46.712Z"
   },
   {
    "duration": -1684,
    "start_time": "2022-03-16T10:22:46.725Z"
   },
   {
    "duration": -1694,
    "start_time": "2022-03-16T10:22:46.736Z"
   },
   {
    "duration": -2298,
    "start_time": "2022-03-16T10:22:47.341Z"
   },
   {
    "duration": -2305,
    "start_time": "2022-03-16T10:22:47.349Z"
   },
   {
    "duration": -2389,
    "start_time": "2022-03-16T10:22:47.434Z"
   },
   {
    "duration": -2403,
    "start_time": "2022-03-16T10:22:47.449Z"
   },
   {
    "duration": -2409,
    "start_time": "2022-03-16T10:22:47.456Z"
   },
   {
    "duration": -2415,
    "start_time": "2022-03-16T10:22:47.463Z"
   },
   {
    "duration": -2422,
    "start_time": "2022-03-16T10:22:47.471Z"
   },
   {
    "duration": -2428,
    "start_time": "2022-03-16T10:22:47.478Z"
   },
   {
    "duration": -2434,
    "start_time": "2022-03-16T10:22:47.485Z"
   },
   {
    "duration": -2439,
    "start_time": "2022-03-16T10:22:47.491Z"
   },
   {
    "duration": -2445,
    "start_time": "2022-03-16T10:22:47.498Z"
   },
   {
    "duration": -2450,
    "start_time": "2022-03-16T10:22:47.504Z"
   },
   {
    "duration": -2456,
    "start_time": "2022-03-16T10:22:47.511Z"
   },
   {
    "duration": -2461,
    "start_time": "2022-03-16T10:22:47.517Z"
   },
   {
    "duration": -2468,
    "start_time": "2022-03-16T10:22:47.525Z"
   },
   {
    "duration": -2530,
    "start_time": "2022-03-16T10:22:47.588Z"
   },
   {
    "duration": -2536,
    "start_time": "2022-03-16T10:22:47.595Z"
   },
   {
    "duration": -2993,
    "start_time": "2022-03-16T10:22:48.053Z"
   },
   {
    "duration": -2999,
    "start_time": "2022-03-16T10:22:48.060Z"
   },
   {
    "duration": -3016,
    "start_time": "2022-03-16T10:22:48.078Z"
   },
   {
    "duration": -3022,
    "start_time": "2022-03-16T10:22:48.085Z"
   },
   {
    "duration": -3028,
    "start_time": "2022-03-16T10:22:48.092Z"
   },
   {
    "duration": -3034,
    "start_time": "2022-03-16T10:22:48.099Z"
   },
   {
    "duration": -3040,
    "start_time": "2022-03-16T10:22:48.106Z"
   },
   {
    "duration": -3046,
    "start_time": "2022-03-16T10:22:48.113Z"
   },
   {
    "duration": -3051,
    "start_time": "2022-03-16T10:22:48.119Z"
   },
   {
    "duration": -3057,
    "start_time": "2022-03-16T10:22:48.126Z"
   },
   {
    "duration": -3062,
    "start_time": "2022-03-16T10:22:48.132Z"
   },
   {
    "duration": -3068,
    "start_time": "2022-03-16T10:22:48.139Z"
   },
   {
    "duration": -3073,
    "start_time": "2022-03-16T10:22:48.145Z"
   },
   {
    "duration": -3080,
    "start_time": "2022-03-16T10:22:48.152Z"
   },
   {
    "duration": -3085,
    "start_time": "2022-03-16T10:22:48.158Z"
   },
   {
    "duration": -3091,
    "start_time": "2022-03-16T10:22:48.165Z"
   },
   {
    "duration": -3097,
    "start_time": "2022-03-16T10:22:48.171Z"
   },
   {
    "duration": -3113,
    "start_time": "2022-03-16T10:22:48.188Z"
   },
   {
    "duration": -3118,
    "start_time": "2022-03-16T10:22:48.194Z"
   },
   {
    "duration": -3068,
    "start_time": "2022-03-16T10:22:48.201Z"
   },
   {
    "duration": -3073,
    "start_time": "2022-03-16T10:22:48.207Z"
   },
   {
    "duration": -3079,
    "start_time": "2022-03-16T10:22:48.214Z"
   },
   {
    "duration": -3084,
    "start_time": "2022-03-16T10:22:48.220Z"
   },
   {
    "duration": -3090,
    "start_time": "2022-03-16T10:22:48.227Z"
   },
   {
    "duration": -3094,
    "start_time": "2022-03-16T10:22:48.233Z"
   },
   {
    "duration": -3100,
    "start_time": "2022-03-16T10:22:48.240Z"
   },
   {
    "duration": -3104,
    "start_time": "2022-03-16T10:22:48.245Z"
   },
   {
    "duration": -3110,
    "start_time": "2022-03-16T10:22:48.252Z"
   },
   {
    "duration": -3115,
    "start_time": "2022-03-16T10:22:48.258Z"
   },
   {
    "duration": -3121,
    "start_time": "2022-03-16T10:22:48.265Z"
   },
   {
    "duration": -3125,
    "start_time": "2022-03-16T10:22:48.270Z"
   },
   {
    "duration": -3130,
    "start_time": "2022-03-16T10:22:48.277Z"
   },
   {
    "duration": -3135,
    "start_time": "2022-03-16T10:22:48.283Z"
   },
   {
    "duration": 2002,
    "start_time": "2022-03-16T10:30:37.658Z"
   },
   {
    "duration": 7,
    "start_time": "2022-03-16T10:30:39.662Z"
   },
   {
    "duration": 12,
    "start_time": "2022-03-16T10:30:39.670Z"
   },
   {
    "duration": 11,
    "start_time": "2022-03-16T10:30:39.684Z"
   },
   {
    "duration": 5,
    "start_time": "2022-03-16T10:30:39.696Z"
   },
   {
    "duration": 8,
    "start_time": "2022-03-16T10:30:39.702Z"
   },
   {
    "duration": 15,
    "start_time": "2022-03-16T10:30:39.711Z"
   },
   {
    "duration": 10,
    "start_time": "2022-03-16T10:30:39.732Z"
   },
   {
    "duration": 6,
    "start_time": "2022-03-16T10:30:39.745Z"
   },
   {
    "duration": 6,
    "start_time": "2022-03-16T10:30:39.753Z"
   },
   {
    "duration": 8,
    "start_time": "2022-03-16T10:30:39.760Z"
   },
   {
    "duration": 6,
    "start_time": "2022-03-16T10:30:39.770Z"
   },
   {
    "duration": 6,
    "start_time": "2022-03-16T10:30:39.778Z"
   },
   {
    "duration": 18,
    "start_time": "2022-03-16T10:30:39.785Z"
   },
   {
    "duration": 29,
    "start_time": "2022-03-16T10:30:39.805Z"
   },
   {
    "duration": 3,
    "start_time": "2022-03-16T10:30:39.836Z"
   },
   {
    "duration": 20,
    "start_time": "2022-03-16T10:30:39.841Z"
   },
   {
    "duration": 4,
    "start_time": "2022-03-16T10:30:39.863Z"
   },
   {
    "duration": 78,
    "start_time": "2022-03-16T10:30:39.869Z"
   },
   {
    "duration": 98,
    "start_time": "2022-03-16T10:30:39.949Z"
   },
   {
    "duration": 12,
    "start_time": "2022-03-16T10:30:40.049Z"
   },
   {
    "duration": 7,
    "start_time": "2022-03-16T10:30:40.062Z"
   },
   {
    "duration": 9,
    "start_time": "2022-03-16T10:30:40.073Z"
   },
   {
    "duration": 8,
    "start_time": "2022-03-16T10:30:40.084Z"
   },
   {
    "duration": 39,
    "start_time": "2022-03-16T10:30:40.094Z"
   },
   {
    "duration": 4,
    "start_time": "2022-03-16T10:30:40.135Z"
   },
   {
    "duration": 28,
    "start_time": "2022-03-16T10:30:40.140Z"
   },
   {
    "duration": 65,
    "start_time": "2022-03-16T10:30:40.170Z"
   },
   {
    "duration": 13,
    "start_time": "2022-03-16T10:30:40.237Z"
   },
   {
    "duration": 4,
    "start_time": "2022-03-16T10:30:40.252Z"
   },
   {
    "duration": 10,
    "start_time": "2022-03-16T10:30:40.257Z"
   },
   {
    "duration": 25,
    "start_time": "2022-03-16T10:30:40.269Z"
   },
   {
    "duration": 5,
    "start_time": "2022-03-16T10:30:40.296Z"
   },
   {
    "duration": 125,
    "start_time": "2022-03-16T10:30:40.302Z"
   },
   {
    "duration": 70,
    "start_time": "2022-03-16T10:30:40.430Z"
   },
   {
    "duration": 9,
    "start_time": "2022-03-16T10:30:40.502Z"
   },
   {
    "duration": 27,
    "start_time": "2022-03-16T10:30:40.512Z"
   },
   {
    "duration": 6,
    "start_time": "2022-03-16T10:30:40.541Z"
   },
   {
    "duration": 7,
    "start_time": "2022-03-16T10:30:40.549Z"
   },
   {
    "duration": 9,
    "start_time": "2022-03-16T10:30:40.557Z"
   },
   {
    "duration": 23,
    "start_time": "2022-03-16T10:30:40.568Z"
   },
   {
    "duration": 99,
    "start_time": "2022-03-16T10:30:40.592Z"
   },
   {
    "duration": 4,
    "start_time": "2022-03-16T10:30:40.693Z"
   },
   {
    "duration": 38,
    "start_time": "2022-03-16T10:30:40.698Z"
   },
   {
    "duration": 4,
    "start_time": "2022-03-16T10:30:40.737Z"
   },
   {
    "duration": 16,
    "start_time": "2022-03-16T10:30:40.742Z"
   },
   {
    "duration": 19,
    "start_time": "2022-03-16T10:30:40.759Z"
   },
   {
    "duration": 39,
    "start_time": "2022-03-16T10:30:40.780Z"
   },
   {
    "duration": 13,
    "start_time": "2022-03-16T10:30:40.821Z"
   },
   {
    "duration": 4,
    "start_time": "2022-03-16T10:30:40.836Z"
   },
   {
    "duration": 20,
    "start_time": "2022-03-16T10:30:40.841Z"
   },
   {
    "duration": 13,
    "start_time": "2022-03-16T10:30:40.863Z"
   },
   {
    "duration": 78,
    "start_time": "2022-03-16T10:30:40.878Z"
   },
   {
    "duration": 3,
    "start_time": "2022-03-16T10:30:40.958Z"
   },
   {
    "duration": 87,
    "start_time": "2022-03-16T10:30:40.962Z"
   },
   {
    "duration": 239,
    "start_time": "2022-03-16T10:30:41.050Z"
   },
   {
    "duration": 30897,
    "start_time": "2022-03-16T10:30:41.290Z"
   },
   {
    "duration": -116,
    "start_time": "2022-03-16T10:31:12.307Z"
   },
   {
    "duration": -133,
    "start_time": "2022-03-16T10:31:12.325Z"
   },
   {
    "duration": -150,
    "start_time": "2022-03-16T10:31:12.343Z"
   },
   {
    "duration": -157,
    "start_time": "2022-03-16T10:31:12.351Z"
   },
   {
    "duration": -165,
    "start_time": "2022-03-16T10:31:12.360Z"
   },
   {
    "duration": -172,
    "start_time": "2022-03-16T10:31:12.368Z"
   },
   {
    "duration": -190,
    "start_time": "2022-03-16T10:31:12.387Z"
   },
   {
    "duration": -197,
    "start_time": "2022-03-16T10:31:12.395Z"
   },
   {
    "duration": -205,
    "start_time": "2022-03-16T10:31:12.404Z"
   },
   {
    "duration": -212,
    "start_time": "2022-03-16T10:31:12.412Z"
   },
   {
    "duration": -220,
    "start_time": "2022-03-16T10:31:12.421Z"
   },
   {
    "duration": -226,
    "start_time": "2022-03-16T10:31:12.428Z"
   },
   {
    "duration": -234,
    "start_time": "2022-03-16T10:31:12.436Z"
   },
   {
    "duration": -241,
    "start_time": "2022-03-16T10:31:12.444Z"
   },
   {
    "duration": -249,
    "start_time": "2022-03-16T10:31:12.453Z"
   },
   {
    "duration": -258,
    "start_time": "2022-03-16T10:31:12.463Z"
   },
   {
    "duration": -266,
    "start_time": "2022-03-16T10:31:12.472Z"
   },
   {
    "duration": -273,
    "start_time": "2022-03-16T10:31:12.480Z"
   },
   {
    "duration": -292,
    "start_time": "2022-03-16T10:31:12.500Z"
   },
   {
    "duration": -300,
    "start_time": "2022-03-16T10:31:12.509Z"
   },
   {
    "duration": -307,
    "start_time": "2022-03-16T10:31:12.517Z"
   },
   {
    "duration": -316,
    "start_time": "2022-03-16T10:31:12.526Z"
   },
   {
    "duration": -324,
    "start_time": "2022-03-16T10:31:12.535Z"
   },
   {
    "duration": -330,
    "start_time": "2022-03-16T10:31:12.543Z"
   },
   {
    "duration": -338,
    "start_time": "2022-03-16T10:31:12.552Z"
   },
   {
    "duration": -344,
    "start_time": "2022-03-16T10:31:12.559Z"
   },
   {
    "duration": -354,
    "start_time": "2022-03-16T10:31:12.570Z"
   },
   {
    "duration": -362,
    "start_time": "2022-03-16T10:31:12.578Z"
   },
   {
    "duration": -369,
    "start_time": "2022-03-16T10:31:12.587Z"
   },
   {
    "duration": -378,
    "start_time": "2022-03-16T10:31:12.596Z"
   },
   {
    "duration": -631,
    "start_time": "2022-03-16T10:31:12.850Z"
   },
   {
    "duration": -639,
    "start_time": "2022-03-16T10:31:12.859Z"
   },
   {
    "duration": -646,
    "start_time": "2022-03-16T10:31:12.867Z"
   },
   {
    "duration": -653,
    "start_time": "2022-03-16T10:31:12.875Z"
   },
   {
    "duration": -662,
    "start_time": "2022-03-16T10:31:12.885Z"
   },
   {
    "duration": -669,
    "start_time": "2022-03-16T10:31:12.893Z"
   },
   {
    "duration": -676,
    "start_time": "2022-03-16T10:31:12.901Z"
   },
   {
    "duration": -683,
    "start_time": "2022-03-16T10:31:12.909Z"
   },
   {
    "duration": -690,
    "start_time": "2022-03-16T10:31:12.917Z"
   },
   {
    "duration": -697,
    "start_time": "2022-03-16T10:31:12.925Z"
   },
   {
    "duration": -704,
    "start_time": "2022-03-16T10:31:12.933Z"
   },
   {
    "duration": -711,
    "start_time": "2022-03-16T10:31:12.941Z"
   },
   {
    "duration": -729,
    "start_time": "2022-03-16T10:31:12.960Z"
   },
   {
    "duration": -736,
    "start_time": "2022-03-16T10:31:12.968Z"
   },
   {
    "duration": -744,
    "start_time": "2022-03-16T10:31:12.977Z"
   },
   {
    "duration": -751,
    "start_time": "2022-03-16T10:31:12.985Z"
   },
   {
    "duration": -759,
    "start_time": "2022-03-16T10:31:12.994Z"
   },
   {
    "duration": -767,
    "start_time": "2022-03-16T10:31:13.002Z"
   },
   {
    "duration": -774,
    "start_time": "2022-03-16T10:31:13.011Z"
   },
   {
    "duration": -782,
    "start_time": "2022-03-16T10:31:13.019Z"
   },
   {
    "duration": -788,
    "start_time": "2022-03-16T10:31:13.027Z"
   },
   {
    "duration": -795,
    "start_time": "2022-03-16T10:31:13.035Z"
   },
   {
    "duration": -802,
    "start_time": "2022-03-16T10:31:13.043Z"
   },
   {
    "duration": -808,
    "start_time": "2022-03-16T10:31:13.050Z"
   },
   {
    "duration": -817,
    "start_time": "2022-03-16T10:31:13.059Z"
   },
   {
    "duration": -833,
    "start_time": "2022-03-16T10:31:13.076Z"
   },
   {
    "duration": -841,
    "start_time": "2022-03-16T10:31:13.085Z"
   },
   {
    "duration": -847,
    "start_time": "2022-03-16T10:31:13.093Z"
   },
   {
    "duration": -855,
    "start_time": "2022-03-16T10:31:13.101Z"
   },
   {
    "duration": -862,
    "start_time": "2022-03-16T10:31:13.109Z"
   },
   {
    "duration": -869,
    "start_time": "2022-03-16T10:31:13.117Z"
   },
   {
    "duration": -876,
    "start_time": "2022-03-16T10:31:13.125Z"
   },
   {
    "duration": -883,
    "start_time": "2022-03-16T10:31:13.133Z"
   },
   {
    "duration": -890,
    "start_time": "2022-03-16T10:31:13.141Z"
   },
   {
    "duration": -989,
    "start_time": "2022-03-16T10:31:13.241Z"
   },
   {
    "duration": -1039,
    "start_time": "2022-03-16T10:31:13.292Z"
   },
   {
    "duration": -1057,
    "start_time": "2022-03-16T10:31:13.311Z"
   },
   {
    "duration": -1065,
    "start_time": "2022-03-16T10:31:13.320Z"
   },
   {
    "duration": -1072,
    "start_time": "2022-03-16T10:31:13.328Z"
   },
   {
    "duration": -1111,
    "start_time": "2022-03-16T10:31:13.368Z"
   },
   {
    "duration": -1118,
    "start_time": "2022-03-16T10:31:13.376Z"
   },
   {
    "duration": -1125,
    "start_time": "2022-03-16T10:31:13.384Z"
   },
   {
    "duration": -1132,
    "start_time": "2022-03-16T10:31:13.392Z"
   },
   {
    "duration": -1138,
    "start_time": "2022-03-16T10:31:13.399Z"
   },
   {
    "duration": -1146,
    "start_time": "2022-03-16T10:31:13.408Z"
   },
   {
    "duration": -1163,
    "start_time": "2022-03-16T10:31:13.426Z"
   },
   {
    "duration": -1170,
    "start_time": "2022-03-16T10:31:13.434Z"
   },
   {
    "duration": -1177,
    "start_time": "2022-03-16T10:31:13.442Z"
   },
   {
    "duration": -1184,
    "start_time": "2022-03-16T10:31:13.450Z"
   },
   {
    "duration": -1204,
    "start_time": "2022-03-16T10:31:13.470Z"
   },
   {
    "duration": -1212,
    "start_time": "2022-03-16T10:31:13.479Z"
   },
   {
    "duration": -1218,
    "start_time": "2022-03-16T10:31:13.486Z"
   },
   {
    "duration": -1226,
    "start_time": "2022-03-16T10:31:13.495Z"
   },
   {
    "duration": -1233,
    "start_time": "2022-03-16T10:31:13.503Z"
   },
   {
    "duration": -1241,
    "start_time": "2022-03-16T10:31:13.512Z"
   },
   {
    "duration": 1525,
    "start_time": "2022-03-16T10:31:27.858Z"
   },
   {
    "duration": 7,
    "start_time": "2022-03-16T10:31:29.385Z"
   },
   {
    "duration": 8,
    "start_time": "2022-03-16T10:31:29.394Z"
   },
   {
    "duration": 11,
    "start_time": "2022-03-16T10:31:29.403Z"
   },
   {
    "duration": 20,
    "start_time": "2022-03-16T10:31:29.415Z"
   },
   {
    "duration": 9,
    "start_time": "2022-03-16T10:31:29.436Z"
   },
   {
    "duration": 10,
    "start_time": "2022-03-16T10:31:29.446Z"
   },
   {
    "duration": 6,
    "start_time": "2022-03-16T10:31:29.458Z"
   },
   {
    "duration": 5,
    "start_time": "2022-03-16T10:31:29.466Z"
   },
   {
    "duration": 5,
    "start_time": "2022-03-16T10:31:29.473Z"
   },
   {
    "duration": 6,
    "start_time": "2022-03-16T10:31:29.479Z"
   },
   {
    "duration": 6,
    "start_time": "2022-03-16T10:31:29.487Z"
   },
   {
    "duration": 46,
    "start_time": "2022-03-16T10:31:29.495Z"
   },
   {
    "duration": 27,
    "start_time": "2022-03-16T10:31:29.543Z"
   },
   {
    "duration": 5,
    "start_time": "2022-03-16T10:31:29.572Z"
   },
   {
    "duration": 4,
    "start_time": "2022-03-16T10:31:29.579Z"
   },
   {
    "duration": 48,
    "start_time": "2022-03-16T10:31:29.585Z"
   },
   {
    "duration": 5,
    "start_time": "2022-03-16T10:31:29.635Z"
   },
   {
    "duration": 53,
    "start_time": "2022-03-16T10:31:29.642Z"
   },
   {
    "duration": 114,
    "start_time": "2022-03-16T10:31:29.697Z"
   },
   {
    "duration": 11,
    "start_time": "2022-03-16T10:31:29.813Z"
   },
   {
    "duration": 10,
    "start_time": "2022-03-16T10:31:29.825Z"
   },
   {
    "duration": 12,
    "start_time": "2022-03-16T10:31:29.839Z"
   },
   {
    "duration": 5,
    "start_time": "2022-03-16T10:31:29.853Z"
   },
   {
    "duration": 15,
    "start_time": "2022-03-16T10:31:29.859Z"
   },
   {
    "duration": 4,
    "start_time": "2022-03-16T10:31:29.876Z"
   },
   {
    "duration": 63,
    "start_time": "2022-03-16T10:31:29.882Z"
   },
   {
    "duration": 87,
    "start_time": "2022-03-16T10:31:29.946Z"
   },
   {
    "duration": 20,
    "start_time": "2022-03-16T10:31:30.035Z"
   },
   {
    "duration": 8,
    "start_time": "2022-03-16T10:31:30.057Z"
   },
   {
    "duration": 8,
    "start_time": "2022-03-16T10:31:30.067Z"
   },
   {
    "duration": 20,
    "start_time": "2022-03-16T10:31:30.077Z"
   },
   {
    "duration": 4,
    "start_time": "2022-03-16T10:31:30.099Z"
   },
   {
    "duration": 89,
    "start_time": "2022-03-16T10:31:30.104Z"
   },
   {
    "duration": 76,
    "start_time": "2022-03-16T10:31:30.196Z"
   },
   {
    "duration": 10,
    "start_time": "2022-03-16T10:31:30.274Z"
   },
   {
    "duration": 9,
    "start_time": "2022-03-16T10:31:30.286Z"
   },
   {
    "duration": 10,
    "start_time": "2022-03-16T10:31:30.297Z"
   },
   {
    "duration": 26,
    "start_time": "2022-03-16T10:31:30.308Z"
   },
   {
    "duration": 3,
    "start_time": "2022-03-16T10:31:30.336Z"
   },
   {
    "duration": 24,
    "start_time": "2022-03-16T10:31:30.341Z"
   },
   {
    "duration": 96,
    "start_time": "2022-03-16T10:31:30.367Z"
   },
   {
    "duration": 4,
    "start_time": "2022-03-16T10:31:30.465Z"
   },
   {
    "duration": 30,
    "start_time": "2022-03-16T10:31:30.470Z"
   },
   {
    "duration": 3,
    "start_time": "2022-03-16T10:31:30.501Z"
   },
   {
    "duration": 40,
    "start_time": "2022-03-16T10:31:30.506Z"
   },
   {
    "duration": 29,
    "start_time": "2022-03-16T10:31:30.548Z"
   },
   {
    "duration": 40,
    "start_time": "2022-03-16T10:31:30.579Z"
   },
   {
    "duration": 5,
    "start_time": "2022-03-16T10:31:30.621Z"
   },
   {
    "duration": 10,
    "start_time": "2022-03-16T10:31:30.628Z"
   },
   {
    "duration": 18,
    "start_time": "2022-03-16T10:31:30.640Z"
   },
   {
    "duration": 20,
    "start_time": "2022-03-16T10:31:30.660Z"
   },
   {
    "duration": 67,
    "start_time": "2022-03-16T10:31:30.682Z"
   },
   {
    "duration": 4,
    "start_time": "2022-03-16T10:31:30.751Z"
   },
   {
    "duration": 89,
    "start_time": "2022-03-16T10:31:30.756Z"
   },
   {
    "duration": 247,
    "start_time": "2022-03-16T10:31:30.847Z"
   },
   {
    "duration": 44274,
    "start_time": "2022-03-16T10:31:31.096Z"
   },
   {
    "duration": -168,
    "start_time": "2022-03-16T10:32:15.543Z"
   },
   {
    "duration": -176,
    "start_time": "2022-03-16T10:32:15.552Z"
   },
   {
    "duration": -183,
    "start_time": "2022-03-16T10:32:15.560Z"
   },
   {
    "duration": -190,
    "start_time": "2022-03-16T10:32:15.568Z"
   },
   {
    "duration": -197,
    "start_time": "2022-03-16T10:32:15.576Z"
   },
   {
    "duration": -204,
    "start_time": "2022-03-16T10:32:15.584Z"
   },
   {
    "duration": -211,
    "start_time": "2022-03-16T10:32:15.592Z"
   },
   {
    "duration": -219,
    "start_time": "2022-03-16T10:32:15.601Z"
   },
   {
    "duration": -226,
    "start_time": "2022-03-16T10:32:15.609Z"
   },
   {
    "duration": -234,
    "start_time": "2022-03-16T10:32:15.618Z"
   },
   {
    "duration": -240,
    "start_time": "2022-03-16T10:32:15.625Z"
   },
   {
    "duration": -248,
    "start_time": "2022-03-16T10:32:15.634Z"
   },
   {
    "duration": -254,
    "start_time": "2022-03-16T10:32:15.641Z"
   },
   {
    "duration": -262,
    "start_time": "2022-03-16T10:32:15.650Z"
   },
   {
    "duration": -269,
    "start_time": "2022-03-16T10:32:15.658Z"
   },
   {
    "duration": -277,
    "start_time": "2022-03-16T10:32:15.667Z"
   },
   {
    "duration": -284,
    "start_time": "2022-03-16T10:32:15.675Z"
   },
   {
    "duration": -292,
    "start_time": "2022-03-16T10:32:15.684Z"
   },
   {
    "duration": -300,
    "start_time": "2022-03-16T10:32:15.693Z"
   },
   {
    "duration": -308,
    "start_time": "2022-03-16T10:32:15.702Z"
   },
   {
    "duration": -315,
    "start_time": "2022-03-16T10:32:15.710Z"
   },
   {
    "duration": -322,
    "start_time": "2022-03-16T10:32:15.718Z"
   },
   {
    "duration": -329,
    "start_time": "2022-03-16T10:32:15.726Z"
   },
   {
    "duration": -337,
    "start_time": "2022-03-16T10:32:15.735Z"
   },
   {
    "duration": -345,
    "start_time": "2022-03-16T10:32:15.743Z"
   },
   {
    "duration": -353,
    "start_time": "2022-03-16T10:32:15.752Z"
   },
   {
    "duration": -360,
    "start_time": "2022-03-16T10:32:15.760Z"
   },
   {
    "duration": -367,
    "start_time": "2022-03-16T10:32:15.768Z"
   },
   {
    "duration": -373,
    "start_time": "2022-03-16T10:32:15.776Z"
   },
   {
    "duration": -382,
    "start_time": "2022-03-16T10:32:15.785Z"
   },
   {
    "duration": -388,
    "start_time": "2022-03-16T10:32:15.793Z"
   },
   {
    "duration": -395,
    "start_time": "2022-03-16T10:32:15.801Z"
   },
   {
    "duration": -402,
    "start_time": "2022-03-16T10:32:15.809Z"
   },
   {
    "duration": -410,
    "start_time": "2022-03-16T10:32:15.818Z"
   },
   {
    "duration": -417,
    "start_time": "2022-03-16T10:32:15.826Z"
   },
   {
    "duration": -425,
    "start_time": "2022-03-16T10:32:15.835Z"
   },
   {
    "duration": -431,
    "start_time": "2022-03-16T10:32:15.842Z"
   },
   {
    "duration": -439,
    "start_time": "2022-03-16T10:32:15.851Z"
   },
   {
    "duration": -426,
    "start_time": "2022-03-16T10:32:15.859Z"
   },
   {
    "duration": -433,
    "start_time": "2022-03-16T10:32:15.867Z"
   },
   {
    "duration": -441,
    "start_time": "2022-03-16T10:32:15.876Z"
   },
   {
    "duration": -448,
    "start_time": "2022-03-16T10:32:15.884Z"
   },
   {
    "duration": -455,
    "start_time": "2022-03-16T10:32:15.892Z"
   },
   {
    "duration": -461,
    "start_time": "2022-03-16T10:32:15.900Z"
   },
   {
    "duration": -469,
    "start_time": "2022-03-16T10:32:15.909Z"
   },
   {
    "duration": -477,
    "start_time": "2022-03-16T10:32:15.918Z"
   },
   {
    "duration": -484,
    "start_time": "2022-03-16T10:32:15.926Z"
   },
   {
    "duration": -492,
    "start_time": "2022-03-16T10:32:15.935Z"
   },
   {
    "duration": -499,
    "start_time": "2022-03-16T10:32:15.943Z"
   },
   {
    "duration": -507,
    "start_time": "2022-03-16T10:32:15.952Z"
   },
   {
    "duration": -514,
    "start_time": "2022-03-16T10:32:15.960Z"
   },
   {
    "duration": -521,
    "start_time": "2022-03-16T10:32:15.968Z"
   },
   {
    "duration": -529,
    "start_time": "2022-03-16T10:32:15.977Z"
   },
   {
    "duration": -536,
    "start_time": "2022-03-16T10:32:15.986Z"
   },
   {
    "duration": -543,
    "start_time": "2022-03-16T10:32:15.994Z"
   },
   {
    "duration": -551,
    "start_time": "2022-03-16T10:32:16.003Z"
   },
   {
    "duration": -558,
    "start_time": "2022-03-16T10:32:16.011Z"
   },
   {
    "duration": -566,
    "start_time": "2022-03-16T10:32:16.020Z"
   },
   {
    "duration": -573,
    "start_time": "2022-03-16T10:32:16.028Z"
   },
   {
    "duration": -581,
    "start_time": "2022-03-16T10:32:16.037Z"
   },
   {
    "duration": -587,
    "start_time": "2022-03-16T10:32:16.044Z"
   },
   {
    "duration": -594,
    "start_time": "2022-03-16T10:32:16.053Z"
   },
   {
    "duration": -601,
    "start_time": "2022-03-16T10:32:16.061Z"
   },
   {
    "duration": -608,
    "start_time": "2022-03-16T10:32:16.069Z"
   },
   {
    "duration": -616,
    "start_time": "2022-03-16T10:32:16.078Z"
   },
   {
    "duration": -623,
    "start_time": "2022-03-16T10:32:16.086Z"
   },
   {
    "duration": -630,
    "start_time": "2022-03-16T10:32:16.094Z"
   },
   {
    "duration": -638,
    "start_time": "2022-03-16T10:32:16.103Z"
   },
   {
    "duration": -646,
    "start_time": "2022-03-16T10:32:16.112Z"
   },
   {
    "duration": -654,
    "start_time": "2022-03-16T10:32:16.121Z"
   },
   {
    "duration": -661,
    "start_time": "2022-03-16T10:32:16.129Z"
   },
   {
    "duration": -669,
    "start_time": "2022-03-16T10:32:16.138Z"
   },
   {
    "duration": -677,
    "start_time": "2022-03-16T10:32:16.147Z"
   },
   {
    "duration": -685,
    "start_time": "2022-03-16T10:32:16.156Z"
   },
   {
    "duration": -692,
    "start_time": "2022-03-16T10:32:16.164Z"
   },
   {
    "duration": -700,
    "start_time": "2022-03-16T10:32:16.173Z"
   },
   {
    "duration": -707,
    "start_time": "2022-03-16T10:32:16.181Z"
   },
   {
    "duration": -715,
    "start_time": "2022-03-16T10:32:16.190Z"
   },
   {
    "duration": -723,
    "start_time": "2022-03-16T10:32:16.199Z"
   },
   {
    "duration": -675,
    "start_time": "2022-03-16T10:32:16.208Z"
   },
   {
    "duration": -682,
    "start_time": "2022-03-16T10:32:16.216Z"
   },
   {
    "duration": -690,
    "start_time": "2022-03-16T10:32:16.225Z"
   },
   {
    "duration": -697,
    "start_time": "2022-03-16T10:32:16.233Z"
   },
   {
    "duration": -705,
    "start_time": "2022-03-16T10:32:16.242Z"
   },
   {
    "duration": -712,
    "start_time": "2022-03-16T10:32:16.250Z"
   },
   {
    "duration": 197,
    "start_time": "2022-03-16T10:33:45.026Z"
   },
   {
    "duration": 7556,
    "start_time": "2022-03-16T10:33:52.777Z"
   },
   {
    "duration": 1722,
    "start_time": "2022-03-16T10:34:06.664Z"
   },
   {
    "duration": 11,
    "start_time": "2022-03-16T10:34:08.388Z"
   },
   {
    "duration": 15,
    "start_time": "2022-03-16T10:34:08.400Z"
   },
   {
    "duration": 19,
    "start_time": "2022-03-16T10:34:08.416Z"
   },
   {
    "duration": 5,
    "start_time": "2022-03-16T10:34:08.437Z"
   },
   {
    "duration": 8,
    "start_time": "2022-03-16T10:34:08.443Z"
   },
   {
    "duration": 20,
    "start_time": "2022-03-16T10:34:08.453Z"
   },
   {
    "duration": 10,
    "start_time": "2022-03-16T10:34:08.475Z"
   },
   {
    "duration": 4,
    "start_time": "2022-03-16T10:34:08.487Z"
   },
   {
    "duration": 9,
    "start_time": "2022-03-16T10:34:08.493Z"
   },
   {
    "duration": 32,
    "start_time": "2022-03-16T10:34:08.504Z"
   },
   {
    "duration": 6,
    "start_time": "2022-03-16T10:34:08.538Z"
   },
   {
    "duration": 10,
    "start_time": "2022-03-16T10:34:08.546Z"
   },
   {
    "duration": 22,
    "start_time": "2022-03-16T10:34:08.558Z"
   },
   {
    "duration": 9,
    "start_time": "2022-03-16T10:34:08.582Z"
   },
   {
    "duration": 11,
    "start_time": "2022-03-16T10:34:08.593Z"
   },
   {
    "duration": 42,
    "start_time": "2022-03-16T10:34:08.605Z"
   },
   {
    "duration": 4,
    "start_time": "2022-03-16T10:34:08.649Z"
   },
   {
    "duration": 55,
    "start_time": "2022-03-16T10:34:08.655Z"
   },
   {
    "duration": 110,
    "start_time": "2022-03-16T10:34:08.711Z"
   },
   {
    "duration": 18,
    "start_time": "2022-03-16T10:34:08.823Z"
   },
   {
    "duration": 4,
    "start_time": "2022-03-16T10:34:08.843Z"
   },
   {
    "duration": 9,
    "start_time": "2022-03-16T10:34:08.851Z"
   },
   {
    "duration": 3,
    "start_time": "2022-03-16T10:34:08.863Z"
   },
   {
    "duration": 16,
    "start_time": "2022-03-16T10:34:08.867Z"
   },
   {
    "duration": 3,
    "start_time": "2022-03-16T10:34:08.885Z"
   },
   {
    "duration": 63,
    "start_time": "2022-03-16T10:34:08.890Z"
   },
   {
    "duration": 55,
    "start_time": "2022-03-16T10:34:08.954Z"
   },
   {
    "duration": 30,
    "start_time": "2022-03-16T10:34:09.011Z"
   },
   {
    "duration": 4,
    "start_time": "2022-03-16T10:34:09.042Z"
   },
   {
    "duration": 6,
    "start_time": "2022-03-16T10:34:09.047Z"
   },
   {
    "duration": 18,
    "start_time": "2022-03-16T10:34:09.055Z"
   },
   {
    "duration": 4,
    "start_time": "2022-03-16T10:34:09.074Z"
   },
   {
    "duration": 74,
    "start_time": "2022-03-16T10:34:09.080Z"
   },
   {
    "duration": 133,
    "start_time": "2022-03-16T10:34:09.157Z"
   },
   {
    "duration": 13,
    "start_time": "2022-03-16T10:34:09.293Z"
   },
   {
    "duration": 12,
    "start_time": "2022-03-16T10:34:09.309Z"
   },
   {
    "duration": 6,
    "start_time": "2022-03-16T10:34:09.333Z"
   },
   {
    "duration": 7,
    "start_time": "2022-03-16T10:34:09.340Z"
   },
   {
    "duration": 6,
    "start_time": "2022-03-16T10:34:09.349Z"
   },
   {
    "duration": 17,
    "start_time": "2022-03-16T10:34:09.356Z"
   },
   {
    "duration": 103,
    "start_time": "2022-03-16T10:34:09.375Z"
   },
   {
    "duration": 4,
    "start_time": "2022-03-16T10:34:09.479Z"
   },
   {
    "duration": 19,
    "start_time": "2022-03-16T10:34:09.485Z"
   },
   {
    "duration": 3,
    "start_time": "2022-03-16T10:34:09.506Z"
   },
   {
    "duration": 27,
    "start_time": "2022-03-16T10:34:09.511Z"
   },
   {
    "duration": 12,
    "start_time": "2022-03-16T10:34:09.540Z"
   },
   {
    "duration": 37,
    "start_time": "2022-03-16T10:34:09.553Z"
   },
   {
    "duration": 3,
    "start_time": "2022-03-16T10:34:09.592Z"
   },
   {
    "duration": 7,
    "start_time": "2022-03-16T10:34:09.597Z"
   },
   {
    "duration": 33,
    "start_time": "2022-03-16T10:34:09.605Z"
   },
   {
    "duration": 13,
    "start_time": "2022-03-16T10:34:09.640Z"
   },
   {
    "duration": 79,
    "start_time": "2022-03-16T10:34:09.654Z"
   },
   {
    "duration": 5,
    "start_time": "2022-03-16T10:34:09.734Z"
   },
   {
    "duration": 34,
    "start_time": "2022-03-16T10:34:09.741Z"
   },
   {
    "duration": 946,
    "start_time": "2022-03-16T10:34:09.777Z"
   },
   {
    "duration": 7905,
    "start_time": "2022-03-16T10:34:10.725Z"
   },
   {
    "duration": 16,
    "start_time": "2022-03-16T10:34:18.633Z"
   },
   {
    "duration": 8,
    "start_time": "2022-03-16T10:34:18.652Z"
   },
   {
    "duration": 11,
    "start_time": "2022-03-16T10:34:18.663Z"
   },
   {
    "duration": 4,
    "start_time": "2022-03-16T10:34:18.676Z"
   },
   {
    "duration": 70,
    "start_time": "2022-03-16T10:34:18.682Z"
   },
   {
    "duration": 5,
    "start_time": "2022-03-16T10:34:18.754Z"
   },
   {
    "duration": 34,
    "start_time": "2022-03-16T10:34:18.761Z"
   },
   {
    "duration": 285,
    "start_time": "2022-03-16T10:34:18.797Z"
   },
   {
    "duration": 17,
    "start_time": "2022-03-16T10:34:19.084Z"
   },
   {
    "duration": 4,
    "start_time": "2022-03-16T10:34:19.103Z"
   },
   {
    "duration": 7,
    "start_time": "2022-03-16T10:34:19.135Z"
   },
   {
    "duration": 24,
    "start_time": "2022-03-16T10:34:19.145Z"
   },
   {
    "duration": 248,
    "start_time": "2022-03-16T10:34:19.171Z"
   },
   {
    "duration": 18,
    "start_time": "2022-03-16T10:34:19.420Z"
   },
   {
    "duration": 5,
    "start_time": "2022-03-16T10:34:19.440Z"
   },
   {
    "duration": 11,
    "start_time": "2022-03-16T10:34:19.447Z"
   },
   {
    "duration": 24,
    "start_time": "2022-03-16T10:34:19.459Z"
   },
   {
    "duration": 260,
    "start_time": "2022-03-16T10:34:19.485Z"
   },
   {
    "duration": 4,
    "start_time": "2022-03-16T10:34:19.746Z"
   },
   {
    "duration": 9,
    "start_time": "2022-03-16T10:34:19.752Z"
   },
   {
    "duration": 13,
    "start_time": "2022-03-16T10:34:19.762Z"
   },
   {
    "duration": 11,
    "start_time": "2022-03-16T10:34:19.776Z"
   },
   {
    "duration": 14,
    "start_time": "2022-03-16T10:34:19.789Z"
   },
   {
    "duration": 29,
    "start_time": "2022-03-16T10:34:19.805Z"
   },
   {
    "duration": 6,
    "start_time": "2022-03-16T10:34:19.836Z"
   },
   {
    "duration": 2728,
    "start_time": "2022-03-16T10:34:19.843Z"
   },
   {
    "duration": 362,
    "start_time": "2022-03-16T10:34:22.573Z"
   },
   {
    "duration": 2620,
    "start_time": "2022-03-16T10:34:22.936Z"
   },
   {
    "duration": 1769,
    "start_time": "2022-03-16T10:34:25.557Z"
   },
   {
    "duration": 547,
    "start_time": "2022-03-16T10:34:27.327Z"
   },
   {
    "duration": 1982,
    "start_time": "2022-03-16T10:34:27.876Z"
   },
   {
    "duration": 2022,
    "start_time": "2022-03-16T10:34:29.860Z"
   },
   {
    "duration": 364,
    "start_time": "2022-03-16T10:34:31.883Z"
   },
   {
    "duration": 2700,
    "start_time": "2022-03-16T10:34:32.249Z"
   },
   {
    "duration": 14,
    "start_time": "2022-03-16T10:34:34.951Z"
   },
   {
    "duration": 1368,
    "start_time": "2022-03-16T10:34:34.967Z"
   },
   {
    "duration": 10,
    "start_time": "2022-03-16T10:34:36.336Z"
   },
   {
    "duration": 2046,
    "start_time": "2022-03-16T10:34:36.348Z"
   },
   {
    "duration": 23,
    "start_time": "2022-03-16T10:34:38.395Z"
   },
   {
    "duration": 2032,
    "start_time": "2022-03-16T10:34:38.419Z"
   },
   {
    "duration": 21,
    "start_time": "2022-03-16T10:34:40.453Z"
   },
   {
    "duration": 133,
    "start_time": "2022-03-16T10:34:40.476Z"
   },
   {
    "duration": 393,
    "start_time": "2022-03-16T10:34:40.611Z"
   },
   {
    "duration": 133,
    "start_time": "2022-03-16T10:34:41.006Z"
   },
   {
    "duration": 247,
    "start_time": "2022-03-16T10:34:41.141Z"
   },
   {
    "duration": 53,
    "start_time": "2022-03-16T10:34:41.390Z"
   },
   {
    "duration": 17,
    "start_time": "2022-03-16T10:34:41.445Z"
   },
   {
    "duration": 27,
    "start_time": "2022-03-16T10:34:41.464Z"
   },
   {
    "duration": 131,
    "start_time": "2022-03-16T10:34:41.492Z"
   },
   {
    "duration": 19,
    "start_time": "2022-03-16T10:34:41.625Z"
   },
   {
    "duration": 283,
    "start_time": "2022-03-16T10:34:41.646Z"
   },
   {
    "duration": 15,
    "start_time": "2022-03-16T10:34:41.933Z"
   },
   {
    "duration": 12,
    "start_time": "2022-03-16T10:34:41.950Z"
   },
   {
    "duration": 281,
    "start_time": "2022-03-16T10:34:41.963Z"
   },
   {
    "duration": 16,
    "start_time": "2022-03-16T10:34:42.246Z"
   },
   {
    "duration": 273,
    "start_time": "2022-03-16T10:34:42.264Z"
   },
   {
    "duration": 15,
    "start_time": "2022-03-16T10:34:42.539Z"
   },
   {
    "duration": 13,
    "start_time": "2022-03-16T10:34:42.556Z"
   },
   {
    "duration": 280,
    "start_time": "2022-03-16T10:34:42.570Z"
   },
   {
    "duration": 10,
    "start_time": "2022-03-16T10:34:42.852Z"
   },
   {
    "duration": 9,
    "start_time": "2022-03-16T10:34:42.864Z"
   },
   {
    "duration": 280,
    "start_time": "2022-03-16T10:34:42.875Z"
   },
   {
    "duration": 14,
    "start_time": "2022-03-16T10:34:43.157Z"
   },
   {
    "duration": 12,
    "start_time": "2022-03-16T10:34:43.174Z"
   },
   {
    "duration": 393,
    "start_time": "2022-03-16T10:34:43.188Z"
   },
   {
    "duration": 297,
    "start_time": "2022-03-16T10:34:43.583Z"
   },
   {
    "duration": 16,
    "start_time": "2022-03-16T10:34:43.882Z"
   },
   {
    "duration": 506,
    "start_time": "2022-03-16T10:34:43.900Z"
   },
   {
    "duration": 571,
    "start_time": "2022-03-16T10:34:44.408Z"
   },
   {
    "duration": 398,
    "start_time": "2022-03-16T10:34:44.981Z"
   },
   {
    "duration": 257,
    "start_time": "2022-03-16T10:34:45.381Z"
   },
   {
    "duration": 13,
    "start_time": "2022-03-16T10:34:45.640Z"
   },
   {
    "duration": 262,
    "start_time": "2022-03-16T10:34:45.654Z"
   },
   {
    "duration": 23,
    "start_time": "2022-03-16T10:34:45.917Z"
   },
   {
    "duration": 458,
    "start_time": "2022-03-16T10:34:45.942Z"
   },
   {
    "duration": 696,
    "start_time": "2022-03-16T10:34:46.402Z"
   },
   {
    "duration": 453,
    "start_time": "2022-03-16T10:34:47.099Z"
   },
   {
    "duration": 22,
    "start_time": "2022-03-16T10:34:47.555Z"
   },
   {
    "duration": 54,
    "start_time": "2022-03-16T10:34:47.580Z"
   },
   {
    "duration": 173,
    "start_time": "2022-03-16T10:34:47.636Z"
   },
   {
    "duration": 7,
    "start_time": "2022-03-16T10:34:47.811Z"
   },
   {
    "duration": 134,
    "start_time": "2022-03-16T10:34:47.820Z"
   },
   {
    "duration": 4,
    "start_time": "2022-03-16T10:34:47.955Z"
   },
   {
    "duration": 8,
    "start_time": "2022-03-16T10:34:47.961Z"
   },
   {
    "duration": 12,
    "start_time": "2022-03-16T10:34:47.971Z"
   },
   {
    "duration": 92,
    "start_time": "2022-03-16T10:35:24.493Z"
   },
   {
    "duration": 3404,
    "start_time": "2022-03-16T10:41:31.130Z"
   },
   {
    "duration": 17,
    "start_time": "2022-03-16T10:44:13.387Z"
   },
   {
    "duration": 70,
    "start_time": "2022-03-16T10:44:26.199Z"
   },
   {
    "duration": 591,
    "start_time": "2022-03-16T10:44:50.828Z"
   },
   {
    "duration": 520,
    "start_time": "2022-03-16T10:45:00.163Z"
   },
   {
    "duration": 192,
    "start_time": "2022-03-16T10:45:12.134Z"
   },
   {
    "duration": 209,
    "start_time": "2022-03-16T10:45:15.958Z"
   },
   {
    "duration": 19,
    "start_time": "2022-03-16T10:45:28.549Z"
   },
   {
    "duration": 190,
    "start_time": "2022-03-16T10:45:37.797Z"
   },
   {
    "duration": 193,
    "start_time": "2022-03-16T10:45:59.870Z"
   },
   {
    "duration": 399,
    "start_time": "2022-03-16T10:46:56.411Z"
   },
   {
    "duration": 214,
    "start_time": "2022-03-16T10:47:03.355Z"
   },
   {
    "duration": 29,
    "start_time": "2022-03-16T10:47:11.010Z"
   },
   {
    "duration": 70,
    "start_time": "2022-03-16T10:47:38.078Z"
   },
   {
    "duration": 16,
    "start_time": "2022-03-16T10:48:28.363Z"
   },
   {
    "duration": 85,
    "start_time": "2022-03-16T10:50:47.146Z"
   },
   {
    "duration": 96,
    "start_time": "2022-03-16T10:52:32.468Z"
   },
   {
    "duration": 6,
    "start_time": "2022-03-16T10:53:13.531Z"
   },
   {
    "duration": 4,
    "start_time": "2022-03-16T10:53:41.146Z"
   },
   {
    "duration": 69,
    "start_time": "2022-03-16T10:53:50.523Z"
   },
   {
    "duration": 398,
    "start_time": "2022-03-16T10:53:54.511Z"
   },
   {
    "duration": 499,
    "start_time": "2022-03-16T10:53:58.743Z"
   },
   {
    "duration": 589,
    "start_time": "2022-03-16T10:54:30.147Z"
   },
   {
    "duration": 4736,
    "start_time": "2022-03-16T10:54:56.754Z"
   },
   {
    "duration": 963,
    "start_time": "2022-03-16T10:57:42.594Z"
   },
   {
    "duration": 508,
    "start_time": "2022-03-16T10:58:37.161Z"
   }
  ],
  "kernelspec": {
   "display_name": "Python 3 (ipykernel)",
   "language": "python",
   "name": "python3"
  },
  "language_info": {
   "codemirror_mode": {
    "name": "ipython",
    "version": 3
   },
   "file_extension": ".py",
   "mimetype": "text/x-python",
   "name": "python",
   "nbconvert_exporter": "python",
   "pygments_lexer": "ipython3",
   "version": "3.9.7"
  },
  "toc": {
   "base_numbering": 1,
   "nav_menu": {},
   "number_sections": true,
   "sideBar": true,
   "skip_h1_title": false,
   "title_cell": "Table of Contents",
   "title_sidebar": "Contents",
   "toc_cell": true,
   "toc_position": {
    "height": "calc(100% - 180px)",
    "left": "10px",
    "top": "150px",
    "width": "157.91250610351562px"
   },
   "toc_section_display": true,
   "toc_window_display": false
  }
 },
 "nbformat": 4,
 "nbformat_minor": 5
}
