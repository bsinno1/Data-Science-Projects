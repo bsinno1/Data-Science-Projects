{
 "cells": [
  {
   "cell_type": "markdown",
   "id": "8185dfef",
   "metadata": {},
   "source": [
    "Hello, my name is Artem. I'm going to review your project!\n",
    "\n",
    "You can find my comments in <font color='green'>green</font>, <font color='blue'>blue</font> or <font color='red'>red</font> boxes like this:\n",
    "\n",
    "<div class=\"alert alert-block alert-success\">\n",
    "<b>Success:</b> if everything is done succesfully\n",
    "</div>\n",
    "\n",
    "<div class=\"alert alert-block alert-info\">\n",
    "<b>Improve: </b> \"Improve\" comments mean that there are tiny corrections that could help you to make your project better.\n",
    "</div>\n",
    "\n",
    "<div class=\"alert alert-block alert-danger\">\n",
    "<b>Needs fixing:</b> if the block requires some corrections. Work can't be accepted with the red comments.\n",
    "</div>\n",
    "\n",
    "### <font color='orange'>General feedback</font>\n",
    "* Thank you for submitting your project! I am really impressed with it. \n",
    "* Glad to see that the notebook is structured. Keep it up!\n",
    "* It was a pleasure to review your project.\n",
    "* Great that hypothesis testing was done in the right way. You've mastered it!\n",
    "* Nice going! Good luck with further learning!"
   ]
  },
  {
   "cell_type": "code",
   "execution_count": 1,
   "id": "df9ec03c",
   "metadata": {},
   "outputs": [],
   "source": [
    "import pandas as pd\n",
    "import datetime\n",
    "import scipy\n",
    "from scipy import stats as st\n",
    "from scipy.stats import ttest_1samp\n",
    "from scipy.stats import ttest_ind\n",
    "from scipy.stats import levene\n",
    "import numpy as np\n",
    "import seaborn as sns\n",
    "import statsmodels.api as sm\n",
    "from statsmodels.formula.api import ols\n",
    "import matplotlib.pyplot as plt\n",
    "#%pip install pingouin\n",
    "import pingouin as pg\n",
    "from sklearn.linear_model import LogisticRegression"
   ]
  },
  {
   "cell_type": "markdown",
   "id": "eaad455b",
   "metadata": {},
   "source": [
    "<div class=\"alert alert-block alert-success\">\n",
    "<b>Success:</b> Thank you for collecting all imports in the first cell!\n",
    "</div>"
   ]
  },
  {
   "cell_type": "markdown",
   "id": "bf451a66",
   "metadata": {},
   "source": [
    "# Goal:\n",
    "Detect ride-sharing behavior to help a new Chicago company, Zuber, devise a market entry strategy."
   ]
  },
  {
   "cell_type": "markdown",
   "id": "8e93b554",
   "metadata": {},
   "source": [
    "# Import the files"
   ]
  },
  {
   "cell_type": "code",
   "execution_count": 2,
   "id": "f32164a7",
   "metadata": {},
   "outputs": [],
   "source": [
    "try:\n",
    "    trips = pd.read_csv('project_sql_result_01.csv')\n",
    "    neighborhoods = pd.read_csv('project_sql_result_04.csv')\n",
    "    ohara = pd.read_csv('project_sql_result_07.csv')\n",
    "except:\n",
    "    trips = pd.read_csv('/datasets/project_sql_result_01.csv')    \n",
    "    neighborhoods = pd.read_csv('/datasets/project_sql_result_04.csv')\n",
    "    ohara = pd.read_csv('/datasets/project_sql_result_07.csv')"
   ]
  },
  {
   "cell_type": "markdown",
   "id": "630928a2",
   "metadata": {},
   "source": [
    "# Study the data "
   ]
  },
  {
   "cell_type": "markdown",
   "id": "9d2ac709",
   "metadata": {},
   "source": [
    "## Trips"
   ]
  },
  {
   "cell_type": "code",
   "execution_count": 3,
   "id": "788958c8",
   "metadata": {},
   "outputs": [
    {
     "name": "stdout",
     "output_type": "stream",
     "text": [
      "<class 'pandas.core.frame.DataFrame'>\n",
      "RangeIndex: 64 entries, 0 to 63\n",
      "Data columns (total 2 columns):\n",
      " #   Column        Non-Null Count  Dtype \n",
      "---  ------        --------------  ----- \n",
      " 0   company_name  64 non-null     object\n",
      " 1   trips_amount  64 non-null     int64 \n",
      "dtypes: int64(1), object(1)\n",
      "memory usage: 1.1+ KB\n"
     ]
    }
   ],
   "source": [
    "trips.info()"
   ]
  },
  {
   "cell_type": "code",
   "execution_count": 4,
   "id": "9db6ad5e",
   "metadata": {
    "scrolled": true
   },
   "outputs": [
    {
     "data": {
      "text/html": [
       "<div>\n",
       "<style scoped>\n",
       "    .dataframe tbody tr th:only-of-type {\n",
       "        vertical-align: middle;\n",
       "    }\n",
       "\n",
       "    .dataframe tbody tr th {\n",
       "        vertical-align: top;\n",
       "    }\n",
       "\n",
       "    .dataframe thead th {\n",
       "        text-align: right;\n",
       "    }\n",
       "</style>\n",
       "<table border=\"1\" class=\"dataframe\">\n",
       "  <thead>\n",
       "    <tr style=\"text-align: right;\">\n",
       "      <th></th>\n",
       "      <th>trips_amount</th>\n",
       "    </tr>\n",
       "  </thead>\n",
       "  <tbody>\n",
       "    <tr>\n",
       "      <th>count</th>\n",
       "      <td>64.000000</td>\n",
       "    </tr>\n",
       "    <tr>\n",
       "      <th>mean</th>\n",
       "      <td>2145.484375</td>\n",
       "    </tr>\n",
       "    <tr>\n",
       "      <th>std</th>\n",
       "      <td>3812.310186</td>\n",
       "    </tr>\n",
       "    <tr>\n",
       "      <th>min</th>\n",
       "      <td>2.000000</td>\n",
       "    </tr>\n",
       "    <tr>\n",
       "      <th>25%</th>\n",
       "      <td>20.750000</td>\n",
       "    </tr>\n",
       "    <tr>\n",
       "      <th>50%</th>\n",
       "      <td>178.500000</td>\n",
       "    </tr>\n",
       "    <tr>\n",
       "      <th>75%</th>\n",
       "      <td>2106.500000</td>\n",
       "    </tr>\n",
       "    <tr>\n",
       "      <th>max</th>\n",
       "      <td>19558.000000</td>\n",
       "    </tr>\n",
       "  </tbody>\n",
       "</table>\n",
       "</div>"
      ],
      "text/plain": [
       "       trips_amount\n",
       "count     64.000000\n",
       "mean    2145.484375\n",
       "std     3812.310186\n",
       "min        2.000000\n",
       "25%       20.750000\n",
       "50%      178.500000\n",
       "75%     2106.500000\n",
       "max    19558.000000"
      ]
     },
     "execution_count": 4,
     "metadata": {},
     "output_type": "execute_result"
    }
   ],
   "source": [
    "trips.describe()"
   ]
  },
  {
   "cell_type": "markdown",
   "id": "83c3f8a4",
   "metadata": {},
   "source": [
    "#### Conclusion:\n",
    "Correct data type"
   ]
  },
  {
   "cell_type": "markdown",
   "id": "f70cba06",
   "metadata": {},
   "source": [
    "### Visualize the data"
   ]
  },
  {
   "cell_type": "code",
   "execution_count": 5,
   "id": "8078f71d",
   "metadata": {},
   "outputs": [
    {
     "data": {
      "image/png": "[encoded data removed]",
      "text/plain": [
       "<Figure size 1080x360 with 1 Axes>"
      ]
     },
     "metadata": {
      "needs_background": "light"
     },
     "output_type": "display_data"
    }
   ],
   "source": [
    "plt.figure(figsize=(15,5))\n",
    "trips.groupby('company_name')['trips_amount'].sum().sort_values(ascending=False).plot(kind='bar')\n",
    "plt.title('Number of trips done on Nov 15-16 per taxi company')\n",
    "plt.ylabel('Number of trips');"
   ]
  },
  {
   "cell_type": "markdown",
   "id": "bf1b13af",
   "metadata": {},
   "source": [
    "### Detect the important players"
   ]
  },
  {
   "cell_type": "code",
   "execution_count": 6,
   "id": "b7eeebd9",
   "metadata": {},
   "outputs": [
    {
     "data": {
      "text/plain": [
       "company_name\n",
       "Flash Cab                               14.243578\n",
       "Taxi Affiliation Services                8.318343\n",
       "Medallion Leasin                         7.550014\n",
       "Yellow Cab                               7.201171\n",
       "Taxi Affiliation Service Yellow          6.772218\n",
       "Chicago Carriage Cab Corp                6.686282\n",
       "City Service                             6.152457\n",
       "Sun Taxi                                 5.608436\n",
       "Star North Management LLC                5.429281\n",
       "Blue Ribbon Taxi Association Inc.        4.335414\n",
       "Choice Taxi Association                  3.652293\n",
       "Globe Taxi                               3.192024\n",
       "Dispatch Taxi Affiliation                2.443359\n",
       "Nova Taxi Affiliation Llc                2.312269\n",
       "Patriot Taxi Dba Peace Taxi Associat     1.627692\n",
       "Checker Taxi Affiliation                 1.613855\n",
       "Blue Diamond                             1.507527\n",
       "Chicago Medallion Management             1.423775\n",
       "24 Seven Taxi                            1.292686\n",
       "Chicago Medallion Leasing INC            1.170336\n",
       "Name: trips_amount, dtype: float64"
      ]
     },
     "execution_count": 6,
     "metadata": {},
     "output_type": "execute_result"
    }
   ],
   "source": [
    "x = (trips.groupby('company_name')['trips_amount'].sum().sort_values(ascending = False))/trips.trips_amount.sum()*100\n",
    "x.head(20)"
   ]
  },
  {
   "cell_type": "code",
   "execution_count": 7,
   "id": "2a498501",
   "metadata": {},
   "outputs": [
    {
     "data": {
      "text/html": [
       "<div>\n",
       "<style scoped>\n",
       "    .dataframe tbody tr th:only-of-type {\n",
       "        vertical-align: middle;\n",
       "    }\n",
       "\n",
       "    .dataframe tbody tr th {\n",
       "        vertical-align: top;\n",
       "    }\n",
       "\n",
       "    .dataframe thead th {\n",
       "        text-align: right;\n",
       "    }\n",
       "</style>\n",
       "<table border=\"1\" class=\"dataframe\">\n",
       "  <thead>\n",
       "    <tr style=\"text-align: right;\">\n",
       "      <th></th>\n",
       "      <th>company_name</th>\n",
       "      <th>trips_amount</th>\n",
       "    </tr>\n",
       "  </thead>\n",
       "  <tbody>\n",
       "    <tr>\n",
       "      <th>0</th>\n",
       "      <td>Flash Cab</td>\n",
       "      <td>19558</td>\n",
       "    </tr>\n",
       "    <tr>\n",
       "      <th>1</th>\n",
       "      <td>Taxi Affiliation Services</td>\n",
       "      <td>11422</td>\n",
       "    </tr>\n",
       "    <tr>\n",
       "      <th>2</th>\n",
       "      <td>Medallion Leasin</td>\n",
       "      <td>10367</td>\n",
       "    </tr>\n",
       "    <tr>\n",
       "      <th>3</th>\n",
       "      <td>Yellow Cab</td>\n",
       "      <td>9888</td>\n",
       "    </tr>\n",
       "    <tr>\n",
       "      <th>4</th>\n",
       "      <td>Taxi Affiliation Service Yellow</td>\n",
       "      <td>9299</td>\n",
       "    </tr>\n",
       "    <tr>\n",
       "      <th>5</th>\n",
       "      <td>Chicago Carriage Cab Corp</td>\n",
       "      <td>9181</td>\n",
       "    </tr>\n",
       "    <tr>\n",
       "      <th>6</th>\n",
       "      <td>City Service</td>\n",
       "      <td>8448</td>\n",
       "    </tr>\n",
       "    <tr>\n",
       "      <th>7</th>\n",
       "      <td>Sun Taxi</td>\n",
       "      <td>7701</td>\n",
       "    </tr>\n",
       "    <tr>\n",
       "      <th>8</th>\n",
       "      <td>Star North Management LLC</td>\n",
       "      <td>7455</td>\n",
       "    </tr>\n",
       "    <tr>\n",
       "      <th>9</th>\n",
       "      <td>Blue Ribbon Taxi Association Inc.</td>\n",
       "      <td>5953</td>\n",
       "    </tr>\n",
       "  </tbody>\n",
       "</table>\n",
       "</div>"
      ],
      "text/plain": [
       "                        company_name  trips_amount\n",
       "0                          Flash Cab         19558\n",
       "1          Taxi Affiliation Services         11422\n",
       "2                   Medallion Leasin         10367\n",
       "3                         Yellow Cab          9888\n",
       "4    Taxi Affiliation Service Yellow          9299\n",
       "5          Chicago Carriage Cab Corp          9181\n",
       "6                       City Service          8448\n",
       "7                           Sun Taxi          7701\n",
       "8          Star North Management LLC          7455\n",
       "9  Blue Ribbon Taxi Association Inc.          5953"
      ]
     },
     "execution_count": 7,
     "metadata": {},
     "output_type": "execute_result"
    }
   ],
   "source": [
    "top_10_companies = trips.nlargest(10, 'trips_amount')\n",
    "top_10_companies"
   ]
  },
  {
   "cell_type": "code",
   "execution_count": 8,
   "id": "d3e7feac",
   "metadata": {},
   "outputs": [
    {
     "data": {
      "text/plain": [
       "0.7229719396115387"
      ]
     },
     "execution_count": 8,
     "metadata": {},
     "output_type": "execute_result"
    }
   ],
   "source": [
    "sum(top_10_companies.trips_amount)/sum(trips.trips_amount)"
   ]
  },
  {
   "cell_type": "markdown",
   "id": "ed112da7",
   "metadata": {},
   "source": [
    "<div class=\"alert alert-block alert-success\">\n",
    "<b>Success:</b> Great that nlargest method was used here!\n",
    "</div>"
   ]
  },
  {
   "cell_type": "markdown",
   "id": "a0ff143c",
   "metadata": {},
   "source": [
    "### Conclusion:\n",
    "The top 10 companies account for over 70\\% of trips conducted on Novemebr 15-16 in the dataset.  Flash Cab account for around 15\\% of the trips in the total dataset."
   ]
  },
  {
   "cell_type": "markdown",
   "id": "e8de4b33",
   "metadata": {},
   "source": [
    "### Top 10"
   ]
  },
  {
   "cell_type": "code",
   "execution_count": 9,
   "id": "1bfe8468",
   "metadata": {},
   "outputs": [
    {
     "data": {
      "text/html": [
       "<div>\n",
       "<style scoped>\n",
       "    .dataframe tbody tr th:only-of-type {\n",
       "        vertical-align: middle;\n",
       "    }\n",
       "\n",
       "    .dataframe tbody tr th {\n",
       "        vertical-align: top;\n",
       "    }\n",
       "\n",
       "    .dataframe thead th {\n",
       "        text-align: right;\n",
       "    }\n",
       "</style>\n",
       "<table border=\"1\" class=\"dataframe\">\n",
       "  <thead>\n",
       "    <tr style=\"text-align: right;\">\n",
       "      <th></th>\n",
       "      <th>company_name</th>\n",
       "      <th>trips_amount</th>\n",
       "      <th>%</th>\n",
       "    </tr>\n",
       "  </thead>\n",
       "  <tbody>\n",
       "    <tr>\n",
       "      <th>0</th>\n",
       "      <td>Flash Cab</td>\n",
       "      <td>19558</td>\n",
       "      <td>0.197014</td>\n",
       "    </tr>\n",
       "    <tr>\n",
       "      <th>1</th>\n",
       "      <td>Taxi Affiliation Services</td>\n",
       "      <td>11422</td>\n",
       "      <td>0.115058</td>\n",
       "    </tr>\n",
       "    <tr>\n",
       "      <th>2</th>\n",
       "      <td>Medallion Leasin</td>\n",
       "      <td>10367</td>\n",
       "      <td>0.104430</td>\n",
       "    </tr>\n",
       "    <tr>\n",
       "      <th>3</th>\n",
       "      <td>Yellow Cab</td>\n",
       "      <td>9888</td>\n",
       "      <td>0.099605</td>\n",
       "    </tr>\n",
       "    <tr>\n",
       "      <th>4</th>\n",
       "      <td>Taxi Affiliation Service Yellow</td>\n",
       "      <td>9299</td>\n",
       "      <td>0.093672</td>\n",
       "    </tr>\n",
       "    <tr>\n",
       "      <th>5</th>\n",
       "      <td>Chicago Carriage Cab Corp</td>\n",
       "      <td>9181</td>\n",
       "      <td>0.092483</td>\n",
       "    </tr>\n",
       "    <tr>\n",
       "      <th>6</th>\n",
       "      <td>City Service</td>\n",
       "      <td>8448</td>\n",
       "      <td>0.085100</td>\n",
       "    </tr>\n",
       "    <tr>\n",
       "      <th>7</th>\n",
       "      <td>Sun Taxi</td>\n",
       "      <td>7701</td>\n",
       "      <td>0.077575</td>\n",
       "    </tr>\n",
       "    <tr>\n",
       "      <th>8</th>\n",
       "      <td>Star North Management LLC</td>\n",
       "      <td>7455</td>\n",
       "      <td>0.075097</td>\n",
       "    </tr>\n",
       "    <tr>\n",
       "      <th>9</th>\n",
       "      <td>Blue Ribbon Taxi Association Inc.</td>\n",
       "      <td>5953</td>\n",
       "      <td>0.059967</td>\n",
       "    </tr>\n",
       "  </tbody>\n",
       "</table>\n",
       "</div>"
      ],
      "text/plain": [
       "                        company_name  trips_amount         %\n",
       "0                          Flash Cab         19558  0.197014\n",
       "1          Taxi Affiliation Services         11422  0.115058\n",
       "2                   Medallion Leasin         10367  0.104430\n",
       "3                         Yellow Cab          9888  0.099605\n",
       "4    Taxi Affiliation Service Yellow          9299  0.093672\n",
       "5          Chicago Carriage Cab Corp          9181  0.092483\n",
       "6                       City Service          8448  0.085100\n",
       "7                           Sun Taxi          7701  0.077575\n",
       "8          Star North Management LLC          7455  0.075097\n",
       "9  Blue Ribbon Taxi Association Inc.          5953  0.059967"
      ]
     },
     "execution_count": 9,
     "metadata": {},
     "output_type": "execute_result"
    }
   ],
   "source": [
    "top_10_companies['%'] = top_10_companies['trips_amount']/(top_10_companies['trips_amount']).sum()\n",
    "top_10_companies = top_10_companies.sort_values(by='trips_amount', ascending=False).reset_index(drop=True)\n",
    "top_10_companies"
   ]
  },
  {
   "cell_type": "markdown",
   "id": "f6821ad6",
   "metadata": {},
   "source": [
    "### Conclusion:\n",
    "In this new dataframe, the distribution of number of trips is different with Flash Cab now accounting for 20\\% of trips conducted on Noveber 15-16."
   ]
  },
  {
   "cell_type": "markdown",
   "id": "ea466b5c",
   "metadata": {},
   "source": [
    "### Visualize top 10"
   ]
  },
  {
   "cell_type": "code",
   "execution_count": 10,
   "id": "559fcd51",
   "metadata": {},
   "outputs": [
    {
     "data": {
      "image/png": "[encoded data removed]",
      "text/plain": [
       "<Figure size 432x288 with 1 Axes>"
      ]
     },
     "metadata": {},
     "output_type": "display_data"
    }
   ],
   "source": [
    "ax=top_10_companies.groupby(['company_name']).sum().plot(kind='pie', y='trips_amount')\n",
    "#ax.get_legend_handles_labels()\n",
    "#ax.legend(company_name, labels, loc='best')\n",
    "ax.legend(top_10_companies['company_name'],  bbox_to_anchor=(1, 0),loc='best')\n",
    "plt.ylabel(\"\")\n",
    "plt.title(\"Number of Trips by top 10 TAXI companies\");"
   ]
  },
  {
   "cell_type": "markdown",
   "id": "daf3aa16",
   "metadata": {},
   "source": [
    "### Conclusion:\n",
    "The number of rides performed by each taxi company on November 15-16, 2017. More than 50\\% of rides during these two days were performed by 5 taxi companies.  Data in correct type."
   ]
  },
  {
   "cell_type": "markdown",
   "id": "844301e8",
   "metadata": {},
   "source": [
    "<div class=\"alert alert-block alert-success\">\n",
    "<b>Success:</b> Great visualization!\n",
    "</div>"
   ]
  },
  {
   "cell_type": "markdown",
   "id": "fad0fc15",
   "metadata": {},
   "source": [
    "## Neighborhoods"
   ]
  },
  {
   "cell_type": "code",
   "execution_count": 11,
   "id": "b1221f3a",
   "metadata": {
    "scrolled": true
   },
   "outputs": [
    {
     "name": "stdout",
     "output_type": "stream",
     "text": [
      "<class 'pandas.core.frame.DataFrame'>\n",
      "RangeIndex: 94 entries, 0 to 93\n",
      "Data columns (total 2 columns):\n",
      " #   Column                 Non-Null Count  Dtype  \n",
      "---  ------                 --------------  -----  \n",
      " 0   dropoff_location_name  94 non-null     object \n",
      " 1   average_trips          94 non-null     float64\n",
      "dtypes: float64(1), object(1)\n",
      "memory usage: 1.6+ KB\n"
     ]
    }
   ],
   "source": [
    "neighborhoods.info()"
   ]
  },
  {
   "cell_type": "code",
   "execution_count": 12,
   "id": "498a300d",
   "metadata": {},
   "outputs": [
    {
     "data": {
      "text/html": [
       "<div>\n",
       "<style scoped>\n",
       "    .dataframe tbody tr th:only-of-type {\n",
       "        vertical-align: middle;\n",
       "    }\n",
       "\n",
       "    .dataframe tbody tr th {\n",
       "        vertical-align: top;\n",
       "    }\n",
       "\n",
       "    .dataframe thead th {\n",
       "        text-align: right;\n",
       "    }\n",
       "</style>\n",
       "<table border=\"1\" class=\"dataframe\">\n",
       "  <thead>\n",
       "    <tr style=\"text-align: right;\">\n",
       "      <th></th>\n",
       "      <th>average_trips</th>\n",
       "    </tr>\n",
       "  </thead>\n",
       "  <tbody>\n",
       "    <tr>\n",
       "      <th>count</th>\n",
       "      <td>94.000000</td>\n",
       "    </tr>\n",
       "    <tr>\n",
       "      <th>mean</th>\n",
       "      <td>599.953728</td>\n",
       "    </tr>\n",
       "    <tr>\n",
       "      <th>std</th>\n",
       "      <td>1714.591098</td>\n",
       "    </tr>\n",
       "    <tr>\n",
       "      <th>min</th>\n",
       "      <td>1.800000</td>\n",
       "    </tr>\n",
       "    <tr>\n",
       "      <th>25%</th>\n",
       "      <td>14.266667</td>\n",
       "    </tr>\n",
       "    <tr>\n",
       "      <th>50%</th>\n",
       "      <td>52.016667</td>\n",
       "    </tr>\n",
       "    <tr>\n",
       "      <th>75%</th>\n",
       "      <td>298.858333</td>\n",
       "    </tr>\n",
       "    <tr>\n",
       "      <th>max</th>\n",
       "      <td>10727.466667</td>\n",
       "    </tr>\n",
       "  </tbody>\n",
       "</table>\n",
       "</div>"
      ],
      "text/plain": [
       "       average_trips\n",
       "count      94.000000\n",
       "mean      599.953728\n",
       "std      1714.591098\n",
       "min         1.800000\n",
       "25%        14.266667\n",
       "50%        52.016667\n",
       "75%       298.858333\n",
       "max     10727.466667"
      ]
     },
     "execution_count": 12,
     "metadata": {},
     "output_type": "execute_result"
    }
   ],
   "source": [
    "neighborhoods.describe()"
   ]
  },
  {
   "cell_type": "markdown",
   "id": "1ed0f4cd",
   "metadata": {},
   "source": [
    "### Conclusion:\n",
    "Data type is correct"
   ]
  },
  {
   "cell_type": "markdown",
   "id": "6b87b413",
   "metadata": {},
   "source": [
    "### Visualize the data"
   ]
  },
  {
   "cell_type": "code",
   "execution_count": 13,
   "id": "e9091073",
   "metadata": {},
   "outputs": [
    {
     "data": {
      "image/png": "[encoded data removed]",
      "text/plain": [
       "<Figure size 1080x360 with 1 Axes>"
      ]
     },
     "metadata": {
      "needs_background": "light"
     },
     "output_type": "display_data"
    }
   ],
   "source": [
    "plt.figure(figsize=(15,5))\n",
    "neighborhoods.groupby('dropoff_location_name')['average_trips'].sum().sort_values(ascending=False).plot(kind='bar')\n",
    "plt.title('Amount of trips per taxi company')\n",
    "plt.ylabel('amount of trips');"
   ]
  },
  {
   "cell_type": "markdown",
   "id": "52ad21ba",
   "metadata": {},
   "source": [
    "## Detect important players"
   ]
  },
  {
   "cell_type": "code",
   "execution_count": 14,
   "id": "d42c6168",
   "metadata": {},
   "outputs": [
    {
     "data": {
      "text/plain": [
       "dropoff_location_name\n",
       "Loop                  19.021798\n",
       "River North           16.887236\n",
       "Streeterville         11.817696\n",
       "West Loop              9.156143\n",
       "O'Hare                 4.516128\n",
       "Lake View              4.292825\n",
       "Grant Park             3.667895\n",
       "Museum Campus          2.677511\n",
       "Gold Coast             2.419040\n",
       "Sheffield & DePaul     2.233801\n",
       "Lincoln Park           2.210336\n",
       "East Village           2.149220\n",
       "Little Italy, UIC      1.531501\n",
       "Uptown                 1.506617\n",
       "Near South Side        1.489181\n",
       "Garfield Ridge         1.321733\n",
       "Logan Square           1.099967\n",
       "Edgewater              1.034300\n",
       "West Town              0.915673\n",
       "Old Town               0.832629\n",
       "Name: average_trips, dtype: float64"
      ]
     },
     "execution_count": 14,
     "metadata": {},
     "output_type": "execute_result"
    }
   ],
   "source": [
    "y = (neighborhoods.groupby('dropoff_location_name')['average_trips'].sum().sort_values(ascending = False))/neighborhoods.average_trips.sum()*100\n",
    "y.head(20)"
   ]
  },
  {
   "cell_type": "markdown",
   "id": "2273de52",
   "metadata": {},
   "source": [
    "### Conclusion:\n",
    "Over 75\\% of all trips made in the dataset were dropped off in the top 10 neighborhoods."
   ]
  },
  {
   "cell_type": "markdown",
   "id": "eb75376a",
   "metadata": {},
   "source": [
    "<div class=\"alert alert-block alert-success\">\n",
    "<b>Success:</b> Data loading was done well!\n",
    "</div>"
   ]
  },
  {
   "cell_type": "markdown",
   "id": "dcab03d3",
   "metadata": {},
   "source": [
    "### Top 10"
   ]
  },
  {
   "cell_type": "code",
   "execution_count": 15,
   "id": "114499f9",
   "metadata": {},
   "outputs": [
    {
     "data": {
      "text/html": [
       "<div>\n",
       "<style scoped>\n",
       "    .dataframe tbody tr th:only-of-type {\n",
       "        vertical-align: middle;\n",
       "    }\n",
       "\n",
       "    .dataframe tbody tr th {\n",
       "        vertical-align: top;\n",
       "    }\n",
       "\n",
       "    .dataframe thead th {\n",
       "        text-align: right;\n",
       "    }\n",
       "</style>\n",
       "<table border=\"1\" class=\"dataframe\">\n",
       "  <thead>\n",
       "    <tr style=\"text-align: right;\">\n",
       "      <th></th>\n",
       "      <th>dropoff_location_name</th>\n",
       "      <th>average_trips</th>\n",
       "    </tr>\n",
       "  </thead>\n",
       "  <tbody>\n",
       "    <tr>\n",
       "      <th>0</th>\n",
       "      <td>Loop</td>\n",
       "      <td>10727.466667</td>\n",
       "    </tr>\n",
       "    <tr>\n",
       "      <th>1</th>\n",
       "      <td>River North</td>\n",
       "      <td>9523.666667</td>\n",
       "    </tr>\n",
       "    <tr>\n",
       "      <th>2</th>\n",
       "      <td>Streeterville</td>\n",
       "      <td>6664.666667</td>\n",
       "    </tr>\n",
       "    <tr>\n",
       "      <th>3</th>\n",
       "      <td>West Loop</td>\n",
       "      <td>5163.666667</td>\n",
       "    </tr>\n",
       "    <tr>\n",
       "      <th>4</th>\n",
       "      <td>O'Hare</td>\n",
       "      <td>2546.900000</td>\n",
       "    </tr>\n",
       "    <tr>\n",
       "      <th>5</th>\n",
       "      <td>Lake View</td>\n",
       "      <td>2420.966667</td>\n",
       "    </tr>\n",
       "    <tr>\n",
       "      <th>6</th>\n",
       "      <td>Grant Park</td>\n",
       "      <td>2068.533333</td>\n",
       "    </tr>\n",
       "    <tr>\n",
       "      <th>7</th>\n",
       "      <td>Museum Campus</td>\n",
       "      <td>1510.000000</td>\n",
       "    </tr>\n",
       "    <tr>\n",
       "      <th>8</th>\n",
       "      <td>Gold Coast</td>\n",
       "      <td>1364.233333</td>\n",
       "    </tr>\n",
       "    <tr>\n",
       "      <th>9</th>\n",
       "      <td>Sheffield &amp; DePaul</td>\n",
       "      <td>1259.766667</td>\n",
       "    </tr>\n",
       "  </tbody>\n",
       "</table>\n",
       "</div>"
      ],
      "text/plain": [
       "  dropoff_location_name  average_trips\n",
       "0                  Loop   10727.466667\n",
       "1           River North    9523.666667\n",
       "2         Streeterville    6664.666667\n",
       "3             West Loop    5163.666667\n",
       "4                O'Hare    2546.900000\n",
       "5             Lake View    2420.966667\n",
       "6            Grant Park    2068.533333\n",
       "7         Museum Campus    1510.000000\n",
       "8            Gold Coast    1364.233333\n",
       "9    Sheffield & DePaul    1259.766667"
      ]
     },
     "execution_count": 15,
     "metadata": {},
     "output_type": "execute_result"
    }
   ],
   "source": [
    "top_10_neighborhoods = neighborhoods.nlargest(10, 'average_trips')\n",
    "top_10_neighborhoods"
   ]
  },
  {
   "cell_type": "code",
   "execution_count": 16,
   "id": "bf4abfed",
   "metadata": {},
   "outputs": [
    {
     "data": {
      "text/plain": [
       "0.7669007507076714"
      ]
     },
     "execution_count": 16,
     "metadata": {},
     "output_type": "execute_result"
    }
   ],
   "source": [
    "sum(top_10_neighborhoods.average_trips)/sum(neighborhoods.average_trips)"
   ]
  },
  {
   "cell_type": "code",
   "execution_count": 17,
   "id": "c4ebd651",
   "metadata": {},
   "outputs": [
    {
     "data": {
      "text/html": [
       "<div>\n",
       "<style scoped>\n",
       "    .dataframe tbody tr th:only-of-type {\n",
       "        vertical-align: middle;\n",
       "    }\n",
       "\n",
       "    .dataframe tbody tr th {\n",
       "        vertical-align: top;\n",
       "    }\n",
       "\n",
       "    .dataframe thead th {\n",
       "        text-align: right;\n",
       "    }\n",
       "</style>\n",
       "<table border=\"1\" class=\"dataframe\">\n",
       "  <thead>\n",
       "    <tr style=\"text-align: right;\">\n",
       "      <th></th>\n",
       "      <th>dropoff_location_name</th>\n",
       "      <th>average_trips</th>\n",
       "      <th>%</th>\n",
       "    </tr>\n",
       "  </thead>\n",
       "  <tbody>\n",
       "    <tr>\n",
       "      <th>0</th>\n",
       "      <td>Loop</td>\n",
       "      <td>10727.466667</td>\n",
       "      <td>0.248035</td>\n",
       "    </tr>\n",
       "    <tr>\n",
       "      <th>1</th>\n",
       "      <td>River North</td>\n",
       "      <td>9523.666667</td>\n",
       "      <td>0.220201</td>\n",
       "    </tr>\n",
       "    <tr>\n",
       "      <th>2</th>\n",
       "      <td>Streeterville</td>\n",
       "      <td>6664.666667</td>\n",
       "      <td>0.154097</td>\n",
       "    </tr>\n",
       "    <tr>\n",
       "      <th>3</th>\n",
       "      <td>West Loop</td>\n",
       "      <td>5163.666667</td>\n",
       "      <td>0.119392</td>\n",
       "    </tr>\n",
       "    <tr>\n",
       "      <th>4</th>\n",
       "      <td>O'Hare</td>\n",
       "      <td>2546.900000</td>\n",
       "      <td>0.058888</td>\n",
       "    </tr>\n",
       "    <tr>\n",
       "      <th>5</th>\n",
       "      <td>Lake View</td>\n",
       "      <td>2420.966667</td>\n",
       "      <td>0.055976</td>\n",
       "    </tr>\n",
       "    <tr>\n",
       "      <th>6</th>\n",
       "      <td>Grant Park</td>\n",
       "      <td>2068.533333</td>\n",
       "      <td>0.047828</td>\n",
       "    </tr>\n",
       "    <tr>\n",
       "      <th>7</th>\n",
       "      <td>Museum Campus</td>\n",
       "      <td>1510.000000</td>\n",
       "      <td>0.034913</td>\n",
       "    </tr>\n",
       "    <tr>\n",
       "      <th>8</th>\n",
       "      <td>Gold Coast</td>\n",
       "      <td>1364.233333</td>\n",
       "      <td>0.031543</td>\n",
       "    </tr>\n",
       "    <tr>\n",
       "      <th>9</th>\n",
       "      <td>Sheffield &amp; DePaul</td>\n",
       "      <td>1259.766667</td>\n",
       "      <td>0.029128</td>\n",
       "    </tr>\n",
       "  </tbody>\n",
       "</table>\n",
       "</div>"
      ],
      "text/plain": [
       "  dropoff_location_name  average_trips         %\n",
       "0                  Loop   10727.466667  0.248035\n",
       "1           River North    9523.666667  0.220201\n",
       "2         Streeterville    6664.666667  0.154097\n",
       "3             West Loop    5163.666667  0.119392\n",
       "4                O'Hare    2546.900000  0.058888\n",
       "5             Lake View    2420.966667  0.055976\n",
       "6            Grant Park    2068.533333  0.047828\n",
       "7         Museum Campus    1510.000000  0.034913\n",
       "8            Gold Coast    1364.233333  0.031543\n",
       "9    Sheffield & DePaul    1259.766667  0.029128"
      ]
     },
     "execution_count": 17,
     "metadata": {},
     "output_type": "execute_result"
    }
   ],
   "source": [
    "top_10_neighborhoods['%'] = top_10_neighborhoods['average_trips']/(top_10_neighborhoods['average_trips']).sum()\n",
    "top_10_neighborhoods = top_10_neighborhoods.sort_values(by='average_trips', ascending=False).reset_index(drop=True)\n",
    "top_10_neighborhoods"
   ]
  },
  {
   "cell_type": "code",
   "execution_count": 18,
   "id": "fe66fe00",
   "metadata": {},
   "outputs": [
    {
     "data": {
      "text/plain": [
       "dropoff_location_name\n",
       "Loop               19.021798\n",
       "River North        16.887236\n",
       "Streeterville      11.817696\n",
       "West Loop           9.156143\n",
       "O'Hare              4.516128\n",
       "                     ...    \n",
       "Mount Greenwood     0.005564\n",
       "Hegewisch           0.005528\n",
       "Burnside            0.004137\n",
       "East Side           0.003478\n",
       "Riverdale           0.003192\n",
       "Name: average_trips, Length: 94, dtype: float64"
      ]
     },
     "execution_count": 18,
     "metadata": {},
     "output_type": "execute_result"
    }
   ],
   "source": [
    "(neighborhoods.groupby('dropoff_location_name')['average_trips'].sum().sort_values(ascending = False))\\\n",
    "    /neighborhoods.average_trips.sum()*100"
   ]
  },
  {
   "cell_type": "markdown",
   "id": "d93541ba",
   "metadata": {},
   "source": [
    "### Visualize top 10"
   ]
  },
  {
   "cell_type": "code",
   "execution_count": 19,
   "id": "6435ceed",
   "metadata": {},
   "outputs": [
    {
     "data": {
      "image/png": "[encoded data removed]",
      "text/plain": [
       "<Figure size 432x288 with 1 Axes>"
      ]
     },
     "metadata": {},
     "output_type": "display_data"
    }
   ],
   "source": [
    "ax=top_10_companies.groupby(['company_name']).sum().plot(kind='pie', y='trips_amount')\n",
    "#ax.get_legend_handles_labels()\n",
    "#ax.legend(company_name, labels, loc='best')\n",
    "ax.legend(top_10_companies['company_name'],  bbox_to_anchor=(1, 0),loc='best')\n",
    "plt.ylabel(\"\")\n",
    "plt.title(\"Number of dropoffs in top 10 neighborhoods by TAXI company\");"
   ]
  },
  {
   "cell_type": "markdown",
   "id": "0a0a2a59",
   "metadata": {},
   "source": [
    "### Conclusion:\n",
    "Around 65\\% of trips in this neighborhoods were dropped off in 5 cities. This frame is for the month of November. Data in correct type."
   ]
  },
  {
   "cell_type": "markdown",
   "id": "1f00ded3",
   "metadata": {},
   "source": [
    "<div class=\"alert alert-block alert-success\">\n",
    "<b>Success:</b> This part was done in the right way!\n",
    "</div>"
   ]
  },
  {
   "cell_type": "markdown",
   "id": "ed63d028",
   "metadata": {},
   "source": [
    "## Ohara"
   ]
  },
  {
   "cell_type": "code",
   "execution_count": 20,
   "id": "fd645a61",
   "metadata": {},
   "outputs": [
    {
     "data": {
      "text/html": [
       "<div>\n",
       "<style scoped>\n",
       "    .dataframe tbody tr th:only-of-type {\n",
       "        vertical-align: middle;\n",
       "    }\n",
       "\n",
       "    .dataframe tbody tr th {\n",
       "        vertical-align: top;\n",
       "    }\n",
       "\n",
       "    .dataframe thead th {\n",
       "        text-align: right;\n",
       "    }\n",
       "</style>\n",
       "<table border=\"1\" class=\"dataframe\">\n",
       "  <thead>\n",
       "    <tr style=\"text-align: right;\">\n",
       "      <th></th>\n",
       "      <th>start_ts</th>\n",
       "      <th>weather_conditions</th>\n",
       "      <th>duration_seconds</th>\n",
       "    </tr>\n",
       "  </thead>\n",
       "  <tbody>\n",
       "    <tr>\n",
       "      <th>0</th>\n",
       "      <td>2017-11-25 16:00:00</td>\n",
       "      <td>Good</td>\n",
       "      <td>2410.0</td>\n",
       "    </tr>\n",
       "    <tr>\n",
       "      <th>1</th>\n",
       "      <td>2017-11-25 14:00:00</td>\n",
       "      <td>Good</td>\n",
       "      <td>1920.0</td>\n",
       "    </tr>\n",
       "    <tr>\n",
       "      <th>2</th>\n",
       "      <td>2017-11-25 12:00:00</td>\n",
       "      <td>Good</td>\n",
       "      <td>1543.0</td>\n",
       "    </tr>\n",
       "    <tr>\n",
       "      <th>3</th>\n",
       "      <td>2017-11-04 10:00:00</td>\n",
       "      <td>Good</td>\n",
       "      <td>2512.0</td>\n",
       "    </tr>\n",
       "    <tr>\n",
       "      <th>4</th>\n",
       "      <td>2017-11-11 07:00:00</td>\n",
       "      <td>Good</td>\n",
       "      <td>1440.0</td>\n",
       "    </tr>\n",
       "  </tbody>\n",
       "</table>\n",
       "</div>"
      ],
      "text/plain": [
       "              start_ts weather_conditions  duration_seconds\n",
       "0  2017-11-25 16:00:00               Good            2410.0\n",
       "1  2017-11-25 14:00:00               Good            1920.0\n",
       "2  2017-11-25 12:00:00               Good            1543.0\n",
       "3  2017-11-04 10:00:00               Good            2512.0\n",
       "4  2017-11-11 07:00:00               Good            1440.0"
      ]
     },
     "execution_count": 20,
     "metadata": {},
     "output_type": "execute_result"
    }
   ],
   "source": [
    "ohara.head()"
   ]
  },
  {
   "cell_type": "code",
   "execution_count": 21,
   "id": "915751b1",
   "metadata": {},
   "outputs": [
    {
     "name": "stdout",
     "output_type": "stream",
     "text": [
      "<class 'pandas.core.frame.DataFrame'>\n",
      "RangeIndex: 1068 entries, 0 to 1067\n",
      "Data columns (total 3 columns):\n",
      " #   Column              Non-Null Count  Dtype  \n",
      "---  ------              --------------  -----  \n",
      " 0   start_ts            1068 non-null   object \n",
      " 1   weather_conditions  1068 non-null   object \n",
      " 2   duration_seconds    1068 non-null   float64\n",
      "dtypes: float64(1), object(2)\n",
      "memory usage: 25.2+ KB\n"
     ]
    }
   ],
   "source": [
    "ohara.info()"
   ]
  },
  {
   "cell_type": "code",
   "execution_count": 22,
   "id": "af13a41e",
   "metadata": {},
   "outputs": [
    {
     "data": {
      "text/html": [
       "<div>\n",
       "<style scoped>\n",
       "    .dataframe tbody tr th:only-of-type {\n",
       "        vertical-align: middle;\n",
       "    }\n",
       "\n",
       "    .dataframe tbody tr th {\n",
       "        vertical-align: top;\n",
       "    }\n",
       "\n",
       "    .dataframe thead th {\n",
       "        text-align: right;\n",
       "    }\n",
       "</style>\n",
       "<table border=\"1\" class=\"dataframe\">\n",
       "  <thead>\n",
       "    <tr style=\"text-align: right;\">\n",
       "      <th></th>\n",
       "      <th>duration_seconds</th>\n",
       "    </tr>\n",
       "  </thead>\n",
       "  <tbody>\n",
       "    <tr>\n",
       "      <th>count</th>\n",
       "      <td>1068.000000</td>\n",
       "    </tr>\n",
       "    <tr>\n",
       "      <th>mean</th>\n",
       "      <td>2071.731273</td>\n",
       "    </tr>\n",
       "    <tr>\n",
       "      <th>std</th>\n",
       "      <td>769.461125</td>\n",
       "    </tr>\n",
       "    <tr>\n",
       "      <th>min</th>\n",
       "      <td>0.000000</td>\n",
       "    </tr>\n",
       "    <tr>\n",
       "      <th>25%</th>\n",
       "      <td>1438.250000</td>\n",
       "    </tr>\n",
       "    <tr>\n",
       "      <th>50%</th>\n",
       "      <td>1980.000000</td>\n",
       "    </tr>\n",
       "    <tr>\n",
       "      <th>75%</th>\n",
       "      <td>2580.000000</td>\n",
       "    </tr>\n",
       "    <tr>\n",
       "      <th>max</th>\n",
       "      <td>7440.000000</td>\n",
       "    </tr>\n",
       "  </tbody>\n",
       "</table>\n",
       "</div>"
      ],
      "text/plain": [
       "       duration_seconds\n",
       "count       1068.000000\n",
       "mean        2071.731273\n",
       "std          769.461125\n",
       "min            0.000000\n",
       "25%         1438.250000\n",
       "50%         1980.000000\n",
       "75%         2580.000000\n",
       "max         7440.000000"
      ]
     },
     "execution_count": 22,
     "metadata": {},
     "output_type": "execute_result"
    }
   ],
   "source": [
    "ohara.describe()"
   ]
  },
  {
   "cell_type": "code",
   "execution_count": 23,
   "id": "dc3f32bb",
   "metadata": {},
   "outputs": [],
   "source": [
    "ohara['start_ts'] = [datetime.datetime.strptime(d, \"%Y-%m-%d %H:%M:%S\") for d in ohara[\"start_ts\"]]"
   ]
  },
  {
   "cell_type": "code",
   "execution_count": 24,
   "id": "a2fb2465",
   "metadata": {},
   "outputs": [],
   "source": [
    "ohara['date'] = [datetime.datetime.date(d) for d in ohara['start_ts']] \n",
    "ohara['date'] = pd.to_datetime(ohara['date'])"
   ]
  },
  {
   "cell_type": "code",
   "execution_count": 25,
   "id": "9b21c3bd",
   "metadata": {},
   "outputs": [],
   "source": [
    "ohara['time'] = [datetime.datetime.time(d) for d in ohara['start_ts']] "
   ]
  },
  {
   "cell_type": "code",
   "execution_count": 26,
   "id": "f417ee5d",
   "metadata": {},
   "outputs": [],
   "source": [
    "ohara['day'] = ohara['start_ts'].dt.day_name()"
   ]
  },
  {
   "cell_type": "markdown",
   "id": "d5eaba73",
   "metadata": {},
   "source": [
    "### Conclusion:\n",
    "Data type is good now."
   ]
  },
  {
   "cell_type": "code",
   "execution_count": 27,
   "id": "10392643",
   "metadata": {},
   "outputs": [],
   "source": [
    "### Visualize the data"
   ]
  },
  {
   "cell_type": "code",
   "execution_count": 28,
   "id": "2b2b8b9d",
   "metadata": {},
   "outputs": [
    {
     "data": {
      "image/png": "[encoded data removed]",
      "text/plain": [
       "<Figure size 1080x360 with 1 Axes>"
      ]
     },
     "metadata": {
      "needs_background": "light"
     },
     "output_type": "display_data"
    }
   ],
   "source": [
    "plt.figure(figsize=(15,5))\n",
    "ohara.groupby('date')['duration_seconds'].sum().sort_values(ascending=False).plot(kind='bar')\n",
    "plt.title('Duration of trip per date')\n",
    "plt.ylabel('Total duration');"
   ]
  },
  {
   "cell_type": "code",
   "execution_count": 29,
   "id": "65361c59",
   "metadata": {},
   "outputs": [
    {
     "data": {
      "text/plain": [
       "date\n",
       "2017-11-04    39.483524\n",
       "2017-11-11    34.302174\n",
       "2017-11-18    18.166879\n",
       "2017-11-25     8.047423\n",
       "Name: duration_seconds, dtype: float64"
      ]
     },
     "execution_count": 29,
     "metadata": {},
     "output_type": "execute_result"
    }
   ],
   "source": [
    "(ohara.groupby('date')['duration_seconds'].sum().sort_values(ascending = False))\\\n",
    "    /ohara.duration_seconds.sum()*100"
   ]
  },
  {
   "cell_type": "markdown",
   "id": "9e2818b5",
   "metadata": {},
   "source": [
    "#### Conclusion:\n",
    "The time in the Ohara dataframe is different from that in trips.  Here the dates are Nov 4, 11, 18 and 25.  In trips it was Nov. 15 and 16.  So there is no overlap between the two. There is more traffic in taxi rides in the beginning of the months on Saturdays."
   ]
  },
  {
   "cell_type": "code",
   "execution_count": 30,
   "id": "6a02d927",
   "metadata": {},
   "outputs": [
    {
     "data": {
      "image/png": "[encoded data removed]",
      "text/plain": [
       "<Figure size 1080x360 with 1 Axes>"
      ]
     },
     "metadata": {
      "needs_background": "light"
     },
     "output_type": "display_data"
    }
   ],
   "source": [
    "plt.figure(figsize=(15,5))\n",
    "new_order = ['1:00:00', '2:00:00', '3:00:00', '4:00:00', '5:00:00', \n",
    "             '6:00:00', '7:00:00', '8:00:00', '9:00:00', '10:00:00',\n",
    "             '11:00:00', '12:00:00', '13:00:00', '14:00:00', '15:00:00',\n",
    "             '16:00:00', '17:00:00', '18:00:00', '19:00:00', '20:00:00',\n",
    "             '21:00:00', '22:00:00', '33:00:00', '24:00:00']\n",
    "\n",
    "ohara.groupby('time')['duration_seconds'].sum().plot(kind='bar')\n",
    "plt.title('Number of trips per taxi company')\n",
    "plt.ylabel('Number of trips');"
   ]
  },
  {
   "cell_type": "markdown",
   "id": "e45778c7",
   "metadata": {},
   "source": [
    "#### Conclusion:\n",
    "Most of the trips are done around noon."
   ]
  },
  {
   "cell_type": "code",
   "execution_count": 31,
   "id": "b97be992",
   "metadata": {},
   "outputs": [
    {
     "data": {
      "image/png": "[encoded data removed]",
      "text/plain": [
       "<Figure size 1080x360 with 1 Axes>"
      ]
     },
     "metadata": {
      "needs_background": "light"
     },
     "output_type": "display_data"
    }
   ],
   "source": [
    "plt.figure(figsize=(15,5))\n",
    "ohara.groupby('day')['duration_seconds'].sum().sort_values(ascending=False).plot(kind='bar')\n",
    "plt.title('Amount of trips per taxi company')\n",
    "plt.ylabel('amount of trips');"
   ]
  },
  {
   "cell_type": "markdown",
   "id": "271d42a4",
   "metadata": {},
   "source": [
    "#### Conclusion:\n",
    "All the trips are done on saturdays."
   ]
  },
  {
   "cell_type": "code",
   "execution_count": 32,
   "id": "90e376e3",
   "metadata": {},
   "outputs": [
    {
     "data": {
      "text/plain": [
       "time      start_ts           \n",
       "14:00:00  2017-11-04 14:00:00    6.746199\n",
       "12:00:00  2017-11-04 12:00:00    5.595431\n",
       "16:00:00  2017-11-04 16:00:00    5.239335\n",
       "          2017-11-11 16:00:00    3.597292\n",
       "14:00:00  2017-11-11 14:00:00    3.573383\n",
       "                                   ...   \n",
       "22:00:00  2017-11-04 22:00:00    0.062370\n",
       "03:00:00  2017-11-25 03:00:00    0.062099\n",
       "          2017-11-18 03:00:00    0.056901\n",
       "00:00:00  2017-11-18 00:00:00    0.021694\n",
       "01:00:00  2017-11-04 01:00:00    0.000000\n",
       "Name: duration_seconds, Length: 81, dtype: float64"
      ]
     },
     "execution_count": 32,
     "metadata": {},
     "output_type": "execute_result"
    }
   ],
   "source": [
    "(ohara.groupby(['time', 'start_ts'])['duration_seconds'].sum().sort_values(ascending = False))\\\n",
    "    /ohara.duration_seconds.sum()*100"
   ]
  },
  {
   "cell_type": "markdown",
   "id": "9262f222",
   "metadata": {},
   "source": [
    "#### Conclusion:\n",
    "Trips done in the early afternoon in the beginning of the month on Saturdays are the longest."
   ]
  },
  {
   "cell_type": "markdown",
   "id": "726533b6",
   "metadata": {},
   "source": [
    "### Top 500 trip duration"
   ]
  },
  {
   "cell_type": "code",
   "execution_count": 33,
   "id": "070d3bc4",
   "metadata": {},
   "outputs": [],
   "source": [
    "top_500_ohara = ohara.nlargest(500, 'duration_seconds')"
   ]
  },
  {
   "cell_type": "code",
   "execution_count": 34,
   "id": "435856b0",
   "metadata": {},
   "outputs": [
    {
     "data": {
      "text/plain": [
       "62.04028818467249"
      ]
     },
     "execution_count": 34,
     "metadata": {},
     "output_type": "execute_result"
    }
   ],
   "source": [
    "sum(top_500_ohara.duration_seconds)/sum(ohara.duration_seconds)*100"
   ]
  },
  {
   "cell_type": "markdown",
   "id": "c17f4ef6",
   "metadata": {},
   "source": [
    "### Conclusion:\n",
    "The top 500 longest trip durations account for over 60\\% of all durations in the Ohara dataframe on Saturdays of the month of November."
   ]
  },
  {
   "cell_type": "code",
   "execution_count": 35,
   "id": "f66ee323",
   "metadata": {},
   "outputs": [
    {
     "data": {
      "text/html": [
       "<div>\n",
       "<style scoped>\n",
       "    .dataframe tbody tr th:only-of-type {\n",
       "        vertical-align: middle;\n",
       "    }\n",
       "\n",
       "    .dataframe tbody tr th {\n",
       "        vertical-align: top;\n",
       "    }\n",
       "\n",
       "    .dataframe thead th {\n",
       "        text-align: right;\n",
       "    }\n",
       "</style>\n",
       "<table border=\"1\" class=\"dataframe\">\n",
       "  <thead>\n",
       "    <tr style=\"text-align: right;\">\n",
       "      <th></th>\n",
       "      <th>start_ts</th>\n",
       "      <th>weather_conditions</th>\n",
       "      <th>duration_seconds</th>\n",
       "      <th>date</th>\n",
       "      <th>time</th>\n",
       "      <th>day</th>\n",
       "      <th>%</th>\n",
       "    </tr>\n",
       "  </thead>\n",
       "  <tbody>\n",
       "    <tr>\n",
       "      <th>0</th>\n",
       "      <td>2017-11-25 11:00:00</td>\n",
       "      <td>Good</td>\n",
       "      <td>7440.0</td>\n",
       "      <td>2017-11-25</td>\n",
       "      <td>11:00:00</td>\n",
       "      <td>Saturday</td>\n",
       "      <td>0.005420</td>\n",
       "    </tr>\n",
       "    <tr>\n",
       "      <th>1</th>\n",
       "      <td>2017-11-25 14:00:00</td>\n",
       "      <td>Good</td>\n",
       "      <td>6420.0</td>\n",
       "      <td>2017-11-25</td>\n",
       "      <td>14:00:00</td>\n",
       "      <td>Saturday</td>\n",
       "      <td>0.004677</td>\n",
       "    </tr>\n",
       "    <tr>\n",
       "      <th>2</th>\n",
       "      <td>2017-11-18 12:00:00</td>\n",
       "      <td>Bad</td>\n",
       "      <td>4980.0</td>\n",
       "      <td>2017-11-18</td>\n",
       "      <td>12:00:00</td>\n",
       "      <td>Saturday</td>\n",
       "      <td>0.003628</td>\n",
       "    </tr>\n",
       "    <tr>\n",
       "      <th>3</th>\n",
       "      <td>2017-11-11 16:00:00</td>\n",
       "      <td>Good</td>\n",
       "      <td>4980.0</td>\n",
       "      <td>2017-11-11</td>\n",
       "      <td>16:00:00</td>\n",
       "      <td>Saturday</td>\n",
       "      <td>0.003628</td>\n",
       "    </tr>\n",
       "    <tr>\n",
       "      <th>4</th>\n",
       "      <td>2017-11-11 15:00:00</td>\n",
       "      <td>Good</td>\n",
       "      <td>4800.0</td>\n",
       "      <td>2017-11-11</td>\n",
       "      <td>15:00:00</td>\n",
       "      <td>Saturday</td>\n",
       "      <td>0.003497</td>\n",
       "    </tr>\n",
       "    <tr>\n",
       "      <th>...</th>\n",
       "      <td>...</td>\n",
       "      <td>...</td>\n",
       "      <td>...</td>\n",
       "      <td>...</td>\n",
       "      <td>...</td>\n",
       "      <td>...</td>\n",
       "      <td>...</td>\n",
       "    </tr>\n",
       "    <tr>\n",
       "      <th>495</th>\n",
       "      <td>2017-11-25 16:00:00</td>\n",
       "      <td>Good</td>\n",
       "      <td>2091.0</td>\n",
       "      <td>2017-11-25</td>\n",
       "      <td>16:00:00</td>\n",
       "      <td>Saturday</td>\n",
       "      <td>0.001523</td>\n",
       "    </tr>\n",
       "    <tr>\n",
       "      <th>496</th>\n",
       "      <td>2017-11-11 17:00:00</td>\n",
       "      <td>Good</td>\n",
       "      <td>2089.0</td>\n",
       "      <td>2017-11-11</td>\n",
       "      <td>17:00:00</td>\n",
       "      <td>Saturday</td>\n",
       "      <td>0.001522</td>\n",
       "    </tr>\n",
       "    <tr>\n",
       "      <th>497</th>\n",
       "      <td>2017-11-18 10:00:00</td>\n",
       "      <td>Bad</td>\n",
       "      <td>2083.0</td>\n",
       "      <td>2017-11-18</td>\n",
       "      <td>10:00:00</td>\n",
       "      <td>Saturday</td>\n",
       "      <td>0.001517</td>\n",
       "    </tr>\n",
       "    <tr>\n",
       "      <th>498</th>\n",
       "      <td>2017-11-18 05:00:00</td>\n",
       "      <td>Good</td>\n",
       "      <td>2075.0</td>\n",
       "      <td>2017-11-18</td>\n",
       "      <td>05:00:00</td>\n",
       "      <td>Saturday</td>\n",
       "      <td>0.001512</td>\n",
       "    </tr>\n",
       "    <tr>\n",
       "      <th>499</th>\n",
       "      <td>2017-11-11 11:00:00</td>\n",
       "      <td>Good</td>\n",
       "      <td>2074.0</td>\n",
       "      <td>2017-11-11</td>\n",
       "      <td>11:00:00</td>\n",
       "      <td>Saturday</td>\n",
       "      <td>0.001511</td>\n",
       "    </tr>\n",
       "  </tbody>\n",
       "</table>\n",
       "<p>500 rows × 7 columns</p>\n",
       "</div>"
      ],
      "text/plain": [
       "               start_ts weather_conditions  duration_seconds       date  \\\n",
       "0   2017-11-25 11:00:00               Good            7440.0 2017-11-25   \n",
       "1   2017-11-25 14:00:00               Good            6420.0 2017-11-25   \n",
       "2   2017-11-18 12:00:00                Bad            4980.0 2017-11-18   \n",
       "3   2017-11-11 16:00:00               Good            4980.0 2017-11-11   \n",
       "4   2017-11-11 15:00:00               Good            4800.0 2017-11-11   \n",
       "..                  ...                ...               ...        ...   \n",
       "495 2017-11-25 16:00:00               Good            2091.0 2017-11-25   \n",
       "496 2017-11-11 17:00:00               Good            2089.0 2017-11-11   \n",
       "497 2017-11-18 10:00:00                Bad            2083.0 2017-11-18   \n",
       "498 2017-11-18 05:00:00               Good            2075.0 2017-11-18   \n",
       "499 2017-11-11 11:00:00               Good            2074.0 2017-11-11   \n",
       "\n",
       "         time       day         %  \n",
       "0    11:00:00  Saturday  0.005420  \n",
       "1    14:00:00  Saturday  0.004677  \n",
       "2    12:00:00  Saturday  0.003628  \n",
       "3    16:00:00  Saturday  0.003628  \n",
       "4    15:00:00  Saturday  0.003497  \n",
       "..        ...       ...       ...  \n",
       "495  16:00:00  Saturday  0.001523  \n",
       "496  17:00:00  Saturday  0.001522  \n",
       "497  10:00:00  Saturday  0.001517  \n",
       "498  05:00:00  Saturday  0.001512  \n",
       "499  11:00:00  Saturday  0.001511  \n",
       "\n",
       "[500 rows x 7 columns]"
      ]
     },
     "execution_count": 35,
     "metadata": {},
     "output_type": "execute_result"
    }
   ],
   "source": [
    "top_500_ohara['%'] = top_500_ohara['duration_seconds']/(top_500_ohara['duration_seconds']).sum()\n",
    "top_500_ohara = top_500_ohara.sort_values(by='duration_seconds', ascending=False).reset_index(drop=True)\n",
    "top_500_ohara"
   ]
  },
  {
   "cell_type": "markdown",
   "id": "912ca878",
   "metadata": {},
   "source": [
    "### Visualize the top 500 and weather condition"
   ]
  },
  {
   "cell_type": "code",
   "execution_count": 37,
   "id": "514180e9",
   "metadata": {},
   "outputs": [
    {
     "data": {
      "image/png": "[encoded data removed]",
      "text/plain": [
       "<Figure size 1080x360 with 1 Axes>"
      ]
     },
     "metadata": {
      "needs_background": "light"
     },
     "output_type": "display_data"
    }
   ],
   "source": [
    "plt.figure(figsize=(15,5))\n",
    "top_500_ohara.groupby('weather_conditions')['duration_seconds'].sum().sort_values(ascending=False).plot(kind='bar')\n",
    "plt.title('Amount of trips per taxi company')\n",
    "plt.ylabel('amount of trips');"
   ]
  },
  {
   "cell_type": "code",
   "execution_count": 38,
   "id": "316fd1ba",
   "metadata": {},
   "outputs": [
    {
     "data": {
      "text/plain": [
       "Good    0.74\n",
       "Bad     0.26\n",
       "Name: weather_conditions, dtype: float64"
      ]
     },
     "execution_count": 38,
     "metadata": {},
     "output_type": "execute_result"
    }
   ],
   "source": [
    "top_500_ohara.weather_conditions.value_counts()/len(top_500_ohara)"
   ]
  },
  {
   "cell_type": "code",
   "execution_count": 39,
   "id": "03471bdd",
   "metadata": {},
   "outputs": [
    {
     "data": {
      "text/plain": [
       "Good    0.831461\n",
       "Bad     0.168539\n",
       "Name: weather_conditions, dtype: float64"
      ]
     },
     "execution_count": 39,
     "metadata": {},
     "output_type": "execute_result"
    }
   ],
   "source": [
    "ohara.weather_conditions.value_counts()/len(ohara)"
   ]
  },
  {
   "cell_type": "code",
   "execution_count": 40,
   "id": "33c98448",
   "metadata": {},
   "outputs": [
    {
     "data": {
      "text/plain": [
       "2017-11-04    0.486\n",
       "2017-11-11    0.264\n",
       "2017-11-18    0.192\n",
       "2017-11-25    0.058\n",
       "Name: date, dtype: float64"
      ]
     },
     "execution_count": 40,
     "metadata": {},
     "output_type": "execute_result"
    }
   ],
   "source": [
    "top_500_ohara.date.value_counts()/len(top_500_ohara)"
   ]
  },
  {
   "cell_type": "code",
   "execution_count": 41,
   "id": "2952c6fc",
   "metadata": {},
   "outputs": [
    {
     "data": {
      "text/plain": [
       "14:00:00    0.188\n",
       "16:00:00    0.170\n",
       "12:00:00    0.164\n",
       "15:00:00    0.098\n",
       "17:00:00    0.092\n",
       "13:00:00    0.082\n",
       "11:00:00    0.072\n",
       "18:00:00    0.068\n",
       "10:00:00    0.040\n",
       "06:00:00    0.008\n",
       "19:00:00    0.006\n",
       "20:00:00    0.006\n",
       "02:00:00    0.002\n",
       "07:00:00    0.002\n",
       "05:00:00    0.002\n",
       "Name: time, dtype: float64"
      ]
     },
     "execution_count": 41,
     "metadata": {},
     "output_type": "execute_result"
    }
   ],
   "source": [
    "top_500_ohara.time.value_counts()/len(top_500_ohara)"
   ]
  },
  {
   "cell_type": "markdown",
   "id": "8c34686f",
   "metadata": {},
   "source": [
    "### Conclusion:\n",
    "The top 500 longest trips are conducted in good weather conditions 75\\% of the times.  The longest Saturday trips also occur in the beginning of the month and then precipitously drop over the month of November. Most long trips occur early afternoon."
   ]
  },
  {
   "cell_type": "markdown",
   "id": "2f737cbf",
   "metadata": {},
   "source": [
    "<div class=\"alert alert-block alert-success\">\n",
    "<b>Success:</b> Great that you've made initial analysis, checked data and visualized some distributions!\n",
    "</div>"
   ]
  },
  {
   "cell_type": "markdown",
   "id": "8bf3fb49",
   "metadata": {},
   "source": [
    "# Test the hypothesis:\n",
    "\"The average duration of rides from the Loop to O'Hare International Airport changes on rainy Saturdays.\""
   ]
  },
  {
   "cell_type": "markdown",
   "id": "2110af63",
   "metadata": {},
   "source": [
    "## Setup:"
   ]
  },
  {
   "cell_type": "markdown",
   "id": "5cc1993d",
   "metadata": {},
   "source": [
    "We are trying to understand the relationship between 2 variables in the Ohara dataset: duration and weather.  I will tackle this in two ways.  First, I compare the means of the good day weather conditions bad weather conditions to see if they are equal.  We know they are not equal because 75\\% of the longest 500 trip coincided on a good day while over 80\\% of all trips coincided on a good weather.  The second way, I try to answer the same question is using an explanatory logistic regression analysis - this is different from the pretictive modeling using logistic regression.\n",
    "\n",
    "H0: The means of both populations are equal, that is good vs bad days means duration are equal. \n",
    "\n",
    "H1: The means of both populations are not equal, that is good vs bad days means duration are not equal. "
   ]
  },
  {
   "cell_type": "markdown",
   "id": "3917f2c9",
   "metadata": {},
   "source": [
    "## Encoding\n",
    "We know weather_conditions_en cannot be normally distribution since it is a binary variable.  Still, I conduct a normality test. "
   ]
  },
  {
   "cell_type": "code",
   "execution_count": 42,
   "id": "f7b8abe9",
   "metadata": {},
   "outputs": [],
   "source": [
    "def cond(val):\n",
    "    if val == \"Bad\":\n",
    "        return 0\n",
    "    return 1\n",
    "ohara['weather_conditions_en'] = ohara['weather_conditions'].apply(cond)"
   ]
  },
  {
   "cell_type": "code",
   "execution_count": 43,
   "id": "1b0b7664",
   "metadata": {},
   "outputs": [
    {
     "data": {
      "text/html": [
       "<div>\n",
       "<style scoped>\n",
       "    .dataframe tbody tr th:only-of-type {\n",
       "        vertical-align: middle;\n",
       "    }\n",
       "\n",
       "    .dataframe tbody tr th {\n",
       "        vertical-align: top;\n",
       "    }\n",
       "\n",
       "    .dataframe thead th {\n",
       "        text-align: right;\n",
       "    }\n",
       "</style>\n",
       "<table border=\"1\" class=\"dataframe\">\n",
       "  <thead>\n",
       "    <tr style=\"text-align: right;\">\n",
       "      <th></th>\n",
       "      <th>W</th>\n",
       "      <th>pval</th>\n",
       "      <th>normal</th>\n",
       "    </tr>\n",
       "  </thead>\n",
       "  <tbody>\n",
       "    <tr>\n",
       "      <th>weather_conditions_en</th>\n",
       "      <td>305.60987</td>\n",
       "      <td>4.341700e-67</td>\n",
       "      <td>False</td>\n",
       "    </tr>\n",
       "  </tbody>\n",
       "</table>\n",
       "</div>"
      ],
      "text/plain": [
       "                               W          pval  normal\n",
       "weather_conditions_en  305.60987  4.341700e-67   False"
      ]
     },
     "execution_count": 43,
     "metadata": {},
     "output_type": "execute_result"
    }
   ],
   "source": [
    "pg.normality(ohara.weather_conditions_en, method='normaltest')"
   ]
  },
  {
   "cell_type": "code",
   "execution_count": 44,
   "id": "0c0ae859",
   "metadata": {},
   "outputs": [
    {
     "name": "stdout",
     "output_type": "stream",
     "text": [
      "Fail to Reject H0: We don't have enough evidence to say that variances of sample 1 and sample 2 are not the same\n"
     ]
    }
   ],
   "source": [
    "p_value_levene=st.levene(ohara['weather_conditions'] == \"Good\", ohara['weather_conditions'] == \"Bad\").pvalue.astype(int)\n",
    "if p_value_levene<0.05:\n",
    "    print('Reject H0: variance of sample 1 is not equal to variance of sample 2')\n",
    "else:\n",
    "    print( \"Fail to Reject H0: We don't have enough evidence to say that variances of sample 1 and sample 2 are not the same\") "
   ]
  },
  {
   "cell_type": "markdown",
   "id": "a8ff88ae",
   "metadata": {},
   "source": [
    "### Conclusion:\n",
    "This means that it is fair to consider that both samples have equal variance.  Thus, I can set the equal variance parameter of the  ttest to True.  I choose an alpha of 5% because it is the acceptable level of error for such analysis."
   ]
  },
  {
   "cell_type": "markdown",
   "id": "670b918f",
   "metadata": {},
   "source": [
    "<div class=\"alert alert-block alert-success\">\n",
    "<b>Success:</b> It was a good idea to make test on variances equality at first.\n",
    "</div>"
   ]
  },
  {
   "cell_type": "code",
   "execution_count": 45,
   "id": "972fc08b",
   "metadata": {},
   "outputs": [
    {
     "name": "stdout",
     "output_type": "stream",
     "text": [
      "p-value:  1.4959805706438041e-270\n",
      "We reject the null hypothesis\n"
     ]
    }
   ],
   "source": [
    "results = st.ttest_ind(ohara['weather_conditions'] == \"Good\", ohara['weather_conditions'] == \"Bad\",\n",
    "                        equal_var=True)\n",
    "print('p-value: ', results.pvalue)\n",
    "\n",
    "if (results.pvalue < 0.05):\n",
    "        print(\"We reject the null hypothesis\")\n",
    "else:\n",
    "        print(\"We retain the null hypothesis\")"
   ]
  },
  {
   "cell_type": "markdown",
   "id": "cda895f8",
   "metadata": {},
   "source": [
    "Alternatively,"
   ]
  },
  {
   "cell_type": "code",
   "execution_count": 46,
   "id": "39cd5a58",
   "metadata": {},
   "outputs": [
    {
     "name": "stdout",
     "output_type": "stream",
     "text": [
      "p-values1.4959805706438041e-270\n",
      "We are rejecting the null hypothesis\n"
     ]
    }
   ],
   "source": [
    "t, pval = ttest_ind(ohara['weather_conditions'] == \"Good\", ohara['weather_conditions'] == \"Bad\")\n",
    "\n",
    "print(\"p-values\" + str(pval))\n",
    "if pval < 0.05:    # alpha value is 0.05 or 5%\n",
    "    print(\"We are rejecting the null hypothesis\")\n",
    "else:\n",
    "    print(\"We are not rejecting the null hypothesis\")"
   ]
  },
  {
   "cell_type": "markdown",
   "id": "3b9ad7f5",
   "metadata": {},
   "source": [
    "### Conclusion:\n",
    "The sample of rides done on a good weather day is different from that of rides done on a bad weather day."
   ]
  },
  {
   "cell_type": "markdown",
   "id": "9e420c70",
   "metadata": {},
   "source": [
    "<div class=\"alert alert-block alert-success\">\n",
    "<b>Success:</b> Both null and alternative hypotheses were formulated correctly. Testing was done in the right way too.\n",
    "</div>"
   ]
  },
  {
   "cell_type": "markdown",
   "id": "693590db",
   "metadata": {},
   "source": [
    "## Further exploratory logistic analysis"
   ]
  },
  {
   "cell_type": "code",
   "execution_count": 47,
   "id": "eff0cc82",
   "metadata": {},
   "outputs": [
    {
     "name": "stderr",
     "output_type": "stream",
     "text": [
      "/var/folders/gk/hvqbhchj1fqfp9s9tq_k1rfr0000gp/T/ipykernel_89264/1033325736.py:2: DeprecationWarning: `np.bool` is a deprecated alias for the builtin `bool`. To silence this warning, use `bool` by itself. Doing this will not modify any behavior and is safe. If you specifically wanted the numpy scalar type, use `np.bool_` here.\n",
      "Deprecated in NumPy 1.20; for more details and guidance: https://numpy.org/devdocs/release/1.20.0-notes.html#deprecations\n",
      "  mask = np.zeros_like(corr, dtype=np.bool)\n"
     ]
    },
    {
     "data": {
      "image/png": "[encoded data removed]",
      "text/plain": [
       "<Figure size 432x288 with 2 Axes>"
      ]
     },
     "metadata": {
      "needs_background": "light"
     },
     "output_type": "display_data"
    }
   ],
   "source": [
    "corr = ohara.corr()\n",
    "mask = np.zeros_like(corr, dtype=np.bool)\n",
    "mask[np.triu_indices_from(mask)]= True\n",
    "\n",
    "ax = sns.heatmap(\n",
    "    corr, \n",
    "    vmin=-1, vmax=1, center=0,\n",
    "    cmap=sns.diverging_palette(10, 220,  as_cmap=True),\n",
    "    square=True,\n",
    "    mask=mask,\n",
    "    annot=True,\n",
    "    annot_kws={\"size\": 7}\n",
    ")\n",
    "ax.set_xticklabels(\n",
    "    ax.get_xticklabels(),\n",
    "    rotation=45,\n",
    "    horizontalalignment='right'\n",
    ");"
   ]
  },
  {
   "cell_type": "markdown",
   "id": "f2272267",
   "metadata": {},
   "source": [
    "### Conclusion:\n",
    "There is a weak negative relationship between the two variables."
   ]
  },
  {
   "cell_type": "code",
   "execution_count": 48,
   "id": "3e3f9425",
   "metadata": {},
   "outputs": [
    {
     "data": {
      "text/html": [
       "<table class=\"simpletable\">\n",
       "<caption>Generalized Linear Model Regression Results</caption>\n",
       "<tr>\n",
       "  <th>Dep. Variable:</th>   <td>weather_conditions_en</td> <th>  No. Observations:  </th>  <td>  1068</td> \n",
       "</tr>\n",
       "<tr>\n",
       "  <th>Model:</th>                    <td>GLM</td>          <th>  Df Residuals:      </th>  <td>  1066</td> \n",
       "</tr>\n",
       "<tr>\n",
       "  <th>Model Family:</th>          <td>Binomial</td>        <th>  Df Model:          </th>  <td>     1</td> \n",
       "</tr>\n",
       "<tr>\n",
       "  <th>Link Function:</th>           <td>Logit</td>         <th>  Scale:             </th> <td>  1.0000</td>\n",
       "</tr>\n",
       "<tr>\n",
       "  <th>Method:</th>                  <td>IRLS</td>          <th>  Log-Likelihood:    </th> <td> -462.64</td>\n",
       "</tr>\n",
       "<tr>\n",
       "  <th>Date:</th>              <td>Fri, 08 Apr 2022</td>    <th>  Deviance:          </th> <td>  925.29</td>\n",
       "</tr>\n",
       "<tr>\n",
       "  <th>Time:</th>                  <td>22:11:56</td>        <th>  Pearson chi2:      </th> <td>1.05e+03</td>\n",
       "</tr>\n",
       "<tr>\n",
       "  <th>No. Iterations:</th>            <td>5</td>           <th>  Pseudo R-squ. (CS):</th>  <td>0.03993</td>\n",
       "</tr>\n",
       "<tr>\n",
       "  <th>Covariance Type:</th>       <td>nonrobust</td>       <th>                     </th>     <td> </td>   \n",
       "</tr>\n",
       "</table>\n",
       "<table class=\"simpletable\">\n",
       "<tr>\n",
       "          <td></td>            <th>coef</th>     <th>std err</th>      <th>z</th>      <th>P>|z|</th>  <th>[0.025</th>    <th>0.975]</th>  \n",
       "</tr>\n",
       "<tr>\n",
       "  <th>Intercept</th>        <td>    3.0908</td> <td>    0.259</td> <td>   11.945</td> <td> 0.000</td> <td>    2.584</td> <td>    3.598</td>\n",
       "</tr>\n",
       "<tr>\n",
       "  <th>duration_seconds</th> <td>   -0.0007</td> <td>    0.000</td> <td>   -6.414</td> <td> 0.000</td> <td>   -0.001</td> <td>   -0.000</td>\n",
       "</tr>\n",
       "</table>"
      ],
      "text/plain": [
       "<class 'statsmodels.iolib.summary.Summary'>\n",
       "\"\"\"\n",
       "                   Generalized Linear Model Regression Results                   \n",
       "=================================================================================\n",
       "Dep. Variable:     weather_conditions_en   No. Observations:                 1068\n",
       "Model:                               GLM   Df Residuals:                     1066\n",
       "Model Family:                   Binomial   Df Model:                            1\n",
       "Link Function:                     Logit   Scale:                          1.0000\n",
       "Method:                             IRLS   Log-Likelihood:                -462.64\n",
       "Date:                   Fri, 08 Apr 2022   Deviance:                       925.29\n",
       "Time:                           22:11:56   Pearson chi2:                 1.05e+03\n",
       "No. Iterations:                        5   Pseudo R-squ. (CS):            0.03993\n",
       "Covariance Type:               nonrobust                                         \n",
       "====================================================================================\n",
       "                       coef    std err          z      P>|z|      [0.025      0.975]\n",
       "------------------------------------------------------------------------------------\n",
       "Intercept            3.0908      0.259     11.945      0.000       2.584       3.598\n",
       "duration_seconds    -0.0007      0.000     -6.414      0.000      -0.001      -0.000\n",
       "====================================================================================\n",
       "\"\"\""
      ]
     },
     "execution_count": 48,
     "metadata": {},
     "output_type": "execute_result"
    }
   ],
   "source": [
    "GLM_model = sm.GLM.from_formula(\"weather_conditions_en ~ duration_seconds\", family=sm.families.Binomial(), data=ohara)\n",
    "results = GLM_model.fit()\n",
    "results.summary()"
   ]
  },
  {
   "cell_type": "markdown",
   "id": "bf3a5e79",
   "metadata": {},
   "source": [
    "### Conclusion:\n",
    "The model is not great.  The R2 is only 4\\%.  This means the model explains only 4% of the variability.  The coefficient of duration_seconds is negative and statistically significant.  This means that the relationship, as stated in the correlation matrix above is negative. "
   ]
  },
  {
   "cell_type": "code",
   "execution_count": 49,
   "id": "fe5398e1",
   "metadata": {},
   "outputs": [
    {
     "data": {
      "image/png": "[encoded data removed]",
      "text/plain": [
       "<Figure size 432x288 with 1 Axes>"
      ]
     },
     "metadata": {
      "needs_background": "light"
     },
     "output_type": "display_data"
    }
   ],
   "source": [
    "sns.regplot(y = \"weather_conditions_en\",\n",
    "            x = \"duration_seconds\", \n",
    "            data=ohara, logistic=True, ci=95);"
   ]
  },
  {
   "cell_type": "markdown",
   "id": "59a485fe",
   "metadata": {},
   "source": [
    "### General Conclusion:\n",
    "The average duration of rides from Loop neighborhood to O'Hare International Airport changes on rainy Saturdays. Moreover, there seems to be a negative and statistically significant relationship between duration and weather since the p-value of the coefficient is less than 0.05.  That does not mean that duration predicts the type of weather we have around Ohara.  Instead it means when we have longer duration trips, they tend to be during specific weather conditions.  Remember that we encoded bad weather and 0 and good weather as 1.  This means as the weather deteriorates from 1 to 0, the duration increases.   This makes sense because as the weather conditions becomes less favorable, traffic and accidents increase. Also noteworthy is the confidence level.  As we move to bad weather, our prediction becomes less accurate."
   ]
  },
  {
   "cell_type": "markdown",
   "id": "5ff1562b",
   "metadata": {},
   "source": [
    "<div class=\"alert alert-block alert-success\">\n",
    "<b>Success:</b> Glad to see final conclusion!\n",
    "</div>\n",
    "\n",
    "\n",
    "<div class=\"alert alert-block alert-info\">\n",
    "<b>Improve: </b> It would be better if you've used bullet points and bold font here.\n",
    "</div>"
   ]
  }
 ],
 "metadata": {
  "kernelspec": {
   "display_name": "Python 3 (ipykernel)",
   "language": "python",
   "name": "python3"
  },
  "language_info": {
   "codemirror_mode": {
    "name": "ipython",
    "version": 3
   },
   "file_extension": ".py",
   "mimetype": "text/x-python",
   "name": "python",
   "nbconvert_exporter": "python",
   "pygments_lexer": "ipython3",
   "version": "3.9.7"
  },
  "toc": {
   "base_numbering": 1,
   "nav_menu": {},
   "number_sections": true,
   "sideBar": true,
   "skip_h1_title": false,
   "title_cell": "Table of Contents",
   "title_sidebar": "Contents",
   "toc_cell": false,
   "toc_position": {
    "height": "calc(100% - 180px)",
    "left": "10px",
    "top": "150px",
    "width": "137.1125030517578px"
   },
   "toc_section_display": true,
   "toc_window_display": false
  }
 },
 "nbformat": 4,
 "nbformat_minor": 5
}
