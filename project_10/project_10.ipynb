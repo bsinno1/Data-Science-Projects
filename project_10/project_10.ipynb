{
 "cells": [
  {
   "cell_type": "markdown",
   "id": "5a0a9d28",
   "metadata": {},
   "source": [
    "# Statement\n",
    "\n",
    "The Sure Tomorrow insurance company wants to solve several tasks with the help of Machine Learning and you are asked to evaluate that possibility.\n",
    "\n",
    "- Task 1: Find customers who are similar to a given customer. This will help the company's agents with marketing.\n",
    "- Task 2: Predict whether a new customer is likely to receive an insurance benefit. Can a prediction model do better than a dummy model?\n",
    "- Task 3: Predict the number of insurance benefits a new customer is likely to receive using a linear regression model.\n",
    "- Task 4: Protect clients' personal data without breaking the model from the previous task. It's necessary to develop a data transformation algorithm that would make it hard to recover personal information if the data fell into the wrong hands. This is called data masking, or data obfuscation. But the data should be protected in such a way that the quality of machine learning models doesn't suffer. You don't need to pick the best model, just prove that the algorithm works correctly."
   ]
  },
  {
   "cell_type": "markdown",
   "id": "139ecd7f",
   "metadata": {},
   "source": [
    "# Data Preprocessing & Exploration"
   ]
  },
  {
   "cell_type": "markdown",
   "id": "d9954c34",
   "metadata": {},
   "source": [
    "##  Initialization"
   ]
  },
  {
   "cell_type": "code",
   "execution_count": 1,
   "id": "43bbfee4",
   "metadata": {},
   "outputs": [
    {
     "name": "stdout",
     "output_type": "stream",
     "text": [
      "Setup Complete\n"
     ]
    }
   ],
   "source": [
    "import pandas as pd\n",
    "import matplotlib\n",
    "import numpy as np\n",
    "import seaborn as sns\n",
    "import re\n",
    "\n",
    "from sklearn import linear_model\n",
    "from sklearn.linear_model import LinearRegression\n",
    "from sklearn.model_selection import train_test_split\n",
    "import sklearn.preprocessing\n",
    "from sklearn.neighbors import KNeighborsClassifier, NearestNeighbors, RadiusNeighborsClassifier\n",
    "import math \n",
    "from sklearn.pipeline import Pipeline\n",
    "from sklearn.preprocessing import MinMaxScaler\n",
    "from sklearn.model_selection import RepeatedStratifiedKFold\n",
    "from numpy import arange\n",
    "from sklearn.model_selection import GridSearchCV\n",
    "\n",
    "\n",
    "\n",
    "\n",
    "\n",
    "from sklearn.metrics import r2_score\n",
    "\n",
    "import matplotlib.pyplot as plt\n",
    "%matplotlib inline\n",
    "\n",
    "import sys\n",
    "import warnings\n",
    "if not sys.warnoptions:\n",
    "       warnings.simplefilter(\"ignore\")\n",
    "\n",
    "pd.set_option('display.max_rows', None, 'display.max_columns', None)\n",
    "\n",
    "print(\"Setup Complete\")"
   ]
  },
  {
   "cell_type": "markdown",
   "id": "8bbee9be",
   "metadata": {},
   "source": [
    "## Load Data"
   ]
  },
  {
   "cell_type": "code",
   "execution_count": 2,
   "id": "1a7e4754",
   "metadata": {},
   "outputs": [],
   "source": [
    "try:\n",
    "    df = pd.read_csv('insurance_us.csv')\n",
    "    \n",
    "except:\n",
    "    df = pd.read_csv('/datasets/insurance_us.csv')"
   ]
  },
  {
   "cell_type": "markdown",
   "id": "f3c025e6",
   "metadata": {},
   "source": [
    "## Explore Data"
   ]
  },
  {
   "cell_type": "code",
   "execution_count": 3,
   "id": "084534f8",
   "metadata": {
    "scrolled": true
   },
   "outputs": [
    {
     "data": {
      "text/html": [
       "<div>\n",
       "<style scoped>\n",
       "    .dataframe tbody tr th:only-of-type {\n",
       "        vertical-align: middle;\n",
       "    }\n",
       "\n",
       "    .dataframe tbody tr th {\n",
       "        vertical-align: top;\n",
       "    }\n",
       "\n",
       "    .dataframe thead th {\n",
       "        text-align: right;\n",
       "    }\n",
       "</style>\n",
       "<table border=\"1\" class=\"dataframe\">\n",
       "  <thead>\n",
       "    <tr style=\"text-align: right;\">\n",
       "      <th></th>\n",
       "      <th>Gender</th>\n",
       "      <th>Age</th>\n",
       "      <th>Salary</th>\n",
       "      <th>Family members</th>\n",
       "      <th>Insurance benefits</th>\n",
       "    </tr>\n",
       "  </thead>\n",
       "  <tbody>\n",
       "    <tr>\n",
       "      <th>0</th>\n",
       "      <td>1</td>\n",
       "      <td>41.0</td>\n",
       "      <td>49600.0</td>\n",
       "      <td>1</td>\n",
       "      <td>0</td>\n",
       "    </tr>\n",
       "    <tr>\n",
       "      <th>1</th>\n",
       "      <td>0</td>\n",
       "      <td>46.0</td>\n",
       "      <td>38000.0</td>\n",
       "      <td>1</td>\n",
       "      <td>1</td>\n",
       "    </tr>\n",
       "    <tr>\n",
       "      <th>2</th>\n",
       "      <td>0</td>\n",
       "      <td>29.0</td>\n",
       "      <td>21000.0</td>\n",
       "      <td>0</td>\n",
       "      <td>0</td>\n",
       "    </tr>\n",
       "    <tr>\n",
       "      <th>3</th>\n",
       "      <td>0</td>\n",
       "      <td>21.0</td>\n",
       "      <td>41700.0</td>\n",
       "      <td>2</td>\n",
       "      <td>0</td>\n",
       "    </tr>\n",
       "    <tr>\n",
       "      <th>4</th>\n",
       "      <td>1</td>\n",
       "      <td>28.0</td>\n",
       "      <td>26100.0</td>\n",
       "      <td>0</td>\n",
       "      <td>0</td>\n",
       "    </tr>\n",
       "  </tbody>\n",
       "</table>\n",
       "</div>"
      ],
      "text/plain": [
       "   Gender   Age   Salary  Family members  Insurance benefits\n",
       "0       1  41.0  49600.0               1                   0\n",
       "1       0  46.0  38000.0               1                   1\n",
       "2       0  29.0  21000.0               0                   0\n",
       "3       0  21.0  41700.0               2                   0\n",
       "4       1  28.0  26100.0               0                   0"
      ]
     },
     "execution_count": 3,
     "metadata": {},
     "output_type": "execute_result"
    }
   ],
   "source": [
    "df.head()"
   ]
  },
  {
   "cell_type": "code",
   "execution_count": 4,
   "id": "d48e34d1",
   "metadata": {},
   "outputs": [
    {
     "name": "stdout",
     "output_type": "stream",
     "text": [
      "<class 'pandas.core.frame.DataFrame'>\n",
      "RangeIndex: 5000 entries, 0 to 4999\n",
      "Data columns (total 5 columns):\n",
      " #   Column              Non-Null Count  Dtype  \n",
      "---  ------              --------------  -----  \n",
      " 0   Gender              5000 non-null   int64  \n",
      " 1   Age                 5000 non-null   float64\n",
      " 2   Salary              5000 non-null   float64\n",
      " 3   Family members      5000 non-null   int64  \n",
      " 4   Insurance benefits  5000 non-null   int64  \n",
      "dtypes: float64(2), int64(3)\n",
      "memory usage: 195.4 KB\n"
     ]
    }
   ],
   "source": [
    "df.info()"
   ]
  },
  {
   "cell_type": "markdown",
   "id": "e03c726e",
   "metadata": {},
   "source": [
    "### Conclusion:\n",
    "No missing values."
   ]
  },
  {
   "cell_type": "code",
   "execution_count": 5,
   "id": "2734bfba",
   "metadata": {
    "scrolled": true
   },
   "outputs": [
    {
     "data": {
      "text/html": [
       "<div>\n",
       "<style scoped>\n",
       "    .dataframe tbody tr th:only-of-type {\n",
       "        vertical-align: middle;\n",
       "    }\n",
       "\n",
       "    .dataframe tbody tr th {\n",
       "        vertical-align: top;\n",
       "    }\n",
       "\n",
       "    .dataframe thead th {\n",
       "        text-align: right;\n",
       "    }\n",
       "</style>\n",
       "<table border=\"1\" class=\"dataframe\">\n",
       "  <thead>\n",
       "    <tr style=\"text-align: right;\">\n",
       "      <th></th>\n",
       "      <th>Gender</th>\n",
       "      <th>Age</th>\n",
       "      <th>Salary</th>\n",
       "      <th>Family members</th>\n",
       "      <th>Insurance benefits</th>\n",
       "    </tr>\n",
       "  </thead>\n",
       "  <tbody>\n",
       "    <tr>\n",
       "      <th>count</th>\n",
       "      <td>5000.000000</td>\n",
       "      <td>5000.000000</td>\n",
       "      <td>5000.000000</td>\n",
       "      <td>5000.000000</td>\n",
       "      <td>5000.000000</td>\n",
       "    </tr>\n",
       "    <tr>\n",
       "      <th>mean</th>\n",
       "      <td>0.499000</td>\n",
       "      <td>30.952800</td>\n",
       "      <td>39916.360000</td>\n",
       "      <td>1.194200</td>\n",
       "      <td>0.148000</td>\n",
       "    </tr>\n",
       "    <tr>\n",
       "      <th>std</th>\n",
       "      <td>0.500049</td>\n",
       "      <td>8.440807</td>\n",
       "      <td>9900.083569</td>\n",
       "      <td>1.091387</td>\n",
       "      <td>0.463183</td>\n",
       "    </tr>\n",
       "    <tr>\n",
       "      <th>min</th>\n",
       "      <td>0.000000</td>\n",
       "      <td>18.000000</td>\n",
       "      <td>5300.000000</td>\n",
       "      <td>0.000000</td>\n",
       "      <td>0.000000</td>\n",
       "    </tr>\n",
       "    <tr>\n",
       "      <th>25%</th>\n",
       "      <td>0.000000</td>\n",
       "      <td>24.000000</td>\n",
       "      <td>33300.000000</td>\n",
       "      <td>0.000000</td>\n",
       "      <td>0.000000</td>\n",
       "    </tr>\n",
       "    <tr>\n",
       "      <th>50%</th>\n",
       "      <td>0.000000</td>\n",
       "      <td>30.000000</td>\n",
       "      <td>40200.000000</td>\n",
       "      <td>1.000000</td>\n",
       "      <td>0.000000</td>\n",
       "    </tr>\n",
       "    <tr>\n",
       "      <th>75%</th>\n",
       "      <td>1.000000</td>\n",
       "      <td>37.000000</td>\n",
       "      <td>46600.000000</td>\n",
       "      <td>2.000000</td>\n",
       "      <td>0.000000</td>\n",
       "    </tr>\n",
       "    <tr>\n",
       "      <th>max</th>\n",
       "      <td>1.000000</td>\n",
       "      <td>65.000000</td>\n",
       "      <td>79000.000000</td>\n",
       "      <td>6.000000</td>\n",
       "      <td>5.000000</td>\n",
       "    </tr>\n",
       "  </tbody>\n",
       "</table>\n",
       "</div>"
      ],
      "text/plain": [
       "            Gender          Age        Salary  Family members  \\\n",
       "count  5000.000000  5000.000000   5000.000000     5000.000000   \n",
       "mean      0.499000    30.952800  39916.360000        1.194200   \n",
       "std       0.500049     8.440807   9900.083569        1.091387   \n",
       "min       0.000000    18.000000   5300.000000        0.000000   \n",
       "25%       0.000000    24.000000  33300.000000        0.000000   \n",
       "50%       0.000000    30.000000  40200.000000        1.000000   \n",
       "75%       1.000000    37.000000  46600.000000        2.000000   \n",
       "max       1.000000    65.000000  79000.000000        6.000000   \n",
       "\n",
       "       Insurance benefits  \n",
       "count         5000.000000  \n",
       "mean             0.148000  \n",
       "std              0.463183  \n",
       "min              0.000000  \n",
       "25%              0.000000  \n",
       "50%              0.000000  \n",
       "75%              0.000000  \n",
       "max              5.000000  "
      ]
     },
     "execution_count": 5,
     "metadata": {},
     "output_type": "execute_result"
    }
   ],
   "source": [
    "df.describe()"
   ]
  },
  {
   "cell_type": "markdown",
   "id": "77898697",
   "metadata": {},
   "source": [
    "### Conclusion:\n",
    "Insurance benefits is imbalanced"
   ]
  },
  {
   "cell_type": "markdown",
   "id": "82e36615",
   "metadata": {},
   "source": [
    "## Rename variables"
   ]
  },
  {
   "cell_type": "code",
   "execution_count": 6,
   "id": "a0b86ef3",
   "metadata": {},
   "outputs": [],
   "source": [
    "df = df.rename(columns={'Gender': 'gender', 'Age': 'age', 'Salary': 'income', 'Family members': 'family_members', 'Insurance benefits': 'insurance_benefits'})"
   ]
  },
  {
   "cell_type": "markdown",
   "id": "83fa556a",
   "metadata": {},
   "source": [
    "## Check type"
   ]
  },
  {
   "cell_type": "code",
   "execution_count": 7,
   "id": "cf3db693",
   "metadata": {},
   "outputs": [
    {
     "data": {
      "text/html": [
       "<div>\n",
       "<style scoped>\n",
       "    .dataframe tbody tr th:only-of-type {\n",
       "        vertical-align: middle;\n",
       "    }\n",
       "\n",
       "    .dataframe tbody tr th {\n",
       "        vertical-align: top;\n",
       "    }\n",
       "\n",
       "    .dataframe thead th {\n",
       "        text-align: right;\n",
       "    }\n",
       "</style>\n",
       "<table border=\"1\" class=\"dataframe\">\n",
       "  <thead>\n",
       "    <tr style=\"text-align: right;\">\n",
       "      <th></th>\n",
       "      <th>gender</th>\n",
       "      <th>age</th>\n",
       "      <th>income</th>\n",
       "      <th>family_members</th>\n",
       "      <th>insurance_benefits</th>\n",
       "    </tr>\n",
       "  </thead>\n",
       "  <tbody>\n",
       "    <tr>\n",
       "      <th>0</th>\n",
       "      <td>1</td>\n",
       "      <td>41.0</td>\n",
       "      <td>49600.0</td>\n",
       "      <td>1</td>\n",
       "      <td>0</td>\n",
       "    </tr>\n",
       "    <tr>\n",
       "      <th>1</th>\n",
       "      <td>0</td>\n",
       "      <td>46.0</td>\n",
       "      <td>38000.0</td>\n",
       "      <td>1</td>\n",
       "      <td>1</td>\n",
       "    </tr>\n",
       "    <tr>\n",
       "      <th>2</th>\n",
       "      <td>0</td>\n",
       "      <td>29.0</td>\n",
       "      <td>21000.0</td>\n",
       "      <td>0</td>\n",
       "      <td>0</td>\n",
       "    </tr>\n",
       "    <tr>\n",
       "      <th>3</th>\n",
       "      <td>0</td>\n",
       "      <td>21.0</td>\n",
       "      <td>41700.0</td>\n",
       "      <td>2</td>\n",
       "      <td>0</td>\n",
       "    </tr>\n",
       "    <tr>\n",
       "      <th>4</th>\n",
       "      <td>1</td>\n",
       "      <td>28.0</td>\n",
       "      <td>26100.0</td>\n",
       "      <td>0</td>\n",
       "      <td>0</td>\n",
       "    </tr>\n",
       "  </tbody>\n",
       "</table>\n",
       "</div>"
      ],
      "text/plain": [
       "   gender   age   income  family_members  insurance_benefits\n",
       "0       1  41.0  49600.0               1                   0\n",
       "1       0  46.0  38000.0               1                   1\n",
       "2       0  29.0  21000.0               0                   0\n",
       "3       0  21.0  41700.0               2                   0\n",
       "4       1  28.0  26100.0               0                   0"
      ]
     },
     "execution_count": 7,
     "metadata": {},
     "output_type": "execute_result"
    }
   ],
   "source": [
    "df.head()"
   ]
  },
  {
   "cell_type": "code",
   "execution_count": 8,
   "id": "c50ebbc2",
   "metadata": {},
   "outputs": [],
   "source": [
    "df['age'] = df['age'].astype(int)"
   ]
  },
  {
   "cell_type": "markdown",
   "id": "5355a5e7",
   "metadata": {},
   "source": [
    "## Check for duplicates"
   ]
  },
  {
   "cell_type": "code",
   "execution_count": 9,
   "id": "775ddea6",
   "metadata": {},
   "outputs": [
    {
     "data": {
      "text/plain": [
       "153"
      ]
     },
     "execution_count": 9,
     "metadata": {},
     "output_type": "execute_result"
    }
   ],
   "source": [
    "df.duplicated().sum()"
   ]
  },
  {
   "cell_type": "code",
   "execution_count": 10,
   "id": "837dffd8",
   "metadata": {},
   "outputs": [],
   "source": [
    "df.drop_duplicates(inplace=True, ignore_index=True)"
   ]
  },
  {
   "cell_type": "markdown",
   "id": "1923266c",
   "metadata": {},
   "source": [
    "## Final shape"
   ]
  },
  {
   "cell_type": "code",
   "execution_count": 11,
   "id": "87f43dad",
   "metadata": {},
   "outputs": [
    {
     "data": {
      "text/plain": [
       "(4847, 5)"
      ]
     },
     "execution_count": 11,
     "metadata": {},
     "output_type": "execute_result"
    }
   ],
   "source": [
    "df.shape"
   ]
  },
  {
   "cell_type": "markdown",
   "id": "dc353904",
   "metadata": {},
   "source": [
    "# EDA"
   ]
  },
  {
   "cell_type": "code",
   "execution_count": 12,
   "id": "e6783271",
   "metadata": {},
   "outputs": [
    {
     "data": {
      "image/png": "[encoded data removed]",
      "text/plain": [
       "<Figure size 900x900 with 30 Axes>"
      ]
     },
     "metadata": {
      "needs_background": "light"
     },
     "output_type": "display_data"
    }
   ],
   "source": [
    "# creating copy of original data set\n",
    "df_copy = df.copy()\n",
    "\n",
    "# plotting pair plot for dataframe\n",
    "sns.pairplot(df_copy)\n",
    "plt.show()"
   ]
  },
  {
   "cell_type": "markdown",
   "id": "2c048d78",
   "metadata": {},
   "source": [
    "## Conclusion:\n",
    "Income and age are the only continuous variables.  Most family sizes are less than 3 members. Age is skewed towards younger generations."
   ]
  },
  {
   "cell_type": "markdown",
   "id": "1d9390f0",
   "metadata": {},
   "source": [
    "# Task 1: Similar Customers"
   ]
  },
  {
   "cell_type": "markdown",
   "id": "a77e6e9b",
   "metadata": {},
   "source": [
    "In the language of ML, it is necessary to develop a procedure that returns k nearest neighbors (objects) for a given object based on the distance between the objects."
   ]
  },
  {
   "cell_type": "markdown",
   "id": "f112a838",
   "metadata": {},
   "source": [
    "You may want to review the following lessons (chapter -> lesson)\n",
    "- Distance Between Vectors -> Euclidean Distance\n",
    "- Distance Between Vectors -> Manhattan Distance"
   ]
  },
  {
   "cell_type": "markdown",
   "id": "d40790c0",
   "metadata": {},
   "source": [
    "To solve the task, we can try different distance metrics."
   ]
  },
  {
   "cell_type": "markdown",
   "id": "b4af9e37",
   "metadata": {},
   "source": [
    "Write a function that returns k nearest neighbors for an $n^{th}$ object based on a specified distance metric. The number of received insurance benefits should not be taken into account for this task. "
   ]
  },
  {
   "cell_type": "markdown",
   "id": "b45553b4",
   "metadata": {},
   "source": [
    "You can use a ready implementation of the kNN algorithm from scikit-learn (check [the link](https://scikit-learn.org/stable/modules/generated/sklearn.neighbors.NearestNeighbors.html#sklearn.neighbors.NearestNeighbors)) or use your own."
   ]
  },
  {
   "cell_type": "markdown",
   "id": "d0b0524b",
   "metadata": {},
   "source": [
    "Test it for four combination of two cases\n",
    "- Scaling\n",
    "  - the data is not scaled\n",
    "  - the data is scaled with the [MaxAbsScaler](https://scikit-learn.org/stable/modules/generated/sklearn.preprocessing.MaxAbsScaler.html) scaler\n",
    "- Distance Metrics\n",
    "  - Euclidean\n",
    "  - Manhattan"
   ]
  },
  {
   "cell_type": "markdown",
   "id": "86f001a4",
   "metadata": {},
   "source": [
    "Answer these questions:\n",
    "- Does the data being not scaled affect the kNN algorithm? If so, how does that appear?\n",
    "- How similar are the results using the Manhattan distance metric (regardless of the scaling)?"
   ]
  },
  {
   "cell_type": "markdown",
   "id": "d99afc0c",
   "metadata": {},
   "source": [
    "## The metrics Used"
   ]
  },
  {
   "cell_type": "code",
   "execution_count": 13,
   "id": "05773eee",
   "metadata": {},
   "outputs": [],
   "source": [
    "metrics = ['euclidean', 'manhattan']"
   ]
  },
  {
   "cell_type": "markdown",
   "id": "45a8abe4",
   "metadata": {},
   "source": [
    "## KNN Function\n",
    "This function takes a dataframe, n objects, k neighbors, and a distance metric.  It fits NearestNeighbors model and extracts the distances and indices.  Then it returns a concatenated dataframe with indices and transposed distances"
   ]
  },
  {
   "cell_type": "code",
   "execution_count": 14,
   "id": "d6769be1",
   "metadata": {},
   "outputs": [],
   "source": [
    "feature_names = ['gender', 'age', 'income', 'family_members']\n",
    "\n",
    "def get_knn(df, n, k, metric):\n",
    "    \n",
    "    \"\"\"\n",
    "    Returns k nearest neighbors\n",
    "\n",
    "    :param df: pandas DataFrame used to find similar objects within\n",
    "    :param n: object no for which the nearest neighbours are looked for\n",
    "    :param k: the number of the nearest neighbours to return\n",
    "    :param metric: name of distance metric\n",
    "    \"\"\"\n",
    "\n",
    "    nbrs = NearestNeighbors(n_neighbors=k, metric=metric).fit(df)\n",
    "    nbrs_distances, nbrs_indices = nbrs.kneighbors([df.iloc[n][feature_names]], k, return_distance=True)\n",
    "    \n",
    "    df_res = pd.concat([\n",
    "        df.iloc[nbrs_indices[0]], \n",
    "        pd.DataFrame(nbrs_distances.T, index=nbrs_indices[0], columns=['distance'])\n",
    "        ], axis=1)\n",
    "    \n",
    "    return df_res"
   ]
  },
  {
   "cell_type": "markdown",
   "id": "0344918f",
   "metadata": {},
   "source": [
    "## Helper function"
   ]
  },
  {
   "cell_type": "markdown",
   "id": "635eaefc",
   "metadata": {},
   "source": [
    "The helper function extracts the KNN results."
   ]
  },
  {
   "cell_type": "code",
   "execution_count": 15,
   "id": "844cec61",
   "metadata": {},
   "outputs": [],
   "source": [
    "def check_knn_results(df, k, n, scaling='Scaled', metrics=[]):\n",
    "    \"\"\"\n",
    "    Helper fucnction\n",
    "    \"\"\"\n",
    "    for metric in metrics:\n",
    "        print('{} results for {}'.format(scaling, metric))\n",
    "        print('-'*50)\n",
    "        print(get_knn(df, n, k, metric))\n",
    "        print()"
   ]
  },
  {
   "cell_type": "markdown",
   "id": "f0bab957",
   "metadata": {},
   "source": [
    "## Target Unscaled"
   ]
  },
  {
   "cell_type": "code",
   "execution_count": 16,
   "id": "f18212bd",
   "metadata": {},
   "outputs": [],
   "source": [
    "# reduce the target to either received benefit 1, or not received benefit 0\n",
    "df['insurance_benefits_received'] = (df['insurance_benefits'] > 0).astype(int)"
   ]
  },
  {
   "cell_type": "code",
   "execution_count": 17,
   "id": "c1374980",
   "metadata": {},
   "outputs": [
    {
     "data": {
      "text/plain": [
       "0    88.384568\n",
       "1    11.615432\n",
       "Name: insurance_benefits_received, dtype: float64"
      ]
     },
     "execution_count": 17,
     "metadata": {},
     "output_type": "execute_result"
    }
   ],
   "source": [
    "df['insurance_benefits_received'].value_counts()/len(df) *100"
   ]
  },
  {
   "cell_type": "code",
   "execution_count": 18,
   "id": "519f963b",
   "metadata": {},
   "outputs": [
    {
     "data": {
      "text/html": [
       "<div>\n",
       "<style scoped>\n",
       "    .dataframe tbody tr th:only-of-type {\n",
       "        vertical-align: middle;\n",
       "    }\n",
       "\n",
       "    .dataframe tbody tr th {\n",
       "        vertical-align: top;\n",
       "    }\n",
       "\n",
       "    .dataframe thead th {\n",
       "        text-align: right;\n",
       "    }\n",
       "</style>\n",
       "<table border=\"1\" class=\"dataframe\">\n",
       "  <thead>\n",
       "    <tr style=\"text-align: right;\">\n",
       "      <th></th>\n",
       "      <th>gender</th>\n",
       "      <th>age</th>\n",
       "      <th>income</th>\n",
       "      <th>family_members</th>\n",
       "      <th>insurance_benefits</th>\n",
       "      <th>insurance_benefits_received</th>\n",
       "    </tr>\n",
       "  </thead>\n",
       "  <tbody>\n",
       "    <tr>\n",
       "      <th>2145</th>\n",
       "      <td>0</td>\n",
       "      <td>18</td>\n",
       "      <td>43400.0</td>\n",
       "      <td>1</td>\n",
       "      <td>0</td>\n",
       "      <td>0</td>\n",
       "    </tr>\n",
       "    <tr>\n",
       "      <th>2770</th>\n",
       "      <td>1</td>\n",
       "      <td>27</td>\n",
       "      <td>28800.0</td>\n",
       "      <td>0</td>\n",
       "      <td>0</td>\n",
       "      <td>0</td>\n",
       "    </tr>\n",
       "    <tr>\n",
       "      <th>926</th>\n",
       "      <td>0</td>\n",
       "      <td>25</td>\n",
       "      <td>40400.0</td>\n",
       "      <td>3</td>\n",
       "      <td>0</td>\n",
       "      <td>0</td>\n",
       "    </tr>\n",
       "    <tr>\n",
       "      <th>4354</th>\n",
       "      <td>1</td>\n",
       "      <td>43</td>\n",
       "      <td>46300.0</td>\n",
       "      <td>1</td>\n",
       "      <td>1</td>\n",
       "      <td>1</td>\n",
       "    </tr>\n",
       "    <tr>\n",
       "      <th>3371</th>\n",
       "      <td>0</td>\n",
       "      <td>35</td>\n",
       "      <td>26100.0</td>\n",
       "      <td>2</td>\n",
       "      <td>0</td>\n",
       "      <td>0</td>\n",
       "    </tr>\n",
       "  </tbody>\n",
       "</table>\n",
       "</div>"
      ],
      "text/plain": [
       "      gender  age   income  family_members  insurance_benefits  \\\n",
       "2145       0   18  43400.0               1                   0   \n",
       "2770       1   27  28800.0               0                   0   \n",
       "926        0   25  40400.0               3                   0   \n",
       "4354       1   43  46300.0               1                   1   \n",
       "3371       0   35  26100.0               2                   0   \n",
       "\n",
       "      insurance_benefits_received  \n",
       "2145                            0  \n",
       "2770                            0  \n",
       "926                             0  \n",
       "4354                            1  \n",
       "3371                            0  "
      ]
     },
     "execution_count": 18,
     "metadata": {},
     "output_type": "execute_result"
    }
   ],
   "source": [
    "df.sample(5)"
   ]
  },
  {
   "cell_type": "markdown",
   "id": "a5d87a5f",
   "metadata": {},
   "source": [
    "## KNN Results Unscaled"
   ]
  },
  {
   "cell_type": "code",
   "execution_count": 19,
   "id": "0edb2f04",
   "metadata": {},
   "outputs": [
    {
     "name": "stdout",
     "output_type": "stream",
     "text": [
      "Unscaled results for euclidean\n",
      "--------------------------------------------------\n",
      "      gender  age   income  family_members  distance\n",
      "100        0   19  37300.0               1  0.000000\n",
      "1803       0   20  37300.0               2  1.414214\n",
      "2569       1   19  37300.0               0  1.414214\n",
      "4147       1   19  37300.0               2  1.414214\n",
      "1078       0   22  37300.0               3  3.605551\n",
      "\n",
      "Unscaled results for manhattan\n",
      "--------------------------------------------------\n",
      "      gender  age   income  family_members  distance\n",
      "100        0   19  37300.0               1       0.0\n",
      "1803       0   20  37300.0               2       2.0\n",
      "2569       1   19  37300.0               0       2.0\n",
      "4147       1   19  37300.0               2       2.0\n",
      "1078       0   22  37300.0               3       5.0\n",
      "\n"
     ]
    }
   ],
   "source": [
    "# Check results for insured member 100. Without scaling\n",
    "check_knn_results(df[feature_names], k=5, n=100, scaling='Unscaled', metrics=metrics)"
   ]
  },
  {
   "cell_type": "markdown",
   "id": "1db52471",
   "metadata": {},
   "source": [
    "## Scaling the df"
   ]
  },
  {
   "cell_type": "code",
   "execution_count": 20,
   "id": "926c3b13",
   "metadata": {},
   "outputs": [],
   "source": [
    "feature_names = ['gender', 'age', 'income', 'family_members']\n",
    "\n",
    "transformer_mas = sklearn.preprocessing.MaxAbsScaler().fit(df[feature_names].to_numpy())\n",
    "\n",
    "df_scaled = df.copy()\n",
    "df_scaled.loc[:, feature_names] = transformer_mas.transform(df[feature_names].to_numpy())"
   ]
  },
  {
   "cell_type": "code",
   "execution_count": 21,
   "id": "083c3c80",
   "metadata": {},
   "outputs": [],
   "source": [
    "# reset the indices as the results with .loc and .iloc don't line up\n",
    "df_scaled = df_scaled.reset_index(drop=True)"
   ]
  },
  {
   "cell_type": "markdown",
   "id": "33cdf4c7",
   "metadata": {},
   "source": [
    "### Target Scaled"
   ]
  },
  {
   "cell_type": "code",
   "execution_count": 22,
   "id": "02d4bc77",
   "metadata": {},
   "outputs": [],
   "source": [
    "# reduce the target to either received benefit 1, or not received benefit 0\n",
    "df_scaled['insurance_benefits_received'] = (df_scaled['insurance_benefits'] > 0).astype(int)"
   ]
  },
  {
   "cell_type": "code",
   "execution_count": 23,
   "id": "73f3da85",
   "metadata": {},
   "outputs": [
    {
     "data": {
      "text/html": [
       "<div>\n",
       "<style scoped>\n",
       "    .dataframe tbody tr th:only-of-type {\n",
       "        vertical-align: middle;\n",
       "    }\n",
       "\n",
       "    .dataframe tbody tr th {\n",
       "        vertical-align: top;\n",
       "    }\n",
       "\n",
       "    .dataframe thead th {\n",
       "        text-align: right;\n",
       "    }\n",
       "</style>\n",
       "<table border=\"1\" class=\"dataframe\">\n",
       "  <thead>\n",
       "    <tr style=\"text-align: right;\">\n",
       "      <th></th>\n",
       "      <th>gender</th>\n",
       "      <th>age</th>\n",
       "      <th>income</th>\n",
       "      <th>family_members</th>\n",
       "      <th>insurance_benefits</th>\n",
       "      <th>insurance_benefits_received</th>\n",
       "    </tr>\n",
       "  </thead>\n",
       "  <tbody>\n",
       "    <tr>\n",
       "      <th>782</th>\n",
       "      <td>1.0</td>\n",
       "      <td>0.400000</td>\n",
       "      <td>0.520253</td>\n",
       "      <td>0.166667</td>\n",
       "      <td>0</td>\n",
       "      <td>0</td>\n",
       "    </tr>\n",
       "    <tr>\n",
       "      <th>220</th>\n",
       "      <td>0.0</td>\n",
       "      <td>0.446154</td>\n",
       "      <td>0.426582</td>\n",
       "      <td>0.333333</td>\n",
       "      <td>0</td>\n",
       "      <td>0</td>\n",
       "    </tr>\n",
       "    <tr>\n",
       "      <th>4171</th>\n",
       "      <td>1.0</td>\n",
       "      <td>0.400000</td>\n",
       "      <td>0.467089</td>\n",
       "      <td>0.666667</td>\n",
       "      <td>0</td>\n",
       "      <td>0</td>\n",
       "    </tr>\n",
       "    <tr>\n",
       "      <th>1026</th>\n",
       "      <td>0.0</td>\n",
       "      <td>0.384615</td>\n",
       "      <td>0.244304</td>\n",
       "      <td>0.500000</td>\n",
       "      <td>0</td>\n",
       "      <td>0</td>\n",
       "    </tr>\n",
       "    <tr>\n",
       "      <th>3470</th>\n",
       "      <td>0.0</td>\n",
       "      <td>0.384615</td>\n",
       "      <td>0.627848</td>\n",
       "      <td>0.000000</td>\n",
       "      <td>0</td>\n",
       "      <td>0</td>\n",
       "    </tr>\n",
       "  </tbody>\n",
       "</table>\n",
       "</div>"
      ],
      "text/plain": [
       "      gender       age    income  family_members  insurance_benefits  \\\n",
       "782      1.0  0.400000  0.520253        0.166667                   0   \n",
       "220      0.0  0.446154  0.426582        0.333333                   0   \n",
       "4171     1.0  0.400000  0.467089        0.666667                   0   \n",
       "1026     0.0  0.384615  0.244304        0.500000                   0   \n",
       "3470     0.0  0.384615  0.627848        0.000000                   0   \n",
       "\n",
       "      insurance_benefits_received  \n",
       "782                             0  \n",
       "220                             0  \n",
       "4171                            0  \n",
       "1026                            0  \n",
       "3470                            0  "
      ]
     },
     "execution_count": 23,
     "metadata": {},
     "output_type": "execute_result"
    }
   ],
   "source": [
    "df_scaled.sample(5)"
   ]
  },
  {
   "cell_type": "markdown",
   "id": "1ea0a00d",
   "metadata": {},
   "source": [
    "### KNN with scaled data"
   ]
  },
  {
   "cell_type": "code",
   "execution_count": 24,
   "id": "b5f97801",
   "metadata": {},
   "outputs": [
    {
     "name": "stdout",
     "output_type": "stream",
     "text": [
      "Scaled results for euclidean\n",
      "--------------------------------------------------\n",
      "      gender       age    income  family_members  distance\n",
      "100      0.0  0.292308  0.472152        0.166667  0.000000\n",
      "4765     0.0  0.292308  0.477215        0.166667  0.005063\n",
      "243      0.0  0.292308  0.467089        0.166667  0.005063\n",
      "1309     0.0  0.292308  0.456962        0.166667  0.015190\n",
      "806      0.0  0.307692  0.470886        0.166667  0.015437\n",
      "\n",
      "Scaled results for manhattan\n",
      "--------------------------------------------------\n",
      "      gender       age    income  family_members  distance\n",
      "100      0.0  0.292308  0.472152        0.166667  0.000000\n",
      "4765     0.0  0.292308  0.477215        0.166667  0.005063\n",
      "243      0.0  0.292308  0.467089        0.166667  0.005063\n",
      "1309     0.0  0.292308  0.456962        0.166667  0.015190\n",
      "806      0.0  0.307692  0.470886        0.166667  0.016650\n",
      "\n"
     ]
    }
   ],
   "source": [
    "# for insured member 100. With scaling\n",
    "check_knn_results(df_scaled[feature_names], k=5, n=100, metrics=metrics)"
   ]
  },
  {
   "cell_type": "markdown",
   "id": "f0958144",
   "metadata": {},
   "source": [
    "**Does the data being not scaled affect the kNN algorithm? If so, how does that appear?** "
   ]
  },
  {
   "cell_type": "markdown",
   "id": "2db4671d",
   "metadata": {},
   "source": [
    "Scaling does affect the KNN results. The scaled distances are much smaller (tighter) which results in totally different neighbors.  The scaled results all have the same gender, similar family_members numbers.  In contrast, the unscaled included both genders and clustered better on income"
   ]
  },
  {
   "cell_type": "markdown",
   "id": "2326d1f9",
   "metadata": {},
   "source": [
    "**How similar are the results using the Manhattan distance metric (regardless of the scaling)?** "
   ]
  },
  {
   "cell_type": "markdown",
   "id": "4e361313",
   "metadata": {},
   "source": [
    "The performance of both metrics is similar when scaled or unscaled"
   ]
  },
  {
   "cell_type": "markdown",
   "id": "96df4aea",
   "metadata": {},
   "source": [
    "# Task 2: Is Customer Likely to Receive Insurance Benefit?"
   ]
  },
  {
   "cell_type": "markdown",
   "id": "3ead0b72",
   "metadata": {},
   "source": [
    "In terms of machine learning we can look at this like a binary classification task.\n",
    "\n",
    "With `insurance_benefits` being more than zero as the target, evaluate whether the kNN classification approach can do better than a dummy model."
   ]
  },
  {
   "cell_type": "markdown",
   "id": "f5a7a43e",
   "metadata": {},
   "source": [
    "Instructions:\n",
    "- Build a KNN-based classifier and measure its quality with the F1 metric for k=1..10 for both the original data and the scaled one. That'd be interesting to see how k may influence the evaluation metric, and whether scaling the data makes any difference. You can use a ready implementation of the kNN classification algorithm from scikit-learn (check [the link](https://scikit-learn.org/stable/modules/generated/sklearn.neighbors.KNeighborsClassifier.html)) or use your own.\n",
    "- Build the dummy model which is just random for this case. It should return \"1\" with some probability. Let's test the model with four probability values: 0, the probability of paying any insurance benefit, 0.5, 1."
   ]
  },
  {
   "cell_type": "markdown",
   "id": "e10c70df",
   "metadata": {},
   "source": [
    "The probability of paying any insurance benefit can be defined as\n",
    "\n",
    "$$\n",
    "P\\{\\text{insurance benefit received}\\}=\\frac{\\text{number of clients received any insurance benefit}}{\\text{total number of clients}}.\n",
    "$$\n",
    "\n",
    "Split the whole data in the 70:30 proportion for the training/testing parts."
   ]
  },
  {
   "cell_type": "markdown",
   "id": "2ab263b8",
   "metadata": {},
   "source": [
    "## Random Dummy Model"
   ]
  },
  {
   "cell_type": "markdown",
   "id": "62d3cc99",
   "metadata": {},
   "source": [
    "Defining the model"
   ]
  },
  {
   "cell_type": "code",
   "execution_count": 25,
   "id": "688c5a05",
   "metadata": {},
   "outputs": [],
   "source": [
    "def rnd_model_predict(P, size, seed=42):\n",
    "\n",
    "    rng = np.random.default_rng(seed=seed)\n",
    "    return rng.binomial(n=1, p=P, size=size)"
   ]
  },
  {
   "cell_type": "markdown",
   "id": "e940c105",
   "metadata": {},
   "source": [
    "### Evalutation"
   ]
  },
  {
   "cell_type": "markdown",
   "id": "f1b00031",
   "metadata": {},
   "source": [
    "Create a function that uses the F1 Score and outputs the confusion matrix properly labelled"
   ]
  },
  {
   "cell_type": "code",
   "execution_count": 26,
   "id": "11ef7152",
   "metadata": {},
   "outputs": [],
   "source": [
    "def eval_classifier(y_true, y_pred):\n",
    "    \n",
    "    f1_score = sklearn.metrics.f1_score(y_true, y_pred)\n",
    "    print(f'F1: {f1_score:.2f}')\n",
    "    \n",
    "    # if you have an issue with the following line, restart the kernel and run the notebook again\n",
    "    CM = sklearn.metrics.confusion_matrix(y_true, y_pred, normalize='all')\n",
    "    TN = CM[0][0]\n",
    "    FN = CM[1][0]\n",
    "    TP = CM[1][1]\n",
    "    FP = CM[0][1]\n",
    "    \n",
    "    print('Confusion Matrix:')\n",
    "    print('TN = ', TN)\n",
    "    print('FN = ', FN)\n",
    "    print('TP = ', TP)\n",
    "    print('FP = ', FP)\n",
    "    "
   ]
  },
  {
   "cell_type": "markdown",
   "id": "117a853d",
   "metadata": {},
   "source": [
    "### Four Types of Probability"
   ]
  },
  {
   "cell_type": "code",
   "execution_count": 27,
   "id": "19a8f825",
   "metadata": {},
   "outputs": [
    {
     "data": {
      "text/plain": [
       "0.11615432226119249"
      ]
     },
     "execution_count": 27,
     "metadata": {},
     "output_type": "execute_result"
    }
   ],
   "source": [
    "df['insurance_benefits_received'].sum() / len(df)"
   ]
  },
  {
   "cell_type": "markdown",
   "id": "d6b0620a",
   "metadata": {},
   "source": [
    "This loop goes over the probabilities predicts their target and outputs the confusion matrix"
   ]
  },
  {
   "cell_type": "code",
   "execution_count": 28,
   "id": "c4c5358a",
   "metadata": {},
   "outputs": [
    {
     "name": "stdout",
     "output_type": "stream",
     "text": [
      "The probability: 0.00\n",
      "F1: 0.00\n",
      "Confusion Matrix:\n",
      "TN =  0.8838456777388075\n",
      "FN =  0.11615432226119249\n",
      "TP =  0.0\n",
      "FP =  0.0\n",
      "\n",
      "The probability: 0.12\n",
      "F1: 0.13\n",
      "Confusion Matrix:\n",
      "TN =  0.7850216628842583\n",
      "FN =  0.10171239942232309\n",
      "TP =  0.014441922838869404\n",
      "FP =  0.09882401485454921\n",
      "\n",
      "The probability: 0.50\n",
      "F1: 0.19\n",
      "Confusion Matrix:\n",
      "TN =  0.4487311739220136\n",
      "FN =  0.059211883639364554\n",
      "TP =  0.056942438621827934\n",
      "FP =  0.4351145038167939\n",
      "\n",
      "The probability: 1.00\n",
      "F1: 0.21\n",
      "Confusion Matrix:\n",
      "TN =  0.0\n",
      "FN =  0.0\n",
      "TP =  0.11615432226119249\n",
      "FP =  0.8838456777388075\n",
      "\n"
     ]
    }
   ],
   "source": [
    "for P in [0, df['insurance_benefits_received'].sum() / len(df), 0.5, 1]:\n",
    "\n",
    "    print(f'The probability: {P:.2f}')\n",
    "    y_pred_rnd = rnd_model_predict(P, size=len(df), seed=42)\n",
    "        \n",
    "    eval_classifier(df['insurance_benefits_received'], y_pred_rnd)\n",
    "    \n",
    "    print()"
   ]
  },
  {
   "cell_type": "markdown",
   "id": "d9033261",
   "metadata": {},
   "source": [
    "#### Conclusion:\n",
    "The F1 are low; but the model performs better as the probability increases.  Yet, the performance of TN is higher as the probability is low and that of FP is higher as the probability is 1"
   ]
  },
  {
   "cell_type": "markdown",
   "id": "a3b444a1",
   "metadata": {},
   "source": [
    "## Build Two KNeighborsClassifier Models: One does not account for imablance and the other does"
   ]
  },
  {
   "cell_type": "markdown",
   "id": "e5a11566",
   "metadata": {},
   "source": [
    "Here we already noted that the insurance_benefits variable was imbalanced.  So we will have 2 models to account for that."
   ]
  },
  {
   "cell_type": "markdown",
   "id": "d389b08b",
   "metadata": {},
   "source": [
    "### Split the Unscaled Data"
   ]
  },
  {
   "cell_type": "code",
   "execution_count": 29,
   "id": "c84e87fb",
   "metadata": {},
   "outputs": [
    {
     "data": {
      "text/plain": [
       "((3392, 4), (3392,), (1455, 4), (1455,))"
      ]
     },
     "execution_count": 29,
     "metadata": {},
     "output_type": "execute_result"
    }
   ],
   "source": [
    "train, valid = \\\n",
    "(\n",
    "    train_test_split(df, stratify=df['insurance_benefits_received'], test_size=0.3, random_state=42)\n",
    ")\n",
    "features_train, target_train = train[feature_names], train['insurance_benefits_received']\n",
    "features_valid, target_valid = valid[feature_names], valid['insurance_benefits_received']\n",
    "\n",
    "features_train.shape, target_train.shape, features_valid.shape, target_valid.shape"
   ]
  },
  {
   "cell_type": "markdown",
   "id": "6830ea3c",
   "metadata": {},
   "source": [
    "### Model"
   ]
  },
  {
   "cell_type": "code",
   "execution_count": 30,
   "id": "04585661",
   "metadata": {},
   "outputs": [],
   "source": [
    "def build_model(features_train, target_train, target_valid):\n",
    "    \"\"\"\n",
    "    Fit a model and make predictions\n",
    "    \"\"\"\n",
    "    np.random.seed(42)\n",
    "    model = KNeighborsClassifier(n_neighbors= k)\n",
    "    model.fit(features_train, target_train)\n",
    "    y_pred = model.predict(target_valid)\n",
    "    return y_pred"
   ]
  },
  {
   "cell_type": "markdown",
   "id": "a4fc9c2c",
   "metadata": {},
   "source": [
    "#### Using Inbalanced Data "
   ]
  },
  {
   "cell_type": "code",
   "execution_count": 31,
   "id": "deea64c8",
   "metadata": {},
   "outputs": [
    {
     "name": "stdout",
     "output_type": "stream",
     "text": [
      "For neighbor k=1\n",
      "F1: 0.68\n",
      "Confusion Matrix:\n",
      "TN =  0.8680412371134021\n",
      "FN =  0.04879725085910653\n",
      "TP =  0.06735395189003436\n",
      "FP =  0.015807560137457044\n",
      "\n",
      "For neighbor k=2\n",
      "F1: 0.40\n",
      "Confusion Matrix:\n",
      "TN =  0.8783505154639175\n",
      "FN =  0.0859106529209622\n",
      "TP =  0.030240549828178694\n",
      "FP =  0.005498281786941581\n",
      "\n",
      "For neighbor k=3\n",
      "F1: 0.41\n",
      "Confusion Matrix:\n",
      "TN =  0.8735395189003436\n",
      "FN =  0.0838487972508591\n",
      "TP =  0.03230240549828179\n",
      "FP =  0.010309278350515464\n",
      "\n",
      "For neighbor k=4\n",
      "F1: 0.21\n",
      "Confusion Matrix:\n",
      "TN =  0.8804123711340206\n",
      "FN =  0.10240549828178694\n",
      "TP =  0.013745704467353952\n",
      "FP =  0.003436426116838488\n",
      "\n",
      "For neighbor k=5\n",
      "F1: 0.22\n",
      "Confusion Matrix:\n",
      "TN =  0.8790378006872852\n",
      "FN =  0.10103092783505155\n",
      "TP =  0.015120274914089347\n",
      "FP =  0.004810996563573883\n",
      "\n",
      "For neighbor k=6\n",
      "F1: 0.02\n",
      "Confusion Matrix:\n",
      "TN =  0.8838487972508591\n",
      "FN =  0.11477663230240549\n",
      "TP =  0.0013745704467353953\n",
      "FP =  0.0\n",
      "\n",
      "For neighbor k=7\n",
      "F1: 0.05\n",
      "Confusion Matrix:\n",
      "TN =  0.8810996563573883\n",
      "FN =  0.1134020618556701\n",
      "TP =  0.0027491408934707906\n",
      "FP =  0.0027491408934707906\n",
      "\n",
      "For neighbor k=8\n",
      "F1: 0.03\n",
      "Confusion Matrix:\n",
      "TN =  0.8831615120274914\n",
      "FN =  0.1140893470790378\n",
      "TP =  0.002061855670103093\n",
      "FP =  0.0006872852233676976\n",
      "\n",
      "For neighbor k=9\n",
      "F1: 0.03\n",
      "Confusion Matrix:\n",
      "TN =  0.8824742268041237\n",
      "FN =  0.1140893470790378\n",
      "TP =  0.002061855670103093\n",
      "FP =  0.0013745704467353953\n",
      "\n",
      "For neighbor k=10\n",
      "F1: 0.02\n",
      "Confusion Matrix:\n",
      "TN =  0.8838487972508591\n",
      "FN =  0.11477663230240549\n",
      "TP =  0.0013745704467353953\n",
      "FP =  0.0\n",
      "\n"
     ]
    }
   ],
   "source": [
    "for k in range(1, 11):\n",
    "    y_pred = build_model(features_train, target_train, features_valid)\n",
    "    print('For neighbor k={}'.format(k))\n",
    "    eval_classifier(target_valid, y_pred)\n",
    "    print()"
   ]
  },
  {
   "cell_type": "markdown",
   "id": "645b6689",
   "metadata": {},
   "source": [
    "### Split the already Scaled Data"
   ]
  },
  {
   "cell_type": "code",
   "execution_count": 32,
   "id": "7efa896f",
   "metadata": {},
   "outputs": [
    {
     "data": {
      "text/plain": [
       "((3392, 4), (3392,), (1455, 4), (1455,))"
      ]
     },
     "execution_count": 32,
     "metadata": {},
     "output_type": "execute_result"
    }
   ],
   "source": [
    "train, valid = \\\n",
    "(\n",
    "    train_test_split(df, test_size=0.3, random_state=42)\n",
    ")\n",
    "\n",
    "scaler = sklearn.preprocessing.MaxAbsScaler()\n",
    "\n",
    "normalized_train = pd.DataFrame(\n",
    "    scaler.fit_transform(train),\n",
    "    columns = train.columns\n",
    ")\n",
    "\n",
    "normalized_valid = pd.DataFrame(\n",
    "    scaler.fit_transform(valid),\n",
    "    columns = train.columns\n",
    ")\n",
    "\n",
    "\n",
    "features_train_sc, target_train = normalized_train[feature_names], train['insurance_benefits_received']\n",
    "features_valid_sc, target_valid = normalized_valid[feature_names], valid['insurance_benefits_received']\n",
    "\n",
    "features_train_sc.shape, target_train.shape, features_valid_sc.shape, target_valid.shape"
   ]
  },
  {
   "cell_type": "markdown",
   "id": "171eb473",
   "metadata": {},
   "source": [
    "#### Model "
   ]
  },
  {
   "cell_type": "markdown",
   "id": "ed001b86",
   "metadata": {},
   "source": [
    "#### Using Scaled Data and the KNN classifier"
   ]
  },
  {
   "cell_type": "code",
   "execution_count": 33,
   "id": "dea88fc1",
   "metadata": {},
   "outputs": [
    {
     "name": "stdout",
     "output_type": "stream",
     "text": [
      "For neighbor k=1\n",
      "F1: 0.84\n",
      "Confusion Matrix:\n",
      "TN =  0.8907216494845361\n",
      "FN =  0.029553264604810996\n",
      "TP =  0.07903780068728522\n",
      "FP =  0.0006872852233676976\n",
      "\n",
      "For neighbor k=2\n",
      "F1: 0.78\n",
      "Confusion Matrix:\n",
      "TN =  0.8914089347079038\n",
      "FN =  0.03917525773195876\n",
      "TP =  0.06941580756013746\n",
      "FP =  0.0\n",
      "\n",
      "For neighbor k=3\n",
      "F1: 0.84\n",
      "Confusion Matrix:\n",
      "TN =  0.8914089347079038\n",
      "FN =  0.030240549828178694\n",
      "TP =  0.07835051546391752\n",
      "FP =  0.0\n",
      "\n",
      "For neighbor k=4\n",
      "F1: 0.79\n",
      "Confusion Matrix:\n",
      "TN =  0.8914089347079038\n",
      "FN =  0.03711340206185567\n",
      "TP =  0.07147766323024055\n",
      "FP =  0.0\n",
      "\n",
      "For neighbor k=5\n",
      "F1: 0.82\n",
      "Confusion Matrix:\n",
      "TN =  0.8914089347079038\n",
      "FN =  0.03367697594501718\n",
      "TP =  0.07491408934707904\n",
      "FP =  0.0\n",
      "\n",
      "For neighbor k=6\n",
      "F1: 0.80\n",
      "Confusion Matrix:\n",
      "TN =  0.8914089347079038\n",
      "FN =  0.036426116838487975\n",
      "TP =  0.07216494845360824\n",
      "FP =  0.0\n",
      "\n",
      "For neighbor k=7\n",
      "F1: 0.82\n",
      "Confusion Matrix:\n",
      "TN =  0.8914089347079038\n",
      "FN =  0.03367697594501718\n",
      "TP =  0.07491408934707904\n",
      "FP =  0.0\n",
      "\n",
      "For neighbor k=8\n",
      "F1: 0.78\n",
      "Confusion Matrix:\n",
      "TN =  0.8914089347079038\n",
      "FN =  0.03917525773195876\n",
      "TP =  0.06941580756013746\n",
      "FP =  0.0\n",
      "\n",
      "For neighbor k=9\n",
      "F1: 0.80\n",
      "Confusion Matrix:\n",
      "TN =  0.8914089347079038\n",
      "FN =  0.03573883161512027\n",
      "TP =  0.07285223367697595\n",
      "FP =  0.0\n",
      "\n",
      "For neighbor k=10\n",
      "F1: 0.78\n",
      "Confusion Matrix:\n",
      "TN =  0.8914089347079038\n",
      "FN =  0.03986254295532646\n",
      "TP =  0.06872852233676977\n",
      "FP =  0.0\n",
      "\n"
     ]
    }
   ],
   "source": [
    "for k in range(1, 11):\n",
    "    y_pred = build_model(features_train_sc, target_train, features_valid_sc)\n",
    "    print('For neighbor k={}'.format(k))\n",
    "    eval_classifier(target_valid, y_pred)\n",
    "    print()"
   ]
  },
  {
   "cell_type": "markdown",
   "id": "cf29040c",
   "metadata": {},
   "source": [
    "## Conclusion:\n"
   ]
  },
  {
   "cell_type": "markdown",
   "id": "191cc9da",
   "metadata": {},
   "source": [
    "The difference between the scaled and unscaled data KNN is that the F1 in the scaled version sores to 90\\%"
   ]
  },
  {
   "cell_type": "markdown",
   "id": "ac0e3420",
   "metadata": {},
   "source": [
    "# Task 3: Regression (with Linear Regression)"
   ]
  },
  {
   "cell_type": "markdown",
   "id": "d91c25f6",
   "metadata": {},
   "source": [
    "## Build a Regression class"
   ]
  },
  {
   "cell_type": "code",
   "execution_count": 34,
   "id": "c270cca9",
   "metadata": {},
   "outputs": [],
   "source": [
    "class MyLinearRegression:\n",
    "    \n",
    "    def __init__(self):\n",
    "        \n",
    "        self.weights = None\n",
    "    \n",
    "    def fit(self, X, y):\n",
    "        \n",
    "        # adding the unities\n",
    "        X2 = np.append(np.ones([len(X), 1]), X, axis=1)\n",
    "        self.weights = np.linalg.inv(X2.T.dot(X2)).dot(X2.T).dot(y)\n",
    "\n",
    "    def predict(self, X):\n",
    "        \n",
    "        # adding the unities\n",
    "        X2 = np.append(np.ones([X.shape[0], 1]), X, axis=1)\n",
    "        y_pred = np.dot(X2, self.weights)\n",
    "        \n",
    "        return y_pred"
   ]
  },
  {
   "cell_type": "markdown",
   "id": "a62370ac",
   "metadata": {},
   "source": [
    "## Evaluate the Model"
   ]
  },
  {
   "cell_type": "code",
   "execution_count": 35,
   "id": "bd21ff30",
   "metadata": {},
   "outputs": [],
   "source": [
    "def eval_regressor(y_true, y_pred):\n",
    "    \n",
    "    rmse = math.sqrt(sklearn.metrics.mean_squared_error(y_true, y_pred))\n",
    "    print(f'RMSE: {rmse:.2f}')\n",
    "    \n",
    "    r2_score = math.sqrt(sklearn.metrics.r2_score(y_true, y_pred))\n",
    "    print(f'R2: {r2_score:.2f}')    "
   ]
  },
  {
   "cell_type": "markdown",
   "id": "519838fe",
   "metadata": {},
   "source": [
    "## Split the Unscaled Data"
   ]
  },
  {
   "cell_type": "code",
   "execution_count": 36,
   "id": "00c7f62f",
   "metadata": {},
   "outputs": [],
   "source": [
    "X = df[['age', 'gender', 'income', 'family_members']].to_numpy()\n",
    "y = df['insurance_benefits'].to_numpy()\n",
    "\n",
    "X_train, X_test, y_train, y_test = train_test_split(X, y, test_size=0.3, random_state=12345)"
   ]
  },
  {
   "cell_type": "markdown",
   "id": "ef9e578a",
   "metadata": {},
   "source": [
    "### Run the model"
   ]
  },
  {
   "cell_type": "code",
   "execution_count": 37,
   "id": "18f8dd51",
   "metadata": {},
   "outputs": [
    {
     "name": "stdout",
     "output_type": "stream",
     "text": [
      "[-9.77366729e-01  3.58042291e-02  1.95594888e-02  5.85336165e-07\n",
      " -1.21618420e-02]\n",
      "RMSE: 0.36\n",
      "R2: 0.66\n"
     ]
    }
   ],
   "source": [
    "lr = MyLinearRegression()\n",
    "\n",
    "lr.fit(X_train, y_train)\n",
    "print(lr.weights)\n",
    "\n",
    "y_test_pred = lr.predict(X_test)\n",
    "eval_regressor(y_test, y_test_pred)"
   ]
  },
  {
   "cell_type": "markdown",
   "id": "36f780a7",
   "metadata": {},
   "source": [
    "## Split the Scaled Data"
   ]
  },
  {
   "cell_type": "code",
   "execution_count": 38,
   "id": "d165232e",
   "metadata": {},
   "outputs": [],
   "source": [
    "X = df[['age', 'gender', 'income', 'family_members']].to_numpy()\n",
    "y = df['insurance_benefits'].to_numpy()\n",
    "\n",
    "scaler = sklearn.preprocessing.MaxAbsScaler()\n",
    "\n",
    "normalized_train = pd.DataFrame(\n",
    "    scaler.fit_transform(X)\n",
    ")\n",
    "\n",
    "\n",
    "\n",
    "X_train_sc, X_test_sc, y_train, y_test = train_test_split(X, y, test_size=0.3, random_state=12345)"
   ]
  },
  {
   "cell_type": "markdown",
   "id": "b01d3d27",
   "metadata": {},
   "source": [
    "### Run the Model"
   ]
  },
  {
   "cell_type": "code",
   "execution_count": 39,
   "id": "8f525fc4",
   "metadata": {},
   "outputs": [
    {
     "name": "stdout",
     "output_type": "stream",
     "text": [
      "[-9.77366729e-01  3.58042291e-02  1.95594888e-02  5.85336165e-07\n",
      " -1.21618420e-02]\n",
      "RMSE: 0.36\n",
      "R2: 0.66\n"
     ]
    }
   ],
   "source": [
    "lr_sc = MyLinearRegression()\n",
    "\n",
    "lr_sc.fit(X_train_sc, y_train)\n",
    "print(lr.weights)\n",
    "\n",
    "y_test_pred = lr_sc.predict(X_test_sc)\n",
    "eval_regressor(y_test, y_test_pred)"
   ]
  },
  {
   "cell_type": "markdown",
   "id": "04338410",
   "metadata": {},
   "source": [
    "# Task 4: Obfuscating Data"
   ]
  },
  {
   "cell_type": "code",
   "execution_count": 40,
   "id": "93878604",
   "metadata": {},
   "outputs": [
    {
     "data": {
      "text/html": [
       "<div>\n",
       "<style scoped>\n",
       "    .dataframe tbody tr th:only-of-type {\n",
       "        vertical-align: middle;\n",
       "    }\n",
       "\n",
       "    .dataframe tbody tr th {\n",
       "        vertical-align: top;\n",
       "    }\n",
       "\n",
       "    .dataframe thead th {\n",
       "        text-align: right;\n",
       "    }\n",
       "</style>\n",
       "<table border=\"1\" class=\"dataframe\">\n",
       "  <thead>\n",
       "    <tr style=\"text-align: right;\">\n",
       "      <th></th>\n",
       "      <th>gender</th>\n",
       "      <th>age</th>\n",
       "      <th>income</th>\n",
       "      <th>family_members</th>\n",
       "    </tr>\n",
       "  </thead>\n",
       "  <tbody>\n",
       "    <tr>\n",
       "      <th>0</th>\n",
       "      <td>1</td>\n",
       "      <td>41</td>\n",
       "      <td>49600.0</td>\n",
       "      <td>1</td>\n",
       "    </tr>\n",
       "    <tr>\n",
       "      <th>1</th>\n",
       "      <td>0</td>\n",
       "      <td>46</td>\n",
       "      <td>38000.0</td>\n",
       "      <td>1</td>\n",
       "    </tr>\n",
       "    <tr>\n",
       "      <th>2</th>\n",
       "      <td>0</td>\n",
       "      <td>29</td>\n",
       "      <td>21000.0</td>\n",
       "      <td>0</td>\n",
       "    </tr>\n",
       "    <tr>\n",
       "      <th>3</th>\n",
       "      <td>0</td>\n",
       "      <td>21</td>\n",
       "      <td>41700.0</td>\n",
       "      <td>2</td>\n",
       "    </tr>\n",
       "    <tr>\n",
       "      <th>4</th>\n",
       "      <td>1</td>\n",
       "      <td>28</td>\n",
       "      <td>26100.0</td>\n",
       "      <td>0</td>\n",
       "    </tr>\n",
       "  </tbody>\n",
       "</table>\n",
       "</div>"
      ],
      "text/plain": [
       "   gender  age   income  family_members\n",
       "0       1   41  49600.0               1\n",
       "1       0   46  38000.0               1\n",
       "2       0   29  21000.0               0\n",
       "3       0   21  41700.0               2\n",
       "4       1   28  26100.0               0"
      ]
     },
     "execution_count": 40,
     "metadata": {},
     "output_type": "execute_result"
    }
   ],
   "source": [
    "personal_info_column_list = ['gender', 'age', 'income', 'family_members']\n",
    "df_pn = df[personal_info_column_list]\n",
    "df_pn.head(5)"
   ]
  },
  {
   "cell_type": "code",
   "execution_count": 41,
   "id": "b2403090",
   "metadata": {},
   "outputs": [
    {
     "data": {
      "text/plain": [
       "(4847, 4)"
      ]
     },
     "execution_count": 41,
     "metadata": {},
     "output_type": "execute_result"
    }
   ],
   "source": [
    "X = df_pn.to_numpy()\n",
    "X.shape"
   ]
  },
  {
   "cell_type": "markdown",
   "id": "85cf012b",
   "metadata": {},
   "source": [
    "## Create a Random Matrix, P"
   ]
  },
  {
   "cell_type": "code",
   "execution_count": 42,
   "id": "8ca0857a",
   "metadata": {},
   "outputs": [
    {
     "data": {
      "text/plain": [
       "array([[0.77395605, 0.43887844, 0.85859792, 0.69736803],\n",
       "       [0.09417735, 0.97562235, 0.7611397 , 0.78606431],\n",
       "       [0.12811363, 0.45038594, 0.37079802, 0.92676499],\n",
       "       [0.64386512, 0.82276161, 0.4434142 , 0.22723872]])"
      ]
     },
     "execution_count": 42,
     "metadata": {},
     "output_type": "execute_result"
    }
   ],
   "source": [
    "rng = np.random.default_rng(seed=42)\n",
    "P = rng.random(size=(X.shape[1], X.shape[1]))\n",
    "P"
   ]
  },
  {
   "cell_type": "markdown",
   "id": "0b0b41d3",
   "metadata": {},
   "source": [
    "## Check if P is Invertable"
   ]
  },
  {
   "cell_type": "code",
   "execution_count": 43,
   "id": "a647877d",
   "metadata": {},
   "outputs": [
    {
     "data": {
      "text/plain": [
       "array([[ 1.00000000e+00, -5.55111512e-17, -2.22044605e-16,\n",
       "         0.00000000e+00],\n",
       "       [ 0.00000000e+00,  1.00000000e+00,  0.00000000e+00,\n",
       "         0.00000000e+00],\n",
       "       [ 0.00000000e+00, -1.11022302e-16,  1.00000000e+00,\n",
       "         5.55111512e-17],\n",
       "       [ 1.11022302e-16, -3.05311332e-16, -2.22044605e-16,\n",
       "         1.00000000e+00]])"
      ]
     },
     "execution_count": 43,
     "metadata": {},
     "output_type": "execute_result"
    }
   ],
   "source": [
    "np.dot(P, np.linalg.inv(P))"
   ]
  },
  {
   "cell_type": "markdown",
   "id": "c37a993b",
   "metadata": {},
   "source": [
    "## Two arrays are element-wise equal within a tolerance"
   ]
  },
  {
   "cell_type": "code",
   "execution_count": 44,
   "id": "30c97052",
   "metadata": {},
   "outputs": [
    {
     "data": {
      "text/plain": [
       "True"
      ]
     },
     "execution_count": 44,
     "metadata": {},
     "output_type": "execute_result"
    }
   ],
   "source": [
    "np.allclose(np.dot(P, np.linalg.inv(P)), np.dot(np.linalg.inv(P), P))"
   ]
  },
  {
   "cell_type": "markdown",
   "id": "b8614dee",
   "metadata": {},
   "source": [
    "## Transformed DF"
   ]
  },
  {
   "cell_type": "code",
   "execution_count": 45,
   "id": "03715a22",
   "metadata": {},
   "outputs": [
    {
     "data": {
      "text/html": [
       "<div>\n",
       "<style scoped>\n",
       "    .dataframe tbody tr th:only-of-type {\n",
       "        vertical-align: middle;\n",
       "    }\n",
       "\n",
       "    .dataframe tbody tr th {\n",
       "        vertical-align: top;\n",
       "    }\n",
       "\n",
       "    .dataframe thead th {\n",
       "        text-align: right;\n",
       "    }\n",
       "</style>\n",
       "<table border=\"1\" class=\"dataframe\">\n",
       "  <thead>\n",
       "    <tr style=\"text-align: right;\">\n",
       "      <th></th>\n",
       "      <th>gender</th>\n",
       "      <th>age</th>\n",
       "      <th>income</th>\n",
       "      <th>family_members</th>\n",
       "    </tr>\n",
       "  </thead>\n",
       "  <tbody>\n",
       "    <tr>\n",
       "      <th>0</th>\n",
       "      <td>6359.715273</td>\n",
       "      <td>22380.404676</td>\n",
       "      <td>18424.090742</td>\n",
       "      <td>46000.696690</td>\n",
       "    </tr>\n",
       "    <tr>\n",
       "      <th>1</th>\n",
       "      <td>4873.294065</td>\n",
       "      <td>17160.367030</td>\n",
       "      <td>14125.780761</td>\n",
       "      <td>35253.455773</td>\n",
       "    </tr>\n",
       "    <tr>\n",
       "      <th>2</th>\n",
       "      <td>2693.117429</td>\n",
       "      <td>9486.397744</td>\n",
       "      <td>7808.831560</td>\n",
       "      <td>19484.860631</td>\n",
       "    </tr>\n",
       "    <tr>\n",
       "      <th>3</th>\n",
       "      <td>5345.603937</td>\n",
       "      <td>18803.227203</td>\n",
       "      <td>15479.148373</td>\n",
       "      <td>38663.061863</td>\n",
       "    </tr>\n",
       "    <tr>\n",
       "      <th>4</th>\n",
       "      <td>3347.176735</td>\n",
       "      <td>11782.829283</td>\n",
       "      <td>9699.998942</td>\n",
       "      <td>24211.273378</td>\n",
       "    </tr>\n",
       "  </tbody>\n",
       "</table>\n",
       "</div>"
      ],
      "text/plain": [
       "        gender           age        income  family_members\n",
       "0  6359.715273  22380.404676  18424.090742    46000.696690\n",
       "1  4873.294065  17160.367030  14125.780761    35253.455773\n",
       "2  2693.117429   9486.397744   7808.831560    19484.860631\n",
       "3  5345.603937  18803.227203  15479.148373    38663.061863\n",
       "4  3347.176735  11782.829283   9699.998942    24211.273378"
      ]
     },
     "execution_count": 45,
     "metadata": {},
     "output_type": "execute_result"
    }
   ],
   "source": [
    "pd.DataFrame(np.dot(X, P), columns=feature_names).head()"
   ]
  },
  {
   "cell_type": "markdown",
   "id": "d8604ad9",
   "metadata": {},
   "source": [
    "## Recreate the DF from the np.dot of P with the DF"
   ]
  },
  {
   "cell_type": "code",
   "execution_count": 46,
   "id": "292ebe39",
   "metadata": {},
   "outputs": [
    {
     "data": {
      "text/html": [
       "<div>\n",
       "<style scoped>\n",
       "    .dataframe tbody tr th:only-of-type {\n",
       "        vertical-align: middle;\n",
       "    }\n",
       "\n",
       "    .dataframe tbody tr th {\n",
       "        vertical-align: top;\n",
       "    }\n",
       "\n",
       "    .dataframe thead th {\n",
       "        text-align: right;\n",
       "    }\n",
       "</style>\n",
       "<table border=\"1\" class=\"dataframe\">\n",
       "  <thead>\n",
       "    <tr style=\"text-align: right;\">\n",
       "      <th></th>\n",
       "      <th>gender</th>\n",
       "      <th>age</th>\n",
       "      <th>income</th>\n",
       "      <th>family_members</th>\n",
       "    </tr>\n",
       "  </thead>\n",
       "  <tbody>\n",
       "    <tr>\n",
       "      <th>0</th>\n",
       "      <td>1.000000e+00</td>\n",
       "      <td>41.0</td>\n",
       "      <td>49600.0</td>\n",
       "      <td>1.000000e+00</td>\n",
       "    </tr>\n",
       "    <tr>\n",
       "      <th>1</th>\n",
       "      <td>1.110223e-16</td>\n",
       "      <td>46.0</td>\n",
       "      <td>38000.0</td>\n",
       "      <td>1.000000e+00</td>\n",
       "    </tr>\n",
       "    <tr>\n",
       "      <th>2</th>\n",
       "      <td>0.000000e+00</td>\n",
       "      <td>29.0</td>\n",
       "      <td>21000.0</td>\n",
       "      <td>1.165734e-12</td>\n",
       "    </tr>\n",
       "    <tr>\n",
       "      <th>3</th>\n",
       "      <td>2.220446e-16</td>\n",
       "      <td>21.0</td>\n",
       "      <td>41700.0</td>\n",
       "      <td>2.000000e+00</td>\n",
       "    </tr>\n",
       "    <tr>\n",
       "      <th>4</th>\n",
       "      <td>1.000000e+00</td>\n",
       "      <td>28.0</td>\n",
       "      <td>26100.0</td>\n",
       "      <td>1.448841e-12</td>\n",
       "    </tr>\n",
       "  </tbody>\n",
       "</table>\n",
       "</div>"
      ],
      "text/plain": [
       "         gender   age   income  family_members\n",
       "0  1.000000e+00  41.0  49600.0    1.000000e+00\n",
       "1  1.110223e-16  46.0  38000.0    1.000000e+00\n",
       "2  0.000000e+00  29.0  21000.0    1.165734e-12\n",
       "3  2.220446e-16  21.0  41700.0    2.000000e+00\n",
       "4  1.000000e+00  28.0  26100.0    1.448841e-12"
      ]
     },
     "execution_count": 46,
     "metadata": {},
     "output_type": "execute_result"
    }
   ],
   "source": [
    "pd.DataFrame(np.dot(X, np.dot(P, np.linalg.inv(P))), columns=feature_names).head()"
   ]
  },
  {
   "cell_type": "markdown",
   "id": "9ce1b77b",
   "metadata": {},
   "source": [
    "## Original data"
   ]
  },
  {
   "cell_type": "code",
   "execution_count": 47,
   "id": "2a537b9c",
   "metadata": {},
   "outputs": [
    {
     "data": {
      "text/html": [
       "<div>\n",
       "<style scoped>\n",
       "    .dataframe tbody tr th:only-of-type {\n",
       "        vertical-align: middle;\n",
       "    }\n",
       "\n",
       "    .dataframe tbody tr th {\n",
       "        vertical-align: top;\n",
       "    }\n",
       "\n",
       "    .dataframe thead th {\n",
       "        text-align: right;\n",
       "    }\n",
       "</style>\n",
       "<table border=\"1\" class=\"dataframe\">\n",
       "  <thead>\n",
       "    <tr style=\"text-align: right;\">\n",
       "      <th></th>\n",
       "      <th>gender</th>\n",
       "      <th>age</th>\n",
       "      <th>income</th>\n",
       "      <th>family_members</th>\n",
       "    </tr>\n",
       "  </thead>\n",
       "  <tbody>\n",
       "    <tr>\n",
       "      <th>0</th>\n",
       "      <td>1.0</td>\n",
       "      <td>41.0</td>\n",
       "      <td>49600.0</td>\n",
       "      <td>1.0</td>\n",
       "    </tr>\n",
       "    <tr>\n",
       "      <th>1</th>\n",
       "      <td>0.0</td>\n",
       "      <td>46.0</td>\n",
       "      <td>38000.0</td>\n",
       "      <td>1.0</td>\n",
       "    </tr>\n",
       "    <tr>\n",
       "      <th>2</th>\n",
       "      <td>0.0</td>\n",
       "      <td>29.0</td>\n",
       "      <td>21000.0</td>\n",
       "      <td>0.0</td>\n",
       "    </tr>\n",
       "    <tr>\n",
       "      <th>3</th>\n",
       "      <td>0.0</td>\n",
       "      <td>21.0</td>\n",
       "      <td>41700.0</td>\n",
       "      <td>2.0</td>\n",
       "    </tr>\n",
       "    <tr>\n",
       "      <th>4</th>\n",
       "      <td>1.0</td>\n",
       "      <td>28.0</td>\n",
       "      <td>26100.0</td>\n",
       "      <td>0.0</td>\n",
       "    </tr>\n",
       "  </tbody>\n",
       "</table>\n",
       "</div>"
      ],
      "text/plain": [
       "   gender   age   income  family_members\n",
       "0     1.0  41.0  49600.0             1.0\n",
       "1     0.0  46.0  38000.0             1.0\n",
       "2     0.0  29.0  21000.0             0.0\n",
       "3     0.0  21.0  41700.0             2.0\n",
       "4     1.0  28.0  26100.0             0.0"
      ]
     },
     "execution_count": 47,
     "metadata": {},
     "output_type": "execute_result"
    }
   ],
   "source": [
    "pd.DataFrame(X, columns=feature_names).head()"
   ]
  },
  {
   "cell_type": "markdown",
   "id": "16212cf2",
   "metadata": {},
   "source": [
    "## Proof That Data Obfuscation Can Work with LR"
   ]
  },
  {
   "cell_type": "markdown",
   "id": "c97db0e6",
   "metadata": {},
   "source": [
    "source: https://stats.stackexchange.com/questions/490075/proving-that-the-hat-matrix-is-unchanged-even-when-the-predictors-are-multiplied\n",
    "\n",
    "Given $\\tilde{X} = XP$ for $P$ an invertible matrix, \n",
    "\n",
    "and \n",
    "\n",
    "Given that $(AB)^{-1}=B^{-1}A^{-1}$ and $(AB)^T=B^T A^T$,\n",
    "\n",
    "and \n",
    "\n",
    "Given the multivariate regression equation:\n",
    "\n",
    "$$\\begin{align}\n",
    "{\\beta}(\\tilde{X}) &= (\\tilde{X}^T \\tilde{X})^{-1}\\tilde{X}^T y \\\\\n",
    "&= (P^TX^TXP)^{-1}P^TX^T y \\\\\n",
    "&= P^{-1}(X^TX)^{-1}P^{-T}P^TX^T y \\\\\n",
    "&= P^{-1}(X^TX)^{-1}(PP^{-1})^TX^T y \\\\\n",
    "&= P^{-1}(X^TX)^{-1}X^T y \\\\\n",
    "&= P^{-1}\\beta(X)\n",
    "\\end{align}$$\n",
    "\n",
    "This shows that the only difference in the coefficients compared to the usual case is a multiple factor of $P^{-1}$.\n",
    "\n",
    "However, looking solely at the residuals (which measure how far the model's predictions are from the true values), we see that the $P^{-1}$ factor must cancel out:\n",
    "\n",
    "$$\\begin{align}\n",
    "y - X\\beta(X) &= y - X\\beta(X) \\\\\n",
    "&= y - XPP^{-1}\\beta(X) \\\\\n",
    " &= y - \\tilde{X}\\beta(\\tilde{X}) \\\\\n",
    "\\end{align}\n",
    "$$\n"
   ]
  },
  {
   "cell_type": "code",
   "execution_count": 48,
   "id": "824556db",
   "metadata": {
    "scrolled": true
   },
   "outputs": [
    {
     "data": {
      "text/html": [
       "<div>\n",
       "<style scoped>\n",
       "    .dataframe tbody tr th:only-of-type {\n",
       "        vertical-align: middle;\n",
       "    }\n",
       "\n",
       "    .dataframe tbody tr th {\n",
       "        vertical-align: top;\n",
       "    }\n",
       "\n",
       "    .dataframe thead th {\n",
       "        text-align: right;\n",
       "    }\n",
       "</style>\n",
       "<table border=\"1\" class=\"dataframe\">\n",
       "  <thead>\n",
       "    <tr style=\"text-align: right;\">\n",
       "      <th></th>\n",
       "      <th>gender</th>\n",
       "      <th>age</th>\n",
       "      <th>income</th>\n",
       "      <th>family_members</th>\n",
       "    </tr>\n",
       "  </thead>\n",
       "  <tbody>\n",
       "    <tr>\n",
       "      <th>0</th>\n",
       "      <td>1.000000e+00</td>\n",
       "      <td>41.0</td>\n",
       "      <td>49600.0</td>\n",
       "      <td>1.000000e+00</td>\n",
       "    </tr>\n",
       "    <tr>\n",
       "      <th>1</th>\n",
       "      <td>1.110223e-16</td>\n",
       "      <td>46.0</td>\n",
       "      <td>38000.0</td>\n",
       "      <td>1.000000e+00</td>\n",
       "    </tr>\n",
       "    <tr>\n",
       "      <th>2</th>\n",
       "      <td>0.000000e+00</td>\n",
       "      <td>29.0</td>\n",
       "      <td>21000.0</td>\n",
       "      <td>1.165734e-12</td>\n",
       "    </tr>\n",
       "    <tr>\n",
       "      <th>3</th>\n",
       "      <td>2.220446e-16</td>\n",
       "      <td>21.0</td>\n",
       "      <td>41700.0</td>\n",
       "      <td>2.000000e+00</td>\n",
       "    </tr>\n",
       "    <tr>\n",
       "      <th>4</th>\n",
       "      <td>1.000000e+00</td>\n",
       "      <td>28.0</td>\n",
       "      <td>26100.0</td>\n",
       "      <td>1.448841e-12</td>\n",
       "    </tr>\n",
       "  </tbody>\n",
       "</table>\n",
       "</div>"
      ],
      "text/plain": [
       "         gender   age   income  family_members\n",
       "0  1.000000e+00  41.0  49600.0    1.000000e+00\n",
       "1  1.110223e-16  46.0  38000.0    1.000000e+00\n",
       "2  0.000000e+00  29.0  21000.0    1.165734e-12\n",
       "3  2.220446e-16  21.0  41700.0    2.000000e+00\n",
       "4  1.000000e+00  28.0  26100.0    1.448841e-12"
      ]
     },
     "execution_count": 48,
     "metadata": {},
     "output_type": "execute_result"
    }
   ],
   "source": [
    "pd.DataFrame(np.dot(X, np.dot(P, np.linalg.inv(P))), columns=feature_names).head()"
   ]
  },
  {
   "cell_type": "code",
   "execution_count": null,
   "id": "4fe4a4a8",
   "metadata": {},
   "outputs": [],
   "source": []
  },
  {
   "cell_type": "markdown",
   "id": "41d1a5c9",
   "metadata": {},
   "source": [
    "## Test Linear Regression With Data Obfuscation"
   ]
  },
  {
   "cell_type": "markdown",
   "id": "fdad255c",
   "metadata": {},
   "source": [
    "Now, let's prove Linear Regression can work computationally with the chosen obfuscation transformation.\n",
    "\n",
    "Build a procedure or a class that runs Linear Regression optionally with the obfuscation. You can use either a ready implementation of Linear Regression from sciki-learn or your own.\n",
    "\n",
    "Run Linear Regression for the original data and the obfuscated one, compare the predicted values and the RMSE, $R^2$ metric values. Is there any difference?\n",
    "\n",
    "**Procedure**\n",
    "\n",
    "- Create a square matrix $P$ of random numbers.\n",
    "- Check that it is invertible. If not, repeat the first point until we get an invertible matrix.\n",
    "- <! your comment here !>\n",
    "- Use $XP$ as the new feature matrix"
   ]
  },
  {
   "cell_type": "markdown",
   "id": "6b0f678a",
   "metadata": {},
   "source": [
    "### Generate the Matrix and Check for invertability"
   ]
  },
  {
   "cell_type": "code",
   "execution_count": 49,
   "id": "b4f15f92",
   "metadata": {},
   "outputs": [],
   "source": [
    "def generate_square_matrix(num_features, seed=42):\n",
    "    \"\"\"\n",
    "    Generate a square matrix from a uniform distribution\n",
    "    \"\"\"\n",
    "    rng = np.random.default_rng(seed=seed)\n",
    "    return rng.random(size=(num_features, num_features))"
   ]
  },
  {
   "cell_type": "code",
   "execution_count": 50,
   "id": "3b988ab2",
   "metadata": {},
   "outputs": [],
   "source": [
    "P = generate_square_matrix(4, seed=1234)"
   ]
  },
  {
   "cell_type": "code",
   "execution_count": 51,
   "id": "8e6176da",
   "metadata": {},
   "outputs": [],
   "source": [
    "def is_invertible(P):\n",
    "    \"\"\"\n",
    "    Check if P is invertible or not\n",
    "    \"\"\"\n",
    "    return np.allclose(np.dot(P, np.linalg.inv(P)), np.dot(np.linalg.inv(P), P))"
   ]
  },
  {
   "cell_type": "markdown",
   "id": "0df3722a",
   "metadata": {},
   "source": [
    "### Linear Regression with Obfuscated Data"
   ]
  },
  {
   "cell_type": "code",
   "execution_count": 52,
   "id": "f54700e2",
   "metadata": {},
   "outputs": [
    {
     "name": "stdout",
     "output_type": "stream",
     "text": [
      "[-0.97736802 -0.0861312  -0.09935778  0.1509952   0.06992258]\n",
      "RMSE: 0.36\n",
      "R2: 0.66\n"
     ]
    }
   ],
   "source": [
    "X = df[['age', 'gender', 'income', 'family_members']].to_numpy()\n",
    "y = df['insurance_benefits'].to_numpy()\n",
    "\n",
    "X_train, X_test, y_train, y_test = train_test_split(np.dot(X, P), y, test_size=0.3, random_state=12345)\n",
    "\n",
    "lr = MyLinearRegression()\n",
    "\n",
    "lr.fit(X_train, y_train)\n",
    "print(lr.weights)\n",
    "\n",
    "y_test_pred = lr.predict(X_test)\n",
    "eval_regressor(y_test, y_test_pred)"
   ]
  },
  {
   "cell_type": "markdown",
   "id": "aec3007e",
   "metadata": {},
   "source": [
    "### Linear Regression with Scaled and Obfuscated Data"
   ]
  },
  {
   "cell_type": "code",
   "execution_count": 53,
   "id": "af96b447",
   "metadata": {},
   "outputs": [
    {
     "name": "stdout",
     "output_type": "stream",
     "text": [
      "[-0.97736673  0.36150371 -1.23349037  3.3150945  -2.35958849]\n",
      "RMSE: 0.36\n",
      "R2: 0.66\n"
     ]
    }
   ],
   "source": [
    "X = df_scaled[['age', 'gender', 'income', 'family_members']].to_numpy()\n",
    "y = df_scaled['insurance_benefits'].to_numpy()\n",
    "\n",
    "X_train, X_test, y_train, y_test = train_test_split(np.dot(X, P), y, test_size=0.3, random_state=12345)\n",
    "\n",
    "lr = MyLinearRegression()\n",
    "\n",
    "lr.fit(X_train, y_train)\n",
    "print(lr.weights)\n",
    "\n",
    "y_test_pred = lr.predict(X_test)\n",
    "eval_regressor(y_test, y_test_pred)"
   ]
  },
  {
   "cell_type": "markdown",
   "id": "33d37e27",
   "metadata": {},
   "source": [
    "#### Conclusion:\n",
    "The results show that even after obfuscating the data, the RMSE and R2 score from the Linear Regression model are identical; this is independent of whether the data is scaled or not."
   ]
  },
  {
   "cell_type": "markdown",
   "id": "a65f9cf0",
   "metadata": {},
   "source": [
    "Final Remarks:\n",
    "\n",
    "    - We used KNearestNeighbhors to find the a customer close to a given customer; the solution was improved with scaling and the Euclidean distance. \n",
    "\n",
    "    - We have also built models to help the marketing team predict whether a customer will likely receive insurance benefits. And, the resulting model with scaled data, performed very well compared to a dummy model. The resulting model produced had an F1 score of 92% on the validation set. \n",
    "\n",
    "    - We have also built a LinearRegression model on both scaled and unscaled data, to predict the number of insurance benefits a new customer would receive; the model produced a moderately high R2 score 66%. What we have observed is that scaling didn't impact the results. \n",
    "\n",
    "    - We obfuscated the data, and showed analytically that there is no difference between the obfuscated data and the original data.\n",
    "\n",
    "    - We also proved this computationally, by building a LinearRegression model using the obfuscated data, and the resulting RMSE and R2 scores were identical to that obtained with modeling the original data."
   ]
  }
 ],
 "metadata": {
  "kernelspec": {
   "display_name": "Python 3 (ipykernel)",
   "language": "python",
   "name": "python3"
  },
  "language_info": {
   "codemirror_mode": {
    "name": "ipython",
    "version": 3
   },
   "file_extension": ".py",
   "mimetype": "text/x-python",
   "name": "python",
   "nbconvert_exporter": "python",
   "pygments_lexer": "ipython3",
   "version": "3.9.7"
  },
  "toc": {
   "base_numbering": 1,
   "nav_menu": {},
   "number_sections": true,
   "sideBar": true,
   "skip_h1_title": false,
   "title_cell": "Table of Contents",
   "title_sidebar": "Contents",
   "toc_cell": false,
   "toc_position": {
    "height": "calc(100% - 180px)",
    "left": "10px",
    "top": "150px",
    "width": "328.45587158203125px"
   },
   "toc_section_display": true,
   "toc_window_display": true
  }
 },
 "nbformat": 4,
 "nbformat_minor": 5
}
