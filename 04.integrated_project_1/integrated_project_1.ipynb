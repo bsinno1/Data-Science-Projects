{
 "cells": [
  {
   "cell_type": "code",
   "execution_count": null,
   "id": "f09eff0b",
   "metadata": {},
   "outputs": [
    {
     "name": "stdout",
     "output_type": "stream",
     "text": [
      "Requirement already satisfied: pingouin in /Users/Rhea/opt/anaconda3/lib/python3.9/site-packages (0.5.1)\n",
      "Requirement already satisfied: seaborn>=0.11 in /Users/Rhea/opt/anaconda3/lib/python3.9/site-packages (from pingouin) (0.11.2)\n",
      "Requirement already satisfied: matplotlib>=3.0.2 in /Users/Rhea/opt/anaconda3/lib/python3.9/site-packages (from pingouin) (3.5.1)\n",
      "Requirement already satisfied: tabulate in /Users/Rhea/opt/anaconda3/lib/python3.9/site-packages (from pingouin) (0.8.9)\n",
      "Requirement already satisfied: outdated in /Users/Rhea/opt/anaconda3/lib/python3.9/site-packages (from pingouin) (0.2.1)\n",
      "Requirement already satisfied: pandas-flavor>=0.2.0 in /Users/Rhea/opt/anaconda3/lib/python3.9/site-packages (from pingouin) (0.2.0)\n",
      "Requirement already satisfied: scikit-learn in /Users/Rhea/opt/anaconda3/lib/python3.9/site-packages (from pingouin) (1.1.1)\n",
      "Requirement already satisfied: numpy>=1.19 in /Users/Rhea/opt/anaconda3/lib/python3.9/site-packages (from pingouin) (1.19.2)\n",
      "Requirement already satisfied: pandas>=1.0 in /Users/Rhea/opt/anaconda3/lib/python3.9/site-packages (from pingouin) (1.4.2)\n",
      "Collecting scipy>=1.7\n",
      "  Downloading scipy-1.10.0-cp39-cp39-macosx_10_15_x86_64.whl (35.2 MB)\n",
      "\u001b[2K     \u001b[91m━━━━━━━━━\u001b[0m\u001b[90m╺\u001b[0m\u001b[90m━━━━━━━━━━━━━━━━━━━━━━━━━━━━━━\u001b[0m \u001b[32m8.3/35.2 MB\u001b[0m \u001b[31m95.8 kB/s\u001b[0m eta \u001b[36m0:04:41\u001b[0mm"
     ]
    }
   ],
   "source": [
    "import pandas as pd\n",
    "import datetime\n",
    "import numpy as np\n",
    "from scipy import stats as st\n",
    "from scipy.stats import levene\n",
    "import pylab as pl\n",
    "from statsmodels.formula.api import ols\n",
    "import math\n",
    "#%pip install plotly\n",
    "import plotly.express as px\n",
    "import plotly.graph_objects as go\n",
    "import seaborn as sns\n",
    "import matplotlib.pyplot as plt\n",
    "from plotly.subplots import make_subplots\n",
    "from scipy.stats import ttest_1samp\n",
    "from scipy.stats import ttest_ind\n",
    "%pip install pingouin\n",
    "import pingouin as pg\n",
    "\n",
    "try:\n",
    "    games = pd.read_csv('games.csv')\n",
    "except:\n",
    "    plan = pd.read_csv('/datasets/games.csv')\n",
    "    "
   ]
  },
  {
   "cell_type": "markdown",
   "id": "bd360ba6",
   "metadata": {},
   "source": [
    "# Task\n",
    "In this dataset, we are asked to review game platforms based on their sales to say something meaningful about the platform and games market\n",
    "## Dataset\n",
    "The dataset includes games on various platforms, some still in existence and others dead.  We have various years of releases of games.  We also have games that appear on different platforms.\n",
    "## Steps\n",
    "1- I start by inspecting the data, droping and replacing NaNs as needed, checking for dulicates and change data type as needed.\n",
    "\n",
    "2- I then consult the distribution of each variable.\n",
    "\n",
    "3- Based on the above, I slice the dataset to keep only those platforms that have greatest sales and are still in existence.\n",
    "\n",
    "4- Then, I create a trend chart to examine the evolution of sales by platform over time.\n",
    "\n",
    "5- I examine the correlation and the causation of reviews on sales.\n",
    "\n",
    "6- Next, I extract from this dataframe those repeat games to examine their distibtuion by platform over time.\n",
    "\n",
    "7- I examine the distribution of genre over time and by platform.\n",
    "\n",
    "8- Then I try to understand the behavior of sales by region.  To do so, I create pie charts and barplots.\n",
    "\n",
    "9- I follow this by examing the influence of ESRB rating on sales by region.\n",
    "\n",
    "10- I conduct hypothesis testing to examine rating on platform and genre.\n",
    "\n",
    "11- I conclude."
   ]
  },
  {
   "cell_type": "markdown",
   "id": "80c4870b",
   "metadata": {},
   "source": [
    "# Prepare the data"
   ]
  },
  {
   "cell_type": "markdown",
   "id": "da13c325",
   "metadata": {},
   "source": [
    "## Inspect"
   ]
  },
  {
   "cell_type": "code",
   "execution_count": null,
   "id": "7dbbc745",
   "metadata": {
    "scrolled": true
   },
   "outputs": [],
   "source": [
    "games.head()"
   ]
  },
  {
   "cell_type": "code",
   "execution_count": null,
   "id": "f279861a",
   "metadata": {},
   "outputs": [],
   "source": [
    "games.info()"
   ]
  },
  {
   "cell_type": "markdown",
   "id": "1f94d9af",
   "metadata": {},
   "source": [
    "### Conclusion:\n",
    "We have 16,715 observations and 13 variables in total."
   ]
  },
  {
   "cell_type": "markdown",
   "id": "26553acc",
   "metadata": {},
   "source": [
    "## Duplicates"
   ]
  },
  {
   "cell_type": "code",
   "execution_count": null,
   "id": "45bf0fd3",
   "metadata": {},
   "outputs": [],
   "source": [
    "games.duplicated().sum()"
   ]
  },
  {
   "cell_type": "markdown",
   "id": "a518e399",
   "metadata": {},
   "source": [
    "### Conclusion:\n",
    "There are 0 duplicates."
   ]
  },
  {
   "cell_type": "markdown",
   "id": "034de4e5",
   "metadata": {},
   "source": [
    "## Lower caps in column names"
   ]
  },
  {
   "cell_type": "code",
   "execution_count": null,
   "id": "0776c7e3",
   "metadata": {},
   "outputs": [],
   "source": [
    "games= games.rename(columns=str.lower)"
   ]
  },
  {
   "cell_type": "markdown",
   "id": "966699a2",
   "metadata": {},
   "source": [
    "## Missing values"
   ]
  },
  {
   "cell_type": "code",
   "execution_count": null,
   "id": "a449fce5",
   "metadata": {},
   "outputs": [],
   "source": [
    "(games.isnull().sum() / games.shape[0] * 100).round(2)"
   ]
  },
  {
   "cell_type": "markdown",
   "id": "ef980d7d",
   "metadata": {},
   "source": [
    "### Conclusion:\n",
    "We have 2 missing names, 269 missing years, 2 missing genre, 8578 or 51\\% missing critic score, 6701 or 40\\% missing user score and 6766 or 40\\% missing rating.  Since the percentage of missing values for name and year of release is so slim, I will drop them.  Predict year and name is going to be controversial anyway."
   ]
  },
  {
   "cell_type": "markdown",
   "id": "fba42d7d",
   "metadata": {},
   "source": [
    "### Dropping some data"
   ]
  },
  {
   "cell_type": "code",
   "execution_count": null,
   "id": "d994c8f0",
   "metadata": {},
   "outputs": [],
   "source": [
    "games.dropna(subset=['name'], inplace=True)"
   ]
  },
  {
   "cell_type": "code",
   "execution_count": null,
   "id": "a727f864",
   "metadata": {},
   "outputs": [],
   "source": [
    "games.dropna(subset=['year_of_release'], inplace=True)"
   ]
  },
  {
   "cell_type": "markdown",
   "id": "8a309da7",
   "metadata": {},
   "source": [
    "### Change type"
   ]
  },
  {
   "cell_type": "code",
   "execution_count": null,
   "id": "986327a7",
   "metadata": {},
   "outputs": [],
   "source": [
    "games['year_of_release'] = games['year_of_release'].astype('int')"
   ]
  },
  {
   "cell_type": "markdown",
   "id": "3d3e6118",
   "metadata": {},
   "source": [
    "## Predicting some data"
   ]
  },
  {
   "cell_type": "markdown",
   "id": "9249b674",
   "metadata": {},
   "source": [
    "### Critic_score"
   ]
  },
  {
   "cell_type": "code",
   "execution_count": null,
   "id": "d837e971",
   "metadata": {},
   "outputs": [],
   "source": [
    "games['critic_score'].unique()"
   ]
  },
  {
   "cell_type": "code",
   "execution_count": null,
   "id": "f2b1566e",
   "metadata": {},
   "outputs": [],
   "source": [
    "pg.normality(games.critic_score, method='normaltest')"
   ]
  },
  {
   "cell_type": "code",
   "execution_count": null,
   "id": "0033b850",
   "metadata": {},
   "outputs": [],
   "source": [
    "games.critic_score.describe()"
   ]
  },
  {
   "cell_type": "code",
   "execution_count": null,
   "id": "10fc66c5",
   "metadata": {},
   "outputs": [],
   "source": [
    "games['critic_score'].hist(bins = 50);"
   ]
  },
  {
   "cell_type": "markdown",
   "id": "c61ba0a0",
   "metadata": {},
   "source": [
    "#### Conclusion:\n",
    "Though this variable fails the normality test, its median and mean are 68.   I will use the mean to replace nans."
   ]
  },
  {
   "cell_type": "markdown",
   "id": "68f91c67",
   "metadata": {},
   "source": [
    "#### Fill the missing cells with mean"
   ]
  },
  {
   "cell_type": "code",
   "execution_count": null,
   "id": "0183441e",
   "metadata": {},
   "outputs": [],
   "source": [
    "games['critic_score'] = games.groupby(['genre'])['critic_score'].apply(lambda x: x.fillna(x.mean()))"
   ]
  },
  {
   "cell_type": "markdown",
   "id": "94c2eb35",
   "metadata": {},
   "source": [
    "#### Round for data consistency"
   ]
  },
  {
   "cell_type": "code",
   "execution_count": null,
   "id": "346f8788",
   "metadata": {},
   "outputs": [],
   "source": [
    "games['critic_score'].round()"
   ]
  },
  {
   "cell_type": "markdown",
   "id": "509906e8",
   "metadata": {},
   "source": [
    "#### And convert type into integer"
   ]
  },
  {
   "cell_type": "code",
   "execution_count": null,
   "id": "0f59877d",
   "metadata": {},
   "outputs": [],
   "source": [
    "games['critic_score'] = games['critic_score'].astype('int')"
   ]
  },
  {
   "cell_type": "markdown",
   "id": "7fb65c46",
   "metadata": {},
   "source": [
    "### User score"
   ]
  },
  {
   "cell_type": "markdown",
   "id": "dc3b267b",
   "metadata": {},
   "source": [
    "### Convert to numeric"
   ]
  },
  {
   "cell_type": "code",
   "execution_count": null,
   "id": "78cd698f",
   "metadata": {},
   "outputs": [],
   "source": [
    "games['user_score'] = pd.to_numeric(games['user_score'], errors='coerce')"
   ]
  },
  {
   "cell_type": "code",
   "execution_count": null,
   "id": "40eb370e",
   "metadata": {},
   "outputs": [],
   "source": [
    "games['user_score'].unique()"
   ]
  },
  {
   "cell_type": "code",
   "execution_count": null,
   "id": "ab5ea365",
   "metadata": {},
   "outputs": [],
   "source": [
    "games.user_score.hist(bins = 50);"
   ]
  },
  {
   "cell_type": "code",
   "execution_count": null,
   "id": "eed4705a",
   "metadata": {},
   "outputs": [],
   "source": [
    "games.user_score.describe()"
   ]
  },
  {
   "cell_type": "markdown",
   "id": "dc25de60",
   "metadata": {},
   "source": [
    "#### Conclusion:\n",
    "Though this variable fails the normality test, its median and mean are 7.   I will use the mean to replace nans."
   ]
  },
  {
   "cell_type": "markdown",
   "id": "5ef9a475",
   "metadata": {},
   "source": [
    "### Replace tbd with nan"
   ]
  },
  {
   "cell_type": "code",
   "execution_count": null,
   "id": "b154a1b3",
   "metadata": {},
   "outputs": [],
   "source": [
    "games['user_score'] = games['user_score'].replace(['tbd'], np.nan)"
   ]
  },
  {
   "cell_type": "code",
   "execution_count": null,
   "id": "c1aec0b0",
   "metadata": {},
   "outputs": [],
   "source": [
    "games['user_score'] = games.groupby(['genre'])['user_score'].apply(lambda x: x.fillna(x.mean()))"
   ]
  },
  {
   "cell_type": "markdown",
   "id": "3d0e36fd",
   "metadata": {},
   "source": [
    "### Round to 1 decimal for data consistency"
   ]
  },
  {
   "cell_type": "code",
   "execution_count": null,
   "id": "d1807ece",
   "metadata": {},
   "outputs": [],
   "source": [
    "games['user_score'] = games['user_score'].round(1)"
   ]
  },
  {
   "cell_type": "markdown",
   "id": "60146e5d",
   "metadata": {},
   "source": [
    "### Rating"
   ]
  },
  {
   "cell_type": "code",
   "execution_count": null,
   "id": "e404770b",
   "metadata": {},
   "outputs": [],
   "source": []
  },
  {
   "cell_type": "markdown",
   "id": "beb07f3f",
   "metadata": {},
   "source": [
    "#### Strategy\n",
    "Predicting an ESRB score is a controversial task.  Yet, for the sake of exploration, I will do 2 things here.  For one variable, rating_en, I will predict ESRB using user and critic scores as well as genre.  In the other variable, rating, I will replace the missing values with 0 and encode the rest of the values for future analyses. I will compare the performance of both variables towards the end."
   ]
  },
  {
   "cell_type": "markdown",
   "id": "4cd6f4f0",
   "metadata": {},
   "source": [
    "#### Encode to predict rating"
   ]
  },
  {
   "cell_type": "code",
   "execution_count": null,
   "id": "e9d5edac",
   "metadata": {},
   "outputs": [],
   "source": [
    "games.rating.value_counts()"
   ]
  },
  {
   "cell_type": "code",
   "execution_count": null,
   "id": "3cc93418",
   "metadata": {},
   "outputs": [],
   "source": [
    "def cond_b(val):\n",
    "    if val == \"E\":\n",
    "        return 1\n",
    "    if val == \"T\":\n",
    "        return 2\n",
    "    if val == \"M\":\n",
    "        return 3\n",
    "    if val == \"E10+\":\n",
    "        return 4\n",
    "    if val == \"EC\":\n",
    "        return 5\n",
    "    if val == \"K-A\":\n",
    "        return 6\n",
    "    if val == \"AO\":\n",
    "        return 7\n",
    "    if val == \"RP\":\n",
    "        return 8  \n",
    "    \n",
    "games['rating_na_filled_mode'] = games['rating'].apply(cond_b)"
   ]
  },
  {
   "cell_type": "code",
   "execution_count": null,
   "id": "14f1dd47",
   "metadata": {},
   "outputs": [],
   "source": [
    "games['rating_na_filled_mode'] = games.groupby([\n",
    "    'user_score', 'critic_score', 'genre']).rating_na_filled_mode.transform(\n",
    "    lambda x: x.fillna(x.mode().iat[0]) if x.notna().any() else x)"
   ]
  },
  {
   "cell_type": "code",
   "execution_count": null,
   "id": "aa1dcec7",
   "metadata": {},
   "outputs": [],
   "source": [
    "games.rating_na_filled_mode.isna().sum()"
   ]
  },
  {
   "cell_type": "code",
   "execution_count": null,
   "id": "7c2071a1",
   "metadata": {},
   "outputs": [],
   "source": [
    "games['rating_na_filled_mode'] = games['rating_na_filled_mode'].fillna(0)"
   ]
  },
  {
   "cell_type": "code",
   "execution_count": null,
   "id": "1b3c914e",
   "metadata": {},
   "outputs": [],
   "source": [
    "games['rating_na_filled_mode'].round()"
   ]
  },
  {
   "cell_type": "markdown",
   "id": "a8a3996b",
   "metadata": {},
   "source": [
    "#### Encode to check correlation of rating and sales and replace nas with 0"
   ]
  },
  {
   "cell_type": "code",
   "execution_count": null,
   "id": "0c2bca48",
   "metadata": {},
   "outputs": [],
   "source": [
    "def cond_a(val):\n",
    "    if val == \"E\":\n",
    "        return 1\n",
    "    if val == \"T\":\n",
    "        return 2\n",
    "    if val == \"M\":\n",
    "        return 3\n",
    "    if val == \"E10+\":\n",
    "        return 4\n",
    "    if val == \"EC\":\n",
    "        return 5\n",
    "    if val == \"K-A\":\n",
    "        return 6\n",
    "    if val == \"AO\":\n",
    "        return 7\n",
    "    if val == \"RP\":\n",
    "        return 8 \n",
    "    return 0\n",
    "    \n",
    "games['rating'] = games['rating'].apply(cond_a)"
   ]
  },
  {
   "cell_type": "markdown",
   "id": "299e4ce3",
   "metadata": {},
   "source": [
    "#### Change type"
   ]
  },
  {
   "cell_type": "code",
   "execution_count": null,
   "id": "9dbec72e",
   "metadata": {},
   "outputs": [],
   "source": [
    "games['rating_na_filled_mode'] = games['rating_na_filled_mode'].astype('int')"
   ]
  },
  {
   "cell_type": "markdown",
   "id": "4d4c6bc8",
   "metadata": {},
   "source": [
    "## Total Sales"
   ]
  },
  {
   "cell_type": "code",
   "execution_count": null,
   "id": "a60f7d0c",
   "metadata": {},
   "outputs": [],
   "source": [
    "games['total_sales'] = games[['na_sales','eu_sales','jp_sales','other_sales']].sum(axis=1)"
   ]
  },
  {
   "cell_type": "markdown",
   "id": "4c16a399",
   "metadata": {},
   "source": [
    "## Check final dataframe"
   ]
  },
  {
   "cell_type": "code",
   "execution_count": null,
   "id": "53f4b301",
   "metadata": {},
   "outputs": [],
   "source": [
    "games.info()"
   ]
  },
  {
   "cell_type": "code",
   "execution_count": null,
   "id": "93ab2563",
   "metadata": {},
   "outputs": [],
   "source": [
    "games.shape"
   ]
  },
  {
   "cell_type": "markdown",
   "id": "309dab4c",
   "metadata": {},
   "source": [
    "### Conclusion:\n",
    "The final df has 16444 observations and 13 variables.  We lost around 250 observations."
   ]
  },
  {
   "cell_type": "markdown",
   "id": "8d2c7e21",
   "metadata": {},
   "source": [
    "# Analyze the data"
   ]
  },
  {
   "cell_type": "markdown",
   "id": "a85e16fa",
   "metadata": {},
   "source": [
    "## Games released yearly"
   ]
  },
  {
   "cell_type": "code",
   "execution_count": null,
   "id": "83c24c8f",
   "metadata": {},
   "outputs": [],
   "source": [
    "games.groupby(['year_of_release']).agg({'name': 'count'}).plot(\n",
    "    kind='bar', figsize=(13, 5))\n",
    "plt.title(\"Yearly number of games\")\n",
    "plt.legend(\"\")\n",
    "plt.xlabel('Years')\n",
    "plt.ylabel('Count');"
   ]
  },
  {
   "cell_type": "markdown",
   "id": "7915d117",
   "metadata": {},
   "source": [
    "### Conclusion:\n",
    "There is a significant difference between years.  Some years have less than 200 games released a year and others have up to 1400.  There is a hike around 2001 in the number of games among the most successful platforms that reaches its peak around 2008 and 2009, but then there is an exponential decrease after 2010."
   ]
  },
  {
   "cell_type": "markdown",
   "id": "0b9b64ce",
   "metadata": {},
   "source": [
    "## Sales difference among platforms"
   ]
  },
  {
   "cell_type": "code",
   "execution_count": null,
   "id": "07b72abc",
   "metadata": {},
   "outputs": [],
   "source": [
    "games.groupby(['platform']).agg({'total_sales': 'sum'}).plot(\n",
    "    kind='bar', figsize=(13, 5))\n",
    "plt.title(\"Total sales by platform\")\n",
    "plt.xlabel('Platform name')\n",
    "plt.ylabel('Count');"
   ]
  },
  {
   "cell_type": "markdown",
   "id": "f8095b97",
   "metadata": {},
   "source": [
    "### Conclusion:\n",
    "Platforms gross sales differ greatly. Some sell less than 50 millions while other reach a billion total sales."
   ]
  },
  {
   "cell_type": "markdown",
   "id": "a5a1e553",
   "metadata": {},
   "source": [
    "## Platforms with greatest sales"
   ]
  },
  {
   "cell_type": "code",
   "execution_count": null,
   "id": "f7b37234",
   "metadata": {},
   "outputs": [],
   "source": [
    "(games.groupby('platform')['total_sales'].sum().sort_values(ascending = False))/len(games)*100"
   ]
  },
  {
   "cell_type": "code",
   "execution_count": null,
   "id": "d6850128",
   "metadata": {},
   "outputs": [],
   "source": [
    "top_18 = games.pivot_table(index = ['platform'], values = ('total_sales'), aggfunc = 'sum').reset_index().sort_values(\"total_sales\", ascending=False)\n",
    "top_18 = top_18.nlargest(18, 'total_sales', keep = \"first\")"
   ]
  },
  {
   "cell_type": "markdown",
   "id": "32cd153b",
   "metadata": {},
   "source": [
    "### Create the only_top_platform dataframe"
   ]
  },
  {
   "cell_type": "code",
   "execution_count": null,
   "id": "dc6b9cf5",
   "metadata": {},
   "outputs": [],
   "source": [
    "top_platform = top_18['platform'].tolist()\n",
    "only_top_platform = games.query('platform in @top_platform')"
   ]
  },
  {
   "cell_type": "markdown",
   "id": "26d8e8f8",
   "metadata": {},
   "source": [
    "### Visualize the greatest sales platform over time"
   ]
  },
  {
   "cell_type": "code",
   "execution_count": null,
   "id": "9be6ce26",
   "metadata": {},
   "outputs": [],
   "source": [
    "fig, ax = plt.subplots()\n",
    "only_top_platform.pivot_table(index = ['platform','year_of_release' ], values = 'total_sales', aggfunc = 'sum').reset_index().plot.scatter(x='year_of_release', y='platform', s='total_sales', figsize = (13,8), ax = ax)\n",
    "ax.axvline(2004, color=\"red\", linestyle=\"--\", lw=1, label=\"xx\");\n",
    "#ax.axhline(\"PS4\", color=\"red\", linestyle=\"--\", lw=1, label=\"xx\")"
   ]
  },
  {
   "cell_type": "markdown",
   "id": "569e8bb7",
   "metadata": {},
   "source": [
    "#### Conclusion\n",
    "Some platforms like PS had the highest sales before the year 2000, just to die and be replaced by its successors, PS2 and PS3.  Others like PC have had a steady, though low, number of sales over time.  On average, platforms seem to have/are designed to have a lifespan.  Moreover, year 2006 is most noteworthy because most of the platforms that exist until 2016 seem to have originated that year."
   ]
  },
  {
   "cell_type": "markdown",
   "id": "088211ab",
   "metadata": {},
   "source": [
    "#### Current platforms"
   ]
  },
  {
   "cell_type": "code",
   "execution_count": null,
   "id": "56ab5536",
   "metadata": {},
   "outputs": [],
   "source": [
    "current_platforms_2016 = only_top_platform[only_top_platform[\"year_of_release\"] == 2016]"
   ]
  },
  {
   "cell_type": "code",
   "execution_count": null,
   "id": "e58413c5",
   "metadata": {
    "scrolled": true
   },
   "outputs": [],
   "source": [
    "current_platforms_2016.platform.unique()"
   ]
  },
  {
   "cell_type": "code",
   "execution_count": null,
   "id": "b494728d",
   "metadata": {},
   "outputs": [],
   "source": [
    "platform_list = ['PS4', '3DS', 'XOne', 'PS3', 'PC', 'X360', 'Wii']\n",
    "current_platforms    = only_top_platform[only_top_platform['platform'].isin(platform_list)]"
   ]
  },
  {
   "cell_type": "code",
   "execution_count": null,
   "id": "6e0fc44d",
   "metadata": {},
   "outputs": [],
   "source": [
    "games_2006 = current_platforms[current_platforms[\"year_of_release\"] > 2005]\n",
    "games_2006.platform.unique()"
   ]
  },
  {
   "cell_type": "code",
   "execution_count": null,
   "id": "14a2bf63",
   "metadata": {},
   "outputs": [],
   "source": [
    "games_2006['lifecycle']  = current_platforms.groupby(\n",
    "'platform')['year_of_release'].transform(lambda s: s.max() - s.min())"
   ]
  },
  {
   "cell_type": "code",
   "execution_count": null,
   "id": "2ab9b62c",
   "metadata": {},
   "outputs": [],
   "source": [
    "games_2006['lifecycle'].describe()"
   ]
  },
  {
   "cell_type": "code",
   "execution_count": null,
   "id": "58a6ce97",
   "metadata": {},
   "outputs": [],
   "source": [
    "sns.set(rc={'figure.figsize':(20,7)})\n",
    "ax = sns.violinplot(x=\"platform\" , y=\"year_of_release\", split=True, width=1, scale=\"width\", palette=\"Set3\",inner=\"quartile\", data=games_2006)\n",
    "ax.tick_params(axis='x', labelrotation = 90)\n",
    "plt.show()"
   ]
  },
  {
   "cell_type": "markdown",
   "id": "201d6b8b",
   "metadata": {},
   "source": [
    "#### Conclusion:\n",
    "Among the most successful but ongoing platforms, the mean age is 12.5 and median age of around 10 years and a min of 3 and a max of 31 years.  How prolific in terms of releases each platform is shown in these violin plots. While X360 and PS3 are the most prolific, PS4, XOne and Wii have variable level of game releases during their lifespan."
   ]
  },
  {
   "cell_type": "markdown",
   "id": "7a10da57",
   "metadata": {},
   "source": [
    "#### Dead platforms"
   ]
  },
  {
   "cell_type": "code",
   "execution_count": null,
   "id": "6ac32917",
   "metadata": {},
   "outputs": [],
   "source": [
    "platform_list = ['PS4', '3DS', 'XOne', 'PS3', 'PC', 'X360', 'Wii']\n",
    "dead_platforms    = only_top_platform[~only_top_platform['platform'].isin(platform_list)]"
   ]
  },
  {
   "cell_type": "code",
   "execution_count": null,
   "id": "50cd5eb8",
   "metadata": {},
   "outputs": [],
   "source": [
    "dead_platforms['lifecycle']  = dead_platforms.groupby('platform')['year_of_release'].transform(lambda s: s.max() - s.min())\n",
    "dead_platforms['lifecycle'].describe()"
   ]
  },
  {
   "cell_type": "code",
   "execution_count": null,
   "id": "727b210b",
   "metadata": {},
   "outputs": [],
   "source": [
    "sns.set(rc={'figure.figsize':(20,7)})\n",
    "ax = sns.violinplot(x=\"platform\" , y=\"year_of_release\", split=True, width=1, scale=\"width\", palette=\"Set3\",inner=\"quartile\", data=dead_platforms)\n",
    "ax.tick_params(axis='x', labelrotation = 90)\n",
    "plt.show()"
   ]
  },
  {
   "cell_type": "markdown",
   "id": "4cc19172",
   "metadata": {},
   "source": [
    "#### Conclusion:\n",
    "Of the greatest sales platforms that are decommissioned, the mean lifespan of 13.5 and median lifespan is 11 years and a minimum of 6 and a maximum of 28 years.  What is noteworthy is that the standard deviation is around 6 years compared to a standard deviation of 11 years for those successful platforms that survived until today.  In reality though, our sample is so small that it is swayed by the one platform with the longest longevity. PS2 has had a constantly prolific life until it was replaced by PS3. Other platforms have ebbed and flawed in terms of releases."
   ]
  },
  {
   "cell_type": "markdown",
   "id": "64b9041b",
   "metadata": {},
   "source": [
    "#### Conclusion:\n",
    "If we use the violin for 18 most profitable platforms, we do see that only a few such as PC and DS have a long lifespan.  Among the most profitable and still existing platforms, only PC remains. The 18 platform plot show that since the 1980 we have 2 profitable platforms every couple of years with a life span between a decade and a decade and a half.  "
   ]
  },
  {
   "cell_type": "markdown",
   "id": "2d0bc310",
   "metadata": {},
   "source": [
    "## Current platforms leading sales"
   ]
  },
  {
   "cell_type": "code",
   "execution_count": null,
   "id": "56840cab",
   "metadata": {},
   "outputs": [],
   "source": [
    "df1 = games_2006.groupby(['year_of_release', 'platform'])['total_sales'].sum().unstack('platform').fillna(0)\n",
    "df1[['Wii', 'X360', 'PS3', 'PS4', '3DS', 'PC', 'XOne']].plot(kind='bar', stacked=True)\n",
    "plt.title(\"Game release distribution by platform\")\n",
    "plt.xlabel('Years')\n",
    "plt.ylabel('Count');"
   ]
  },
  {
   "cell_type": "markdown",
   "id": "57de2580",
   "metadata": {},
   "source": [
    "### Conclusion:\n",
    "PC is a platform with greatest sales over time.  However, it does not fare well on average. Let's start with the year 2006."
   ]
  },
  {
   "cell_type": "markdown",
   "id": "a7c11fe4",
   "metadata": {},
   "source": [
    "### Calculate trends of sales year-on-year"
   ]
  },
  {
   "cell_type": "code",
   "execution_count": null,
   "id": "157e234f",
   "metadata": {},
   "outputs": [],
   "source": [
    "games_year = pd.pivot_table(games_2006, index='year_of_release', columns='platform', values='total_sales', aggfunc=sum, fill_value=0)\n",
    "games_year.head()"
   ]
  },
  {
   "cell_type": "code",
   "execution_count": null,
   "id": "eb008706",
   "metadata": {},
   "outputs": [],
   "source": [
    "trend = games_year - games_year.shift(+1)\n",
    "trend.head(5)"
   ]
  },
  {
   "cell_type": "code",
   "execution_count": null,
   "id": "f0ab359f",
   "metadata": {},
   "outputs": [],
   "source": [
    "ax = trend.plot.bar(figsize=(15, 5))\n",
    "patches, labels = ax.get_legend_handles_labels()\n",
    "ax.legend(patches, labels, loc='lower left')\n",
    "plt.title(\"Yearly sales trends by platform\")\n",
    "plt.xlabel('Years')\n",
    "plt.ylabel('Count');"
   ]
  },
  {
   "cell_type": "markdown",
   "id": "8ac7bc8b",
   "metadata": {},
   "source": [
    "#### Conclusion: lets see\n",
    "Sales of all these platforms have plummeted year on year. Since 2010, the platform market has become more volatile than before.  Perhaps it is market saturation or that users now play online games more.  Something is happening.  If we consider the lifespan of a platform and its profitability.  I choose PS4 and XOne, 3DS and PC.  I choose PC due to its longevity.  But the whole market is shrinking."
   ]
  },
  {
   "cell_type": "code",
   "execution_count": null,
   "id": "f5b72681",
   "metadata": {},
   "outputs": [],
   "source": [
    "total_sale = games_2006.groupby(['platform','year_of_release'])['total_sales'].sum().reset_index()"
   ]
  },
  {
   "cell_type": "code",
   "execution_count": null,
   "id": "f85838f1",
   "metadata": {},
   "outputs": [],
   "source": [
    "total_sale.boxplot(column='total_sales',by='platform', figsize=(13,5));"
   ]
  },
  {
   "cell_type": "markdown",
   "id": "17bfd823",
   "metadata": {},
   "source": [
    "#### Conclusion:\n",
    "Global sales difference by platform differs tremedously from one platform to another."
   ]
  },
  {
   "cell_type": "markdown",
   "id": "7b3004b2",
   "metadata": {},
   "source": [
    "##  Effects of reviews one popular platform"
   ]
  },
  {
   "cell_type": "markdown",
   "id": "a4e63911",
   "metadata": {},
   "source": [
    "## PS3"
   ]
  },
  {
   "cell_type": "code",
   "execution_count": null,
   "id": "631ace44",
   "metadata": {},
   "outputs": [],
   "source": [
    "PS3 = games_2006.loc[(games_2006['platform'] == 'PS3')]"
   ]
  },
  {
   "cell_type": "code",
   "execution_count": null,
   "id": "9b06cecd",
   "metadata": {},
   "outputs": [],
   "source": [
    "modelPS3 = ols('total_sales ~ critic_score + user_score ', data=PS3)\n",
    "results = modelPS3.fit()\n",
    "results.summary()"
   ]
  },
  {
   "cell_type": "code",
   "execution_count": null,
   "id": "5d6d55fe",
   "metadata": {},
   "outputs": [],
   "source": [
    "fig, (ax1, ax2) = plt.subplots(ncols=2, sharey=True)\n",
    "sns.regplot(x = \"user_score\",\n",
    "            y = \"total_sales\", \n",
    "             ci=95, \n",
    "            scatter_kws={\"s\": 1}, ax = ax1,\n",
    "            data = PS3)\n",
    "ax1.set(ylim=(0, 1))\n",
    "\n",
    "\n",
    "sns.regplot(x = \"critic_score\",\n",
    "            y = \"total_sales\", \n",
    "             ci=95, \n",
    "            scatter_kws={\"s\": 1}, ax=ax2,\n",
    "            data = PS3)\n",
    "ax2.set(ylim=(0, 1));"
   ]
  },
  {
   "cell_type": "markdown",
   "id": "ac027f4d",
   "metadata": {},
   "source": [
    "### Conclusion:\n",
    "PS3 share of reviews like all others are so slim they are insignificant."
   ]
  },
  {
   "cell_type": "code",
   "execution_count": null,
   "id": "9e127454",
   "metadata": {},
   "outputs": [],
   "source": [
    "corr = games_2006.corr()\n",
    "mask = np.zeros_like(corr, dtype=np.bool)\n",
    "mask[np.triu_indices_from(mask)]= True\n",
    "\n",
    "ax = sns.heatmap(\n",
    "    corr, \n",
    "    vmin=-1, vmax=1, center=0,\n",
    "    cmap=sns.diverging_palette(10, 220,  as_cmap=True),\n",
    "    square=True,\n",
    "    mask=mask,\n",
    "    annot=True,\n",
    "    annot_kws={\"size\": 7}\n",
    ")\n",
    "ax.set_xticklabels(\n",
    "    ax.get_xticklabels(),\n",
    "    rotation=45,\n",
    "    horizontalalignment='right'\n",
    ");"
   ]
  },
  {
   "cell_type": "markdown",
   "id": "4420be3b",
   "metadata": {},
   "source": [
    "### Conclusion:\n",
    "Total sales is no correlated with user_score; it is midely positively correlated with critic score.  We also see that total sales is not correlated with ratings either."
   ]
  },
  {
   "cell_type": "markdown",
   "id": "007f2f36",
   "metadata": {},
   "source": [
    "### PS4  df"
   ]
  },
  {
   "cell_type": "code",
   "execution_count": null,
   "id": "846f6d0c",
   "metadata": {},
   "outputs": [],
   "source": [
    "PS4 = games_2006.loc[(games_2006['platform'] == 'PS4')]"
   ]
  },
  {
   "cell_type": "code",
   "execution_count": null,
   "id": "047534f0",
   "metadata": {},
   "outputs": [],
   "source": [
    "modelPS4 = ols('total_sales ~ critic_score + user_score ', data=PS4)\n",
    "results = modelPS4.fit()\n",
    "results.summary()"
   ]
  },
  {
   "cell_type": "code",
   "execution_count": null,
   "id": "f73b5d31",
   "metadata": {},
   "outputs": [],
   "source": [
    "fig, (ax1, ax2) = plt.subplots(ncols=2, sharey=True)\n",
    "sns.regplot(x = \"user_score\",\n",
    "            y = \"total_sales\", \n",
    "             ci=95, \n",
    "            scatter_kws={\"s\": 1}, ax = ax1,\n",
    "            data = PS4)\n",
    "ax1.set(ylim=(0, 1.2))\n",
    "\n",
    "\n",
    "sns.regplot(x = \"critic_score\",\n",
    "            y = \"total_sales\", \n",
    "             ci=95, \n",
    "            scatter_kws={\"s\": 1}, ax=ax2,\n",
    "            data = PS4)\n",
    "ax2.set(ylim=(0, 1.2));"
   ]
  },
  {
   "cell_type": "markdown",
   "id": "cb2f1487",
   "metadata": {},
   "source": [
    "### Conclusion:\n",
    "PS4 share of reviews is mixed: as user score increase, PS4 sale decrease and as critic score increase, its sales increase.  However, the effect are very slim.  It is noteworthy to mention that the confidence interval around the regression line of user score is to wide."
   ]
  },
  {
   "cell_type": "markdown",
   "id": "793efca0",
   "metadata": {},
   "source": [
    "##  XOne"
   ]
  },
  {
   "cell_type": "code",
   "execution_count": null,
   "id": "27ae4156",
   "metadata": {},
   "outputs": [],
   "source": [
    "XOne = games_2006.loc[(games_2006['platform'] == 'XOne')]"
   ]
  },
  {
   "cell_type": "code",
   "execution_count": null,
   "id": "dfc410d3",
   "metadata": {},
   "outputs": [],
   "source": [
    "modelXOne = ols('total_sales ~ critic_score + user_score ', data=XOne)\n",
    "results = modelXOne.fit()\n",
    "results.summary()"
   ]
  },
  {
   "cell_type": "code",
   "execution_count": null,
   "id": "8dd95ff3",
   "metadata": {},
   "outputs": [],
   "source": [
    "fig, (ax1, ax2) = plt.subplots(ncols=2, sharey=True)\n",
    "sns.regplot(x = \"user_score\",\n",
    "            y = \"total_sales\", \n",
    "             ci=95, \n",
    "            scatter_kws={\"s\": 1}, ax = ax1,\n",
    "            data = XOne)\n",
    "ax1.set(ylim=(0, 2))\n",
    "\n",
    "\n",
    "sns.regplot(x = \"critic_score\",\n",
    "            y = \"total_sales\", \n",
    "             ci=95, \n",
    "            scatter_kws={\"s\": 1}, ax=ax2,\n",
    "            data = XOne)\n",
    "ax2.set(ylim=(0, 2));"
   ]
  },
  {
   "cell_type": "markdown",
   "id": "a374d5e1",
   "metadata": {},
   "source": [
    "### Conclusion:\n",
    "XOne share of reviews is also mixed: as user score increase, XOne sale decrease and as critic score increase, its sales increase.  However, the effect are very slim.  It is noteworthy to mention that the confidence interval around the regression line of user score is to wide."
   ]
  },
  {
   "cell_type": "markdown",
   "id": "b34383cd",
   "metadata": {},
   "source": [
    "## 3DS "
   ]
  },
  {
   "cell_type": "code",
   "execution_count": null,
   "id": "10b8e3bf",
   "metadata": {},
   "outputs": [],
   "source": [
    "_3DS = games_2006.loc[(games_2006['platform'] == '3DS')]"
   ]
  },
  {
   "cell_type": "code",
   "execution_count": null,
   "id": "f3b7ca6e",
   "metadata": {},
   "outputs": [],
   "source": [
    "model_3DS = ols('total_sales ~ critic_score + user_score ', data=_3DS)\n",
    "results = model_3DS.fit()\n",
    "results.summary()"
   ]
  },
  {
   "cell_type": "code",
   "execution_count": null,
   "id": "d531663d",
   "metadata": {},
   "outputs": [],
   "source": [
    "fig, (ax1, ax2) = plt.subplots(ncols=2, sharey=True)\n",
    "sns.regplot(x = \"user_score\",\n",
    "            y = \"total_sales\", \n",
    "             ci=95, \n",
    "            scatter_kws={\"s\": 1}, ax = ax1,\n",
    "            data = _3DS)\n",
    "ax1.set(ylim=(-2, 2))\n",
    "\n",
    "\n",
    "sns.regplot(x = \"critic_score\",\n",
    "            y = \"total_sales\", \n",
    "             ci=95, \n",
    "            scatter_kws={\"s\": 1}, ax=ax2,\n",
    "            data = _3DS)\n",
    "ax2.set(ylim=(-2, 2));"
   ]
  },
  {
   "cell_type": "markdown",
   "id": "018a7908",
   "metadata": {},
   "source": [
    "### Conclusion:\n",
    "3DS share of reviews move in the same direction: as user and critic scores increase, 3DS sale increase.  Here too the effects are minimal."
   ]
  },
  {
   "cell_type": "markdown",
   "id": "1c35f4ef",
   "metadata": {},
   "source": [
    "## PC"
   ]
  },
  {
   "cell_type": "code",
   "execution_count": null,
   "id": "32708e41",
   "metadata": {},
   "outputs": [],
   "source": [
    "PC = games_2006.loc[(games_2006['platform'] == 'PC')]"
   ]
  },
  {
   "cell_type": "code",
   "execution_count": null,
   "id": "9cf45a4a",
   "metadata": {},
   "outputs": [],
   "source": [
    "modelPC = ols('total_sales ~ critic_score + user_score ', data=PC)\n",
    "results = modelPC.fit()\n",
    "results.summary()"
   ]
  },
  {
   "cell_type": "code",
   "execution_count": null,
   "id": "e94ee2e2",
   "metadata": {},
   "outputs": [],
   "source": [
    "fig, (ax1, ax2) = plt.subplots(ncols=2, sharey=True)\n",
    "sns.regplot(x = \"user_score\",\n",
    "            y = \"total_sales\", \n",
    "             ci=95, \n",
    "            scatter_kws={\"s\": 1}, ax = ax1,\n",
    "            data = PC)\n",
    "ax1.set(ylim=(0, 1))\n",
    "\n",
    "\n",
    "sns.regplot(x = \"critic_score\",\n",
    "            y = \"total_sales\", \n",
    "             ci=95, \n",
    "            scatter_kws={\"s\": 1}, ax=ax2,\n",
    "            data = PC)\n",
    "ax2.set(ylim=(0, 1));"
   ]
  },
  {
   "cell_type": "markdown",
   "id": "a4175036",
   "metadata": {},
   "source": [
    "### Conclusion:\n",
    "PC share of reviews like all others are so slim they are insignificant."
   ]
  },
  {
   "cell_type": "markdown",
   "id": "3098cbd5",
   "metadata": {},
   "source": [
    "## Wii"
   ]
  },
  {
   "cell_type": "code",
   "execution_count": null,
   "id": "d7af48a2",
   "metadata": {},
   "outputs": [],
   "source": [
    "Wii = games_2006.loc[(games_2006['platform'] == 'Wii')]"
   ]
  },
  {
   "cell_type": "code",
   "execution_count": null,
   "id": "fd11ff08",
   "metadata": {},
   "outputs": [],
   "source": [
    "modelWii = ols('total_sales ~ critic_score + user_score ', data=Wii)\n",
    "results = modelWii.fit()\n",
    "results.summary()"
   ]
  },
  {
   "cell_type": "code",
   "execution_count": null,
   "id": "2dd2e3d0",
   "metadata": {},
   "outputs": [],
   "source": [
    "fig, (ax1, ax2) = plt.subplots(ncols=2, sharey=True)\n",
    "sns.regplot(x = \"user_score\",\n",
    "            y = \"total_sales\", \n",
    "             ci=95, \n",
    "            scatter_kws={\"s\": 1}, ax = ax1,\n",
    "            data = PC)\n",
    "ax1.set(ylim=(0, 1))\n",
    "\n",
    "\n",
    "sns.regplot(x = \"critic_score\",\n",
    "            y = \"total_sales\", \n",
    "             ci=95, \n",
    "            scatter_kws={\"s\": 1}, ax=ax2,\n",
    "            data = Wii)\n",
    "ax2.set(ylim=(0, 1));"
   ]
  },
  {
   "cell_type": "markdown",
   "id": "a25c1f01",
   "metadata": {},
   "source": [
    "### Conclusion:\n",
    "Wii share of reviews like all others are so slim they are insignificant."
   ]
  },
  {
   "cell_type": "markdown",
   "id": "83f1dd69",
   "metadata": {},
   "source": [
    "###### X360"
   ]
  },
  {
   "cell_type": "code",
   "execution_count": null,
   "id": "8d6f4db6",
   "metadata": {},
   "outputs": [],
   "source": [
    "X360 = games_2006.loc[(games_2006['platform'] == 'X360')]"
   ]
  },
  {
   "cell_type": "code",
   "execution_count": null,
   "id": "c0b757be",
   "metadata": {},
   "outputs": [],
   "source": [
    "modelX360 = ols('total_sales ~ critic_score + user_score ', data=X360)\n",
    "results = modelX360.fit()\n",
    "results.summary()"
   ]
  },
  {
   "cell_type": "code",
   "execution_count": null,
   "id": "65fde8b2",
   "metadata": {},
   "outputs": [],
   "source": [
    "fig, (ax1, ax2) = plt.subplots(ncols=2, sharey=True)\n",
    "sns.regplot(x = \"user_score\",\n",
    "            y = \"total_sales\", \n",
    "             ci=95, \n",
    "            scatter_kws={\"s\": 1}, ax = ax1,\n",
    "            data = PC)\n",
    "ax1.set(ylim=(0, 1))\n",
    "\n",
    "\n",
    "sns.regplot(x = \"critic_score\",\n",
    "            y = \"total_sales\", \n",
    "             ci=95, \n",
    "            scatter_kws={\"s\": 1}, ax=ax2,\n",
    "            data = X360)\n",
    "ax2.set(ylim=(0, 1));"
   ]
  },
  {
   "cell_type": "markdown",
   "id": "7dd289af",
   "metadata": {},
   "source": [
    "### Conclusion:\n",
    "X360 share of reviews like all others are so slim they are insignificant."
   ]
  },
  {
   "cell_type": "markdown",
   "id": "40139ad4",
   "metadata": {},
   "source": [
    "## All Platforms combined"
   ]
  },
  {
   "cell_type": "code",
   "execution_count": null,
   "id": "e6568528",
   "metadata": {},
   "outputs": [],
   "source": [
    "model = ols('total_sales ~ critic_score + user_score ', data=games_2006)\n",
    "results = model.fit()\n",
    "results.summary()"
   ]
  },
  {
   "cell_type": "code",
   "execution_count": null,
   "id": "79659972",
   "metadata": {},
   "outputs": [],
   "source": [
    "fig, (ax1, ax2) = plt.subplots(ncols=2, sharey=True)\n",
    "sns.regplot(x = \"user_score\",\n",
    "            y = \"total_sales\", \n",
    "             ci=95, \n",
    "            scatter_kws={\"s\": 1}, ax = ax1,\n",
    "            data = games)\n",
    "ax1.set(ylim=(0, 1))\n",
    "\n",
    "\n",
    "sns.regplot(x = \"critic_score\",\n",
    "            y = \"total_sales\", \n",
    "             ci=95, \n",
    "            scatter_kws={\"s\": 1}, ax=ax2,\n",
    "            data = games_2006)\n",
    "ax2.set(ylim=(0, 1));"
   ]
  },
  {
   "cell_type": "markdown",
   "id": "35c47a5c",
   "metadata": {},
   "source": [
    "### Conclusion:\n",
    "Sales from all top platforms do not seem to be  affected by reviews, be it user reviews or critic reviews."
   ]
  },
  {
   "cell_type": "markdown",
   "id": "78455427",
   "metadata": {},
   "source": [
    "## Same games on different platforms working only with platforms and years I found relevant"
   ]
  },
  {
   "cell_type": "code",
   "execution_count": null,
   "id": "2449c943",
   "metadata": {},
   "outputs": [],
   "source": [
    "games_2006['repeat_games'] = games_2006.groupby('name')['platform'].transform(\"count\")"
   ]
  },
  {
   "cell_type": "code",
   "execution_count": null,
   "id": "58d94497",
   "metadata": {},
   "outputs": [],
   "source": [
    "games_2006.repeat_games.value_counts()"
   ]
  },
  {
   "cell_type": "code",
   "execution_count": null,
   "id": "0ab48fc7",
   "metadata": {},
   "outputs": [],
   "source": [
    "same_game = games_2006.loc[games_2006['repeat_games'] > 1]"
   ]
  },
  {
   "cell_type": "code",
   "execution_count": null,
   "id": "1687958d",
   "metadata": {},
   "outputs": [],
   "source": [
    "same_game.name.nunique()"
   ]
  },
  {
   "cell_type": "code",
   "execution_count": null,
   "id": "7c278cab",
   "metadata": {},
   "outputs": [],
   "source": [
    "same_game['repeats_current_platform'] = same_game.groupby('name')['platform'].transform(\"count\")"
   ]
  },
  {
   "cell_type": "code",
   "execution_count": null,
   "id": "692a117a",
   "metadata": {},
   "outputs": [],
   "source": [
    "same_game['repeats_current_platform'].value_counts()"
   ]
  },
  {
   "cell_type": "code",
   "execution_count": null,
   "id": "9f068c0d",
   "metadata": {},
   "outputs": [],
   "source": [
    "same_game_equal5 = same_game.loc[\n",
    "    same_game['repeats_current_platform'] == 5]\n",
    "same_game_equal5.name.nunique()"
   ]
  },
  {
   "cell_type": "code",
   "execution_count": null,
   "id": "562788a4",
   "metadata": {},
   "outputs": [],
   "source": [
    "same_game_equal6 = same_game.loc[\n",
    "    same_game['repeats_current_platform'] == 6]\n",
    "same_game_equal6.name.nunique()"
   ]
  },
  {
   "cell_type": "code",
   "execution_count": null,
   "id": "30eba604",
   "metadata": {},
   "outputs": [],
   "source": [
    "sns.barplot(data=same_game_equal6, x='platform', y='total_sales', hue='name');"
   ]
  },
  {
   "cell_type": "code",
   "execution_count": null,
   "id": "eefd6e53",
   "metadata": {},
   "outputs": [],
   "source": [
    "same_game_equal7 = same_game.loc[\n",
    "    same_game['repeats_current_platform'] == 7]\n",
    "same_game_equal7.name.nunique()"
   ]
  },
  {
   "cell_type": "code",
   "execution_count": null,
   "id": "fe09e463",
   "metadata": {},
   "outputs": [],
   "source": [
    "sns.barplot(data=same_game_equal7, x='platform', y='total_sales', hue='name');"
   ]
  },
  {
   "cell_type": "markdown",
   "id": "d92b097e",
   "metadata": {},
   "source": [
    "#### Conclusion:\n",
    "??"
   ]
  },
  {
   "cell_type": "markdown",
   "id": "522eb5ea",
   "metadata": {},
   "source": [
    "### Select top games for another way of looking at the same question"
   ]
  },
  {
   "cell_type": "code",
   "execution_count": null,
   "id": "1f062b91",
   "metadata": {},
   "outputs": [],
   "source": [
    "top_10_repeat_games = same_game.groupby(['name','platform'])['total_sales'].sum().sort_values(ascending = False).head(10)\n",
    "top_10_repeat_games"
   ]
  },
  {
   "cell_type": "code",
   "execution_count": null,
   "id": "f79a9f7c",
   "metadata": {},
   "outputs": [],
   "source": [
    "top_10_repeat_games = same_game.nlargest(18, 'total_sales')\n",
    "top_10_repeat_games.name.unique()"
   ]
  },
  {
   "cell_type": "code",
   "execution_count": null,
   "id": "1b4ab192",
   "metadata": {},
   "outputs": [],
   "source": [
    "df = top_10_repeat_games.groupby(['name', 'platform'])['total_sales'].sum().unstack('name').fillna(0)\n",
    "df[['Grand Theft Auto V', 'Call of Duty: Modern Warfare 3',\n",
    "       'Call of Duty: Black Ops 3', 'Call of Duty: Black Ops',\n",
    "       'Call of Duty: Black Ops II', 'Call of Duty: Modern Warfare 2',\n",
    "       'Grand Theft Auto IV', 'Call of Duty: Ghosts', 'Just Dance 3',\n",
    "       'Call of Duty 4: Modern Warfare']].plot(kind='bar', stacked=True)\n",
    "patches, labels = ax.get_legend_handles_labels()\n",
    "ax.legend(patches, labels, loc =\"best\");"
   ]
  },
  {
   "cell_type": "markdown",
   "id": "555e7dc1",
   "metadata": {},
   "source": [
    "### Conclusion:\n",
    "At \\\\$100 million X360 has the top 10 highest share of the greatest games sold on similar platforms, followed by PS3."
   ]
  },
  {
   "cell_type": "code",
   "execution_count": null,
   "id": "35484c73",
   "metadata": {},
   "outputs": [],
   "source": [
    "top_25_repeat_games = same_game.groupby(['name','platform'])['total_sales'].sum().sort_values(ascending = False).head(25)\n",
    "top_25_repeat_games"
   ]
  },
  {
   "cell_type": "code",
   "execution_count": null,
   "id": "9e04c36c",
   "metadata": {},
   "outputs": [],
   "source": [
    "top_25_repeat_games = same_game.nlargest(35, 'total_sales', keep = \"first\")\n",
    "top_25_repeat_games.name.unique()"
   ]
  },
  {
   "cell_type": "code",
   "execution_count": null,
   "id": "843532db",
   "metadata": {},
   "outputs": [],
   "source": [
    "df1 = top_25_repeat_games.groupby(['name', 'platform'])['total_sales'].sum().unstack('name').fillna(0)\n",
    "df1[['Grand Theft Auto V', 'Call of Duty: Modern Warfare 3',\n",
    "       'Call of Duty: Black Ops 3', 'Call of Duty: Black Ops',\n",
    "       'Call of Duty: Black Ops II', 'Call of Duty: Modern Warfare 2',\n",
    "       'Grand Theft Auto IV', 'Call of Duty: Ghosts', 'Just Dance 3',\n",
    "       'Call of Duty 4: Modern Warfare', 'Minecraft',\n",
    "       'The Elder Scrolls V: Skyrim', 'FIFA 16', 'FIFA Soccer 13',\n",
    "       'The Sims 3', 'Star Wars Battlefront (2015)',\n",
    "       'Call of Duty: Advanced Warfare', 'FIFA 17',\n",
    "       'Call of Duty: World at War', 'Battlefield 3', 'Fallout 4',\n",
    "       'Just Dance 4', 'Zumba Fitness', 'FIFA 12']].plot(kind='bar', stacked=True)\n",
    "patches, labels = ax.get_legend_handles_labels()\n",
    "ax.legend(patches, labels, loc =\"best\");"
   ]
  },
  {
   "cell_type": "markdown",
   "id": "cbccd390",
   "metadata": {},
   "source": [
    "#### Conclusion:\n",
    "At around 135 million, X360 maintains its leadership of the sale of the top 25 most popular games shared on major platforms and followed by PS3 at 120 million.  "
   ]
  },
  {
   "cell_type": "code",
   "execution_count": null,
   "id": "979cfbe6",
   "metadata": {},
   "outputs": [],
   "source": [
    "top_50_repeat_games = same_game.groupby(['name','platform'])['total_sales'].sum().sort_values(ascending = False).head(50)"
   ]
  },
  {
   "cell_type": "markdown",
   "id": "08e5fa89",
   "metadata": {},
   "source": [
    "### Conclusion: compare the sales of the same games on other platforms.\n",
    "Of the top 50 most popular games shared on major platforms, PS3 overtakes X360 as becomes the most popular platform of the top 50 most popular games."
   ]
  },
  {
   "cell_type": "markdown",
   "id": "86748d7d",
   "metadata": {},
   "source": [
    "## Most profitable genre"
   ]
  },
  {
   "cell_type": "code",
   "execution_count": null,
   "id": "d7589f21",
   "metadata": {},
   "outputs": [],
   "source": [
    "games_2006.genre.value_counts()/len(games_2006)*100"
   ]
  },
  {
   "cell_type": "code",
   "execution_count": null,
   "id": "f01e1a20",
   "metadata": {},
   "outputs": [],
   "source": [
    "top5_popular_genre = games_2006.pivot_table(index=[ 'genre'],values=['total_sales' ], aggfunc=sum).reset_index()\\\n",
    " .sort_values(by='total_sales', ascending=False).head(5)\n",
    "top5_popular_genre.head()"
   ]
  },
  {
   "cell_type": "code",
   "execution_count": null,
   "id": "0b26d3bd",
   "metadata": {},
   "outputs": [],
   "source": [
    "top_5 = games_2006.pivot_table(index = ['genre'], values = ('total_sales'), aggfunc = 'sum').reset_index().sort_values(\"total_sales\", ascending=False)\n",
    "top_5 = top_5.nlargest(5, 'total_sales', keep = \"first\")\n",
    "top_5.genre.unique()"
   ]
  },
  {
   "cell_type": "code",
   "execution_count": null,
   "id": "19e40ab5",
   "metadata": {},
   "outputs": [],
   "source": [
    "top_5_genre_games = games_2006.query(' genre in (\"Action\", \"Shooter\", \"Sports\", \"Misc\", \"Role-Playing\")')"
   ]
  },
  {
   "cell_type": "markdown",
   "id": "0b54fd55",
   "metadata": {},
   "source": [
    "### Conclusion"
   ]
  },
  {
   "cell_type": "code",
   "execution_count": null,
   "id": "e389626f",
   "metadata": {},
   "outputs": [],
   "source": [
    "top10_popular_genre_game_pivot = top_5_genre_games.pivot_table(index=[ 'genre', 'name'],\n",
    "                                          values=['total_sales' ],\n",
    "                                          aggfunc=sum).reset_index()\\\n",
    ".sort_values(by='total_sales', ascending=False).head(10)\n",
    "top10_popular_genre_game_pivot.head()"
   ]
  },
  {
   "cell_type": "code",
   "execution_count": null,
   "id": "3dbb7bf0",
   "metadata": {},
   "outputs": [],
   "source": [
    "df_2= top10_popular_genre_game_pivot.groupby(['genre', \"name\"])['total_sales'].sum().unstack('name').fillna(0)\n",
    "df_2.plot(kind='bar', figsize=(13, 5), stacked=True);"
   ]
  },
  {
   "cell_type": "code",
   "execution_count": null,
   "id": "dae7b293",
   "metadata": {},
   "outputs": [],
   "source": [
    "top25_popular_genre_game_pivot = top_5_genre_games.pivot_table(index=[ 'genre', 'name'],\n",
    "                                          values=['total_sales' ],\n",
    "                                          aggfunc=sum).reset_index()\\\n",
    ".sort_values(by='total_sales', ascending=False).head(25)\n",
    "top25_popular_genre_game_pivot.head()"
   ]
  },
  {
   "cell_type": "code",
   "execution_count": null,
   "id": "4eeb9c11",
   "metadata": {},
   "outputs": [],
   "source": [
    "df_2= top25_popular_genre_game_pivot.groupby(['genre', \"name\"])['total_sales'].sum().unstack('name').fillna(0)\n",
    "df_2.plot(kind='bar', figsize=(13, 5), stacked=True);"
   ]
  },
  {
   "cell_type": "code",
   "execution_count": null,
   "id": "cff833f3",
   "metadata": {},
   "outputs": [],
   "source": [
    "genre_list      = ['Action', 'Sports', 'Shooter', 'Role-Playing', 'Platform']\n",
    "greatest_genre    = games_2006[games_2006['genre'].isin(genre_list)]"
   ]
  },
  {
   "cell_type": "code",
   "execution_count": null,
   "id": "ba3c3461",
   "metadata": {},
   "outputs": [],
   "source": [
    "df_2 = greatest_genre.groupby(['genre', \"platform\"])['total_sales'].sum().unstack('genre').fillna(0)\n",
    "df_2.plot(kind='bar', figsize=(13, 5), stacked=True);"
   ]
  },
  {
   "cell_type": "code",
   "execution_count": null,
   "id": "8d83ca96",
   "metadata": {},
   "outputs": [],
   "source": [
    "not_so_great_genre    = games_2006[~games_2006['genre'].isin(genre_list)]"
   ]
  },
  {
   "cell_type": "code",
   "execution_count": null,
   "id": "43aa515e",
   "metadata": {},
   "outputs": [],
   "source": [
    "df_2 = not_so_great_genre.groupby(['genre', \"platform\"])['total_sales'].sum().unstack('genre').fillna(0)\n",
    "df_2.plot(kind='bar', figsize=(13, 5), stacked=True);"
   ]
  },
  {
   "cell_type": "markdown",
   "id": "1755c451",
   "metadata": {},
   "source": [
    "### Conclusion: \n",
    "Shooter is the genre with the top 10 total sales of games which one can assume is profitable though we do not have enough information. When we look at the top 25 sales of games, we see that shooter is closely followed by sports. The top 50 sales of games the same trend of popularity is exhibited.  The trend from the greatest genre in the most profitable platform is also interesting.  PS3 and X360 lead the sales, followed by Wii and PS4.  Games of not so great genres still follow the same trend.  In other words, the great platforms sell both great and not so great genre and titles."
   ]
  },
  {
   "cell_type": "markdown",
   "id": "d5246ca3",
   "metadata": {},
   "source": [
    "## Regions"
   ]
  },
  {
   "cell_type": "markdown",
   "id": "092d30bc",
   "metadata": {},
   "source": [
    "### North America"
   ]
  },
  {
   "cell_type": "code",
   "execution_count": null,
   "id": "c72e61c3",
   "metadata": {},
   "outputs": [],
   "source": [
    "platform_na = games_2006.pivot_table(index=['platform'],\n",
    "                                      values =['na_sales'],\n",
    "                                      aggfunc=sum)\\\n",
    ".reset_index().sort_values(by='na_sales', ascending=False).head(5)\n",
    "platform_na"
   ]
  },
  {
   "cell_type": "code",
   "execution_count": null,
   "id": "17a58384",
   "metadata": {},
   "outputs": [],
   "source": [
    "genre_na = games_2006.pivot_table(index=['genre'],\n",
    "                                      values =['na_sales'],\n",
    "                                      aggfunc=sum)\\\n",
    ".reset_index().sort_values(by='na_sales', ascending=False).head(5)\n",
    "genre_na"
   ]
  },
  {
   "cell_type": "code",
   "execution_count": null,
   "id": "47129c41",
   "metadata": {},
   "outputs": [],
   "source": [
    "fig = plt.figure()\n",
    "ax1 = plt.subplot(121)\n",
    "ax2 = plt.subplot(122)\n",
    "ax1=genre_na.groupby(['genre']).sum().plot(kind='pie', y='na_sales',  ax=ax1)\n",
    "ax1.axis('equal')\n",
    "ax2=platform_na.groupby(['platform']).sum().plot(kind='pie', y='na_sales',  ax=ax2)\n",
    "ax2.axis('equal');"
   ]
  },
  {
   "cell_type": "markdown",
   "id": "2ffd93f2",
   "metadata": {},
   "source": [
    "#### Conclusion:\n",
    "In the North American market, X360 is the most popular platform followed by Wii and PS3 and the most popular genre are action, sports and shooter."
   ]
  },
  {
   "cell_type": "markdown",
   "id": "c6da95dc",
   "metadata": {},
   "source": [
    "### Europe"
   ]
  },
  {
   "cell_type": "code",
   "execution_count": null,
   "id": "97ffb7a6",
   "metadata": {},
   "outputs": [],
   "source": [
    "platform_eu = games_2006.pivot_table(index=['platform'],\n",
    "                                      values =['eu_sales'],\n",
    "                                      aggfunc=sum)\\\n",
    ".reset_index().sort_values(by='eu_sales', ascending=False).head(5)\n",
    "platform_eu"
   ]
  },
  {
   "cell_type": "code",
   "execution_count": null,
   "id": "e948e91f",
   "metadata": {},
   "outputs": [],
   "source": [
    "genre_eu = games_2006.pivot_table(index=['genre'],\n",
    "                                      values =['eu_sales'],\n",
    "                                      aggfunc=sum)\\\n",
    ".reset_index().sort_values(by='eu_sales', ascending=False).head(5)\n",
    "genre_eu"
   ]
  },
  {
   "cell_type": "code",
   "execution_count": null,
   "id": "b8d0cc6b",
   "metadata": {},
   "outputs": [],
   "source": [
    "fig = plt.figure()\n",
    "ax1 = plt.subplot(121)\n",
    "ax2 = plt.subplot(122)\n",
    "ax1=genre_eu.groupby(['genre']).sum().plot(kind='pie', y='eu_sales',  ax=ax1)\n",
    "ax1.axis('equal')\n",
    "ax2=platform_eu.groupby(['platform']).sum().plot(kind='pie', y='eu_sales',  ax=ax2)\n",
    "ax2.axis('equal');"
   ]
  },
  {
   "cell_type": "markdown",
   "id": "4e12afcf",
   "metadata": {},
   "source": [
    "#### Conclusion:\n",
    "In the European market again, X360 is the most popular platform followed by Wii and PS3 and the most popular genre are action, sports and shooter."
   ]
  },
  {
   "cell_type": "markdown",
   "id": "4e1a6e0d",
   "metadata": {},
   "source": [
    "### Japan"
   ]
  },
  {
   "cell_type": "code",
   "execution_count": null,
   "id": "42098d4a",
   "metadata": {},
   "outputs": [],
   "source": [
    "platform_jp = games_2006.pivot_table(index=['platform'],\n",
    "                                      values =['jp_sales'],\n",
    "                                      aggfunc=sum)\\\n",
    ".reset_index().sort_values(by='jp_sales', ascending=False).head(5)\n",
    "platform_jp"
   ]
  },
  {
   "cell_type": "code",
   "execution_count": null,
   "id": "59788685",
   "metadata": {},
   "outputs": [],
   "source": [
    "genre_jp = games_2006.pivot_table(index=['genre'],\n",
    "                                      values =['jp_sales'],\n",
    "                                      aggfunc=sum)\\\n",
    ".reset_index().sort_values(by='jp_sales', ascending=False).head(5)\n",
    "genre_jp"
   ]
  },
  {
   "cell_type": "code",
   "execution_count": null,
   "id": "cfa530e7",
   "metadata": {},
   "outputs": [],
   "source": [
    "fig = plt.figure()\n",
    "ax1 = plt.subplot(121)\n",
    "ax2 = plt.subplot(122)\n",
    "ax1=genre_jp.groupby(['genre']).sum().plot(kind='pie', y='jp_sales',  ax=ax1)\n",
    "ax1.axis('equal')\n",
    "ax2=platform_jp.groupby(['platform']).sum().plot(kind='pie', y='jp_sales',  ax=ax2)\n",
    "ax2.axis('equal');"
   ]
  },
  {
   "cell_type": "markdown",
   "id": "c8a864f9",
   "metadata": {},
   "source": [
    "#### Conclusion:\n",
    "In the Japanese market, 3DS is the most popular platform followed by Wii and PS3 and the most popular genre are actionand role-play."
   ]
  },
  {
   "cell_type": "markdown",
   "id": "9a95b6b3",
   "metadata": {},
   "source": [
    "### Other regions"
   ]
  },
  {
   "cell_type": "code",
   "execution_count": null,
   "id": "772896e5",
   "metadata": {},
   "outputs": [],
   "source": [
    "platform_other = games_2006.pivot_table(index=['platform'],\n",
    "                                      values =['other_sales'],\n",
    "                                      aggfunc=sum)\\\n",
    ".reset_index().sort_values(by='other_sales', ascending=False).head(5)\n",
    "platform_other"
   ]
  },
  {
   "cell_type": "code",
   "execution_count": null,
   "id": "11cde33c",
   "metadata": {},
   "outputs": [],
   "source": [
    "genre_other = games_2006.pivot_table(index=['genre'],\n",
    "                                      values =['other_sales'],\n",
    "                                      aggfunc=sum)\\\n",
    ".reset_index().sort_values(by='other_sales', ascending=False).head(5)\n",
    "genre_other"
   ]
  },
  {
   "cell_type": "code",
   "execution_count": null,
   "id": "80a32468",
   "metadata": {},
   "outputs": [],
   "source": [
    "fig = plt.figure()\n",
    "ax1 = plt.subplot(121)\n",
    "ax2 = plt.subplot(122)\n",
    "ax1=genre_other.groupby(['genre']).sum().plot(kind='pie', y='other_sales',  ax=ax1)\n",
    "ax1.axis('equal')\n",
    "ax2=platform_other.groupby(['platform']).sum().plot(kind='pie', y='other_sales',  ax=ax2)\n",
    "ax2.axis('equal');"
   ]
  },
  {
   "cell_type": "markdown",
   "id": "936e9f9b",
   "metadata": {},
   "source": [
    "#### Conclusion:\n",
    "In the rest of the world market, PS3 is the most popular platform followed by X360 and Wii and the most popular genre are action, sports and shooter."
   ]
  },
  {
   "cell_type": "markdown",
   "id": "2d0f3777",
   "metadata": {},
   "source": [
    "### Compare genre by region"
   ]
  },
  {
   "cell_type": "code",
   "execution_count": null,
   "id": "17f1d034",
   "metadata": {},
   "outputs": [],
   "source": [
    "fig = plt.figure()\n",
    "ax1 = plt.subplot(141)\n",
    "ax2 = plt.subplot(142)\n",
    "ax3 = plt.subplot(143)\n",
    "ax4 = plt.subplot(144)\n",
    "ax1=genre_na.groupby(['genre']).sum().plot(kind='pie', y='na_sales',  ax=ax1)\n",
    "ax1.axis('equal')\n",
    "ax2=genre_eu.groupby(['genre']).sum().plot(kind='pie', y='eu_sales',  ax=ax2)\n",
    "ax2.axis('equal')\n",
    "ax3=genre_jp.groupby(['genre']).sum().plot(kind='pie', y='jp_sales',  ax=ax3)\n",
    "ax3.axis('equal')\n",
    "ax4=genre_other.groupby(['genre']).sum().plot(kind='pie', y='other_sales',  ax=ax4)\n",
    "ax4.axis('equal');"
   ]
  },
  {
   "cell_type": "code",
   "execution_count": null,
   "id": "62193adb",
   "metadata": {},
   "outputs": [],
   "source": [
    "grouped_genre = greatest_genre.pivot_table(index=['genre'],\n",
    "                                      values =['na_sales', 'eu_sales', 'jp_sales', 'other_sales', 'total_sales'],\n",
    "                                      aggfunc=sum)\\\n",
    ".reset_index()\\\n",
    ".sort_values(by='total_sales', ascending=False)\n",
    "\n",
    "grouped_genre"
   ]
  },
  {
   "cell_type": "code",
   "execution_count": null,
   "id": "ad10ce2b",
   "metadata": {},
   "outputs": [],
   "source": [
    "grouped_genre.plot(x=\"genre\", y=[\n",
    "    'na_sales', 'eu_sales', 'jp_sales', 'other_sales'], kind=\"bar\");"
   ]
  },
  {
   "cell_type": "markdown",
   "id": "eb9457d7",
   "metadata": {},
   "source": [
    "#### Conclusion:\n",
    "The share of the north american market is the largest in the world in all genres followed by that of Europe.  Action is by far the most popular genre in in the world."
   ]
  },
  {
   "cell_type": "markdown",
   "id": "ed4fa27e",
   "metadata": {},
   "source": [
    "## Compare platforms per region"
   ]
  },
  {
   "cell_type": "code",
   "execution_count": null,
   "id": "b50f7ef0",
   "metadata": {},
   "outputs": [],
   "source": [
    "fig = plt.figure()\n",
    "ax1 = plt.subplot(141)\n",
    "ax2 = plt.subplot(142)\n",
    "ax3 = plt.subplot(143)\n",
    "ax4 = plt.subplot(144)\n",
    "ax1=platform_na.groupby(['platform']).sum().plot(kind='pie', y='na_sales',  ax=ax1)\n",
    "ax1.axis('equal')\n",
    "ax2=platform_eu.groupby(['platform']).sum().plot(kind='pie', y='eu_sales',  ax=ax2)\n",
    "ax2.axis('equal')\n",
    "ax3=platform_jp.groupby(['platform']).sum().plot(kind='pie', y='jp_sales',  ax=ax3)\n",
    "ax3.axis('equal')\n",
    "ax4=platform_other.groupby(['platform']).sum().plot(kind='pie', y='other_sales',  ax=ax4)\n",
    "ax4.axis('equal');"
   ]
  },
  {
   "cell_type": "code",
   "execution_count": null,
   "id": "398cd347",
   "metadata": {},
   "outputs": [],
   "source": [
    "grouped_platform = games_2006.pivot_table(index=['platform'],\n",
    "                                      values =['na_sales', 'eu_sales', 'jp_sales', 'other_sales', 'total_sales'],\n",
    "                                      aggfunc=sum)\\\n",
    ".reset_index()\\\n",
    ".sort_values(by='total_sales', ascending=False)"
   ]
  },
  {
   "cell_type": "code",
   "execution_count": null,
   "id": "5ce4b1a5",
   "metadata": {},
   "outputs": [],
   "source": [
    "grouped_platform.plot(x=\"platform\", y=[\n",
    "    'na_sales', 'eu_sales', 'jp_sales', 'other_sales'], kind=\"bar\");"
   ]
  },
  {
   "cell_type": "markdown",
   "id": "7b997c3c",
   "metadata": {},
   "source": [
    "### Conclusion\n",
    "The north American market of platform sales is the the highest in the world followed by that of Europe.  The share of PS3 and PS4 were the highest in the European region. "
   ]
  },
  {
   "cell_type": "markdown",
   "id": "d6a05550",
   "metadata": {},
   "source": [
    "## Effect of ESRB"
   ]
  },
  {
   "cell_type": "code",
   "execution_count": null,
   "id": "fc2eae09",
   "metadata": {},
   "outputs": [],
   "source": [
    "rating_region = games_2006.pivot_table(index=['rating'],\n",
    "                                      values =['na_sales', 'eu_sales', 'jp_sales', 'other_sales', 'total_sales'],\n",
    "                                      aggfunc=sum)\\\n",
    ".reset_index()\\\n",
    ".sort_values(by='total_sales', ascending=False)"
   ]
  },
  {
   "cell_type": "code",
   "execution_count": null,
   "id": "486338db",
   "metadata": {},
   "outputs": [],
   "source": [
    "\n",
    "corr = rating_region.corr()\n",
    "mask = np.zeros_like(corr, dtype=np.bool)\n",
    "mask[np.triu_indices_from(mask)]= True\n",
    "\n",
    "ax = sns.heatmap(\n",
    "    corr, \n",
    "    vmin=-1, vmax=1, center=0,\n",
    "    cmap=sns.diverging_palette(10, 220,  as_cmap=True),\n",
    "    square=True,\n",
    "    mask=mask,\n",
    "    annot=True,\n",
    "    annot_kws={\"size\": 7}\n",
    ")\n",
    "ax.set_xticklabels(\n",
    "    ax.get_xticklabels(),\n",
    "    rotation=45,\n",
    "    horizontalalignment='right'\n",
    ");"
   ]
  },
  {
   "cell_type": "markdown",
   "id": "f95110d9",
   "metadata": {},
   "source": [
    "### Conclusion:\n",
    "It does appear that ESRB rating with 50\\% na is more correlated with sales in the regions."
   ]
  },
  {
   "cell_type": "code",
   "execution_count": null,
   "id": "dc81be93",
   "metadata": {},
   "outputs": [],
   "source": [
    "rating_region.plot(x=\"rating\", y=['na_sales', 'eu_sales', 'jp_sales', 'other_sales'], kind=\"bar\");"
   ]
  },
  {
   "cell_type": "markdown",
   "id": "0f67f2ae",
   "metadata": {},
   "source": [
    "#### Conclusion:\n",
    "North american sales of rating M, E, T and E10+ are the highest followed European sales."
   ]
  },
  {
   "cell_type": "markdown",
   "id": "604beff1",
   "metadata": {},
   "source": [
    "### Using rating of ESRB encoded"
   ]
  },
  {
   "cell_type": "code",
   "execution_count": null,
   "id": "7ebc6229",
   "metadata": {},
   "outputs": [],
   "source": [
    "rating_region_mode = games_2006.pivot_table(index=['rating_na_filled_mode'],\n",
    "                                      values =['na_sales', 'eu_sales', 'jp_sales', 'other_sales', 'total_sales'],\n",
    "                                      aggfunc=sum)\\\n",
    ".reset_index()\\\n",
    ".sort_values(by='total_sales', ascending=False)\n",
    "\n",
    "rating_region_mode"
   ]
  },
  {
   "cell_type": "code",
   "execution_count": null,
   "id": "af3b6a8b",
   "metadata": {},
   "outputs": [],
   "source": [
    "\n",
    "plt.figure(figsize=(16, 6))\n",
    "\n",
    "\n",
    "corr = rating_region_mode.corr()\n",
    "mask = np.zeros_like(corr, dtype=np.bool)\n",
    "mask[np.triu_indices_from(mask)]= True\n",
    "\n",
    "ax = sns.heatmap(\n",
    "    corr, \n",
    "    vmin=-1, vmax=1, center=0,\n",
    "    cmap=sns.diverging_palette(10, 220,  as_cmap=True),\n",
    "    square=True,\n",
    "    mask=mask,\n",
    "    annot=True,\n",
    "    annot_kws={\"size\": 7}\n",
    ")\n",
    "ax.set_xticklabels(\n",
    "    ax.get_xticklabels(),\n",
    "    rotation=45,\n",
    "    horizontalalignment='right'\n",
    ");\n",
    "\n"
   ]
  },
  {
   "cell_type": "markdown",
   "id": "620b926c",
   "metadata": {},
   "source": [
    "### Conclusion\n",
    "The ESRB rating that was filled with the mode is moderately correlated with sales in all regions"
   ]
  },
  {
   "cell_type": "code",
   "execution_count": null,
   "id": "d34cb303",
   "metadata": {},
   "outputs": [],
   "source": [
    "rating_region_mode.plot(x=\"rating_na_filled_mode\", y=[\n",
    "    'na_sales', 'eu_sales', 'jp_sales', 'other_sales'], kind=\"bar\");"
   ]
  },
  {
   "cell_type": "markdown",
   "id": "8955cd7a",
   "metadata": {},
   "source": [
    "#### Conclusion:\n",
    "North American sales of E, T, M, E10+ are the highest, followed by Europe."
   ]
  },
  {
   "cell_type": "markdown",
   "id": "b2243ef6",
   "metadata": {},
   "source": [
    "# Hypothesis testing"
   ]
  },
  {
   "cell_type": "markdown",
   "id": "130213fa",
   "metadata": {},
   "source": [
    "## Platform"
   ]
  },
  {
   "cell_type": "markdown",
   "id": "121aaddc",
   "metadata": {},
   "source": [
    "### Check the normality of the user_score variable for both platforms"
   ]
  },
  {
   "cell_type": "code",
   "execution_count": null,
   "id": "a57a3e6e",
   "metadata": {},
   "outputs": [],
   "source": [
    "#import pingouin as pg\n",
    "pg.normality(XOne.user_score, method='normaltest')"
   ]
  },
  {
   "cell_type": "code",
   "execution_count": null,
   "id": "cc810c24",
   "metadata": {},
   "outputs": [],
   "source": [
    "pg.normality(PC.user_score, method='normaltest')"
   ]
  },
  {
   "cell_type": "markdown",
   "id": "8d2ac47d",
   "metadata": {},
   "source": [
    "#### Conclusion\n",
    "Since the variables are not normally distributed, I choose the levene test.  The null hypothesis is that the two samples originate from the same distribution and hence are similar.  The alternative is that they are different.  I choose the commonly used level of significance of alpha is 0.05.  That is the degree of error I accept is as low s 5\\%."
   ]
  },
  {
   "cell_type": "code",
   "execution_count": null,
   "id": "0dcbb855",
   "metadata": {},
   "outputs": [],
   "source": [
    "p_value_levene=st.levene(XOne.user_score, PC.user_score).pvalue.astype(int)\n",
    "if p_value_levene<0.05:\n",
    "    print('Reject H0: variance of sample 1 is not equal to variance of sample 2')\n",
    "else:\n",
    "    print( \"Fail to Reject H0: We don't have enough evidence to say that variances of sample 1 \\\n",
    "    and sample 2 are not the same\") "
   ]
  },
  {
   "cell_type": "markdown",
   "id": "592a41c4",
   "metadata": {},
   "source": [
    "I also do a ttest just for fun to compare."
   ]
  },
  {
   "cell_type": "code",
   "execution_count": null,
   "id": "71926e0d",
   "metadata": {},
   "outputs": [],
   "source": [
    "t, pval = ttest_ind(XOne.user_score, PC.user_score)\n",
    "\n",
    "print(\"p-values\" + str(pval))\n",
    "if pval < 0.05:    # alpha value is 0.05 or 5%\n",
    "    print(\"We are rejecting the null hypothesis\")\n",
    "else:\n",
    "    print(\"We are not rejecting the null hypothesis\")"
   ]
  },
  {
   "cell_type": "markdown",
   "id": "a8d61a98",
   "metadata": {},
   "source": [
    "## Genre"
   ]
  },
  {
   "cell_type": "code",
   "execution_count": null,
   "id": "1064c3f2",
   "metadata": {},
   "outputs": [],
   "source": [
    "genre_action = games_2006.query('genre == \"Action\"')"
   ]
  },
  {
   "cell_type": "code",
   "execution_count": null,
   "id": "3d447f7f",
   "metadata": {},
   "outputs": [],
   "source": [
    "genre_sports = games_2006.query('genre == \"Sports\"')"
   ]
  },
  {
   "cell_type": "code",
   "execution_count": null,
   "id": "7debaada",
   "metadata": {},
   "outputs": [],
   "source": [
    "pg.normality(genre_action.user_score, method='normaltest')"
   ]
  },
  {
   "cell_type": "code",
   "execution_count": null,
   "id": "83726757",
   "metadata": {},
   "outputs": [],
   "source": [
    "pg.normality(genre_sports.user_score, method='normaltest')"
   ]
  },
  {
   "cell_type": "markdown",
   "id": "aee7bb8b",
   "metadata": {},
   "source": [
    "#### Conclusion\n",
    "Since the variables are not normally distributed, I choose the levene test.  The null hypothesis is that the two samples originate from the same distribution and hence are similar.  The alternative is that they are different.  I choose the commonly used level of significance of alpha is 0.05.  That is the degree of error I accept is as low s 5\\%."
   ]
  },
  {
   "cell_type": "code",
   "execution_count": null,
   "id": "b6c7dbf2",
   "metadata": {},
   "outputs": [],
   "source": [
    "p_value_levene=st.levene(genre_action.user_score, genre_sports.user_score).pvalue.astype(int)\n",
    "if p_value_levene<0.05:\n",
    "    print('Reject H0: variance of sample 1 is not equal to variance of sample 2')\n",
    "else:\n",
    "    print( \"Fail to Reject H0: We don't have enough evidence to say that variances of sample 1 \\\n",
    "    and sample 2 are not the same\") "
   ]
  },
  {
   "cell_type": "code",
   "execution_count": null,
   "id": "920813f0",
   "metadata": {},
   "outputs": [],
   "source": [
    "t, pval = ttest_ind(genre_action.user_score, genre_sports.user_score)\n",
    "\n",
    "print(\"p-values\" + str(pval))\n",
    "if pval < 0.05:    # alpha value is 0.05 or 5%\n",
    "    print(\"We are rejecting the null hypothesis\")\n",
    "else:\n",
    "    print(\"We are not rejecting the null hypothesis\")"
   ]
  },
  {
   "cell_type": "markdown",
   "id": "7a506ae1",
   "metadata": {},
   "source": [
    "# General Conclusion:\n",
    "- Technology is as such that the lifespan of a platform is limited.  Of those platforms with greatest sales, the lifespan of current platform is longer than those who have been decommissioned.\n",
    "- The market for the platforms has been exponentially shrinking.\n",
    "- Games are released on several platforms at once.  \n",
    "- A  successful platform carries multiple genre at once.  Some are more successful than others.\n",
    "- There does not appear to be a genre niche market among the most successful platforms.  They all offer several genres.\n",
    "- Rating, be it user or critic rating, does not appear to have a great influence on sales.\n",
    "- ESRB rating does appear to be correlated with sales in every region.  However, because of the amount of missing values, this finding is questionable although a similar and less strong correlation was found with the missing values were repalced by the mode.\n",
    "- The North American market is the strongest in the world for platform sales.  \n",
    "- The most popular genre of games in the world is action.\n",
    "- Depending on whether we fill the nas in the ESRB rating or not, the most popular rating is either in this order (E,T,M) or in that order (M,E,T)\n",
    "- The user rating of the two platforms XOne and PC differ\n",
    "- The user rating of action and sports gener also differ."
   ]
  }
 ],
 "metadata": {
  "ExecuteTimeLog": [
   {
    "duration": 222,
    "start_time": "2022-03-22T15:27:25.740Z"
   },
   {
    "duration": 285,
    "start_time": "2022-03-22T15:51:13.224Z"
   },
   {
    "duration": 223,
    "start_time": "2022-03-22T16:43:25.775Z"
   },
   {
    "duration": 152,
    "start_time": "2022-03-24T07:02:24.487Z"
   },
   {
    "duration": 896,
    "start_time": "2022-03-24T07:02:29.812Z"
   },
   {
    "duration": 2371,
    "start_time": "2022-03-24T16:46:06.747Z"
   },
   {
    "duration": 1976,
    "start_time": "2022-03-24T16:46:14.536Z"
   },
   {
    "duration": 0,
    "start_time": "2022-03-24T16:46:16.523Z"
   },
   {
    "duration": 0,
    "start_time": "2022-03-24T16:46:16.524Z"
   },
   {
    "duration": 1,
    "start_time": "2022-03-24T16:46:16.526Z"
   },
   {
    "duration": 0,
    "start_time": "2022-03-24T16:46:16.528Z"
   },
   {
    "duration": 0,
    "start_time": "2022-03-24T16:46:16.531Z"
   },
   {
    "duration": 0,
    "start_time": "2022-03-24T16:46:16.533Z"
   },
   {
    "duration": 0,
    "start_time": "2022-03-24T16:46:16.535Z"
   },
   {
    "duration": 0,
    "start_time": "2022-03-24T16:46:16.537Z"
   },
   {
    "duration": 0,
    "start_time": "2022-03-24T16:46:16.540Z"
   },
   {
    "duration": 0,
    "start_time": "2022-03-24T16:46:16.542Z"
   },
   {
    "duration": 0,
    "start_time": "2022-03-24T16:46:16.544Z"
   },
   {
    "duration": 0,
    "start_time": "2022-03-24T16:46:16.575Z"
   },
   {
    "duration": 0,
    "start_time": "2022-03-24T16:46:16.577Z"
   },
   {
    "duration": 0,
    "start_time": "2022-03-24T16:46:16.579Z"
   },
   {
    "duration": 0,
    "start_time": "2022-03-24T16:46:16.582Z"
   },
   {
    "duration": 0,
    "start_time": "2022-03-24T16:46:16.584Z"
   },
   {
    "duration": 1,
    "start_time": "2022-03-24T16:46:16.586Z"
   },
   {
    "duration": 1,
    "start_time": "2022-03-24T16:46:16.588Z"
   },
   {
    "duration": 0,
    "start_time": "2022-03-24T16:46:16.591Z"
   },
   {
    "duration": 0,
    "start_time": "2022-03-24T16:46:16.592Z"
   },
   {
    "duration": 0,
    "start_time": "2022-03-24T16:46:16.593Z"
   },
   {
    "duration": 0,
    "start_time": "2022-03-24T16:46:16.595Z"
   },
   {
    "duration": 0,
    "start_time": "2022-03-24T16:46:16.597Z"
   },
   {
    "duration": 0,
    "start_time": "2022-03-24T16:46:16.599Z"
   },
   {
    "duration": 0,
    "start_time": "2022-03-24T16:46:16.600Z"
   },
   {
    "duration": 0,
    "start_time": "2022-03-24T16:46:16.601Z"
   },
   {
    "duration": 0,
    "start_time": "2022-03-24T16:46:16.603Z"
   },
   {
    "duration": 0,
    "start_time": "2022-03-24T16:46:16.604Z"
   },
   {
    "duration": 0,
    "start_time": "2022-03-24T16:46:16.606Z"
   },
   {
    "duration": 0,
    "start_time": "2022-03-24T16:46:16.607Z"
   },
   {
    "duration": 0,
    "start_time": "2022-03-24T16:46:16.609Z"
   },
   {
    "duration": 0,
    "start_time": "2022-03-24T16:46:16.674Z"
   },
   {
    "duration": 0,
    "start_time": "2022-03-24T16:46:16.675Z"
   },
   {
    "duration": 0,
    "start_time": "2022-03-24T16:46:16.677Z"
   },
   {
    "duration": 0,
    "start_time": "2022-03-24T16:46:16.678Z"
   },
   {
    "duration": 0,
    "start_time": "2022-03-24T16:46:16.680Z"
   },
   {
    "duration": 0,
    "start_time": "2022-03-24T16:46:16.682Z"
   },
   {
    "duration": 0,
    "start_time": "2022-03-24T16:46:16.683Z"
   },
   {
    "duration": 0,
    "start_time": "2022-03-24T16:46:16.685Z"
   },
   {
    "duration": 1,
    "start_time": "2022-03-24T16:46:16.686Z"
   },
   {
    "duration": 0,
    "start_time": "2022-03-24T16:46:16.688Z"
   },
   {
    "duration": 0,
    "start_time": "2022-03-24T16:46:16.689Z"
   },
   {
    "duration": 0,
    "start_time": "2022-03-24T16:46:16.691Z"
   },
   {
    "duration": 0,
    "start_time": "2022-03-24T16:46:16.693Z"
   },
   {
    "duration": 0,
    "start_time": "2022-03-24T16:46:16.694Z"
   },
   {
    "duration": 0,
    "start_time": "2022-03-24T16:46:16.696Z"
   },
   {
    "duration": 0,
    "start_time": "2022-03-24T16:46:16.697Z"
   },
   {
    "duration": 0,
    "start_time": "2022-03-24T16:46:16.698Z"
   },
   {
    "duration": 1,
    "start_time": "2022-03-24T16:46:16.699Z"
   },
   {
    "duration": 0,
    "start_time": "2022-03-24T16:46:16.701Z"
   },
   {
    "duration": 0,
    "start_time": "2022-03-24T16:46:16.702Z"
   },
   {
    "duration": 0,
    "start_time": "2022-03-24T16:46:16.703Z"
   },
   {
    "duration": 0,
    "start_time": "2022-03-24T16:46:16.705Z"
   },
   {
    "duration": 0,
    "start_time": "2022-03-24T16:46:16.706Z"
   },
   {
    "duration": 0,
    "start_time": "2022-03-24T16:46:16.707Z"
   },
   {
    "duration": 0,
    "start_time": "2022-03-24T16:46:16.709Z"
   },
   {
    "duration": 0,
    "start_time": "2022-03-24T16:46:16.774Z"
   },
   {
    "duration": 0,
    "start_time": "2022-03-24T16:46:16.776Z"
   },
   {
    "duration": 0,
    "start_time": "2022-03-24T16:46:16.778Z"
   },
   {
    "duration": 0,
    "start_time": "2022-03-24T16:46:16.779Z"
   },
   {
    "duration": 0,
    "start_time": "2022-03-24T16:46:16.781Z"
   },
   {
    "duration": 0,
    "start_time": "2022-03-24T16:46:16.783Z"
   },
   {
    "duration": 0,
    "start_time": "2022-03-24T16:46:16.784Z"
   },
   {
    "duration": 0,
    "start_time": "2022-03-24T16:46:16.786Z"
   },
   {
    "duration": 0,
    "start_time": "2022-03-24T16:46:16.788Z"
   },
   {
    "duration": 0,
    "start_time": "2022-03-24T16:46:16.789Z"
   },
   {
    "duration": 0,
    "start_time": "2022-03-24T16:46:16.791Z"
   },
   {
    "duration": 0,
    "start_time": "2022-03-24T16:46:16.793Z"
   },
   {
    "duration": 0,
    "start_time": "2022-03-24T16:46:16.794Z"
   },
   {
    "duration": 0,
    "start_time": "2022-03-24T16:46:16.796Z"
   },
   {
    "duration": 0,
    "start_time": "2022-03-24T16:46:16.797Z"
   },
   {
    "duration": 0,
    "start_time": "2022-03-24T16:46:16.799Z"
   },
   {
    "duration": 0,
    "start_time": "2022-03-24T16:46:16.800Z"
   },
   {
    "duration": 0,
    "start_time": "2022-03-24T16:46:16.802Z"
   },
   {
    "duration": 0,
    "start_time": "2022-03-24T16:46:16.804Z"
   },
   {
    "duration": 0,
    "start_time": "2022-03-24T16:46:16.805Z"
   },
   {
    "duration": 0,
    "start_time": "2022-03-24T16:46:16.807Z"
   },
   {
    "duration": 0,
    "start_time": "2022-03-24T16:46:16.809Z"
   },
   {
    "duration": 0,
    "start_time": "2022-03-24T16:46:16.874Z"
   },
   {
    "duration": 0,
    "start_time": "2022-03-24T16:46:16.876Z"
   },
   {
    "duration": 0,
    "start_time": "2022-03-24T16:46:16.877Z"
   },
   {
    "duration": 0,
    "start_time": "2022-03-24T16:46:16.879Z"
   },
   {
    "duration": 0,
    "start_time": "2022-03-24T16:46:16.881Z"
   },
   {
    "duration": 0,
    "start_time": "2022-03-24T16:46:16.882Z"
   },
   {
    "duration": 0,
    "start_time": "2022-03-24T16:46:16.884Z"
   },
   {
    "duration": 0,
    "start_time": "2022-03-24T16:46:16.885Z"
   },
   {
    "duration": 0,
    "start_time": "2022-03-24T16:46:16.887Z"
   },
   {
    "duration": 0,
    "start_time": "2022-03-24T16:46:16.888Z"
   },
   {
    "duration": 0,
    "start_time": "2022-03-24T16:46:16.889Z"
   },
   {
    "duration": 0,
    "start_time": "2022-03-24T16:46:16.891Z"
   },
   {
    "duration": 0,
    "start_time": "2022-03-24T16:46:16.892Z"
   },
   {
    "duration": 0,
    "start_time": "2022-03-24T16:46:16.894Z"
   },
   {
    "duration": 0,
    "start_time": "2022-03-24T16:46:16.895Z"
   },
   {
    "duration": 0,
    "start_time": "2022-03-24T16:46:16.897Z"
   },
   {
    "duration": 0,
    "start_time": "2022-03-24T16:46:16.898Z"
   },
   {
    "duration": 0,
    "start_time": "2022-03-24T16:46:16.900Z"
   },
   {
    "duration": 0,
    "start_time": "2022-03-24T16:46:16.901Z"
   },
   {
    "duration": 0,
    "start_time": "2022-03-24T16:46:16.903Z"
   },
   {
    "duration": 0,
    "start_time": "2022-03-24T16:46:16.904Z"
   },
   {
    "duration": 0,
    "start_time": "2022-03-24T16:46:16.906Z"
   },
   {
    "duration": 0,
    "start_time": "2022-03-24T16:46:16.908Z"
   },
   {
    "duration": 0,
    "start_time": "2022-03-24T16:46:16.909Z"
   },
   {
    "duration": 0,
    "start_time": "2022-03-24T16:46:16.974Z"
   },
   {
    "duration": 0,
    "start_time": "2022-03-24T16:46:16.976Z"
   },
   {
    "duration": 0,
    "start_time": "2022-03-24T16:46:16.979Z"
   },
   {
    "duration": 0,
    "start_time": "2022-03-24T16:46:16.981Z"
   },
   {
    "duration": 0,
    "start_time": "2022-03-24T16:46:16.982Z"
   },
   {
    "duration": 0,
    "start_time": "2022-03-24T16:46:16.984Z"
   },
   {
    "duration": 0,
    "start_time": "2022-03-24T16:46:16.985Z"
   },
   {
    "duration": 0,
    "start_time": "2022-03-24T16:46:16.987Z"
   },
   {
    "duration": 0,
    "start_time": "2022-03-24T16:46:16.988Z"
   },
   {
    "duration": 0,
    "start_time": "2022-03-24T16:46:16.990Z"
   },
   {
    "duration": 0,
    "start_time": "2022-03-24T16:46:16.991Z"
   },
   {
    "duration": 0,
    "start_time": "2022-03-24T16:46:16.992Z"
   },
   {
    "duration": 0,
    "start_time": "2022-03-24T16:46:16.993Z"
   },
   {
    "duration": 0,
    "start_time": "2022-03-24T16:46:16.995Z"
   },
   {
    "duration": 0,
    "start_time": "2022-03-24T16:46:16.997Z"
   },
   {
    "duration": 0,
    "start_time": "2022-03-24T16:46:16.998Z"
   },
   {
    "duration": 0,
    "start_time": "2022-03-24T16:46:17.000Z"
   },
   {
    "duration": 0,
    "start_time": "2022-03-24T16:46:17.001Z"
   },
   {
    "duration": 0,
    "start_time": "2022-03-24T16:46:17.003Z"
   },
   {
    "duration": 0,
    "start_time": "2022-03-24T16:46:17.005Z"
   },
   {
    "duration": 0,
    "start_time": "2022-03-24T16:46:17.006Z"
   },
   {
    "duration": 0,
    "start_time": "2022-03-24T16:46:17.007Z"
   },
   {
    "duration": 0,
    "start_time": "2022-03-24T16:46:17.009Z"
   },
   {
    "duration": 0,
    "start_time": "2022-03-24T16:46:17.010Z"
   },
   {
    "duration": 0,
    "start_time": "2022-03-24T16:46:17.076Z"
   },
   {
    "duration": 0,
    "start_time": "2022-03-24T16:46:17.078Z"
   },
   {
    "duration": 0,
    "start_time": "2022-03-24T16:46:17.080Z"
   },
   {
    "duration": 0,
    "start_time": "2022-03-24T16:46:17.081Z"
   },
   {
    "duration": 0,
    "start_time": "2022-03-24T16:46:17.083Z"
   },
   {
    "duration": 0,
    "start_time": "2022-03-24T16:46:17.085Z"
   },
   {
    "duration": 0,
    "start_time": "2022-03-24T16:46:17.087Z"
   },
   {
    "duration": 0,
    "start_time": "2022-03-24T16:46:17.088Z"
   },
   {
    "duration": 1,
    "start_time": "2022-03-24T16:46:17.089Z"
   },
   {
    "duration": 0,
    "start_time": "2022-03-24T16:46:17.091Z"
   },
   {
    "duration": 0,
    "start_time": "2022-03-24T16:46:17.092Z"
   },
   {
    "duration": 0,
    "start_time": "2022-03-24T16:46:17.094Z"
   },
   {
    "duration": 0,
    "start_time": "2022-03-24T16:46:17.095Z"
   },
   {
    "duration": 0,
    "start_time": "2022-03-24T16:46:17.097Z"
   },
   {
    "duration": 0,
    "start_time": "2022-03-24T16:46:17.099Z"
   },
   {
    "duration": 0,
    "start_time": "2022-03-24T16:46:17.101Z"
   },
   {
    "duration": 0,
    "start_time": "2022-03-24T16:46:17.104Z"
   },
   {
    "duration": 12342,
    "start_time": "2022-03-24T16:46:30.751Z"
   },
   {
    "duration": 0,
    "start_time": "2022-03-24T16:46:43.104Z"
   },
   {
    "duration": 0,
    "start_time": "2022-03-24T16:46:43.105Z"
   },
   {
    "duration": 0,
    "start_time": "2022-03-24T16:46:43.107Z"
   },
   {
    "duration": 0,
    "start_time": "2022-03-24T16:46:43.108Z"
   },
   {
    "duration": 0,
    "start_time": "2022-03-24T16:46:43.110Z"
   },
   {
    "duration": 0,
    "start_time": "2022-03-24T16:46:43.112Z"
   },
   {
    "duration": 0,
    "start_time": "2022-03-24T16:46:43.113Z"
   },
   {
    "duration": 0,
    "start_time": "2022-03-24T16:46:43.115Z"
   },
   {
    "duration": 0,
    "start_time": "2022-03-24T16:46:43.117Z"
   },
   {
    "duration": 0,
    "start_time": "2022-03-24T16:46:43.119Z"
   },
   {
    "duration": 0,
    "start_time": "2022-03-24T16:46:43.122Z"
   },
   {
    "duration": 0,
    "start_time": "2022-03-24T16:46:43.123Z"
   },
   {
    "duration": 0,
    "start_time": "2022-03-24T16:46:43.125Z"
   },
   {
    "duration": 0,
    "start_time": "2022-03-24T16:46:43.126Z"
   },
   {
    "duration": 0,
    "start_time": "2022-03-24T16:46:43.129Z"
   },
   {
    "duration": 0,
    "start_time": "2022-03-24T16:46:43.131Z"
   },
   {
    "duration": 0,
    "start_time": "2022-03-24T16:46:43.174Z"
   },
   {
    "duration": 0,
    "start_time": "2022-03-24T16:46:43.176Z"
   },
   {
    "duration": 0,
    "start_time": "2022-03-24T16:46:43.178Z"
   },
   {
    "duration": 0,
    "start_time": "2022-03-24T16:46:43.179Z"
   },
   {
    "duration": 0,
    "start_time": "2022-03-24T16:46:43.181Z"
   },
   {
    "duration": 0,
    "start_time": "2022-03-24T16:46:43.183Z"
   },
   {
    "duration": 0,
    "start_time": "2022-03-24T16:46:43.185Z"
   },
   {
    "duration": 0,
    "start_time": "2022-03-24T16:46:43.188Z"
   },
   {
    "duration": 0,
    "start_time": "2022-03-24T16:46:43.190Z"
   },
   {
    "duration": 0,
    "start_time": "2022-03-24T16:46:43.193Z"
   },
   {
    "duration": 0,
    "start_time": "2022-03-24T16:46:43.194Z"
   },
   {
    "duration": 0,
    "start_time": "2022-03-24T16:46:43.197Z"
   },
   {
    "duration": 0,
    "start_time": "2022-03-24T16:46:43.199Z"
   },
   {
    "duration": 0,
    "start_time": "2022-03-24T16:46:43.201Z"
   },
   {
    "duration": 0,
    "start_time": "2022-03-24T16:46:43.203Z"
   },
   {
    "duration": 0,
    "start_time": "2022-03-24T16:46:43.205Z"
   },
   {
    "duration": 0,
    "start_time": "2022-03-24T16:46:43.207Z"
   },
   {
    "duration": 0,
    "start_time": "2022-03-24T16:46:43.209Z"
   },
   {
    "duration": 0,
    "start_time": "2022-03-24T16:46:43.211Z"
   },
   {
    "duration": 0,
    "start_time": "2022-03-24T16:46:43.213Z"
   },
   {
    "duration": 1,
    "start_time": "2022-03-24T16:46:43.276Z"
   },
   {
    "duration": 0,
    "start_time": "2022-03-24T16:46:43.278Z"
   },
   {
    "duration": 0,
    "start_time": "2022-03-24T16:46:43.280Z"
   },
   {
    "duration": 0,
    "start_time": "2022-03-24T16:46:43.281Z"
   },
   {
    "duration": 0,
    "start_time": "2022-03-24T16:46:43.283Z"
   },
   {
    "duration": 0,
    "start_time": "2022-03-24T16:46:43.284Z"
   },
   {
    "duration": 0,
    "start_time": "2022-03-24T16:46:43.286Z"
   },
   {
    "duration": 0,
    "start_time": "2022-03-24T16:46:43.287Z"
   },
   {
    "duration": 0,
    "start_time": "2022-03-24T16:46:43.288Z"
   },
   {
    "duration": 0,
    "start_time": "2022-03-24T16:46:43.289Z"
   },
   {
    "duration": 0,
    "start_time": "2022-03-24T16:46:43.290Z"
   },
   {
    "duration": 0,
    "start_time": "2022-03-24T16:46:43.292Z"
   },
   {
    "duration": 0,
    "start_time": "2022-03-24T16:46:43.294Z"
   },
   {
    "duration": 0,
    "start_time": "2022-03-24T16:46:43.295Z"
   },
   {
    "duration": 0,
    "start_time": "2022-03-24T16:46:43.296Z"
   },
   {
    "duration": 0,
    "start_time": "2022-03-24T16:46:43.297Z"
   },
   {
    "duration": 0,
    "start_time": "2022-03-24T16:46:43.300Z"
   },
   {
    "duration": 0,
    "start_time": "2022-03-24T16:46:43.303Z"
   },
   {
    "duration": 0,
    "start_time": "2022-03-24T16:46:43.305Z"
   },
   {
    "duration": 0,
    "start_time": "2022-03-24T16:46:43.307Z"
   },
   {
    "duration": 0,
    "start_time": "2022-03-24T16:46:43.309Z"
   },
   {
    "duration": 0,
    "start_time": "2022-03-24T16:46:43.311Z"
   },
   {
    "duration": 0,
    "start_time": "2022-03-24T16:46:43.313Z"
   },
   {
    "duration": 0,
    "start_time": "2022-03-24T16:46:43.374Z"
   },
   {
    "duration": 0,
    "start_time": "2022-03-24T16:46:43.376Z"
   },
   {
    "duration": 0,
    "start_time": "2022-03-24T16:46:43.379Z"
   },
   {
    "duration": 0,
    "start_time": "2022-03-24T16:46:43.382Z"
   },
   {
    "duration": 0,
    "start_time": "2022-03-24T16:46:43.383Z"
   },
   {
    "duration": 0,
    "start_time": "2022-03-24T16:46:43.385Z"
   },
   {
    "duration": 0,
    "start_time": "2022-03-24T16:46:43.386Z"
   },
   {
    "duration": 0,
    "start_time": "2022-03-24T16:46:43.387Z"
   },
   {
    "duration": 0,
    "start_time": "2022-03-24T16:46:43.389Z"
   },
   {
    "duration": 0,
    "start_time": "2022-03-24T16:46:43.390Z"
   },
   {
    "duration": 0,
    "start_time": "2022-03-24T16:46:43.392Z"
   },
   {
    "duration": 0,
    "start_time": "2022-03-24T16:46:43.394Z"
   },
   {
    "duration": 0,
    "start_time": "2022-03-24T16:46:43.395Z"
   },
   {
    "duration": 1,
    "start_time": "2022-03-24T16:46:43.396Z"
   },
   {
    "duration": 0,
    "start_time": "2022-03-24T16:46:43.399Z"
   },
   {
    "duration": 0,
    "start_time": "2022-03-24T16:46:43.401Z"
   },
   {
    "duration": 0,
    "start_time": "2022-03-24T16:46:43.403Z"
   },
   {
    "duration": 0,
    "start_time": "2022-03-24T16:46:43.405Z"
   },
   {
    "duration": 0,
    "start_time": "2022-03-24T16:46:43.406Z"
   },
   {
    "duration": 0,
    "start_time": "2022-03-24T16:46:43.408Z"
   },
   {
    "duration": 0,
    "start_time": "2022-03-24T16:46:43.410Z"
   },
   {
    "duration": 0,
    "start_time": "2022-03-24T16:46:43.411Z"
   },
   {
    "duration": 0,
    "start_time": "2022-03-24T16:46:43.473Z"
   },
   {
    "duration": 0,
    "start_time": "2022-03-24T16:46:43.475Z"
   },
   {
    "duration": 0,
    "start_time": "2022-03-24T16:46:43.477Z"
   },
   {
    "duration": 0,
    "start_time": "2022-03-24T16:46:43.478Z"
   },
   {
    "duration": 0,
    "start_time": "2022-03-24T16:46:43.480Z"
   },
   {
    "duration": 1,
    "start_time": "2022-03-24T16:46:43.482Z"
   },
   {
    "duration": 0,
    "start_time": "2022-03-24T16:46:43.485Z"
   },
   {
    "duration": 0,
    "start_time": "2022-03-24T16:46:43.486Z"
   },
   {
    "duration": 0,
    "start_time": "2022-03-24T16:46:43.487Z"
   },
   {
    "duration": 0,
    "start_time": "2022-03-24T16:46:43.489Z"
   },
   {
    "duration": 0,
    "start_time": "2022-03-24T16:46:43.490Z"
   },
   {
    "duration": 0,
    "start_time": "2022-03-24T16:46:43.492Z"
   },
   {
    "duration": 0,
    "start_time": "2022-03-24T16:46:43.494Z"
   },
   {
    "duration": 0,
    "start_time": "2022-03-24T16:46:43.495Z"
   },
   {
    "duration": 0,
    "start_time": "2022-03-24T16:46:43.497Z"
   },
   {
    "duration": 0,
    "start_time": "2022-03-24T16:46:43.498Z"
   },
   {
    "duration": 0,
    "start_time": "2022-03-24T16:46:43.499Z"
   },
   {
    "duration": 0,
    "start_time": "2022-03-24T16:46:43.501Z"
   },
   {
    "duration": 0,
    "start_time": "2022-03-24T16:46:43.503Z"
   },
   {
    "duration": 0,
    "start_time": "2022-03-24T16:46:43.504Z"
   },
   {
    "duration": 0,
    "start_time": "2022-03-24T16:46:43.506Z"
   },
   {
    "duration": 0,
    "start_time": "2022-03-24T16:46:43.507Z"
   },
   {
    "duration": 0,
    "start_time": "2022-03-24T16:46:43.509Z"
   },
   {
    "duration": 0,
    "start_time": "2022-03-24T16:46:43.510Z"
   },
   {
    "duration": 0,
    "start_time": "2022-03-24T16:46:43.511Z"
   },
   {
    "duration": 0,
    "start_time": "2022-03-24T16:46:43.513Z"
   },
   {
    "duration": 0,
    "start_time": "2022-03-24T16:46:43.514Z"
   },
   {
    "duration": 0,
    "start_time": "2022-03-24T16:46:43.574Z"
   },
   {
    "duration": 0,
    "start_time": "2022-03-24T16:46:43.576Z"
   },
   {
    "duration": 0,
    "start_time": "2022-03-24T16:46:43.577Z"
   },
   {
    "duration": 0,
    "start_time": "2022-03-24T16:46:43.578Z"
   },
   {
    "duration": 0,
    "start_time": "2022-03-24T16:46:43.580Z"
   },
   {
    "duration": 0,
    "start_time": "2022-03-24T16:46:43.582Z"
   },
   {
    "duration": 0,
    "start_time": "2022-03-24T16:46:43.584Z"
   },
   {
    "duration": 0,
    "start_time": "2022-03-24T16:46:43.585Z"
   },
   {
    "duration": 0,
    "start_time": "2022-03-24T16:46:43.587Z"
   },
   {
    "duration": 0,
    "start_time": "2022-03-24T16:46:43.588Z"
   },
   {
    "duration": 0,
    "start_time": "2022-03-24T16:46:43.589Z"
   },
   {
    "duration": 0,
    "start_time": "2022-03-24T16:46:43.591Z"
   },
   {
    "duration": 0,
    "start_time": "2022-03-24T16:46:43.592Z"
   },
   {
    "duration": 0,
    "start_time": "2022-03-24T16:46:43.593Z"
   },
   {
    "duration": 0,
    "start_time": "2022-03-24T16:46:43.595Z"
   },
   {
    "duration": 1,
    "start_time": "2022-03-24T16:46:43.596Z"
   },
   {
    "duration": 0,
    "start_time": "2022-03-24T16:46:43.598Z"
   },
   {
    "duration": 0,
    "start_time": "2022-03-24T16:46:43.601Z"
   },
   {
    "duration": 0,
    "start_time": "2022-03-24T16:46:43.603Z"
   },
   {
    "duration": 0,
    "start_time": "2022-03-24T16:46:43.605Z"
   },
   {
    "duration": 0,
    "start_time": "2022-03-24T16:46:43.607Z"
   },
   {
    "duration": 0,
    "start_time": "2022-03-24T16:46:43.609Z"
   },
   {
    "duration": 0,
    "start_time": "2022-03-24T16:46:43.674Z"
   },
   {
    "duration": 0,
    "start_time": "2022-03-24T16:46:43.677Z"
   },
   {
    "duration": 0,
    "start_time": "2022-03-24T16:46:43.679Z"
   },
   {
    "duration": 0,
    "start_time": "2022-03-24T16:46:43.681Z"
   },
   {
    "duration": 0,
    "start_time": "2022-03-24T16:46:43.683Z"
   },
   {
    "duration": 0,
    "start_time": "2022-03-24T16:46:43.685Z"
   },
   {
    "duration": 0,
    "start_time": "2022-03-24T16:46:43.688Z"
   },
   {
    "duration": 0,
    "start_time": "2022-03-24T16:46:43.689Z"
   },
   {
    "duration": 0,
    "start_time": "2022-03-24T16:46:43.692Z"
   },
   {
    "duration": 0,
    "start_time": "2022-03-24T16:46:43.694Z"
   },
   {
    "duration": 0,
    "start_time": "2022-03-24T16:46:43.696Z"
   },
   {
    "duration": 0,
    "start_time": "2022-03-24T16:46:43.699Z"
   },
   {
    "duration": 0,
    "start_time": "2022-03-24T16:46:43.700Z"
   }
  ],
  "kernelspec": {
   "display_name": "Python 3 (ipykernel)",
   "language": "python",
   "name": "python3"
  },
  "language_info": {
   "codemirror_mode": {
    "name": "ipython",
    "version": 3
   },
   "file_extension": ".py",
   "mimetype": "text/x-python",
   "name": "python",
   "nbconvert_exporter": "python",
   "pygments_lexer": "ipython3",
   "version": "3.9.7"
  },
  "toc": {
   "base_numbering": 1,
   "nav_menu": {},
   "number_sections": true,
   "sideBar": true,
   "skip_h1_title": false,
   "title_cell": "Table of Contents",
   "title_sidebar": "Contents",
   "toc_cell": false,
   "toc_position": {},
   "toc_section_display": true,
   "toc_window_display": true
  }
 },
 "nbformat": 4,
 "nbformat_minor": 5
}
